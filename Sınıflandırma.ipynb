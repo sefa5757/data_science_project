{
 "cells": [
  {
   "cell_type": "code",
   "execution_count": 1,
   "id": "c4edf04d-c1cc-4a18-a6f3-5d79dfa316db",
   "metadata": {},
   "outputs": [
    {
     "data": {
      "text/html": [
       "<div>\n",
       "<style scoped>\n",
       "    .dataframe tbody tr th:only-of-type {\n",
       "        vertical-align: middle;\n",
       "    }\n",
       "\n",
       "    .dataframe tbody tr th {\n",
       "        vertical-align: top;\n",
       "    }\n",
       "\n",
       "    .dataframe thead th {\n",
       "        text-align: right;\n",
       "    }\n",
       "</style>\n",
       "<table border=\"1\" class=\"dataframe\">\n",
       "  <thead>\n",
       "    <tr style=\"text-align: right;\">\n",
       "      <th></th>\n",
       "      <th>id</th>\n",
       "      <th>Area</th>\n",
       "      <th>MajorAxisLength</th>\n",
       "      <th>MinorAxisLength</th>\n",
       "      <th>Eccentricity</th>\n",
       "      <th>ConvexArea</th>\n",
       "      <th>EquivDiameter</th>\n",
       "      <th>Extent</th>\n",
       "      <th>Perimeter</th>\n",
       "      <th>Roundness</th>\n",
       "      <th>AspectRation</th>\n",
       "      <th>Class</th>\n",
       "    </tr>\n",
       "  </thead>\n",
       "  <tbody>\n",
       "    <tr>\n",
       "      <th>0</th>\n",
       "      <td>1</td>\n",
       "      <td>4537</td>\n",
       "      <td>92.229316</td>\n",
       "      <td>64.012769</td>\n",
       "      <td>0.719916</td>\n",
       "      <td>4677</td>\n",
       "      <td>76.004525</td>\n",
       "      <td>0.657536</td>\n",
       "      <td>273.085</td>\n",
       "      <td>0.764510</td>\n",
       "      <td>1.440796</td>\n",
       "      <td>1</td>\n",
       "    </tr>\n",
       "    <tr>\n",
       "      <th>1</th>\n",
       "      <td>2</td>\n",
       "      <td>2872</td>\n",
       "      <td>74.691881</td>\n",
       "      <td>51.400454</td>\n",
       "      <td>0.725553</td>\n",
       "      <td>3015</td>\n",
       "      <td>60.471018</td>\n",
       "      <td>0.713009</td>\n",
       "      <td>208.317</td>\n",
       "      <td>0.831658</td>\n",
       "      <td>1.453137</td>\n",
       "      <td>1</td>\n",
       "    </tr>\n",
       "    <tr>\n",
       "      <th>2</th>\n",
       "      <td>3</td>\n",
       "      <td>3048</td>\n",
       "      <td>76.293164</td>\n",
       "      <td>52.043491</td>\n",
       "      <td>0.731211</td>\n",
       "      <td>3132</td>\n",
       "      <td>62.296341</td>\n",
       "      <td>0.759153</td>\n",
       "      <td>210.012</td>\n",
       "      <td>0.868434</td>\n",
       "      <td>1.465950</td>\n",
       "      <td>1</td>\n",
       "    </tr>\n",
       "    <tr>\n",
       "      <th>3</th>\n",
       "      <td>4</td>\n",
       "      <td>3073</td>\n",
       "      <td>77.033628</td>\n",
       "      <td>51.928487</td>\n",
       "      <td>0.738639</td>\n",
       "      <td>3157</td>\n",
       "      <td>62.551300</td>\n",
       "      <td>0.783529</td>\n",
       "      <td>210.657</td>\n",
       "      <td>0.870203</td>\n",
       "      <td>1.483456</td>\n",
       "      <td>1</td>\n",
       "    </tr>\n",
       "    <tr>\n",
       "      <th>4</th>\n",
       "      <td>5</td>\n",
       "      <td>3693</td>\n",
       "      <td>85.124785</td>\n",
       "      <td>56.374021</td>\n",
       "      <td>0.749282</td>\n",
       "      <td>3802</td>\n",
       "      <td>68.571668</td>\n",
       "      <td>0.769375</td>\n",
       "      <td>230.332</td>\n",
       "      <td>0.874743</td>\n",
       "      <td>1.510000</td>\n",
       "      <td>1</td>\n",
       "    </tr>\n",
       "  </tbody>\n",
       "</table>\n",
       "</div>"
      ],
      "text/plain": [
       "   id  Area  MajorAxisLength  MinorAxisLength  Eccentricity  ConvexArea  \\\n",
       "0   1  4537        92.229316        64.012769      0.719916        4677   \n",
       "1   2  2872        74.691881        51.400454      0.725553        3015   \n",
       "2   3  3048        76.293164        52.043491      0.731211        3132   \n",
       "3   4  3073        77.033628        51.928487      0.738639        3157   \n",
       "4   5  3693        85.124785        56.374021      0.749282        3802   \n",
       "\n",
       "   EquivDiameter    Extent  Perimeter  Roundness  AspectRation  Class  \n",
       "0      76.004525  0.657536    273.085   0.764510      1.440796      1  \n",
       "1      60.471018  0.713009    208.317   0.831658      1.453137      1  \n",
       "2      62.296341  0.759153    210.012   0.868434      1.465950      1  \n",
       "3      62.551300  0.783529    210.657   0.870203      1.483456      1  \n",
       "4      68.571668  0.769375    230.332   0.874743      1.510000      1  "
      ]
     },
     "execution_count": 1,
     "metadata": {},
     "output_type": "execute_result"
    }
   ],
   "source": [
    "import numpy as np\n",
    "import pandas as pd\n",
    "import missingno as msno\n",
    "import matplotlib.pyplot as plt\n",
    "import seaborn as sns\n",
    "from sklearn.metrics import confusion_matrix, accuracy_score, classification_report\n",
    "from sklearn.metrics import roc_auc_score,roc_curve\n",
    "from sklearn.model_selection import train_test_split, GridSearchCV, cross_val_score\n",
    "from sklearn.naive_bayes import GaussianNB\n",
    "from sklearn.neighbors import KNeighborsClassifier\n",
    "from sklearn.svm import SVC\n",
    "from sklearn.preprocessing import StandardScaler  \n",
    "from sklearn.neural_network import MLPClassifier\n",
    "from sklearn.tree import DecisionTreeClassifier\n",
    "from catboost import CatBoostClassifier\n",
    "from sklearn import tree\n",
    "from sklearn.ensemble import RandomForestClassifier\n",
    "ad = pd.read_csv(\"riceClassification.csv\")\n",
    "df = ad.copy()\n",
    "df.head()\n"
   ]
  },
  {
   "cell_type": "code",
   "execution_count": 2,
   "id": "4edd7f52-c0ca-4906-8199-91a0efa9e32b",
   "metadata": {},
   "outputs": [],
   "source": [
    "#Kütüphaneler tanımlandı ver head methodu ile geri seti gözlemlendi."
   ]
  },
  {
   "cell_type": "code",
   "execution_count": 3,
   "id": "ae4faecf-8d6b-45c7-9de7-963c6f7c1f7e",
   "metadata": {},
   "outputs": [
    {
     "data": {
      "text/plain": [
       "Index(['id', 'Area', 'MajorAxisLength', 'MinorAxisLength', 'Eccentricity',\n",
       "       'ConvexArea', 'EquivDiameter', 'Extent', 'Perimeter', 'Roundness',\n",
       "       'AspectRation', 'Class'],\n",
       "      dtype='object')"
      ]
     },
     "execution_count": 3,
     "metadata": {},
     "output_type": "execute_result"
    }
   ],
   "source": [
    "df.columns"
   ]
  },
  {
   "cell_type": "code",
   "execution_count": 4,
   "id": "68aa39ee-269c-43cf-8104-1e4d047b3dc0",
   "metadata": {},
   "outputs": [
    {
     "data": {
      "text/plain": [
       "(18185, 12)"
      ]
     },
     "execution_count": 4,
     "metadata": {},
     "output_type": "execute_result"
    }
   ],
   "source": [
    "df.shape"
   ]
  },
  {
   "cell_type": "code",
   "execution_count": 5,
   "id": "8b1ffff3-928b-49eb-8571-f0146115db96",
   "metadata": {},
   "outputs": [
    {
     "data": {
      "text/html": [
       "<div>\n",
       "<style scoped>\n",
       "    .dataframe tbody tr th:only-of-type {\n",
       "        vertical-align: middle;\n",
       "    }\n",
       "\n",
       "    .dataframe tbody tr th {\n",
       "        vertical-align: top;\n",
       "    }\n",
       "\n",
       "    .dataframe thead th {\n",
       "        text-align: right;\n",
       "    }\n",
       "</style>\n",
       "<table border=\"1\" class=\"dataframe\">\n",
       "  <thead>\n",
       "    <tr style=\"text-align: right;\">\n",
       "      <th></th>\n",
       "      <th>id</th>\n",
       "      <th>Area</th>\n",
       "      <th>MajorAxisLength</th>\n",
       "      <th>MinorAxisLength</th>\n",
       "      <th>Eccentricity</th>\n",
       "      <th>ConvexArea</th>\n",
       "      <th>EquivDiameter</th>\n",
       "      <th>Extent</th>\n",
       "      <th>Perimeter</th>\n",
       "      <th>Roundness</th>\n",
       "      <th>AspectRation</th>\n",
       "      <th>Class</th>\n",
       "    </tr>\n",
       "  </thead>\n",
       "  <tbody>\n",
       "    <tr>\n",
       "      <th>count</th>\n",
       "      <td>18185.000000</td>\n",
       "      <td>18185.000000</td>\n",
       "      <td>18185.000000</td>\n",
       "      <td>18185.000000</td>\n",
       "      <td>18185.000000</td>\n",
       "      <td>18185.000000</td>\n",
       "      <td>18185.000000</td>\n",
       "      <td>18185.000000</td>\n",
       "      <td>18185.000000</td>\n",
       "      <td>18185.000000</td>\n",
       "      <td>18185.000000</td>\n",
       "      <td>18185.000000</td>\n",
       "    </tr>\n",
       "    <tr>\n",
       "      <th>mean</th>\n",
       "      <td>9093.000000</td>\n",
       "      <td>7036.492989</td>\n",
       "      <td>151.680754</td>\n",
       "      <td>59.807851</td>\n",
       "      <td>0.915406</td>\n",
       "      <td>7225.817872</td>\n",
       "      <td>94.132952</td>\n",
       "      <td>0.616653</td>\n",
       "      <td>351.606949</td>\n",
       "      <td>0.707998</td>\n",
       "      <td>2.599081</td>\n",
       "      <td>0.549079</td>\n",
       "    </tr>\n",
       "    <tr>\n",
       "      <th>std</th>\n",
       "      <td>5249.701658</td>\n",
       "      <td>1467.197150</td>\n",
       "      <td>12.376402</td>\n",
       "      <td>10.061653</td>\n",
       "      <td>0.030575</td>\n",
       "      <td>1502.006571</td>\n",
       "      <td>9.906250</td>\n",
       "      <td>0.104389</td>\n",
       "      <td>29.500620</td>\n",
       "      <td>0.067310</td>\n",
       "      <td>0.434836</td>\n",
       "      <td>0.497599</td>\n",
       "    </tr>\n",
       "    <tr>\n",
       "      <th>min</th>\n",
       "      <td>1.000000</td>\n",
       "      <td>2522.000000</td>\n",
       "      <td>74.133114</td>\n",
       "      <td>34.409894</td>\n",
       "      <td>0.676647</td>\n",
       "      <td>2579.000000</td>\n",
       "      <td>56.666658</td>\n",
       "      <td>0.383239</td>\n",
       "      <td>197.015000</td>\n",
       "      <td>0.174590</td>\n",
       "      <td>1.358128</td>\n",
       "      <td>0.000000</td>\n",
       "    </tr>\n",
       "    <tr>\n",
       "      <th>25%</th>\n",
       "      <td>4547.000000</td>\n",
       "      <td>5962.000000</td>\n",
       "      <td>145.675910</td>\n",
       "      <td>51.393151</td>\n",
       "      <td>0.891617</td>\n",
       "      <td>6125.000000</td>\n",
       "      <td>87.126656</td>\n",
       "      <td>0.538530</td>\n",
       "      <td>333.990000</td>\n",
       "      <td>0.650962</td>\n",
       "      <td>2.208527</td>\n",
       "      <td>0.000000</td>\n",
       "    </tr>\n",
       "    <tr>\n",
       "      <th>50%</th>\n",
       "      <td>9093.000000</td>\n",
       "      <td>6660.000000</td>\n",
       "      <td>153.883750</td>\n",
       "      <td>55.724288</td>\n",
       "      <td>0.923259</td>\n",
       "      <td>6843.000000</td>\n",
       "      <td>92.085696</td>\n",
       "      <td>0.601194</td>\n",
       "      <td>353.088000</td>\n",
       "      <td>0.701941</td>\n",
       "      <td>2.602966</td>\n",
       "      <td>1.000000</td>\n",
       "    </tr>\n",
       "    <tr>\n",
       "      <th>75%</th>\n",
       "      <td>13639.000000</td>\n",
       "      <td>8423.000000</td>\n",
       "      <td>160.056214</td>\n",
       "      <td>70.156593</td>\n",
       "      <td>0.941372</td>\n",
       "      <td>8645.000000</td>\n",
       "      <td>103.559146</td>\n",
       "      <td>0.695664</td>\n",
       "      <td>373.003000</td>\n",
       "      <td>0.769280</td>\n",
       "      <td>2.964101</td>\n",
       "      <td>1.000000</td>\n",
       "    </tr>\n",
       "    <tr>\n",
       "      <th>max</th>\n",
       "      <td>18185.000000</td>\n",
       "      <td>10210.000000</td>\n",
       "      <td>183.211434</td>\n",
       "      <td>82.550762</td>\n",
       "      <td>0.966774</td>\n",
       "      <td>11008.000000</td>\n",
       "      <td>114.016559</td>\n",
       "      <td>0.886573</td>\n",
       "      <td>508.511000</td>\n",
       "      <td>0.904748</td>\n",
       "      <td>3.911845</td>\n",
       "      <td>1.000000</td>\n",
       "    </tr>\n",
       "  </tbody>\n",
       "</table>\n",
       "</div>"
      ],
      "text/plain": [
       "                 id          Area  MajorAxisLength  MinorAxisLength  \\\n",
       "count  18185.000000  18185.000000     18185.000000     18185.000000   \n",
       "mean    9093.000000   7036.492989       151.680754        59.807851   \n",
       "std     5249.701658   1467.197150        12.376402        10.061653   \n",
       "min        1.000000   2522.000000        74.133114        34.409894   \n",
       "25%     4547.000000   5962.000000       145.675910        51.393151   \n",
       "50%     9093.000000   6660.000000       153.883750        55.724288   \n",
       "75%    13639.000000   8423.000000       160.056214        70.156593   \n",
       "max    18185.000000  10210.000000       183.211434        82.550762   \n",
       "\n",
       "       Eccentricity    ConvexArea  EquivDiameter        Extent     Perimeter  \\\n",
       "count  18185.000000  18185.000000   18185.000000  18185.000000  18185.000000   \n",
       "mean       0.915406   7225.817872      94.132952      0.616653    351.606949   \n",
       "std        0.030575   1502.006571       9.906250      0.104389     29.500620   \n",
       "min        0.676647   2579.000000      56.666658      0.383239    197.015000   \n",
       "25%        0.891617   6125.000000      87.126656      0.538530    333.990000   \n",
       "50%        0.923259   6843.000000      92.085696      0.601194    353.088000   \n",
       "75%        0.941372   8645.000000     103.559146      0.695664    373.003000   \n",
       "max        0.966774  11008.000000     114.016559      0.886573    508.511000   \n",
       "\n",
       "          Roundness  AspectRation         Class  \n",
       "count  18185.000000  18185.000000  18185.000000  \n",
       "mean       0.707998      2.599081      0.549079  \n",
       "std        0.067310      0.434836      0.497599  \n",
       "min        0.174590      1.358128      0.000000  \n",
       "25%        0.650962      2.208527      0.000000  \n",
       "50%        0.701941      2.602966      1.000000  \n",
       "75%        0.769280      2.964101      1.000000  \n",
       "max        0.904748      3.911845      1.000000  "
      ]
     },
     "execution_count": 5,
     "metadata": {},
     "output_type": "execute_result"
    }
   ],
   "source": [
    "df.describe()"
   ]
  },
  {
   "cell_type": "code",
   "execution_count": 6,
   "id": "054620f3-116d-468c-b665-9c45a09f86c8",
   "metadata": {
    "tags": []
   },
   "outputs": [
    {
     "data": {
      "text/plain": [
       "id                 0\n",
       "Area               0\n",
       "MajorAxisLength    0\n",
       "MinorAxisLength    0\n",
       "Eccentricity       0\n",
       "ConvexArea         0\n",
       "EquivDiameter      0\n",
       "Extent             0\n",
       "Perimeter          0\n",
       "Roundness          0\n",
       "AspectRation       0\n",
       "Class              0\n",
       "dtype: int64"
      ]
     },
     "execution_count": 6,
     "metadata": {},
     "output_type": "execute_result"
    }
   ],
   "source": [
    "df.isnull().sum()"
   ]
  },
  {
   "cell_type": "code",
   "execution_count": 7,
   "id": "94f3328e-a9f5-4792-b09b-0df419892e23",
   "metadata": {
    "tags": []
   },
   "outputs": [
    {
     "name": "stdout",
     "output_type": "stream",
     "text": [
      "<class 'pandas.core.frame.DataFrame'>\n",
      "RangeIndex: 18185 entries, 0 to 18184\n",
      "Data columns (total 12 columns):\n",
      " #   Column           Non-Null Count  Dtype  \n",
      "---  ------           --------------  -----  \n",
      " 0   id               18185 non-null  int64  \n",
      " 1   Area             18185 non-null  int64  \n",
      " 2   MajorAxisLength  18185 non-null  float64\n",
      " 3   MinorAxisLength  18185 non-null  float64\n",
      " 4   Eccentricity     18185 non-null  float64\n",
      " 5   ConvexArea       18185 non-null  int64  \n",
      " 6   EquivDiameter    18185 non-null  float64\n",
      " 7   Extent           18185 non-null  float64\n",
      " 8   Perimeter        18185 non-null  float64\n",
      " 9   Roundness        18185 non-null  float64\n",
      " 10  AspectRation     18185 non-null  float64\n",
      " 11  Class            18185 non-null  int64  \n",
      "dtypes: float64(8), int64(4)\n",
      "memory usage: 1.7 MB\n"
     ]
    }
   ],
   "source": [
    "df.info()"
   ]
  },
  {
   "cell_type": "code",
   "execution_count": 8,
   "id": "f0ae69a5-746a-44ec-a78c-8fa1bafe25d5",
   "metadata": {},
   "outputs": [
    {
     "data": {
      "text/plain": [
       "<AxesSubplot:>"
      ]
     },
     "execution_count": 8,
     "metadata": {},
     "output_type": "execute_result"
    },
    {
     "data": {
      "image/png": "[encoded data removed]",
      "text/plain": [
       "<Figure size 1800x720 with 3 Axes>"
      ]
     },
     "metadata": {
      "needs_background": "light"
     },
     "output_type": "display_data"
    }
   ],
   "source": [
    "msno.bar(df)"
   ]
  },
  {
   "cell_type": "code",
   "execution_count": 9,
   "id": "b9552c39-7694-49dc-8804-2d2771dfcbd6",
   "metadata": {},
   "outputs": [],
   "source": [
    "#Veri seti nasıl ön işleme yapılacağıyla ilgili bilgiler elde edildi"
   ]
  },
  {
   "cell_type": "code",
   "execution_count": 10,
   "id": "341e7fc8-317a-47ff-b75c-40b05ef121ce",
   "metadata": {},
   "outputs": [
    {
     "name": "stdout",
     "output_type": "stream",
     "text": [
      "Total number of 0(False count) are 8200\n",
      "Total number of 1(True count) are 9985\n"
     ]
    }
   ],
   "source": [
    "print('Total number of 0(False count) are',(df['Class']==0).sum())\n",
    "print('Total number of 1(True count) are',(df['Class']==1).sum())"
   ]
  },
  {
   "cell_type": "code",
   "execution_count": 11,
   "id": "ea2ce5fc-e08d-4af2-8953-24d74fb4ee34",
   "metadata": {},
   "outputs": [
    {
     "data": {
      "image/png": "[encoded data removed]",
      "text/plain": [
       "<Figure size 360x360 with 1 Axes>"
      ]
     },
     "metadata": {
      "needs_background": "light"
     },
     "output_type": "display_data"
    }
   ],
   "source": [
    "plt.figure(figsize=(5,5))\n",
    "colors = ['yellow','red']\n",
    "sns.countplot(x='Class',data=df,palette=colors)\n",
    "plt.show()"
   ]
  },
  {
   "cell_type": "code",
   "execution_count": 12,
   "id": "2044ad00-953f-4f5c-99d1-58f4002c3367",
   "metadata": {},
   "outputs": [
    {
     "data": {
      "text/html": [
       "<div>\n",
       "<style scoped>\n",
       "    .dataframe tbody tr th:only-of-type {\n",
       "        vertical-align: middle;\n",
       "    }\n",
       "\n",
       "    .dataframe tbody tr th {\n",
       "        vertical-align: top;\n",
       "    }\n",
       "\n",
       "    .dataframe thead th {\n",
       "        text-align: right;\n",
       "    }\n",
       "</style>\n",
       "<table border=\"1\" class=\"dataframe\">\n",
       "  <thead>\n",
       "    <tr style=\"text-align: right;\">\n",
       "      <th></th>\n",
       "      <th>Area</th>\n",
       "      <th>MajorAxisLength</th>\n",
       "      <th>MinorAxisLength</th>\n",
       "      <th>Eccentricity</th>\n",
       "      <th>ConvexArea</th>\n",
       "      <th>EquivDiameter</th>\n",
       "      <th>Extent</th>\n",
       "      <th>Perimeter</th>\n",
       "      <th>Roundness</th>\n",
       "      <th>AspectRation</th>\n",
       "      <th>Class</th>\n",
       "    </tr>\n",
       "  </thead>\n",
       "  <tbody>\n",
       "    <tr>\n",
       "      <th>0</th>\n",
       "      <td>4537</td>\n",
       "      <td>92.229316</td>\n",
       "      <td>64.012769</td>\n",
       "      <td>0.719916</td>\n",
       "      <td>4677</td>\n",
       "      <td>76.004525</td>\n",
       "      <td>0.657536</td>\n",
       "      <td>273.085</td>\n",
       "      <td>0.764510</td>\n",
       "      <td>1.440796</td>\n",
       "      <td>1</td>\n",
       "    </tr>\n",
       "    <tr>\n",
       "      <th>1</th>\n",
       "      <td>2872</td>\n",
       "      <td>74.691881</td>\n",
       "      <td>51.400454</td>\n",
       "      <td>0.725553</td>\n",
       "      <td>3015</td>\n",
       "      <td>60.471018</td>\n",
       "      <td>0.713009</td>\n",
       "      <td>208.317</td>\n",
       "      <td>0.831658</td>\n",
       "      <td>1.453137</td>\n",
       "      <td>1</td>\n",
       "    </tr>\n",
       "    <tr>\n",
       "      <th>2</th>\n",
       "      <td>3048</td>\n",
       "      <td>76.293164</td>\n",
       "      <td>52.043491</td>\n",
       "      <td>0.731211</td>\n",
       "      <td>3132</td>\n",
       "      <td>62.296341</td>\n",
       "      <td>0.759153</td>\n",
       "      <td>210.012</td>\n",
       "      <td>0.868434</td>\n",
       "      <td>1.465950</td>\n",
       "      <td>1</td>\n",
       "    </tr>\n",
       "    <tr>\n",
       "      <th>3</th>\n",
       "      <td>3073</td>\n",
       "      <td>77.033628</td>\n",
       "      <td>51.928487</td>\n",
       "      <td>0.738639</td>\n",
       "      <td>3157</td>\n",
       "      <td>62.551300</td>\n",
       "      <td>0.783529</td>\n",
       "      <td>210.657</td>\n",
       "      <td>0.870203</td>\n",
       "      <td>1.483456</td>\n",
       "      <td>1</td>\n",
       "    </tr>\n",
       "    <tr>\n",
       "      <th>4</th>\n",
       "      <td>3693</td>\n",
       "      <td>85.124785</td>\n",
       "      <td>56.374021</td>\n",
       "      <td>0.749282</td>\n",
       "      <td>3802</td>\n",
       "      <td>68.571668</td>\n",
       "      <td>0.769375</td>\n",
       "      <td>230.332</td>\n",
       "      <td>0.874743</td>\n",
       "      <td>1.510000</td>\n",
       "      <td>1</td>\n",
       "    </tr>\n",
       "    <tr>\n",
       "      <th>...</th>\n",
       "      <td>...</td>\n",
       "      <td>...</td>\n",
       "      <td>...</td>\n",
       "      <td>...</td>\n",
       "      <td>...</td>\n",
       "      <td>...</td>\n",
       "      <td>...</td>\n",
       "      <td>...</td>\n",
       "      <td>...</td>\n",
       "      <td>...</td>\n",
       "      <td>...</td>\n",
       "    </tr>\n",
       "    <tr>\n",
       "      <th>18180</th>\n",
       "      <td>5853</td>\n",
       "      <td>148.624571</td>\n",
       "      <td>51.029281</td>\n",
       "      <td>0.939210</td>\n",
       "      <td>6008</td>\n",
       "      <td>86.326537</td>\n",
       "      <td>0.498594</td>\n",
       "      <td>332.960</td>\n",
       "      <td>0.663444</td>\n",
       "      <td>2.912535</td>\n",
       "      <td>0</td>\n",
       "    </tr>\n",
       "    <tr>\n",
       "      <th>18181</th>\n",
       "      <td>7585</td>\n",
       "      <td>169.593996</td>\n",
       "      <td>58.141659</td>\n",
       "      <td>0.939398</td>\n",
       "      <td>7806</td>\n",
       "      <td>98.272692</td>\n",
       "      <td>0.647461</td>\n",
       "      <td>385.506</td>\n",
       "      <td>0.641362</td>\n",
       "      <td>2.916910</td>\n",
       "      <td>0</td>\n",
       "    </tr>\n",
       "    <tr>\n",
       "      <th>18182</th>\n",
       "      <td>6365</td>\n",
       "      <td>154.777085</td>\n",
       "      <td>52.908085</td>\n",
       "      <td>0.939760</td>\n",
       "      <td>6531</td>\n",
       "      <td>90.023162</td>\n",
       "      <td>0.561287</td>\n",
       "      <td>342.253</td>\n",
       "      <td>0.682832</td>\n",
       "      <td>2.925396</td>\n",
       "      <td>0</td>\n",
       "    </tr>\n",
       "    <tr>\n",
       "      <th>18183</th>\n",
       "      <td>5960</td>\n",
       "      <td>151.397924</td>\n",
       "      <td>51.474600</td>\n",
       "      <td>0.940427</td>\n",
       "      <td>6189</td>\n",
       "      <td>87.112041</td>\n",
       "      <td>0.492399</td>\n",
       "      <td>343.371</td>\n",
       "      <td>0.635227</td>\n",
       "      <td>2.941216</td>\n",
       "      <td>0</td>\n",
       "    </tr>\n",
       "    <tr>\n",
       "      <th>18184</th>\n",
       "      <td>6134</td>\n",
       "      <td>153.081981</td>\n",
       "      <td>51.590606</td>\n",
       "      <td>0.941500</td>\n",
       "      <td>6283</td>\n",
       "      <td>88.374495</td>\n",
       "      <td>0.489975</td>\n",
       "      <td>338.613</td>\n",
       "      <td>0.672274</td>\n",
       "      <td>2.967245</td>\n",
       "      <td>0</td>\n",
       "    </tr>\n",
       "  </tbody>\n",
       "</table>\n",
       "<p>18185 rows × 11 columns</p>\n",
       "</div>"
      ],
      "text/plain": [
       "       Area  MajorAxisLength  MinorAxisLength  Eccentricity  ConvexArea  \\\n",
       "0      4537        92.229316        64.012769      0.719916        4677   \n",
       "1      2872        74.691881        51.400454      0.725553        3015   \n",
       "2      3048        76.293164        52.043491      0.731211        3132   \n",
       "3      3073        77.033628        51.928487      0.738639        3157   \n",
       "4      3693        85.124785        56.374021      0.749282        3802   \n",
       "...     ...              ...              ...           ...         ...   \n",
       "18180  5853       148.624571        51.029281      0.939210        6008   \n",
       "18181  7585       169.593996        58.141659      0.939398        7806   \n",
       "18182  6365       154.777085        52.908085      0.939760        6531   \n",
       "18183  5960       151.397924        51.474600      0.940427        6189   \n",
       "18184  6134       153.081981        51.590606      0.941500        6283   \n",
       "\n",
       "       EquivDiameter    Extent  Perimeter  Roundness  AspectRation  Class  \n",
       "0          76.004525  0.657536    273.085   0.764510      1.440796      1  \n",
       "1          60.471018  0.713009    208.317   0.831658      1.453137      1  \n",
       "2          62.296341  0.759153    210.012   0.868434      1.465950      1  \n",
       "3          62.551300  0.783529    210.657   0.870203      1.483456      1  \n",
       "4          68.571668  0.769375    230.332   0.874743      1.510000      1  \n",
       "...              ...       ...        ...        ...           ...    ...  \n",
       "18180      86.326537  0.498594    332.960   0.663444      2.912535      0  \n",
       "18181      98.272692  0.647461    385.506   0.641362      2.916910      0  \n",
       "18182      90.023162  0.561287    342.253   0.682832      2.925396      0  \n",
       "18183      87.112041  0.492399    343.371   0.635227      2.941216      0  \n",
       "18184      88.374495  0.489975    338.613   0.672274      2.967245      0  \n",
       "\n",
       "[18185 rows x 11 columns]"
      ]
     },
     "execution_count": 12,
     "metadata": {},
     "output_type": "execute_result"
    }
   ],
   "source": [
    "df.drop(columns=['id'],inplace=True)\n",
    "df"
   ]
  },
  {
   "cell_type": "code",
   "execution_count": 13,
   "id": "31cda3ea-e326-4735-aba9-fda138ac968c",
   "metadata": {},
   "outputs": [],
   "source": [
    "#veri setimde doğru ve yanlış değerlerin sayılarına bakıldı."
   ]
  },
  {
   "cell_type": "code",
   "execution_count": 14,
   "id": "1c6fb366-5180-409f-b8be-d95b137ae5d5",
   "metadata": {},
   "outputs": [
    {
     "data": {
      "text/html": [
       "<div>\n",
       "<style scoped>\n",
       "    .dataframe tbody tr th:only-of-type {\n",
       "        vertical-align: middle;\n",
       "    }\n",
       "\n",
       "    .dataframe tbody tr th {\n",
       "        vertical-align: top;\n",
       "    }\n",
       "\n",
       "    .dataframe thead th {\n",
       "        text-align: right;\n",
       "    }\n",
       "</style>\n",
       "<table border=\"1\" class=\"dataframe\">\n",
       "  <thead>\n",
       "    <tr style=\"text-align: right;\">\n",
       "      <th></th>\n",
       "      <th>Area</th>\n",
       "      <th>MajorAxisLength</th>\n",
       "      <th>MinorAxisLength</th>\n",
       "      <th>Eccentricity</th>\n",
       "      <th>ConvexArea</th>\n",
       "      <th>EquivDiameter</th>\n",
       "      <th>Extent</th>\n",
       "      <th>Perimeter</th>\n",
       "      <th>Roundness</th>\n",
       "      <th>AspectRation</th>\n",
       "      <th>Class</th>\n",
       "    </tr>\n",
       "  </thead>\n",
       "  <tbody>\n",
       "    <tr>\n",
       "      <th>Area</th>\n",
       "      <td>1.000000</td>\n",
       "      <td>0.599939</td>\n",
       "      <td>0.930215</td>\n",
       "      <td>-0.550073</td>\n",
       "      <td>0.999362</td>\n",
       "      <td>0.998158</td>\n",
       "      <td>0.230541</td>\n",
       "      <td>0.881540</td>\n",
       "      <td>0.620490</td>\n",
       "      <td>-0.623979</td>\n",
       "      <td>-0.816589</td>\n",
       "    </tr>\n",
       "    <tr>\n",
       "      <th>MajorAxisLength</th>\n",
       "      <td>0.599939</td>\n",
       "      <td>1.000000</td>\n",
       "      <td>0.273211</td>\n",
       "      <td>0.295717</td>\n",
       "      <td>0.602061</td>\n",
       "      <td>0.618002</td>\n",
       "      <td>-0.073549</td>\n",
       "      <td>0.870178</td>\n",
       "      <td>-0.202566</td>\n",
       "      <td>0.240471</td>\n",
       "      <td>-0.147741</td>\n",
       "    </tr>\n",
       "    <tr>\n",
       "      <th>MinorAxisLength</th>\n",
       "      <td>0.930215</td>\n",
       "      <td>0.273211</td>\n",
       "      <td>1.000000</td>\n",
       "      <td>-0.808640</td>\n",
       "      <td>0.928992</td>\n",
       "      <td>0.923790</td>\n",
       "      <td>0.308541</td>\n",
       "      <td>0.674249</td>\n",
       "      <td>0.834398</td>\n",
       "      <td>-0.860516</td>\n",
       "      <td>-0.917766</td>\n",
       "    </tr>\n",
       "    <tr>\n",
       "      <th>Eccentricity</th>\n",
       "      <td>-0.550073</td>\n",
       "      <td>0.295717</td>\n",
       "      <td>-0.808640</td>\n",
       "      <td>1.000000</td>\n",
       "      <td>-0.547896</td>\n",
       "      <td>-0.534688</td>\n",
       "      <td>-0.329954</td>\n",
       "      <td>-0.165915</td>\n",
       "      <td>-0.903657</td>\n",
       "      <td>0.950301</td>\n",
       "      <td>0.788636</td>\n",
       "    </tr>\n",
       "    <tr>\n",
       "      <th>ConvexArea</th>\n",
       "      <td>0.999362</td>\n",
       "      <td>0.602061</td>\n",
       "      <td>0.928992</td>\n",
       "      <td>-0.547896</td>\n",
       "      <td>1.000000</td>\n",
       "      <td>0.997403</td>\n",
       "      <td>0.227359</td>\n",
       "      <td>0.886987</td>\n",
       "      <td>0.610236</td>\n",
       "      <td>-0.621472</td>\n",
       "      <td>-0.814214</td>\n",
       "    </tr>\n",
       "    <tr>\n",
       "      <th>EquivDiameter</th>\n",
       "      <td>0.998158</td>\n",
       "      <td>0.618002</td>\n",
       "      <td>0.923790</td>\n",
       "      <td>-0.534688</td>\n",
       "      <td>0.997403</td>\n",
       "      <td>1.000000</td>\n",
       "      <td>0.225944</td>\n",
       "      <td>0.891567</td>\n",
       "      <td>0.607432</td>\n",
       "      <td>-0.609957</td>\n",
       "      <td>-0.809361</td>\n",
       "    </tr>\n",
       "    <tr>\n",
       "      <th>Extent</th>\n",
       "      <td>0.230541</td>\n",
       "      <td>-0.073549</td>\n",
       "      <td>0.308541</td>\n",
       "      <td>-0.329954</td>\n",
       "      <td>0.227359</td>\n",
       "      <td>0.225944</td>\n",
       "      <td>1.000000</td>\n",
       "      <td>0.073227</td>\n",
       "      <td>0.366793</td>\n",
       "      <td>-0.350875</td>\n",
       "      <td>-0.303440</td>\n",
       "    </tr>\n",
       "    <tr>\n",
       "      <th>Perimeter</th>\n",
       "      <td>0.881540</td>\n",
       "      <td>0.870178</td>\n",
       "      <td>0.674249</td>\n",
       "      <td>-0.165915</td>\n",
       "      <td>0.886987</td>\n",
       "      <td>0.891567</td>\n",
       "      <td>0.073227</td>\n",
       "      <td>1.000000</td>\n",
       "      <td>0.186063</td>\n",
       "      <td>-0.227256</td>\n",
       "      <td>-0.533274</td>\n",
       "    </tr>\n",
       "    <tr>\n",
       "      <th>Roundness</th>\n",
       "      <td>0.620490</td>\n",
       "      <td>-0.202566</td>\n",
       "      <td>0.834398</td>\n",
       "      <td>-0.903657</td>\n",
       "      <td>0.610236</td>\n",
       "      <td>0.607432</td>\n",
       "      <td>0.366793</td>\n",
       "      <td>0.186063</td>\n",
       "      <td>1.000000</td>\n",
       "      <td>-0.947875</td>\n",
       "      <td>-0.831759</td>\n",
       "    </tr>\n",
       "    <tr>\n",
       "      <th>AspectRation</th>\n",
       "      <td>-0.623979</td>\n",
       "      <td>0.240471</td>\n",
       "      <td>-0.860516</td>\n",
       "      <td>0.950301</td>\n",
       "      <td>-0.621472</td>\n",
       "      <td>-0.609957</td>\n",
       "      <td>-0.350875</td>\n",
       "      <td>-0.227256</td>\n",
       "      <td>-0.947875</td>\n",
       "      <td>1.000000</td>\n",
       "      <td>0.832563</td>\n",
       "    </tr>\n",
       "    <tr>\n",
       "      <th>Class</th>\n",
       "      <td>-0.816589</td>\n",
       "      <td>-0.147741</td>\n",
       "      <td>-0.917766</td>\n",
       "      <td>0.788636</td>\n",
       "      <td>-0.814214</td>\n",
       "      <td>-0.809361</td>\n",
       "      <td>-0.303440</td>\n",
       "      <td>-0.533274</td>\n",
       "      <td>-0.831759</td>\n",
       "      <td>0.832563</td>\n",
       "      <td>1.000000</td>\n",
       "    </tr>\n",
       "  </tbody>\n",
       "</table>\n",
       "</div>"
      ],
      "text/plain": [
       "                     Area  MajorAxisLength  MinorAxisLength  Eccentricity  \\\n",
       "Area             1.000000         0.599939         0.930215     -0.550073   \n",
       "MajorAxisLength  0.599939         1.000000         0.273211      0.295717   \n",
       "MinorAxisLength  0.930215         0.273211         1.000000     -0.808640   \n",
       "Eccentricity    -0.550073         0.295717        -0.808640      1.000000   \n",
       "ConvexArea       0.999362         0.602061         0.928992     -0.547896   \n",
       "EquivDiameter    0.998158         0.618002         0.923790     -0.534688   \n",
       "Extent           0.230541        -0.073549         0.308541     -0.329954   \n",
       "Perimeter        0.881540         0.870178         0.674249     -0.165915   \n",
       "Roundness        0.620490        -0.202566         0.834398     -0.903657   \n",
       "AspectRation    -0.623979         0.240471        -0.860516      0.950301   \n",
       "Class           -0.816589        -0.147741        -0.917766      0.788636   \n",
       "\n",
       "                 ConvexArea  EquivDiameter    Extent  Perimeter  Roundness  \\\n",
       "Area               0.999362       0.998158  0.230541   0.881540   0.620490   \n",
       "MajorAxisLength    0.602061       0.618002 -0.073549   0.870178  -0.202566   \n",
       "MinorAxisLength    0.928992       0.923790  0.308541   0.674249   0.834398   \n",
       "Eccentricity      -0.547896      -0.534688 -0.329954  -0.165915  -0.903657   \n",
       "ConvexArea         1.000000       0.997403  0.227359   0.886987   0.610236   \n",
       "EquivDiameter      0.997403       1.000000  0.225944   0.891567   0.607432   \n",
       "Extent             0.227359       0.225944  1.000000   0.073227   0.366793   \n",
       "Perimeter          0.886987       0.891567  0.073227   1.000000   0.186063   \n",
       "Roundness          0.610236       0.607432  0.366793   0.186063   1.000000   \n",
       "AspectRation      -0.621472      -0.609957 -0.350875  -0.227256  -0.947875   \n",
       "Class             -0.814214      -0.809361 -0.303440  -0.533274  -0.831759   \n",
       "\n",
       "                 AspectRation     Class  \n",
       "Area                -0.623979 -0.816589  \n",
       "MajorAxisLength      0.240471 -0.147741  \n",
       "MinorAxisLength     -0.860516 -0.917766  \n",
       "Eccentricity         0.950301  0.788636  \n",
       "ConvexArea          -0.621472 -0.814214  \n",
       "EquivDiameter       -0.609957 -0.809361  \n",
       "Extent              -0.350875 -0.303440  \n",
       "Perimeter           -0.227256 -0.533274  \n",
       "Roundness           -0.947875 -0.831759  \n",
       "AspectRation         1.000000  0.832563  \n",
       "Class                0.832563  1.000000  "
      ]
     },
     "execution_count": 14,
     "metadata": {},
     "output_type": "execute_result"
    }
   ],
   "source": [
    "df.corr()"
   ]
  },
  {
   "cell_type": "code",
   "execution_count": 15,
   "id": "478ab81d",
   "metadata": {},
   "outputs": [
    {
     "data": {
      "image/png": "[encoded data removed]",
      "text/plain": [
       "<Figure size 1368x1080 with 2 Axes>"
      ]
     },
     "metadata": {
      "needs_background": "light"
     },
     "output_type": "display_data"
    }
   ],
   "source": [
    "f = plt.figure(figsize=(19, 15))\n",
    "plt.matshow(df.corr(), fignum=f.number)\n",
    "plt.xticks(range(df.select_dtypes(['number']).shape[1]), df.select_dtypes(['number']).columns, fontsize=14, rotation=45)\n",
    "plt.yticks(range(df.select_dtypes(['number']).shape[1]), df.select_dtypes(['number']).columns, fontsize=14)\n",
    "cb = plt.colorbar()\n",
    "cb.ax.tick_params(labelsize=14)\n",
    "plt.title('Correlation Matrix', fontsize=16);"
   ]
  },
  {
   "cell_type": "code",
   "execution_count": 16,
   "id": "01e3fd89-26c0-4672-a032-e62f48668d65",
   "metadata": {},
   "outputs": [
    {
     "data": {
      "text/plain": [
       "Index(['Class', 'AspectRation', 'Eccentricity', 'MajorAxisLength'], dtype='object')"
      ]
     },
     "execution_count": 16,
     "metadata": {},
     "output_type": "execute_result"
    }
   ],
   "source": [
    "df.corr().nlargest(4,\"Class\").index"
   ]
  },
  {
   "cell_type": "code",
   "execution_count": 17,
   "id": "633e98d6-e60a-41a0-acd7-8b27e264d627",
   "metadata": {},
   "outputs": [
    {
     "data": {
      "image/png": "[encoded data removed]",
      "text/plain": [
       "<Figure size 1296x1296 with 2 Axes>"
      ]
     },
     "metadata": {
      "needs_background": "light"
     },
     "output_type": "display_data"
    }
   ],
   "source": [
    "correlation_mat = df.corr()\n",
    "corr_features = correlation_mat.index\n",
    "plt.figure(figsize=(18,18))\n",
    "g = sns.heatmap(df[corr_features].corr(),annot=True,)\n",
    "plt.show()"
   ]
  },
  {
   "cell_type": "code",
   "execution_count": 18,
   "id": "dac15a8b-8581-4a69-9f9e-22555e414ba8",
   "metadata": {},
   "outputs": [],
   "source": [
    "#Veri setimde korelasyon verileri kontrol edildi ve ilişkilere bakıldı."
   ]
  },
  {
   "cell_type": "code",
   "execution_count": 19,
   "id": "429e939a-49a8-4f7f-ab2c-e81b8eac87ea",
   "metadata": {},
   "outputs": [
    {
     "data": {
      "image/png": "[encoded data removed]",
      "text/plain": [
       "<Figure size 1440x1800 with 10 Axes>"
      ]
     },
     "metadata": {
      "needs_background": "light"
     },
     "output_type": "display_data"
    }
   ],
   "source": [
    "fig, axes = plt.subplots(5,2, figsize=(20,25))\n",
    "fig.suptitle('Box Plot Before Outlier Detection')\n",
    "k = 0\n",
    "for i in range(0,5):\n",
    "    for j in range(0,2):\n",
    "        sns.boxplot(ax=axes[i,j], data=df, x=df.columns[k], palette='Set3')\n",
    "        k=k+1"
   ]
  },
  {
   "cell_type": "code",
   "execution_count": 20,
   "id": "520d3a4a-cc16-4e15-988d-aa653b939a12",
   "metadata": {},
   "outputs": [],
   "source": [
    "#aykırı değerlerin grafikte gösterilmesi."
   ]
  },
  {
   "cell_type": "code",
   "execution_count": 21,
   "id": "82882df0-95dd-4408-88d9-b85c0fcc6b1d",
   "metadata": {},
   "outputs": [],
   "source": [
    "main_df = df"
   ]
  },
  {
   "cell_type": "code",
   "execution_count": 22,
   "id": "26256ee9-b7c4-44dc-a460-e238b62a37b3",
   "metadata": {},
   "outputs": [],
   "source": [
    "##hesaplama kısmı"
   ]
  },
  {
   "cell_type": "code",
   "execution_count": 23,
   "id": "c0cda1a3-884b-4cce-a261-51726a4b9251",
   "metadata": {},
   "outputs": [],
   "source": [
    "def iqr_calculation(main_df,col):\n",
    "    Q1 = np.percentile(col,25,interpolation = 'midpoint')\n",
    "    Q3 = np.percentile(col,75,interpolation = 'midpoint')\n",
    "    IQR = Q3 - Q1\n",
    "    upper = np.where(col>=(Q3+1.5*IQR))\n",
    "    lower = np.where(col<=(Q1-1.5*IQR))\n",
    "    return upper,lower"
   ]
  },
  {
   "cell_type": "code",
   "execution_count": 24,
   "id": "59fef9bd-6867-427a-94ab-c5f5a4313646",
   "metadata": {},
   "outputs": [],
   "source": [
    "##indeks karar bulma test kısmı"
   ]
  },
  {
   "cell_type": "code",
   "execution_count": 25,
   "id": "3b33ce05-d5f3-4174-affd-39549f64fe35",
   "metadata": {},
   "outputs": [],
   "source": [
    "def remove_outliers(main_df,upper,lower):\n",
    "    main_df.drop(upper[0], inplace = True)\n",
    "    main_df.drop(lower[0], inplace = True)\n",
    "    print(\"New Shape: \", main_df.shape)\n",
    "    return main_df"
   ]
  },
  {
   "cell_type": "code",
   "execution_count": 26,
   "id": "3cb8f829-b2be-4996-9231-28c41e9399f7",
   "metadata": {},
   "outputs": [],
   "source": [
    "##data set resetleme kısmı"
   ]
  },
  {
   "cell_type": "code",
   "execution_count": 27,
   "id": "ac836ec4-13a6-40d8-be84-1f9b67daebf3",
   "metadata": {},
   "outputs": [],
   "source": [
    "def reset_dataframe(main_df):\n",
    "    main_df.reset_index(inplace=True)\n",
    "    main_df.drop(columns=['index'],inplace=True)\n",
    "    return main_df "
   ]
  },
  {
   "cell_type": "code",
   "execution_count": 28,
   "id": "e7633200-5e37-40a8-af72-0195f7ca2fcf",
   "metadata": {},
   "outputs": [],
   "source": [
    "#methodlar çalıştı ve aykırı değerler bulundu ver temizlendi."
   ]
  },
  {
   "cell_type": "code",
   "execution_count": 29,
   "id": "a8f9304d-d10d-434a-a4cd-653e86aebec3",
   "metadata": {},
   "outputs": [
    {
     "name": "stdout",
     "output_type": "stream",
     "text": [
      "For  Area\n",
      "New Shape:  (18185, 11)\n",
      "For  MajorAxisLength\n",
      "New Shape:  (17647, 11)\n",
      "For  MinorAxisLength\n",
      "New Shape:  (17647, 11)\n",
      "For  Eccentricity\n",
      "New Shape:  (17631, 11)\n",
      "For  ConvexArea\n",
      "New Shape:  (17631, 11)\n",
      "For  EquivDiameter\n",
      "New Shape:  (17631, 11)\n",
      "For  Extent\n",
      "New Shape:  (17631, 11)\n",
      "For  Perimeter\n",
      "New Shape:  (17602, 11)\n",
      "For  Roundness\n",
      "New Shape:  (17597, 11)\n",
      "For  AspectRation\n",
      "New Shape:  (17597, 11)\n"
     ]
    }
   ],
   "source": [
    "for i in range(0,len(main_df.columns)-1):\n",
    "    print('For ',df.columns[i])\n",
    "    upper, lower = iqr_calculation(main_df,df[df.columns[i]])\n",
    "    main_df = remove_outliers(main_df,upper,lower)\n",
    "    df_final = reset_dataframe(main_df)"
   ]
  },
  {
   "cell_type": "code",
   "execution_count": 30,
   "id": "b752cfe7-0ba9-418e-88c3-ece580758bff",
   "metadata": {},
   "outputs": [],
   "source": [
    "#temizlemiş veri setim"
   ]
  },
  {
   "cell_type": "code",
   "execution_count": 31,
   "id": "0e3d7fca-3a74-4f16-ba83-6e298d43ed74",
   "metadata": {},
   "outputs": [
    {
     "data": {
      "image/png": "[encoded data removed]",
      "text/plain": [
       "<Figure size 1440x1800 with 10 Axes>"
      ]
     },
     "metadata": {
      "needs_background": "light"
     },
     "output_type": "display_data"
    }
   ],
   "source": [
    "fig, axes = plt.subplots(5,2, figsize=(20,25))\n",
    "fig.suptitle('Box Plot After Removing the Outliers')\n",
    "k = 0\n",
    "for i in range(0,5):\n",
    "    for j in range(0,2):\n",
    "        col_name = df_final.columns[k]\n",
    "        sns.boxplot(ax=axes[i,j], data=df_final,x=col_name,palette='Set3')\n",
    "        k=k+1"
   ]
  },
  {
   "cell_type": "code",
   "execution_count": 32,
   "id": "6ce3b505-874e-461a-b471-ebd44e8f708b",
   "metadata": {},
   "outputs": [],
   "source": [
    "#temizlennmiş veri grafik gösterimi"
   ]
  },
  {
   "cell_type": "code",
   "execution_count": 33,
   "id": "e39a7311-c3cf-42fc-b552-d04292e03bb8",
   "metadata": {},
   "outputs": [],
   "source": [
    "y = df_final[\"Class\"]\n",
    "X = df_final.drop([\"Class\"], axis=1)"
   ]
  },
  {
   "cell_type": "code",
   "execution_count": 34,
   "id": "f5ae643b-2f07-471c-94d1-16d20c2fd86d",
   "metadata": {},
   "outputs": [],
   "source": [
    "#lojistik regresyon model oluşturdum"
   ]
  },
  {
   "cell_type": "code",
   "execution_count": 35,
   "id": "bc04ec0f-cd21-434c-988f-dacf7fff2d06",
   "metadata": {},
   "outputs": [
    {
     "data": {
      "text/plain": [
       "LogisticRegression(solver='liblinear')"
      ]
     },
     "execution_count": 35,
     "metadata": {},
     "output_type": "execute_result"
    }
   ],
   "source": [
    "from sklearn.linear_model import LogisticRegression\n",
    "loj = LogisticRegression(solver = \"liblinear\")\n",
    "loj_model = loj.fit(X,y)\n",
    "loj_model"
   ]
  },
  {
   "cell_type": "code",
   "execution_count": 36,
   "id": "e17c471b-dfd7-4533-b228-fd39ab2b0d6c",
   "metadata": {},
   "outputs": [
    {
     "data": {
      "text/plain": [
       "array([-0.00644723])"
      ]
     },
     "execution_count": 36,
     "metadata": {},
     "output_type": "execute_result"
    }
   ],
   "source": [
    "loj_model.intercept_"
   ]
  },
  {
   "cell_type": "code",
   "execution_count": 37,
   "id": "086b6658-4318-4375-afb3-3b52d31ed0ae",
   "metadata": {},
   "outputs": [
    {
     "data": {
      "text/plain": [
       "array([[ 0.00215791,  0.11717594, -0.31117085, -0.00495574, -0.00841418,\n",
       "        -0.29791373, -0.00399674,  0.2102015 , -0.00990447, -0.0014307 ]])"
      ]
     },
     "execution_count": 37,
     "metadata": {},
     "output_type": "execute_result"
    }
   ],
   "source": [
    "loj_model.coef_"
   ]
  },
  {
   "cell_type": "code",
   "execution_count": 38,
   "id": "b30b948a-6d4d-43ea-87d5-bf54a7cd42b3",
   "metadata": {},
   "outputs": [],
   "source": [
    "y_pred = loj_model.predict(X)"
   ]
  },
  {
   "cell_type": "code",
   "execution_count": 39,
   "id": "20decd52-4475-4b79-8161-3209e20396d4",
   "metadata": {},
   "outputs": [
    {
     "data": {
      "text/plain": [
       "array([[7941,  114],\n",
       "       [  62, 9480]], dtype=int64)"
      ]
     },
     "execution_count": 39,
     "metadata": {},
     "output_type": "execute_result"
    }
   ],
   "source": [
    "confusion_matrix(y, y_pred)"
   ]
  },
  {
   "cell_type": "code",
   "execution_count": 40,
   "id": "e7d917da",
   "metadata": {},
   "outputs": [
    {
     "data": {
      "image/png": "[encoded data removed]",
      "text/plain": [
       "<Figure size 720x720 with 2 Axes>"
      ]
     },
     "metadata": {
      "needs_background": "light"
     },
     "output_type": "display_data"
    }
   ],
   "source": [
    "f = plt.figure(figsize=(10, 10))\n",
    "plt.matshow(confusion_matrix(y,y_pred), fignum=f.number)\n",
    "cb = plt.colorbar()\n",
    "cb.ax.tick_params(labelsize=14)\n",
    "plt.title('Confusion Matrix', fontsize=16);"
   ]
  },
  {
   "cell_type": "code",
   "execution_count": 41,
   "id": "a44990d4-fff9-49fb-acb1-d3bc66509205",
   "metadata": {},
   "outputs": [],
   "source": [
    "#Confusion Matrix gösterimi"
   ]
  },
  {
   "cell_type": "code",
   "execution_count": 42,
   "id": "7d545a4a-3630-4466-8316-04e792179d47",
   "metadata": {},
   "outputs": [
    {
     "data": {
      "text/plain": [
       "0.9899982951639484"
      ]
     },
     "execution_count": 42,
     "metadata": {},
     "output_type": "execute_result"
    }
   ],
   "source": [
    "accuracy_score(y, y_pred)"
   ]
  },
  {
   "cell_type": "code",
   "execution_count": 43,
   "id": "ef6206f0-0ede-4fa1-b9f2-3237a1f94e0d",
   "metadata": {},
   "outputs": [
    {
     "name": "stdout",
     "output_type": "stream",
     "text": [
      "              precision    recall  f1-score   support\n",
      "\n",
      "           0       0.99      0.99      0.99      8055\n",
      "           1       0.99      0.99      0.99      9542\n",
      "\n",
      "    accuracy                           0.99     17597\n",
      "   macro avg       0.99      0.99      0.99     17597\n",
      "weighted avg       0.99      0.99      0.99     17597\n",
      "\n"
     ]
    }
   ],
   "source": [
    "print(classification_report(y, y_pred))"
   ]
  },
  {
   "cell_type": "code",
   "execution_count": 44,
   "id": "7c46ab2e-758f-485e-9014-3c1123f5e4d2",
   "metadata": {},
   "outputs": [
    {
     "data": {
      "text/plain": [
       "array([0, 0, 0, 0, 0, 0, 0, 0, 1, 0], dtype=int64)"
      ]
     },
     "execution_count": 44,
     "metadata": {},
     "output_type": "execute_result"
    }
   ],
   "source": [
    "loj_model.predict(X)[0:10]"
   ]
  },
  {
   "cell_type": "code",
   "execution_count": 45,
   "id": "d3a1933b-1b10-4e82-859a-323d1116f466",
   "metadata": {},
   "outputs": [
    {
     "data": {
      "text/plain": [
       "array([[0.99779468, 0.00220532],\n",
       "       [0.99795453, 0.00204547],\n",
       "       [0.91505175, 0.08494825],\n",
       "       [0.9570177 , 0.0429823 ],\n",
       "       [0.98560036, 0.01439964],\n",
       "       [0.81910503, 0.18089497],\n",
       "       [0.81178275, 0.18821725],\n",
       "       [0.94158193, 0.05841807],\n",
       "       [0.44662468, 0.55337532],\n",
       "       [0.89600659, 0.10399341]])"
      ]
     },
     "execution_count": 45,
     "metadata": {},
     "output_type": "execute_result"
    }
   ],
   "source": [
    "loj_model.predict_proba(X)[0:10][:,0:2]"
   ]
  },
  {
   "cell_type": "code",
   "execution_count": 46,
   "id": "7fc8912e-0ab0-478f-a26f-f1a20b8cf8ef",
   "metadata": {},
   "outputs": [
    {
     "data": {
      "text/plain": [
       "0    1\n",
       "1    1\n",
       "2    1\n",
       "3    1\n",
       "4    1\n",
       "5    1\n",
       "6    1\n",
       "7    1\n",
       "8    1\n",
       "9    1\n",
       "Name: Class, dtype: int64"
      ]
     },
     "execution_count": 46,
     "metadata": {},
     "output_type": "execute_result"
    }
   ],
   "source": [
    "y[0:10]"
   ]
  },
  {
   "cell_type": "code",
   "execution_count": 47,
   "id": "c48e8b1a-2962-4ddc-9c0c-e4fa63aef91a",
   "metadata": {},
   "outputs": [],
   "source": [
    "#modelimin bulduğu sonuçlarla gerçek sonuçları karşılaştırdım"
   ]
  },
  {
   "cell_type": "code",
   "execution_count": 48,
   "id": "0bd0e174-6b25-435e-852b-2f23234e08d3",
   "metadata": {},
   "outputs": [
    {
     "data": {
      "image/png": "[encoded data removed]",
      "text/plain": [
       "<Figure size 432x288 with 1 Axes>"
      ]
     },
     "metadata": {
      "needs_background": "light"
     },
     "output_type": "display_data"
    }
   ],
   "source": [
    "logit_roc_auc = roc_auc_score(y, loj_model.predict(X))\n",
    "\n",
    "fpr, tpr, thresholds = roc_curve(y, loj_model.predict_proba(X)[:,1])\n",
    "plt.figure()\n",
    "plt.plot(fpr, tpr, label='AUC (area = %0.2f)' % logit_roc_auc)\n",
    "plt.plot([0, 1], [0, 1],'r--')\n",
    "plt.xlim([0.0, 1.0])\n",
    "plt.ylim([0.0, 1.05])\n",
    "plt.xlabel('False Positive Oranı')\n",
    "plt.ylabel('True Positive Oranı')\n",
    "plt.title('ROC')\n",
    "plt.show()"
   ]
  },
  {
   "cell_type": "code",
   "execution_count": 49,
   "id": "21e1fa89-bd47-4eee-b7f7-5ed5c85e0edc",
   "metadata": {},
   "outputs": [],
   "source": [
    "#roc değerleriyle inceleme yaptım"
   ]
  },
  {
   "cell_type": "code",
   "execution_count": 50,
   "id": "b8149382-4b65-44af-b814-fdd02bbe7de4",
   "metadata": {},
   "outputs": [],
   "source": [
    "X_train, X_test, y_train, y_test = train_test_split(X, y, \n",
    "                                                    test_size = 0.25, \n",
    "                                                    random_state = 42)\n"
   ]
  },
  {
   "cell_type": "code",
   "execution_count": 51,
   "id": "0a92192c-937f-428f-bcf2-aee6882dbbf2",
   "metadata": {},
   "outputs": [],
   "source": [
    "#test train olarak veri stini ayırdım."
   ]
  },
  {
   "cell_type": "code",
   "execution_count": 52,
   "id": "1a0a6f47-275d-4594-bc33-47aebd195fa2",
   "metadata": {},
   "outputs": [
    {
     "data": {
      "text/plain": [
       "LogisticRegression(solver='liblinear')"
      ]
     },
     "execution_count": 52,
     "metadata": {},
     "output_type": "execute_result"
    }
   ],
   "source": [
    "loj = LogisticRegression(solver = \"liblinear\")\n",
    "loj_model = loj.fit(X_train,y_train)\n",
    "loj_model"
   ]
  },
  {
   "cell_type": "code",
   "execution_count": 53,
   "id": "c3982aa1-a8bd-40ac-8bef-ce474fc9ae05",
   "metadata": {},
   "outputs": [
    {
     "data": {
      "text/plain": [
       "0.9911363636363636"
      ]
     },
     "execution_count": 53,
     "metadata": {},
     "output_type": "execute_result"
    }
   ],
   "source": [
    "accuracy_score(y_test, loj_model.predict(X_test))"
   ]
  },
  {
   "cell_type": "code",
   "execution_count": 54,
   "id": "c348d4f3-2f3e-4aaa-a813-d5658a5785de",
   "metadata": {},
   "outputs": [
    {
     "data": {
      "text/plain": [
       "array([0.99090909, 0.98863636, 0.98409091, 0.98863636, 0.99318182,\n",
       "       0.99318182, 0.99090909, 0.99545455, 0.98636364, 0.99772727])"
      ]
     },
     "execution_count": 54,
     "metadata": {},
     "output_type": "execute_result"
    }
   ],
   "source": [
    "cross_val_score(loj_model, X_test, y_test, cv = 10)"
   ]
  },
  {
   "cell_type": "code",
   "execution_count": 55,
   "id": "ccc27aa6-03b2-4457-b0cc-8d94bc97a0d8",
   "metadata": {},
   "outputs": [
    {
     "data": {
      "text/plain": [
       "0.9909090909090909"
      ]
     },
     "execution_count": 55,
     "metadata": {},
     "output_type": "execute_result"
    }
   ],
   "source": [
    "cross_val_score(loj_model, X_test, y_test, cv = 10).mean()"
   ]
  },
  {
   "cell_type": "code",
   "execution_count": 56,
   "id": "dbde0085-489e-41c5-a464-a09879cc45c5",
   "metadata": {},
   "outputs": [],
   "source": [
    "#lojistik regresyon kullanılarak cros validation score hesaplandı."
   ]
  },
  {
   "cell_type": "code",
   "execution_count": 57,
   "id": "44df0205-b0f1-41f5-800d-415e9346426a",
   "metadata": {},
   "outputs": [],
   "source": [
    "#Gaussian Naive Bayes"
   ]
  },
  {
   "cell_type": "code",
   "execution_count": 58,
   "id": "5c65b3e0-5584-4d66-9862-def634f03980",
   "metadata": {},
   "outputs": [],
   "source": [
    "y = df_final[\"Class\"]\n",
    "X = df_final.drop([\"Class\"], axis=1)\n",
    "X_train, X_test, y_train, y_test = train_test_split(X, y, \n",
    "                                                    test_size = 0.25, \n",
    "                                                    random_state = 42)"
   ]
  },
  {
   "cell_type": "code",
   "execution_count": 59,
   "id": "469ae537-cb16-4e39-9f7d-4f69b23e0a71",
   "metadata": {},
   "outputs": [
    {
     "data": {
      "text/plain": [
       "GaussianNB()"
      ]
     },
     "execution_count": 59,
     "metadata": {},
     "output_type": "execute_result"
    }
   ],
   "source": [
    "nb = GaussianNB()\n",
    "nb_model = nb.fit(X_train, y_train)\n",
    "nb_model"
   ]
  },
  {
   "cell_type": "code",
   "execution_count": 60,
   "id": "964cdcda-a5da-43c7-a59b-4feaf60d0c53",
   "metadata": {},
   "outputs": [
    {
     "data": {
      "text/plain": [
       "array([1, 1, 0, 0, 1, 1, 1, 1, 0, 1], dtype=int64)"
      ]
     },
     "execution_count": 60,
     "metadata": {},
     "output_type": "execute_result"
    }
   ],
   "source": [
    "nb_model.predict(X_test)[0:10]"
   ]
  },
  {
   "cell_type": "code",
   "execution_count": 61,
   "id": "990f8e3f-1b84-426b-8870-a09395adf9e3",
   "metadata": {},
   "outputs": [
    {
     "data": {
      "text/plain": [
       "array([[1.62959595e-14, 1.00000000e+00],\n",
       "       [4.59027152e-03, 9.95409728e-01],\n",
       "       [1.00000000e+00, 2.28483525e-39],\n",
       "       [1.00000000e+00, 8.13298464e-31],\n",
       "       [8.90167453e-11, 1.00000000e+00],\n",
       "       [2.60589468e-33, 1.00000000e+00],\n",
       "       [8.24260599e-13, 1.00000000e+00],\n",
       "       [7.38878925e-24, 1.00000000e+00],\n",
       "       [1.00000000e+00, 4.84463500e-19],\n",
       "       [4.64163122e-14, 1.00000000e+00]])"
      ]
     },
     "execution_count": 61,
     "metadata": {},
     "output_type": "execute_result"
    }
   ],
   "source": [
    "nb_model.predict_proba(X_test)[0:10]"
   ]
  },
  {
   "cell_type": "code",
   "execution_count": 62,
   "id": "fc289843-1321-4a4c-82b7-b3ff91dcc218",
   "metadata": {},
   "outputs": [],
   "source": [
    "y_pred = nb_model.predict(X_test)"
   ]
  },
  {
   "cell_type": "code",
   "execution_count": 63,
   "id": "8bee5483-b036-48f5-a5fe-5252048b5216",
   "metadata": {},
   "outputs": [
    {
     "data": {
      "text/plain": [
       "0.9788636363636364"
      ]
     },
     "execution_count": 63,
     "metadata": {},
     "output_type": "execute_result"
    }
   ],
   "source": [
    "accuracy_score(y_test, y_pred)"
   ]
  },
  {
   "cell_type": "code",
   "execution_count": 64,
   "id": "4cf0907b-ba8f-4966-b191-a848ec518db4",
   "metadata": {},
   "outputs": [
    {
     "data": {
      "text/plain": [
       "0.9795454545454545"
      ]
     },
     "execution_count": 64,
     "metadata": {},
     "output_type": "execute_result"
    }
   ],
   "source": [
    "cross_val_score(nb_model, X_test, y_test, cv = 10).mean()"
   ]
  },
  {
   "cell_type": "code",
   "execution_count": 65,
   "id": "89b0c10d-6d7a-46c5-ba85-754beaec9b3e",
   "metadata": {},
   "outputs": [],
   "source": [
    "# Gaussian Naive Bayes kullanılarak cros validation score hesaplandı."
   ]
  },
  {
   "cell_type": "code",
   "execution_count": 66,
   "id": "0cd0374b-80d6-4c9c-896e-a9676807f27e",
   "metadata": {},
   "outputs": [],
   "source": [
    "##KNN"
   ]
  },
  {
   "cell_type": "code",
   "execution_count": 67,
   "id": "89631ae0-e4c3-48c6-9a9f-a981de4abe37",
   "metadata": {},
   "outputs": [],
   "source": [
    "y = df_final[\"Class\"]\n",
    "X = df_final.drop([\"Class\"], axis=1)\n",
    "X_train, X_test, y_train, y_test = train_test_split(X, y, \n",
    "                                                    test_size = 0.25, \n",
    "                                                    random_state = 42)"
   ]
  },
  {
   "cell_type": "code",
   "execution_count": 68,
   "id": "c9a355b4-b3ba-4ce3-9388-da268aaf382d",
   "metadata": {},
   "outputs": [
    {
     "data": {
      "text/plain": [
       "KNeighborsClassifier()"
      ]
     },
     "execution_count": 68,
     "metadata": {},
     "output_type": "execute_result"
    }
   ],
   "source": [
    "knn = KNeighborsClassifier()\n",
    "knn_model = knn.fit(X_train, y_train)\n",
    "knn_model"
   ]
  },
  {
   "cell_type": "code",
   "execution_count": 69,
   "id": "2dec3fc1-752e-4132-a998-7805738bab9b",
   "metadata": {},
   "outputs": [],
   "source": [
    "y_pred = knn_model.predict(X_test)"
   ]
  },
  {
   "cell_type": "code",
   "execution_count": 70,
   "id": "94fdd52b-4c43-4311-85f4-fc6d86398439",
   "metadata": {},
   "outputs": [
    {
     "data": {
      "text/plain": [
       "0.9836363636363636"
      ]
     },
     "execution_count": 70,
     "metadata": {},
     "output_type": "execute_result"
    }
   ],
   "source": [
    "accuracy_score(y_test, y_pred)"
   ]
  },
  {
   "cell_type": "code",
   "execution_count": 71,
   "id": "de05b1d5-8347-4aeb-af22-d083f1421319",
   "metadata": {},
   "outputs": [],
   "source": [
    "# knn algoritması kullanılarak accuracy_score"
   ]
  },
  {
   "cell_type": "code",
   "execution_count": 72,
   "id": "88b1ebc1-5d8c-4ce8-83c4-0adff12b19eb",
   "metadata": {},
   "outputs": [
    {
     "name": "stdout",
     "output_type": "stream",
     "text": [
      "              precision    recall  f1-score   support\n",
      "\n",
      "           0       1.00      0.97      0.98      1995\n",
      "           1       0.97      1.00      0.99      2405\n",
      "\n",
      "    accuracy                           0.98      4400\n",
      "   macro avg       0.98      0.98      0.98      4400\n",
      "weighted avg       0.98      0.98      0.98      4400\n",
      "\n"
     ]
    }
   ],
   "source": [
    "print(classification_report(y_test, y_pred))"
   ]
  },
  {
   "cell_type": "code",
   "execution_count": 73,
   "id": "5fab9e79-d78c-41af-9d15-f4acf78e94f2",
   "metadata": {},
   "outputs": [],
   "source": [
    "knn_params = {\"n_neighbors\": np.arange(1,50)}"
   ]
  },
  {
   "cell_type": "code",
   "execution_count": 74,
   "id": "9e0e5e3f-3354-49d9-8bb9-57eae33fe284",
   "metadata": {},
   "outputs": [
    {
     "data": {
      "text/plain": [
       "GridSearchCV(cv=10, estimator=KNeighborsClassifier(),\n",
       "             param_grid={'n_neighbors': array([ 1,  2,  3,  4,  5,  6,  7,  8,  9, 10, 11, 12, 13, 14, 15, 16, 17,\n",
       "       18, 19, 20, 21, 22, 23, 24, 25, 26, 27, 28, 29, 30, 31, 32, 33, 34,\n",
       "       35, 36, 37, 38, 39, 40, 41, 42, 43, 44, 45, 46, 47, 48, 49])})"
      ]
     },
     "execution_count": 74,
     "metadata": {},
     "output_type": "execute_result"
    }
   ],
   "source": [
    "knn = KNeighborsClassifier()\n",
    "knn_cv = GridSearchCV(knn, knn_params, cv=10)\n",
    "knn_cv.fit(X_train, y_train)"
   ]
  },
  {
   "cell_type": "code",
   "execution_count": 75,
   "id": "2ab0a798-c56c-419a-b949-1128ec091be1",
   "metadata": {},
   "outputs": [
    {
     "name": "stdout",
     "output_type": "stream",
     "text": [
      "En iyi skor:0.983556700438808\n",
      "En iyi parametreler: {'n_neighbors': 4}\n"
     ]
    }
   ],
   "source": [
    "print(\"En iyi skor:\" + str(knn_cv.best_score_))\n",
    "print(\"En iyi parametreler: \" + str(knn_cv.best_params_))"
   ]
  },
  {
   "cell_type": "code",
   "execution_count": 76,
   "id": "4368e684-261a-4c0d-b018-99c8d5f5eea2",
   "metadata": {},
   "outputs": [],
   "source": [
    "knn = KNeighborsClassifier(4)\n",
    "knn_tuned = knn.fit(X_train, y_train)"
   ]
  },
  {
   "cell_type": "code",
   "execution_count": 77,
   "id": "5444722a-e9f9-4007-af20-b0f3525fa4bc",
   "metadata": {},
   "outputs": [
    {
     "data": {
      "text/plain": [
       "0.9861363636363636"
      ]
     },
     "execution_count": 77,
     "metadata": {},
     "output_type": "execute_result"
    }
   ],
   "source": [
    "knn_tuned.score(X_test, y_test)"
   ]
  },
  {
   "cell_type": "code",
   "execution_count": 78,
   "id": "f0bc8cea-4e1e-41e9-acca-af6a1708015d",
   "metadata": {},
   "outputs": [],
   "source": [
    "y_pred = knn_tuned.predict(X_test)"
   ]
  },
  {
   "cell_type": "code",
   "execution_count": 79,
   "id": "5a07c0a4-2882-4b6d-a096-9410c23862fa",
   "metadata": {},
   "outputs": [
    {
     "data": {
      "text/plain": [
       "0.9861363636363636"
      ]
     },
     "execution_count": 79,
     "metadata": {},
     "output_type": "execute_result"
    }
   ],
   "source": [
    "accuracy_score(y_test, y_pred)"
   ]
  },
  {
   "cell_type": "code",
   "execution_count": 80,
   "id": "6479851e-6f29-4222-b402-7d5da7c84e06",
   "metadata": {},
   "outputs": [],
   "source": [
    "# knn algoritması model oluşturdum parametreler  elde edilerek en iyi sonuç bulundu."
   ]
  },
  {
   "cell_type": "code",
   "execution_count": 81,
   "id": "129713e9-e94c-4549-a4cd-0cbf4b74dd07",
   "metadata": {},
   "outputs": [],
   "source": [
    "##SVC MAKİNA"
   ]
  },
  {
   "cell_type": "code",
   "execution_count": 82,
   "id": "07fd534a-b03c-4e2d-a165-aef4e1db6796",
   "metadata": {},
   "outputs": [],
   "source": [
    "y = df_final[\"Class\"]\n",
    "X = df_final.drop([\"Class\"], axis=1)\n",
    "X_train, X_test, y_train, y_test = train_test_split(X, y, \n",
    "                                                    test_size = 0.25, \n",
    "                                                    random_state = 42)"
   ]
  },
  {
   "cell_type": "code",
   "execution_count": 83,
   "id": "e6d7e698-0e23-4c38-b5be-78168224023c",
   "metadata": {},
   "outputs": [],
   "source": [
    "svm_model = SVC(kernel = \"linear\").fit(X_train, y_train)"
   ]
  },
  {
   "cell_type": "code",
   "execution_count": 84,
   "id": "cc2d7ca0-f771-4057-b99d-725b3c509a30",
   "metadata": {},
   "outputs": [
    {
     "data": {
      "text/plain": [
       "SVC(kernel='linear')"
      ]
     },
     "execution_count": 84,
     "metadata": {},
     "output_type": "execute_result"
    }
   ],
   "source": [
    "svm_model"
   ]
  },
  {
   "cell_type": "code",
   "execution_count": 85,
   "id": "f7e6de5a-e2fa-46d8-8979-b15ea981aa5f",
   "metadata": {},
   "outputs": [],
   "source": [
    "y_pred = svm_model.predict(X_test)"
   ]
  },
  {
   "cell_type": "code",
   "execution_count": 86,
   "id": "b1f19db4-29c8-4ba9-9c79-28653c11dfd2",
   "metadata": {},
   "outputs": [
    {
     "data": {
      "text/plain": [
       "0.9902272727272727"
      ]
     },
     "execution_count": 86,
     "metadata": {},
     "output_type": "execute_result"
    }
   ],
   "source": [
    "accuracy_score(y_test, y_pred)"
   ]
  },
  {
   "cell_type": "code",
   "execution_count": 87,
   "id": "ca5f5e9e-f176-4b59-96e7-dc3fa6cc6d1c",
   "metadata": {},
   "outputs": [],
   "source": [
    "# svc modelini kullanılarak accuracy_score"
   ]
  },
  {
   "cell_type": "code",
   "execution_count": 88,
   "id": "329931ce-8ca9-4c45-a787-9f14a5b6d639",
   "metadata": {},
   "outputs": [
    {
     "name": "stdout",
     "output_type": "stream",
     "text": [
      "Fitting 10 folds for each of 4 candidates, totalling 40 fits\n"
     ]
    },
    {
     "data": {
      "text/plain": [
       "GridSearchCV(cv=10, estimator=SVC(kernel='linear'), n_jobs=-1,\n",
       "             param_grid={'C': array([1, 2, 3, 4])}, verbose=2)"
      ]
     },
     "execution_count": 88,
     "metadata": {},
     "output_type": "execute_result"
    }
   ],
   "source": [
    "svc_params = {\"C\": np.arange(1,5)}\n",
    "\n",
    "svc = SVC(kernel = \"linear\")\n",
    "\n",
    "svc_cv_model = GridSearchCV(svc,svc_params, \n",
    "                            cv = 10, \n",
    "                            n_jobs = -1, \n",
    "                            verbose = 2 )\n",
    "\n",
    "svc_cv_model.fit(X_train, y_train)"
   ]
  },
  {
   "cell_type": "code",
   "execution_count": 89,
   "id": "3584af27-864d-4e5f-8271-96e1b0a5334d",
   "metadata": {},
   "outputs": [
    {
     "name": "stdout",
     "output_type": "stream",
     "text": [
      "En iyi parametreler: {'C': 1}\n"
     ]
    }
   ],
   "source": [
    "print(\"En iyi parametreler: \" + str(svc_cv_model.best_params_))"
   ]
  },
  {
   "cell_type": "code",
   "execution_count": 90,
   "id": "92e2414d-20de-4f9c-a5de-d0d6c9808ad5",
   "metadata": {},
   "outputs": [],
   "source": [
    "svc_tuned = SVC(kernel = \"linear\", C = 1).fit(X_train, y_train)"
   ]
  },
  {
   "cell_type": "code",
   "execution_count": 91,
   "id": "178ec894-23e8-4aa8-86fe-64f0ee3469c3",
   "metadata": {},
   "outputs": [
    {
     "data": {
      "text/plain": [
       "0.9902272727272727"
      ]
     },
     "execution_count": 91,
     "metadata": {},
     "output_type": "execute_result"
    }
   ],
   "source": [
    "y_pred = svc_tuned.predict(X_test)\n",
    "accuracy_score(y_test, y_pred)"
   ]
  },
  {
   "cell_type": "code",
   "execution_count": 92,
   "id": "8d8934e5-4afc-4915-8c17-6185e868275c",
   "metadata": {},
   "outputs": [],
   "source": [
    "# svc model oluşturdum parametreler  elde edilerek en iyi sonuç bulundu."
   ]
  },
  {
   "cell_type": "code",
   "execution_count": 93,
   "id": "d74d659e-3e0a-4492-bbb1-919ebbf64cc7",
   "metadata": {},
   "outputs": [],
   "source": [
    "# RBF SVC"
   ]
  },
  {
   "cell_type": "code",
   "execution_count": 94,
   "id": "7b31a8a0-e3c1-4a66-bbbf-ede0809be1e3",
   "metadata": {},
   "outputs": [],
   "source": [
    "y = df_final[\"Class\"]\n",
    "X = df_final.drop([\"Class\"], axis=1)\n",
    "X_train, X_test, y_train, y_test = train_test_split(X, y, \n",
    "                                                    test_size = 0.25, \n",
    "                                                    random_state = 42)"
   ]
  },
  {
   "cell_type": "code",
   "execution_count": 95,
   "id": "36957bf1-d21b-4c99-bf82-f6f9f99473ee",
   "metadata": {},
   "outputs": [],
   "source": [
    "svc_model = SVC(kernel = \"rbf\").fit(X_train, y_train)"
   ]
  },
  {
   "cell_type": "code",
   "execution_count": 96,
   "id": "fc435168-7680-476a-9dc4-274464d50cd2",
   "metadata": {},
   "outputs": [
    {
     "data": {
      "text/plain": [
       "SVC()"
      ]
     },
     "execution_count": 96,
     "metadata": {},
     "output_type": "execute_result"
    }
   ],
   "source": [
    "svc_model"
   ]
  },
  {
   "cell_type": "code",
   "execution_count": 97,
   "id": "d78cbb3b-965e-4f97-a752-f9879a52c767",
   "metadata": {},
   "outputs": [
    {
     "data": {
      "text/plain": [
       "0.9288636363636363"
      ]
     },
     "execution_count": 97,
     "metadata": {},
     "output_type": "execute_result"
    }
   ],
   "source": [
    "y_pred = svc_model.predict(X_test)\n",
    "accuracy_score(y_test, y_pred)"
   ]
  },
  {
   "cell_type": "code",
   "execution_count": 98,
   "id": "65386dad-4df2-4efa-abec-f23af6bc5919",
   "metadata": {},
   "outputs": [],
   "source": [
    "# rbf svc modelini kullanılarak accuracy_score"
   ]
  },
  {
   "cell_type": "code",
   "execution_count": 99,
   "id": "f4ada579-9212-4885-bbba-83a5b1edfadf",
   "metadata": {},
   "outputs": [],
   "source": [
    "svc_params = {\"C\": [0.0001, 0.001, 0.1],\n",
    "             \"gamma\": [0.0001, 0.001, 0.1]}"
   ]
  },
  {
   "cell_type": "code",
   "execution_count": 100,
   "id": "5a5f33b8-a93e-4bd5-aa14-4925fb6a4719",
   "metadata": {
    "tags": []
   },
   "outputs": [
    {
     "name": "stdout",
     "output_type": "stream",
     "text": [
      "Fitting 10 folds for each of 9 candidates, totalling 90 fits\n"
     ]
    },
    {
     "data": {
      "text/plain": [
       "GridSearchCV(cv=10, estimator=SVC(), n_jobs=-1,\n",
       "             param_grid={'C': [0.0001, 0.001, 0.1],\n",
       "                         'gamma': [0.0001, 0.001, 0.1]},\n",
       "             verbose=2)"
      ]
     },
     "execution_count": 100,
     "metadata": {},
     "output_type": "execute_result"
    }
   ],
   "source": [
    "svc = SVC()\n",
    "svc_cv_model = GridSearchCV(svc, svc_params, \n",
    "                         cv = 10, \n",
    "                         n_jobs = -1,\n",
    "                         verbose = 2)\n",
    "\n",
    "svc_cv_model.fit(X_train, y_train)"
   ]
  },
  {
   "cell_type": "code",
   "execution_count": 101,
   "id": "639dd91a-367d-4579-bc57-ce7417783a15",
   "metadata": {
    "tags": []
   },
   "outputs": [
    {
     "name": "stdout",
     "output_type": "stream",
     "text": [
      "En iyi parametreler: {'C': 0.1, 'gamma': 0.001}\n"
     ]
    }
   ],
   "source": [
    "print(\"En iyi parametreler: \" + str(svc_cv_model.best_params_))"
   ]
  },
  {
   "cell_type": "code",
   "execution_count": 102,
   "id": "81993a24-b732-4b45-aba8-b266aac8b5fd",
   "metadata": {},
   "outputs": [],
   "source": [
    "svc_tuned = SVC(C = 0.1, gamma = 0.001).fit(X_train, y_train)"
   ]
  },
  {
   "cell_type": "code",
   "execution_count": 103,
   "id": "03fa1518-36a0-46a3-9829-2a9d3e67812f",
   "metadata": {},
   "outputs": [
    {
     "data": {
      "text/plain": [
       "0.9752272727272727"
      ]
     },
     "execution_count": 103,
     "metadata": {},
     "output_type": "execute_result"
    }
   ],
   "source": [
    "y_pred = svc_tuned.predict(X_test)\n",
    "accuracy_score(y_test, y_pred)"
   ]
  },
  {
   "cell_type": "code",
   "execution_count": 104,
   "id": "80e452ac-b158-4cc8-891b-c350cdf1280d",
   "metadata": {},
   "outputs": [],
   "source": [
    "# rbf svc modelini oluşturdum parametreler  elde edilerek en iyi sonuç bulundu."
   ]
  },
  {
   "cell_type": "code",
   "execution_count": 105,
   "id": "cd34a075-051a-4ea5-aa8e-508da6cc707e",
   "metadata": {},
   "outputs": [],
   "source": [
    "# YAPAY SİNİR AĞI"
   ]
  },
  {
   "cell_type": "code",
   "execution_count": 106,
   "id": "9ec02e30-85f4-49a7-b734-f99d1aeedbea",
   "metadata": {},
   "outputs": [],
   "source": [
    "y = df_final[\"Class\"]\n",
    "X = df_final.drop([\"Class\"], axis=1)\n",
    "X_train, X_test, y_train, y_test = train_test_split(X, y, \n",
    "                                                    test_size = 0.25, \n",
    "                                                    random_state = 42)"
   ]
  },
  {
   "cell_type": "code",
   "execution_count": 107,
   "id": "1953d061-0027-43bc-b253-80d70c4df734",
   "metadata": {},
   "outputs": [],
   "source": [
    "scaler = StandardScaler()"
   ]
  },
  {
   "cell_type": "code",
   "execution_count": 108,
   "id": "9cb705ac-4cf3-4ea7-8713-f3ec2d85675b",
   "metadata": {},
   "outputs": [],
   "source": [
    "scaler.fit(X_train)\n",
    "X_train_scaled = scaler.transform(X_train)\n",
    "X_test_scaled = scaler.transform(X_test)"
   ]
  },
  {
   "cell_type": "code",
   "execution_count": 109,
   "id": "950706af-f31f-4c93-9a40-cd26eb0117dd",
   "metadata": {},
   "outputs": [],
   "source": [
    "from sklearn.neural_network import MLPClassifier"
   ]
  },
  {
   "cell_type": "code",
   "execution_count": 110,
   "id": "664bb6fb-2b9e-4e36-b2b6-3fc1bc963df3",
   "metadata": {},
   "outputs": [],
   "source": [
    "mlpc = MLPClassifier().fit(X_train_scaled, y_train)"
   ]
  },
  {
   "cell_type": "code",
   "execution_count": 111,
   "id": "69a50ab5-aedb-491c-9796-2e2bb1dd4b98",
   "metadata": {},
   "outputs": [
    {
     "data": {
      "text/plain": [
       "0.9911363636363636"
      ]
     },
     "execution_count": 111,
     "metadata": {},
     "output_type": "execute_result"
    }
   ],
   "source": [
    "y_pred = mlpc.predict(X_test_scaled)\n",
    "accuracy_score(y_test, y_pred)"
   ]
  },
  {
   "cell_type": "code",
   "execution_count": 112,
   "id": "4585d876-1382-4172-9534-b95adae9c53a",
   "metadata": {},
   "outputs": [],
   "source": [
    "#  yapay sinir ağı modelini  kullanılarak accuracy_score"
   ]
  },
  {
   "cell_type": "code",
   "execution_count": 113,
   "id": "edaefad6-dcdc-4d3d-9b5e-e3a4b545e9d7",
   "metadata": {},
   "outputs": [
    {
     "data": {
      "text/plain": [
       "MLPClassifier()"
      ]
     },
     "execution_count": 113,
     "metadata": {},
     "output_type": "execute_result"
    }
   ],
   "source": [
    "mlpc"
   ]
  },
  {
   "cell_type": "code",
   "execution_count": 114,
   "id": "ab3b689e-32f4-4595-afd4-8f37597289a6",
   "metadata": {},
   "outputs": [],
   "source": [
    "mlpc_params = {\"alpha\": [0.1, 0.01, 0.02, 0.005],\n",
    "              \"hidden_layer_sizes\": [(10,10,10),\n",
    "                                     (100,100,100),\n",
    "                                     (5, 3)],\n",
    "              \"solver\" : [\"lbfgs\",\"adam\",\"sgd\"],\n",
    "              \"activation\": [\"relu\",\"logistic\"]}\n"
   ]
  },
  {
   "cell_type": "code",
   "execution_count": 115,
   "id": "a86b0078-13d1-4272-af18-b744c76c415e",
   "metadata": {
    "tags": []
   },
   "outputs": [
    {
     "name": "stdout",
     "output_type": "stream",
     "text": [
      "Fitting 10 folds for each of 72 candidates, totalling 720 fits\n"
     ]
    },
    {
     "data": {
      "text/plain": [
       "GridSearchCV(cv=10, estimator=MLPClassifier(), n_jobs=-1,\n",
       "             param_grid={'activation': ['relu', 'logistic'],\n",
       "                         'alpha': [0.1, 0.01, 0.02, 0.005],\n",
       "                         'hidden_layer_sizes': [(10, 10, 10), (100, 100, 100),\n",
       "                                                (5, 3)],\n",
       "                         'solver': ['lbfgs', 'adam', 'sgd']},\n",
       "             verbose=2)"
      ]
     },
     "execution_count": 115,
     "metadata": {},
     "output_type": "execute_result"
    }
   ],
   "source": [
    "mlpc = MLPClassifier()\n",
    "mlpc_cv_model = GridSearchCV(mlpc, mlpc_params, \n",
    "                         cv = 10, \n",
    "                         n_jobs = -1,\n",
    "                         verbose = 2)\n",
    "\n",
    "mlpc_cv_model.fit(X_train_scaled, y_train)"
   ]
  },
  {
   "cell_type": "code",
   "execution_count": 116,
   "id": "e01726b0-b6f3-4a46-9b90-8e2b11bb66de",
   "metadata": {},
   "outputs": [
    {
     "name": "stdout",
     "output_type": "stream",
     "text": [
      "En iyi parametreler: {'activation': 'logistic', 'alpha': 0.005, 'hidden_layer_sizes': (5, 3), 'solver': 'lbfgs'}\n"
     ]
    }
   ],
   "source": [
    "print(\"En iyi parametreler: \" + str(mlpc_cv_model.best_params_))"
   ]
  },
  {
   "cell_type": "code",
   "execution_count": 117,
   "id": "06275bd5-fe04-4d88-a20f-546e3311e274",
   "metadata": {},
   "outputs": [],
   "source": [
    "mlpc_tuned = MLPClassifier(activation = \"logistic\", \n",
    "                           alpha = 0.005, \n",
    "                           hidden_layer_sizes = (100, 100, 100),\n",
    "                          solver = \"lbfgs\")"
   ]
  },
  {
   "cell_type": "code",
   "execution_count": 118,
   "id": "2e77e809-b535-45b4-940c-259b38b0a1e3",
   "metadata": {},
   "outputs": [
    {
     "data": {
      "text/plain": [
       "MLPClassifier(activation='logistic', alpha=0.005,\n",
       "              hidden_layer_sizes=(100, 100, 100), solver='lbfgs')"
      ]
     },
     "execution_count": 118,
     "metadata": {},
     "output_type": "execute_result"
    }
   ],
   "source": [
    "mlpc_tuned.fit(X_test_scaled, y_test)"
   ]
  },
  {
   "cell_type": "code",
   "execution_count": 119,
   "id": "8a61b1e9-c99f-41cb-a308-3310243b3000",
   "metadata": {},
   "outputs": [
    {
     "data": {
      "text/plain": [
       "0.9922727272727273"
      ]
     },
     "execution_count": 119,
     "metadata": {},
     "output_type": "execute_result"
    }
   ],
   "source": [
    "y_pred = mlpc_tuned.predict(X_test_scaled)\n",
    "accuracy_score(y_test, y_pred)"
   ]
  },
  {
   "cell_type": "code",
   "execution_count": 120,
   "id": "8549e78f-1645-4c89-847f-5c93b44d07ed",
   "metadata": {},
   "outputs": [],
   "source": [
    "# yapay sinir ağı modelini oluşturdum parametreler  elde edilerek en iyi sonuç bulundu."
   ]
  },
  {
   "cell_type": "code",
   "execution_count": 121,
   "id": "2d98ab2b-da41-4e0c-a1d6-3edb94acee6c",
   "metadata": {},
   "outputs": [],
   "source": [
    "#CART"
   ]
  },
  {
   "cell_type": "code",
   "execution_count": 122,
   "id": "e32692e2-dcad-4ae1-b88b-8d5e6a942502",
   "metadata": {},
   "outputs": [
    {
     "name": "stdout",
     "output_type": "stream",
     "text": [
      "Requirement already satisfied: skompiler in c:\\users\\sefao\\anaconda3\\lib\\site-packages (0.6)\n",
      "Requirement already satisfied: scikit-learn>=0.22 in c:\\users\\sefao\\anaconda3\\lib\\site-packages (from skompiler) (0.24.2)\n",
      "Requirement already satisfied: scipy>=0.19.1 in c:\\users\\sefao\\anaconda3\\lib\\site-packages (from scikit-learn>=0.22->skompiler) (1.7.1)\n",
      "Requirement already satisfied: joblib>=0.11 in c:\\users\\sefao\\anaconda3\\lib\\site-packages (from scikit-learn>=0.22->skompiler) (1.1.0)\n",
      "Requirement already satisfied: threadpoolctl>=2.0.0 in c:\\users\\sefao\\anaconda3\\lib\\site-packages (from scikit-learn>=0.22->skompiler) (2.2.0)\n",
      "Requirement already satisfied: numpy>=1.13.3 in c:\\users\\sefao\\anaconda3\\lib\\site-packages (from scikit-learn>=0.22->skompiler) (1.20.3)\n"
     ]
    }
   ],
   "source": [
    "!pip install skompiler\n",
    "from skompiler import skompile"
   ]
  },
  {
   "cell_type": "code",
   "execution_count": 123,
   "id": "16c199ec-6bbf-4b74-8b57-79e50a7f343b",
   "metadata": {},
   "outputs": [],
   "source": [
    "y = df_final[\"Class\"]\n",
    "X = df_final.drop([\"Class\"], axis=1)\n",
    "X = pd.DataFrame(X)\n",
    "X_train, X_test, y_train, y_test = train_test_split(X, y, \n",
    "                                                    test_size = 0.25, \n",
    "                                                    random_state = 42)"
   ]
  },
  {
   "cell_type": "code",
   "execution_count": 124,
   "id": "06847499-cb0d-4e6a-9629-f87d0baef047",
   "metadata": {},
   "outputs": [],
   "source": [
    "cart = DecisionTreeClassifier()\n",
    "cart_model = cart.fit(X_train, y_train)"
   ]
  },
  {
   "cell_type": "code",
   "execution_count": 125,
   "id": "98f52e5a-64b1-4459-90d7-dcc8f1872c1e",
   "metadata": {},
   "outputs": [
    {
     "data": {
      "text/plain": [
       "DecisionTreeClassifier()"
      ]
     },
     "execution_count": 125,
     "metadata": {},
     "output_type": "execute_result"
    }
   ],
   "source": [
    "cart_model"
   ]
  },
  {
   "cell_type": "code",
   "execution_count": 126,
   "id": "abd45c0f-7ab6-4d72-bcf6-72fe1615d276",
   "metadata": {},
   "outputs": [
    {
     "data": {
      "text/plain": [
       "0.9856818181818182"
      ]
     },
     "execution_count": 126,
     "metadata": {},
     "output_type": "execute_result"
    }
   ],
   "source": [
    "y_pred = cart_model.predict(X_test)\n",
    "accuracy_score(y_test, y_pred)"
   ]
  },
  {
   "cell_type": "code",
   "execution_count": 127,
   "id": "6a84eb3e-38a2-48df-a876-d766c5cd5218",
   "metadata": {},
   "outputs": [],
   "source": [
    "#ağaç algoritması kullanılarak accuracy_score"
   ]
  },
  {
   "cell_type": "code",
   "execution_count": 128,
   "id": "7aa98d4d-7506-4d28-93ad-39cdda6de3af",
   "metadata": {},
   "outputs": [
    {
     "data": {
      "text/plain": [
       "DecisionTreeClassifier()"
      ]
     },
     "execution_count": 128,
     "metadata": {},
     "output_type": "execute_result"
    }
   ],
   "source": [
    "cart_model"
   ]
  },
  {
   "cell_type": "code",
   "execution_count": 129,
   "id": "6d60a2a5-7faa-42ba-ac39-260d7308c64e",
   "metadata": {},
   "outputs": [],
   "source": [
    "cart_grid = {\"max_depth\": range(1,10),\n",
    "            \"min_samples_split\" : list(range(2,50)) }"
   ]
  },
  {
   "cell_type": "code",
   "execution_count": 130,
   "id": "d4fc35b9-ab42-480b-9dc3-46665c206893",
   "metadata": {},
   "outputs": [
    {
     "name": "stdout",
     "output_type": "stream",
     "text": [
      "Fitting 10 folds for each of 432 candidates, totalling 4320 fits\n"
     ]
    }
   ],
   "source": [
    "cart = tree.DecisionTreeClassifier()\n",
    "cart_cv = GridSearchCV(cart, cart_grid, cv = 10, n_jobs = -1, verbose = 2)\n",
    "cart_cv_model = cart_cv.fit(X_train, y_train)"
   ]
  },
  {
   "cell_type": "code",
   "execution_count": 131,
   "id": "9a626cf9-0278-4691-94e3-a8d83b3b9cca",
   "metadata": {},
   "outputs": [
    {
     "name": "stdout",
     "output_type": "stream",
     "text": [
      "En iyi parametreler: {'max_depth': 4, 'min_samples_split': 10}\n"
     ]
    }
   ],
   "source": [
    "print(\"En iyi parametreler: \" + str(cart_cv_model.best_params_))"
   ]
  },
  {
   "cell_type": "code",
   "execution_count": 132,
   "id": "bdc6b824-35c8-4d6d-96da-4317b9dbc644",
   "metadata": {},
   "outputs": [],
   "source": [
    "cart = tree.DecisionTreeClassifier(max_depth = 4, min_samples_split = 23)\n",
    "cart_tuned = cart.fit(X_train, y_train)"
   ]
  },
  {
   "cell_type": "code",
   "execution_count": 133,
   "id": "f2c78381-a9d0-4896-a1b8-9a0524d702df",
   "metadata": {},
   "outputs": [
    {
     "data": {
      "text/plain": [
       "0.9902272727272727"
      ]
     },
     "execution_count": 133,
     "metadata": {},
     "output_type": "execute_result"
    }
   ],
   "source": [
    "y_pred = cart_tuned.predict(X_test)\n",
    "accuracy_score(y_test, y_pred)"
   ]
  },
  {
   "cell_type": "code",
   "execution_count": 134,
   "id": "80513f74-e579-4d31-bf6b-01a115f9fa5d",
   "metadata": {},
   "outputs": [],
   "source": [
    "#ağaç modelini  oluşturdum parametreler  elde edilerek en iyi sonuç bulundu."
   ]
  },
  {
   "cell_type": "code",
   "execution_count": 135,
   "id": "c00ea6b3-136c-4dd0-9503-143902ed87e7",
   "metadata": {},
   "outputs": [],
   "source": [
    "#Random Forests"
   ]
  },
  {
   "cell_type": "code",
   "execution_count": 136,
   "id": "1544911a-5013-408c-870e-187393ce2b34",
   "metadata": {},
   "outputs": [],
   "source": [
    "y = df_final[\"Class\"]\n",
    "X = df_final.drop([\"Class\"], axis=1)\n",
    "X = pd.DataFrame(X)\n",
    "X_train, X_test, y_train, y_test = train_test_split(X, y, \n",
    "                                                    test_size = 0.25, \n",
    "                                                    random_state = 42)"
   ]
  },
  {
   "cell_type": "code",
   "execution_count": 137,
   "id": "380b2c33-e928-4c2b-af09-e723fdbca2f3",
   "metadata": {},
   "outputs": [],
   "source": [
    "rf_model = RandomForestClassifier().fit(X_train, y_train)"
   ]
  },
  {
   "cell_type": "code",
   "execution_count": 138,
   "id": "0c0bd30c-761e-439e-8a14-c37260ef3b76",
   "metadata": {},
   "outputs": [
    {
     "data": {
      "text/plain": [
       "RandomForestClassifier()"
      ]
     },
     "execution_count": 138,
     "metadata": {},
     "output_type": "execute_result"
    }
   ],
   "source": [
    "rf_model"
   ]
  },
  {
   "cell_type": "code",
   "execution_count": 139,
   "id": "b93c25b2-3c6f-4273-afe3-324f7264ff63",
   "metadata": {},
   "outputs": [
    {
     "data": {
      "text/plain": [
       "0.9918181818181818"
      ]
     },
     "execution_count": 139,
     "metadata": {},
     "output_type": "execute_result"
    }
   ],
   "source": [
    "y_pred = rf_model.predict(X_test)\n",
    "accuracy_score(y_test, y_pred)"
   ]
  },
  {
   "cell_type": "code",
   "execution_count": 140,
   "id": "fe43c300-db05-45c9-a3a5-3aaa1c3b566f",
   "metadata": {},
   "outputs": [],
   "source": [
    "#Random Foreşt model kullanılarak accuracy_score"
   ]
  },
  {
   "cell_type": "code",
   "execution_count": 141,
   "id": "17131215-5a6b-4b96-8abd-a3761d67ad98",
   "metadata": {},
   "outputs": [
    {
     "data": {
      "text/plain": [
       "RandomForestClassifier()"
      ]
     },
     "execution_count": 141,
     "metadata": {},
     "output_type": "execute_result"
    }
   ],
   "source": [
    "rf_model"
   ]
  },
  {
   "cell_type": "code",
   "execution_count": 142,
   "id": "f5c72209-4179-499e-86d1-26d56118562f",
   "metadata": {},
   "outputs": [],
   "source": [
    "rf_params = {\"max_depth\": [2,5],\n",
    "            \"max_features\": [2,5],\n",
    "            \"n_estimators\": [10,500],\n",
    "            \"min_samples_split\": [2,5]}"
   ]
  },
  {
   "cell_type": "code",
   "execution_count": 143,
   "id": "4dc465e7-0f0a-406b-af8b-aeb6a0242182",
   "metadata": {},
   "outputs": [],
   "source": [
    "rf_model = RandomForestClassifier()\n",
    "\n",
    "rf_cv_model = GridSearchCV(rf_model, \n",
    "                           rf_params, \n",
    "                           cv = 10, \n",
    "                           n_jobs = -1, \n",
    "                           verbose = 2) "
   ]
  },
  {
   "cell_type": "code",
   "execution_count": 144,
   "id": "d5f69e83-2cac-4aaf-9196-d4e5db9942a4",
   "metadata": {},
   "outputs": [
    {
     "name": "stdout",
     "output_type": "stream",
     "text": [
      "Fitting 10 folds for each of 16 candidates, totalling 160 fits\n"
     ]
    },
    {
     "data": {
      "text/plain": [
       "GridSearchCV(cv=10, estimator=RandomForestClassifier(), n_jobs=-1,\n",
       "             param_grid={'max_depth': [2, 5], 'max_features': [2, 5],\n",
       "                         'min_samples_split': [2, 5],\n",
       "                         'n_estimators': [10, 500]},\n",
       "             verbose=2)"
      ]
     },
     "execution_count": 144,
     "metadata": {},
     "output_type": "execute_result"
    }
   ],
   "source": [
    "rf_cv_model.fit(X_train, y_train)"
   ]
  },
  {
   "cell_type": "code",
   "execution_count": 145,
   "id": "e2230601-8166-4717-8b49-14acb64b3604",
   "metadata": {},
   "outputs": [
    {
     "name": "stdout",
     "output_type": "stream",
     "text": [
      "En iyi parametreler: {'max_depth': 5, 'max_features': 2, 'min_samples_split': 5, 'n_estimators': 500}\n"
     ]
    }
   ],
   "source": [
    "print(\"En iyi parametreler: \" + str(rf_cv_model.best_params_))"
   ]
  },
  {
   "cell_type": "code",
   "execution_count": 146,
   "id": "5a00fa6b-278e-49a3-a4c8-b42ba066aa36",
   "metadata": {},
   "outputs": [
    {
     "data": {
      "text/plain": [
       "RandomForestClassifier(max_depth=5, max_features=5, min_samples_split=5,\n",
       "                       n_estimators=500)"
      ]
     },
     "execution_count": 146,
     "metadata": {},
     "output_type": "execute_result"
    }
   ],
   "source": [
    "rf_tuned = RandomForestClassifier(max_depth = 5, \n",
    "                                  max_features = 5, \n",
    "                                  min_samples_split = 5,\n",
    "                                  n_estimators = 500)\n",
    "\n",
    "rf_tuned.fit(X_train, y_train)"
   ]
  },
  {
   "cell_type": "code",
   "execution_count": 147,
   "id": "52d12037-3815-43a8-8b20-f2fc21bb9d3d",
   "metadata": {},
   "outputs": [
    {
     "data": {
      "text/plain": [
       "0.9913636363636363"
      ]
     },
     "execution_count": 147,
     "metadata": {},
     "output_type": "execute_result"
    }
   ],
   "source": [
    "y_pred = rf_tuned.predict(X_test)\n",
    "accuracy_score(y_test, y_pred)"
   ]
  },
  {
   "cell_type": "code",
   "execution_count": 148,
   "id": "859bc2cc-668f-47a5-a6f9-64b65261e228",
   "metadata": {},
   "outputs": [],
   "source": [
    "Importance = pd.DataFrame({\"Importance\": rf_tuned.feature_importances_*100},\n",
    "                         index = X_train.columns)"
   ]
  },
  {
   "cell_type": "code",
   "execution_count": 149,
   "id": "51b2e36e-78e5-4fa5-9b5d-fa404fe4a341",
   "metadata": {},
   "outputs": [
    {
     "data": {
      "text/plain": [
       "Text(0.5, 0, 'Değişken Önem Düzeyleri')"
      ]
     },
     "execution_count": 149,
     "metadata": {},
     "output_type": "execute_result"
    },
    {
     "data": {
      "image/png": "[encoded data removed]",
      "text/plain": [
       "<Figure size 432x288 with 1 Axes>"
      ]
     },
     "metadata": {
      "needs_background": "light"
     },
     "output_type": "display_data"
    }
   ],
   "source": [
    "Importance.sort_values(by = \"Importance\", \n",
    "                       axis = 0, \n",
    "                       ascending = True).plot(kind =\"barh\", color = \"r\")\n",
    "\n",
    "plt.xlabel(\"Değişken Önem Düzeyleri\")"
   ]
  },
  {
   "cell_type": "code",
   "execution_count": 150,
   "id": "3c93ad14-4311-457f-b0c7-3bc200f502be",
   "metadata": {},
   "outputs": [],
   "source": [
    "#Random Forest modelini  oluşturdum parametreler  elde edilerek en iyi sonuç bulundu."
   ]
  },
  {
   "cell_type": "code",
   "execution_count": 151,
   "id": "709fd17b-a7bf-4968-8a33-099c8d9100f5",
   "metadata": {},
   "outputs": [],
   "source": [
    "#Gradient Boosting Machines"
   ]
  },
  {
   "cell_type": "code",
   "execution_count": 152,
   "id": "85d0bd5d-6db8-4458-9389-4cc264e66852",
   "metadata": {},
   "outputs": [],
   "source": [
    "y = df_final[\"Class\"]\n",
    "X = df_final.drop([\"Class\"], axis=1)\n",
    "X = pd.DataFrame(X)\n",
    "X_train, X_test, y_train, y_test = train_test_split(X, y, \n",
    "                                                    test_size = 0.25, \n",
    "                                                    random_state = 42)"
   ]
  },
  {
   "cell_type": "code",
   "execution_count": 153,
   "id": "00b1de90-254b-4c32-ba52-6d8956efc5a6",
   "metadata": {},
   "outputs": [],
   "source": [
    "from sklearn.ensemble import GradientBoostingClassifier"
   ]
  },
  {
   "cell_type": "code",
   "execution_count": 154,
   "id": "66209313-d68d-4fce-8478-d548847d1907",
   "metadata": {},
   "outputs": [],
   "source": [
    "gbm_model = GradientBoostingClassifier().fit(X_train, y_train)"
   ]
  },
  {
   "cell_type": "code",
   "execution_count": 155,
   "id": "78bc901d-8bb2-47fe-993d-862f796a2a9c",
   "metadata": {},
   "outputs": [
    {
     "data": {
      "text/plain": [
       "0.9906818181818182"
      ]
     },
     "execution_count": 155,
     "metadata": {},
     "output_type": "execute_result"
    }
   ],
   "source": [
    "y_pred = gbm_model.predict(X_test)\n",
    "accuracy_score(y_test, y_pred)"
   ]
  },
  {
   "cell_type": "code",
   "execution_count": 156,
   "id": "c7806cdd-40d9-4687-838b-4fcc6c61362e",
   "metadata": {},
   "outputs": [],
   "source": [
    "#Gradient Boosting Machines Model kullanılarak accuracy_score"
   ]
  },
  {
   "cell_type": "code",
   "execution_count": 157,
   "id": "4290ea3c-0967-4c60-9c6b-c93295f43571",
   "metadata": {},
   "outputs": [
    {
     "data": {
      "text/plain": [
       "GradientBoostingClassifier()"
      ]
     },
     "execution_count": 157,
     "metadata": {},
     "output_type": "execute_result"
    }
   ],
   "source": [
    "gbm_model"
   ]
  },
  {
   "cell_type": "code",
   "execution_count": 158,
   "id": "71e5fa97-a3f2-40b1-9344-1ebf92426311",
   "metadata": {},
   "outputs": [],
   "source": [
    "gbm_params = {\"learning_rate\" : [0.01, 0.1],\n",
    "             \"n_estimators\": [100,500,],\n",
    "             \"max_depth\": [3,5],\n",
    "             \"min_samples_split\": [5,10]}"
   ]
  },
  {
   "cell_type": "code",
   "execution_count": 159,
   "id": "7b98db8d-381b-4066-82ca-59dc42fc3618",
   "metadata": {},
   "outputs": [],
   "source": [
    "gbm = GradientBoostingClassifier()\n",
    "\n",
    "gbm_cv = GridSearchCV(gbm, gbm_params, cv = 10, n_jobs = -1, verbose = 2)"
   ]
  },
  {
   "cell_type": "code",
   "execution_count": 160,
   "id": "a0499f3d-309f-48ab-8b41-e28498f24c77",
   "metadata": {},
   "outputs": [
    {
     "name": "stdout",
     "output_type": "stream",
     "text": [
      "Fitting 10 folds for each of 16 candidates, totalling 160 fits\n"
     ]
    },
    {
     "data": {
      "text/plain": [
       "GridSearchCV(cv=10, estimator=GradientBoostingClassifier(), n_jobs=-1,\n",
       "             param_grid={'learning_rate': [0.01, 0.1], 'max_depth': [3, 5],\n",
       "                         'min_samples_split': [5, 10],\n",
       "                         'n_estimators': [100, 500]},\n",
       "             verbose=2)"
      ]
     },
     "execution_count": 160,
     "metadata": {},
     "output_type": "execute_result"
    }
   ],
   "source": [
    "gbm_cv.fit(X_train, y_train)"
   ]
  },
  {
   "cell_type": "code",
   "execution_count": 161,
   "id": "0d32e916-bee1-43db-8852-496102db80aa",
   "metadata": {},
   "outputs": [
    {
     "name": "stdout",
     "output_type": "stream",
     "text": [
      "En iyi parametreler: {'learning_rate': 0.01, 'max_depth': 3, 'min_samples_split': 10, 'n_estimators': 500}\n"
     ]
    }
   ],
   "source": [
    "print(\"En iyi parametreler: \" + str(gbm_cv.best_params_))"
   ]
  },
  {
   "cell_type": "code",
   "execution_count": 162,
   "id": "623fe0e6-b4fd-4e07-987f-81f7d07569cd",
   "metadata": {},
   "outputs": [],
   "source": [
    "gbm = GradientBoostingClassifier(learning_rate = 0.01, \n",
    "                                 max_depth = 3,\n",
    "                                min_samples_split = 5,\n",
    "                                n_estimators = 500)"
   ]
  },
  {
   "cell_type": "code",
   "execution_count": 163,
   "id": "599eef55-f8f6-4846-bb25-7051ae63e602",
   "metadata": {},
   "outputs": [],
   "source": [
    "gbm_tuned =  gbm.fit(X_train,y_train)"
   ]
  },
  {
   "cell_type": "code",
   "execution_count": 164,
   "id": "57f97e0c-612a-4535-b231-3a62ce70572c",
   "metadata": {},
   "outputs": [
    {
     "data": {
      "text/plain": [
       "0.9904545454545455"
      ]
     },
     "execution_count": 164,
     "metadata": {},
     "output_type": "execute_result"
    }
   ],
   "source": [
    "y_pred = gbm_tuned.predict(X_test)\n",
    "accuracy_score(y_test, y_pred)"
   ]
  },
  {
   "cell_type": "code",
   "execution_count": 165,
   "id": "86bde8ec-ba3f-45f8-b4ce-556cc6ea8d68",
   "metadata": {},
   "outputs": [],
   "source": [
    "#Gradient Boosting Machines modelini  oluşturdum parametreler  elde edilerek en iyi sonuç bulundu."
   ]
  },
  {
   "cell_type": "code",
   "execution_count": 166,
   "id": "2fc812f0-b7e8-4cf9-9ae4-69550cf766fb",
   "metadata": {},
   "outputs": [],
   "source": [
    "#XGBoost\n"
   ]
  },
  {
   "cell_type": "code",
   "execution_count": 167,
   "id": "4f8dace1-838f-4adf-bd81-4738e6ca9e5c",
   "metadata": {},
   "outputs": [],
   "source": [
    "y = df_final[\"Class\"]\n",
    "X = df_final.drop([\"Class\"], axis=1)\n",
    "X = pd.DataFrame(X)\n",
    "X_train, X_test, y_train, y_test = train_test_split(X, y, \n",
    "                                                    test_size = 0.25, \n",
    "                                                    random_state = 42)"
   ]
  },
  {
   "cell_type": "code",
   "execution_count": 168,
   "id": "56359e29-0f6c-4d2b-8383-2e749127e745",
   "metadata": {},
   "outputs": [
    {
     "name": "stdout",
     "output_type": "stream",
     "text": [
      "Requirement already satisfied: xgboost in c:\\users\\sefao\\anaconda3\\lib\\site-packages (1.6.1)\n",
      "Requirement already satisfied: scipy in c:\\users\\sefao\\anaconda3\\lib\\site-packages (from xgboost) (1.7.1)\n",
      "Requirement already satisfied: numpy in c:\\users\\sefao\\anaconda3\\lib\\site-packages (from xgboost) (1.20.3)\n"
     ]
    }
   ],
   "source": [
    "!pip install xgboost\n",
    "from xgboost import XGBClassifier"
   ]
  },
  {
   "cell_type": "code",
   "execution_count": 169,
   "id": "83410999-bf32-4215-be78-b2af809a83f7",
   "metadata": {},
   "outputs": [],
   "source": [
    "xgb_model = XGBClassifier().fit(X_train, y_train)"
   ]
  },
  {
   "cell_type": "code",
   "execution_count": 170,
   "id": "fbc26c9b-9b46-427c-9852-735bfb0bdf61",
   "metadata": {},
   "outputs": [
    {
     "data": {
      "text/plain": [
       "XGBClassifier(base_score=0.5, booster='gbtree', callbacks=None,\n",
       "              colsample_bylevel=1, colsample_bynode=1, colsample_bytree=1,\n",
       "              early_stopping_rounds=None, enable_categorical=False,\n",
       "              eval_metric=None, gamma=0, gpu_id=-1, grow_policy='depthwise',\n",
       "              importance_type=None, interaction_constraints='',\n",
       "              learning_rate=0.300000012, max_bin=256, max_cat_to_onehot=4,\n",
       "              max_delta_step=0, max_depth=6, max_leaves=0, min_child_weight=1,\n",
       "              missing=nan, monotone_constraints='()', n_estimators=100,\n",
       "              n_jobs=0, num_parallel_tree=1, predictor='auto', random_state=0,\n",
       "              reg_alpha=0, reg_lambda=1, ...)"
      ]
     },
     "execution_count": 170,
     "metadata": {},
     "output_type": "execute_result"
    }
   ],
   "source": [
    "xgb_model"
   ]
  },
  {
   "cell_type": "code",
   "execution_count": 171,
   "id": "d54a627f-b550-4145-8296-6e6ce9a329c4",
   "metadata": {},
   "outputs": [
    {
     "data": {
      "text/plain": [
       "0.9906818181818182"
      ]
     },
     "execution_count": 171,
     "metadata": {},
     "output_type": "execute_result"
    }
   ],
   "source": [
    "y_pred = xgb_model.predict(X_test)\n",
    "accuracy_score(y_test, y_pred)"
   ]
  },
  {
   "cell_type": "code",
   "execution_count": 172,
   "id": "c843092e-9e6f-45ab-962e-bd3023255369",
   "metadata": {},
   "outputs": [],
   "source": [
    "# XGBoost Model kullanılarak accuracy_score"
   ]
  },
  {
   "cell_type": "code",
   "execution_count": 173,
   "id": "a6809d09-5a39-4be0-9b08-86cded8472df",
   "metadata": {},
   "outputs": [
    {
     "data": {
      "text/plain": [
       "XGBClassifier(base_score=0.5, booster='gbtree', callbacks=None,\n",
       "              colsample_bylevel=1, colsample_bynode=1, colsample_bytree=1,\n",
       "              early_stopping_rounds=None, enable_categorical=False,\n",
       "              eval_metric=None, gamma=0, gpu_id=-1, grow_policy='depthwise',\n",
       "              importance_type=None, interaction_constraints='',\n",
       "              learning_rate=0.300000012, max_bin=256, max_cat_to_onehot=4,\n",
       "              max_delta_step=0, max_depth=6, max_leaves=0, min_child_weight=1,\n",
       "              missing=nan, monotone_constraints='()', n_estimators=100,\n",
       "              n_jobs=0, num_parallel_tree=1, predictor='auto', random_state=0,\n",
       "              reg_alpha=0, reg_lambda=1, ...)"
      ]
     },
     "execution_count": 173,
     "metadata": {},
     "output_type": "execute_result"
    }
   ],
   "source": [
    "xgb_model"
   ]
  },
  {
   "cell_type": "code",
   "execution_count": 174,
   "id": "1da04a75-327e-4319-be19-8ed0db40787b",
   "metadata": {},
   "outputs": [],
   "source": [
    "xgb_params = {\n",
    "        'n_estimators': [100, 500],\n",
    "        'subsample': [0.6, 0.8],\n",
    "        'max_depth': [3, 4],\n",
    "        'learning_rate': [0.02,0.05],\n",
    "        \"min_samples_split\": [5,10]}"
   ]
  },
  {
   "cell_type": "code",
   "execution_count": 175,
   "id": "0fe90430-fe94-48ab-a307-5db52a5928a0",
   "metadata": {},
   "outputs": [],
   "source": [
    "xgb = XGBClassifier()\n",
    "\n",
    "xgb_cv_model = GridSearchCV(xgb, xgb_params, cv = 10, n_jobs = -1, verbose = 2)"
   ]
  },
  {
   "cell_type": "code",
   "execution_count": 176,
   "id": "d24d66eb-11cf-496c-9a4a-ea4938399fdd",
   "metadata": {},
   "outputs": [
    {
     "name": "stdout",
     "output_type": "stream",
     "text": [
      "Fitting 10 folds for each of 32 candidates, totalling 320 fits\n",
      "[19:45:18] WARNING: C:/Users/Administrator/workspace/xgboost-win64_release_1.6.0/src/learner.cc:627: \n",
      "Parameters: { \"min_samples_split\" } might not be used.\n",
      "\n",
      "  This could be a false alarm, with some parameters getting used by language bindings but\n",
      "  then being mistakenly passed down to XGBoost core, or some parameter actually being used\n",
      "  but getting flagged wrongly here. Please open an issue if you find any such cases.\n",
      "\n",
      "\n"
     ]
    },
    {
     "data": {
      "text/plain": [
       "GridSearchCV(cv=10,\n",
       "             estimator=XGBClassifier(base_score=None, booster=None,\n",
       "                                     callbacks=None, colsample_bylevel=None,\n",
       "                                     colsample_bynode=None,\n",
       "                                     colsample_bytree=None,\n",
       "                                     early_stopping_rounds=None,\n",
       "                                     enable_categorical=False, eval_metric=None,\n",
       "                                     gamma=None, gpu_id=None, grow_policy=None,\n",
       "                                     importance_type=None,\n",
       "                                     interaction_constraints=None,\n",
       "                                     learning_rate=None, max_bin=None,\n",
       "                                     max_c...\n",
       "                                     max_leaves=None, min_child_weight=None,\n",
       "                                     missing=nan, monotone_constraints=None,\n",
       "                                     n_estimators=100, n_jobs=None,\n",
       "                                     num_parallel_tree=None, predictor=None,\n",
       "                                     random_state=None, reg_alpha=None,\n",
       "                                     reg_lambda=None, ...),\n",
       "             n_jobs=-1,\n",
       "             param_grid={'learning_rate': [0.02, 0.05], 'max_depth': [3, 4],\n",
       "                         'min_samples_split': [5, 10],\n",
       "                         'n_estimators': [100, 500], 'subsample': [0.6, 0.8]},\n",
       "             verbose=2)"
      ]
     },
     "execution_count": 176,
     "metadata": {},
     "output_type": "execute_result"
    }
   ],
   "source": [
    "xgb_cv_model.fit(X_train, y_train)"
   ]
  },
  {
   "cell_type": "code",
   "execution_count": 177,
   "id": "15922c2c-3864-4364-859c-9b77127d39c9",
   "metadata": {},
   "outputs": [
    {
     "data": {
      "text/plain": [
       "{'learning_rate': 0.02,\n",
       " 'max_depth': 4,\n",
       " 'min_samples_split': 5,\n",
       " 'n_estimators': 100,\n",
       " 'subsample': 0.6}"
      ]
     },
     "execution_count": 177,
     "metadata": {},
     "output_type": "execute_result"
    }
   ],
   "source": [
    "xgb_cv_model.best_params_"
   ]
  },
  {
   "cell_type": "code",
   "execution_count": 178,
   "id": "4e66c543-1cf6-453f-bcf3-d2b1ef8b2f0b",
   "metadata": {},
   "outputs": [],
   "source": [
    "xgb = XGBClassifier(learning_rate = 0.02, \n",
    "                    max_depth = 4,\n",
    "                    min_samples_split = 5,\n",
    "                    n_estimators = 100,\n",
    "                    subsample = 0.6)"
   ]
  },
  {
   "cell_type": "code",
   "execution_count": 179,
   "id": "00edfdd1-4425-4b88-b3ec-48c09f45a5f7",
   "metadata": {},
   "outputs": [
    {
     "name": "stdout",
     "output_type": "stream",
     "text": [
      "[19:45:19] WARNING: C:/Users/Administrator/workspace/xgboost-win64_release_1.6.0/src/learner.cc:627: \n",
      "Parameters: { \"min_samples_split\" } might not be used.\n",
      "\n",
      "  This could be a false alarm, with some parameters getting used by language bindings but\n",
      "  then being mistakenly passed down to XGBoost core, or some parameter actually being used\n",
      "  but getting flagged wrongly here. Please open an issue if you find any such cases.\n",
      "\n",
      "\n"
     ]
    }
   ],
   "source": [
    "xgb_tuned =  xgb.fit(X_train,y_train)"
   ]
  },
  {
   "cell_type": "code",
   "execution_count": 180,
   "id": "eb8e5a8e-0a86-411b-a7b5-7e8e98bf2ec4",
   "metadata": {},
   "outputs": [
    {
     "data": {
      "text/plain": [
       "0.990909090909091"
      ]
     },
     "execution_count": 180,
     "metadata": {},
     "output_type": "execute_result"
    }
   ],
   "source": [
    "y_pred = xgb_tuned.predict(X_test)\n",
    "accuracy_score(y_test, y_pred)"
   ]
  },
  {
   "cell_type": "code",
   "execution_count": 181,
   "id": "3fa1f7c1-55d3-4a5a-9dbd-a95e76de8175",
   "metadata": {},
   "outputs": [],
   "source": [
    "# XGBoost modelini  oluşturdum parametreler  elde edilerek en iyi sonuç bulundu."
   ]
  },
  {
   "cell_type": "code",
   "execution_count": 182,
   "id": "df040cdd-a57c-4564-b453-ee6d6f370d09",
   "metadata": {},
   "outputs": [],
   "source": [
    "# CatBoost"
   ]
  },
  {
   "cell_type": "code",
   "execution_count": 199,
   "id": "07d041a4-dd09-4094-a8bf-7ca48895f4c6",
   "metadata": {},
   "outputs": [],
   "source": [
    "y = df_final[\"Class\"]\n",
    "X = df_final.drop([\"Class\"], axis=1)\n",
    "X = pd.DataFrame(X)\n",
    "X_train, X_test, y_train, y_test = train_test_split(X, y, \n",
    "                                                    test_size = 0.25, \n",
    "                                                    random_state = 42)"
   ]
  },
  {
   "cell_type": "code",
   "execution_count": 200,
   "id": "70f00017-552a-4b0b-9175-067864079472",
   "metadata": {
    "tags": []
   },
   "outputs": [
    {
     "name": "stdout",
     "output_type": "stream",
     "text": [
      "Requirement already satisfied: catboost in c:\\users\\sefao\\anaconda3\\lib\\site-packages (1.0.6)\n",
      "Requirement already satisfied: plotly in c:\\users\\sefao\\anaconda3\\lib\\site-packages (from catboost) (5.8.0)\n",
      "Requirement already satisfied: scipy in c:\\users\\sefao\\anaconda3\\lib\\site-packages (from catboost) (1.7.1)\n",
      "Requirement already satisfied: six in c:\\users\\sefao\\anaconda3\\lib\\site-packages (from catboost) (1.16.0)\n",
      "Requirement already satisfied: numpy>=1.16.0 in c:\\users\\sefao\\anaconda3\\lib\\site-packages (from catboost) (1.20.3)\n",
      "Requirement already satisfied: pandas>=0.24.0 in c:\\users\\sefao\\anaconda3\\lib\\site-packages (from catboost) (1.3.4)\n",
      "Requirement already satisfied: graphviz in c:\\users\\sefao\\anaconda3\\lib\\site-packages (from catboost) (0.20)\n",
      "Requirement already satisfied: matplotlib in c:\\users\\sefao\\anaconda3\\lib\\site-packages (from catboost) (3.4.3)\n",
      "Requirement already satisfied: pytz>=2017.3 in c:\\users\\sefao\\anaconda3\\lib\\site-packages (from pandas>=0.24.0->catboost) (2021.3)\n",
      "Requirement already satisfied: python-dateutil>=2.7.3 in c:\\users\\sefao\\anaconda3\\lib\\site-packages (from pandas>=0.24.0->catboost) (2.8.2)\n",
      "Requirement already satisfied: pillow>=6.2.0 in c:\\users\\sefao\\anaconda3\\lib\\site-packages (from matplotlib->catboost) (8.4.0)\n",
      "Requirement already satisfied: cycler>=0.10 in c:\\users\\sefao\\anaconda3\\lib\\site-packages (from matplotlib->catboost) (0.10.0)\n",
      "Requirement already satisfied: pyparsing>=2.2.1 in c:\\users\\sefao\\anaconda3\\lib\\site-packages (from matplotlib->catboost) (3.0.4)\n",
      "Requirement already satisfied: kiwisolver>=1.0.1 in c:\\users\\sefao\\anaconda3\\lib\\site-packages (from matplotlib->catboost) (1.3.1)\n",
      "Requirement already satisfied: tenacity>=6.2.0 in c:\\users\\sefao\\anaconda3\\lib\\site-packages (from plotly->catboost) (8.0.1)\n"
     ]
    }
   ],
   "source": [
    "!pip install catboost\n",
    "from catboost import CatBoostClassifier"
   ]
  },
  {
   "cell_type": "code",
   "execution_count": 201,
   "id": "ebf44bb9-cfa7-4774-a5a4-119ff6601fc3",
   "metadata": {
    "jupyter": {
     "outputs_hidden": true
    },
    "scrolled": true,
    "tags": []
   },
   "outputs": [
    {
     "name": "stdout",
     "output_type": "stream",
     "text": [
      "Learning rate set to 0.031001\n",
      "0:\tlearn: 0.6128165\ttotal: 10.1ms\tremaining: 10.1s\n",
      "1:\tlearn: 0.5410517\ttotal: 15.2ms\tremaining: 7.59s\n",
      "2:\tlearn: 0.4724199\ttotal: 20.2ms\tremaining: 6.73s\n",
      "3:\tlearn: 0.4188300\ttotal: 25.6ms\tremaining: 6.37s\n",
      "4:\tlearn: 0.3671537\ttotal: 30.5ms\tremaining: 6.07s\n",
      "5:\tlearn: 0.3254920\ttotal: 35.6ms\tremaining: 5.9s\n",
      "6:\tlearn: 0.2916133\ttotal: 42.2ms\tremaining: 5.99s\n",
      "7:\tlearn: 0.2587316\ttotal: 47.6ms\tremaining: 5.9s\n",
      "8:\tlearn: 0.2352533\ttotal: 53.2ms\tremaining: 5.85s\n",
      "9:\tlearn: 0.2137489\ttotal: 58.3ms\tremaining: 5.77s\n",
      "10:\tlearn: 0.1929300\ttotal: 64.2ms\tremaining: 5.78s\n",
      "11:\tlearn: 0.1735379\ttotal: 70.2ms\tremaining: 5.78s\n",
      "12:\tlearn: 0.1560110\ttotal: 78.7ms\tremaining: 5.97s\n",
      "13:\tlearn: 0.1439838\ttotal: 83.5ms\tremaining: 5.88s\n",
      "14:\tlearn: 0.1316021\ttotal: 88.4ms\tremaining: 5.81s\n",
      "15:\tlearn: 0.1206546\ttotal: 94ms\tremaining: 5.78s\n",
      "16:\tlearn: 0.1107817\ttotal: 99ms\tremaining: 5.72s\n",
      "17:\tlearn: 0.1023993\ttotal: 104ms\tremaining: 5.7s\n",
      "18:\tlearn: 0.0947278\ttotal: 109ms\tremaining: 5.65s\n",
      "19:\tlearn: 0.0889894\ttotal: 114ms\tremaining: 5.6s\n",
      "20:\tlearn: 0.0833320\ttotal: 120ms\tremaining: 5.6s\n",
      "21:\tlearn: 0.0783197\ttotal: 125ms\tremaining: 5.57s\n",
      "22:\tlearn: 0.0736170\ttotal: 131ms\tremaining: 5.55s\n",
      "23:\tlearn: 0.0692926\ttotal: 136ms\tremaining: 5.53s\n",
      "24:\tlearn: 0.0656926\ttotal: 142ms\tremaining: 5.53s\n",
      "25:\tlearn: 0.0623665\ttotal: 147ms\tremaining: 5.49s\n",
      "26:\tlearn: 0.0591304\ttotal: 151ms\tremaining: 5.45s\n",
      "27:\tlearn: 0.0566318\ttotal: 156ms\tremaining: 5.42s\n",
      "28:\tlearn: 0.0545655\ttotal: 161ms\tremaining: 5.38s\n",
      "29:\tlearn: 0.0526442\ttotal: 165ms\tremaining: 5.34s\n",
      "30:\tlearn: 0.0510070\ttotal: 171ms\tremaining: 5.34s\n",
      "31:\tlearn: 0.0493290\ttotal: 176ms\tremaining: 5.32s\n",
      "32:\tlearn: 0.0477256\ttotal: 181ms\tremaining: 5.3s\n",
      "33:\tlearn: 0.0463339\ttotal: 186ms\tremaining: 5.29s\n",
      "34:\tlearn: 0.0451118\ttotal: 191ms\tremaining: 5.27s\n",
      "35:\tlearn: 0.0439723\ttotal: 197ms\tremaining: 5.28s\n",
      "36:\tlearn: 0.0429153\ttotal: 206ms\tremaining: 5.37s\n",
      "37:\tlearn: 0.0419235\ttotal: 211ms\tremaining: 5.35s\n",
      "38:\tlearn: 0.0410010\ttotal: 217ms\tremaining: 5.36s\n",
      "39:\tlearn: 0.0402051\ttotal: 223ms\tremaining: 5.36s\n",
      "40:\tlearn: 0.0395484\ttotal: 228ms\tremaining: 5.34s\n",
      "41:\tlearn: 0.0388206\ttotal: 234ms\tremaining: 5.33s\n",
      "42:\tlearn: 0.0381036\ttotal: 241ms\tremaining: 5.35s\n",
      "43:\tlearn: 0.0376982\ttotal: 246ms\tremaining: 5.33s\n",
      "44:\tlearn: 0.0370927\ttotal: 251ms\tremaining: 5.32s\n",
      "45:\tlearn: 0.0366393\ttotal: 255ms\tremaining: 5.3s\n",
      "46:\tlearn: 0.0361538\ttotal: 260ms\tremaining: 5.27s\n",
      "47:\tlearn: 0.0357591\ttotal: 265ms\tremaining: 5.25s\n",
      "48:\tlearn: 0.0353724\ttotal: 271ms\tremaining: 5.25s\n",
      "49:\tlearn: 0.0350845\ttotal: 276ms\tremaining: 5.23s\n",
      "50:\tlearn: 0.0347054\ttotal: 280ms\tremaining: 5.21s\n",
      "51:\tlearn: 0.0343445\ttotal: 285ms\tremaining: 5.2s\n",
      "52:\tlearn: 0.0340521\ttotal: 290ms\tremaining: 5.19s\n",
      "53:\tlearn: 0.0336669\ttotal: 296ms\tremaining: 5.18s\n",
      "54:\tlearn: 0.0334115\ttotal: 301ms\tremaining: 5.17s\n",
      "55:\tlearn: 0.0331385\ttotal: 307ms\tremaining: 5.17s\n",
      "56:\tlearn: 0.0329466\ttotal: 312ms\tremaining: 5.16s\n",
      "57:\tlearn: 0.0326653\ttotal: 317ms\tremaining: 5.15s\n",
      "58:\tlearn: 0.0324458\ttotal: 322ms\tremaining: 5.14s\n",
      "59:\tlearn: 0.0322686\ttotal: 327ms\tremaining: 5.12s\n",
      "60:\tlearn: 0.0320460\ttotal: 332ms\tremaining: 5.11s\n",
      "61:\tlearn: 0.0318041\ttotal: 338ms\tremaining: 5.11s\n",
      "62:\tlearn: 0.0316723\ttotal: 342ms\tremaining: 5.09s\n",
      "63:\tlearn: 0.0315586\ttotal: 347ms\tremaining: 5.08s\n",
      "64:\tlearn: 0.0313452\ttotal: 352ms\tremaining: 5.07s\n",
      "65:\tlearn: 0.0312022\ttotal: 357ms\tremaining: 5.06s\n",
      "66:\tlearn: 0.0310603\ttotal: 363ms\tremaining: 5.05s\n",
      "67:\tlearn: 0.0309520\ttotal: 369ms\tremaining: 5.06s\n",
      "68:\tlearn: 0.0307954\ttotal: 375ms\tremaining: 5.06s\n",
      "69:\tlearn: 0.0306638\ttotal: 381ms\tremaining: 5.07s\n",
      "70:\tlearn: 0.0305272\ttotal: 386ms\tremaining: 5.05s\n",
      "71:\tlearn: 0.0303646\ttotal: 391ms\tremaining: 5.04s\n",
      "72:\tlearn: 0.0301742\ttotal: 396ms\tremaining: 5.03s\n",
      "73:\tlearn: 0.0300279\ttotal: 402ms\tremaining: 5.03s\n",
      "74:\tlearn: 0.0299325\ttotal: 407ms\tremaining: 5.02s\n",
      "75:\tlearn: 0.0298088\ttotal: 412ms\tremaining: 5.01s\n",
      "76:\tlearn: 0.0297295\ttotal: 417ms\tremaining: 4.99s\n",
      "77:\tlearn: 0.0295710\ttotal: 421ms\tremaining: 4.98s\n",
      "78:\tlearn: 0.0294729\ttotal: 426ms\tremaining: 4.97s\n",
      "79:\tlearn: 0.0293631\ttotal: 431ms\tremaining: 4.96s\n",
      "80:\tlearn: 0.0292537\ttotal: 437ms\tremaining: 4.96s\n",
      "81:\tlearn: 0.0291305\ttotal: 442ms\tremaining: 4.94s\n",
      "82:\tlearn: 0.0290397\ttotal: 447ms\tremaining: 4.93s\n",
      "83:\tlearn: 0.0289469\ttotal: 451ms\tremaining: 4.92s\n",
      "84:\tlearn: 0.0288632\ttotal: 456ms\tremaining: 4.91s\n",
      "85:\tlearn: 0.0287716\ttotal: 461ms\tremaining: 4.89s\n",
      "86:\tlearn: 0.0286310\ttotal: 465ms\tremaining: 4.88s\n",
      "87:\tlearn: 0.0285524\ttotal: 471ms\tremaining: 4.88s\n",
      "88:\tlearn: 0.0284793\ttotal: 476ms\tremaining: 4.87s\n",
      "89:\tlearn: 0.0283486\ttotal: 481ms\tremaining: 4.86s\n",
      "90:\tlearn: 0.0282734\ttotal: 485ms\tremaining: 4.85s\n",
      "91:\tlearn: 0.0282239\ttotal: 490ms\tremaining: 4.83s\n",
      "92:\tlearn: 0.0281133\ttotal: 495ms\tremaining: 4.82s\n",
      "93:\tlearn: 0.0280329\ttotal: 500ms\tremaining: 4.82s\n",
      "94:\tlearn: 0.0279861\ttotal: 505ms\tremaining: 4.81s\n",
      "95:\tlearn: 0.0279032\ttotal: 510ms\tremaining: 4.8s\n",
      "96:\tlearn: 0.0278232\ttotal: 515ms\tremaining: 4.79s\n",
      "97:\tlearn: 0.0277539\ttotal: 520ms\tremaining: 4.78s\n",
      "98:\tlearn: 0.0276819\ttotal: 525ms\tremaining: 4.77s\n",
      "99:\tlearn: 0.0276051\ttotal: 530ms\tremaining: 4.77s\n",
      "100:\tlearn: 0.0275586\ttotal: 536ms\tremaining: 4.77s\n",
      "101:\tlearn: 0.0274776\ttotal: 542ms\tremaining: 4.78s\n",
      "102:\tlearn: 0.0274085\ttotal: 548ms\tremaining: 4.77s\n",
      "103:\tlearn: 0.0273295\ttotal: 552ms\tremaining: 4.76s\n",
      "104:\tlearn: 0.0272555\ttotal: 558ms\tremaining: 4.76s\n",
      "105:\tlearn: 0.0271659\ttotal: 564ms\tremaining: 4.75s\n",
      "106:\tlearn: 0.0271089\ttotal: 569ms\tremaining: 4.75s\n",
      "107:\tlearn: 0.0270667\ttotal: 574ms\tremaining: 4.74s\n",
      "108:\tlearn: 0.0269915\ttotal: 579ms\tremaining: 4.73s\n",
      "109:\tlearn: 0.0269403\ttotal: 584ms\tremaining: 4.72s\n",
      "110:\tlearn: 0.0268601\ttotal: 588ms\tremaining: 4.71s\n",
      "111:\tlearn: 0.0268436\ttotal: 593ms\tremaining: 4.7s\n",
      "112:\tlearn: 0.0267880\ttotal: 598ms\tremaining: 4.69s\n",
      "113:\tlearn: 0.0267093\ttotal: 603ms\tremaining: 4.69s\n",
      "114:\tlearn: 0.0266502\ttotal: 608ms\tremaining: 4.68s\n",
      "115:\tlearn: 0.0266070\ttotal: 613ms\tremaining: 4.67s\n",
      "116:\tlearn: 0.0265494\ttotal: 618ms\tremaining: 4.66s\n",
      "117:\tlearn: 0.0264667\ttotal: 623ms\tremaining: 4.66s\n",
      "118:\tlearn: 0.0264172\ttotal: 628ms\tremaining: 4.65s\n",
      "119:\tlearn: 0.0263563\ttotal: 635ms\tremaining: 4.66s\n",
      "120:\tlearn: 0.0263295\ttotal: 641ms\tremaining: 4.66s\n",
      "121:\tlearn: 0.0262373\ttotal: 645ms\tremaining: 4.64s\n",
      "122:\tlearn: 0.0262014\ttotal: 650ms\tremaining: 4.63s\n",
      "123:\tlearn: 0.0261822\ttotal: 655ms\tremaining: 4.62s\n",
      "124:\tlearn: 0.0261338\ttotal: 659ms\tremaining: 4.61s\n",
      "125:\tlearn: 0.0261092\ttotal: 664ms\tremaining: 4.61s\n",
      "126:\tlearn: 0.0260688\ttotal: 670ms\tremaining: 4.61s\n",
      "127:\tlearn: 0.0260463\ttotal: 675ms\tremaining: 4.59s\n",
      "128:\tlearn: 0.0259770\ttotal: 679ms\tremaining: 4.59s\n",
      "129:\tlearn: 0.0259347\ttotal: 684ms\tremaining: 4.58s\n",
      "130:\tlearn: 0.0258807\ttotal: 689ms\tremaining: 4.57s\n",
      "131:\tlearn: 0.0258472\ttotal: 694ms\tremaining: 4.56s\n",
      "132:\tlearn: 0.0258212\ttotal: 700ms\tremaining: 4.56s\n",
      "133:\tlearn: 0.0257847\ttotal: 705ms\tremaining: 4.55s\n",
      "134:\tlearn: 0.0257279\ttotal: 710ms\tremaining: 4.55s\n",
      "135:\tlearn: 0.0256705\ttotal: 718ms\tremaining: 4.56s\n",
      "136:\tlearn: 0.0255981\ttotal: 724ms\tremaining: 4.56s\n",
      "137:\tlearn: 0.0255653\ttotal: 731ms\tremaining: 4.56s\n",
      "138:\tlearn: 0.0255311\ttotal: 736ms\tremaining: 4.56s\n",
      "139:\tlearn: 0.0255198\ttotal: 741ms\tremaining: 4.55s\n",
      "140:\tlearn: 0.0254783\ttotal: 746ms\tremaining: 4.54s\n",
      "141:\tlearn: 0.0253898\ttotal: 751ms\tremaining: 4.54s\n",
      "142:\tlearn: 0.0253606\ttotal: 756ms\tremaining: 4.53s\n",
      "143:\tlearn: 0.0253231\ttotal: 761ms\tremaining: 4.53s\n",
      "144:\tlearn: 0.0252922\ttotal: 770ms\tremaining: 4.54s\n",
      "145:\tlearn: 0.0252559\ttotal: 775ms\tremaining: 4.53s\n",
      "146:\tlearn: 0.0252128\ttotal: 780ms\tremaining: 4.53s\n",
      "147:\tlearn: 0.0251658\ttotal: 785ms\tremaining: 4.52s\n",
      "148:\tlearn: 0.0251381\ttotal: 790ms\tremaining: 4.51s\n",
      "149:\tlearn: 0.0250902\ttotal: 796ms\tremaining: 4.51s\n",
      "150:\tlearn: 0.0250437\ttotal: 801ms\tremaining: 4.5s\n",
      "151:\tlearn: 0.0250194\ttotal: 807ms\tremaining: 4.5s\n",
      "152:\tlearn: 0.0249780\ttotal: 814ms\tremaining: 4.5s\n",
      "153:\tlearn: 0.0249368\ttotal: 819ms\tremaining: 4.5s\n",
      "154:\tlearn: 0.0248721\ttotal: 825ms\tremaining: 4.5s\n",
      "155:\tlearn: 0.0248448\ttotal: 833ms\tremaining: 4.51s\n",
      "156:\tlearn: 0.0248351\ttotal: 839ms\tremaining: 4.5s\n",
      "157:\tlearn: 0.0247883\ttotal: 845ms\tremaining: 4.5s\n",
      "158:\tlearn: 0.0247354\ttotal: 851ms\tremaining: 4.5s\n",
      "159:\tlearn: 0.0247098\ttotal: 856ms\tremaining: 4.5s\n",
      "160:\tlearn: 0.0246654\ttotal: 864ms\tremaining: 4.5s\n",
      "161:\tlearn: 0.0246313\ttotal: 870ms\tremaining: 4.5s\n",
      "162:\tlearn: 0.0245842\ttotal: 876ms\tremaining: 4.5s\n",
      "163:\tlearn: 0.0245244\ttotal: 883ms\tremaining: 4.5s\n",
      "164:\tlearn: 0.0244894\ttotal: 889ms\tremaining: 4.5s\n",
      "165:\tlearn: 0.0244473\ttotal: 897ms\tremaining: 4.5s\n"
     ]
    },
    {
     "name": "stdout",
     "output_type": "stream",
     "text": [
      "166:\tlearn: 0.0243860\ttotal: 904ms\tremaining: 4.51s\n",
      "167:\tlearn: 0.0243773\ttotal: 912ms\tremaining: 4.51s\n",
      "168:\tlearn: 0.0243379\ttotal: 918ms\tremaining: 4.51s\n",
      "169:\tlearn: 0.0242907\ttotal: 925ms\tremaining: 4.52s\n",
      "170:\tlearn: 0.0242646\ttotal: 947ms\tremaining: 4.59s\n",
      "171:\tlearn: 0.0242399\ttotal: 953ms\tremaining: 4.59s\n",
      "172:\tlearn: 0.0241967\ttotal: 962ms\tremaining: 4.6s\n",
      "173:\tlearn: 0.0241675\ttotal: 969ms\tremaining: 4.6s\n",
      "174:\tlearn: 0.0241561\ttotal: 978ms\tremaining: 4.61s\n",
      "175:\tlearn: 0.0241138\ttotal: 985ms\tremaining: 4.61s\n",
      "176:\tlearn: 0.0240970\ttotal: 993ms\tremaining: 4.62s\n",
      "177:\tlearn: 0.0240564\ttotal: 999ms\tremaining: 4.62s\n",
      "178:\tlearn: 0.0240071\ttotal: 1.01s\tremaining: 4.62s\n",
      "179:\tlearn: 0.0239511\ttotal: 1.01s\tremaining: 4.61s\n",
      "180:\tlearn: 0.0238965\ttotal: 1.02s\tremaining: 4.64s\n",
      "181:\tlearn: 0.0238516\ttotal: 1.03s\tremaining: 4.63s\n",
      "182:\tlearn: 0.0238373\ttotal: 1.04s\tremaining: 4.63s\n",
      "183:\tlearn: 0.0237939\ttotal: 1.04s\tremaining: 4.63s\n",
      "184:\tlearn: 0.0237705\ttotal: 1.05s\tremaining: 4.63s\n",
      "185:\tlearn: 0.0237184\ttotal: 1.06s\tremaining: 4.63s\n",
      "186:\tlearn: 0.0236882\ttotal: 1.06s\tremaining: 4.62s\n",
      "187:\tlearn: 0.0236523\ttotal: 1.07s\tremaining: 4.61s\n",
      "188:\tlearn: 0.0236118\ttotal: 1.07s\tremaining: 4.61s\n",
      "189:\tlearn: 0.0235724\ttotal: 1.08s\tremaining: 4.6s\n",
      "190:\tlearn: 0.0235353\ttotal: 1.08s\tremaining: 4.6s\n",
      "191:\tlearn: 0.0235164\ttotal: 1.09s\tremaining: 4.6s\n",
      "192:\tlearn: 0.0234816\ttotal: 1.1s\tremaining: 4.59s\n",
      "193:\tlearn: 0.0234585\ttotal: 1.1s\tremaining: 4.59s\n",
      "194:\tlearn: 0.0234209\ttotal: 1.11s\tremaining: 4.58s\n",
      "195:\tlearn: 0.0233792\ttotal: 1.12s\tremaining: 4.58s\n",
      "196:\tlearn: 0.0233193\ttotal: 1.12s\tremaining: 4.58s\n",
      "197:\tlearn: 0.0233036\ttotal: 1.13s\tremaining: 4.57s\n",
      "198:\tlearn: 0.0232914\ttotal: 1.13s\tremaining: 4.57s\n",
      "199:\tlearn: 0.0232663\ttotal: 1.14s\tremaining: 4.56s\n",
      "200:\tlearn: 0.0232126\ttotal: 1.14s\tremaining: 4.54s\n",
      "201:\tlearn: 0.0231824\ttotal: 1.15s\tremaining: 4.54s\n",
      "202:\tlearn: 0.0231461\ttotal: 1.15s\tremaining: 4.53s\n",
      "203:\tlearn: 0.0231088\ttotal: 1.16s\tremaining: 4.52s\n",
      "204:\tlearn: 0.0231027\ttotal: 1.16s\tremaining: 4.51s\n",
      "205:\tlearn: 0.0230642\ttotal: 1.17s\tremaining: 4.5s\n",
      "206:\tlearn: 0.0229982\ttotal: 1.17s\tremaining: 4.5s\n",
      "207:\tlearn: 0.0229647\ttotal: 1.18s\tremaining: 4.49s\n",
      "208:\tlearn: 0.0229159\ttotal: 1.18s\tremaining: 4.47s\n",
      "209:\tlearn: 0.0228644\ttotal: 1.19s\tremaining: 4.47s\n",
      "210:\tlearn: 0.0228282\ttotal: 1.19s\tremaining: 4.46s\n",
      "211:\tlearn: 0.0228121\ttotal: 1.2s\tremaining: 4.45s\n",
      "212:\tlearn: 0.0227633\ttotal: 1.2s\tremaining: 4.44s\n",
      "213:\tlearn: 0.0227399\ttotal: 1.21s\tremaining: 4.43s\n",
      "214:\tlearn: 0.0226988\ttotal: 1.21s\tremaining: 4.42s\n",
      "215:\tlearn: 0.0226806\ttotal: 1.22s\tremaining: 4.41s\n",
      "216:\tlearn: 0.0226590\ttotal: 1.22s\tremaining: 4.41s\n",
      "217:\tlearn: 0.0226070\ttotal: 1.23s\tremaining: 4.4s\n",
      "218:\tlearn: 0.0225770\ttotal: 1.23s\tremaining: 4.39s\n",
      "219:\tlearn: 0.0225554\ttotal: 1.24s\tremaining: 4.38s\n",
      "220:\tlearn: 0.0225171\ttotal: 1.24s\tremaining: 4.37s\n",
      "221:\tlearn: 0.0225009\ttotal: 1.25s\tremaining: 4.37s\n",
      "222:\tlearn: 0.0224463\ttotal: 1.25s\tremaining: 4.36s\n",
      "223:\tlearn: 0.0224269\ttotal: 1.26s\tremaining: 4.35s\n",
      "224:\tlearn: 0.0224066\ttotal: 1.26s\tremaining: 4.35s\n",
      "225:\tlearn: 0.0223676\ttotal: 1.27s\tremaining: 4.34s\n",
      "226:\tlearn: 0.0223359\ttotal: 1.27s\tremaining: 4.34s\n",
      "227:\tlearn: 0.0222994\ttotal: 1.28s\tremaining: 4.33s\n",
      "228:\tlearn: 0.0222784\ttotal: 1.28s\tremaining: 4.33s\n",
      "229:\tlearn: 0.0222572\ttotal: 1.29s\tremaining: 4.32s\n",
      "230:\tlearn: 0.0221959\ttotal: 1.29s\tremaining: 4.31s\n",
      "231:\tlearn: 0.0221714\ttotal: 1.3s\tremaining: 4.3s\n",
      "232:\tlearn: 0.0221421\ttotal: 1.3s\tremaining: 4.29s\n",
      "233:\tlearn: 0.0220998\ttotal: 1.32s\tremaining: 4.34s\n",
      "234:\tlearn: 0.0220716\ttotal: 1.33s\tremaining: 4.33s\n",
      "235:\tlearn: 0.0220494\ttotal: 1.33s\tremaining: 4.32s\n",
      "236:\tlearn: 0.0220006\ttotal: 1.34s\tremaining: 4.31s\n",
      "237:\tlearn: 0.0219754\ttotal: 1.34s\tremaining: 4.3s\n",
      "238:\tlearn: 0.0219359\ttotal: 1.35s\tremaining: 4.29s\n",
      "239:\tlearn: 0.0219081\ttotal: 1.35s\tremaining: 4.29s\n",
      "240:\tlearn: 0.0218780\ttotal: 1.36s\tremaining: 4.28s\n",
      "241:\tlearn: 0.0218635\ttotal: 1.36s\tremaining: 4.27s\n",
      "242:\tlearn: 0.0218371\ttotal: 1.37s\tremaining: 4.26s\n",
      "243:\tlearn: 0.0218087\ttotal: 1.37s\tremaining: 4.25s\n",
      "244:\tlearn: 0.0217916\ttotal: 1.38s\tremaining: 4.24s\n",
      "245:\tlearn: 0.0217583\ttotal: 1.38s\tremaining: 4.24s\n",
      "246:\tlearn: 0.0217462\ttotal: 1.39s\tremaining: 4.23s\n",
      "247:\tlearn: 0.0217162\ttotal: 1.39s\tremaining: 4.22s\n",
      "248:\tlearn: 0.0216954\ttotal: 1.4s\tremaining: 4.21s\n",
      "249:\tlearn: 0.0216405\ttotal: 1.4s\tremaining: 4.2s\n",
      "250:\tlearn: 0.0216254\ttotal: 1.41s\tremaining: 4.19s\n",
      "251:\tlearn: 0.0216133\ttotal: 1.41s\tremaining: 4.19s\n",
      "252:\tlearn: 0.0215827\ttotal: 1.42s\tremaining: 4.18s\n",
      "253:\tlearn: 0.0215562\ttotal: 1.42s\tremaining: 4.17s\n",
      "254:\tlearn: 0.0215401\ttotal: 1.43s\tremaining: 4.16s\n",
      "255:\tlearn: 0.0214985\ttotal: 1.43s\tremaining: 4.16s\n",
      "256:\tlearn: 0.0214573\ttotal: 1.43s\tremaining: 4.15s\n",
      "257:\tlearn: 0.0214283\ttotal: 1.44s\tremaining: 4.14s\n",
      "258:\tlearn: 0.0214023\ttotal: 1.45s\tremaining: 4.14s\n",
      "259:\tlearn: 0.0213785\ttotal: 1.45s\tremaining: 4.13s\n",
      "260:\tlearn: 0.0213528\ttotal: 1.46s\tremaining: 4.12s\n",
      "261:\tlearn: 0.0213528\ttotal: 1.46s\tremaining: 4.11s\n",
      "262:\tlearn: 0.0213116\ttotal: 1.46s\tremaining: 4.1s\n",
      "263:\tlearn: 0.0212940\ttotal: 1.47s\tremaining: 4.1s\n",
      "264:\tlearn: 0.0212680\ttotal: 1.48s\tremaining: 4.09s\n",
      "265:\tlearn: 0.0212536\ttotal: 1.48s\tremaining: 4.09s\n",
      "266:\tlearn: 0.0212420\ttotal: 1.49s\tremaining: 4.08s\n",
      "267:\tlearn: 0.0212317\ttotal: 1.49s\tremaining: 4.07s\n",
      "268:\tlearn: 0.0211914\ttotal: 1.5s\tremaining: 4.06s\n",
      "269:\tlearn: 0.0211664\ttotal: 1.5s\tremaining: 4.05s\n",
      "270:\tlearn: 0.0211464\ttotal: 1.5s\tremaining: 4.05s\n",
      "271:\tlearn: 0.0211339\ttotal: 1.51s\tremaining: 4.04s\n",
      "272:\tlearn: 0.0211018\ttotal: 1.51s\tremaining: 4.04s\n",
      "273:\tlearn: 0.0210571\ttotal: 1.52s\tremaining: 4.03s\n",
      "274:\tlearn: 0.0210346\ttotal: 1.52s\tremaining: 4.02s\n",
      "275:\tlearn: 0.0209991\ttotal: 1.53s\tremaining: 4.01s\n",
      "276:\tlearn: 0.0209795\ttotal: 1.53s\tremaining: 4.01s\n",
      "277:\tlearn: 0.0209528\ttotal: 1.54s\tremaining: 4s\n",
      "278:\tlearn: 0.0209176\ttotal: 1.54s\tremaining: 4s\n",
      "279:\tlearn: 0.0208687\ttotal: 1.55s\tremaining: 3.99s\n",
      "280:\tlearn: 0.0208544\ttotal: 1.55s\tremaining: 3.98s\n",
      "281:\tlearn: 0.0208317\ttotal: 1.56s\tremaining: 3.97s\n",
      "282:\tlearn: 0.0207882\ttotal: 1.56s\tremaining: 3.96s\n",
      "283:\tlearn: 0.0207718\ttotal: 1.57s\tremaining: 3.96s\n",
      "284:\tlearn: 0.0207125\ttotal: 1.57s\tremaining: 3.95s\n",
      "285:\tlearn: 0.0206852\ttotal: 1.58s\tremaining: 3.95s\n",
      "286:\tlearn: 0.0206634\ttotal: 1.58s\tremaining: 3.94s\n",
      "287:\tlearn: 0.0206320\ttotal: 1.59s\tremaining: 3.93s\n",
      "288:\tlearn: 0.0206041\ttotal: 1.59s\tremaining: 3.92s\n",
      "289:\tlearn: 0.0205759\ttotal: 1.6s\tremaining: 3.92s\n",
      "290:\tlearn: 0.0205485\ttotal: 1.6s\tremaining: 3.91s\n",
      "291:\tlearn: 0.0205098\ttotal: 1.61s\tremaining: 3.9s\n",
      "292:\tlearn: 0.0204699\ttotal: 1.62s\tremaining: 3.9s\n",
      "293:\tlearn: 0.0204163\ttotal: 1.62s\tremaining: 3.89s\n",
      "294:\tlearn: 0.0203482\ttotal: 1.63s\tremaining: 3.89s\n",
      "295:\tlearn: 0.0203275\ttotal: 1.63s\tremaining: 3.88s\n",
      "296:\tlearn: 0.0202885\ttotal: 1.64s\tremaining: 3.88s\n",
      "297:\tlearn: 0.0202630\ttotal: 1.64s\tremaining: 3.87s\n",
      "298:\tlearn: 0.0202299\ttotal: 1.65s\tremaining: 3.87s\n",
      "299:\tlearn: 0.0202146\ttotal: 1.66s\tremaining: 3.86s\n",
      "300:\tlearn: 0.0201935\ttotal: 1.66s\tremaining: 3.85s\n",
      "301:\tlearn: 0.0201673\ttotal: 1.67s\tremaining: 3.85s\n",
      "302:\tlearn: 0.0201443\ttotal: 1.67s\tremaining: 3.85s\n",
      "303:\tlearn: 0.0201306\ttotal: 1.68s\tremaining: 3.84s\n",
      "304:\tlearn: 0.0200953\ttotal: 1.68s\tremaining: 3.83s\n",
      "305:\tlearn: 0.0200778\ttotal: 1.69s\tremaining: 3.83s\n",
      "306:\tlearn: 0.0200488\ttotal: 1.69s\tremaining: 3.82s\n",
      "307:\tlearn: 0.0200327\ttotal: 1.7s\tremaining: 3.81s\n",
      "308:\tlearn: 0.0200201\ttotal: 1.7s\tremaining: 3.8s\n",
      "309:\tlearn: 0.0200070\ttotal: 1.71s\tremaining: 3.8s\n",
      "310:\tlearn: 0.0199561\ttotal: 1.71s\tremaining: 3.79s\n",
      "311:\tlearn: 0.0198953\ttotal: 1.72s\tremaining: 3.79s\n",
      "312:\tlearn: 0.0198656\ttotal: 1.72s\tremaining: 3.78s\n",
      "313:\tlearn: 0.0198256\ttotal: 1.73s\tremaining: 3.77s\n",
      "314:\tlearn: 0.0197938\ttotal: 1.73s\tremaining: 3.77s\n",
      "315:\tlearn: 0.0197754\ttotal: 1.74s\tremaining: 3.76s\n",
      "316:\tlearn: 0.0197498\ttotal: 1.74s\tremaining: 3.76s\n",
      "317:\tlearn: 0.0197234\ttotal: 1.75s\tremaining: 3.75s\n",
      "318:\tlearn: 0.0197155\ttotal: 1.75s\tremaining: 3.74s\n",
      "319:\tlearn: 0.0196668\ttotal: 1.76s\tremaining: 3.73s\n",
      "320:\tlearn: 0.0196535\ttotal: 1.76s\tremaining: 3.73s\n",
      "321:\tlearn: 0.0196265\ttotal: 1.77s\tremaining: 3.73s\n",
      "322:\tlearn: 0.0195878\ttotal: 1.77s\tremaining: 3.72s\n",
      "323:\tlearn: 0.0195398\ttotal: 1.78s\tremaining: 3.71s\n",
      "324:\tlearn: 0.0195196\ttotal: 1.78s\tremaining: 3.71s\n",
      "325:\tlearn: 0.0195129\ttotal: 1.79s\tremaining: 3.7s\n",
      "326:\tlearn: 0.0194825\ttotal: 1.79s\tremaining: 3.69s\n"
     ]
    },
    {
     "name": "stdout",
     "output_type": "stream",
     "text": [
      "327:\tlearn: 0.0194723\ttotal: 1.8s\tremaining: 3.69s\n",
      "328:\tlearn: 0.0194620\ttotal: 1.81s\tremaining: 3.68s\n",
      "329:\tlearn: 0.0194434\ttotal: 1.81s\tremaining: 3.68s\n",
      "330:\tlearn: 0.0194007\ttotal: 1.82s\tremaining: 3.67s\n",
      "331:\tlearn: 0.0193671\ttotal: 1.82s\tremaining: 3.67s\n",
      "332:\tlearn: 0.0193312\ttotal: 1.83s\tremaining: 3.66s\n",
      "333:\tlearn: 0.0192827\ttotal: 1.83s\tremaining: 3.66s\n",
      "334:\tlearn: 0.0192623\ttotal: 1.84s\tremaining: 3.65s\n",
      "335:\tlearn: 0.0192496\ttotal: 1.84s\tremaining: 3.64s\n",
      "336:\tlearn: 0.0192403\ttotal: 1.85s\tremaining: 3.63s\n",
      "337:\tlearn: 0.0192076\ttotal: 1.85s\tremaining: 3.63s\n",
      "338:\tlearn: 0.0191793\ttotal: 1.86s\tremaining: 3.62s\n",
      "339:\tlearn: 0.0191685\ttotal: 1.86s\tremaining: 3.62s\n",
      "340:\tlearn: 0.0191585\ttotal: 1.87s\tremaining: 3.61s\n",
      "341:\tlearn: 0.0191314\ttotal: 1.87s\tremaining: 3.6s\n",
      "342:\tlearn: 0.0191314\ttotal: 1.88s\tremaining: 3.59s\n",
      "343:\tlearn: 0.0190936\ttotal: 1.88s\tremaining: 3.59s\n",
      "344:\tlearn: 0.0190835\ttotal: 1.89s\tremaining: 3.58s\n",
      "345:\tlearn: 0.0190458\ttotal: 1.89s\tremaining: 3.57s\n",
      "346:\tlearn: 0.0190388\ttotal: 1.9s\tremaining: 3.57s\n",
      "347:\tlearn: 0.0189823\ttotal: 1.9s\tremaining: 3.56s\n",
      "348:\tlearn: 0.0189684\ttotal: 1.91s\tremaining: 3.56s\n",
      "349:\tlearn: 0.0189213\ttotal: 1.91s\tremaining: 3.55s\n",
      "350:\tlearn: 0.0188788\ttotal: 1.92s\tremaining: 3.54s\n",
      "351:\tlearn: 0.0188787\ttotal: 1.92s\tremaining: 3.54s\n",
      "352:\tlearn: 0.0188187\ttotal: 1.93s\tremaining: 3.53s\n",
      "353:\tlearn: 0.0188020\ttotal: 1.93s\tremaining: 3.52s\n",
      "354:\tlearn: 0.0187695\ttotal: 1.94s\tremaining: 3.52s\n",
      "355:\tlearn: 0.0187685\ttotal: 1.94s\tremaining: 3.51s\n",
      "356:\tlearn: 0.0187516\ttotal: 1.94s\tremaining: 3.5s\n",
      "357:\tlearn: 0.0187321\ttotal: 1.95s\tremaining: 3.5s\n",
      "358:\tlearn: 0.0186871\ttotal: 1.95s\tremaining: 3.49s\n",
      "359:\tlearn: 0.0186573\ttotal: 1.96s\tremaining: 3.48s\n",
      "360:\tlearn: 0.0186328\ttotal: 1.96s\tremaining: 3.48s\n",
      "361:\tlearn: 0.0186078\ttotal: 1.97s\tremaining: 3.47s\n",
      "362:\tlearn: 0.0185772\ttotal: 1.97s\tremaining: 3.46s\n",
      "363:\tlearn: 0.0185452\ttotal: 1.98s\tremaining: 3.46s\n",
      "364:\tlearn: 0.0185274\ttotal: 1.99s\tremaining: 3.45s\n",
      "365:\tlearn: 0.0184842\ttotal: 1.99s\tremaining: 3.45s\n",
      "366:\tlearn: 0.0184594\ttotal: 2s\tremaining: 3.44s\n",
      "367:\tlearn: 0.0184294\ttotal: 2s\tremaining: 3.44s\n",
      "368:\tlearn: 0.0183940\ttotal: 2.01s\tremaining: 3.43s\n",
      "369:\tlearn: 0.0183685\ttotal: 2.01s\tremaining: 3.43s\n",
      "370:\tlearn: 0.0183593\ttotal: 2.02s\tremaining: 3.42s\n",
      "371:\tlearn: 0.0183264\ttotal: 2.02s\tremaining: 3.42s\n",
      "372:\tlearn: 0.0182973\ttotal: 2.03s\tremaining: 3.41s\n",
      "373:\tlearn: 0.0182832\ttotal: 2.03s\tremaining: 3.4s\n",
      "374:\tlearn: 0.0182747\ttotal: 2.04s\tremaining: 3.4s\n",
      "375:\tlearn: 0.0182390\ttotal: 2.04s\tremaining: 3.39s\n",
      "376:\tlearn: 0.0182294\ttotal: 2.05s\tremaining: 3.38s\n",
      "377:\tlearn: 0.0181904\ttotal: 2.05s\tremaining: 3.38s\n",
      "378:\tlearn: 0.0181396\ttotal: 2.06s\tremaining: 3.37s\n",
      "379:\tlearn: 0.0181108\ttotal: 2.06s\tremaining: 3.37s\n",
      "380:\tlearn: 0.0180738\ttotal: 2.07s\tremaining: 3.36s\n",
      "381:\tlearn: 0.0180550\ttotal: 2.07s\tremaining: 3.35s\n",
      "382:\tlearn: 0.0180441\ttotal: 2.08s\tremaining: 3.35s\n",
      "383:\tlearn: 0.0180118\ttotal: 2.08s\tremaining: 3.34s\n",
      "384:\tlearn: 0.0179982\ttotal: 2.09s\tremaining: 3.34s\n",
      "385:\tlearn: 0.0179734\ttotal: 2.09s\tremaining: 3.33s\n",
      "386:\tlearn: 0.0179639\ttotal: 2.1s\tremaining: 3.32s\n",
      "387:\tlearn: 0.0179394\ttotal: 2.1s\tremaining: 3.32s\n",
      "388:\tlearn: 0.0179304\ttotal: 2.11s\tremaining: 3.31s\n",
      "389:\tlearn: 0.0179103\ttotal: 2.11s\tremaining: 3.31s\n",
      "390:\tlearn: 0.0178647\ttotal: 2.12s\tremaining: 3.3s\n",
      "391:\tlearn: 0.0178393\ttotal: 2.12s\tremaining: 3.29s\n",
      "392:\tlearn: 0.0177955\ttotal: 2.13s\tremaining: 3.29s\n",
      "393:\tlearn: 0.0177873\ttotal: 2.13s\tremaining: 3.28s\n",
      "394:\tlearn: 0.0177748\ttotal: 2.14s\tremaining: 3.27s\n",
      "395:\tlearn: 0.0177539\ttotal: 2.14s\tremaining: 3.27s\n",
      "396:\tlearn: 0.0177407\ttotal: 2.15s\tremaining: 3.26s\n",
      "397:\tlearn: 0.0177295\ttotal: 2.15s\tremaining: 3.26s\n",
      "398:\tlearn: 0.0176998\ttotal: 2.16s\tremaining: 3.25s\n",
      "399:\tlearn: 0.0176733\ttotal: 2.16s\tremaining: 3.25s\n",
      "400:\tlearn: 0.0176608\ttotal: 2.17s\tremaining: 3.24s\n",
      "401:\tlearn: 0.0176279\ttotal: 2.17s\tremaining: 3.23s\n",
      "402:\tlearn: 0.0176199\ttotal: 2.18s\tremaining: 3.23s\n",
      "403:\tlearn: 0.0175914\ttotal: 2.19s\tremaining: 3.22s\n",
      "404:\tlearn: 0.0175620\ttotal: 2.19s\tremaining: 3.22s\n",
      "405:\tlearn: 0.0175506\ttotal: 2.2s\tremaining: 3.21s\n",
      "406:\tlearn: 0.0175435\ttotal: 2.2s\tremaining: 3.21s\n",
      "407:\tlearn: 0.0174912\ttotal: 2.21s\tremaining: 3.2s\n",
      "408:\tlearn: 0.0174764\ttotal: 2.21s\tremaining: 3.19s\n",
      "409:\tlearn: 0.0174645\ttotal: 2.22s\tremaining: 3.19s\n",
      "410:\tlearn: 0.0174432\ttotal: 2.22s\tremaining: 3.18s\n",
      "411:\tlearn: 0.0174356\ttotal: 2.23s\tremaining: 3.18s\n",
      "412:\tlearn: 0.0174289\ttotal: 2.23s\tremaining: 3.17s\n",
      "413:\tlearn: 0.0174178\ttotal: 2.23s\tremaining: 3.16s\n",
      "414:\tlearn: 0.0173824\ttotal: 2.24s\tremaining: 3.16s\n",
      "415:\tlearn: 0.0173767\ttotal: 2.25s\tremaining: 3.15s\n",
      "416:\tlearn: 0.0173278\ttotal: 2.25s\tremaining: 3.15s\n",
      "417:\tlearn: 0.0173016\ttotal: 2.26s\tremaining: 3.14s\n",
      "418:\tlearn: 0.0172622\ttotal: 2.26s\tremaining: 3.14s\n",
      "419:\tlearn: 0.0172002\ttotal: 2.27s\tremaining: 3.13s\n",
      "420:\tlearn: 0.0171732\ttotal: 2.27s\tremaining: 3.13s\n",
      "421:\tlearn: 0.0171507\ttotal: 2.28s\tremaining: 3.12s\n",
      "422:\tlearn: 0.0171260\ttotal: 2.28s\tremaining: 3.12s\n",
      "423:\tlearn: 0.0171155\ttotal: 2.29s\tremaining: 3.11s\n",
      "424:\tlearn: 0.0170691\ttotal: 2.29s\tremaining: 3.1s\n",
      "425:\tlearn: 0.0170388\ttotal: 2.3s\tremaining: 3.1s\n",
      "426:\tlearn: 0.0170200\ttotal: 2.31s\tremaining: 3.09s\n",
      "427:\tlearn: 0.0170059\ttotal: 2.31s\tremaining: 3.09s\n",
      "428:\tlearn: 0.0169579\ttotal: 2.32s\tremaining: 3.08s\n",
      "429:\tlearn: 0.0169442\ttotal: 2.32s\tremaining: 3.08s\n",
      "430:\tlearn: 0.0169027\ttotal: 2.33s\tremaining: 3.07s\n",
      "431:\tlearn: 0.0168824\ttotal: 2.33s\tremaining: 3.07s\n",
      "432:\tlearn: 0.0168554\ttotal: 2.34s\tremaining: 3.06s\n",
      "433:\tlearn: 0.0168326\ttotal: 2.34s\tremaining: 3.06s\n",
      "434:\tlearn: 0.0167998\ttotal: 2.35s\tremaining: 3.05s\n",
      "435:\tlearn: 0.0167697\ttotal: 2.35s\tremaining: 3.04s\n",
      "436:\tlearn: 0.0167568\ttotal: 2.36s\tremaining: 3.04s\n",
      "437:\tlearn: 0.0166994\ttotal: 2.36s\tremaining: 3.03s\n",
      "438:\tlearn: 0.0166919\ttotal: 2.37s\tremaining: 3.03s\n",
      "439:\tlearn: 0.0166773\ttotal: 2.38s\tremaining: 3.02s\n",
      "440:\tlearn: 0.0166652\ttotal: 2.38s\tremaining: 3.02s\n",
      "441:\tlearn: 0.0166474\ttotal: 2.38s\tremaining: 3.01s\n",
      "442:\tlearn: 0.0166297\ttotal: 2.39s\tremaining: 3s\n",
      "443:\tlearn: 0.0166206\ttotal: 2.39s\tremaining: 3s\n",
      "444:\tlearn: 0.0165666\ttotal: 2.4s\tremaining: 2.99s\n",
      "445:\tlearn: 0.0165481\ttotal: 2.4s\tremaining: 2.99s\n",
      "446:\tlearn: 0.0165160\ttotal: 2.41s\tremaining: 2.98s\n",
      "447:\tlearn: 0.0165046\ttotal: 2.42s\tremaining: 2.98s\n",
      "448:\tlearn: 0.0164886\ttotal: 2.42s\tremaining: 2.97s\n",
      "449:\tlearn: 0.0164681\ttotal: 2.42s\tremaining: 2.96s\n",
      "450:\tlearn: 0.0164628\ttotal: 2.43s\tremaining: 2.96s\n",
      "451:\tlearn: 0.0164279\ttotal: 2.43s\tremaining: 2.95s\n",
      "452:\tlearn: 0.0164056\ttotal: 2.44s\tremaining: 2.94s\n",
      "453:\tlearn: 0.0163843\ttotal: 2.44s\tremaining: 2.94s\n",
      "454:\tlearn: 0.0163697\ttotal: 2.45s\tremaining: 2.93s\n",
      "455:\tlearn: 0.0163545\ttotal: 2.45s\tremaining: 2.93s\n",
      "456:\tlearn: 0.0163370\ttotal: 2.46s\tremaining: 2.92s\n",
      "457:\tlearn: 0.0163046\ttotal: 2.46s\tremaining: 2.91s\n",
      "458:\tlearn: 0.0162855\ttotal: 2.47s\tremaining: 2.91s\n",
      "459:\tlearn: 0.0162585\ttotal: 2.47s\tremaining: 2.9s\n",
      "460:\tlearn: 0.0162345\ttotal: 2.48s\tremaining: 2.9s\n",
      "461:\tlearn: 0.0161980\ttotal: 2.48s\tremaining: 2.89s\n",
      "462:\tlearn: 0.0161737\ttotal: 2.49s\tremaining: 2.88s\n",
      "463:\tlearn: 0.0161581\ttotal: 2.49s\tremaining: 2.88s\n",
      "464:\tlearn: 0.0161477\ttotal: 2.5s\tremaining: 2.87s\n",
      "465:\tlearn: 0.0161123\ttotal: 2.5s\tremaining: 2.86s\n",
      "466:\tlearn: 0.0161020\ttotal: 2.5s\tremaining: 2.86s\n",
      "467:\tlearn: 0.0160919\ttotal: 2.51s\tremaining: 2.85s\n",
      "468:\tlearn: 0.0160722\ttotal: 2.52s\tremaining: 2.85s\n",
      "469:\tlearn: 0.0160545\ttotal: 2.52s\tremaining: 2.84s\n",
      "470:\tlearn: 0.0160211\ttotal: 2.53s\tremaining: 2.84s\n",
      "471:\tlearn: 0.0160115\ttotal: 2.53s\tremaining: 2.83s\n",
      "472:\tlearn: 0.0159951\ttotal: 2.54s\tremaining: 2.83s\n",
      "473:\tlearn: 0.0159892\ttotal: 2.54s\tremaining: 2.82s\n",
      "474:\tlearn: 0.0159592\ttotal: 2.55s\tremaining: 2.82s\n",
      "475:\tlearn: 0.0159474\ttotal: 2.55s\tremaining: 2.81s\n",
      "476:\tlearn: 0.0159386\ttotal: 2.56s\tremaining: 2.81s\n",
      "477:\tlearn: 0.0159250\ttotal: 2.56s\tremaining: 2.8s\n",
      "478:\tlearn: 0.0159177\ttotal: 2.57s\tremaining: 2.79s\n",
      "479:\tlearn: 0.0158915\ttotal: 2.57s\tremaining: 2.79s\n",
      "480:\tlearn: 0.0158779\ttotal: 2.58s\tremaining: 2.78s\n",
      "481:\tlearn: 0.0158481\ttotal: 2.58s\tremaining: 2.78s\n",
      "482:\tlearn: 0.0158390\ttotal: 2.59s\tremaining: 2.77s\n",
      "483:\tlearn: 0.0158113\ttotal: 2.59s\tremaining: 2.77s\n",
      "484:\tlearn: 0.0157631\ttotal: 2.6s\tremaining: 2.76s\n",
      "485:\tlearn: 0.0157545\ttotal: 2.6s\tremaining: 2.75s\n",
      "486:\tlearn: 0.0157370\ttotal: 2.61s\tremaining: 2.75s\n",
      "487:\tlearn: 0.0157225\ttotal: 2.62s\tremaining: 2.74s\n",
      "488:\tlearn: 0.0156771\ttotal: 2.62s\tremaining: 2.74s\n",
      "489:\tlearn: 0.0156691\ttotal: 2.63s\tremaining: 2.73s\n",
      "490:\tlearn: 0.0156434\ttotal: 2.63s\tremaining: 2.73s\n",
      "491:\tlearn: 0.0156339\ttotal: 2.63s\tremaining: 2.72s\n",
      "492:\tlearn: 0.0156207\ttotal: 2.64s\tremaining: 2.71s\n",
      "493:\tlearn: 0.0155940\ttotal: 2.64s\tremaining: 2.71s\n",
      "494:\tlearn: 0.0155829\ttotal: 2.65s\tremaining: 2.7s\n",
      "495:\tlearn: 0.0155631\ttotal: 2.65s\tremaining: 2.7s\n",
      "496:\tlearn: 0.0155553\ttotal: 2.66s\tremaining: 2.69s\n",
      "497:\tlearn: 0.0155245\ttotal: 2.66s\tremaining: 2.69s\n",
      "498:\tlearn: 0.0154957\ttotal: 2.67s\tremaining: 2.68s\n",
      "499:\tlearn: 0.0154725\ttotal: 2.67s\tremaining: 2.67s\n",
      "500:\tlearn: 0.0154553\ttotal: 2.68s\tremaining: 2.67s\n",
      "501:\tlearn: 0.0154477\ttotal: 2.68s\tremaining: 2.66s\n",
      "502:\tlearn: 0.0154198\ttotal: 2.69s\tremaining: 2.66s\n",
      "503:\tlearn: 0.0154158\ttotal: 2.7s\tremaining: 2.65s\n",
      "504:\tlearn: 0.0153923\ttotal: 2.7s\tremaining: 2.65s\n"
     ]
    },
    {
     "name": "stdout",
     "output_type": "stream",
     "text": [
      "505:\tlearn: 0.0153735\ttotal: 2.71s\tremaining: 2.64s\n",
      "506:\tlearn: 0.0153661\ttotal: 2.71s\tremaining: 2.64s\n",
      "507:\tlearn: 0.0153586\ttotal: 2.72s\tremaining: 2.63s\n",
      "508:\tlearn: 0.0153383\ttotal: 2.72s\tremaining: 2.63s\n",
      "509:\tlearn: 0.0153042\ttotal: 2.73s\tremaining: 2.62s\n",
      "510:\tlearn: 0.0152970\ttotal: 2.73s\tremaining: 2.62s\n",
      "511:\tlearn: 0.0152970\ttotal: 2.74s\tremaining: 2.61s\n",
      "512:\tlearn: 0.0152800\ttotal: 2.74s\tremaining: 2.6s\n",
      "513:\tlearn: 0.0152612\ttotal: 2.75s\tremaining: 2.6s\n",
      "514:\tlearn: 0.0152480\ttotal: 2.75s\tremaining: 2.59s\n",
      "515:\tlearn: 0.0152419\ttotal: 2.76s\tremaining: 2.59s\n",
      "516:\tlearn: 0.0152232\ttotal: 2.76s\tremaining: 2.58s\n",
      "517:\tlearn: 0.0151853\ttotal: 2.77s\tremaining: 2.58s\n",
      "518:\tlearn: 0.0151513\ttotal: 2.77s\tremaining: 2.57s\n",
      "519:\tlearn: 0.0151334\ttotal: 2.78s\tremaining: 2.56s\n",
      "520:\tlearn: 0.0151084\ttotal: 2.79s\tremaining: 2.56s\n",
      "521:\tlearn: 0.0151031\ttotal: 2.79s\tremaining: 2.55s\n",
      "522:\tlearn: 0.0150860\ttotal: 2.8s\tremaining: 2.55s\n",
      "523:\tlearn: 0.0150620\ttotal: 2.8s\tremaining: 2.54s\n",
      "524:\tlearn: 0.0150424\ttotal: 2.81s\tremaining: 2.54s\n",
      "525:\tlearn: 0.0150347\ttotal: 2.81s\tremaining: 2.53s\n",
      "526:\tlearn: 0.0149892\ttotal: 2.82s\tremaining: 2.53s\n",
      "527:\tlearn: 0.0149555\ttotal: 2.82s\tremaining: 2.52s\n",
      "528:\tlearn: 0.0149474\ttotal: 2.83s\tremaining: 2.52s\n",
      "529:\tlearn: 0.0149424\ttotal: 2.83s\tremaining: 2.51s\n",
      "530:\tlearn: 0.0149356\ttotal: 2.84s\tremaining: 2.5s\n",
      "531:\tlearn: 0.0149102\ttotal: 2.84s\tremaining: 2.5s\n",
      "532:\tlearn: 0.0148928\ttotal: 2.85s\tremaining: 2.49s\n",
      "533:\tlearn: 0.0148874\ttotal: 2.85s\tremaining: 2.49s\n",
      "534:\tlearn: 0.0148798\ttotal: 2.86s\tremaining: 2.48s\n",
      "535:\tlearn: 0.0148733\ttotal: 2.86s\tremaining: 2.48s\n",
      "536:\tlearn: 0.0148680\ttotal: 2.87s\tremaining: 2.47s\n",
      "537:\tlearn: 0.0148564\ttotal: 2.87s\tremaining: 2.46s\n",
      "538:\tlearn: 0.0148564\ttotal: 2.87s\tremaining: 2.46s\n",
      "539:\tlearn: 0.0148564\ttotal: 2.88s\tremaining: 2.45s\n",
      "540:\tlearn: 0.0148467\ttotal: 2.88s\tremaining: 2.45s\n",
      "541:\tlearn: 0.0148467\ttotal: 2.89s\tremaining: 2.44s\n",
      "542:\tlearn: 0.0148467\ttotal: 2.89s\tremaining: 2.44s\n",
      "543:\tlearn: 0.0148199\ttotal: 2.9s\tremaining: 2.43s\n",
      "544:\tlearn: 0.0148032\ttotal: 2.9s\tremaining: 2.42s\n",
      "545:\tlearn: 0.0147838\ttotal: 2.91s\tremaining: 2.42s\n",
      "546:\tlearn: 0.0147838\ttotal: 2.91s\tremaining: 2.41s\n",
      "547:\tlearn: 0.0147838\ttotal: 2.92s\tremaining: 2.41s\n",
      "548:\tlearn: 0.0147798\ttotal: 2.92s\tremaining: 2.4s\n",
      "549:\tlearn: 0.0147798\ttotal: 2.93s\tremaining: 2.39s\n",
      "550:\tlearn: 0.0147715\ttotal: 2.93s\tremaining: 2.39s\n",
      "551:\tlearn: 0.0147715\ttotal: 2.93s\tremaining: 2.38s\n",
      "552:\tlearn: 0.0147715\ttotal: 2.94s\tremaining: 2.37s\n",
      "553:\tlearn: 0.0147715\ttotal: 2.94s\tremaining: 2.37s\n",
      "554:\tlearn: 0.0147715\ttotal: 2.94s\tremaining: 2.36s\n",
      "555:\tlearn: 0.0147715\ttotal: 2.95s\tremaining: 2.35s\n",
      "556:\tlearn: 0.0147715\ttotal: 2.95s\tremaining: 2.35s\n",
      "557:\tlearn: 0.0147715\ttotal: 2.96s\tremaining: 2.34s\n",
      "558:\tlearn: 0.0147714\ttotal: 2.96s\tremaining: 2.33s\n",
      "559:\tlearn: 0.0147715\ttotal: 2.96s\tremaining: 2.33s\n",
      "560:\tlearn: 0.0147715\ttotal: 2.96s\tremaining: 2.32s\n",
      "561:\tlearn: 0.0147715\ttotal: 2.97s\tremaining: 2.31s\n",
      "562:\tlearn: 0.0147714\ttotal: 2.97s\tremaining: 2.31s\n",
      "563:\tlearn: 0.0147714\ttotal: 2.97s\tremaining: 2.3s\n",
      "564:\tlearn: 0.0147714\ttotal: 2.98s\tremaining: 2.29s\n",
      "565:\tlearn: 0.0147714\ttotal: 2.98s\tremaining: 2.29s\n",
      "566:\tlearn: 0.0147714\ttotal: 2.98s\tremaining: 2.28s\n",
      "567:\tlearn: 0.0147714\ttotal: 2.99s\tremaining: 2.27s\n",
      "568:\tlearn: 0.0147714\ttotal: 2.99s\tremaining: 2.27s\n",
      "569:\tlearn: 0.0147714\ttotal: 3s\tremaining: 2.26s\n",
      "570:\tlearn: 0.0147714\ttotal: 3s\tremaining: 2.25s\n",
      "571:\tlearn: 0.0147714\ttotal: 3s\tremaining: 2.25s\n",
      "572:\tlearn: 0.0147714\ttotal: 3s\tremaining: 2.24s\n",
      "573:\tlearn: 0.0147714\ttotal: 3.01s\tremaining: 2.23s\n",
      "574:\tlearn: 0.0147714\ttotal: 3.01s\tremaining: 2.23s\n",
      "575:\tlearn: 0.0147714\ttotal: 3.02s\tremaining: 2.22s\n",
      "576:\tlearn: 0.0147714\ttotal: 3.02s\tremaining: 2.21s\n",
      "577:\tlearn: 0.0147714\ttotal: 3.02s\tremaining: 2.21s\n",
      "578:\tlearn: 0.0147714\ttotal: 3.03s\tremaining: 2.2s\n",
      "579:\tlearn: 0.0147713\ttotal: 3.03s\tremaining: 2.19s\n",
      "580:\tlearn: 0.0147713\ttotal: 3.03s\tremaining: 2.19s\n",
      "581:\tlearn: 0.0147713\ttotal: 3.04s\tremaining: 2.18s\n",
      "582:\tlearn: 0.0147713\ttotal: 3.04s\tremaining: 2.17s\n",
      "583:\tlearn: 0.0147713\ttotal: 3.04s\tremaining: 2.17s\n",
      "584:\tlearn: 0.0147713\ttotal: 3.05s\tremaining: 2.16s\n",
      "585:\tlearn: 0.0147713\ttotal: 3.05s\tremaining: 2.15s\n",
      "586:\tlearn: 0.0147713\ttotal: 3.06s\tremaining: 2.15s\n",
      "587:\tlearn: 0.0147713\ttotal: 3.06s\tremaining: 2.14s\n",
      "588:\tlearn: 0.0147713\ttotal: 3.06s\tremaining: 2.14s\n",
      "589:\tlearn: 0.0147713\ttotal: 3.07s\tremaining: 2.13s\n",
      "590:\tlearn: 0.0147713\ttotal: 3.07s\tremaining: 2.12s\n",
      "591:\tlearn: 0.0147713\ttotal: 3.07s\tremaining: 2.12s\n",
      "592:\tlearn: 0.0147713\ttotal: 3.08s\tremaining: 2.11s\n",
      "593:\tlearn: 0.0147712\ttotal: 3.08s\tremaining: 2.11s\n",
      "594:\tlearn: 0.0147712\ttotal: 3.09s\tremaining: 2.1s\n",
      "595:\tlearn: 0.0147712\ttotal: 3.09s\tremaining: 2.1s\n",
      "596:\tlearn: 0.0147639\ttotal: 3.1s\tremaining: 2.09s\n",
      "597:\tlearn: 0.0147639\ttotal: 3.1s\tremaining: 2.08s\n",
      "598:\tlearn: 0.0147639\ttotal: 3.1s\tremaining: 2.08s\n",
      "599:\tlearn: 0.0147639\ttotal: 3.11s\tremaining: 2.07s\n",
      "600:\tlearn: 0.0147639\ttotal: 3.11s\tremaining: 2.06s\n",
      "601:\tlearn: 0.0147638\ttotal: 3.11s\tremaining: 2.06s\n",
      "602:\tlearn: 0.0147638\ttotal: 3.12s\tremaining: 2.05s\n",
      "603:\tlearn: 0.0147638\ttotal: 3.12s\tremaining: 2.05s\n",
      "604:\tlearn: 0.0147638\ttotal: 3.13s\tremaining: 2.04s\n",
      "605:\tlearn: 0.0147638\ttotal: 3.13s\tremaining: 2.03s\n",
      "606:\tlearn: 0.0147638\ttotal: 3.13s\tremaining: 2.03s\n",
      "607:\tlearn: 0.0147638\ttotal: 3.13s\tremaining: 2.02s\n",
      "608:\tlearn: 0.0147638\ttotal: 3.14s\tremaining: 2.01s\n",
      "609:\tlearn: 0.0147638\ttotal: 3.14s\tremaining: 2.01s\n",
      "610:\tlearn: 0.0147638\ttotal: 3.14s\tremaining: 2s\n",
      "611:\tlearn: 0.0147638\ttotal: 3.15s\tremaining: 2s\n",
      "612:\tlearn: 0.0147638\ttotal: 3.15s\tremaining: 1.99s\n",
      "613:\tlearn: 0.0147638\ttotal: 3.15s\tremaining: 1.98s\n",
      "614:\tlearn: 0.0147638\ttotal: 3.16s\tremaining: 1.98s\n",
      "615:\tlearn: 0.0147638\ttotal: 3.16s\tremaining: 1.97s\n",
      "616:\tlearn: 0.0147638\ttotal: 3.16s\tremaining: 1.96s\n",
      "617:\tlearn: 0.0147638\ttotal: 3.17s\tremaining: 1.96s\n",
      "618:\tlearn: 0.0147638\ttotal: 3.17s\tremaining: 1.95s\n",
      "619:\tlearn: 0.0147638\ttotal: 3.17s\tremaining: 1.94s\n",
      "620:\tlearn: 0.0147638\ttotal: 3.18s\tremaining: 1.94s\n",
      "621:\tlearn: 0.0147638\ttotal: 3.18s\tremaining: 1.93s\n",
      "622:\tlearn: 0.0147638\ttotal: 3.18s\tremaining: 1.93s\n",
      "623:\tlearn: 0.0147638\ttotal: 3.19s\tremaining: 1.92s\n",
      "624:\tlearn: 0.0147637\ttotal: 3.19s\tremaining: 1.91s\n",
      "625:\tlearn: 0.0147637\ttotal: 3.19s\tremaining: 1.91s\n",
      "626:\tlearn: 0.0147638\ttotal: 3.2s\tremaining: 1.9s\n",
      "627:\tlearn: 0.0147638\ttotal: 3.2s\tremaining: 1.9s\n",
      "628:\tlearn: 0.0147637\ttotal: 3.21s\tremaining: 1.89s\n",
      "629:\tlearn: 0.0147637\ttotal: 3.21s\tremaining: 1.89s\n",
      "630:\tlearn: 0.0147637\ttotal: 3.21s\tremaining: 1.88s\n",
      "631:\tlearn: 0.0147637\ttotal: 3.22s\tremaining: 1.87s\n",
      "632:\tlearn: 0.0147637\ttotal: 3.22s\tremaining: 1.87s\n",
      "633:\tlearn: 0.0147637\ttotal: 3.23s\tremaining: 1.86s\n",
      "634:\tlearn: 0.0147637\ttotal: 3.23s\tremaining: 1.86s\n",
      "635:\tlearn: 0.0147637\ttotal: 3.23s\tremaining: 1.85s\n",
      "636:\tlearn: 0.0147637\ttotal: 3.24s\tremaining: 1.84s\n",
      "637:\tlearn: 0.0147637\ttotal: 3.24s\tremaining: 1.84s\n",
      "638:\tlearn: 0.0147637\ttotal: 3.25s\tremaining: 1.83s\n",
      "639:\tlearn: 0.0147637\ttotal: 3.25s\tremaining: 1.83s\n",
      "640:\tlearn: 0.0147637\ttotal: 3.25s\tremaining: 1.82s\n",
      "641:\tlearn: 0.0147637\ttotal: 3.26s\tremaining: 1.81s\n",
      "642:\tlearn: 0.0147637\ttotal: 3.26s\tremaining: 1.81s\n",
      "643:\tlearn: 0.0147637\ttotal: 3.26s\tremaining: 1.8s\n",
      "644:\tlearn: 0.0147637\ttotal: 3.27s\tremaining: 1.8s\n",
      "645:\tlearn: 0.0147637\ttotal: 3.27s\tremaining: 1.79s\n",
      "646:\tlearn: 0.0147637\ttotal: 3.27s\tremaining: 1.79s\n",
      "647:\tlearn: 0.0147637\ttotal: 3.28s\tremaining: 1.78s\n",
      "648:\tlearn: 0.0147637\ttotal: 3.28s\tremaining: 1.77s\n",
      "649:\tlearn: 0.0147637\ttotal: 3.29s\tremaining: 1.77s\n",
      "650:\tlearn: 0.0147637\ttotal: 3.29s\tremaining: 1.76s\n",
      "651:\tlearn: 0.0147637\ttotal: 3.29s\tremaining: 1.76s\n",
      "652:\tlearn: 0.0147637\ttotal: 3.3s\tremaining: 1.75s\n",
      "653:\tlearn: 0.0147636\ttotal: 3.3s\tremaining: 1.75s\n",
      "654:\tlearn: 0.0147637\ttotal: 3.31s\tremaining: 1.74s\n",
      "655:\tlearn: 0.0147637\ttotal: 3.31s\tremaining: 1.74s\n",
      "656:\tlearn: 0.0147636\ttotal: 3.31s\tremaining: 1.73s\n",
      "657:\tlearn: 0.0147636\ttotal: 3.32s\tremaining: 1.72s\n",
      "658:\tlearn: 0.0147636\ttotal: 3.32s\tremaining: 1.72s\n",
      "659:\tlearn: 0.0147636\ttotal: 3.32s\tremaining: 1.71s\n",
      "660:\tlearn: 0.0147636\ttotal: 3.33s\tremaining: 1.71s\n",
      "661:\tlearn: 0.0147635\ttotal: 3.33s\tremaining: 1.7s\n",
      "662:\tlearn: 0.0147635\ttotal: 3.33s\tremaining: 1.7s\n",
      "663:\tlearn: 0.0147635\ttotal: 3.34s\tremaining: 1.69s\n",
      "664:\tlearn: 0.0147635\ttotal: 3.34s\tremaining: 1.68s\n",
      "665:\tlearn: 0.0147635\ttotal: 3.35s\tremaining: 1.68s\n",
      "666:\tlearn: 0.0147635\ttotal: 3.35s\tremaining: 1.67s\n",
      "667:\tlearn: 0.0147386\ttotal: 3.35s\tremaining: 1.67s\n",
      "668:\tlearn: 0.0147386\ttotal: 3.36s\tremaining: 1.66s\n",
      "669:\tlearn: 0.0147348\ttotal: 3.36s\tremaining: 1.66s\n",
      "670:\tlearn: 0.0147297\ttotal: 3.37s\tremaining: 1.65s\n",
      "671:\tlearn: 0.0147136\ttotal: 3.37s\tremaining: 1.65s\n",
      "672:\tlearn: 0.0147136\ttotal: 3.38s\tremaining: 1.64s\n",
      "673:\tlearn: 0.0146833\ttotal: 3.38s\tremaining: 1.64s\n",
      "674:\tlearn: 0.0146525\ttotal: 3.39s\tremaining: 1.63s\n",
      "675:\tlearn: 0.0146475\ttotal: 3.39s\tremaining: 1.63s\n",
      "676:\tlearn: 0.0146320\ttotal: 3.4s\tremaining: 1.62s\n",
      "677:\tlearn: 0.0146320\ttotal: 3.4s\tremaining: 1.62s\n",
      "678:\tlearn: 0.0146025\ttotal: 3.41s\tremaining: 1.61s\n",
      "679:\tlearn: 0.0145804\ttotal: 3.41s\tremaining: 1.6s\n"
     ]
    },
    {
     "name": "stdout",
     "output_type": "stream",
     "text": [
      "680:\tlearn: 0.0145431\ttotal: 3.42s\tremaining: 1.6s\n",
      "681:\tlearn: 0.0145357\ttotal: 3.42s\tremaining: 1.59s\n",
      "682:\tlearn: 0.0145333\ttotal: 3.43s\tremaining: 1.59s\n",
      "683:\tlearn: 0.0145172\ttotal: 3.43s\tremaining: 1.59s\n",
      "684:\tlearn: 0.0144893\ttotal: 3.44s\tremaining: 1.58s\n",
      "685:\tlearn: 0.0144774\ttotal: 3.44s\tremaining: 1.58s\n",
      "686:\tlearn: 0.0144774\ttotal: 3.45s\tremaining: 1.57s\n",
      "687:\tlearn: 0.0144774\ttotal: 3.45s\tremaining: 1.56s\n",
      "688:\tlearn: 0.0144450\ttotal: 3.46s\tremaining: 1.56s\n",
      "689:\tlearn: 0.0144450\ttotal: 3.46s\tremaining: 1.55s\n",
      "690:\tlearn: 0.0144450\ttotal: 3.46s\tremaining: 1.55s\n",
      "691:\tlearn: 0.0144185\ttotal: 3.47s\tremaining: 1.54s\n",
      "692:\tlearn: 0.0143945\ttotal: 3.47s\tremaining: 1.54s\n",
      "693:\tlearn: 0.0143673\ttotal: 3.48s\tremaining: 1.53s\n",
      "694:\tlearn: 0.0143457\ttotal: 3.48s\tremaining: 1.53s\n",
      "695:\tlearn: 0.0143399\ttotal: 3.49s\tremaining: 1.52s\n",
      "696:\tlearn: 0.0143189\ttotal: 3.5s\tremaining: 1.52s\n",
      "697:\tlearn: 0.0143131\ttotal: 3.5s\tremaining: 1.51s\n",
      "698:\tlearn: 0.0142905\ttotal: 3.5s\tremaining: 1.51s\n",
      "699:\tlearn: 0.0142613\ttotal: 3.51s\tremaining: 1.5s\n",
      "700:\tlearn: 0.0142440\ttotal: 3.51s\tremaining: 1.5s\n",
      "701:\tlearn: 0.0142183\ttotal: 3.52s\tremaining: 1.49s\n",
      "702:\tlearn: 0.0142130\ttotal: 3.52s\tremaining: 1.49s\n",
      "703:\tlearn: 0.0141850\ttotal: 3.53s\tremaining: 1.48s\n",
      "704:\tlearn: 0.0141775\ttotal: 3.53s\tremaining: 1.48s\n",
      "705:\tlearn: 0.0141508\ttotal: 3.54s\tremaining: 1.47s\n",
      "706:\tlearn: 0.0141223\ttotal: 3.54s\tremaining: 1.47s\n",
      "707:\tlearn: 0.0141223\ttotal: 3.55s\tremaining: 1.46s\n",
      "708:\tlearn: 0.0141171\ttotal: 3.55s\tremaining: 1.46s\n",
      "709:\tlearn: 0.0141092\ttotal: 3.56s\tremaining: 1.45s\n",
      "710:\tlearn: 0.0141092\ttotal: 3.56s\tremaining: 1.45s\n",
      "711:\tlearn: 0.0141092\ttotal: 3.56s\tremaining: 1.44s\n",
      "712:\tlearn: 0.0141092\ttotal: 3.56s\tremaining: 1.44s\n",
      "713:\tlearn: 0.0141091\ttotal: 3.57s\tremaining: 1.43s\n",
      "714:\tlearn: 0.0141091\ttotal: 3.57s\tremaining: 1.42s\n",
      "715:\tlearn: 0.0141091\ttotal: 3.58s\tremaining: 1.42s\n",
      "716:\tlearn: 0.0141091\ttotal: 3.58s\tremaining: 1.41s\n",
      "717:\tlearn: 0.0141091\ttotal: 3.58s\tremaining: 1.41s\n",
      "718:\tlearn: 0.0140894\ttotal: 3.59s\tremaining: 1.4s\n",
      "719:\tlearn: 0.0140746\ttotal: 3.59s\tremaining: 1.4s\n",
      "720:\tlearn: 0.0140745\ttotal: 3.6s\tremaining: 1.39s\n",
      "721:\tlearn: 0.0140745\ttotal: 3.6s\tremaining: 1.39s\n",
      "722:\tlearn: 0.0140745\ttotal: 3.6s\tremaining: 1.38s\n",
      "723:\tlearn: 0.0140745\ttotal: 3.61s\tremaining: 1.38s\n",
      "724:\tlearn: 0.0140745\ttotal: 3.61s\tremaining: 1.37s\n",
      "725:\tlearn: 0.0140745\ttotal: 3.62s\tremaining: 1.36s\n",
      "726:\tlearn: 0.0140745\ttotal: 3.62s\tremaining: 1.36s\n",
      "727:\tlearn: 0.0140745\ttotal: 3.62s\tremaining: 1.35s\n",
      "728:\tlearn: 0.0140745\ttotal: 3.63s\tremaining: 1.35s\n",
      "729:\tlearn: 0.0140745\ttotal: 3.63s\tremaining: 1.34s\n",
      "730:\tlearn: 0.0140745\ttotal: 3.63s\tremaining: 1.34s\n",
      "731:\tlearn: 0.0140745\ttotal: 3.64s\tremaining: 1.33s\n",
      "732:\tlearn: 0.0140744\ttotal: 3.64s\tremaining: 1.33s\n",
      "733:\tlearn: 0.0140745\ttotal: 3.64s\tremaining: 1.32s\n",
      "734:\tlearn: 0.0140744\ttotal: 3.65s\tremaining: 1.31s\n",
      "735:\tlearn: 0.0140744\ttotal: 3.65s\tremaining: 1.31s\n",
      "736:\tlearn: 0.0140744\ttotal: 3.65s\tremaining: 1.3s\n",
      "737:\tlearn: 0.0140714\ttotal: 3.66s\tremaining: 1.3s\n",
      "738:\tlearn: 0.0140714\ttotal: 3.66s\tremaining: 1.29s\n",
      "739:\tlearn: 0.0140714\ttotal: 3.67s\tremaining: 1.29s\n",
      "740:\tlearn: 0.0140678\ttotal: 3.67s\tremaining: 1.28s\n",
      "741:\tlearn: 0.0140677\ttotal: 3.67s\tremaining: 1.28s\n",
      "742:\tlearn: 0.0140424\ttotal: 3.68s\tremaining: 1.27s\n",
      "743:\tlearn: 0.0140169\ttotal: 3.69s\tremaining: 1.27s\n",
      "744:\tlearn: 0.0139982\ttotal: 3.69s\tremaining: 1.26s\n",
      "745:\tlearn: 0.0139980\ttotal: 3.69s\tremaining: 1.26s\n",
      "746:\tlearn: 0.0139980\ttotal: 3.7s\tremaining: 1.25s\n",
      "747:\tlearn: 0.0139980\ttotal: 3.7s\tremaining: 1.25s\n",
      "748:\tlearn: 0.0139980\ttotal: 3.7s\tremaining: 1.24s\n",
      "749:\tlearn: 0.0139980\ttotal: 3.71s\tremaining: 1.24s\n",
      "750:\tlearn: 0.0139979\ttotal: 3.71s\tremaining: 1.23s\n",
      "751:\tlearn: 0.0139629\ttotal: 3.72s\tremaining: 1.23s\n",
      "752:\tlearn: 0.0139486\ttotal: 3.72s\tremaining: 1.22s\n",
      "753:\tlearn: 0.0139235\ttotal: 3.73s\tremaining: 1.22s\n",
      "754:\tlearn: 0.0139006\ttotal: 3.73s\tremaining: 1.21s\n",
      "755:\tlearn: 0.0138861\ttotal: 3.73s\tremaining: 1.21s\n",
      "756:\tlearn: 0.0138740\ttotal: 3.74s\tremaining: 1.2s\n",
      "757:\tlearn: 0.0138521\ttotal: 3.74s\tremaining: 1.2s\n",
      "758:\tlearn: 0.0138521\ttotal: 3.75s\tremaining: 1.19s\n",
      "759:\tlearn: 0.0138521\ttotal: 3.75s\tremaining: 1.18s\n",
      "760:\tlearn: 0.0138521\ttotal: 3.75s\tremaining: 1.18s\n",
      "761:\tlearn: 0.0138521\ttotal: 3.76s\tremaining: 1.17s\n",
      "762:\tlearn: 0.0138521\ttotal: 3.76s\tremaining: 1.17s\n",
      "763:\tlearn: 0.0138521\ttotal: 3.76s\tremaining: 1.16s\n",
      "764:\tlearn: 0.0138521\ttotal: 3.77s\tremaining: 1.16s\n",
      "765:\tlearn: 0.0138521\ttotal: 3.77s\tremaining: 1.15s\n",
      "766:\tlearn: 0.0138520\ttotal: 3.77s\tremaining: 1.15s\n",
      "767:\tlearn: 0.0138520\ttotal: 3.78s\tremaining: 1.14s\n",
      "768:\tlearn: 0.0138521\ttotal: 3.78s\tremaining: 1.14s\n",
      "769:\tlearn: 0.0138521\ttotal: 3.79s\tremaining: 1.13s\n",
      "770:\tlearn: 0.0138520\ttotal: 3.79s\tremaining: 1.13s\n",
      "771:\tlearn: 0.0138520\ttotal: 3.79s\tremaining: 1.12s\n",
      "772:\tlearn: 0.0138520\ttotal: 3.8s\tremaining: 1.11s\n",
      "773:\tlearn: 0.0138520\ttotal: 3.8s\tremaining: 1.11s\n",
      "774:\tlearn: 0.0138520\ttotal: 3.81s\tremaining: 1.1s\n",
      "775:\tlearn: 0.0138520\ttotal: 3.81s\tremaining: 1.1s\n",
      "776:\tlearn: 0.0138520\ttotal: 3.81s\tremaining: 1.09s\n",
      "777:\tlearn: 0.0138520\ttotal: 3.82s\tremaining: 1.09s\n",
      "778:\tlearn: 0.0138520\ttotal: 3.82s\tremaining: 1.08s\n",
      "779:\tlearn: 0.0138491\ttotal: 3.82s\tremaining: 1.08s\n",
      "780:\tlearn: 0.0138420\ttotal: 3.83s\tremaining: 1.07s\n",
      "781:\tlearn: 0.0138282\ttotal: 3.83s\tremaining: 1.07s\n",
      "782:\tlearn: 0.0138077\ttotal: 3.84s\tremaining: 1.06s\n",
      "783:\tlearn: 0.0137918\ttotal: 3.84s\tremaining: 1.06s\n",
      "784:\tlearn: 0.0137781\ttotal: 3.85s\tremaining: 1.05s\n",
      "785:\tlearn: 0.0137781\ttotal: 3.85s\tremaining: 1.05s\n",
      "786:\tlearn: 0.0137781\ttotal: 3.85s\tremaining: 1.04s\n",
      "787:\tlearn: 0.0137781\ttotal: 3.86s\tremaining: 1.04s\n",
      "788:\tlearn: 0.0137781\ttotal: 3.86s\tremaining: 1.03s\n",
      "789:\tlearn: 0.0137453\ttotal: 3.87s\tremaining: 1.03s\n",
      "790:\tlearn: 0.0137453\ttotal: 3.87s\tremaining: 1.02s\n",
      "791:\tlearn: 0.0137453\ttotal: 3.87s\tremaining: 1.02s\n",
      "792:\tlearn: 0.0137453\ttotal: 3.88s\tremaining: 1.01s\n",
      "793:\tlearn: 0.0137453\ttotal: 3.88s\tremaining: 1.01s\n",
      "794:\tlearn: 0.0137453\ttotal: 3.88s\tremaining: 1s\n",
      "795:\tlearn: 0.0137453\ttotal: 3.89s\tremaining: 996ms\n",
      "796:\tlearn: 0.0137452\ttotal: 3.89s\tremaining: 991ms\n",
      "797:\tlearn: 0.0137452\ttotal: 3.89s\tremaining: 986ms\n",
      "798:\tlearn: 0.0137399\ttotal: 3.9s\tremaining: 981ms\n",
      "799:\tlearn: 0.0137212\ttotal: 3.9s\tremaining: 976ms\n",
      "800:\tlearn: 0.0137079\ttotal: 3.91s\tremaining: 971ms\n",
      "801:\tlearn: 0.0136862\ttotal: 3.91s\tremaining: 966ms\n",
      "802:\tlearn: 0.0136862\ttotal: 3.92s\tremaining: 961ms\n",
      "803:\tlearn: 0.0136862\ttotal: 3.92s\tremaining: 956ms\n",
      "804:\tlearn: 0.0136862\ttotal: 3.92s\tremaining: 950ms\n",
      "805:\tlearn: 0.0136862\ttotal: 3.93s\tremaining: 945ms\n",
      "806:\tlearn: 0.0136862\ttotal: 3.93s\tremaining: 940ms\n",
      "807:\tlearn: 0.0136862\ttotal: 3.93s\tremaining: 935ms\n",
      "808:\tlearn: 0.0136862\ttotal: 3.94s\tremaining: 930ms\n",
      "809:\tlearn: 0.0136862\ttotal: 3.94s\tremaining: 924ms\n",
      "810:\tlearn: 0.0136862\ttotal: 3.94s\tremaining: 919ms\n",
      "811:\tlearn: 0.0136861\ttotal: 3.95s\tremaining: 914ms\n",
      "812:\tlearn: 0.0136861\ttotal: 3.95s\tremaining: 909ms\n",
      "813:\tlearn: 0.0136861\ttotal: 3.95s\tremaining: 904ms\n",
      "814:\tlearn: 0.0136861\ttotal: 3.96s\tremaining: 899ms\n",
      "815:\tlearn: 0.0136861\ttotal: 3.96s\tremaining: 893ms\n",
      "816:\tlearn: 0.0136861\ttotal: 3.96s\tremaining: 888ms\n",
      "817:\tlearn: 0.0136860\ttotal: 3.97s\tremaining: 883ms\n",
      "818:\tlearn: 0.0136860\ttotal: 3.97s\tremaining: 878ms\n",
      "819:\tlearn: 0.0136860\ttotal: 3.98s\tremaining: 873ms\n",
      "820:\tlearn: 0.0136860\ttotal: 3.98s\tremaining: 868ms\n",
      "821:\tlearn: 0.0136860\ttotal: 3.98s\tremaining: 863ms\n",
      "822:\tlearn: 0.0136860\ttotal: 3.99s\tremaining: 858ms\n",
      "823:\tlearn: 0.0136860\ttotal: 3.99s\tremaining: 853ms\n",
      "824:\tlearn: 0.0136859\ttotal: 4s\tremaining: 848ms\n",
      "825:\tlearn: 0.0136859\ttotal: 4s\tremaining: 843ms\n",
      "826:\tlearn: 0.0136859\ttotal: 4s\tremaining: 838ms\n",
      "827:\tlearn: 0.0136859\ttotal: 4.01s\tremaining: 833ms\n",
      "828:\tlearn: 0.0136859\ttotal: 4.01s\tremaining: 827ms\n",
      "829:\tlearn: 0.0136859\ttotal: 4.01s\tremaining: 822ms\n",
      "830:\tlearn: 0.0136859\ttotal: 4.02s\tremaining: 817ms\n",
      "831:\tlearn: 0.0136859\ttotal: 4.02s\tremaining: 812ms\n",
      "832:\tlearn: 0.0136859\ttotal: 4.02s\tremaining: 807ms\n",
      "833:\tlearn: 0.0136859\ttotal: 4.03s\tremaining: 802ms\n",
      "834:\tlearn: 0.0136859\ttotal: 4.03s\tremaining: 797ms\n",
      "835:\tlearn: 0.0136859\ttotal: 4.03s\tremaining: 791ms\n",
      "836:\tlearn: 0.0136859\ttotal: 4.04s\tremaining: 786ms\n",
      "837:\tlearn: 0.0136859\ttotal: 4.04s\tremaining: 781ms\n",
      "838:\tlearn: 0.0136859\ttotal: 4.04s\tremaining: 776ms\n",
      "839:\tlearn: 0.0136859\ttotal: 4.05s\tremaining: 771ms\n",
      "840:\tlearn: 0.0136859\ttotal: 4.05s\tremaining: 766ms\n",
      "841:\tlearn: 0.0136859\ttotal: 4.05s\tremaining: 761ms\n",
      "842:\tlearn: 0.0136859\ttotal: 4.06s\tremaining: 755ms\n",
      "843:\tlearn: 0.0136859\ttotal: 4.06s\tremaining: 750ms\n",
      "844:\tlearn: 0.0136859\ttotal: 4.06s\tremaining: 745ms\n",
      "845:\tlearn: 0.0136859\ttotal: 4.07s\tremaining: 740ms\n",
      "846:\tlearn: 0.0136859\ttotal: 4.07s\tremaining: 735ms\n",
      "847:\tlearn: 0.0136859\ttotal: 4.07s\tremaining: 730ms\n",
      "848:\tlearn: 0.0136859\ttotal: 4.08s\tremaining: 725ms\n",
      "849:\tlearn: 0.0136859\ttotal: 4.08s\tremaining: 720ms\n",
      "850:\tlearn: 0.0136859\ttotal: 4.08s\tremaining: 715ms\n",
      "851:\tlearn: 0.0136859\ttotal: 4.09s\tremaining: 710ms\n",
      "852:\tlearn: 0.0136859\ttotal: 4.09s\tremaining: 705ms\n",
      "853:\tlearn: 0.0136859\ttotal: 4.09s\tremaining: 700ms\n",
      "854:\tlearn: 0.0136859\ttotal: 4.1s\tremaining: 695ms\n",
      "855:\tlearn: 0.0136859\ttotal: 4.1s\tremaining: 690ms\n",
      "856:\tlearn: 0.0136859\ttotal: 4.1s\tremaining: 685ms\n",
      "857:\tlearn: 0.0136859\ttotal: 4.11s\tremaining: 680ms\n",
      "858:\tlearn: 0.0136859\ttotal: 4.11s\tremaining: 675ms\n",
      "859:\tlearn: 0.0136859\ttotal: 4.11s\tremaining: 670ms\n",
      "860:\tlearn: 0.0136859\ttotal: 4.12s\tremaining: 665ms\n",
      "861:\tlearn: 0.0136859\ttotal: 4.12s\tremaining: 659ms\n",
      "862:\tlearn: 0.0136859\ttotal: 4.12s\tremaining: 654ms\n",
      "863:\tlearn: 0.0136859\ttotal: 4.13s\tremaining: 650ms\n"
     ]
    },
    {
     "name": "stdout",
     "output_type": "stream",
     "text": [
      "864:\tlearn: 0.0136859\ttotal: 4.13s\tremaining: 645ms\n",
      "865:\tlearn: 0.0136859\ttotal: 4.13s\tremaining: 640ms\n",
      "866:\tlearn: 0.0136859\ttotal: 4.14s\tremaining: 635ms\n",
      "867:\tlearn: 0.0136859\ttotal: 4.14s\tremaining: 630ms\n",
      "868:\tlearn: 0.0136859\ttotal: 4.14s\tremaining: 625ms\n",
      "869:\tlearn: 0.0136859\ttotal: 4.15s\tremaining: 620ms\n",
      "870:\tlearn: 0.0136859\ttotal: 4.15s\tremaining: 615ms\n",
      "871:\tlearn: 0.0136859\ttotal: 4.16s\tremaining: 610ms\n",
      "872:\tlearn: 0.0136859\ttotal: 4.16s\tremaining: 605ms\n",
      "873:\tlearn: 0.0136859\ttotal: 4.16s\tremaining: 600ms\n",
      "874:\tlearn: 0.0136859\ttotal: 4.17s\tremaining: 595ms\n",
      "875:\tlearn: 0.0136859\ttotal: 4.17s\tremaining: 590ms\n",
      "876:\tlearn: 0.0136859\ttotal: 4.17s\tremaining: 586ms\n",
      "877:\tlearn: 0.0136859\ttotal: 4.18s\tremaining: 581ms\n",
      "878:\tlearn: 0.0136859\ttotal: 4.18s\tremaining: 576ms\n",
      "879:\tlearn: 0.0136859\ttotal: 4.18s\tremaining: 571ms\n",
      "880:\tlearn: 0.0136859\ttotal: 4.19s\tremaining: 566ms\n",
      "881:\tlearn: 0.0136859\ttotal: 4.19s\tremaining: 561ms\n",
      "882:\tlearn: 0.0136859\ttotal: 4.2s\tremaining: 556ms\n",
      "883:\tlearn: 0.0136859\ttotal: 4.2s\tremaining: 551ms\n",
      "884:\tlearn: 0.0136859\ttotal: 4.2s\tremaining: 546ms\n",
      "885:\tlearn: 0.0136859\ttotal: 4.2s\tremaining: 541ms\n",
      "886:\tlearn: 0.0136859\ttotal: 4.21s\tremaining: 536ms\n",
      "887:\tlearn: 0.0136859\ttotal: 4.21s\tremaining: 531ms\n",
      "888:\tlearn: 0.0136859\ttotal: 4.21s\tremaining: 526ms\n",
      "889:\tlearn: 0.0136859\ttotal: 4.22s\tremaining: 521ms\n",
      "890:\tlearn: 0.0136859\ttotal: 4.22s\tremaining: 516ms\n",
      "891:\tlearn: 0.0136859\ttotal: 4.22s\tremaining: 511ms\n",
      "892:\tlearn: 0.0136859\ttotal: 4.23s\tremaining: 506ms\n",
      "893:\tlearn: 0.0136859\ttotal: 4.23s\tremaining: 502ms\n",
      "894:\tlearn: 0.0136859\ttotal: 4.23s\tremaining: 497ms\n",
      "895:\tlearn: 0.0136859\ttotal: 4.24s\tremaining: 492ms\n",
      "896:\tlearn: 0.0136859\ttotal: 4.24s\tremaining: 487ms\n",
      "897:\tlearn: 0.0136859\ttotal: 4.24s\tremaining: 482ms\n",
      "898:\tlearn: 0.0136859\ttotal: 4.25s\tremaining: 477ms\n",
      "899:\tlearn: 0.0136859\ttotal: 4.25s\tremaining: 472ms\n",
      "900:\tlearn: 0.0136859\ttotal: 4.25s\tremaining: 467ms\n",
      "901:\tlearn: 0.0136859\ttotal: 4.26s\tremaining: 463ms\n",
      "902:\tlearn: 0.0136859\ttotal: 4.26s\tremaining: 458ms\n",
      "903:\tlearn: 0.0136859\ttotal: 4.26s\tremaining: 453ms\n",
      "904:\tlearn: 0.0136859\ttotal: 4.27s\tremaining: 448ms\n",
      "905:\tlearn: 0.0136859\ttotal: 4.27s\tremaining: 443ms\n",
      "906:\tlearn: 0.0136859\ttotal: 4.27s\tremaining: 438ms\n",
      "907:\tlearn: 0.0136859\ttotal: 4.28s\tremaining: 433ms\n",
      "908:\tlearn: 0.0136859\ttotal: 4.28s\tremaining: 428ms\n",
      "909:\tlearn: 0.0136859\ttotal: 4.28s\tremaining: 424ms\n",
      "910:\tlearn: 0.0136859\ttotal: 4.29s\tremaining: 419ms\n",
      "911:\tlearn: 0.0136859\ttotal: 4.29s\tremaining: 414ms\n",
      "912:\tlearn: 0.0136859\ttotal: 4.29s\tremaining: 409ms\n",
      "913:\tlearn: 0.0136859\ttotal: 4.3s\tremaining: 404ms\n",
      "914:\tlearn: 0.0136859\ttotal: 4.3s\tremaining: 399ms\n",
      "915:\tlearn: 0.0136859\ttotal: 4.3s\tremaining: 395ms\n",
      "916:\tlearn: 0.0136859\ttotal: 4.31s\tremaining: 390ms\n",
      "917:\tlearn: 0.0136859\ttotal: 4.31s\tremaining: 385ms\n",
      "918:\tlearn: 0.0136859\ttotal: 4.31s\tremaining: 380ms\n",
      "919:\tlearn: 0.0136859\ttotal: 4.32s\tremaining: 376ms\n",
      "920:\tlearn: 0.0136859\ttotal: 4.32s\tremaining: 371ms\n",
      "921:\tlearn: 0.0136859\ttotal: 4.33s\tremaining: 366ms\n",
      "922:\tlearn: 0.0136859\ttotal: 4.33s\tremaining: 361ms\n",
      "923:\tlearn: 0.0136859\ttotal: 4.33s\tremaining: 356ms\n",
      "924:\tlearn: 0.0136859\ttotal: 4.34s\tremaining: 352ms\n",
      "925:\tlearn: 0.0136859\ttotal: 4.34s\tremaining: 347ms\n",
      "926:\tlearn: 0.0136859\ttotal: 4.34s\tremaining: 342ms\n",
      "927:\tlearn: 0.0136859\ttotal: 4.35s\tremaining: 337ms\n",
      "928:\tlearn: 0.0136859\ttotal: 4.35s\tremaining: 333ms\n",
      "929:\tlearn: 0.0136859\ttotal: 4.35s\tremaining: 328ms\n",
      "930:\tlearn: 0.0136859\ttotal: 4.36s\tremaining: 323ms\n",
      "931:\tlearn: 0.0136859\ttotal: 4.36s\tremaining: 318ms\n",
      "932:\tlearn: 0.0136859\ttotal: 4.36s\tremaining: 313ms\n",
      "933:\tlearn: 0.0136859\ttotal: 4.37s\tremaining: 309ms\n",
      "934:\tlearn: 0.0136859\ttotal: 4.37s\tremaining: 304ms\n",
      "935:\tlearn: 0.0136859\ttotal: 4.37s\tremaining: 299ms\n",
      "936:\tlearn: 0.0136859\ttotal: 4.38s\tremaining: 294ms\n",
      "937:\tlearn: 0.0136859\ttotal: 4.38s\tremaining: 290ms\n",
      "938:\tlearn: 0.0136859\ttotal: 4.38s\tremaining: 285ms\n",
      "939:\tlearn: 0.0136859\ttotal: 4.39s\tremaining: 280ms\n",
      "940:\tlearn: 0.0136859\ttotal: 4.39s\tremaining: 275ms\n",
      "941:\tlearn: 0.0136859\ttotal: 4.39s\tremaining: 271ms\n",
      "942:\tlearn: 0.0136859\ttotal: 4.4s\tremaining: 266ms\n",
      "943:\tlearn: 0.0136859\ttotal: 4.4s\tremaining: 261ms\n",
      "944:\tlearn: 0.0136859\ttotal: 4.4s\tremaining: 256ms\n",
      "945:\tlearn: 0.0136859\ttotal: 4.41s\tremaining: 252ms\n",
      "946:\tlearn: 0.0136859\ttotal: 4.41s\tremaining: 247ms\n",
      "947:\tlearn: 0.0136859\ttotal: 4.41s\tremaining: 242ms\n",
      "948:\tlearn: 0.0136859\ttotal: 4.42s\tremaining: 237ms\n",
      "949:\tlearn: 0.0136859\ttotal: 4.42s\tremaining: 233ms\n",
      "950:\tlearn: 0.0136859\ttotal: 4.42s\tremaining: 228ms\n",
      "951:\tlearn: 0.0136859\ttotal: 4.43s\tremaining: 223ms\n",
      "952:\tlearn: 0.0136859\ttotal: 4.43s\tremaining: 218ms\n",
      "953:\tlearn: 0.0136859\ttotal: 4.43s\tremaining: 214ms\n",
      "954:\tlearn: 0.0136859\ttotal: 4.43s\tremaining: 209ms\n",
      "955:\tlearn: 0.0136859\ttotal: 4.44s\tremaining: 204ms\n",
      "956:\tlearn: 0.0136859\ttotal: 4.44s\tremaining: 200ms\n",
      "957:\tlearn: 0.0136859\ttotal: 4.45s\tremaining: 195ms\n",
      "958:\tlearn: 0.0136859\ttotal: 4.45s\tremaining: 190ms\n",
      "959:\tlearn: 0.0136859\ttotal: 4.45s\tremaining: 186ms\n",
      "960:\tlearn: 0.0136859\ttotal: 4.46s\tremaining: 181ms\n",
      "961:\tlearn: 0.0136859\ttotal: 4.46s\tremaining: 176ms\n",
      "962:\tlearn: 0.0136859\ttotal: 4.46s\tremaining: 171ms\n",
      "963:\tlearn: 0.0136859\ttotal: 4.47s\tremaining: 167ms\n",
      "964:\tlearn: 0.0136859\ttotal: 4.47s\tremaining: 162ms\n",
      "965:\tlearn: 0.0136859\ttotal: 4.47s\tremaining: 157ms\n",
      "966:\tlearn: 0.0136859\ttotal: 4.48s\tremaining: 153ms\n",
      "967:\tlearn: 0.0136859\ttotal: 4.48s\tremaining: 148ms\n",
      "968:\tlearn: 0.0136859\ttotal: 4.48s\tremaining: 143ms\n",
      "969:\tlearn: 0.0136859\ttotal: 4.49s\tremaining: 139ms\n",
      "970:\tlearn: 0.0136859\ttotal: 4.49s\tremaining: 134ms\n",
      "971:\tlearn: 0.0136859\ttotal: 4.49s\tremaining: 129ms\n",
      "972:\tlearn: 0.0136859\ttotal: 4.5s\tremaining: 125ms\n",
      "973:\tlearn: 0.0136859\ttotal: 4.5s\tremaining: 120ms\n",
      "974:\tlearn: 0.0136859\ttotal: 4.51s\tremaining: 116ms\n",
      "975:\tlearn: 0.0136859\ttotal: 4.51s\tremaining: 111ms\n",
      "976:\tlearn: 0.0136859\ttotal: 4.51s\tremaining: 106ms\n",
      "977:\tlearn: 0.0136859\ttotal: 4.52s\tremaining: 102ms\n",
      "978:\tlearn: 0.0136859\ttotal: 4.52s\tremaining: 97ms\n",
      "979:\tlearn: 0.0136859\ttotal: 4.52s\tremaining: 92.3ms\n",
      "980:\tlearn: 0.0136859\ttotal: 4.53s\tremaining: 87.7ms\n",
      "981:\tlearn: 0.0136859\ttotal: 4.53s\tremaining: 83ms\n",
      "982:\tlearn: 0.0136859\ttotal: 4.53s\tremaining: 78.4ms\n",
      "983:\tlearn: 0.0136859\ttotal: 4.54s\tremaining: 73.8ms\n",
      "984:\tlearn: 0.0136859\ttotal: 4.54s\tremaining: 69.2ms\n",
      "985:\tlearn: 0.0136859\ttotal: 4.54s\tremaining: 64.5ms\n",
      "986:\tlearn: 0.0136859\ttotal: 4.55s\tremaining: 59.9ms\n",
      "987:\tlearn: 0.0136859\ttotal: 4.55s\tremaining: 55.3ms\n",
      "988:\tlearn: 0.0136859\ttotal: 4.55s\tremaining: 50.7ms\n",
      "989:\tlearn: 0.0136859\ttotal: 4.56s\tremaining: 46ms\n",
      "990:\tlearn: 0.0136859\ttotal: 4.56s\tremaining: 41.4ms\n",
      "991:\tlearn: 0.0136859\ttotal: 4.56s\tremaining: 36.8ms\n",
      "992:\tlearn: 0.0136859\ttotal: 4.57s\tremaining: 32.2ms\n",
      "993:\tlearn: 0.0136859\ttotal: 4.57s\tremaining: 27.6ms\n",
      "994:\tlearn: 0.0136859\ttotal: 4.57s\tremaining: 23ms\n",
      "995:\tlearn: 0.0136859\ttotal: 4.58s\tremaining: 18.4ms\n",
      "996:\tlearn: 0.0136859\ttotal: 4.58s\tremaining: 13.8ms\n",
      "997:\tlearn: 0.0136859\ttotal: 4.58s\tremaining: 9.19ms\n",
      "998:\tlearn: 0.0136859\ttotal: 4.59s\tremaining: 4.59ms\n",
      "999:\tlearn: 0.0136859\ttotal: 4.59s\tremaining: 0us\n"
     ]
    }
   ],
   "source": [
    "cat_model = CatBoostClassifier().fit(X_train, y_train)"
   ]
  },
  {
   "cell_type": "code",
   "execution_count": 202,
   "id": "1341a6a7-cfa2-4568-b890-9e72b906eed2",
   "metadata": {},
   "outputs": [
    {
     "data": {
      "text/plain": [
       "0.9913636363636363"
      ]
     },
     "execution_count": 202,
     "metadata": {},
     "output_type": "execute_result"
    }
   ],
   "source": [
    "y_pred = cat_model.predict(X_test)\n",
    "accuracy_score(y_test, y_pred)"
   ]
  },
  {
   "cell_type": "code",
   "execution_count": 194,
   "id": "5ff092b2-69fb-4edc-9242-dece7453a150",
   "metadata": {},
   "outputs": [],
   "source": [
    "# CatBoost Model kullanılarak accuracy_score"
   ]
  },
  {
   "cell_type": "code",
   "execution_count": 205,
   "id": "176d03ef-d0ce-4373-8476-0de59e29b267",
   "metadata": {},
   "outputs": [],
   "source": [
    "catb_params = {\n",
    "    'iterations': [200,500],\n",
    "    'learning_rate': [0.01,0.1],\n",
    "    'depth': [3,5] }"
   ]
  },
  {
   "cell_type": "code",
   "execution_count": 207,
   "id": "cf372765-7215-4517-acc9-a296ab10dfc2",
   "metadata": {
    "jupyter": {
     "outputs_hidden": true
    },
    "tags": []
   },
   "outputs": [
    {
     "name": "stdout",
     "output_type": "stream",
     "text": [
      "Fitting 5 folds for each of 8 candidates, totalling 40 fits\n",
      "0:\tlearn: 0.6694637\ttotal: 3.42ms\tremaining: 1.71s\n",
      "1:\tlearn: 0.6478247\ttotal: 7.13ms\tremaining: 1.78s\n",
      "2:\tlearn: 0.6221526\ttotal: 11.1ms\tremaining: 1.85s\n",
      "3:\tlearn: 0.6029675\ttotal: 14.8ms\tremaining: 1.83s\n",
      "4:\tlearn: 0.5803911\ttotal: 18.4ms\tremaining: 1.82s\n",
      "5:\tlearn: 0.5628655\ttotal: 22.3ms\tremaining: 1.83s\n",
      "6:\tlearn: 0.5430967\ttotal: 25.8ms\tremaining: 1.82s\n",
      "7:\tlearn: 0.5209485\ttotal: 29.6ms\tremaining: 1.82s\n",
      "8:\tlearn: 0.5033058\ttotal: 32.9ms\tremaining: 1.8s\n",
      "9:\tlearn: 0.4876261\ttotal: 36.9ms\tremaining: 1.81s\n",
      "10:\tlearn: 0.4713866\ttotal: 40.1ms\tremaining: 1.78s\n",
      "11:\tlearn: 0.4538367\ttotal: 43.7ms\tremaining: 1.78s\n",
      "12:\tlearn: 0.4371347\ttotal: 47.5ms\tremaining: 1.78s\n",
      "13:\tlearn: 0.4195672\ttotal: 54.6ms\tremaining: 1.9s\n",
      "14:\tlearn: 0.4048544\ttotal: 59.1ms\tremaining: 1.91s\n",
      "15:\tlearn: 0.3908895\ttotal: 62.8ms\tremaining: 1.9s\n",
      "16:\tlearn: 0.3767766\ttotal: 66.4ms\tremaining: 1.89s\n",
      "17:\tlearn: 0.3629605\ttotal: 70ms\tremaining: 1.87s\n",
      "18:\tlearn: 0.3515232\ttotal: 73.3ms\tremaining: 1.85s\n",
      "19:\tlearn: 0.3415467\ttotal: 76.4ms\tremaining: 1.83s\n",
      "20:\tlearn: 0.3294256\ttotal: 79.9ms\tremaining: 1.82s\n",
      "21:\tlearn: 0.3163719\ttotal: 84.1ms\tremaining: 1.83s\n",
      "22:\tlearn: 0.3073563\ttotal: 88.2ms\tremaining: 1.83s\n",
      "23:\tlearn: 0.2991914\ttotal: 91.6ms\tremaining: 1.82s\n",
      "24:\tlearn: 0.2891882\ttotal: 95.2ms\tremaining: 1.81s\n",
      "25:\tlearn: 0.2789443\ttotal: 99ms\tremaining: 1.8s\n",
      "26:\tlearn: 0.2711843\ttotal: 103ms\tremaining: 1.8s\n",
      "27:\tlearn: 0.2629212\ttotal: 106ms\tremaining: 1.79s\n",
      "28:\tlearn: 0.2548270\ttotal: 109ms\tremaining: 1.77s\n",
      "29:\tlearn: 0.2471194\ttotal: 113ms\tremaining: 1.76s\n",
      "30:\tlearn: 0.2382830\ttotal: 117ms\tremaining: 1.77s\n",
      "31:\tlearn: 0.2312728\ttotal: 120ms\tremaining: 1.76s\n",
      "32:\tlearn: 0.2240985\ttotal: 124ms\tremaining: 1.75s\n",
      "33:\tlearn: 0.2188039\ttotal: 127ms\tremaining: 1.74s\n",
      "34:\tlearn: 0.2110001\ttotal: 130ms\tremaining: 1.73s\n",
      "35:\tlearn: 0.2048760\ttotal: 134ms\tremaining: 1.73s\n",
      "36:\tlearn: 0.1992020\ttotal: 137ms\tremaining: 1.72s\n",
      "37:\tlearn: 0.1936766\ttotal: 140ms\tremaining: 1.7s\n",
      "38:\tlearn: 0.1890154\ttotal: 144ms\tremaining: 1.7s\n",
      "39:\tlearn: 0.1845769\ttotal: 147ms\tremaining: 1.7s\n",
      "40:\tlearn: 0.1784553\ttotal: 151ms\tremaining: 1.69s\n",
      "41:\tlearn: 0.1733701\ttotal: 155ms\tremaining: 1.69s\n",
      "42:\tlearn: 0.1695809\ttotal: 158ms\tremaining: 1.68s\n",
      "43:\tlearn: 0.1642448\ttotal: 161ms\tremaining: 1.67s\n",
      "44:\tlearn: 0.1597621\ttotal: 165ms\tremaining: 1.67s\n",
      "45:\tlearn: 0.1557643\ttotal: 168ms\tremaining: 1.66s\n",
      "46:\tlearn: 0.1509565\ttotal: 171ms\tremaining: 1.65s\n",
      "47:\tlearn: 0.1475289\ttotal: 175ms\tremaining: 1.65s\n",
      "48:\tlearn: 0.1441992\ttotal: 178ms\tremaining: 1.64s\n",
      "49:\tlearn: 0.1406800\ttotal: 184ms\tremaining: 1.65s\n",
      "50:\tlearn: 0.1379691\ttotal: 187ms\tremaining: 1.65s\n",
      "51:\tlearn: 0.1350248\ttotal: 191ms\tremaining: 1.65s\n",
      "52:\tlearn: 0.1313773\ttotal: 194ms\tremaining: 1.64s\n",
      "53:\tlearn: 0.1274486\ttotal: 199ms\tremaining: 1.64s\n",
      "54:\tlearn: 0.1246973\ttotal: 202ms\tremaining: 1.64s\n",
      "55:\tlearn: 0.1215706\ttotal: 206ms\tremaining: 1.63s\n",
      "56:\tlearn: 0.1183862\ttotal: 210ms\tremaining: 1.64s\n",
      "57:\tlearn: 0.1153211\ttotal: 216ms\tremaining: 1.64s\n",
      "58:\tlearn: 0.1127128\ttotal: 219ms\tremaining: 1.64s\n",
      "59:\tlearn: 0.1107129\ttotal: 223ms\tremaining: 1.63s\n",
      "60:\tlearn: 0.1082214\ttotal: 227ms\tremaining: 1.63s\n",
      "61:\tlearn: 0.1057831\ttotal: 231ms\tremaining: 1.63s\n",
      "62:\tlearn: 0.1032888\ttotal: 235ms\tremaining: 1.63s\n",
      "63:\tlearn: 0.1012057\ttotal: 238ms\tremaining: 1.62s\n",
      "64:\tlearn: 0.0990435\ttotal: 242ms\tremaining: 1.62s\n",
      "65:\tlearn: 0.0969810\ttotal: 246ms\tremaining: 1.62s\n",
      "66:\tlearn: 0.0949657\ttotal: 250ms\tremaining: 1.61s\n",
      "67:\tlearn: 0.0931083\ttotal: 253ms\tremaining: 1.61s\n",
      "68:\tlearn: 0.0915104\ttotal: 256ms\tremaining: 1.6s\n",
      "69:\tlearn: 0.0899295\ttotal: 259ms\tremaining: 1.59s\n",
      "70:\tlearn: 0.0879990\ttotal: 262ms\tremaining: 1.58s\n",
      "71:\tlearn: 0.0864928\ttotal: 265ms\tremaining: 1.58s\n",
      "72:\tlearn: 0.0853416\ttotal: 269ms\tremaining: 1.57s\n",
      "73:\tlearn: 0.0835868\ttotal: 272ms\tremaining: 1.56s\n",
      "74:\tlearn: 0.0821565\ttotal: 275ms\tremaining: 1.56s\n",
      "75:\tlearn: 0.0809149\ttotal: 279ms\tremaining: 1.56s\n",
      "76:\tlearn: 0.0794677\ttotal: 283ms\tremaining: 1.55s\n",
      "77:\tlearn: 0.0781356\ttotal: 286ms\tremaining: 1.55s\n",
      "78:\tlearn: 0.0768246\ttotal: 290ms\tremaining: 1.54s\n",
      "79:\tlearn: 0.0755583\ttotal: 294ms\tremaining: 1.54s\n",
      "80:\tlearn: 0.0742068\ttotal: 297ms\tremaining: 1.54s\n",
      "81:\tlearn: 0.0732410\ttotal: 301ms\tremaining: 1.53s\n",
      "82:\tlearn: 0.0719668\ttotal: 305ms\tremaining: 1.53s\n",
      "83:\tlearn: 0.0708621\ttotal: 310ms\tremaining: 1.53s\n",
      "84:\tlearn: 0.0698325\ttotal: 314ms\tremaining: 1.53s\n",
      "85:\tlearn: 0.0691103\ttotal: 318ms\tremaining: 1.53s\n",
      "86:\tlearn: 0.0682681\ttotal: 322ms\tremaining: 1.53s\n",
      "87:\tlearn: 0.0672269\ttotal: 326ms\tremaining: 1.52s\n",
      "88:\tlearn: 0.0663172\ttotal: 329ms\tremaining: 1.52s\n",
      "89:\tlearn: 0.0654158\ttotal: 333ms\tremaining: 1.52s\n",
      "90:\tlearn: 0.0645029\ttotal: 337ms\tremaining: 1.51s\n",
      "91:\tlearn: 0.0637027\ttotal: 342ms\tremaining: 1.52s\n",
      "92:\tlearn: 0.0629320\ttotal: 346ms\tremaining: 1.51s\n",
      "93:\tlearn: 0.0621732\ttotal: 350ms\tremaining: 1.51s\n",
      "94:\tlearn: 0.0614644\ttotal: 354ms\tremaining: 1.51s\n",
      "95:\tlearn: 0.0606979\ttotal: 358ms\tremaining: 1.5s\n",
      "96:\tlearn: 0.0599307\ttotal: 362ms\tremaining: 1.5s\n",
      "97:\tlearn: 0.0590584\ttotal: 366ms\tremaining: 1.5s\n",
      "98:\tlearn: 0.0584285\ttotal: 370ms\tremaining: 1.5s\n",
      "99:\tlearn: 0.0578325\ttotal: 375ms\tremaining: 1.5s\n",
      "100:\tlearn: 0.0571811\ttotal: 380ms\tremaining: 1.5s\n",
      "101:\tlearn: 0.0566949\ttotal: 384ms\tremaining: 1.5s\n",
      "102:\tlearn: 0.0559765\ttotal: 388ms\tremaining: 1.5s\n",
      "103:\tlearn: 0.0555104\ttotal: 392ms\tremaining: 1.49s\n",
      "104:\tlearn: 0.0549636\ttotal: 396ms\tremaining: 1.49s\n",
      "105:\tlearn: 0.0543418\ttotal: 400ms\tremaining: 1.49s\n",
      "106:\tlearn: 0.0537476\ttotal: 406ms\tremaining: 1.49s\n",
      "107:\tlearn: 0.0532736\ttotal: 410ms\tremaining: 1.49s\n",
      "108:\tlearn: 0.0528519\ttotal: 413ms\tremaining: 1.48s\n",
      "109:\tlearn: 0.0523183\ttotal: 417ms\tremaining: 1.48s\n",
      "110:\tlearn: 0.0518465\ttotal: 421ms\tremaining: 1.48s\n",
      "111:\tlearn: 0.0514206\ttotal: 425ms\tremaining: 1.47s\n",
      "112:\tlearn: 0.0509939\ttotal: 428ms\tremaining: 1.47s\n",
      "113:\tlearn: 0.0505146\ttotal: 433ms\tremaining: 1.46s\n",
      "114:\tlearn: 0.0500922\ttotal: 438ms\tremaining: 1.47s\n",
      "115:\tlearn: 0.0497864\ttotal: 442ms\tremaining: 1.46s\n",
      "116:\tlearn: 0.0494060\ttotal: 445ms\tremaining: 1.46s\n",
      "117:\tlearn: 0.0490755\ttotal: 448ms\tremaining: 1.45s\n",
      "118:\tlearn: 0.0487714\ttotal: 452ms\tremaining: 1.45s\n",
      "119:\tlearn: 0.0484389\ttotal: 455ms\tremaining: 1.44s\n",
      "120:\tlearn: 0.0481149\ttotal: 458ms\tremaining: 1.44s\n",
      "121:\tlearn: 0.0477880\ttotal: 461ms\tremaining: 1.43s\n",
      "122:\tlearn: 0.0474504\ttotal: 465ms\tremaining: 1.43s\n",
      "123:\tlearn: 0.0471008\ttotal: 470ms\tremaining: 1.42s\n",
      "124:\tlearn: 0.0466717\ttotal: 473ms\tremaining: 1.42s\n",
      "125:\tlearn: 0.0463489\ttotal: 476ms\tremaining: 1.41s\n",
      "126:\tlearn: 0.0460862\ttotal: 479ms\tremaining: 1.41s\n",
      "127:\tlearn: 0.0458207\ttotal: 483ms\tremaining: 1.4s\n",
      "128:\tlearn: 0.0455273\ttotal: 486ms\tremaining: 1.4s\n",
      "129:\tlearn: 0.0452469\ttotal: 489ms\tremaining: 1.39s\n",
      "130:\tlearn: 0.0449144\ttotal: 492ms\tremaining: 1.39s\n",
      "131:\tlearn: 0.0446387\ttotal: 496ms\tremaining: 1.38s\n",
      "132:\tlearn: 0.0442970\ttotal: 501ms\tremaining: 1.38s\n",
      "133:\tlearn: 0.0440075\ttotal: 503ms\tremaining: 1.37s\n",
      "134:\tlearn: 0.0437950\ttotal: 507ms\tremaining: 1.37s\n",
      "135:\tlearn: 0.0435610\ttotal: 510ms\tremaining: 1.37s\n",
      "136:\tlearn: 0.0433509\ttotal: 514ms\tremaining: 1.36s\n",
      "137:\tlearn: 0.0431600\ttotal: 518ms\tremaining: 1.36s\n",
      "138:\tlearn: 0.0429355\ttotal: 521ms\tremaining: 1.35s\n",
      "139:\tlearn: 0.0427211\ttotal: 525ms\tremaining: 1.35s\n",
      "140:\tlearn: 0.0425175\ttotal: 529ms\tremaining: 1.35s\n",
      "141:\tlearn: 0.0422857\ttotal: 533ms\tremaining: 1.34s\n",
      "142:\tlearn: 0.0421638\ttotal: 536ms\tremaining: 1.34s\n",
      "143:\tlearn: 0.0420192\ttotal: 540ms\tremaining: 1.33s\n",
      "144:\tlearn: 0.0417709\ttotal: 544ms\tremaining: 1.33s\n",
      "145:\tlearn: 0.0416015\ttotal: 548ms\tremaining: 1.33s\n",
      "146:\tlearn: 0.0414134\ttotal: 552ms\tremaining: 1.32s\n",
      "147:\tlearn: 0.0412639\ttotal: 556ms\tremaining: 1.32s\n",
      "148:\tlearn: 0.0410335\ttotal: 560ms\tremaining: 1.32s\n",
      "149:\tlearn: 0.0408376\ttotal: 565ms\tremaining: 1.32s\n",
      "150:\tlearn: 0.0406731\ttotal: 569ms\tremaining: 1.31s\n",
      "151:\tlearn: 0.0405252\ttotal: 572ms\tremaining: 1.31s\n",
      "152:\tlearn: 0.0403884\ttotal: 576ms\tremaining: 1.31s\n",
      "153:\tlearn: 0.0402090\ttotal: 581ms\tremaining: 1.3s\n",
      "154:\tlearn: 0.0400490\ttotal: 585ms\tremaining: 1.3s\n",
      "155:\tlearn: 0.0399121\ttotal: 589ms\tremaining: 1.3s\n",
      "156:\tlearn: 0.0397457\ttotal: 594ms\tremaining: 1.3s\n",
      "157:\tlearn: 0.0396197\ttotal: 598ms\tremaining: 1.29s\n",
      "158:\tlearn: 0.0394870\ttotal: 602ms\tremaining: 1.29s\n",
      "159:\tlearn: 0.0393039\ttotal: 605ms\tremaining: 1.29s\n",
      "160:\tlearn: 0.0391803\ttotal: 610ms\tremaining: 1.28s\n",
      "161:\tlearn: 0.0390650\ttotal: 613ms\tremaining: 1.28s\n",
      "162:\tlearn: 0.0389684\ttotal: 616ms\tremaining: 1.27s\n",
      "163:\tlearn: 0.0388246\ttotal: 620ms\tremaining: 1.27s\n",
      "164:\tlearn: 0.0387187\ttotal: 624ms\tremaining: 1.26s\n",
      "165:\tlearn: 0.0386029\ttotal: 628ms\tremaining: 1.26s\n",
      "166:\tlearn: 0.0384729\ttotal: 631ms\tremaining: 1.26s\n",
      "167:\tlearn: 0.0383459\ttotal: 634ms\tremaining: 1.25s\n",
      "168:\tlearn: 0.0382248\ttotal: 638ms\tremaining: 1.25s\n",
      "169:\tlearn: 0.0380746\ttotal: 641ms\tremaining: 1.24s\n",
      "170:\tlearn: 0.0379517\ttotal: 644ms\tremaining: 1.24s\n",
      "171:\tlearn: 0.0378434\ttotal: 648ms\tremaining: 1.24s\n",
      "172:\tlearn: 0.0377525\ttotal: 651ms\tremaining: 1.23s\n",
      "173:\tlearn: 0.0376459\ttotal: 654ms\tremaining: 1.23s\n",
      "174:\tlearn: 0.0375623\ttotal: 658ms\tremaining: 1.22s\n",
      "175:\tlearn: 0.0374641\ttotal: 661ms\tremaining: 1.22s\n",
      "176:\tlearn: 0.0373593\ttotal: 665ms\tremaining: 1.21s\n",
      "177:\tlearn: 0.0372551\ttotal: 668ms\tremaining: 1.21s\n",
      "178:\tlearn: 0.0371581\ttotal: 672ms\tremaining: 1.2s\n",
      "179:\tlearn: 0.0370705\ttotal: 675ms\tremaining: 1.2s\n",
      "180:\tlearn: 0.0369625\ttotal: 679ms\tremaining: 1.2s\n",
      "181:\tlearn: 0.0368893\ttotal: 682ms\tremaining: 1.19s\n",
      "182:\tlearn: 0.0367863\ttotal: 686ms\tremaining: 1.19s\n",
      "183:\tlearn: 0.0366797\ttotal: 690ms\tremaining: 1.18s\n",
      "184:\tlearn: 0.0366148\ttotal: 693ms\tremaining: 1.18s\n",
      "185:\tlearn: 0.0365277\ttotal: 696ms\tremaining: 1.18s\n",
      "186:\tlearn: 0.0364553\ttotal: 700ms\tremaining: 1.17s\n",
      "187:\tlearn: 0.0363701\ttotal: 704ms\tremaining: 1.17s\n",
      "188:\tlearn: 0.0362884\ttotal: 707ms\tremaining: 1.16s\n",
      "189:\tlearn: 0.0362064\ttotal: 710ms\tremaining: 1.16s\n",
      "190:\tlearn: 0.0361515\ttotal: 714ms\tremaining: 1.15s\n"
     ]
    },
    {
     "name": "stdout",
     "output_type": "stream",
     "text": [
      "191:\tlearn: 0.0361038\ttotal: 718ms\tremaining: 1.15s\n",
      "192:\tlearn: 0.0360263\ttotal: 722ms\tremaining: 1.15s\n",
      "193:\tlearn: 0.0359713\ttotal: 726ms\tremaining: 1.15s\n",
      "194:\tlearn: 0.0359239\ttotal: 730ms\tremaining: 1.14s\n",
      "195:\tlearn: 0.0358258\ttotal: 733ms\tremaining: 1.14s\n",
      "196:\tlearn: 0.0357525\ttotal: 737ms\tremaining: 1.13s\n",
      "197:\tlearn: 0.0356757\ttotal: 741ms\tremaining: 1.13s\n",
      "198:\tlearn: 0.0356212\ttotal: 745ms\tremaining: 1.13s\n",
      "199:\tlearn: 0.0355520\ttotal: 749ms\tremaining: 1.12s\n",
      "200:\tlearn: 0.0354733\ttotal: 753ms\tremaining: 1.12s\n",
      "201:\tlearn: 0.0354305\ttotal: 756ms\tremaining: 1.11s\n",
      "202:\tlearn: 0.0353762\ttotal: 760ms\tremaining: 1.11s\n",
      "203:\tlearn: 0.0353083\ttotal: 763ms\tremaining: 1.11s\n",
      "204:\tlearn: 0.0352395\ttotal: 767ms\tremaining: 1.1s\n",
      "205:\tlearn: 0.0351791\ttotal: 770ms\tremaining: 1.1s\n",
      "206:\tlearn: 0.0351171\ttotal: 774ms\tremaining: 1.09s\n",
      "207:\tlearn: 0.0350483\ttotal: 777ms\tremaining: 1.09s\n",
      "208:\tlearn: 0.0349820\ttotal: 781ms\tremaining: 1.09s\n",
      "209:\tlearn: 0.0349215\ttotal: 786ms\tremaining: 1.08s\n",
      "210:\tlearn: 0.0348711\ttotal: 789ms\tremaining: 1.08s\n",
      "211:\tlearn: 0.0348051\ttotal: 793ms\tremaining: 1.08s\n",
      "212:\tlearn: 0.0347469\ttotal: 796ms\tremaining: 1.07s\n",
      "213:\tlearn: 0.0346897\ttotal: 800ms\tremaining: 1.07s\n",
      "214:\tlearn: 0.0346445\ttotal: 803ms\tremaining: 1.06s\n",
      "215:\tlearn: 0.0345789\ttotal: 806ms\tremaining: 1.06s\n",
      "216:\tlearn: 0.0345264\ttotal: 809ms\tremaining: 1.05s\n",
      "217:\tlearn: 0.0344741\ttotal: 813ms\tremaining: 1.05s\n",
      "218:\tlearn: 0.0344142\ttotal: 817ms\tremaining: 1.05s\n",
      "219:\tlearn: 0.0343666\ttotal: 820ms\tremaining: 1.04s\n",
      "220:\tlearn: 0.0343127\ttotal: 824ms\tremaining: 1.04s\n",
      "221:\tlearn: 0.0342688\ttotal: 827ms\tremaining: 1.04s\n",
      "222:\tlearn: 0.0342287\ttotal: 831ms\tremaining: 1.03s\n",
      "223:\tlearn: 0.0341916\ttotal: 835ms\tremaining: 1.03s\n",
      "224:\tlearn: 0.0341504\ttotal: 837ms\tremaining: 1.02s\n",
      "225:\tlearn: 0.0340971\ttotal: 841ms\tremaining: 1.02s\n",
      "226:\tlearn: 0.0340606\ttotal: 844ms\tremaining: 1.01s\n",
      "227:\tlearn: 0.0340071\ttotal: 848ms\tremaining: 1.01s\n",
      "228:\tlearn: 0.0339791\ttotal: 852ms\tremaining: 1.01s\n",
      "229:\tlearn: 0.0339375\ttotal: 855ms\tremaining: 1s\n",
      "230:\tlearn: 0.0338876\ttotal: 859ms\tremaining: 1s\n",
      "231:\tlearn: 0.0338371\ttotal: 863ms\tremaining: 997ms\n",
      "232:\tlearn: 0.0337913\ttotal: 867ms\tremaining: 994ms\n",
      "233:\tlearn: 0.0337476\ttotal: 871ms\tremaining: 990ms\n",
      "234:\tlearn: 0.0337287\ttotal: 874ms\tremaining: 986ms\n",
      "235:\tlearn: 0.0336893\ttotal: 879ms\tremaining: 983ms\n",
      "236:\tlearn: 0.0336510\ttotal: 883ms\tremaining: 980ms\n",
      "237:\tlearn: 0.0336146\ttotal: 887ms\tremaining: 976ms\n",
      "238:\tlearn: 0.0335822\ttotal: 891ms\tremaining: 973ms\n",
      "239:\tlearn: 0.0335498\ttotal: 895ms\tremaining: 969ms\n",
      "240:\tlearn: 0.0335085\ttotal: 899ms\tremaining: 966ms\n",
      "241:\tlearn: 0.0334691\ttotal: 902ms\tremaining: 962ms\n",
      "242:\tlearn: 0.0334436\ttotal: 905ms\tremaining: 958ms\n",
      "243:\tlearn: 0.0333955\ttotal: 910ms\tremaining: 955ms\n",
      "244:\tlearn: 0.0333639\ttotal: 916ms\tremaining: 953ms\n",
      "245:\tlearn: 0.0333260\ttotal: 920ms\tremaining: 950ms\n",
      "246:\tlearn: 0.0332958\ttotal: 925ms\tremaining: 947ms\n",
      "247:\tlearn: 0.0332581\ttotal: 931ms\tremaining: 946ms\n",
      "248:\tlearn: 0.0332147\ttotal: 934ms\tremaining: 942ms\n",
      "249:\tlearn: 0.0331826\ttotal: 938ms\tremaining: 938ms\n",
      "250:\tlearn: 0.0331642\ttotal: 943ms\tremaining: 936ms\n",
      "251:\tlearn: 0.0331265\ttotal: 947ms\tremaining: 932ms\n",
      "252:\tlearn: 0.0331001\ttotal: 950ms\tremaining: 928ms\n",
      "253:\tlearn: 0.0330692\ttotal: 954ms\tremaining: 924ms\n",
      "254:\tlearn: 0.0330508\ttotal: 958ms\tremaining: 920ms\n",
      "255:\tlearn: 0.0330204\ttotal: 962ms\tremaining: 916ms\n",
      "256:\tlearn: 0.0329878\ttotal: 965ms\tremaining: 913ms\n",
      "257:\tlearn: 0.0329676\ttotal: 969ms\tremaining: 909ms\n",
      "258:\tlearn: 0.0329439\ttotal: 973ms\tremaining: 905ms\n",
      "259:\tlearn: 0.0329095\ttotal: 977ms\tremaining: 902ms\n",
      "260:\tlearn: 0.0328963\ttotal: 981ms\tremaining: 898ms\n",
      "261:\tlearn: 0.0328656\ttotal: 985ms\tremaining: 895ms\n",
      "262:\tlearn: 0.0328277\ttotal: 989ms\tremaining: 891ms\n",
      "263:\tlearn: 0.0328060\ttotal: 993ms\tremaining: 888ms\n",
      "264:\tlearn: 0.0327766\ttotal: 996ms\tremaining: 883ms\n",
      "265:\tlearn: 0.0327507\ttotal: 999ms\tremaining: 878ms\n",
      "266:\tlearn: 0.0327133\ttotal: 1s\tremaining: 875ms\n",
      "267:\tlearn: 0.0326821\ttotal: 1.01s\tremaining: 871ms\n",
      "268:\tlearn: 0.0326582\ttotal: 1.01s\tremaining: 867ms\n",
      "269:\tlearn: 0.0326274\ttotal: 1.01s\tremaining: 864ms\n",
      "270:\tlearn: 0.0325950\ttotal: 1.02s\tremaining: 860ms\n",
      "271:\tlearn: 0.0325667\ttotal: 1.02s\tremaining: 856ms\n",
      "272:\tlearn: 0.0325455\ttotal: 1.02s\tremaining: 852ms\n",
      "273:\tlearn: 0.0325273\ttotal: 1.03s\tremaining: 848ms\n",
      "274:\tlearn: 0.0325047\ttotal: 1.03s\tremaining: 844ms\n",
      "275:\tlearn: 0.0324791\ttotal: 1.03s\tremaining: 840ms\n",
      "276:\tlearn: 0.0324465\ttotal: 1.04s\tremaining: 837ms\n",
      "277:\tlearn: 0.0324217\ttotal: 1.04s\tremaining: 833ms\n",
      "278:\tlearn: 0.0324040\ttotal: 1.05s\tremaining: 830ms\n",
      "279:\tlearn: 0.0323676\ttotal: 1.05s\tremaining: 826ms\n",
      "280:\tlearn: 0.0323419\ttotal: 1.05s\tremaining: 822ms\n",
      "281:\tlearn: 0.0323261\ttotal: 1.06s\tremaining: 818ms\n",
      "282:\tlearn: 0.0323027\ttotal: 1.06s\tremaining: 814ms\n",
      "283:\tlearn: 0.0322775\ttotal: 1.06s\tremaining: 810ms\n",
      "284:\tlearn: 0.0322485\ttotal: 1.07s\tremaining: 807ms\n",
      "285:\tlearn: 0.0322241\ttotal: 1.07s\tremaining: 803ms\n",
      "286:\tlearn: 0.0321997\ttotal: 1.08s\tremaining: 799ms\n",
      "287:\tlearn: 0.0321729\ttotal: 1.08s\tremaining: 795ms\n",
      "288:\tlearn: 0.0321424\ttotal: 1.08s\tremaining: 792ms\n",
      "289:\tlearn: 0.0321132\ttotal: 1.09s\tremaining: 789ms\n",
      "290:\tlearn: 0.0320885\ttotal: 1.09s\tremaining: 786ms\n",
      "291:\tlearn: 0.0320659\ttotal: 1.1s\tremaining: 782ms\n",
      "292:\tlearn: 0.0320405\ttotal: 1.1s\tremaining: 779ms\n",
      "293:\tlearn: 0.0320213\ttotal: 1.11s\tremaining: 775ms\n",
      "294:\tlearn: 0.0319928\ttotal: 1.11s\tremaining: 771ms\n",
      "295:\tlearn: 0.0319723\ttotal: 1.11s\tremaining: 768ms\n",
      "296:\tlearn: 0.0319425\ttotal: 1.12s\tremaining: 764ms\n",
      "297:\tlearn: 0.0319209\ttotal: 1.12s\tremaining: 760ms\n",
      "298:\tlearn: 0.0318978\ttotal: 1.12s\tremaining: 756ms\n",
      "299:\tlearn: 0.0318625\ttotal: 1.13s\tremaining: 752ms\n",
      "300:\tlearn: 0.0318397\ttotal: 1.13s\tremaining: 748ms\n",
      "301:\tlearn: 0.0318290\ttotal: 1.13s\tremaining: 744ms\n",
      "302:\tlearn: 0.0318119\ttotal: 1.14s\tremaining: 740ms\n",
      "303:\tlearn: 0.0317986\ttotal: 1.14s\tremaining: 735ms\n",
      "304:\tlearn: 0.0317778\ttotal: 1.14s\tremaining: 731ms\n",
      "305:\tlearn: 0.0317619\ttotal: 1.15s\tremaining: 727ms\n",
      "306:\tlearn: 0.0317351\ttotal: 1.15s\tremaining: 723ms\n",
      "307:\tlearn: 0.0317221\ttotal: 1.15s\tremaining: 719ms\n",
      "308:\tlearn: 0.0317093\ttotal: 1.16s\tremaining: 715ms\n",
      "309:\tlearn: 0.0316961\ttotal: 1.16s\tremaining: 711ms\n",
      "310:\tlearn: 0.0316759\ttotal: 1.17s\tremaining: 708ms\n",
      "311:\tlearn: 0.0316576\ttotal: 1.17s\tremaining: 704ms\n",
      "312:\tlearn: 0.0316489\ttotal: 1.17s\tremaining: 700ms\n",
      "313:\tlearn: 0.0316401\ttotal: 1.18s\tremaining: 696ms\n",
      "314:\tlearn: 0.0316243\ttotal: 1.18s\tremaining: 693ms\n",
      "315:\tlearn: 0.0316068\ttotal: 1.18s\tremaining: 689ms\n",
      "316:\tlearn: 0.0315898\ttotal: 1.19s\tremaining: 685ms\n",
      "317:\tlearn: 0.0315756\ttotal: 1.19s\tremaining: 680ms\n",
      "318:\tlearn: 0.0315595\ttotal: 1.19s\tremaining: 677ms\n",
      "319:\tlearn: 0.0315472\ttotal: 1.2s\tremaining: 673ms\n",
      "320:\tlearn: 0.0315168\ttotal: 1.2s\tremaining: 669ms\n",
      "321:\tlearn: 0.0315069\ttotal: 1.2s\tremaining: 665ms\n",
      "322:\tlearn: 0.0314962\ttotal: 1.21s\tremaining: 661ms\n",
      "323:\tlearn: 0.0314804\ttotal: 1.21s\tremaining: 657ms\n",
      "324:\tlearn: 0.0314668\ttotal: 1.21s\tremaining: 654ms\n",
      "325:\tlearn: 0.0314477\ttotal: 1.22s\tremaining: 650ms\n",
      "326:\tlearn: 0.0314388\ttotal: 1.22s\tremaining: 646ms\n",
      "327:\tlearn: 0.0314231\ttotal: 1.22s\tremaining: 642ms\n",
      "328:\tlearn: 0.0314050\ttotal: 1.23s\tremaining: 638ms\n",
      "329:\tlearn: 0.0313877\ttotal: 1.23s\tremaining: 634ms\n",
      "330:\tlearn: 0.0313605\ttotal: 1.23s\tremaining: 630ms\n",
      "331:\tlearn: 0.0313476\ttotal: 1.24s\tremaining: 626ms\n",
      "332:\tlearn: 0.0313326\ttotal: 1.24s\tremaining: 622ms\n",
      "333:\tlearn: 0.0313266\ttotal: 1.24s\tremaining: 618ms\n",
      "334:\tlearn: 0.0312962\ttotal: 1.25s\tremaining: 614ms\n",
      "335:\tlearn: 0.0312758\ttotal: 1.25s\tremaining: 610ms\n",
      "336:\tlearn: 0.0312530\ttotal: 1.25s\tremaining: 606ms\n",
      "337:\tlearn: 0.0312428\ttotal: 1.26s\tremaining: 602ms\n",
      "338:\tlearn: 0.0312277\ttotal: 1.26s\tremaining: 599ms\n",
      "339:\tlearn: 0.0312125\ttotal: 1.26s\tremaining: 595ms\n",
      "340:\tlearn: 0.0312008\ttotal: 1.27s\tremaining: 591ms\n",
      "341:\tlearn: 0.0311880\ttotal: 1.27s\tremaining: 588ms\n",
      "342:\tlearn: 0.0311811\ttotal: 1.28s\tremaining: 584ms\n",
      "343:\tlearn: 0.0311726\ttotal: 1.28s\tremaining: 580ms\n",
      "344:\tlearn: 0.0311621\ttotal: 1.28s\tremaining: 576ms\n",
      "345:\tlearn: 0.0311441\ttotal: 1.28s\tremaining: 572ms\n",
      "346:\tlearn: 0.0311223\ttotal: 1.29s\tremaining: 568ms\n",
      "347:\tlearn: 0.0311100\ttotal: 1.29s\tremaining: 564ms\n",
      "348:\tlearn: 0.0310923\ttotal: 1.29s\tremaining: 561ms\n",
      "349:\tlearn: 0.0310713\ttotal: 1.3s\tremaining: 557ms\n",
      "350:\tlearn: 0.0310493\ttotal: 1.3s\tremaining: 553ms\n",
      "351:\tlearn: 0.0310274\ttotal: 1.3s\tremaining: 549ms\n",
      "352:\tlearn: 0.0310148\ttotal: 1.31s\tremaining: 545ms\n",
      "353:\tlearn: 0.0309989\ttotal: 1.31s\tremaining: 541ms\n",
      "354:\tlearn: 0.0309841\ttotal: 1.31s\tremaining: 537ms\n",
      "355:\tlearn: 0.0309761\ttotal: 1.32s\tremaining: 533ms\n",
      "356:\tlearn: 0.0309643\ttotal: 1.32s\tremaining: 529ms\n",
      "357:\tlearn: 0.0309390\ttotal: 1.32s\tremaining: 526ms\n",
      "358:\tlearn: 0.0309223\ttotal: 1.33s\tremaining: 522ms\n",
      "359:\tlearn: 0.0309049\ttotal: 1.33s\tremaining: 518ms\n",
      "360:\tlearn: 0.0308884\ttotal: 1.33s\tremaining: 514ms\n",
      "361:\tlearn: 0.0308838\ttotal: 1.34s\tremaining: 510ms\n",
      "362:\tlearn: 0.0308739\ttotal: 1.34s\tremaining: 506ms\n",
      "363:\tlearn: 0.0308598\ttotal: 1.34s\tremaining: 503ms\n",
      "364:\tlearn: 0.0308519\ttotal: 1.35s\tremaining: 499ms\n",
      "365:\tlearn: 0.0308346\ttotal: 1.35s\tremaining: 495ms\n",
      "366:\tlearn: 0.0308186\ttotal: 1.36s\tremaining: 492ms\n",
      "367:\tlearn: 0.0308109\ttotal: 1.36s\tremaining: 488ms\n",
      "368:\tlearn: 0.0307991\ttotal: 1.36s\tremaining: 484ms\n",
      "369:\tlearn: 0.0307883\ttotal: 1.38s\tremaining: 484ms\n",
      "370:\tlearn: 0.0307737\ttotal: 1.38s\tremaining: 480ms\n",
      "371:\tlearn: 0.0307677\ttotal: 1.38s\tremaining: 476ms\n",
      "372:\tlearn: 0.0307473\ttotal: 1.39s\tremaining: 473ms\n",
      "373:\tlearn: 0.0307360\ttotal: 1.39s\tremaining: 469ms\n",
      "374:\tlearn: 0.0307250\ttotal: 1.39s\tremaining: 465ms\n",
      "375:\tlearn: 0.0307134\ttotal: 1.4s\tremaining: 461ms\n",
      "376:\tlearn: 0.0307077\ttotal: 1.4s\tremaining: 457ms\n",
      "377:\tlearn: 0.0306906\ttotal: 1.4s\tremaining: 453ms\n",
      "378:\tlearn: 0.0306793\ttotal: 1.41s\tremaining: 450ms\n",
      "379:\tlearn: 0.0306624\ttotal: 1.41s\tremaining: 446ms\n",
      "380:\tlearn: 0.0306474\ttotal: 1.42s\tremaining: 442ms\n",
      "381:\tlearn: 0.0306362\ttotal: 1.42s\tremaining: 439ms\n",
      "382:\tlearn: 0.0306299\ttotal: 1.42s\tremaining: 435ms\n",
      "383:\tlearn: 0.0306178\ttotal: 1.43s\tremaining: 431ms\n"
     ]
    },
    {
     "name": "stdout",
     "output_type": "stream",
     "text": [
      "384:\tlearn: 0.0306041\ttotal: 1.43s\tremaining: 427ms\n",
      "385:\tlearn: 0.0305962\ttotal: 1.43s\tremaining: 424ms\n",
      "386:\tlearn: 0.0305871\ttotal: 1.44s\tremaining: 420ms\n",
      "387:\tlearn: 0.0305794\ttotal: 1.44s\tremaining: 416ms\n",
      "388:\tlearn: 0.0305687\ttotal: 1.44s\tremaining: 412ms\n",
      "389:\tlearn: 0.0305628\ttotal: 1.45s\tremaining: 409ms\n",
      "390:\tlearn: 0.0305510\ttotal: 1.47s\tremaining: 409ms\n",
      "391:\tlearn: 0.0305391\ttotal: 1.47s\tremaining: 405ms\n",
      "392:\tlearn: 0.0305332\ttotal: 1.47s\tremaining: 402ms\n",
      "393:\tlearn: 0.0305201\ttotal: 1.48s\tremaining: 398ms\n",
      "394:\tlearn: 0.0305054\ttotal: 1.48s\tremaining: 394ms\n",
      "395:\tlearn: 0.0304914\ttotal: 1.49s\tremaining: 391ms\n",
      "396:\tlearn: 0.0304823\ttotal: 1.49s\tremaining: 387ms\n",
      "397:\tlearn: 0.0304687\ttotal: 1.49s\tremaining: 383ms\n",
      "398:\tlearn: 0.0304578\ttotal: 1.5s\tremaining: 379ms\n",
      "399:\tlearn: 0.0304451\ttotal: 1.5s\tremaining: 375ms\n",
      "400:\tlearn: 0.0304358\ttotal: 1.5s\tremaining: 371ms\n",
      "401:\tlearn: 0.0304275\ttotal: 1.51s\tremaining: 367ms\n",
      "402:\tlearn: 0.0304147\ttotal: 1.51s\tremaining: 363ms\n",
      "403:\tlearn: 0.0303908\ttotal: 1.51s\tremaining: 360ms\n",
      "404:\tlearn: 0.0303786\ttotal: 1.52s\tremaining: 356ms\n",
      "405:\tlearn: 0.0303679\ttotal: 1.52s\tremaining: 352ms\n",
      "406:\tlearn: 0.0303566\ttotal: 1.52s\tremaining: 348ms\n",
      "407:\tlearn: 0.0303434\ttotal: 1.53s\tremaining: 344ms\n",
      "408:\tlearn: 0.0303320\ttotal: 1.53s\tremaining: 340ms\n",
      "409:\tlearn: 0.0303184\ttotal: 1.53s\tremaining: 336ms\n",
      "410:\tlearn: 0.0303118\ttotal: 1.53s\tremaining: 333ms\n",
      "411:\tlearn: 0.0302988\ttotal: 1.54s\tremaining: 329ms\n",
      "412:\tlearn: 0.0302859\ttotal: 1.54s\tremaining: 325ms\n",
      "413:\tlearn: 0.0302722\ttotal: 1.54s\tremaining: 321ms\n",
      "414:\tlearn: 0.0302556\ttotal: 1.55s\tremaining: 317ms\n",
      "415:\tlearn: 0.0302396\ttotal: 1.55s\tremaining: 313ms\n",
      "416:\tlearn: 0.0302218\ttotal: 1.55s\tremaining: 310ms\n",
      "417:\tlearn: 0.0302135\ttotal: 1.56s\tremaining: 306ms\n",
      "418:\tlearn: 0.0302045\ttotal: 1.56s\tremaining: 302ms\n",
      "419:\tlearn: 0.0301953\ttotal: 1.56s\tremaining: 298ms\n",
      "420:\tlearn: 0.0301826\ttotal: 1.57s\tremaining: 294ms\n",
      "421:\tlearn: 0.0301690\ttotal: 1.57s\tremaining: 290ms\n",
      "422:\tlearn: 0.0301613\ttotal: 1.57s\tremaining: 286ms\n",
      "423:\tlearn: 0.0301558\ttotal: 1.58s\tremaining: 283ms\n",
      "424:\tlearn: 0.0301476\ttotal: 1.58s\tremaining: 279ms\n",
      "425:\tlearn: 0.0301414\ttotal: 1.58s\tremaining: 275ms\n",
      "426:\tlearn: 0.0301348\ttotal: 1.59s\tremaining: 271ms\n",
      "427:\tlearn: 0.0301230\ttotal: 1.59s\tremaining: 268ms\n",
      "428:\tlearn: 0.0301144\ttotal: 1.59s\tremaining: 264ms\n",
      "429:\tlearn: 0.0301044\ttotal: 1.6s\tremaining: 260ms\n",
      "430:\tlearn: 0.0300973\ttotal: 1.6s\tremaining: 256ms\n",
      "431:\tlearn: 0.0300881\ttotal: 1.6s\tremaining: 252ms\n",
      "432:\tlearn: 0.0300757\ttotal: 1.6s\tremaining: 248ms\n",
      "433:\tlearn: 0.0300701\ttotal: 1.61s\tremaining: 245ms\n",
      "434:\tlearn: 0.0300654\ttotal: 1.61s\tremaining: 241ms\n",
      "435:\tlearn: 0.0300520\ttotal: 1.62s\tremaining: 237ms\n",
      "436:\tlearn: 0.0300435\ttotal: 1.62s\tremaining: 234ms\n",
      "437:\tlearn: 0.0300414\ttotal: 1.62s\tremaining: 230ms\n",
      "438:\tlearn: 0.0300327\ttotal: 1.63s\tremaining: 226ms\n",
      "439:\tlearn: 0.0300298\ttotal: 1.63s\tremaining: 222ms\n",
      "440:\tlearn: 0.0300210\ttotal: 1.63s\tremaining: 218ms\n",
      "441:\tlearn: 0.0300131\ttotal: 1.64s\tremaining: 215ms\n",
      "442:\tlearn: 0.0300078\ttotal: 1.64s\tremaining: 211ms\n",
      "443:\tlearn: 0.0300005\ttotal: 1.64s\tremaining: 207ms\n",
      "444:\tlearn: 0.0299886\ttotal: 1.65s\tremaining: 204ms\n",
      "445:\tlearn: 0.0299818\ttotal: 1.65s\tremaining: 200ms\n",
      "446:\tlearn: 0.0299690\ttotal: 1.66s\tremaining: 196ms\n",
      "447:\tlearn: 0.0299648\ttotal: 1.66s\tremaining: 193ms\n",
      "448:\tlearn: 0.0299553\ttotal: 1.66s\tremaining: 189ms\n",
      "449:\tlearn: 0.0299482\ttotal: 1.67s\tremaining: 185ms\n",
      "450:\tlearn: 0.0299383\ttotal: 1.67s\tremaining: 181ms\n",
      "451:\tlearn: 0.0299278\ttotal: 1.67s\tremaining: 178ms\n",
      "452:\tlearn: 0.0299214\ttotal: 1.68s\tremaining: 174ms\n",
      "453:\tlearn: 0.0299129\ttotal: 1.68s\tremaining: 170ms\n",
      "454:\tlearn: 0.0298992\ttotal: 1.68s\tremaining: 167ms\n",
      "455:\tlearn: 0.0298935\ttotal: 1.69s\tremaining: 163ms\n",
      "456:\tlearn: 0.0298847\ttotal: 1.69s\tremaining: 159ms\n",
      "457:\tlearn: 0.0298744\ttotal: 1.69s\tremaining: 155ms\n",
      "458:\tlearn: 0.0298665\ttotal: 1.7s\tremaining: 152ms\n",
      "459:\tlearn: 0.0298622\ttotal: 1.7s\tremaining: 148ms\n",
      "460:\tlearn: 0.0298592\ttotal: 1.71s\tremaining: 144ms\n",
      "461:\tlearn: 0.0298549\ttotal: 1.71s\tremaining: 141ms\n",
      "462:\tlearn: 0.0298445\ttotal: 1.71s\tremaining: 137ms\n",
      "463:\tlearn: 0.0298402\ttotal: 1.72s\tremaining: 133ms\n",
      "464:\tlearn: 0.0298304\ttotal: 1.72s\tremaining: 129ms\n",
      "465:\tlearn: 0.0298253\ttotal: 1.72s\tremaining: 126ms\n",
      "466:\tlearn: 0.0298201\ttotal: 1.73s\tremaining: 122ms\n",
      "467:\tlearn: 0.0298098\ttotal: 1.73s\tremaining: 118ms\n",
      "468:\tlearn: 0.0298057\ttotal: 1.73s\tremaining: 114ms\n",
      "469:\tlearn: 0.0298034\ttotal: 1.74s\tremaining: 111ms\n",
      "470:\tlearn: 0.0298020\ttotal: 1.74s\tremaining: 107ms\n",
      "471:\tlearn: 0.0297945\ttotal: 1.74s\tremaining: 103ms\n",
      "472:\tlearn: 0.0297888\ttotal: 1.75s\tremaining: 99.6ms\n",
      "473:\tlearn: 0.0297758\ttotal: 1.75s\tremaining: 95.9ms\n",
      "474:\tlearn: 0.0297713\ttotal: 1.75s\tremaining: 92.2ms\n",
      "475:\tlearn: 0.0297609\ttotal: 1.75s\tremaining: 88.5ms\n",
      "476:\tlearn: 0.0297567\ttotal: 1.76s\tremaining: 84.8ms\n",
      "477:\tlearn: 0.0297512\ttotal: 1.76s\tremaining: 81.1ms\n",
      "478:\tlearn: 0.0297416\ttotal: 1.76s\tremaining: 77.4ms\n",
      "479:\tlearn: 0.0297359\ttotal: 1.77s\tremaining: 73.7ms\n",
      "480:\tlearn: 0.0297300\ttotal: 1.77s\tremaining: 70ms\n",
      "481:\tlearn: 0.0297254\ttotal: 1.77s\tremaining: 66.3ms\n",
      "482:\tlearn: 0.0297207\ttotal: 1.78s\tremaining: 62.6ms\n",
      "483:\tlearn: 0.0297097\ttotal: 1.78s\tremaining: 58.9ms\n",
      "484:\tlearn: 0.0296965\ttotal: 1.79s\tremaining: 55.2ms\n",
      "485:\tlearn: 0.0296920\ttotal: 1.79s\tremaining: 51.6ms\n",
      "486:\tlearn: 0.0296795\ttotal: 1.79s\tremaining: 47.9ms\n",
      "487:\tlearn: 0.0296688\ttotal: 1.8s\tremaining: 44.2ms\n",
      "488:\tlearn: 0.0296610\ttotal: 1.8s\tremaining: 40.5ms\n",
      "489:\tlearn: 0.0296521\ttotal: 1.8s\tremaining: 36.8ms\n",
      "490:\tlearn: 0.0296454\ttotal: 1.81s\tremaining: 33.1ms\n",
      "491:\tlearn: 0.0296341\ttotal: 1.81s\tremaining: 29.5ms\n",
      "492:\tlearn: 0.0296309\ttotal: 1.81s\tremaining: 25.8ms\n",
      "493:\tlearn: 0.0296164\ttotal: 1.82s\tremaining: 22.1ms\n",
      "494:\tlearn: 0.0296099\ttotal: 1.82s\tremaining: 18.4ms\n",
      "495:\tlearn: 0.0296037\ttotal: 1.82s\tremaining: 14.7ms\n",
      "496:\tlearn: 0.0295920\ttotal: 1.83s\tremaining: 11ms\n",
      "497:\tlearn: 0.0295858\ttotal: 1.83s\tremaining: 7.35ms\n",
      "498:\tlearn: 0.0295766\ttotal: 1.83s\tremaining: 3.67ms\n",
      "499:\tlearn: 0.0295682\ttotal: 1.84s\tremaining: 0us\n"
     ]
    },
    {
     "data": {
      "text/plain": [
       "{'depth': 3, 'iterations': 500, 'learning_rate': 0.01}"
      ]
     },
     "execution_count": 207,
     "metadata": {},
     "output_type": "execute_result"
    }
   ],
   "source": [
    "catb = CatBoostClassifier()\n",
    "catb_cv_model = GridSearchCV(catb, catb_params, cv=5, n_jobs = -1, verbose = 2)\n",
    "catb_cv_model.fit(X_train, y_train)\n",
    "catb_cv_model.best_params_"
   ]
  },
  {
   "cell_type": "code",
   "execution_count": 208,
   "id": "b6f183f5-1437-416c-9cc4-ed76f0f83a71",
   "metadata": {},
   "outputs": [
    {
     "data": {
      "text/plain": [
       "{'depth': 3, 'iterations': 500, 'learning_rate': 0.01}"
      ]
     },
     "execution_count": 208,
     "metadata": {},
     "output_type": "execute_result"
    }
   ],
   "source": [
    "catb_cv_model.best_params_"
   ]
  },
  {
   "cell_type": "code",
   "execution_count": 209,
   "id": "16840191-d3c2-4d7a-9a3b-dfd72a4adca0",
   "metadata": {
    "jupyter": {
     "outputs_hidden": true
    },
    "tags": []
   },
   "outputs": [
    {
     "name": "stdout",
     "output_type": "stream",
     "text": [
      "0:\tlearn: 0.6694637\ttotal: 4.5ms\tremaining: 2.25s\n",
      "1:\tlearn: 0.6478247\ttotal: 7.82ms\tremaining: 1.95s\n",
      "2:\tlearn: 0.6221526\ttotal: 10.9ms\tremaining: 1.81s\n",
      "3:\tlearn: 0.6029675\ttotal: 14.4ms\tremaining: 1.78s\n",
      "4:\tlearn: 0.5803911\ttotal: 17.5ms\tremaining: 1.73s\n",
      "5:\tlearn: 0.5628655\ttotal: 21ms\tremaining: 1.73s\n",
      "6:\tlearn: 0.5430967\ttotal: 24.2ms\tremaining: 1.71s\n",
      "7:\tlearn: 0.5209485\ttotal: 27.3ms\tremaining: 1.68s\n",
      "8:\tlearn: 0.5033058\ttotal: 30.9ms\tremaining: 1.69s\n",
      "9:\tlearn: 0.4876261\ttotal: 34.3ms\tremaining: 1.68s\n",
      "10:\tlearn: 0.4713866\ttotal: 38ms\tremaining: 1.69s\n",
      "11:\tlearn: 0.4538367\ttotal: 41.4ms\tremaining: 1.68s\n",
      "12:\tlearn: 0.4371347\ttotal: 44.5ms\tremaining: 1.67s\n",
      "13:\tlearn: 0.4195672\ttotal: 47.6ms\tremaining: 1.65s\n",
      "14:\tlearn: 0.4048544\ttotal: 51ms\tremaining: 1.65s\n",
      "15:\tlearn: 0.3908895\ttotal: 54.4ms\tremaining: 1.65s\n",
      "16:\tlearn: 0.3767766\ttotal: 57.4ms\tremaining: 1.63s\n",
      "17:\tlearn: 0.3629605\ttotal: 60.8ms\tremaining: 1.63s\n",
      "18:\tlearn: 0.3515232\ttotal: 64.4ms\tremaining: 1.63s\n",
      "19:\tlearn: 0.3415467\ttotal: 68.8ms\tremaining: 1.65s\n",
      "20:\tlearn: 0.3294256\ttotal: 72.1ms\tremaining: 1.64s\n",
      "21:\tlearn: 0.3163719\ttotal: 75.4ms\tremaining: 1.64s\n",
      "22:\tlearn: 0.3073563\ttotal: 79.1ms\tremaining: 1.64s\n",
      "23:\tlearn: 0.2991914\ttotal: 82.4ms\tremaining: 1.63s\n",
      "24:\tlearn: 0.2891882\ttotal: 85.6ms\tremaining: 1.63s\n",
      "25:\tlearn: 0.2789443\ttotal: 88.9ms\tremaining: 1.62s\n",
      "26:\tlearn: 0.2711843\ttotal: 92ms\tremaining: 1.61s\n",
      "27:\tlearn: 0.2629212\ttotal: 95.2ms\tremaining: 1.6s\n",
      "28:\tlearn: 0.2548270\ttotal: 99.2ms\tremaining: 1.61s\n",
      "29:\tlearn: 0.2471194\ttotal: 102ms\tremaining: 1.6s\n",
      "30:\tlearn: 0.2382830\ttotal: 105ms\tremaining: 1.6s\n",
      "31:\tlearn: 0.2312728\ttotal: 108ms\tremaining: 1.58s\n",
      "32:\tlearn: 0.2240985\ttotal: 111ms\tremaining: 1.57s\n",
      "33:\tlearn: 0.2188039\ttotal: 115ms\tremaining: 1.57s\n",
      "34:\tlearn: 0.2110001\ttotal: 118ms\tremaining: 1.56s\n",
      "35:\tlearn: 0.2048760\ttotal: 121ms\tremaining: 1.56s\n",
      "36:\tlearn: 0.1992020\ttotal: 124ms\tremaining: 1.55s\n",
      "37:\tlearn: 0.1936766\ttotal: 127ms\tremaining: 1.54s\n",
      "38:\tlearn: 0.1890154\ttotal: 130ms\tremaining: 1.54s\n",
      "39:\tlearn: 0.1845769\ttotal: 134ms\tremaining: 1.53s\n",
      "40:\tlearn: 0.1784553\ttotal: 137ms\tremaining: 1.53s\n",
      "41:\tlearn: 0.1733701\ttotal: 140ms\tremaining: 1.52s\n",
      "42:\tlearn: 0.1695809\ttotal: 142ms\tremaining: 1.51s\n",
      "43:\tlearn: 0.1642448\ttotal: 146ms\tremaining: 1.51s\n",
      "44:\tlearn: 0.1597621\ttotal: 149ms\tremaining: 1.5s\n",
      "45:\tlearn: 0.1557643\ttotal: 152ms\tremaining: 1.5s\n",
      "46:\tlearn: 0.1509565\ttotal: 155ms\tremaining: 1.49s\n",
      "47:\tlearn: 0.1475289\ttotal: 157ms\tremaining: 1.48s\n",
      "48:\tlearn: 0.1441992\ttotal: 161ms\tremaining: 1.48s\n",
      "49:\tlearn: 0.1406800\ttotal: 165ms\tremaining: 1.48s\n",
      "50:\tlearn: 0.1379691\ttotal: 168ms\tremaining: 1.48s\n",
      "51:\tlearn: 0.1350248\ttotal: 171ms\tremaining: 1.48s\n",
      "52:\tlearn: 0.1313773\ttotal: 175ms\tremaining: 1.48s\n",
      "53:\tlearn: 0.1274486\ttotal: 179ms\tremaining: 1.47s\n",
      "54:\tlearn: 0.1246973\ttotal: 182ms\tremaining: 1.47s\n",
      "55:\tlearn: 0.1215706\ttotal: 185ms\tremaining: 1.47s\n",
      "56:\tlearn: 0.1183862\ttotal: 189ms\tremaining: 1.47s\n",
      "57:\tlearn: 0.1153211\ttotal: 194ms\tremaining: 1.48s\n",
      "58:\tlearn: 0.1127128\ttotal: 199ms\tremaining: 1.49s\n",
      "59:\tlearn: 0.1107129\ttotal: 202ms\tremaining: 1.48s\n",
      "60:\tlearn: 0.1082214\ttotal: 206ms\tremaining: 1.48s\n",
      "61:\tlearn: 0.1057831\ttotal: 210ms\tremaining: 1.48s\n",
      "62:\tlearn: 0.1032888\ttotal: 215ms\tremaining: 1.49s\n",
      "63:\tlearn: 0.1012057\ttotal: 218ms\tremaining: 1.49s\n",
      "64:\tlearn: 0.0990435\ttotal: 222ms\tremaining: 1.49s\n",
      "65:\tlearn: 0.0969810\ttotal: 227ms\tremaining: 1.49s\n",
      "66:\tlearn: 0.0949657\ttotal: 231ms\tremaining: 1.49s\n",
      "67:\tlearn: 0.0931083\ttotal: 234ms\tremaining: 1.49s\n",
      "68:\tlearn: 0.0915104\ttotal: 238ms\tremaining: 1.48s\n",
      "69:\tlearn: 0.0899295\ttotal: 240ms\tremaining: 1.48s\n",
      "70:\tlearn: 0.0879990\ttotal: 244ms\tremaining: 1.47s\n",
      "71:\tlearn: 0.0864928\ttotal: 247ms\tremaining: 1.47s\n",
      "72:\tlearn: 0.0853416\ttotal: 250ms\tremaining: 1.46s\n",
      "73:\tlearn: 0.0835868\ttotal: 254ms\tremaining: 1.46s\n",
      "74:\tlearn: 0.0821565\ttotal: 258ms\tremaining: 1.46s\n",
      "75:\tlearn: 0.0809149\ttotal: 262ms\tremaining: 1.46s\n",
      "76:\tlearn: 0.0794677\ttotal: 265ms\tremaining: 1.46s\n",
      "77:\tlearn: 0.0781356\ttotal: 269ms\tremaining: 1.45s\n",
      "78:\tlearn: 0.0768246\ttotal: 272ms\tremaining: 1.45s\n",
      "79:\tlearn: 0.0755583\ttotal: 276ms\tremaining: 1.45s\n",
      "80:\tlearn: 0.0742068\ttotal: 279ms\tremaining: 1.44s\n",
      "81:\tlearn: 0.0732410\ttotal: 283ms\tremaining: 1.44s\n",
      "82:\tlearn: 0.0719668\ttotal: 286ms\tremaining: 1.44s\n",
      "83:\tlearn: 0.0708621\ttotal: 291ms\tremaining: 1.44s\n",
      "84:\tlearn: 0.0698325\ttotal: 294ms\tremaining: 1.44s\n",
      "85:\tlearn: 0.0691103\ttotal: 298ms\tremaining: 1.43s\n",
      "86:\tlearn: 0.0682681\ttotal: 301ms\tremaining: 1.43s\n",
      "87:\tlearn: 0.0672269\ttotal: 305ms\tremaining: 1.43s\n",
      "88:\tlearn: 0.0663172\ttotal: 308ms\tremaining: 1.42s\n",
      "89:\tlearn: 0.0654158\ttotal: 311ms\tremaining: 1.42s\n",
      "90:\tlearn: 0.0645029\ttotal: 315ms\tremaining: 1.42s\n",
      "91:\tlearn: 0.0637027\ttotal: 318ms\tremaining: 1.41s\n",
      "92:\tlearn: 0.0629320\ttotal: 323ms\tremaining: 1.41s\n",
      "93:\tlearn: 0.0621732\ttotal: 327ms\tremaining: 1.41s\n",
      "94:\tlearn: 0.0614644\ttotal: 331ms\tremaining: 1.41s\n",
      "95:\tlearn: 0.0606979\ttotal: 335ms\tremaining: 1.41s\n",
      "96:\tlearn: 0.0599307\ttotal: 339ms\tremaining: 1.41s\n",
      "97:\tlearn: 0.0590584\ttotal: 342ms\tremaining: 1.4s\n",
      "98:\tlearn: 0.0584285\ttotal: 345ms\tremaining: 1.4s\n",
      "99:\tlearn: 0.0578325\ttotal: 348ms\tremaining: 1.39s\n",
      "100:\tlearn: 0.0571811\ttotal: 352ms\tremaining: 1.39s\n",
      "101:\tlearn: 0.0566949\ttotal: 357ms\tremaining: 1.39s\n",
      "102:\tlearn: 0.0559765\ttotal: 361ms\tremaining: 1.39s\n",
      "103:\tlearn: 0.0555104\ttotal: 365ms\tremaining: 1.39s\n",
      "104:\tlearn: 0.0549636\ttotal: 368ms\tremaining: 1.38s\n",
      "105:\tlearn: 0.0543418\ttotal: 372ms\tremaining: 1.38s\n",
      "106:\tlearn: 0.0537476\ttotal: 375ms\tremaining: 1.38s\n",
      "107:\tlearn: 0.0532736\ttotal: 379ms\tremaining: 1.38s\n",
      "108:\tlearn: 0.0528519\ttotal: 383ms\tremaining: 1.37s\n",
      "109:\tlearn: 0.0523183\ttotal: 388ms\tremaining: 1.38s\n",
      "110:\tlearn: 0.0518465\ttotal: 392ms\tremaining: 1.37s\n",
      "111:\tlearn: 0.0514206\ttotal: 396ms\tremaining: 1.37s\n",
      "112:\tlearn: 0.0509939\ttotal: 399ms\tremaining: 1.37s\n",
      "113:\tlearn: 0.0505146\ttotal: 403ms\tremaining: 1.36s\n",
      "114:\tlearn: 0.0500922\ttotal: 407ms\tremaining: 1.36s\n",
      "115:\tlearn: 0.0497864\ttotal: 410ms\tremaining: 1.36s\n",
      "116:\tlearn: 0.0494060\ttotal: 413ms\tremaining: 1.35s\n",
      "117:\tlearn: 0.0490755\ttotal: 417ms\tremaining: 1.35s\n",
      "118:\tlearn: 0.0487714\ttotal: 420ms\tremaining: 1.34s\n",
      "119:\tlearn: 0.0484389\ttotal: 423ms\tremaining: 1.34s\n",
      "120:\tlearn: 0.0481149\ttotal: 426ms\tremaining: 1.33s\n",
      "121:\tlearn: 0.0477880\ttotal: 429ms\tremaining: 1.33s\n",
      "122:\tlearn: 0.0474504\ttotal: 432ms\tremaining: 1.32s\n",
      "123:\tlearn: 0.0471008\ttotal: 436ms\tremaining: 1.32s\n",
      "124:\tlearn: 0.0466717\ttotal: 438ms\tremaining: 1.31s\n",
      "125:\tlearn: 0.0463489\ttotal: 442ms\tremaining: 1.31s\n",
      "126:\tlearn: 0.0460862\ttotal: 444ms\tremaining: 1.3s\n",
      "127:\tlearn: 0.0458207\ttotal: 448ms\tremaining: 1.3s\n",
      "128:\tlearn: 0.0455273\ttotal: 451ms\tremaining: 1.3s\n",
      "129:\tlearn: 0.0452469\ttotal: 454ms\tremaining: 1.29s\n",
      "130:\tlearn: 0.0449144\ttotal: 457ms\tremaining: 1.29s\n",
      "131:\tlearn: 0.0446387\ttotal: 460ms\tremaining: 1.28s\n",
      "132:\tlearn: 0.0442970\ttotal: 463ms\tremaining: 1.28s\n",
      "133:\tlearn: 0.0440075\ttotal: 466ms\tremaining: 1.27s\n",
      "134:\tlearn: 0.0437950\ttotal: 469ms\tremaining: 1.27s\n",
      "135:\tlearn: 0.0435610\ttotal: 472ms\tremaining: 1.26s\n",
      "136:\tlearn: 0.0433509\ttotal: 475ms\tremaining: 1.26s\n",
      "137:\tlearn: 0.0431600\ttotal: 478ms\tremaining: 1.25s\n",
      "138:\tlearn: 0.0429355\ttotal: 482ms\tremaining: 1.25s\n",
      "139:\tlearn: 0.0427211\ttotal: 485ms\tremaining: 1.25s\n",
      "140:\tlearn: 0.0425175\ttotal: 489ms\tremaining: 1.24s\n",
      "141:\tlearn: 0.0422857\ttotal: 492ms\tremaining: 1.24s\n",
      "142:\tlearn: 0.0421638\ttotal: 495ms\tremaining: 1.24s\n",
      "143:\tlearn: 0.0420192\ttotal: 498ms\tremaining: 1.23s\n",
      "144:\tlearn: 0.0417709\ttotal: 502ms\tremaining: 1.23s\n",
      "145:\tlearn: 0.0416015\ttotal: 505ms\tremaining: 1.22s\n",
      "146:\tlearn: 0.0414134\ttotal: 508ms\tremaining: 1.22s\n",
      "147:\tlearn: 0.0412639\ttotal: 512ms\tremaining: 1.22s\n",
      "148:\tlearn: 0.0410335\ttotal: 515ms\tremaining: 1.21s\n",
      "149:\tlearn: 0.0408376\ttotal: 518ms\tremaining: 1.21s\n",
      "150:\tlearn: 0.0406731\ttotal: 521ms\tremaining: 1.2s\n",
      "151:\tlearn: 0.0405252\ttotal: 524ms\tremaining: 1.2s\n",
      "152:\tlearn: 0.0403884\ttotal: 527ms\tremaining: 1.2s\n",
      "153:\tlearn: 0.0402090\ttotal: 530ms\tremaining: 1.19s\n",
      "154:\tlearn: 0.0400490\ttotal: 534ms\tremaining: 1.19s\n",
      "155:\tlearn: 0.0399121\ttotal: 537ms\tremaining: 1.18s\n",
      "156:\tlearn: 0.0397457\ttotal: 540ms\tremaining: 1.18s\n",
      "157:\tlearn: 0.0396197\ttotal: 544ms\tremaining: 1.18s\n",
      "158:\tlearn: 0.0394870\ttotal: 548ms\tremaining: 1.18s\n",
      "159:\tlearn: 0.0393039\ttotal: 551ms\tremaining: 1.17s\n",
      "160:\tlearn: 0.0391803\ttotal: 555ms\tremaining: 1.17s\n",
      "161:\tlearn: 0.0390650\ttotal: 560ms\tremaining: 1.17s\n",
      "162:\tlearn: 0.0389684\ttotal: 564ms\tremaining: 1.17s\n",
      "163:\tlearn: 0.0388246\ttotal: 568ms\tremaining: 1.16s\n",
      "164:\tlearn: 0.0387187\ttotal: 572ms\tremaining: 1.16s\n",
      "165:\tlearn: 0.0386029\ttotal: 576ms\tremaining: 1.16s\n",
      "166:\tlearn: 0.0384729\ttotal: 579ms\tremaining: 1.16s\n",
      "167:\tlearn: 0.0383459\ttotal: 583ms\tremaining: 1.15s\n",
      "168:\tlearn: 0.0382248\ttotal: 587ms\tremaining: 1.15s\n",
      "169:\tlearn: 0.0380746\ttotal: 591ms\tremaining: 1.15s\n",
      "170:\tlearn: 0.0379517\ttotal: 595ms\tremaining: 1.14s\n",
      "171:\tlearn: 0.0378434\ttotal: 598ms\tremaining: 1.14s\n",
      "172:\tlearn: 0.0377525\ttotal: 601ms\tremaining: 1.14s\n",
      "173:\tlearn: 0.0376459\ttotal: 604ms\tremaining: 1.13s\n",
      "174:\tlearn: 0.0375623\ttotal: 608ms\tremaining: 1.13s\n",
      "175:\tlearn: 0.0374641\ttotal: 612ms\tremaining: 1.13s\n",
      "176:\tlearn: 0.0373593\ttotal: 615ms\tremaining: 1.12s\n",
      "177:\tlearn: 0.0372551\ttotal: 618ms\tremaining: 1.12s\n",
      "178:\tlearn: 0.0371581\ttotal: 621ms\tremaining: 1.11s\n",
      "179:\tlearn: 0.0370705\ttotal: 624ms\tremaining: 1.11s\n",
      "180:\tlearn: 0.0369625\ttotal: 627ms\tremaining: 1.1s\n",
      "181:\tlearn: 0.0368893\ttotal: 630ms\tremaining: 1.1s\n",
      "182:\tlearn: 0.0367863\ttotal: 633ms\tremaining: 1.1s\n",
      "183:\tlearn: 0.0366797\ttotal: 636ms\tremaining: 1.09s\n",
      "184:\tlearn: 0.0366148\ttotal: 639ms\tremaining: 1.09s\n",
      "185:\tlearn: 0.0365277\ttotal: 642ms\tremaining: 1.08s\n",
      "186:\tlearn: 0.0364553\ttotal: 645ms\tremaining: 1.08s\n",
      "187:\tlearn: 0.0363701\ttotal: 648ms\tremaining: 1.08s\n",
      "188:\tlearn: 0.0362884\ttotal: 652ms\tremaining: 1.07s\n",
      "189:\tlearn: 0.0362064\ttotal: 655ms\tremaining: 1.07s\n",
      "190:\tlearn: 0.0361515\ttotal: 658ms\tremaining: 1.06s\n",
      "191:\tlearn: 0.0361038\ttotal: 661ms\tremaining: 1.06s\n",
      "192:\tlearn: 0.0360263\ttotal: 664ms\tremaining: 1.05s\n",
      "193:\tlearn: 0.0359713\ttotal: 667ms\tremaining: 1.05s\n",
      "194:\tlearn: 0.0359239\ttotal: 671ms\tremaining: 1.05s\n",
      "195:\tlearn: 0.0358258\ttotal: 674ms\tremaining: 1.04s\n",
      "196:\tlearn: 0.0357525\ttotal: 677ms\tremaining: 1.04s\n",
      "197:\tlearn: 0.0356757\ttotal: 680ms\tremaining: 1.04s\n",
      "198:\tlearn: 0.0356212\ttotal: 684ms\tremaining: 1.03s\n",
      "199:\tlearn: 0.0355520\ttotal: 687ms\tremaining: 1.03s\n",
      "200:\tlearn: 0.0354733\ttotal: 690ms\tremaining: 1.02s\n",
      "201:\tlearn: 0.0354305\ttotal: 693ms\tremaining: 1.02s\n",
      "202:\tlearn: 0.0353762\ttotal: 696ms\tremaining: 1.02s\n",
      "203:\tlearn: 0.0353083\ttotal: 700ms\tremaining: 1.01s\n",
      "204:\tlearn: 0.0352395\ttotal: 704ms\tremaining: 1.01s\n",
      "205:\tlearn: 0.0351791\ttotal: 708ms\tremaining: 1.01s\n"
     ]
    },
    {
     "name": "stdout",
     "output_type": "stream",
     "text": [
      "206:\tlearn: 0.0351171\ttotal: 712ms\tremaining: 1.01s\n",
      "207:\tlearn: 0.0350483\ttotal: 715ms\tremaining: 1s\n",
      "208:\tlearn: 0.0349820\ttotal: 719ms\tremaining: 1s\n",
      "209:\tlearn: 0.0349215\ttotal: 722ms\tremaining: 998ms\n",
      "210:\tlearn: 0.0348711\ttotal: 726ms\tremaining: 994ms\n",
      "211:\tlearn: 0.0348051\ttotal: 729ms\tremaining: 991ms\n",
      "212:\tlearn: 0.0347469\ttotal: 734ms\tremaining: 989ms\n",
      "213:\tlearn: 0.0346897\ttotal: 738ms\tremaining: 986ms\n",
      "214:\tlearn: 0.0346445\ttotal: 741ms\tremaining: 983ms\n",
      "215:\tlearn: 0.0345789\ttotal: 745ms\tremaining: 979ms\n",
      "216:\tlearn: 0.0345264\ttotal: 748ms\tremaining: 976ms\n",
      "217:\tlearn: 0.0344741\ttotal: 752ms\tremaining: 973ms\n",
      "218:\tlearn: 0.0344142\ttotal: 756ms\tremaining: 970ms\n",
      "219:\tlearn: 0.0343666\ttotal: 759ms\tremaining: 966ms\n",
      "220:\tlearn: 0.0343127\ttotal: 763ms\tremaining: 963ms\n",
      "221:\tlearn: 0.0342688\ttotal: 767ms\tremaining: 961ms\n",
      "222:\tlearn: 0.0342287\ttotal: 771ms\tremaining: 957ms\n",
      "223:\tlearn: 0.0341916\ttotal: 774ms\tremaining: 953ms\n",
      "224:\tlearn: 0.0341504\ttotal: 777ms\tremaining: 949ms\n",
      "225:\tlearn: 0.0340971\ttotal: 780ms\tremaining: 945ms\n",
      "226:\tlearn: 0.0340606\ttotal: 782ms\tremaining: 941ms\n",
      "227:\tlearn: 0.0340071\ttotal: 786ms\tremaining: 938ms\n",
      "228:\tlearn: 0.0339791\ttotal: 789ms\tremaining: 934ms\n",
      "229:\tlearn: 0.0339375\ttotal: 793ms\tremaining: 931ms\n",
      "230:\tlearn: 0.0338876\ttotal: 797ms\tremaining: 928ms\n",
      "231:\tlearn: 0.0338371\ttotal: 801ms\tremaining: 925ms\n",
      "232:\tlearn: 0.0337913\ttotal: 804ms\tremaining: 922ms\n",
      "233:\tlearn: 0.0337476\ttotal: 807ms\tremaining: 918ms\n",
      "234:\tlearn: 0.0337287\ttotal: 811ms\tremaining: 914ms\n",
      "235:\tlearn: 0.0336893\ttotal: 814ms\tremaining: 911ms\n",
      "236:\tlearn: 0.0336510\ttotal: 818ms\tremaining: 908ms\n",
      "237:\tlearn: 0.0336146\ttotal: 821ms\tremaining: 904ms\n",
      "238:\tlearn: 0.0335822\ttotal: 825ms\tremaining: 900ms\n",
      "239:\tlearn: 0.0335498\ttotal: 828ms\tremaining: 897ms\n",
      "240:\tlearn: 0.0335085\ttotal: 832ms\tremaining: 894ms\n",
      "241:\tlearn: 0.0334691\ttotal: 835ms\tremaining: 890ms\n",
      "242:\tlearn: 0.0334436\ttotal: 837ms\tremaining: 886ms\n",
      "243:\tlearn: 0.0333955\ttotal: 841ms\tremaining: 882ms\n",
      "244:\tlearn: 0.0333639\ttotal: 844ms\tremaining: 878ms\n",
      "245:\tlearn: 0.0333260\ttotal: 847ms\tremaining: 874ms\n",
      "246:\tlearn: 0.0332958\ttotal: 850ms\tremaining: 871ms\n",
      "247:\tlearn: 0.0332581\ttotal: 853ms\tremaining: 867ms\n",
      "248:\tlearn: 0.0332147\ttotal: 856ms\tremaining: 863ms\n",
      "249:\tlearn: 0.0331826\ttotal: 860ms\tremaining: 860ms\n",
      "250:\tlearn: 0.0331642\ttotal: 864ms\tremaining: 857ms\n",
      "251:\tlearn: 0.0331265\ttotal: 867ms\tremaining: 853ms\n",
      "252:\tlearn: 0.0331001\ttotal: 870ms\tremaining: 849ms\n",
      "253:\tlearn: 0.0330692\ttotal: 873ms\tremaining: 846ms\n",
      "254:\tlearn: 0.0330508\ttotal: 876ms\tremaining: 842ms\n",
      "255:\tlearn: 0.0330204\ttotal: 879ms\tremaining: 838ms\n",
      "256:\tlearn: 0.0329878\ttotal: 883ms\tremaining: 835ms\n",
      "257:\tlearn: 0.0329676\ttotal: 886ms\tremaining: 831ms\n",
      "258:\tlearn: 0.0329439\ttotal: 889ms\tremaining: 828ms\n",
      "259:\tlearn: 0.0329095\ttotal: 894ms\tremaining: 825ms\n",
      "260:\tlearn: 0.0328963\ttotal: 898ms\tremaining: 822ms\n",
      "261:\tlearn: 0.0328656\ttotal: 901ms\tremaining: 818ms\n",
      "262:\tlearn: 0.0328277\ttotal: 905ms\tremaining: 815ms\n",
      "263:\tlearn: 0.0328060\ttotal: 908ms\tremaining: 812ms\n",
      "264:\tlearn: 0.0327766\ttotal: 911ms\tremaining: 808ms\n",
      "265:\tlearn: 0.0327507\ttotal: 914ms\tremaining: 804ms\n",
      "266:\tlearn: 0.0327133\ttotal: 917ms\tremaining: 800ms\n",
      "267:\tlearn: 0.0326821\ttotal: 920ms\tremaining: 796ms\n",
      "268:\tlearn: 0.0326582\ttotal: 923ms\tremaining: 793ms\n",
      "269:\tlearn: 0.0326274\ttotal: 927ms\tremaining: 790ms\n",
      "270:\tlearn: 0.0325950\ttotal: 930ms\tremaining: 786ms\n",
      "271:\tlearn: 0.0325667\ttotal: 934ms\tremaining: 783ms\n",
      "272:\tlearn: 0.0325455\ttotal: 937ms\tremaining: 779ms\n",
      "273:\tlearn: 0.0325273\ttotal: 940ms\tremaining: 775ms\n",
      "274:\tlearn: 0.0325047\ttotal: 943ms\tremaining: 772ms\n",
      "275:\tlearn: 0.0324791\ttotal: 947ms\tremaining: 768ms\n",
      "276:\tlearn: 0.0324465\ttotal: 950ms\tremaining: 765ms\n",
      "277:\tlearn: 0.0324217\ttotal: 953ms\tremaining: 761ms\n",
      "278:\tlearn: 0.0324040\ttotal: 958ms\tremaining: 759ms\n",
      "279:\tlearn: 0.0323676\ttotal: 961ms\tremaining: 755ms\n",
      "280:\tlearn: 0.0323419\ttotal: 964ms\tremaining: 752ms\n",
      "281:\tlearn: 0.0323261\ttotal: 968ms\tremaining: 748ms\n",
      "282:\tlearn: 0.0323027\ttotal: 971ms\tremaining: 745ms\n",
      "283:\tlearn: 0.0322775\ttotal: 975ms\tremaining: 741ms\n",
      "284:\tlearn: 0.0322485\ttotal: 978ms\tremaining: 738ms\n",
      "285:\tlearn: 0.0322241\ttotal: 981ms\tremaining: 734ms\n",
      "286:\tlearn: 0.0321997\ttotal: 984ms\tremaining: 730ms\n",
      "287:\tlearn: 0.0321729\ttotal: 987ms\tremaining: 727ms\n",
      "288:\tlearn: 0.0321424\ttotal: 991ms\tremaining: 724ms\n",
      "289:\tlearn: 0.0321132\ttotal: 994ms\tremaining: 720ms\n",
      "290:\tlearn: 0.0320885\ttotal: 998ms\tremaining: 716ms\n",
      "291:\tlearn: 0.0320659\ttotal: 1s\tremaining: 712ms\n",
      "292:\tlearn: 0.0320405\ttotal: 1s\tremaining: 709ms\n",
      "293:\tlearn: 0.0320213\ttotal: 1.01s\tremaining: 705ms\n",
      "294:\tlearn: 0.0319928\ttotal: 1.01s\tremaining: 702ms\n",
      "295:\tlearn: 0.0319723\ttotal: 1.01s\tremaining: 698ms\n",
      "296:\tlearn: 0.0319425\ttotal: 1.01s\tremaining: 694ms\n",
      "297:\tlearn: 0.0319209\ttotal: 1.02s\tremaining: 690ms\n",
      "298:\tlearn: 0.0318978\ttotal: 1.02s\tremaining: 687ms\n",
      "299:\tlearn: 0.0318625\ttotal: 1.02s\tremaining: 684ms\n",
      "300:\tlearn: 0.0318397\ttotal: 1.03s\tremaining: 680ms\n",
      "301:\tlearn: 0.0318290\ttotal: 1.03s\tremaining: 677ms\n",
      "302:\tlearn: 0.0318119\ttotal: 1.03s\tremaining: 674ms\n",
      "303:\tlearn: 0.0317986\ttotal: 1.04s\tremaining: 670ms\n",
      "304:\tlearn: 0.0317778\ttotal: 1.04s\tremaining: 666ms\n",
      "305:\tlearn: 0.0317619\ttotal: 1.04s\tremaining: 663ms\n",
      "306:\tlearn: 0.0317351\ttotal: 1.05s\tremaining: 659ms\n",
      "307:\tlearn: 0.0317221\ttotal: 1.05s\tremaining: 656ms\n",
      "308:\tlearn: 0.0317093\ttotal: 1.06s\tremaining: 653ms\n",
      "309:\tlearn: 0.0316961\ttotal: 1.06s\tremaining: 650ms\n",
      "310:\tlearn: 0.0316759\ttotal: 1.06s\tremaining: 646ms\n",
      "311:\tlearn: 0.0316576\ttotal: 1.07s\tremaining: 643ms\n",
      "312:\tlearn: 0.0316489\ttotal: 1.07s\tremaining: 640ms\n",
      "313:\tlearn: 0.0316401\ttotal: 1.07s\tremaining: 637ms\n",
      "314:\tlearn: 0.0316243\ttotal: 1.08s\tremaining: 633ms\n",
      "315:\tlearn: 0.0316068\ttotal: 1.08s\tremaining: 630ms\n",
      "316:\tlearn: 0.0315898\ttotal: 1.09s\tremaining: 627ms\n",
      "317:\tlearn: 0.0315756\ttotal: 1.09s\tremaining: 624ms\n",
      "318:\tlearn: 0.0315595\ttotal: 1.09s\tremaining: 620ms\n",
      "319:\tlearn: 0.0315472\ttotal: 1.1s\tremaining: 617ms\n",
      "320:\tlearn: 0.0315168\ttotal: 1.1s\tremaining: 614ms\n",
      "321:\tlearn: 0.0315069\ttotal: 1.1s\tremaining: 610ms\n",
      "322:\tlearn: 0.0314962\ttotal: 1.11s\tremaining: 607ms\n",
      "323:\tlearn: 0.0314804\ttotal: 1.11s\tremaining: 603ms\n",
      "324:\tlearn: 0.0314668\ttotal: 1.11s\tremaining: 599ms\n",
      "325:\tlearn: 0.0314477\ttotal: 1.12s\tremaining: 596ms\n",
      "326:\tlearn: 0.0314388\ttotal: 1.12s\tremaining: 593ms\n",
      "327:\tlearn: 0.0314231\ttotal: 1.12s\tremaining: 589ms\n",
      "328:\tlearn: 0.0314050\ttotal: 1.13s\tremaining: 586ms\n",
      "329:\tlearn: 0.0313877\ttotal: 1.13s\tremaining: 582ms\n",
      "330:\tlearn: 0.0313605\ttotal: 1.13s\tremaining: 578ms\n",
      "331:\tlearn: 0.0313476\ttotal: 1.14s\tremaining: 575ms\n",
      "332:\tlearn: 0.0313326\ttotal: 1.14s\tremaining: 571ms\n",
      "333:\tlearn: 0.0313266\ttotal: 1.14s\tremaining: 568ms\n",
      "334:\tlearn: 0.0312962\ttotal: 1.15s\tremaining: 566ms\n",
      "335:\tlearn: 0.0312758\ttotal: 1.15s\tremaining: 563ms\n",
      "336:\tlearn: 0.0312530\ttotal: 1.16s\tremaining: 560ms\n",
      "337:\tlearn: 0.0312428\ttotal: 1.16s\tremaining: 557ms\n",
      "338:\tlearn: 0.0312277\ttotal: 1.17s\tremaining: 554ms\n",
      "339:\tlearn: 0.0312125\ttotal: 1.17s\tremaining: 550ms\n",
      "340:\tlearn: 0.0312008\ttotal: 1.17s\tremaining: 547ms\n",
      "341:\tlearn: 0.0311880\ttotal: 1.18s\tremaining: 543ms\n",
      "342:\tlearn: 0.0311811\ttotal: 1.18s\tremaining: 540ms\n",
      "343:\tlearn: 0.0311726\ttotal: 1.18s\tremaining: 536ms\n",
      "344:\tlearn: 0.0311621\ttotal: 1.19s\tremaining: 533ms\n",
      "345:\tlearn: 0.0311441\ttotal: 1.19s\tremaining: 529ms\n",
      "346:\tlearn: 0.0311223\ttotal: 1.19s\tremaining: 525ms\n",
      "347:\tlearn: 0.0311100\ttotal: 1.19s\tremaining: 522ms\n",
      "348:\tlearn: 0.0310923\ttotal: 1.2s\tremaining: 518ms\n",
      "349:\tlearn: 0.0310713\ttotal: 1.2s\tremaining: 515ms\n",
      "350:\tlearn: 0.0310493\ttotal: 1.2s\tremaining: 511ms\n",
      "351:\tlearn: 0.0310274\ttotal: 1.21s\tremaining: 508ms\n",
      "352:\tlearn: 0.0310148\ttotal: 1.21s\tremaining: 504ms\n",
      "353:\tlearn: 0.0309989\ttotal: 1.21s\tremaining: 501ms\n",
      "354:\tlearn: 0.0309841\ttotal: 1.22s\tremaining: 497ms\n",
      "355:\tlearn: 0.0309761\ttotal: 1.22s\tremaining: 493ms\n",
      "356:\tlearn: 0.0309643\ttotal: 1.22s\tremaining: 490ms\n",
      "357:\tlearn: 0.0309390\ttotal: 1.23s\tremaining: 486ms\n",
      "358:\tlearn: 0.0309223\ttotal: 1.23s\tremaining: 483ms\n",
      "359:\tlearn: 0.0309049\ttotal: 1.23s\tremaining: 479ms\n",
      "360:\tlearn: 0.0308884\ttotal: 1.24s\tremaining: 476ms\n",
      "361:\tlearn: 0.0308838\ttotal: 1.24s\tremaining: 472ms\n",
      "362:\tlearn: 0.0308739\ttotal: 1.24s\tremaining: 469ms\n",
      "363:\tlearn: 0.0308598\ttotal: 1.25s\tremaining: 466ms\n",
      "364:\tlearn: 0.0308519\ttotal: 1.25s\tremaining: 462ms\n",
      "365:\tlearn: 0.0308346\ttotal: 1.25s\tremaining: 459ms\n",
      "366:\tlearn: 0.0308186\ttotal: 1.26s\tremaining: 456ms\n",
      "367:\tlearn: 0.0308109\ttotal: 1.26s\tremaining: 452ms\n",
      "368:\tlearn: 0.0307991\ttotal: 1.26s\tremaining: 449ms\n",
      "369:\tlearn: 0.0307883\ttotal: 1.27s\tremaining: 446ms\n",
      "370:\tlearn: 0.0307737\ttotal: 1.27s\tremaining: 443ms\n",
      "371:\tlearn: 0.0307677\ttotal: 1.28s\tremaining: 440ms\n",
      "372:\tlearn: 0.0307473\ttotal: 1.28s\tremaining: 436ms\n",
      "373:\tlearn: 0.0307360\ttotal: 1.28s\tremaining: 433ms\n",
      "374:\tlearn: 0.0307250\ttotal: 1.29s\tremaining: 429ms\n",
      "375:\tlearn: 0.0307134\ttotal: 1.29s\tremaining: 426ms\n",
      "376:\tlearn: 0.0307077\ttotal: 1.29s\tremaining: 422ms\n",
      "377:\tlearn: 0.0306906\ttotal: 1.3s\tremaining: 419ms\n",
      "378:\tlearn: 0.0306793\ttotal: 1.3s\tremaining: 416ms\n",
      "379:\tlearn: 0.0306624\ttotal: 1.3s\tremaining: 412ms\n",
      "380:\tlearn: 0.0306474\ttotal: 1.31s\tremaining: 409ms\n",
      "381:\tlearn: 0.0306362\ttotal: 1.31s\tremaining: 406ms\n",
      "382:\tlearn: 0.0306299\ttotal: 1.32s\tremaining: 402ms\n",
      "383:\tlearn: 0.0306178\ttotal: 1.32s\tremaining: 399ms\n",
      "384:\tlearn: 0.0306041\ttotal: 1.32s\tremaining: 395ms\n",
      "385:\tlearn: 0.0305962\ttotal: 1.32s\tremaining: 391ms\n",
      "386:\tlearn: 0.0305871\ttotal: 1.33s\tremaining: 388ms\n",
      "387:\tlearn: 0.0305794\ttotal: 1.33s\tremaining: 385ms\n",
      "388:\tlearn: 0.0305687\ttotal: 1.33s\tremaining: 381ms\n",
      "389:\tlearn: 0.0305628\ttotal: 1.34s\tremaining: 378ms\n",
      "390:\tlearn: 0.0305510\ttotal: 1.34s\tremaining: 375ms\n",
      "391:\tlearn: 0.0305391\ttotal: 1.35s\tremaining: 371ms\n",
      "392:\tlearn: 0.0305332\ttotal: 1.35s\tremaining: 368ms\n",
      "393:\tlearn: 0.0305201\ttotal: 1.35s\tremaining: 364ms\n",
      "394:\tlearn: 0.0305054\ttotal: 1.36s\tremaining: 361ms\n",
      "395:\tlearn: 0.0304914\ttotal: 1.36s\tremaining: 358ms\n",
      "396:\tlearn: 0.0304823\ttotal: 1.36s\tremaining: 354ms\n",
      "397:\tlearn: 0.0304687\ttotal: 1.37s\tremaining: 351ms\n",
      "398:\tlearn: 0.0304578\ttotal: 1.37s\tremaining: 348ms\n",
      "399:\tlearn: 0.0304451\ttotal: 1.38s\tremaining: 344ms\n",
      "400:\tlearn: 0.0304358\ttotal: 1.38s\tremaining: 341ms\n",
      "401:\tlearn: 0.0304275\ttotal: 1.38s\tremaining: 337ms\n",
      "402:\tlearn: 0.0304147\ttotal: 1.39s\tremaining: 334ms\n",
      "403:\tlearn: 0.0303908\ttotal: 1.39s\tremaining: 330ms\n",
      "404:\tlearn: 0.0303786\ttotal: 1.39s\tremaining: 327ms\n",
      "405:\tlearn: 0.0303679\ttotal: 1.4s\tremaining: 323ms\n",
      "406:\tlearn: 0.0303566\ttotal: 1.4s\tremaining: 320ms\n",
      "407:\tlearn: 0.0303434\ttotal: 1.4s\tremaining: 317ms\n",
      "408:\tlearn: 0.0303320\ttotal: 1.41s\tremaining: 313ms\n",
      "409:\tlearn: 0.0303184\ttotal: 1.41s\tremaining: 310ms\n",
      "410:\tlearn: 0.0303118\ttotal: 1.41s\tremaining: 306ms\n",
      "411:\tlearn: 0.0302988\ttotal: 1.42s\tremaining: 303ms\n",
      "412:\tlearn: 0.0302859\ttotal: 1.42s\tremaining: 299ms\n",
      "413:\tlearn: 0.0302722\ttotal: 1.42s\tremaining: 296ms\n"
     ]
    },
    {
     "name": "stdout",
     "output_type": "stream",
     "text": [
      "414:\tlearn: 0.0302556\ttotal: 1.43s\tremaining: 292ms\n",
      "415:\tlearn: 0.0302396\ttotal: 1.43s\tremaining: 289ms\n",
      "416:\tlearn: 0.0302218\ttotal: 1.43s\tremaining: 286ms\n",
      "417:\tlearn: 0.0302135\ttotal: 1.44s\tremaining: 282ms\n",
      "418:\tlearn: 0.0302045\ttotal: 1.44s\tremaining: 279ms\n",
      "419:\tlearn: 0.0301953\ttotal: 1.45s\tremaining: 275ms\n",
      "420:\tlearn: 0.0301826\ttotal: 1.45s\tremaining: 272ms\n",
      "421:\tlearn: 0.0301690\ttotal: 1.45s\tremaining: 269ms\n",
      "422:\tlearn: 0.0301613\ttotal: 1.46s\tremaining: 265ms\n",
      "423:\tlearn: 0.0301558\ttotal: 1.46s\tremaining: 262ms\n",
      "424:\tlearn: 0.0301476\ttotal: 1.46s\tremaining: 258ms\n",
      "425:\tlearn: 0.0301414\ttotal: 1.47s\tremaining: 255ms\n",
      "426:\tlearn: 0.0301348\ttotal: 1.47s\tremaining: 252ms\n",
      "427:\tlearn: 0.0301230\ttotal: 1.47s\tremaining: 248ms\n",
      "428:\tlearn: 0.0301144\ttotal: 1.48s\tremaining: 244ms\n",
      "429:\tlearn: 0.0301044\ttotal: 1.48s\tremaining: 241ms\n",
      "430:\tlearn: 0.0300973\ttotal: 1.48s\tremaining: 237ms\n",
      "431:\tlearn: 0.0300881\ttotal: 1.49s\tremaining: 234ms\n",
      "432:\tlearn: 0.0300757\ttotal: 1.49s\tremaining: 230ms\n",
      "433:\tlearn: 0.0300701\ttotal: 1.49s\tremaining: 227ms\n",
      "434:\tlearn: 0.0300654\ttotal: 1.5s\tremaining: 224ms\n",
      "435:\tlearn: 0.0300520\ttotal: 1.5s\tremaining: 220ms\n",
      "436:\tlearn: 0.0300435\ttotal: 1.5s\tremaining: 217ms\n",
      "437:\tlearn: 0.0300414\ttotal: 1.5s\tremaining: 213ms\n",
      "438:\tlearn: 0.0300327\ttotal: 1.51s\tremaining: 210ms\n",
      "439:\tlearn: 0.0300298\ttotal: 1.51s\tremaining: 206ms\n",
      "440:\tlearn: 0.0300210\ttotal: 1.51s\tremaining: 203ms\n",
      "441:\tlearn: 0.0300131\ttotal: 1.52s\tremaining: 199ms\n",
      "442:\tlearn: 0.0300078\ttotal: 1.52s\tremaining: 196ms\n",
      "443:\tlearn: 0.0300005\ttotal: 1.52s\tremaining: 192ms\n",
      "444:\tlearn: 0.0299886\ttotal: 1.53s\tremaining: 189ms\n",
      "445:\tlearn: 0.0299818\ttotal: 1.53s\tremaining: 185ms\n",
      "446:\tlearn: 0.0299690\ttotal: 1.53s\tremaining: 182ms\n",
      "447:\tlearn: 0.0299648\ttotal: 1.54s\tremaining: 178ms\n",
      "448:\tlearn: 0.0299553\ttotal: 1.54s\tremaining: 175ms\n",
      "449:\tlearn: 0.0299482\ttotal: 1.54s\tremaining: 171ms\n",
      "450:\tlearn: 0.0299383\ttotal: 1.55s\tremaining: 168ms\n",
      "451:\tlearn: 0.0299278\ttotal: 1.55s\tremaining: 165ms\n",
      "452:\tlearn: 0.0299214\ttotal: 1.55s\tremaining: 161ms\n",
      "453:\tlearn: 0.0299129\ttotal: 1.56s\tremaining: 158ms\n",
      "454:\tlearn: 0.0298992\ttotal: 1.56s\tremaining: 154ms\n",
      "455:\tlearn: 0.0298935\ttotal: 1.56s\tremaining: 151ms\n",
      "456:\tlearn: 0.0298847\ttotal: 1.57s\tremaining: 147ms\n",
      "457:\tlearn: 0.0298744\ttotal: 1.57s\tremaining: 144ms\n",
      "458:\tlearn: 0.0298665\ttotal: 1.57s\tremaining: 140ms\n",
      "459:\tlearn: 0.0298622\ttotal: 1.57s\tremaining: 137ms\n",
      "460:\tlearn: 0.0298592\ttotal: 1.58s\tremaining: 134ms\n",
      "461:\tlearn: 0.0298549\ttotal: 1.58s\tremaining: 130ms\n",
      "462:\tlearn: 0.0298445\ttotal: 1.58s\tremaining: 127ms\n",
      "463:\tlearn: 0.0298402\ttotal: 1.59s\tremaining: 123ms\n",
      "464:\tlearn: 0.0298304\ttotal: 1.59s\tremaining: 120ms\n",
      "465:\tlearn: 0.0298253\ttotal: 1.59s\tremaining: 116ms\n",
      "466:\tlearn: 0.0298201\ttotal: 1.6s\tremaining: 113ms\n",
      "467:\tlearn: 0.0298098\ttotal: 1.6s\tremaining: 110ms\n",
      "468:\tlearn: 0.0298057\ttotal: 1.6s\tremaining: 106ms\n",
      "469:\tlearn: 0.0298034\ttotal: 1.61s\tremaining: 103ms\n",
      "470:\tlearn: 0.0298020\ttotal: 1.61s\tremaining: 99.2ms\n",
      "471:\tlearn: 0.0297945\ttotal: 1.61s\tremaining: 95.7ms\n",
      "472:\tlearn: 0.0297888\ttotal: 1.62s\tremaining: 92.3ms\n",
      "473:\tlearn: 0.0297758\ttotal: 1.62s\tremaining: 88.9ms\n",
      "474:\tlearn: 0.0297713\ttotal: 1.63s\tremaining: 85.6ms\n",
      "475:\tlearn: 0.0297609\ttotal: 1.63s\tremaining: 82.1ms\n",
      "476:\tlearn: 0.0297567\ttotal: 1.63s\tremaining: 78.7ms\n",
      "477:\tlearn: 0.0297512\ttotal: 1.64s\tremaining: 75.3ms\n",
      "478:\tlearn: 0.0297416\ttotal: 1.64s\tremaining: 71.8ms\n",
      "479:\tlearn: 0.0297359\ttotal: 1.64s\tremaining: 68.4ms\n",
      "480:\tlearn: 0.0297300\ttotal: 1.64s\tremaining: 65ms\n",
      "481:\tlearn: 0.0297254\ttotal: 1.65s\tremaining: 61.5ms\n",
      "482:\tlearn: 0.0297207\ttotal: 1.65s\tremaining: 58.1ms\n",
      "483:\tlearn: 0.0297097\ttotal: 1.65s\tremaining: 54.7ms\n",
      "484:\tlearn: 0.0296965\ttotal: 1.66s\tremaining: 51.3ms\n",
      "485:\tlearn: 0.0296920\ttotal: 1.66s\tremaining: 47.8ms\n",
      "486:\tlearn: 0.0296795\ttotal: 1.66s\tremaining: 44.4ms\n",
      "487:\tlearn: 0.0296688\ttotal: 1.67s\tremaining: 41ms\n",
      "488:\tlearn: 0.0296610\ttotal: 1.67s\tremaining: 37.6ms\n",
      "489:\tlearn: 0.0296521\ttotal: 1.67s\tremaining: 34.2ms\n",
      "490:\tlearn: 0.0296454\ttotal: 1.68s\tremaining: 30.7ms\n",
      "491:\tlearn: 0.0296341\ttotal: 1.68s\tremaining: 27.3ms\n",
      "492:\tlearn: 0.0296309\ttotal: 1.68s\tremaining: 23.9ms\n",
      "493:\tlearn: 0.0296164\ttotal: 1.69s\tremaining: 20.5ms\n",
      "494:\tlearn: 0.0296099\ttotal: 1.69s\tremaining: 17.1ms\n",
      "495:\tlearn: 0.0296037\ttotal: 1.69s\tremaining: 13.7ms\n",
      "496:\tlearn: 0.0295920\ttotal: 1.7s\tremaining: 10.2ms\n",
      "497:\tlearn: 0.0295858\ttotal: 1.7s\tremaining: 6.83ms\n",
      "498:\tlearn: 0.0295766\ttotal: 1.7s\tremaining: 3.42ms\n",
      "499:\tlearn: 0.0295682\ttotal: 1.71s\tremaining: 0us\n"
     ]
    }
   ],
   "source": [
    "catb = CatBoostClassifier(iterations = 500, \n",
    "                          learning_rate = 0.01, \n",
    "                          depth = 3)\n",
    "\n",
    "catb_tuned = catb.fit(X_train, y_train)\n",
    "y_pred = catb_tuned.predict(X_test)"
   ]
  },
  {
   "cell_type": "code",
   "execution_count": 210,
   "id": "8f5b2a2c-eba8-4ab6-9849-1f4bcbc86526",
   "metadata": {},
   "outputs": [
    {
     "data": {
      "text/plain": [
       "0.9913636363636363"
      ]
     },
     "execution_count": 210,
     "metadata": {},
     "output_type": "execute_result"
    }
   ],
   "source": [
    "y_pred = catb_tuned.predict(X_test)\n",
    "accuracy_score(y_test, y_pred)"
   ]
  },
  {
   "cell_type": "code",
   "execution_count": 211,
   "id": "c1c05ed9-9011-4168-a03a-2c7a0dc55f02",
   "metadata": {},
   "outputs": [],
   "source": [
    "# CatBoost modelini  oluşturdum parametreler  elde edilerek en iyi sonuç bulundu."
   ]
  },
  {
   "cell_type": "code",
   "execution_count": 212,
   "id": "79af5ff6-6188-41d0-9c90-bb5b05724d02",
   "metadata": {},
   "outputs": [],
   "source": [
    "#DENEME"
   ]
  },
  {
   "cell_type": "code",
   "execution_count": 215,
   "id": "4d2b36f4-164c-451d-aec2-d43b0888798c",
   "metadata": {
    "jupyter": {
     "outputs_hidden": true,
     "source_hidden": true
    },
    "tags": []
   },
   "outputs": [
    {
     "name": "stdout",
     "output_type": "stream",
     "text": [
      "----------------------------\n",
      "KNeighborsClassifier:\n",
      "Accuracy: 98.6136%\n",
      "----------------------------\n",
      "LogisticRegression:\n",
      "Accuracy: 99.1136%\n",
      "----------------------------\n",
      "SVC:\n",
      "Accuracy: 97.5227%\n",
      "----------------------------\n",
      "GaussianNB:\n",
      "Accuracy: 97.8864%\n",
      "----------------------------\n",
      "DecisionTreeClassifier:\n",
      "Accuracy: 99.0227%\n",
      "----------------------------\n",
      "RandomForestClassifier:\n",
      "Accuracy: 99.1364%\n",
      "----------------------------\n",
      "GradientBoostingClassifier:\n",
      "Accuracy: 99.0455%\n",
      "----------------------------\n",
      "CatBoostClassifier:\n",
      "Accuracy: 99.1364%\n",
      "----------------------------\n",
      "XGBClassifier:\n",
      "Accuracy: 99.0909%\n"
     ]
    }
   ],
   "source": [
    "modeller = [\n",
    "    knn_tuned,\n",
    "    loj_model,\n",
    "    svc_tuned,\n",
    "    nb_model,\n",
    "    \n",
    "    cart_tuned,\n",
    "    rf_tuned,\n",
    "    gbm_tuned,\n",
    "    catb_tuned,\n",
    "    xgb_tuned\n",
    "    \n",
    "]\n",
    "\n",
    "\n",
    "for model in modeller:\n",
    "    isimler = model.__class__.__name__\n",
    "    y_pred = model.predict(X_test)\n",
    "    dogruluk = accuracy_score(y_test, y_pred)\n",
    "    print(\"-\"*28)\n",
    "    print(isimler + \":\" )\n",
    "    print(\"Accuracy: {:.4%}\".format(dogruluk))"
   ]
  },
  {
   "cell_type": "code",
   "execution_count": 216,
   "id": "fcaf4e75-f654-4f19-b72f-69be64045c77",
   "metadata": {
    "jupyter": {
     "outputs_hidden": true
    },
    "tags": []
   },
   "outputs": [
    {
     "data": {
      "image/png": "[encoded data removed]",
      "text/plain": [
       "<Figure size 1800x720 with 1 Axes>"
      ]
     },
     "metadata": {},
     "output_type": "display_data"
    }
   ],
   "source": [
    "sonuc = []\n",
    "\n",
    "sonuclar = pd.DataFrame(columns= [\"Modeller\",\"Accuracy\"])\n",
    "\n",
    "for model in modeller:\n",
    "    isimler = model.__class__.__name__\n",
    "    y_pred = model.predict(X_test)\n",
    "    dogruluk = accuracy_score(y_test, y_pred)    \n",
    "    sonuc = pd.DataFrame([[isimler, dogruluk*100]], columns= [\"Modeller\",\"Accuracy\"])\n",
    "    sonuclar = sonuclar.append(sonuc)\n",
    "\n",
    "sns.set(rc={'figure.figsize':(25,10)})    \n",
    "plot=sns.barplot(x= 'Modeller', y = 'Accuracy', data=sonuclar, color=\"r\")\n",
    "\n",
    "for p in plot.patches:\n",
    "    plot.annotate(format(p.get_height(), '.1f'), \n",
    "                   (p.get_x() + p.get_width()/2, p.get_height()), \n",
    "                   ha = 'center', va = 'center', \n",
    "                   xytext = (0, 8), \n",
    "                   textcoords = 'offset points')\n",
    "plt.ylabel('Accuracy %')\n",
    "plt.title('Modellerin Doğruluk Oranları');   \n",
    "\n"
   ]
  },
  {
   "cell_type": "code",
   "execution_count": null,
   "id": "60d02eed-54d0-4746-8410-d6eb317c64e7",
   "metadata": {},
   "outputs": [],
   "source": [
    "#kulladığım tuned edilmiş modellerin çıktılarını ortak bir şekilde inceledim\n"
   ]
  },
  {
   "cell_type": "code",
   "execution_count": null,
   "id": "e675fc01",
   "metadata": {},
   "outputs": [],
   "source": []
  }
 ],
 "metadata": {
  "kernelspec": {
   "display_name": "Python 3 (ipykernel)",
   "language": "python",
   "name": "python3"
  },
  "language_info": {
   "codemirror_mode": {
    "name": "ipython",
    "version": 3
   },
   "file_extension": ".py",
   "mimetype": "text/x-python",
   "name": "python",
   "nbconvert_exporter": "python",
   "pygments_lexer": "ipython3",
   "version": "3.9.7"
  }
 },
 "nbformat": 4,
 "nbformat_minor": 5
}
