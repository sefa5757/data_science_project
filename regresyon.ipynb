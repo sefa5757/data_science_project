{
 "cells": [
  {
   "cell_type": "code",
   "execution_count": 1,
   "id": "a37a3f73-d68e-40bd-a8f6-47ddc46c7a3b",
   "metadata": {},
   "outputs": [],
   "source": [
    "import numpy as np\n",
    "import pandas as pd\n",
    "import seaborn as sns\n",
    "import matplotlib as m\n",
    "import matplotlib.pyplot as plt\n",
    "import missingno as msno\n",
    "from sklearn.model_selection import train_test_split, GridSearchCV,cross_val_score\n",
    "from sklearn.metrics import mean_squared_error, r2_score\n",
    "from sklearn import model_selection\n",
    "from sklearn.tree import DecisionTreeRegressor, DecisionTreeClassifier\n",
    "from sklearn.neighbors import KNeighborsRegressor\n",
    "from sklearn.ensemble import BaggingRegressor\n",
    "from sklearn.linear_model import LinearRegression\n",
    "from warnings import filterwarnings\n",
    "filterwarnings('ignore')\n",
    "%matplotlib inline\n",
    "df = pd.read_csv(\"winequality-red.csv\")"
   ]
  },
  {
   "cell_type": "code",
   "execution_count": 2,
   "id": "4c95a93d-7083-44b9-80d0-cdbd87771d53",
   "metadata": {},
   "outputs": [
    {
     "data": {
      "text/html": [
       "<div>\n",
       "<style scoped>\n",
       "    .dataframe tbody tr th:only-of-type {\n",
       "        vertical-align: middle;\n",
       "    }\n",
       "\n",
       "    .dataframe tbody tr th {\n",
       "        vertical-align: top;\n",
       "    }\n",
       "\n",
       "    .dataframe thead th {\n",
       "        text-align: right;\n",
       "    }\n",
       "</style>\n",
       "<table border=\"1\" class=\"dataframe\">\n",
       "  <thead>\n",
       "    <tr style=\"text-align: right;\">\n",
       "      <th></th>\n",
       "      <th>fixed acidity</th>\n",
       "      <th>volatile acidity</th>\n",
       "      <th>citric acid</th>\n",
       "      <th>residual sugar</th>\n",
       "      <th>chlorides</th>\n",
       "      <th>free sulfur dioxide</th>\n",
       "      <th>total sulfur dioxide</th>\n",
       "      <th>density</th>\n",
       "      <th>pH</th>\n",
       "      <th>sulphates</th>\n",
       "      <th>alcohol</th>\n",
       "      <th>quality</th>\n",
       "    </tr>\n",
       "  </thead>\n",
       "  <tbody>\n",
       "    <tr>\n",
       "      <th>0</th>\n",
       "      <td>7.4</td>\n",
       "      <td>0.70</td>\n",
       "      <td>0.00</td>\n",
       "      <td>1.9</td>\n",
       "      <td>0.076</td>\n",
       "      <td>11.0</td>\n",
       "      <td>34.0</td>\n",
       "      <td>0.9978</td>\n",
       "      <td>3.51</td>\n",
       "      <td>0.56</td>\n",
       "      <td>9.4</td>\n",
       "      <td>5</td>\n",
       "    </tr>\n",
       "    <tr>\n",
       "      <th>1</th>\n",
       "      <td>7.8</td>\n",
       "      <td>0.88</td>\n",
       "      <td>0.00</td>\n",
       "      <td>2.6</td>\n",
       "      <td>0.098</td>\n",
       "      <td>25.0</td>\n",
       "      <td>67.0</td>\n",
       "      <td>0.9968</td>\n",
       "      <td>3.20</td>\n",
       "      <td>0.68</td>\n",
       "      <td>9.8</td>\n",
       "      <td>5</td>\n",
       "    </tr>\n",
       "    <tr>\n",
       "      <th>2</th>\n",
       "      <td>7.8</td>\n",
       "      <td>0.76</td>\n",
       "      <td>0.04</td>\n",
       "      <td>2.3</td>\n",
       "      <td>0.092</td>\n",
       "      <td>15.0</td>\n",
       "      <td>54.0</td>\n",
       "      <td>0.9970</td>\n",
       "      <td>3.26</td>\n",
       "      <td>0.65</td>\n",
       "      <td>9.8</td>\n",
       "      <td>5</td>\n",
       "    </tr>\n",
       "    <tr>\n",
       "      <th>3</th>\n",
       "      <td>11.2</td>\n",
       "      <td>0.28</td>\n",
       "      <td>0.56</td>\n",
       "      <td>1.9</td>\n",
       "      <td>0.075</td>\n",
       "      <td>17.0</td>\n",
       "      <td>60.0</td>\n",
       "      <td>0.9980</td>\n",
       "      <td>3.16</td>\n",
       "      <td>0.58</td>\n",
       "      <td>9.8</td>\n",
       "      <td>6</td>\n",
       "    </tr>\n",
       "    <tr>\n",
       "      <th>4</th>\n",
       "      <td>7.4</td>\n",
       "      <td>0.70</td>\n",
       "      <td>0.00</td>\n",
       "      <td>1.9</td>\n",
       "      <td>0.076</td>\n",
       "      <td>11.0</td>\n",
       "      <td>34.0</td>\n",
       "      <td>0.9978</td>\n",
       "      <td>3.51</td>\n",
       "      <td>0.56</td>\n",
       "      <td>9.4</td>\n",
       "      <td>5</td>\n",
       "    </tr>\n",
       "  </tbody>\n",
       "</table>\n",
       "</div>"
      ],
      "text/plain": [
       "   fixed acidity  volatile acidity  citric acid  residual sugar  chlorides  \\\n",
       "0            7.4              0.70         0.00             1.9      0.076   \n",
       "1            7.8              0.88         0.00             2.6      0.098   \n",
       "2            7.8              0.76         0.04             2.3      0.092   \n",
       "3           11.2              0.28         0.56             1.9      0.075   \n",
       "4            7.4              0.70         0.00             1.9      0.076   \n",
       "\n",
       "   free sulfur dioxide  total sulfur dioxide  density    pH  sulphates  \\\n",
       "0                 11.0                  34.0   0.9978  3.51       0.56   \n",
       "1                 25.0                  67.0   0.9968  3.20       0.68   \n",
       "2                 15.0                  54.0   0.9970  3.26       0.65   \n",
       "3                 17.0                  60.0   0.9980  3.16       0.58   \n",
       "4                 11.0                  34.0   0.9978  3.51       0.56   \n",
       "\n",
       "   alcohol  quality  \n",
       "0      9.4        5  \n",
       "1      9.8        5  \n",
       "2      9.8        5  \n",
       "3      9.8        6  \n",
       "4      9.4        5  "
      ]
     },
     "execution_count": 2,
     "metadata": {},
     "output_type": "execute_result"
    }
   ],
   "source": [
    "df.head()"
   ]
  },
  {
   "cell_type": "code",
   "execution_count": 3,
   "id": "596fcdcc-7375-4323-a4dd-534db7bb6d93",
   "metadata": {},
   "outputs": [],
   "source": [
    "#Kütüphaneler tanımlandı ve ilk gözlem yapıldı."
   ]
  },
  {
   "cell_type": "code",
   "execution_count": 4,
   "id": "9adda7ec-ff56-4c7a-8612-5fd881cabf01",
   "metadata": {},
   "outputs": [
    {
     "data": {
      "text/plain": [
       "(1599, 12)"
      ]
     },
     "execution_count": 4,
     "metadata": {},
     "output_type": "execute_result"
    }
   ],
   "source": [
    "df.shape"
   ]
  },
  {
   "cell_type": "code",
   "execution_count": 5,
   "id": "3594959f-f10f-4b27-87d4-ba4fd158843b",
   "metadata": {},
   "outputs": [
    {
     "data": {
      "text/html": [
       "<div>\n",
       "<style scoped>\n",
       "    .dataframe tbody tr th:only-of-type {\n",
       "        vertical-align: middle;\n",
       "    }\n",
       "\n",
       "    .dataframe tbody tr th {\n",
       "        vertical-align: top;\n",
       "    }\n",
       "\n",
       "    .dataframe thead th {\n",
       "        text-align: right;\n",
       "    }\n",
       "</style>\n",
       "<table border=\"1\" class=\"dataframe\">\n",
       "  <thead>\n",
       "    <tr style=\"text-align: right;\">\n",
       "      <th></th>\n",
       "      <th>fixed acidity</th>\n",
       "      <th>volatile acidity</th>\n",
       "      <th>citric acid</th>\n",
       "      <th>residual sugar</th>\n",
       "      <th>chlorides</th>\n",
       "      <th>free sulfur dioxide</th>\n",
       "      <th>total sulfur dioxide</th>\n",
       "      <th>density</th>\n",
       "      <th>pH</th>\n",
       "      <th>sulphates</th>\n",
       "      <th>alcohol</th>\n",
       "      <th>quality</th>\n",
       "    </tr>\n",
       "  </thead>\n",
       "  <tbody>\n",
       "    <tr>\n",
       "      <th>count</th>\n",
       "      <td>1599.000000</td>\n",
       "      <td>1599.000000</td>\n",
       "      <td>1599.000000</td>\n",
       "      <td>1599.000000</td>\n",
       "      <td>1599.000000</td>\n",
       "      <td>1599.000000</td>\n",
       "      <td>1599.000000</td>\n",
       "      <td>1599.000000</td>\n",
       "      <td>1599.000000</td>\n",
       "      <td>1599.000000</td>\n",
       "      <td>1599.000000</td>\n",
       "      <td>1599.000000</td>\n",
       "    </tr>\n",
       "    <tr>\n",
       "      <th>mean</th>\n",
       "      <td>8.319637</td>\n",
       "      <td>0.527821</td>\n",
       "      <td>0.270976</td>\n",
       "      <td>2.538806</td>\n",
       "      <td>0.087467</td>\n",
       "      <td>15.874922</td>\n",
       "      <td>46.467792</td>\n",
       "      <td>0.996747</td>\n",
       "      <td>3.311113</td>\n",
       "      <td>0.658149</td>\n",
       "      <td>10.422983</td>\n",
       "      <td>5.636023</td>\n",
       "    </tr>\n",
       "    <tr>\n",
       "      <th>std</th>\n",
       "      <td>1.741096</td>\n",
       "      <td>0.179060</td>\n",
       "      <td>0.194801</td>\n",
       "      <td>1.409928</td>\n",
       "      <td>0.047065</td>\n",
       "      <td>10.460157</td>\n",
       "      <td>32.895324</td>\n",
       "      <td>0.001887</td>\n",
       "      <td>0.154386</td>\n",
       "      <td>0.169507</td>\n",
       "      <td>1.065668</td>\n",
       "      <td>0.807569</td>\n",
       "    </tr>\n",
       "    <tr>\n",
       "      <th>min</th>\n",
       "      <td>4.600000</td>\n",
       "      <td>0.120000</td>\n",
       "      <td>0.000000</td>\n",
       "      <td>0.900000</td>\n",
       "      <td>0.012000</td>\n",
       "      <td>1.000000</td>\n",
       "      <td>6.000000</td>\n",
       "      <td>0.990070</td>\n",
       "      <td>2.740000</td>\n",
       "      <td>0.330000</td>\n",
       "      <td>8.400000</td>\n",
       "      <td>3.000000</td>\n",
       "    </tr>\n",
       "    <tr>\n",
       "      <th>25%</th>\n",
       "      <td>7.100000</td>\n",
       "      <td>0.390000</td>\n",
       "      <td>0.090000</td>\n",
       "      <td>1.900000</td>\n",
       "      <td>0.070000</td>\n",
       "      <td>7.000000</td>\n",
       "      <td>22.000000</td>\n",
       "      <td>0.995600</td>\n",
       "      <td>3.210000</td>\n",
       "      <td>0.550000</td>\n",
       "      <td>9.500000</td>\n",
       "      <td>5.000000</td>\n",
       "    </tr>\n",
       "    <tr>\n",
       "      <th>50%</th>\n",
       "      <td>7.900000</td>\n",
       "      <td>0.520000</td>\n",
       "      <td>0.260000</td>\n",
       "      <td>2.200000</td>\n",
       "      <td>0.079000</td>\n",
       "      <td>14.000000</td>\n",
       "      <td>38.000000</td>\n",
       "      <td>0.996750</td>\n",
       "      <td>3.310000</td>\n",
       "      <td>0.620000</td>\n",
       "      <td>10.200000</td>\n",
       "      <td>6.000000</td>\n",
       "    </tr>\n",
       "    <tr>\n",
       "      <th>75%</th>\n",
       "      <td>9.200000</td>\n",
       "      <td>0.640000</td>\n",
       "      <td>0.420000</td>\n",
       "      <td>2.600000</td>\n",
       "      <td>0.090000</td>\n",
       "      <td>21.000000</td>\n",
       "      <td>62.000000</td>\n",
       "      <td>0.997835</td>\n",
       "      <td>3.400000</td>\n",
       "      <td>0.730000</td>\n",
       "      <td>11.100000</td>\n",
       "      <td>6.000000</td>\n",
       "    </tr>\n",
       "    <tr>\n",
       "      <th>max</th>\n",
       "      <td>15.900000</td>\n",
       "      <td>1.580000</td>\n",
       "      <td>1.000000</td>\n",
       "      <td>15.500000</td>\n",
       "      <td>0.611000</td>\n",
       "      <td>72.000000</td>\n",
       "      <td>289.000000</td>\n",
       "      <td>1.003690</td>\n",
       "      <td>4.010000</td>\n",
       "      <td>2.000000</td>\n",
       "      <td>14.900000</td>\n",
       "      <td>8.000000</td>\n",
       "    </tr>\n",
       "  </tbody>\n",
       "</table>\n",
       "</div>"
      ],
      "text/plain": [
       "       fixed acidity  volatile acidity  citric acid  residual sugar  \\\n",
       "count    1599.000000       1599.000000  1599.000000     1599.000000   \n",
       "mean        8.319637          0.527821     0.270976        2.538806   \n",
       "std         1.741096          0.179060     0.194801        1.409928   \n",
       "min         4.600000          0.120000     0.000000        0.900000   \n",
       "25%         7.100000          0.390000     0.090000        1.900000   \n",
       "50%         7.900000          0.520000     0.260000        2.200000   \n",
       "75%         9.200000          0.640000     0.420000        2.600000   \n",
       "max        15.900000          1.580000     1.000000       15.500000   \n",
       "\n",
       "         chlorides  free sulfur dioxide  total sulfur dioxide      density  \\\n",
       "count  1599.000000          1599.000000           1599.000000  1599.000000   \n",
       "mean      0.087467            15.874922             46.467792     0.996747   \n",
       "std       0.047065            10.460157             32.895324     0.001887   \n",
       "min       0.012000             1.000000              6.000000     0.990070   \n",
       "25%       0.070000             7.000000             22.000000     0.995600   \n",
       "50%       0.079000            14.000000             38.000000     0.996750   \n",
       "75%       0.090000            21.000000             62.000000     0.997835   \n",
       "max       0.611000            72.000000            289.000000     1.003690   \n",
       "\n",
       "                pH    sulphates      alcohol      quality  \n",
       "count  1599.000000  1599.000000  1599.000000  1599.000000  \n",
       "mean      3.311113     0.658149    10.422983     5.636023  \n",
       "std       0.154386     0.169507     1.065668     0.807569  \n",
       "min       2.740000     0.330000     8.400000     3.000000  \n",
       "25%       3.210000     0.550000     9.500000     5.000000  \n",
       "50%       3.310000     0.620000    10.200000     6.000000  \n",
       "75%       3.400000     0.730000    11.100000     6.000000  \n",
       "max       4.010000     2.000000    14.900000     8.000000  "
      ]
     },
     "execution_count": 5,
     "metadata": {},
     "output_type": "execute_result"
    }
   ],
   "source": [
    "df.describe()"
   ]
  },
  {
   "cell_type": "code",
   "execution_count": 6,
   "id": "413d584e-0c05-4be5-9749-316eda369c89",
   "metadata": {},
   "outputs": [],
   "source": [
    "#Veri seti yapısal olarak kontrol edildi"
   ]
  },
  {
   "cell_type": "code",
   "execution_count": 7,
   "id": "137d397d-5952-434d-a7c8-8deb63ac7125",
   "metadata": {},
   "outputs": [
    {
     "data": {
      "text/plain": [
       "fixed acidity           0\n",
       "volatile acidity        0\n",
       "citric acid             0\n",
       "residual sugar          0\n",
       "chlorides               0\n",
       "free sulfur dioxide     0\n",
       "total sulfur dioxide    0\n",
       "density                 0\n",
       "pH                      0\n",
       "sulphates               0\n",
       "alcohol                 0\n",
       "quality                 0\n",
       "dtype: int64"
      ]
     },
     "execution_count": 7,
     "metadata": {},
     "output_type": "execute_result"
    }
   ],
   "source": [
    "df.isnull().sum()"
   ]
  },
  {
   "cell_type": "code",
   "execution_count": 8,
   "id": "b43f2198-48d4-4a07-af0f-566cbb9647db",
   "metadata": {},
   "outputs": [
    {
     "name": "stdout",
     "output_type": "stream",
     "text": [
      "<class 'pandas.core.frame.DataFrame'>\n",
      "RangeIndex: 1599 entries, 0 to 1598\n",
      "Data columns (total 12 columns):\n",
      " #   Column                Non-Null Count  Dtype  \n",
      "---  ------                --------------  -----  \n",
      " 0   fixed acidity         1599 non-null   float64\n",
      " 1   volatile acidity      1599 non-null   float64\n",
      " 2   citric acid           1599 non-null   float64\n",
      " 3   residual sugar        1599 non-null   float64\n",
      " 4   chlorides             1599 non-null   float64\n",
      " 5   free sulfur dioxide   1599 non-null   float64\n",
      " 6   total sulfur dioxide  1599 non-null   float64\n",
      " 7   density               1599 non-null   float64\n",
      " 8   pH                    1599 non-null   float64\n",
      " 9   sulphates             1599 non-null   float64\n",
      " 10  alcohol               1599 non-null   float64\n",
      " 11  quality               1599 non-null   int64  \n",
      "dtypes: float64(11), int64(1)\n",
      "memory usage: 150.0 KB\n"
     ]
    }
   ],
   "source": [
    "df.info()"
   ]
  },
  {
   "cell_type": "code",
   "execution_count": 9,
   "id": "463330f1-0ae7-4b9c-92dd-491e3d4b539c",
   "metadata": {},
   "outputs": [],
   "source": [
    "#Boş değerlerde gözlem yapıldı."
   ]
  },
  {
   "cell_type": "code",
   "execution_count": 10,
   "id": "abc87863-2bd9-4057-8aba-b55fb9ab5746",
   "metadata": {},
   "outputs": [
    {
     "data": {
      "text/plain": [
       "<AxesSubplot:>"
      ]
     },
     "execution_count": 10,
     "metadata": {},
     "output_type": "execute_result"
    },
    {
     "data": {
      "image/png": "[encoded data removed]",
      "text/plain": [
       "<Figure size 1800x720 with 3 Axes>"
      ]
     },
     "metadata": {
      "needs_background": "light"
     },
     "output_type": "display_data"
    }
   ],
   "source": [
    "msno.bar(df)"
   ]
  },
  {
   "cell_type": "code",
   "execution_count": 11,
   "id": "7bf60db8-cb56-449d-80ac-8d44cce0436c",
   "metadata": {},
   "outputs": [
    {
     "data": {
      "image/png": "[encoded data removed]",
      "text/plain": [
       "<Figure size 432x288 with 2 Axes>"
      ]
     },
     "metadata": {
      "needs_background": "light"
     },
     "output_type": "display_data"
    }
   ],
   "source": [
    "sns.heatmap(df.isnull());"
   ]
  },
  {
   "cell_type": "code",
   "execution_count": 12,
   "id": "6aaf8ee9-bc37-413d-8859-83b5fa3fe631",
   "metadata": {},
   "outputs": [],
   "source": [
    "#Boş olan değerler grafik üzerinden kontrol edildi."
   ]
  },
  {
   "cell_type": "code",
   "execution_count": 13,
   "id": "9132ad17-59a0-492d-b31c-ab5afa005939",
   "metadata": {},
   "outputs": [
    {
     "data": {
      "image/png": "[encoded data removed]",
      "text/plain": [
       "<Figure size 1440x1440 with 2 Axes>"
      ]
     },
     "metadata": {
      "needs_background": "light"
     },
     "output_type": "display_data"
    }
   ],
   "source": [
    "correlations = df.corr()\n",
    "f, ax = plt.subplots(figsize = (20,20))\n",
    "sns.heatmap(correlations, annot=True)\n",
    "correlations.round(2);"
   ]
  },
  {
   "cell_type": "code",
   "execution_count": 14,
   "id": "60ed57c2-56f9-4bbb-8c3b-3a43d67dc35e",
   "metadata": {},
   "outputs": [],
   "source": [
    "#Korelasyon ilişkilerine bakıldı."
   ]
  },
  {
   "cell_type": "code",
   "execution_count": 15,
   "id": "10c19c94-ad3d-4c3a-824f-61d616fa0183",
   "metadata": {},
   "outputs": [
    {
     "data": {
      "text/plain": [
       "Index(['quality', 'alcohol', 'sulphates', 'citric acid'], dtype='object')"
      ]
     },
     "execution_count": 15,
     "metadata": {},
     "output_type": "execute_result"
    }
   ],
   "source": [
    "df.corr().nlargest(4,\"quality\").index"
   ]
  },
  {
   "cell_type": "code",
   "execution_count": 16,
   "id": "beeda95f-3736-4aea-b572-52af580d8253",
   "metadata": {},
   "outputs": [
    {
     "data": {
      "image/png": "[encoded data removed]",
      "text/plain": [
       "<Figure size 1440x1800 with 12 Axes>"
      ]
     },
     "metadata": {
      "needs_background": "light"
     },
     "output_type": "display_data"
    }
   ],
   "source": [
    "fig, axes = plt.subplots(6,2, figsize=(20,25))\n",
    "fig.suptitle('Box Plot Before Outlier Detection')\n",
    "k = 0\n",
    "for i in range(0,6):\n",
    "    for j in range(0,2):\n",
    "        sns.boxplot(ax=axes[i,j], data=df, x=df.columns[k], palette='Set3')\n",
    "        k=k+1"
   ]
  },
  {
   "cell_type": "code",
   "execution_count": 17,
   "id": "ebb8e985-a38f-45a0-bb5f-f6518da7c731",
   "metadata": {},
   "outputs": [],
   "source": [
    "#Değerler aykırı gözlem saptanmak için grafiğe aktarıldı."
   ]
  },
  {
   "cell_type": "code",
   "execution_count": 18,
   "id": "523b0c00-8fa6-43bd-aff4-05390127f4f9",
   "metadata": {},
   "outputs": [],
   "source": [
    "main_df = df"
   ]
  },
  {
   "cell_type": "code",
   "execution_count": 19,
   "id": "689ed912-4291-4953-9d2e-1ff41ac10391",
   "metadata": {},
   "outputs": [],
   "source": [
    "#Aykırı değer hesaplama fonksiyonu oluşturdum "
   ]
  },
  {
   "cell_type": "code",
   "execution_count": 20,
   "id": "5deb4af7-2621-4334-acc7-2755108bebc4",
   "metadata": {},
   "outputs": [],
   "source": [
    "def iqr_calculation(main_df,col):\n",
    "    Q1 = np.percentile(col,25,interpolation = 'midpoint')\n",
    "    Q3 = np.percentile(col,75,interpolation = 'midpoint')\n",
    "    IQR = Q3 - Q1\n",
    "    upper = np.where(col>=(Q3+1.5*IQR))\n",
    "    lower = np.where(col<=(Q1-1.5*IQR))\n",
    "    return upper,lower\n"
   ]
  },
  {
   "cell_type": "code",
   "execution_count": 21,
   "id": "98b2ba58-017d-4222-9a30-3e24fe54ca54",
   "metadata": {},
   "outputs": [],
   "source": [
    "#Aykırı değer silme fonksiyonu oluşturdum."
   ]
  },
  {
   "cell_type": "code",
   "execution_count": 22,
   "id": "3b3df720-1ce7-4605-86ef-3fdcd719d83c",
   "metadata": {},
   "outputs": [],
   "source": [
    "def remove_outliers(main_df,upper,lower):\n",
    "    main_df.drop(upper[0], inplace = True)\n",
    "    main_df.drop(lower[0], inplace = True)\n",
    "    print(\"New Shape: \", main_df.shape)\n",
    "    return main_df"
   ]
  },
  {
   "cell_type": "code",
   "execution_count": 23,
   "id": "150dd94d-7210-40d5-8a38-72ad2aeb8786",
   "metadata": {},
   "outputs": [],
   "source": [
    "#Bulunan aykırı değerin oluşturdum fonksiyonlar sayesinde index numarasına göre sildim veher seferinde resetleme işlemi yaptım."
   ]
  },
  {
   "cell_type": "code",
   "execution_count": 24,
   "id": "df075431-71d5-477d-9268-f7a370d38edb",
   "metadata": {},
   "outputs": [],
   "source": [
    "def reset_dataframe(main_df):\n",
    "    main_df.reset_index(inplace=True)\n",
    "    main_df.drop(columns=['index'],inplace=True)\n",
    "    return main_df "
   ]
  },
  {
   "cell_type": "code",
   "execution_count": 25,
   "id": "514b6488-0cf8-4d8c-9291-8da6204b4be4",
   "metadata": {},
   "outputs": [],
   "source": [
    "#Aykırı değerler silindikten sonra yeni oluşan verilerimin şeklini belirttim."
   ]
  },
  {
   "cell_type": "code",
   "execution_count": 26,
   "id": "99b897cc-0f04-44b3-a546-ba7ccf4b7c1e",
   "metadata": {},
   "outputs": [
    {
     "name": "stdout",
     "output_type": "stream",
     "text": [
      "For  fixed acidity\n",
      "New Shape:  (1550, 12)\n",
      "For  volatile acidity\n",
      "New Shape:  (1530, 12)\n",
      "For  citric acid\n",
      "New Shape:  (1529, 12)\n",
      "For  residual sugar\n",
      "New Shape:  (1391, 12)\n",
      "For  chlorides\n",
      "New Shape:  (1289, 12)\n",
      "For  free sulfur dioxide\n",
      "New Shape:  (1263, 12)\n",
      "For  total sulfur dioxide\n",
      "New Shape:  (1213, 12)\n",
      "For  density\n",
      "New Shape:  (1186, 12)\n",
      "For  pH\n",
      "New Shape:  (1166, 12)\n",
      "For  sulphates\n",
      "New Shape:  (1139, 12)\n",
      "For  alcohol\n",
      "New Shape:  (1134, 12)\n"
     ]
    }
   ],
   "source": [
    "for i in range(0,len(main_df.columns)-1):\n",
    "    print('For ',df.columns[i])\n",
    "    upper, lower = iqr_calculation(main_df,df[df.columns[i]])\n",
    "    main_df = remove_outliers(main_df,upper,lower)\n",
    "    df_final = reset_dataframe(main_df)"
   ]
  },
  {
   "cell_type": "code",
   "execution_count": 27,
   "id": "84728d75-4a86-42d0-bb15-a573496b2296",
   "metadata": {},
   "outputs": [
    {
     "data": {
      "image/png": "[encoded data removed]",
      "text/plain": [
       "<Figure size 1440x1800 with 12 Axes>"
      ]
     },
     "metadata": {
      "needs_background": "light"
     },
     "output_type": "display_data"
    }
   ],
   "source": [
    "fig, axes = plt.subplots(6,2, figsize=(20,25))\n",
    "fig.suptitle('Box Plot After Removing the Outliers')\n",
    "k = 0\n",
    "for i in range(0,6):\n",
    "    for j in range(0,2):\n",
    "        col_name = df_final.columns[k]\n",
    "        sns.boxplot(ax=axes[i,j], data=df_final,x=col_name,palette='Set3')\n",
    "        k=k+1"
   ]
  },
  {
   "cell_type": "code",
   "execution_count": 28,
   "id": "f1e4716b-8c87-4c10-99b2-dcfcca962d81",
   "metadata": {},
   "outputs": [],
   "source": [
    "#Yeni oluşturduğum veri setinin grafiğine baktım."
   ]
  },
  {
   "cell_type": "code",
   "execution_count": 29,
   "id": "2b1e4321-bb0e-49b4-b703-f06b52ab428e",
   "metadata": {},
   "outputs": [],
   "source": [
    "y = df_final[\"quality\"]\n",
    "X= df_final.drop([\"quality\"], axis=1).astype(\"float64\")"
   ]
  },
  {
   "cell_type": "code",
   "execution_count": 30,
   "id": "9b25a3df-4f8b-4c00-b0c1-b7426110cf40",
   "metadata": {},
   "outputs": [],
   "source": [
    "#Test train işlemi yaparak verimi ayırdım ."
   ]
  },
  {
   "cell_type": "code",
   "execution_count": 31,
   "id": "10828f91-b580-48be-9cb8-944b6f3df4fa",
   "metadata": {},
   "outputs": [
    {
     "name": "stdout",
     "output_type": "stream",
     "text": [
      "X_train (850, 11)\n",
      "y_train (850,)\n",
      "X_test (284, 11)\n",
      "y_test (284,)\n",
      "training (1134, 12)\n"
     ]
    }
   ],
   "source": [
    "X_train, X_test, y_train, y_test = train_test_split(X, \n",
    "                                                    y, \n",
    "                                                    test_size=0.25, \n",
    "                                                    random_state=42)\n",
    "\n",
    "print(\"X_train\", X_train.shape)\n",
    "\n",
    "print(\"y_train\",y_train.shape)\n",
    "\n",
    "print(\"X_test\",X_test.shape)\n",
    "\n",
    "print(\"y_test\",y_test.shape)\n",
    "\n",
    "training = df.copy()\n",
    "\n",
    "print(\"training\", training.shape)"
   ]
  },
  {
   "cell_type": "code",
   "execution_count": 32,
   "id": "53f87174-7b17-4922-b4d6-3a5c49c17e13",
   "metadata": {},
   "outputs": [],
   "source": [
    "from sklearn.decomposition import PCA\n",
    "from sklearn.preprocessing import scale \n",
    "pca = PCA(3)"
   ]
  },
  {
   "cell_type": "code",
   "execution_count": 33,
   "id": "38d69578-c681-461d-86d3-16c584fd8dc4",
   "metadata": {},
   "outputs": [],
   "source": [
    "#pca uygulayarak verini 3 boyuta indirgedim ve %61.31 lik bir doğruluk payı elde ettim"
   ]
  },
  {
   "cell_type": "code",
   "execution_count": 34,
   "id": "05317e39-1b11-4bfb-b6b3-b9a155afc9fe",
   "metadata": {},
   "outputs": [
    {
     "data": {
      "text/plain": [
       "(850, 3)"
      ]
     },
     "execution_count": 34,
     "metadata": {},
     "output_type": "execute_result"
    }
   ],
   "source": [
    "X_reduced_train = pca.fit_transform(scale(X_train))\n",
    "X_reduced_train .shape"
   ]
  },
  {
   "cell_type": "code",
   "execution_count": 35,
   "id": "a659374d-686b-44d8-8c14-16cf9264e6eb",
   "metadata": {},
   "outputs": [
    {
     "data": {
      "text/plain": [
       "array([25.84, 45.85, 61.31])"
      ]
     },
     "execution_count": 35,
     "metadata": {},
     "output_type": "execute_result"
    }
   ],
   "source": [
    "np.cumsum(np.round(pca.explained_variance_ratio_, decimals = 4)*100)[0:5]"
   ]
  },
  {
   "cell_type": "code",
   "execution_count": 36,
   "id": "52bf1afd-5201-4c3c-8b98-03fe34f9e407",
   "metadata": {},
   "outputs": [],
   "source": [
    "# LinearRegression modelini oluşturdum"
   ]
  },
  {
   "cell_type": "code",
   "execution_count": 37,
   "id": "049d69f8-540b-453f-a7fe-d54057303c25",
   "metadata": {},
   "outputs": [],
   "source": [
    "lm = LinearRegression()"
   ]
  },
  {
   "cell_type": "code",
   "execution_count": 38,
   "id": "cd5b1e80-33b2-466d-9f6b-073b62997cde",
   "metadata": {},
   "outputs": [],
   "source": [
    "pcr_model = lm.fit(X_reduced_train, y_train)"
   ]
  },
  {
   "cell_type": "code",
   "execution_count": 39,
   "id": "e7dabd25-84c5-4180-b560-657514e05060",
   "metadata": {},
   "outputs": [
    {
     "data": {
      "text/plain": [
       "5.628235294117647"
      ]
     },
     "execution_count": 39,
     "metadata": {},
     "output_type": "execute_result"
    }
   ],
   "source": [
    "pcr_model.intercept_"
   ]
  },
  {
   "cell_type": "code",
   "execution_count": 40,
   "id": "8d9a4554-bbc5-4c1a-adfc-56a1d84e9cfd",
   "metadata": {},
   "outputs": [
    {
     "data": {
      "text/plain": [
       "array([0.06260528, 0.27389348, 0.12109562])"
      ]
     },
     "execution_count": 40,
     "metadata": {},
     "output_type": "execute_result"
    }
   ],
   "source": [
    "pcr_model.coef_"
   ]
  },
  {
   "cell_type": "code",
   "execution_count": 41,
   "id": "747a8ea0-533a-49bc-a2e9-f6bde0e4f622",
   "metadata": {},
   "outputs": [],
   "source": [
    "y_pred = pcr_model.predict(X_reduced_train)"
   ]
  },
  {
   "cell_type": "code",
   "execution_count": 42,
   "id": "84cdf325-6ae4-4ffd-a7fd-087359e485b6",
   "metadata": {},
   "outputs": [
    {
     "data": {
      "text/plain": [
       "array([5.20707482, 6.10000067, 5.14457981, 5.4855387 , 5.61684813])"
      ]
     },
     "execution_count": 42,
     "metadata": {},
     "output_type": "execute_result"
    }
   ],
   "source": [
    "y_pred[0:5]"
   ]
  },
  {
   "cell_type": "code",
   "execution_count": 43,
   "id": "cd85d7ec-bf5c-4dfd-8bc0-1512ab05bccd",
   "metadata": {},
   "outputs": [],
   "source": [
    "#indirgenmiş verinin sapma değeri bulundu."
   ]
  },
  {
   "cell_type": "code",
   "execution_count": 44,
   "id": "fe94e731-1064-458f-9754-5d3c2ee000b8",
   "metadata": {},
   "outputs": [
    {
     "data": {
      "text/plain": [
       "0.620704670274781"
      ]
     },
     "execution_count": 44,
     "metadata": {},
     "output_type": "execute_result"
    }
   ],
   "source": [
    "np.sqrt(mean_squared_error(y_train, y_pred))"
   ]
  },
  {
   "cell_type": "code",
   "execution_count": 45,
   "id": "8f13cc04-944d-4865-b571-5d40b3cff458",
   "metadata": {},
   "outputs": [
    {
     "data": {
      "text/plain": [
       "5.635802469135802"
      ]
     },
     "execution_count": 45,
     "metadata": {},
     "output_type": "execute_result"
    }
   ],
   "source": [
    "df[\"quality\"].mean()"
   ]
  },
  {
   "cell_type": "code",
   "execution_count": 46,
   "id": "3c464e3e-5b01-453b-9d49-1e8b4f16131b",
   "metadata": {},
   "outputs": [
    {
     "data": {
      "text/plain": [
       "0.3430923556111283"
      ]
     },
     "execution_count": 46,
     "metadata": {},
     "output_type": "execute_result"
    }
   ],
   "source": [
    "r2_score(y_train, y_pred)"
   ]
  },
  {
   "cell_type": "code",
   "execution_count": 47,
   "id": "6c848cee-0ee6-4147-8e24-04cb9156a251",
   "metadata": {},
   "outputs": [],
   "source": [
    "pca2 = PCA(3)"
   ]
  },
  {
   "cell_type": "code",
   "execution_count": 48,
   "id": "2de2376b-939c-4fc7-9a73-ef9d17fca44d",
   "metadata": {},
   "outputs": [
    {
     "data": {
      "text/plain": [
       "(284, 3)"
      ]
     },
     "execution_count": 48,
     "metadata": {},
     "output_type": "execute_result"
    }
   ],
   "source": [
    "X_reduced_test = pca2.fit_transform(scale(X_test))\n",
    "X_reduced_test.shape"
   ]
  },
  {
   "cell_type": "code",
   "execution_count": 49,
   "id": "6e280075-e6dc-44a6-82f2-20db30d67cf2",
   "metadata": {},
   "outputs": [],
   "source": [
    "y_pred = pcr_model.predict(X_reduced_test)"
   ]
  },
  {
   "cell_type": "code",
   "execution_count": 50,
   "id": "0de508db-0fae-4918-9f3f-09838cf797ce",
   "metadata": {},
   "outputs": [
    {
     "data": {
      "text/plain": [
       "0.6354621092197282"
      ]
     },
     "execution_count": 50,
     "metadata": {},
     "output_type": "execute_result"
    }
   ],
   "source": [
    "np.sqrt(mean_squared_error(y_test, y_pred))"
   ]
  },
  {
   "cell_type": "code",
   "execution_count": 51,
   "id": "3189d57c-622b-497d-99da-60355b5ca701",
   "metadata": {},
   "outputs": [
    {
     "name": "stdout",
     "output_type": "stream",
     "text": [
      "0.6354621092197282\n"
     ]
    }
   ],
   "source": [
    "lm = LinearRegression()\n",
    "pcr_model = lm.fit(X_reduced_train[:,0:10], y_train)\n",
    "y_pred = pcr_model.predict(X_reduced_test[:,0:10])\n",
    "print(np.sqrt(mean_squared_error(y_test, y_pred)))"
   ]
  },
  {
   "cell_type": "code",
   "execution_count": 52,
   "id": "cbbee6b6-fa81-45a0-88b1-371ec29984a0",
   "metadata": {},
   "outputs": [],
   "source": [
    "#sapma payı hesaplandı."
   ]
  },
  {
   "cell_type": "code",
   "execution_count": 53,
   "id": "21aa1914-b127-49b2-ac17-22050ce14158",
   "metadata": {},
   "outputs": [],
   "source": [
    "from sklearn import model_selection"
   ]
  },
  {
   "cell_type": "code",
   "execution_count": 54,
   "id": "58de2baf-bed3-4440-9f99-3f518ba36200",
   "metadata": {},
   "outputs": [],
   "source": [
    "cv_10 = model_selection.KFold(n_splits = 10,\n",
    "                             shuffle = True,\n",
    "                             random_state = 1)"
   ]
  },
  {
   "cell_type": "code",
   "execution_count": 55,
   "id": "99096473-fb24-4b51-a488-b1eb32e80397",
   "metadata": {},
   "outputs": [],
   "source": [
    "lm = LinearRegression()"
   ]
  },
  {
   "cell_type": "code",
   "execution_count": 56,
   "id": "e47e3f0f-5657-460f-90b1-b61507650cce",
   "metadata": {},
   "outputs": [],
   "source": [
    "RMSE = []"
   ]
  },
  {
   "cell_type": "code",
   "execution_count": 57,
   "id": "76d17892-bbb2-479b-ab32-fb72354cf10d",
   "metadata": {},
   "outputs": [],
   "source": [
    "for i in np.arange(1, X_reduced_train.shape[1] + 1):\n",
    "    \n",
    "    score = np.sqrt(-1*model_selection.cross_val_score(lm, \n",
    "                                                       X_reduced_train[:,:i], \n",
    "                                                       y_train.ravel(), \n",
    "                                                       cv=cv_10, \n",
    "                                                       scoring='neg_mean_squared_error').mean())\n",
    "    RMSE.append(score)"
   ]
  },
  {
   "cell_type": "code",
   "execution_count": 58,
   "id": "0d0ad7e7-c9db-4565-8b95-f7a036f57d80",
   "metadata": {},
   "outputs": [
    {
     "data": {
      "image/png": "[encoded data removed]",
      "text/plain": [
       "<Figure size 432x288 with 1 Axes>"
      ]
     },
     "metadata": {
      "needs_background": "light"
     },
     "output_type": "display_data"
    }
   ],
   "source": [
    "plt.plot(RMSE, '-v')\n",
    "plt.xlabel('Bileşen Sayısı')\n",
    "plt.ylabel('RMSE')\n",
    "plt.title('Şarap kalitesi için PCR Model Tuning');"
   ]
  },
  {
   "cell_type": "code",
   "execution_count": 59,
   "id": "1e845274-ecbc-447b-bdd4-45edd4217cc4",
   "metadata": {},
   "outputs": [],
   "source": [
    "#hatanın boyutlara göre gösterilmesi ."
   ]
  },
  {
   "cell_type": "code",
   "execution_count": 60,
   "id": "5854bdd1-9c9b-456c-b19a-511b199230c9",
   "metadata": {},
   "outputs": [],
   "source": [
    "lm = LinearRegression()"
   ]
  },
  {
   "cell_type": "code",
   "execution_count": 61,
   "id": "eba15c65-ec38-497e-be26-c435eb680bc9",
   "metadata": {},
   "outputs": [
    {
     "data": {
      "text/plain": [
       "LinearRegression()"
      ]
     },
     "execution_count": 61,
     "metadata": {},
     "output_type": "execute_result"
    }
   ],
   "source": [
    "pcr_model = lm.fit(X_reduced_train[:,0:10], y_train)\n",
    "\n",
    "pcr_model"
   ]
  },
  {
   "cell_type": "code",
   "execution_count": 62,
   "id": "ac40f9ac-614d-4036-af44-998841d491d5",
   "metadata": {},
   "outputs": [
    {
     "data": {
      "text/plain": [
       "(850, 3)"
      ]
     },
     "execution_count": 62,
     "metadata": {},
     "output_type": "execute_result"
    }
   ],
   "source": [
    "y_pred = pcr_model.predict(X_reduced_train[:,0:10])\n",
    "X_reduced_train.shape\n"
   ]
  },
  {
   "cell_type": "code",
   "execution_count": 63,
   "id": "92153927-e10d-41d7-add0-d480adfbbe51",
   "metadata": {},
   "outputs": [
    {
     "name": "stdout",
     "output_type": "stream",
     "text": [
      "0.620704670274781\n"
     ]
    }
   ],
   "source": [
    "print(np.sqrt(mean_squared_error(y_train, y_pred)))"
   ]
  },
  {
   "cell_type": "code",
   "execution_count": 64,
   "id": "ad7c5bfb-0a0c-40b2-aad4-8a1787b3219a",
   "metadata": {},
   "outputs": [
    {
     "data": {
      "text/plain": [
       "(284, 3)"
      ]
     },
     "execution_count": 64,
     "metadata": {},
     "output_type": "execute_result"
    }
   ],
   "source": [
    "y_pred = pcr_model.predict(X_reduced_test[:,0:6])\n",
    "X_reduced_test.shape"
   ]
  },
  {
   "cell_type": "code",
   "execution_count": 65,
   "id": "68f64e27-c341-4291-a72d-c6de6e639623",
   "metadata": {},
   "outputs": [
    {
     "name": "stdout",
     "output_type": "stream",
     "text": [
      "0.6354621092197282\n"
     ]
    }
   ],
   "source": [
    "print(np.sqrt(mean_squared_error(y_test, y_pred)))"
   ]
  },
  {
   "cell_type": "code",
   "execution_count": 66,
   "id": "0ed66832-4ad5-4aa6-9f33-4d371965b1f2",
   "metadata": {},
   "outputs": [],
   "source": [
    "#kurulan LinearRegression algoritması sapma değeri."
   ]
  },
  {
   "cell_type": "code",
   "execution_count": 67,
   "id": "dfabd34d-cdc0-460e-8dec-cf9eb7dc411c",
   "metadata": {},
   "outputs": [],
   "source": [
    "#KNN-veri setini train ve test olarak ayırdım."
   ]
  },
  {
   "cell_type": "code",
   "execution_count": 68,
   "id": "8d55d41a-cc2a-4d3c-ac0d-9495ed3b147e",
   "metadata": {},
   "outputs": [],
   "source": [
    "X_train, X_test, y_train, y_test = train_test_split(X, \n",
    "                                                    y, \n",
    "                                                    test_size=0.25, \n",
    "                                                    random_state=42)\n"
   ]
  },
  {
   "cell_type": "code",
   "execution_count": 69,
   "id": "e590cd5b-40d5-41e8-b76f-3bfa1f69d8b4",
   "metadata": {},
   "outputs": [],
   "source": [
    "knn_model = KNeighborsRegressor().fit(X_train, y_train)"
   ]
  },
  {
   "cell_type": "code",
   "execution_count": 70,
   "id": "31a7ce3d-0c68-4b1c-9e33-9f72013b6b0e",
   "metadata": {},
   "outputs": [],
   "source": [
    "lm = LinearRegression()"
   ]
  },
  {
   "cell_type": "code",
   "execution_count": 71,
   "id": "1030928d-32d9-451d-9876-8c9ee9bebda0",
   "metadata": {},
   "outputs": [
    {
     "data": {
      "text/plain": [
       "KNeighborsRegressor()"
      ]
     },
     "execution_count": 71,
     "metadata": {},
     "output_type": "execute_result"
    }
   ],
   "source": [
    "knn_model"
   ]
  },
  {
   "cell_type": "code",
   "execution_count": 72,
   "id": "5dd2ac5e-3e43-4bbd-b7ec-fb120ade850a",
   "metadata": {},
   "outputs": [],
   "source": [
    "y_pred = knn_model.predict(X_test)"
   ]
  },
  {
   "cell_type": "code",
   "execution_count": 73,
   "id": "f49ec244-5b53-4d03-add3-73f8ac739475",
   "metadata": {},
   "outputs": [
    {
     "data": {
      "text/plain": [
       "0.7177821867430493"
      ]
     },
     "execution_count": 73,
     "metadata": {},
     "output_type": "execute_result"
    }
   ],
   "source": [
    "np.sqrt(mean_squared_error(y_test, y_pred))"
   ]
  },
  {
   "cell_type": "code",
   "execution_count": 74,
   "id": "dd9e0925-eb41-4320-af99-de0f429aed87",
   "metadata": {},
   "outputs": [],
   "source": [
    "#knn modeline göre sapma değeri."
   ]
  },
  {
   "cell_type": "code",
   "execution_count": 75,
   "id": "9c02ff69-e7a9-47df-b1fb-74d5c653c2ec",
   "metadata": {},
   "outputs": [
    {
     "name": "stdout",
     "output_type": "stream",
     "text": [
      "k = 1 için RMSE değeri:  0.0\n",
      "k = 2 için RMSE değeri:  0.4032952501871668\n",
      "k = 3 için RMSE değeri:  0.49069778247460033\n",
      "k = 4 için RMSE değeri:  0.5441534169482634\n",
      "k = 5 için RMSE değeri:  0.5782326012743233\n",
      "k = 6 için RMSE değeri:  0.5933729883201406\n",
      "k = 7 için RMSE değeri:  0.606210356558315\n",
      "k = 8 için RMSE değeri:  0.6195052580131039\n",
      "k = 9 için RMSE değeri:  0.6328917162307413\n",
      "k = 10 için RMSE değeri:  0.6374489598945066\n"
     ]
    }
   ],
   "source": [
    "RMSE = [] \n",
    "\n",
    "for k in range(10):\n",
    "    k = k+1\n",
    "    knn_model = KNeighborsRegressor(n_neighbors = k).fit(X_train, y_train)\n",
    "    y_pred = knn_model.predict(X_train) \n",
    "    rmse = np.sqrt(mean_squared_error(y_train,y_pred)) \n",
    "    RMSE.append(rmse) \n",
    "    print(\"k =\" , k , \"için RMSE değeri: \", rmse)\n"
   ]
  },
  {
   "cell_type": "code",
   "execution_count": 76,
   "id": "86d39911-5a51-4241-88e8-b36924375d83",
   "metadata": {},
   "outputs": [],
   "source": [
    "knn_model = KNeighborsRegressor().fit(X_reduced_train, y_train)\n"
   ]
  },
  {
   "cell_type": "code",
   "execution_count": 77,
   "id": "01527ccc-814a-4f54-b2d1-920023c166c4",
   "metadata": {},
   "outputs": [],
   "source": [
    "#knn modelinde ki komşu sayısı değişimiyle hatanın değişimi gözlendi."
   ]
  },
  {
   "cell_type": "code",
   "execution_count": 78,
   "id": "8542d952-db57-40c0-b192-ae2b69ad6edb",
   "metadata": {},
   "outputs": [],
   "source": [
    "from sklearn.model_selection import GridSearchCV"
   ]
  },
  {
   "cell_type": "code",
   "execution_count": 79,
   "id": "ed602311-c237-44ba-b18d-f4353014d9c6",
   "metadata": {},
   "outputs": [],
   "source": [
    "knn_params = {'n_neighbors': np.arange(1,30,1)}"
   ]
  },
  {
   "cell_type": "code",
   "execution_count": 80,
   "id": "e048da69-c068-470e-a4f7-02981f91b325",
   "metadata": {},
   "outputs": [],
   "source": [
    "knn = KNeighborsRegressor()"
   ]
  },
  {
   "cell_type": "code",
   "execution_count": 81,
   "id": "3db9fac7-18c7-4552-9519-d66798f9497d",
   "metadata": {},
   "outputs": [],
   "source": [
    "knn_cv_model = GridSearchCV(knn, knn_params, cv = 10)"
   ]
  },
  {
   "cell_type": "code",
   "execution_count": 82,
   "id": "59a5db83-5178-4f0d-ac54-8ca941a09f6e",
   "metadata": {},
   "outputs": [
    {
     "data": {
      "text/plain": [
       "GridSearchCV(cv=10, estimator=KNeighborsRegressor(),\n",
       "             param_grid={'n_neighbors': array([ 1,  2,  3,  4,  5,  6,  7,  8,  9, 10, 11, 12, 13, 14, 15, 16, 17,\n",
       "       18, 19, 20, 21, 22, 23, 24, 25, 26, 27, 28, 29])})"
      ]
     },
     "execution_count": 82,
     "metadata": {},
     "output_type": "execute_result"
    }
   ],
   "source": [
    "knn_cv_model.fit(X_train, y_train)"
   ]
  },
  {
   "cell_type": "code",
   "execution_count": 83,
   "id": "e6047c10-241b-4ef7-bb96-1d3f70525e2b",
   "metadata": {},
   "outputs": [
    {
     "data": {
      "text/plain": [
       "11"
      ]
     },
     "execution_count": 83,
     "metadata": {},
     "output_type": "execute_result"
    }
   ],
   "source": [
    "knn_cv_model.best_params_[\"n_neighbors\"]"
   ]
  },
  {
   "cell_type": "code",
   "execution_count": 84,
   "id": "f4bb83bb-ad28-49f3-a4ae-e962d8671fe6",
   "metadata": {},
   "outputs": [],
   "source": [
    "knn_tuned = KNeighborsRegressor(n_neighbors = knn_cv_model.best_params_[\"n_neighbors\"])"
   ]
  },
  {
   "cell_type": "code",
   "execution_count": 85,
   "id": "7e4b8812-a0e3-4416-8885-4cc99e077a0b",
   "metadata": {},
   "outputs": [
    {
     "data": {
      "text/plain": [
       "KNeighborsRegressor(n_neighbors=11)"
      ]
     },
     "execution_count": 85,
     "metadata": {},
     "output_type": "execute_result"
    }
   ],
   "source": [
    "knn_tuned.fit(X_train, y_train)"
   ]
  },
  {
   "cell_type": "code",
   "execution_count": 86,
   "id": "04e19c85-95a4-4999-beb7-8f726e960f96",
   "metadata": {},
   "outputs": [
    {
     "data": {
      "text/plain": [
       "0.6694351394197087"
      ]
     },
     "execution_count": 86,
     "metadata": {},
     "output_type": "execute_result"
    }
   ],
   "source": [
    "np.sqrt(mean_squared_error(y_test, knn_tuned.predict(X_test)))"
   ]
  },
  {
   "cell_type": "code",
   "execution_count": 87,
   "id": "d905d236-ea6a-4bf9-87a0-de8b882bb6bd",
   "metadata": {},
   "outputs": [],
   "source": [
    "# knnn algoritmasıyla model kurularak doğu parmetre bulundu ve en iyi sapma değeri belirlendi."
   ]
  },
  {
   "cell_type": "code",
   "execution_count": 88,
   "id": "ce367f3b-9657-48a7-98b4-10d543344e2b",
   "metadata": {},
   "outputs": [],
   "source": [
    "##SVR (Destek Vektör Regresyonu)"
   ]
  },
  {
   "cell_type": "code",
   "execution_count": 89,
   "id": "1a6fac6c-a43b-459f-9937-08fccd2bdc34",
   "metadata": {},
   "outputs": [],
   "source": [
    "X_train, X_test, y_train, y_test = train_test_split(X, \n",
    "                                                    y, \n",
    "                                                    test_size=0.25, \n",
    "                                                    random_state=42)\n"
   ]
  },
  {
   "cell_type": "code",
   "execution_count": 90,
   "id": "4d8c1416-fe9c-432d-82c9-062cfd5ba86f",
   "metadata": {},
   "outputs": [],
   "source": [
    "from sklearn.svm import SVR"
   ]
  },
  {
   "cell_type": "code",
   "execution_count": 91,
   "id": "6ba18639-fb28-4d64-825c-cc8e0e68be9f",
   "metadata": {},
   "outputs": [],
   "source": [
    "svr_rbf = SVR(\"rbf\").fit(X_train, y_train)"
   ]
  },
  {
   "cell_type": "code",
   "execution_count": 92,
   "id": "42abd93b-bf9a-4aca-a581-5b226887e6cf",
   "metadata": {},
   "outputs": [],
   "source": [
    "y_pred = svr_rbf.predict(X_test)"
   ]
  },
  {
   "cell_type": "code",
   "execution_count": 93,
   "id": "b2d280b9-c5b1-40ba-aa71-313bd1a53d1d",
   "metadata": {},
   "outputs": [
    {
     "data": {
      "text/plain": [
       "0.6712950277996568"
      ]
     },
     "execution_count": 93,
     "metadata": {},
     "output_type": "execute_result"
    }
   ],
   "source": [
    "np.sqrt(mean_squared_error(y_test, y_pred))"
   ]
  },
  {
   "cell_type": "code",
   "execution_count": 94,
   "id": "288cce03-2685-4b76-9f53-02dc8e8ec3db",
   "metadata": {},
   "outputs": [],
   "source": [
    "#svr model ile sapma değeri bulundu."
   ]
  },
  {
   "cell_type": "code",
   "execution_count": 95,
   "id": "86cbaa54-9041-46e3-accf-0495729bc816",
   "metadata": {},
   "outputs": [
    {
     "data": {
      "text/plain": [
       "SVR()"
      ]
     },
     "execution_count": 95,
     "metadata": {},
     "output_type": "execute_result"
    }
   ],
   "source": [
    "svr_rbf"
   ]
  },
  {
   "cell_type": "code",
   "execution_count": 96,
   "id": "93fb3bd7-72df-4ab5-826f-40de006d1682",
   "metadata": {},
   "outputs": [
    {
     "data": {
      "text/plain": [
       "GridSearchCV(cv=10, estimator=SVR(),\n",
       "             param_grid={'C': [0.01, 0.1, 0.4, 5, 10, 20, 30, 40, 50]})"
      ]
     },
     "execution_count": 96,
     "metadata": {},
     "output_type": "execute_result"
    }
   ],
   "source": [
    "svr_params = {\"C\": [0.01, 0.1,0.4,5,10,20,30,40,50]}\n",
    "svr_cv_model = GridSearchCV(svr_rbf,svr_params, cv = 10)\n",
    "svr_cv_model.fit(X_train, y_train)"
   ]
  },
  {
   "cell_type": "code",
   "execution_count": 97,
   "id": "0fc5386f-be3a-489f-a974-37d6322bd100",
   "metadata": {},
   "outputs": [
    {
     "data": {
      "text/plain": [
       "50"
      ]
     },
     "execution_count": 97,
     "metadata": {},
     "output_type": "execute_result"
    }
   ],
   "source": [
    "pd.Series(svr_cv_model.best_params_)[0]"
   ]
  },
  {
   "cell_type": "code",
   "execution_count": 98,
   "id": "cbc88c4b-9da5-4d27-aa44-e7fbecbcb313",
   "metadata": {},
   "outputs": [],
   "source": [
    "svr_tuned = SVR(\"rbf\", C = pd.Series(svr_cv_model.best_params_)[0]).fit(X_train, \n",
    "                                                                        y_train)"
   ]
  },
  {
   "cell_type": "code",
   "execution_count": 99,
   "id": "abc3a3ff-3c0d-4adb-a885-227df7e8cf91",
   "metadata": {},
   "outputs": [
    {
     "data": {
      "text/plain": [
       "0.6237720558243319"
      ]
     },
     "execution_count": 99,
     "metadata": {},
     "output_type": "execute_result"
    }
   ],
   "source": [
    "y_pred = svr_tuned.predict(X_test)\n",
    "\n",
    "np.sqrt(mean_squared_error(y_test, y_pred))"
   ]
  },
  {
   "cell_type": "code",
   "execution_count": 100,
   "id": "a2e1a2fe-bf63-4690-a299-bbfa1deaba89",
   "metadata": {},
   "outputs": [],
   "source": [
    "# svr algoritmasıyla model kurularak doğru parmetre bulundu ve en iyi sapma değeri belirlendi."
   ]
  },
  {
   "cell_type": "code",
   "execution_count": 101,
   "id": "ff19674c-2d9d-452e-a467-222740fa3ff3",
   "metadata": {},
   "outputs": [],
   "source": [
    "## yapay sinir ağı"
   ]
  },
  {
   "cell_type": "code",
   "execution_count": 102,
   "id": "e7def329-8e8e-45ff-aabd-500ad3e9b575",
   "metadata": {},
   "outputs": [],
   "source": [
    "X_train, X_test, y_train, y_test = train_test_split(X, \n",
    "                                                    y, \n",
    "                                                    test_size=0.25, \n",
    "                                                    random_state=42)\n"
   ]
  },
  {
   "cell_type": "code",
   "execution_count": 103,
   "id": "0a4e1ea2-0cab-433f-9d6e-08cd722b6ad1",
   "metadata": {},
   "outputs": [],
   "source": [
    "from sklearn.preprocessing import StandardScaler"
   ]
  },
  {
   "cell_type": "code",
   "execution_count": 104,
   "id": "32b6e0f0-011b-417e-80dc-ff5a08c7a8fa",
   "metadata": {},
   "outputs": [
    {
     "data": {
      "text/plain": [
       "StandardScaler()"
      ]
     },
     "execution_count": 104,
     "metadata": {},
     "output_type": "execute_result"
    }
   ],
   "source": [
    "scaler = StandardScaler()\n",
    "scaler.fit(X_train)"
   ]
  },
  {
   "cell_type": "code",
   "execution_count": 105,
   "id": "0390f8ae-76b4-4714-be70-d9eb702d602c",
   "metadata": {},
   "outputs": [],
   "source": [
    "X_train_scaled = scaler.transform(X_train)"
   ]
  },
  {
   "cell_type": "code",
   "execution_count": 106,
   "id": "66784aa9-8da9-4c66-8daa-eba465d69fb3",
   "metadata": {},
   "outputs": [],
   "source": [
    "X_test_scaled = scaler.transform(X_test)"
   ]
  },
  {
   "cell_type": "code",
   "execution_count": 107,
   "id": "77f8575d-8dd9-4771-8f9f-cf9bf80f615c",
   "metadata": {},
   "outputs": [],
   "source": [
    "from sklearn.neural_network import MLPRegressor"
   ]
  },
  {
   "cell_type": "code",
   "execution_count": 108,
   "id": "de498fdb-c3d3-4630-a62d-411c99f0107b",
   "metadata": {},
   "outputs": [],
   "source": [
    "mlp_model = MLPRegressor(hidden_layer_sizes = (100,20)).fit(X_train_scaled, y_train)"
   ]
  },
  {
   "cell_type": "code",
   "execution_count": 109,
   "id": "be75eb56-1eb3-429e-b29a-9b41e3a5deb0",
   "metadata": {},
   "outputs": [
    {
     "data": {
      "text/plain": [
       "MLPRegressor(hidden_layer_sizes=(100, 20))"
      ]
     },
     "execution_count": 109,
     "metadata": {},
     "output_type": "execute_result"
    }
   ],
   "source": [
    "mlp_model"
   ]
  },
  {
   "cell_type": "code",
   "execution_count": 110,
   "id": "aa4ed024-d956-4cee-97f8-b1efce6ef71d",
   "metadata": {},
   "outputs": [
    {
     "data": {
      "text/plain": [
       "4"
      ]
     },
     "execution_count": 110,
     "metadata": {},
     "output_type": "execute_result"
    }
   ],
   "source": [
    "mlp_model.n_layers_"
   ]
  },
  {
   "cell_type": "code",
   "execution_count": 111,
   "id": "e6b69bfa-5115-4c97-9027-37df3d5a7529",
   "metadata": {},
   "outputs": [
    {
     "data": {
      "text/plain": [
       "(100, 20)"
      ]
     },
     "execution_count": 111,
     "metadata": {},
     "output_type": "execute_result"
    }
   ],
   "source": [
    "mlp_model.hidden_layer_sizes"
   ]
  },
  {
   "cell_type": "code",
   "execution_count": 112,
   "id": "19d64851-703a-4298-9f99-9c120be3cb9d",
   "metadata": {},
   "outputs": [],
   "source": [
    "y_pred = mlp_model.predict(X_test_scaled)"
   ]
  },
  {
   "cell_type": "code",
   "execution_count": 113,
   "id": "807ea684-1ccf-4c89-bdf0-565daecdb5cd",
   "metadata": {},
   "outputs": [
    {
     "data": {
      "text/plain": [
       "0.6389134919796107"
      ]
     },
     "execution_count": 113,
     "metadata": {},
     "output_type": "execute_result"
    }
   ],
   "source": [
    "np.sqrt(mean_squared_error(y_test, y_pred))"
   ]
  },
  {
   "cell_type": "code",
   "execution_count": 114,
   "id": "02140b2b-3d07-4e44-b8b2-9fd6396ed53b",
   "metadata": {},
   "outputs": [],
   "source": [
    "#yapay sinir ağı ile sapma değeri bulundu."
   ]
  },
  {
   "cell_type": "code",
   "execution_count": 115,
   "id": "f07929d5-a038-4a4f-aa54-6934fc5af68d",
   "metadata": {},
   "outputs": [
    {
     "data": {
      "text/plain": [
       "MLPRegressor(hidden_layer_sizes=(100, 20))"
      ]
     },
     "execution_count": 115,
     "metadata": {},
     "output_type": "execute_result"
    }
   ],
   "source": [
    "mlp_model"
   ]
  },
  {
   "cell_type": "code",
   "execution_count": 116,
   "id": "de0338fb-04bd-4dc7-8ce1-1f66c3a68999",
   "metadata": {},
   "outputs": [],
   "source": [
    "mlp_params = {'alpha': [0.1, 0.01,0.02,0.005],\n",
    "             'hidden_layer_sizes': [(20,20),(100,50,150),(300,200,150)],\n",
    "             'activation': ['relu','logistic']}"
   ]
  },
  {
   "cell_type": "code",
   "execution_count": 117,
   "id": "62aa7f45-5c24-4e9a-8496-497096e40f06",
   "metadata": {},
   "outputs": [],
   "source": [
    "mlp_cv_model = GridSearchCV(mlp_model, mlp_params, cv = 10)"
   ]
  },
  {
   "cell_type": "code",
   "execution_count": 118,
   "id": "baa2b623-8d46-44bb-9c4a-12dcc2316353",
   "metadata": {},
   "outputs": [
    {
     "data": {
      "text/plain": [
       "GridSearchCV(cv=10, estimator=MLPRegressor(hidden_layer_sizes=(100, 20)),\n",
       "             param_grid={'activation': ['relu', 'logistic'],\n",
       "                         'alpha': [0.1, 0.01, 0.02, 0.005],\n",
       "                         'hidden_layer_sizes': [(20, 20), (100, 50, 150),\n",
       "                                                (300, 200, 150)]})"
      ]
     },
     "execution_count": 118,
     "metadata": {},
     "output_type": "execute_result"
    }
   ],
   "source": [
    "mlp_cv_model.fit(X_train_scaled, y_train)"
   ]
  },
  {
   "cell_type": "code",
   "execution_count": 119,
   "id": "6527215d-c7c2-4ae0-888e-3ef0b28d51a9",
   "metadata": {},
   "outputs": [
    {
     "data": {
      "text/plain": [
       "{'activation': 'logistic',\n",
       " 'alpha': 0.01,\n",
       " 'hidden_layer_sizes': (300, 200, 150)}"
      ]
     },
     "execution_count": 119,
     "metadata": {},
     "output_type": "execute_result"
    }
   ],
   "source": [
    "mlp_cv_model.best_params_"
   ]
  },
  {
   "cell_type": "code",
   "execution_count": 120,
   "id": "46096bf3-9e87-434f-b98a-620772b48855",
   "metadata": {},
   "outputs": [],
   "source": [
    "mlp_tuned = MLPRegressor(alpha = 0.01, hidden_layer_sizes = (300, 200, 150))"
   ]
  },
  {
   "cell_type": "code",
   "execution_count": 121,
   "id": "362c39bf-c54c-4144-bc71-69e92378a865",
   "metadata": {},
   "outputs": [
    {
     "data": {
      "text/plain": [
       "MLPRegressor(alpha=0.01, hidden_layer_sizes=(300, 200, 150))"
      ]
     },
     "execution_count": 121,
     "metadata": {},
     "output_type": "execute_result"
    }
   ],
   "source": [
    "mlp_tuned.fit(X_train_scaled, y_train)"
   ]
  },
  {
   "cell_type": "code",
   "execution_count": 122,
   "id": "57499fa1-6f1c-4ffb-85e0-0bf8384826e2",
   "metadata": {},
   "outputs": [],
   "source": [
    "y_pred = mlp_tuned.predict(X_test_scaled)"
   ]
  },
  {
   "cell_type": "code",
   "execution_count": 123,
   "id": "eba33757-8760-48dc-881f-71243c1a2436",
   "metadata": {},
   "outputs": [
    {
     "data": {
      "text/plain": [
       "0.6546882351965916"
      ]
     },
     "execution_count": 123,
     "metadata": {},
     "output_type": "execute_result"
    }
   ],
   "source": [
    "np.sqrt(mean_squared_error(y_test, y_pred))"
   ]
  },
  {
   "cell_type": "code",
   "execution_count": 124,
   "id": "6b124691-178f-44e6-acaa-19c9db53a175",
   "metadata": {},
   "outputs": [],
   "source": [
    "# yapay sinir ağı algoritmasıyla model kurularak doğru parmetre bulundu ve en iyi sapma değeri belirlendi."
   ]
  },
  {
   "cell_type": "code",
   "execution_count": 125,
   "id": "cc28ea8e-4c7c-4974-bbbe-7611fd187dae",
   "metadata": {},
   "outputs": [],
   "source": [
    "#sınıflandırma ağacı"
   ]
  },
  {
   "cell_type": "code",
   "execution_count": 126,
   "id": "44d70ca1-a91b-4d99-8425-7df88f1e0e2a",
   "metadata": {},
   "outputs": [],
   "source": [
    "X_train, X_test, y_train, y_test = train_test_split(X, \n",
    "                                                    y, \n",
    "                                                    test_size=0.25, \n",
    "                                                    random_state=42)\n"
   ]
  },
  {
   "cell_type": "code",
   "execution_count": 127,
   "id": "3ff5dfba-abb4-4cf5-a8f1-92b3c5149128",
   "metadata": {},
   "outputs": [
    {
     "name": "stdout",
     "output_type": "stream",
     "text": [
      "Requirement already satisfied: skompiler in c:\\users\\sefao\\anaconda3\\lib\\site-packages (0.6)\n",
      "Requirement already satisfied: scikit-learn>=0.22 in c:\\users\\sefao\\anaconda3\\lib\\site-packages (from skompiler) (0.24.2)\n",
      "Requirement already satisfied: scipy>=0.19.1 in c:\\users\\sefao\\anaconda3\\lib\\site-packages (from scikit-learn>=0.22->skompiler) (1.7.1)\n",
      "Requirement already satisfied: threadpoolctl>=2.0.0 in c:\\users\\sefao\\anaconda3\\lib\\site-packages (from scikit-learn>=0.22->skompiler) (2.2.0)\n",
      "Requirement already satisfied: joblib>=0.11 in c:\\users\\sefao\\anaconda3\\lib\\site-packages (from scikit-learn>=0.22->skompiler) (1.1.0)\n",
      "Requirement already satisfied: numpy>=1.13.3 in c:\\users\\sefao\\anaconda3\\lib\\site-packages (from scikit-learn>=0.22->skompiler) (1.20.3)\n"
     ]
    }
   ],
   "source": [
    "!pip install skompiler\n",
    "from skompiler import skompile"
   ]
  },
  {
   "cell_type": "code",
   "execution_count": 128,
   "id": "9c77d696-b6c4-49de-8544-9f2857490d82",
   "metadata": {},
   "outputs": [],
   "source": [
    "cart_model = DecisionTreeRegressor()\n",
    "cart_model.fit(X_train, y_train)\n",
    "y_pred = cart_model.predict(X_test)"
   ]
  },
  {
   "cell_type": "code",
   "execution_count": 129,
   "id": "0ee75411-a58f-46cf-bdf9-7e0970ad68fb",
   "metadata": {},
   "outputs": [
    {
     "data": {
      "text/plain": [
       "0.8114497545907277"
      ]
     },
     "execution_count": 129,
     "metadata": {},
     "output_type": "execute_result"
    }
   ],
   "source": [
    "np.sqrt(mean_squared_error(y_test, y_pred))"
   ]
  },
  {
   "cell_type": "code",
   "execution_count": 130,
   "id": "8eb5d652-a4e4-4235-8702-c0a1710d2198",
   "metadata": {},
   "outputs": [],
   "source": [
    "#sınıflandırma ağacı ile sapma değeri bulundu."
   ]
  },
  {
   "cell_type": "code",
   "execution_count": 131,
   "id": "90e32301-7665-4d45-9a12-fba390eef7f1",
   "metadata": {},
   "outputs": [],
   "source": [
    "cart_params = {\"min_samples_split\": range(2,100),\n",
    "               \"max_leaf_nodes\": range(2,10)}"
   ]
  },
  {
   "cell_type": "code",
   "execution_count": 132,
   "id": "3fab2216-d69a-4f76-a2ba-4e8ed1b73956",
   "metadata": {},
   "outputs": [],
   "source": [
    "cart_cv_model = GridSearchCV(cart_model, cart_params, cv = 10)"
   ]
  },
  {
   "cell_type": "code",
   "execution_count": 133,
   "id": "0532eea3-269b-40a8-9eb1-ae16e06cab0b",
   "metadata": {},
   "outputs": [
    {
     "data": {
      "text/plain": [
       "GridSearchCV(cv=10, estimator=DecisionTreeRegressor(),\n",
       "             param_grid={'max_leaf_nodes': range(2, 10),\n",
       "                         'min_samples_split': range(2, 100)})"
      ]
     },
     "execution_count": 133,
     "metadata": {},
     "output_type": "execute_result"
    }
   ],
   "source": [
    "cart_cv_model.fit(X_train, y_train)"
   ]
  },
  {
   "cell_type": "code",
   "execution_count": 134,
   "id": "8e03e543-8fb5-470d-9c37-053d7e5eec53",
   "metadata": {},
   "outputs": [
    {
     "data": {
      "text/plain": [
       "{'max_leaf_nodes': 8, 'min_samples_split': 79}"
      ]
     },
     "execution_count": 134,
     "metadata": {},
     "output_type": "execute_result"
    }
   ],
   "source": [
    "cart_cv_model.best_params_"
   ]
  },
  {
   "cell_type": "code",
   "execution_count": 135,
   "id": "d88d22ef-badc-40e8-a7cd-33fcab97998a",
   "metadata": {},
   "outputs": [],
   "source": [
    "cart_tuned = DecisionTreeRegressor(max_leaf_nodes = 8, min_samples_split = 79)"
   ]
  },
  {
   "cell_type": "code",
   "execution_count": 136,
   "id": "edcceb77-9160-45c6-8e93-67c9479229b3",
   "metadata": {},
   "outputs": [
    {
     "data": {
      "text/plain": [
       "DecisionTreeRegressor(max_leaf_nodes=8, min_samples_split=79)"
      ]
     },
     "execution_count": 136,
     "metadata": {},
     "output_type": "execute_result"
    }
   ],
   "source": [
    "cart_tuned.fit(X_train, y_train)"
   ]
  },
  {
   "cell_type": "code",
   "execution_count": 137,
   "id": "09e019de-b51b-420a-b560-8eb198d01372",
   "metadata": {},
   "outputs": [],
   "source": [
    "y_pred = cart_tuned.predict(X_test)"
   ]
  },
  {
   "cell_type": "code",
   "execution_count": 138,
   "id": "eeb911bc-f038-4ac4-8493-fb5ea004ed4e",
   "metadata": {},
   "outputs": [
    {
     "data": {
      "text/plain": [
       "0.6243867331378606"
      ]
     },
     "execution_count": 138,
     "metadata": {},
     "output_type": "execute_result"
    }
   ],
   "source": [
    "np.sqrt(mean_squared_error(y_test, y_pred))"
   ]
  },
  {
   "cell_type": "code",
   "execution_count": 139,
   "id": "8b12a9ef-0ff3-4958-a389-1d9a0306e523",
   "metadata": {},
   "outputs": [],
   "source": [
    "#sınıflandırma ağacı algoritmasıyla model kurularak doğru parmetre bulundu ve en iyi sapma değeri belirlendi."
   ]
  },
  {
   "cell_type": "code",
   "execution_count": 140,
   "id": "c1dc77f7-39d9-48f8-97dc-61677080a285",
   "metadata": {},
   "outputs": [],
   "source": [
    "Importance = pd.DataFrame({\"Importance\": cart_tuned.feature_importances_*100},\n",
    "                         index = X_train.columns)"
   ]
  },
  {
   "cell_type": "code",
   "execution_count": 141,
   "id": "d613eca5-5c72-41a4-a6cb-ef84439445f6",
   "metadata": {},
   "outputs": [
    {
     "data": {
      "text/plain": [
       "Text(0.5, 0, 'Değişken Önem Düzeyleri')"
      ]
     },
     "execution_count": 141,
     "metadata": {},
     "output_type": "execute_result"
    },
    {
     "data": {
      "image/png": "[encoded data removed]",
      "text/plain": [
       "<Figure size 432x288 with 1 Axes>"
      ]
     },
     "metadata": {
      "needs_background": "light"
     },
     "output_type": "display_data"
    }
   ],
   "source": [
    "Importance.sort_values(by = \"Importance\", \n",
    "                       axis = 0, \n",
    "                       ascending = True).plot(kind =\"barh\", color = \"r\")\n",
    "\n",
    "plt.xlabel(\"Değişken Önem Düzeyleri\")"
   ]
  },
  {
   "cell_type": "code",
   "execution_count": 142,
   "id": "bf538127-6055-4db2-b1c2-ea6e30cd5617",
   "metadata": {},
   "outputs": [],
   "source": [
    "#bagged tree"
   ]
  },
  {
   "cell_type": "code",
   "execution_count": 143,
   "id": "28ced49a-38b9-4896-9236-67dcc4371e45",
   "metadata": {},
   "outputs": [],
   "source": [
    "X_train, X_test, y_train, y_test = train_test_split(X, \n",
    "                                                    y, \n",
    "                                                    test_size=0.25, \n",
    "                                                    random_state=42)"
   ]
  },
  {
   "cell_type": "code",
   "execution_count": 144,
   "id": "f8554b07-461d-4c38-882b-49996230fd05",
   "metadata": {},
   "outputs": [
    {
     "data": {
      "text/plain": [
       "BaggingRegressor(bootstrap_features=True)"
      ]
     },
     "execution_count": 144,
     "metadata": {},
     "output_type": "execute_result"
    }
   ],
   "source": [
    "bag_model = BaggingRegressor(bootstrap_features = True)\n",
    "bag_model.fit(X_train, y_train)"
   ]
  },
  {
   "cell_type": "code",
   "execution_count": 145,
   "id": "eaca65a5-2260-4189-8283-091c7e613cb8",
   "metadata": {},
   "outputs": [
    {
     "data": {
      "text/plain": [
       "10"
      ]
     },
     "execution_count": 145,
     "metadata": {},
     "output_type": "execute_result"
    }
   ],
   "source": [
    "bag_model.n_estimators\n"
   ]
  },
  {
   "cell_type": "code",
   "execution_count": 146,
   "id": "037df385-6fa7-4864-b845-c873cbe52322",
   "metadata": {
    "tags": []
   },
   "outputs": [
    {
     "data": {
      "text/plain": [
       "[DecisionTreeRegressor(random_state=294818810),\n",
       " DecisionTreeRegressor(random_state=1611233790),\n",
       " DecisionTreeRegressor(random_state=1262356046),\n",
       " DecisionTreeRegressor(random_state=282819926),\n",
       " DecisionTreeRegressor(random_state=1852682337),\n",
       " DecisionTreeRegressor(random_state=107613021),\n",
       " DecisionTreeRegressor(random_state=172275916),\n",
       " DecisionTreeRegressor(random_state=623049843),\n",
       " DecisionTreeRegressor(random_state=1555643302),\n",
       " DecisionTreeRegressor(random_state=517673243)]"
      ]
     },
     "execution_count": 146,
     "metadata": {},
     "output_type": "execute_result"
    }
   ],
   "source": [
    "bag_model.estimators_"
   ]
  },
  {
   "cell_type": "code",
   "execution_count": 147,
   "id": "030b11e7-6e1a-47b2-b39f-1bf49d0be906",
   "metadata": {
    "collapsed": true,
    "jupyter": {
     "outputs_hidden": true
    },
    "tags": []
   },
   "outputs": [
    {
     "data": {
      "text/plain": [
       "[array([843, 232, 464, 245, 495, 138, 314, 209, 306, 770, 443, 360, 280,\n",
       "        727, 147, 509, 365, 367, 589, 302, 166, 804, 401, 528, 339, 597,\n",
       "        694,  15, 543, 400, 846, 740, 129, 575, 434,  33, 367, 433, 565,\n",
       "        708,  41, 270, 631,  93, 281, 639, 154, 213, 720,  39, 475,  73,\n",
       "         34, 725, 383, 547, 392, 496, 449, 153,  79, 572, 284, 785, 632,\n",
       "        542, 226, 358, 625, 544, 841, 564, 517, 126, 815, 161, 267, 704,\n",
       "        160, 559, 427, 446, 451, 340, 168, 714,  32, 818, 590,  17, 637,\n",
       "         75, 293, 773,  46, 452, 282, 494, 454, 409, 346, 445, 525, 138,\n",
       "        121, 122,  47, 666, 186,  68, 325, 317,  23, 489, 275, 455, 553,\n",
       "        578, 185, 448, 733, 299, 279, 336, 559, 797, 142, 690, 725, 682,\n",
       "        232, 189,  33,   6, 663, 656, 799, 531, 357, 605, 647, 145, 596,\n",
       "         13, 363, 157, 331, 535, 287, 290, 747, 717, 776, 218, 356, 252,\n",
       "        554,  93, 362, 255, 305, 829, 345, 259, 410, 183, 207, 616, 599,\n",
       "        797, 677, 502, 161, 828, 171,  97, 158, 265,  97, 557, 705, 465,\n",
       "        672, 368, 627, 499, 442, 149, 165, 194, 217, 571, 593, 673, 602,\n",
       "        680, 531,  50, 226, 376,  48,  94, 253, 223, 259,  71, 301, 801,\n",
       "        373, 788, 380, 107, 416, 635, 806, 410, 808, 386, 802, 176, 700,\n",
       "        657, 268, 547, 104, 162, 734,  35, 542, 779, 373, 579, 268, 847,\n",
       "        523, 345, 503, 458, 830, 369, 115, 363,  63, 608, 118, 663, 122,\n",
       "        412, 643, 513, 148, 745, 738, 663, 496,  39, 409, 281, 257, 520,\n",
       "        117, 206, 190, 841, 105, 564, 588,  87, 119,  37, 703, 176, 133,\n",
       "        270, 231, 704, 161, 301, 114, 167, 413, 242, 648, 381,  51,  58,\n",
       "         79, 246, 677,   4, 575, 115, 780, 201, 564, 493, 820, 775, 148,\n",
       "        118, 730, 345, 676, 250, 774, 259, 565, 652, 835, 731, 410, 285,\n",
       "        469,  75, 748, 492, 470, 507,   9, 738, 802, 470, 543, 131, 590,\n",
       "        107, 330, 668, 114,  72, 268, 602, 764, 669, 746,  78, 656, 319,\n",
       "        759, 600, 288, 545, 271, 551, 600, 745, 381, 664, 334, 410, 684,\n",
       "          7, 430, 121, 462,  89, 847, 316, 385, 452, 837,  68,  26, 792,\n",
       "        706, 705, 261,  89, 585, 816, 206, 771, 430, 724, 799, 422, 832,\n",
       "        260, 661, 598, 843, 196, 396, 388, 180, 698, 742, 822, 244,   8,\n",
       "        788, 735,  40,  73, 269, 129, 721, 830, 631, 489, 543, 416, 191,\n",
       "        439,  46, 849, 321,  12, 441, 514, 133, 669, 151, 694, 822, 382,\n",
       "        233, 548, 724, 145, 499, 191, 319, 811, 710,  46, 705, 604, 182,\n",
       "         39, 314, 395, 276, 681, 746, 423, 256, 526, 754, 837, 458, 174,\n",
       "        161,  24, 261, 745, 116, 188, 623, 404, 364, 505, 491, 813, 498,\n",
       "        463, 711, 187, 472, 461, 739, 678, 487, 258, 169, 714, 755, 285,\n",
       "         97, 409, 160, 147, 523, 657, 221, 421, 344, 398, 575, 482, 750,\n",
       "        419, 632, 816, 696, 534, 639, 663, 669, 323, 831, 636, 744, 313,\n",
       "        794, 172, 570,  33, 180, 725,  92, 596, 526, 705, 196, 616, 492,\n",
       "        176, 129, 289, 722, 314, 509, 588, 658, 755, 691,  70, 383, 221,\n",
       "        160,  48, 796, 788, 307, 301, 298, 592, 820, 686, 450, 322, 655,\n",
       "        162, 363, 573, 729,  83, 403, 139, 143,  46, 590, 794, 260, 520,\n",
       "        772, 422, 693, 257,  10, 532, 443, 823, 720, 330, 235, 804, 675,\n",
       "         73, 316, 640,  94, 787, 185, 715, 467, 629, 651, 107, 360, 596,\n",
       "        553, 520, 386, 186, 781,  23, 703, 101, 615, 212, 421, 694, 706,\n",
       "        796, 429,  99, 828, 285,  98,   1, 170, 408, 143, 654, 333, 726,\n",
       "        306, 362, 800, 330, 125, 565, 222, 476, 127, 447, 659, 644, 229,\n",
       "        395, 449, 301, 129, 415, 103, 847, 714, 656, 601, 436, 816, 101,\n",
       "        735, 653, 669,  17, 711, 556, 539, 129, 299, 772, 504, 200,   7,\n",
       "        702, 212, 597,  81, 151, 157,  75, 666, 352, 541,  98, 749,  21,\n",
       "         43, 822, 415, 108, 636, 107, 314, 786, 672, 461,  54, 549, 598,\n",
       "        732, 519, 314, 121, 599, 239, 530, 141, 215, 512,  78, 428, 739,\n",
       "        602, 277, 303, 370, 319, 138, 115, 669, 799, 549, 293, 205, 375,\n",
       "         46, 664, 836, 698, 737,  97, 822, 219, 265, 581, 201, 619,  91,\n",
       "        750, 309, 537, 523, 215, 687, 226, 668, 649, 568, 496,   1, 249,\n",
       "        641, 169,  99, 384, 233, 337, 361, 157,  46, 107, 662, 775, 417,\n",
       "        703, 163, 791,  25,  93, 724, 510, 241,   2, 437, 566, 742, 439,\n",
       "        129, 673,  71, 395,  77, 517, 623, 569,  93, 357,  33, 585, 195,\n",
       "        494, 444, 255,  76, 489, 143, 198, 244, 324, 654, 721, 736, 818,\n",
       "        112, 232, 327,  99, 114, 786, 271, 550, 554, 654, 262, 505, 599,\n",
       "        837, 518, 391, 834, 475, 514, 394, 629, 458, 540, 338, 128, 265,\n",
       "        533, 796, 678, 280, 257, 760, 299, 657,  49, 778, 387,  13, 545,\n",
       "          4, 498, 146, 841, 814, 103,  61,   9, 246, 153, 302, 576, 264,\n",
       "        213, 545, 327, 133, 408, 535, 785, 111, 531, 286, 579, 221, 796,\n",
       "        603, 266, 779, 104, 808, 681, 333, 417, 172, 321, 312, 392,  26,\n",
       "        187, 178, 598, 801, 447]),\n",
       " array([ 86, 480, 540, 293, 573, 807, 460, 311, 617,  83, 137,  50, 817,\n",
       "        823, 244, 124, 739, 444, 149, 407, 584, 101, 769, 217, 462, 485,\n",
       "        249, 729,  38,  70,  90, 450, 548, 206, 225,  18, 190, 296, 208,\n",
       "        747, 713,  78, 724, 779,  87,  51, 844, 740, 749, 509,  10, 751,\n",
       "        231,  63, 775, 764, 765, 403, 819, 453, 245, 672, 301, 430, 709,\n",
       "        397, 566, 577, 507,  34, 180, 307, 795, 485, 236, 551, 513, 472,\n",
       "        140, 230, 659, 396, 252, 808, 743,   4, 281, 454, 386, 528, 380,\n",
       "        565, 201, 709, 137, 424, 779,   0, 395, 482,  87, 422,  64, 552,\n",
       "        735, 191,  28, 348, 616,  42, 644, 361, 375, 340, 657, 112,   0,\n",
       "        537, 552, 181, 226, 596, 174, 445,  32,  42, 181, 793, 333, 632,\n",
       "        478,  45, 722, 835, 275, 720,  17, 116,  55,   5, 364, 781, 217,\n",
       "         19, 685, 459, 452, 477, 308, 508, 468, 344, 287,  92, 626, 534,\n",
       "        137,  23, 471, 167, 575,  26, 284, 833, 134,   7, 827, 367, 658,\n",
       "         97, 167, 210, 525, 780, 565, 588, 390, 215, 194, 676, 650, 314,\n",
       "         16, 170,  99, 803, 422,  57, 102,  28,  96, 221, 557, 336, 118,\n",
       "        324, 522, 631, 489, 740, 698, 848, 347, 214, 689, 289, 100, 721,\n",
       "        445, 475, 545,  43, 402, 495, 355, 142, 202, 236, 249, 201, 307,\n",
       "        639, 169, 163, 469, 125, 350, 608, 454, 114, 259, 107, 197, 272,\n",
       "        260, 546, 590, 514, 446,   0, 152, 394, 128, 684, 502, 561, 389,\n",
       "        509, 496, 560, 522, 422, 193, 741, 750, 180, 177, 426, 638, 664,\n",
       "        298, 114,  60, 595, 797, 719, 378, 420, 767, 448, 131, 429, 836,\n",
       "        619, 253, 415, 785, 269, 741, 229, 120, 709,  65, 527, 451, 667,\n",
       "        643, 275, 652, 738, 814, 242, 653, 278, 174, 789, 599, 149, 247,\n",
       "        495, 516, 444, 467, 101, 783, 159,  61, 729,  76,  16, 363, 193,\n",
       "        357, 359, 413, 262, 702, 282, 264, 335, 615,  59, 567, 266, 149,\n",
       "        642, 175, 260, 114,  51, 789,  10, 134, 705,  46, 579, 247, 342,\n",
       "        364, 847,  99, 294, 205, 363, 657,  84, 442, 314, 683, 430, 606,\n",
       "        312, 432, 170, 504, 713, 542, 162, 529,   9,  30, 716, 609, 842,\n",
       "        201, 513,  80, 163, 486, 116, 145,  27, 386, 659, 182, 203, 792,\n",
       "        715, 782, 342, 352,  20, 807, 435, 556, 783, 147, 588, 613, 692,\n",
       "        533, 528, 590, 286, 537, 528, 833, 657, 169, 441, 269, 687, 757,\n",
       "        845, 363, 420,  82, 441, 402,  21, 741, 457, 216, 781, 229, 405,\n",
       "        318, 305, 121, 657, 267, 122, 324, 394, 741, 435, 812, 441, 762,\n",
       "        611, 627, 414, 532, 296,  88, 650, 557, 449, 680, 617, 803, 251,\n",
       "        351, 719, 531, 403,  21, 813, 114, 352, 237, 407, 838, 273, 393,\n",
       "        227, 454, 361, 189, 179, 712, 227,  92, 311, 359, 344, 145, 411,\n",
       "        700, 708,  71, 822, 488, 712, 527, 766,  22, 697,  48, 815, 840,\n",
       "        316,  66,  91,  87, 600,  12, 251, 144, 189, 629, 151, 746, 403,\n",
       "         75, 736, 416, 774, 240, 332, 471, 185, 716, 754, 291, 183, 751,\n",
       "        310, 328, 500, 137, 422, 454, 124, 462,   6, 381, 624, 484, 220,\n",
       "        252, 334,  69, 216, 133, 235,   0, 785, 643, 317, 360, 636, 234,\n",
       "        797, 684, 817, 143, 374, 615, 461, 102, 459, 747, 209, 121, 530,\n",
       "        795, 140, 390, 259, 444, 114,  27, 103, 602,  18, 730, 721, 304,\n",
       "        643, 397, 334, 672, 637,  39, 747,  91, 308, 302, 528,   7, 611,\n",
       "        237, 371, 733, 544, 736, 379, 671, 191, 264,  39, 596, 319, 234,\n",
       "        480, 348, 619, 659, 179, 730, 848, 302, 710, 666, 336, 411, 610,\n",
       "        153, 740, 694, 781, 843, 598, 310, 718, 396, 534, 599, 552, 144,\n",
       "        666, 498, 409, 161, 591, 513, 761, 165, 160, 722, 602, 119,  37,\n",
       "        560, 160, 736,  20, 751, 347, 570, 582, 112, 322, 847, 601, 201,\n",
       "        502, 566, 719, 848, 484, 358, 208, 427, 336, 696, 181,  85, 223,\n",
       "        106, 163, 839, 138, 399, 347, 821, 769, 333, 711, 639, 484, 419,\n",
       "        825, 328, 842, 843, 456, 589, 665, 778, 767, 109, 633, 792, 313,\n",
       "        226, 175, 779, 226,  17, 695, 603, 733, 245, 704, 468,   2, 157,\n",
       "        559, 576,  28, 357, 171, 720, 251,   5, 733, 404, 452, 505, 476,\n",
       "        384,  66, 659,  96, 629, 501, 718, 518, 178,  35, 318, 737, 680,\n",
       "        121,  84, 695, 755, 828,  16, 422, 226, 473, 427, 667, 303, 797,\n",
       "        332, 784,  82, 600, 705,  60, 288, 227,  38, 638, 486, 382, 565,\n",
       "        159, 204, 570, 458, 508, 502, 619, 241, 149, 463, 258, 674,  24,\n",
       "        348, 780, 804,  10, 485, 587, 150,  31, 631, 356, 724, 177, 185,\n",
       "        811, 229,  11, 408,  33, 303, 571, 397, 560, 175, 561, 827, 682,\n",
       "        432, 466, 137, 322, 369, 402, 472, 394, 767, 445, 781, 673, 595,\n",
       "        687, 473, 802, 669, 479, 391, 797, 755, 461, 149, 436, 381, 624,\n",
       "         43, 232, 430, 584, 103, 707, 620, 817, 511, 584, 252, 253,  52,\n",
       "        602, 408, 352, 179, 136, 496, 392, 235, 257, 641, 572, 647,  29,\n",
       "        802, 477, 650, 525, 762, 809, 461, 474, 705, 282, 466, 564, 624,\n",
       "        747, 153,  68, 173, 805]),\n",
       " array([616, 683, 682, 649, 246, 282, 470, 101, 545, 553, 471, 197, 301,\n",
       "        416, 277,  70, 306, 344, 715, 267, 463, 617, 295, 162, 620, 814,\n",
       "        431, 778, 567, 560, 478, 530, 774, 160, 791, 488, 407, 373,  75,\n",
       "        343, 717, 505, 805, 495, 610, 374, 592, 521, 315, 253, 376, 177,\n",
       "        355, 569, 653, 430, 133, 848, 701, 458, 505,  71, 806, 477, 581,\n",
       "        413, 613, 384, 848, 506, 662, 553, 701, 297, 849, 325, 574, 621,\n",
       "        681, 679,  43, 323,  62, 447, 210, 178, 235, 253, 607, 705, 218,\n",
       "        140, 490, 309, 223, 383, 517, 533, 338, 119, 658,  19,  79, 606,\n",
       "        311, 380, 675, 838, 603, 420, 843, 607, 470,  90, 478, 712, 417,\n",
       "        784, 133, 610, 414, 743,  65, 495,  85, 303, 570, 654, 377, 717,\n",
       "        656, 422,  24, 175, 361, 805, 615, 694,   0,   4, 670, 225,  16,\n",
       "        843,  52, 296, 524, 132, 785, 446, 588, 644, 240, 149, 783, 696,\n",
       "        685, 537, 356, 366, 294,   1, 709, 633, 399, 478, 673, 180, 775,\n",
       "        773, 269, 507, 737, 265, 254, 736, 305, 434, 156, 353, 552, 165,\n",
       "        577, 376, 437, 424, 583,  38, 314, 503, 764, 279, 785,  44, 711,\n",
       "        237, 285, 588, 502, 542, 546, 402, 343, 702, 160, 244, 284, 528,\n",
       "        841,  47, 336, 255, 409,  25, 558, 826, 306,  58, 450, 669, 815,\n",
       "        740, 749,  75, 684, 298, 444, 214, 796, 356, 322, 170, 814, 731,\n",
       "        495, 712, 346, 513, 806, 372, 259, 419, 167,  61,  17, 614, 253,\n",
       "         59, 346,  48, 641, 155, 531, 473, 460,   8, 843, 773, 710, 205,\n",
       "        835, 620, 819,  86, 176, 758, 561,  63, 631, 116, 374, 615, 101,\n",
       "        459, 796, 598, 229, 840, 709, 499,  20, 631, 479, 303, 710, 381,\n",
       "        672, 614, 645, 378, 165, 475, 207, 142, 404, 228, 202, 274, 176,\n",
       "         52, 299,  76, 214, 522, 445, 313,  57, 483,  16, 189, 178, 171,\n",
       "        353, 707, 176, 602, 687, 148, 401, 826, 181, 507, 537, 695,  41,\n",
       "        333, 511, 640, 228, 362, 145,  43, 344, 510, 821, 629, 205, 508,\n",
       "        603, 563, 373,  88, 705,  35, 798, 338, 348, 707, 819, 321, 555,\n",
       "        612, 182, 198, 487, 140, 675, 385, 661, 806, 693, 692,   0, 511,\n",
       "        604, 740, 160, 166, 259, 511, 364, 147, 217, 370,  28, 679, 385,\n",
       "        216, 561, 294, 153, 810, 287, 124, 288, 758, 109, 766, 571, 745,\n",
       "         64, 424, 410, 132, 473, 399, 746, 668, 266, 152, 299, 445, 156,\n",
       "        747, 787, 740, 476, 630, 464,  82, 572, 317, 470, 831, 844, 475,\n",
       "        614, 259, 154, 824, 235, 199, 380, 482, 720, 195, 625, 372, 477,\n",
       "        513, 120, 276, 358, 229, 292, 320, 103, 826, 275,  44, 177, 107,\n",
       "        571, 656, 744, 410, 350, 730, 105, 329, 264, 270, 262,  37, 527,\n",
       "        526, 137, 459, 697, 191, 580, 170, 832, 787, 271, 793, 658,  83,\n",
       "        483,  50, 404, 589, 322, 599,  48, 683, 635, 300, 587, 444,  68,\n",
       "         92, 169, 745, 794, 799, 402, 189, 763, 104, 525, 588,  85, 237,\n",
       "        253, 726, 156, 750, 338, 451, 322, 410,  97, 446, 833, 600, 271,\n",
       "        774, 552, 282, 423, 172, 281, 390, 291,  15, 674, 611,  75, 591,\n",
       "        150, 217, 164, 674, 330, 676, 377, 624, 643, 305, 287, 462, 236,\n",
       "        671, 389, 649, 513, 441, 174,  45, 665, 776, 848, 695, 418, 313,\n",
       "         35, 100,  62, 518,  86,  96, 776, 392, 540, 262, 162,  38, 776,\n",
       "         51, 222, 361, 656, 546, 552, 318, 183, 787, 381,  73, 656, 363,\n",
       "        202, 384, 795, 369, 193, 615, 776, 717, 732, 154, 279, 692, 510,\n",
       "        222, 750, 314, 317, 808, 114, 574, 575, 712, 467, 193, 169, 145,\n",
       "        664, 190, 121, 713, 295, 302, 204,  77, 433, 310,  94, 203, 571,\n",
       "        806, 731, 543, 454, 282, 226, 388, 161, 297, 480, 430, 794, 696,\n",
       "        545, 620, 497,   8,  37, 587, 493, 677, 404,  96, 708, 743, 125,\n",
       "         11, 550, 430,  70, 519,  21, 108,  82,   2, 715, 463, 744, 510,\n",
       "        227, 665,  15, 773, 322, 730,  26, 333, 243,  53, 517, 145, 191,\n",
       "        794,  62, 694, 163, 390, 659,  68, 234, 800, 787, 157,  48, 154,\n",
       "        380, 177, 310, 789, 789,  43, 495, 507, 577, 486, 833, 308, 668,\n",
       "        147, 179, 714, 208, 376, 479, 484, 752,  60, 671, 413, 352,  11,\n",
       "        335, 555,  46, 844, 122, 137, 122, 297, 275, 818, 828, 697, 733,\n",
       "        457, 184, 382, 510,  61, 569,   3, 377, 218, 314, 286, 762, 240,\n",
       "        298, 299, 732, 690, 125, 155, 644, 370, 258, 657, 202, 120, 722,\n",
       "        614, 266, 508, 264, 393, 824,  59, 582, 585, 784, 345, 764, 763,\n",
       "        781, 739, 312, 772, 130, 841, 673, 324, 309, 677, 400, 271, 196,\n",
       "        494, 225, 263, 590, 547, 382, 534, 782, 343, 805, 314, 836, 152,\n",
       "        625, 818, 217, 699, 819, 545, 439, 779, 164,  97, 540, 252, 179,\n",
       "        447,  35, 289, 722, 569, 569, 176, 396, 222, 357, 306, 291, 490,\n",
       "        356, 384, 278, 774, 202, 702, 366, 344,  36, 666, 288, 597, 483,\n",
       "        685, 218,  26, 577, 718, 651, 227,  34, 375, 148, 227, 407, 462,\n",
       "        633,  46, 744, 750,  50, 259, 300, 220, 411, 402, 107, 685, 451,\n",
       "        160, 787,  85, 799, 693]),\n",
       " array([609, 297, 645, 666, 398, 760, 379, 825, 116, 645, 711,  17, 121,\n",
       "        351, 254, 848, 666, 154, 769, 242, 752,  14, 131, 382, 644, 180,\n",
       "        577, 385,  15, 510, 479, 222, 258, 209,  92, 304, 758, 671, 657,\n",
       "        638, 291, 541, 506, 620, 224,  28, 294, 158,   2, 360, 591,  39,\n",
       "        309, 790, 197, 253, 351,  61,  80, 609, 522, 691, 138, 289, 630,\n",
       "        301, 823, 408, 560, 250, 765, 700,  97, 843, 426, 355, 764, 728,\n",
       "        294, 584, 634, 752, 472, 440, 399, 838, 550, 211, 768, 181, 815,\n",
       "        405, 840,  11, 295, 457, 595, 313, 167, 776, 686, 272, 387, 350,\n",
       "        148,  79, 109, 729, 207, 512, 213,  12, 835, 615, 225, 370,   3,\n",
       "        326, 314, 172, 465, 309, 776, 739, 174, 417, 769, 455, 311, 567,\n",
       "        165, 671, 295, 830, 315, 277, 352, 514,  64, 783, 756, 382, 396,\n",
       "        326, 414, 823,  68, 505, 266, 306, 826, 563, 792, 341, 147, 638,\n",
       "        222, 330, 784, 444,  99, 793, 329, 648, 753,  71,  27, 226, 571,\n",
       "        384,  20, 279,  23, 621, 110,  78, 326, 560, 106, 565, 114, 475,\n",
       "        295, 640, 448,  19, 734,  52, 769, 727, 361, 361, 417, 541, 133,\n",
       "        803, 165, 665, 670, 621, 520, 595, 769, 440, 542, 415, 585, 727,\n",
       "        451, 224, 238, 751, 480, 680, 810, 380, 120, 429, 585, 401, 832,\n",
       "        796, 452, 757, 811, 334, 470, 216, 787, 805, 511, 566, 612, 746,\n",
       "        392, 120, 106, 550, 209, 690, 275, 728, 332, 773, 574, 773, 703,\n",
       "        660, 334, 388,  73, 710, 537, 790, 167, 388, 144, 390, 406, 138,\n",
       "          2, 386, 224, 177, 700,  62, 149, 725, 505, 377, 834, 584, 225,\n",
       "        815,  90, 292, 534,   4, 179, 620, 211, 540, 531, 132, 241, 849,\n",
       "        777, 471, 255,  79, 337, 350, 289, 404, 172,  48,  45, 333, 213,\n",
       "         29, 309, 696, 533, 272, 557, 365, 846, 224,  45, 737,  80, 289,\n",
       "        673, 541, 321, 372, 389, 189, 726, 275, 274, 461, 782, 230, 548,\n",
       "        335, 497,  23, 599, 310, 445, 420,  55, 559, 763, 376, 823, 264,\n",
       "        813, 133, 687, 731, 524, 758, 131, 247, 139, 552, 128, 381, 440,\n",
       "        693, 690, 282, 723, 380, 654, 668, 232, 141,  98, 338, 631, 240,\n",
       "        501,   2,  38, 141, 373, 394, 528, 681, 316, 225,  80, 621, 302,\n",
       "        816,  17, 108, 562, 584, 786, 575, 106, 646, 804, 477, 258, 585,\n",
       "        201, 604, 601, 151, 106, 117, 197, 207, 645, 448, 189,  42, 416,\n",
       "        721, 477, 156, 205, 527,   1, 330, 187, 698,  98, 468, 547, 495,\n",
       "         91, 438, 277,  82, 193, 272, 412, 121, 613, 790, 684, 801,  24,\n",
       "        409, 200, 563, 624, 640, 275,  60, 790, 782, 563, 715, 699, 522,\n",
       "        713, 555, 773, 528, 379, 661, 667, 341, 744, 160, 810, 619, 387,\n",
       "        746, 198, 584,  44, 735, 547, 566, 300, 796, 627, 645, 355, 738,\n",
       "        259, 676, 359, 151, 575, 370, 267, 826, 636, 229,  92, 540, 819,\n",
       "        293, 381, 174, 738, 185, 685, 360, 693, 499, 156, 751, 594, 616,\n",
       "        595, 341, 220, 740, 110, 581, 830, 560, 568, 662, 716, 706, 356,\n",
       "         63, 179, 432, 380, 549, 198, 223, 351, 701,  64, 672, 428, 657,\n",
       "        517,  92, 271, 767, 119, 401, 262, 138, 797,  88, 435, 621, 467,\n",
       "         78, 501, 479,  41, 171, 333, 677, 404, 295,  38, 503, 838, 563,\n",
       "        208,  24, 712, 621, 679, 183, 674, 133, 412, 392, 729, 345, 121,\n",
       "        699, 165, 561, 114, 758, 348,  99, 711, 287, 190, 422, 689,  11,\n",
       "        257, 515, 300, 604, 304, 459, 597, 735, 138, 737, 393, 812, 840,\n",
       "        226, 532, 554, 234, 751, 288, 263, 499, 462, 168, 437, 152, 167,\n",
       "        320, 669,  31, 795, 665, 701, 770, 418, 285, 836,  17,  21, 715,\n",
       "        228, 840, 343, 194, 473, 415, 556, 495,  45, 769, 787, 509, 312,\n",
       "        634, 765, 104,  38, 363,  28, 600, 615, 158, 466, 386,  51, 135,\n",
       "        315, 539, 221, 157, 116, 738, 721, 264, 672, 839, 359, 816, 293,\n",
       "        479, 111, 748, 520, 302, 365, 433, 573, 310, 350, 648,  43, 297,\n",
       "        525, 305, 580, 743,  84, 510, 138, 603, 650, 769, 416, 476, 310,\n",
       "        580, 438, 202,  10, 200, 549, 826, 203,  84, 256,  50, 822, 528,\n",
       "         10, 462, 340, 661, 422, 815,  29, 500, 556, 731, 268, 426, 828,\n",
       "        682, 833, 640, 294,  95, 843,  91, 415, 435, 735, 645, 677, 742,\n",
       "        178, 283, 709,  60, 413,  96, 335, 297,  75, 191, 167, 372, 345,\n",
       "         32, 552, 624, 129, 262, 449, 767,  68, 162,  84, 747,  49, 785,\n",
       "        153, 577, 191, 343, 380, 280, 521, 361, 180, 197, 160,   2, 596,\n",
       "        111,  21,  21, 522, 652, 448,  88, 430, 408, 355, 469, 441, 408,\n",
       "        726, 528, 622, 168, 483, 559, 775,  28, 218, 153, 529, 313, 345,\n",
       "        734, 512,  67,  75, 148, 391, 545,   5, 353, 354, 841, 751, 790,\n",
       "        453,  94, 526, 140, 832, 211, 205, 208, 767, 726, 783, 673, 847,\n",
       "        318, 703, 334, 567, 335,  40, 390, 743, 420, 572, 457, 170, 682,\n",
       "        214, 804, 477, 812, 128, 309, 225, 672, 763, 166, 476,  11, 464,\n",
       "        159, 282, 331, 619, 813, 247, 760, 425, 556, 245, 436, 125, 194,\n",
       "        708, 156, 232, 257, 439]),\n",
       " array([176, 830,  12, 480, 235, 409, 741,   7,  83, 215,  78, 772, 660,\n",
       "        158, 281, 745, 462, 205, 637, 306, 688, 384, 665, 625, 335, 331,\n",
       "         68, 164, 341, 153, 291,  94, 264, 453, 650, 216, 105, 390, 776,\n",
       "        332, 269, 422, 696, 447, 670, 709, 536,  75,  55, 587, 518, 400,\n",
       "        448, 736, 141,  64, 107, 238, 591, 323, 152, 643, 538, 502, 800,\n",
       "        537,  32, 652, 558, 181, 365, 777, 781, 790,  18,  61, 659, 123,\n",
       "        614, 315, 175, 633, 322, 258, 409, 707, 717, 785, 181, 334, 740,\n",
       "        301, 316, 454, 360, 798, 419, 556, 433, 249, 481, 112, 263, 709,\n",
       "        818, 609, 737, 481, 147, 716, 488, 704, 363, 445, 750, 696, 355,\n",
       "        460, 472, 207, 454, 419, 520, 309, 768, 239, 740, 352, 587, 550,\n",
       "        810, 541, 466, 538, 812, 436, 347, 815, 185, 624, 431, 375, 333,\n",
       "        715, 391, 317, 231, 771, 688, 526, 522, 643, 168, 802, 321, 441,\n",
       "        138,  62, 800,  94, 487, 685, 762, 308, 591, 296, 104, 692, 424,\n",
       "        433, 354, 291,  64, 475, 287, 287, 409, 523, 388,   3, 273,  53,\n",
       "        304, 481, 810,  40, 359, 280, 703, 384, 205, 212, 282, 473,  79,\n",
       "        638, 575, 622, 342, 207, 387, 556, 748, 834, 115, 758,  15, 379,\n",
       "        577, 116, 676, 304, 825, 761, 469, 797, 720,  36,  85, 753, 568,\n",
       "        729, 457, 353, 657, 219,  63, 291, 335,  96, 426, 598, 103, 340,\n",
       "        419, 630, 391, 247, 407,  90, 179, 828,  19, 314, 498, 761, 220,\n",
       "        597, 709, 246, 165, 258, 671, 647, 457, 181,  65, 785, 817, 571,\n",
       "         94, 595, 383, 408, 530, 822, 369, 129, 348, 571, 543,  74, 314,\n",
       "        469, 651, 537, 136, 667,  95, 794, 326, 673, 612, 183, 163, 438,\n",
       "        426, 723,  35, 671, 320, 806, 294,  96, 605, 561, 617, 616, 637,\n",
       "        256, 227, 213, 274, 414, 275, 693, 367, 525, 845, 345, 661, 139,\n",
       "         92,  61, 263, 332, 677, 802, 180,  35, 561, 106, 816, 502, 705,\n",
       "         50,  68, 761, 665, 158, 616, 514, 162,  84, 532, 820, 530, 164,\n",
       "        324, 149, 252, 268, 307, 160,  67, 135, 302, 160, 816, 523, 717,\n",
       "        130, 729, 628, 192, 245, 591, 815, 425, 774, 283, 817, 796, 657,\n",
       "        254, 194, 246, 721, 839,  40, 454, 835, 616, 179, 795, 376, 520,\n",
       "         27, 672, 610, 165, 573,  33, 329, 422, 425,  33, 167, 146,   1,\n",
       "        592, 364, 433, 612,  52, 185, 477, 206, 381, 176,  62, 487, 418,\n",
       "        663, 266, 594, 591, 616, 177, 468, 103, 803, 245, 374, 599, 329,\n",
       "         24, 793, 148,  80, 770, 700, 392, 738, 748, 687, 335, 559, 763,\n",
       "         19,   6, 295, 360, 529, 587, 260, 779, 764, 817, 422, 767,  28,\n",
       "        615, 651,  21, 215, 580,  76, 493, 683, 306, 467, 484, 734, 802,\n",
       "        306, 497, 433, 695, 790, 309, 663, 570, 165, 143, 354, 102, 585,\n",
       "         42,  26,  94, 272, 784, 783, 202,  16, 769, 116, 544, 419, 376,\n",
       "        171, 317,  39, 592, 184, 728, 767, 622, 739, 761, 849, 503, 569,\n",
       "        239, 638, 475, 556, 496,  34, 124, 168, 519, 235, 574, 215,  89,\n",
       "        661, 683, 426,  81, 340, 458, 255, 644, 815, 120, 609, 351, 257,\n",
       "        180, 800, 573, 670, 417, 839, 330,  66, 399, 515,  62, 394, 448,\n",
       "        781, 729, 700, 474, 645,  66, 728, 523, 327, 439, 849, 343, 262,\n",
       "         69, 429, 389, 180, 482,  26, 162, 384, 822, 760, 353, 207, 414,\n",
       "        528, 662, 351, 272,  49, 186, 810, 480, 621, 627, 490, 532, 426,\n",
       "        266, 745, 656, 775, 826, 547,  80, 551, 704,  53, 841, 471, 792,\n",
       "        309, 513, 831, 212, 789, 603, 271,  84, 381, 774, 144, 702, 724,\n",
       "        576, 599, 614, 434, 166, 514, 781, 501, 615, 410,  10, 417, 702,\n",
       "        583, 433, 672, 170,  84, 469, 302, 836, 637, 711, 376, 451, 528,\n",
       "        389, 121, 832, 449, 597, 739,  69, 780, 714, 732, 262, 512,  15,\n",
       "        480, 406, 307, 565,  71, 746, 158, 353, 471, 309, 269, 568,  90,\n",
       "         85, 404, 331,  76,  41, 586, 326, 421, 189,  24, 800, 301, 598,\n",
       "         37, 124, 502, 106, 549, 349,  74, 161, 131, 115, 405, 342, 668,\n",
       "        267, 159, 637, 316, 805, 395, 676, 669, 107,  28, 134, 377, 705,\n",
       "        636, 198, 792, 623, 224, 758, 358, 694, 142, 545, 169, 123, 688,\n",
       "        714, 431, 572, 664, 838, 376, 539, 736, 164,  21, 759, 352, 808,\n",
       "        268, 130, 742,  22, 636, 336, 771, 577, 553, 177, 638, 203, 418,\n",
       "        761, 216, 220, 583, 528,  47, 760, 502, 681, 379, 341, 365,   4,\n",
       "        399, 552, 724, 235, 108, 464, 560, 557, 515, 735, 444, 193, 814,\n",
       "        358, 424, 825, 359,  65, 158, 147, 660, 108, 451, 314, 105, 677,\n",
       "        734, 324, 309, 655, 160, 706, 390, 785,  23, 144, 247,  41, 441,\n",
       "        324, 525, 834,  28,  55, 236, 550, 766,  72, 510, 221, 680, 849,\n",
       "         33, 192, 526, 680, 176,  86, 588, 224, 401,  19,  84, 514, 505,\n",
       "        685,  80, 684, 801, 351, 617, 740, 159, 574, 578, 439, 464, 304,\n",
       "         81, 295, 733, 407, 259, 179, 185,  45, 509, 615, 516, 531,  96,\n",
       "        269,  97,  82,  68, 307, 310,  31,  31, 749, 116, 355, 173, 595,\n",
       "        285, 653, 527, 784, 412]),\n",
       " array([309, 349, 327, 492, 421, 398, 663, 615, 140, 432, 577,  63, 182,\n",
       "        839, 266, 105, 400, 831, 794, 648, 673, 305,  41, 838, 418, 239,\n",
       "        665,  90, 587, 320, 458, 296,  44, 674, 757, 727, 807,  67,  68,\n",
       "        412, 484, 657, 545, 129, 486, 438, 596, 225, 198, 668, 351, 517,\n",
       "        264, 540, 399, 508, 820, 669, 105, 600, 312, 537, 649, 652,  72,\n",
       "        140, 336, 235, 314,  25, 168, 849, 768, 723, 298, 519,  34,  37,\n",
       "        409, 733, 453, 304, 139, 422, 237, 363, 177, 223, 237, 530, 286,\n",
       "         67, 141, 299, 434, 308, 475, 387,  31, 403, 702, 112, 294, 567,\n",
       "        646, 335, 778, 305, 705, 120, 122, 624, 642, 190, 444, 581,  80,\n",
       "        501, 749, 656, 831,  23, 633, 496, 663, 346, 128, 631, 137, 717,\n",
       "        329, 575, 296, 643, 684, 547, 336, 798, 265, 789, 278, 415,  47,\n",
       "         53, 364, 584,  11, 226, 254, 841, 458, 309, 241, 629, 310, 299,\n",
       "        669, 233, 484, 139, 538, 547, 278, 777, 602,   1, 354,   8, 787,\n",
       "        767, 415, 236, 389, 198, 635, 697, 464, 746,  66, 144, 581, 186,\n",
       "        123,  58, 810, 724, 457, 457, 287, 725, 190,   4, 579,  65,  40,\n",
       "        602, 115, 320, 509, 400, 133, 480, 387, 593, 548,  71, 680, 247,\n",
       "        215, 668, 811, 495, 649, 486, 387, 610,  63,  50, 556, 210, 544,\n",
       "        402, 489, 234, 483,  70,  88, 756, 194, 758, 496, 354,  15, 377,\n",
       "        840,  99, 754, 483, 507, 840, 704, 318, 718, 318, 129, 395, 693,\n",
       "        154, 727, 139, 125,  12, 319, 526, 469, 154, 819, 393, 419, 544,\n",
       "        650, 161, 456, 827, 505, 485, 495, 371, 804, 227, 163, 601, 374,\n",
       "        592, 223,  71, 545, 277, 101, 153,  73, 252, 729, 450, 602, 416,\n",
       "        728, 620, 699, 169, 718, 184, 158, 515, 160, 790, 584, 438, 648,\n",
       "        383, 154, 164, 290,  84, 484,   9, 216,  76, 397, 558, 166, 364,\n",
       "        146, 234, 701,  61,  31, 490, 680, 599, 148, 321, 239, 680,  65,\n",
       "        732, 154, 445, 434, 624, 575, 259,  92, 127, 747, 803, 647, 733,\n",
       "        356, 404, 434,  92, 693, 276, 397, 798,  69, 338, 801,  79, 187,\n",
       "        692, 764, 240, 374, 809, 553, 849, 209, 680, 829, 844, 163, 840,\n",
       "         34, 113, 536, 733, 165, 419, 456, 405, 283, 143, 405, 240, 207,\n",
       "        699, 236, 587, 114, 306, 820,  61, 440, 304,  63, 626, 146, 567,\n",
       "        186, 810, 281, 385, 330, 488, 756, 783, 404, 120, 163, 757, 602,\n",
       "        101, 587, 202, 831, 493, 688, 295, 667,  13, 335, 332, 828, 814,\n",
       "        632, 552, 635, 340, 183, 488,  62, 594, 150, 765, 194, 596, 484,\n",
       "        624,  73, 208, 323, 286, 599, 292, 783, 545, 802, 351, 670, 302,\n",
       "        641, 179, 430, 230, 109, 115, 604, 487, 755, 220, 561, 208,  59,\n",
       "        462,  61, 639, 585, 618, 106,  18, 407, 431, 669, 401, 566, 804,\n",
       "        161, 407, 630,  74, 130, 461, 718, 315, 838, 513, 281, 105, 574,\n",
       "        467, 174, 148, 502, 421,  93, 154, 683, 665,  32, 319, 214,  43,\n",
       "         68,  76, 829, 146, 697, 340, 584, 635, 520, 664, 574, 454, 774,\n",
       "        263, 121, 366, 417, 104, 800, 758, 846, 461, 181,  99, 136, 275,\n",
       "        596, 527, 637, 660, 693, 790, 605, 605, 607, 448, 260, 769, 333,\n",
       "        635, 374, 491, 334, 611,  14, 322, 454, 845, 324, 493, 634, 434,\n",
       "        209, 502, 518, 598, 400, 449, 697, 475, 106, 366, 811, 304, 494,\n",
       "        372, 723,  40, 562, 823, 596, 283, 650, 180, 100, 584, 511,  32,\n",
       "         48, 563, 513, 610, 241,   2, 139, 343, 458, 409, 454, 197, 601,\n",
       "        629, 729,   6, 649, 390, 743, 672, 741, 356, 474, 131, 787, 176,\n",
       "        510, 367,  97, 501, 162, 396, 564, 424, 252, 766, 647,  46, 151,\n",
       "        230, 823, 137, 399, 600, 825, 786, 701, 288,   8, 237, 467, 465,\n",
       "        443, 300, 211, 701,  57, 350, 423, 702, 152, 426, 396, 589,  23,\n",
       "        154, 772, 558, 738, 837, 821, 399, 822, 290, 340, 520, 194, 821,\n",
       "        584,  58, 555,  84, 281, 179, 769, 661, 646,  84, 363, 534, 428,\n",
       "        371,  55, 474,  71, 519, 752, 313, 739, 769, 748, 699, 207, 527,\n",
       "        306, 243, 540, 713, 377,  79, 745, 504, 527, 802, 584, 721, 389,\n",
       "        587, 762, 721, 658, 306, 735, 350, 486,  64, 158, 183, 464, 797,\n",
       "        824, 664, 235, 318, 225, 403, 668, 715, 757, 620, 427, 428, 300,\n",
       "        494, 659, 129, 552, 742, 113,  16, 289, 445, 399, 678, 125, 252,\n",
       "        423,  73,  77, 843, 514, 435, 527, 422,  30, 697, 701, 817, 837,\n",
       "         76, 691, 284, 357,  95, 167, 202,  48, 421, 686, 194, 172, 497,\n",
       "        132,  71, 585, 370, 210, 689, 624, 371, 502, 253,  89,  13,  36,\n",
       "        133, 724, 504, 328, 241, 811, 839,  22, 101, 329, 422, 437,  95,\n",
       "        443, 459,  86, 491, 711, 325, 602, 692, 661, 550,  72, 503, 759,\n",
       "         28, 168, 808, 578, 490, 196,  95, 149, 683, 659, 837, 726, 217,\n",
       "        230, 263, 651, 168, 225, 814, 763, 294, 429,  53, 169, 434, 673,\n",
       "        618,  88, 524, 745, 377,  62, 294, 465, 354, 253, 167,  92, 568,\n",
       "        701, 221, 734, 396, 526, 137, 755, 706, 726, 272, 195, 345, 713,\n",
       "        393, 753, 569, 694, 737]),\n",
       " array([262,  79, 833, 846, 303,   8, 372,  69, 417, 844, 151, 454, 727,\n",
       "         11, 264, 441, 689, 667, 191, 450, 226,  72, 571, 444, 488,  13,\n",
       "        776, 113, 417, 280, 772, 286, 255, 690, 552, 398, 620, 379, 111,\n",
       "         37, 771, 668, 417, 382, 752, 698, 675, 293, 130, 383, 574, 483,\n",
       "        697, 129, 683, 718, 341, 731, 542,  87, 203, 645, 166, 522, 801,\n",
       "        790, 633, 241, 634, 154, 540, 200, 718, 224, 341, 569,  13, 176,\n",
       "        751, 433, 404, 808,  46, 499, 671, 655, 833, 155, 748,  59, 560,\n",
       "        678, 479,  78, 272, 791,  60, 182, 706, 687, 378, 269,  56, 706,\n",
       "        499, 104, 550, 594, 734, 693, 644, 672, 270, 264,  94, 465,  62,\n",
       "        498, 526, 357, 719, 837, 132, 121, 586, 182, 538, 428, 368, 340,\n",
       "        464, 356, 683, 149, 563, 287, 547, 332, 642,   3, 493, 657, 204,\n",
       "        832, 221,  51, 686, 494, 590,   0, 408, 673, 836, 318, 461, 683,\n",
       "        116, 181, 122, 685,  86, 314, 813, 542, 204, 211,  85,  86,  10,\n",
       "        734, 348, 110, 375, 689, 706,  46, 654, 206, 114, 624, 722, 654,\n",
       "        112, 434, 336, 344, 478, 727, 190, 190, 588, 242, 154, 223,  74,\n",
       "        519, 158, 183, 621, 743, 490, 117, 573, 202,   7, 256,  57,   1,\n",
       "         12,  69, 685, 210, 269,  48,  22, 764, 596, 551, 658, 401, 317,\n",
       "        312, 724, 200, 685, 602, 828, 648, 441, 559, 496, 337, 585, 717,\n",
       "        427, 558, 101, 421,  99, 237, 314, 176, 579, 726, 279, 827, 806,\n",
       "        636, 247, 538, 347, 654, 551,  10, 734, 700, 279,  86, 134, 324,\n",
       "        771, 792,  34, 212,  77, 327, 580, 765, 274, 613,  52,  96, 480,\n",
       "        321,  89, 202, 710, 219, 259, 413, 391, 637, 513, 580,  86, 160,\n",
       "         61, 316, 256, 220,  77, 409, 342, 237, 784, 145, 486, 178, 737,\n",
       "        178, 160, 530, 316, 639, 274, 109, 345, 247, 732, 618, 697, 317,\n",
       "        790, 446, 409, 503, 773, 215, 366, 523, 405, 602, 109, 518, 355,\n",
       "         23, 831, 815, 747, 274, 729, 167, 218, 244, 556,  82, 804, 219,\n",
       "        438, 125, 648, 110, 330, 183, 656, 158, 701, 362, 652, 262, 206,\n",
       "         47, 562, 533, 635, 727, 720, 242, 391, 791, 518,  37, 548, 306,\n",
       "        843, 226,  62, 415,  69, 580,  53, 837,  93, 462, 757, 594, 795,\n",
       "        583, 695, 509, 481, 843, 618, 460, 145, 443, 163, 377, 330, 823,\n",
       "        369, 112, 339, 419, 294, 178,  95, 707, 273, 333, 422, 698, 740,\n",
       "        830, 333, 111, 746, 138, 400,  22, 655, 184, 532, 433, 821,  95,\n",
       "        670, 443, 610, 698, 290, 840, 624, 164, 283, 232, 354, 541,  27,\n",
       "        391, 650, 721, 531,  25, 245, 109, 620, 719, 221, 743, 285, 761,\n",
       "        499, 467, 168, 753, 713, 235, 456, 130, 480, 442, 644, 686, 315,\n",
       "        527, 561, 689, 583, 458, 676, 641,  46,  73,  19, 195,  65, 420,\n",
       "        819, 215, 619, 316, 247, 721, 399, 353, 252, 187, 283, 201, 608,\n",
       "        691,  64, 601, 821, 470, 403, 457, 390, 419, 326, 701,  68, 128,\n",
       "        276, 623, 818, 555, 303, 450, 570, 464,  32, 669, 408, 776, 588,\n",
       "        685,  16, 652, 747,  96, 453, 140, 712,  61, 399, 253, 344, 137,\n",
       "        375, 267, 394, 405, 450, 122, 556, 558, 776, 327, 237, 185, 795,\n",
       "        767, 297, 721, 706, 392, 566, 312, 543, 302,  21, 573, 557,  73,\n",
       "         51, 427, 261,  73, 836,  81, 571, 339, 529, 599,  40, 147, 719,\n",
       "        600, 800, 613, 663,  41, 245,  98, 266, 798, 796, 159, 601, 816,\n",
       "        457, 267, 350, 241, 174, 363, 382,  68, 294, 847, 172, 726, 136,\n",
       "        609, 266, 448, 313,  50,  62, 652, 305, 138, 299, 720,  34,  30,\n",
       "        769, 404, 665, 755,  65, 802, 579, 347,  21, 125, 254, 294, 340,\n",
       "        785, 707, 554, 497, 725, 668, 502, 296, 194, 398, 383, 392, 335,\n",
       "        847, 702, 328, 755, 595, 367, 129, 805,  10, 621, 255, 655, 682,\n",
       "        820, 765, 529, 195, 162, 142, 405, 753, 370, 489, 547, 582, 282,\n",
       "        762, 561, 837, 849,  28, 175, 392, 377, 184, 621, 399, 268,  48,\n",
       "        733, 833, 277, 177, 554, 181, 101, 701, 819,   0, 715, 359, 550,\n",
       "        254, 825, 260, 696, 505, 460, 743, 563, 490, 309, 381, 358, 827,\n",
       "        627, 317, 401, 769, 130, 322, 778,  77, 522, 358, 258, 529, 198,\n",
       "        779, 836, 672, 140,  92, 408, 689, 616, 391, 726, 578, 444, 550,\n",
       "        555,  49, 533, 571, 672, 603,   2, 176, 392, 594, 170, 540,  19,\n",
       "        277, 275, 230, 313, 591, 228, 346, 231, 295, 227, 793, 673, 757,\n",
       "        584, 101, 194,   0,  72,  40, 409, 407, 113, 702, 409, 307,  53,\n",
       "        773, 727, 717, 689, 842, 465, 244, 393, 330,  61, 193, 713, 839,\n",
       "        358, 627, 531, 789, 214, 615, 142, 674, 613, 394, 303, 841, 217,\n",
       "        520, 179, 420, 728, 231, 609, 649, 402, 247,  41, 590, 159, 474,\n",
       "        461, 342, 388, 653, 423, 794, 415,  80, 390, 633,  31, 814, 797,\n",
       "        780,  76, 250, 455,  40, 786, 191, 313,  38, 297,  35, 410,  32,\n",
       "        579,  29, 435, 432, 672,   2, 588, 305, 622, 601, 801, 366, 688,\n",
       "        586, 516, 796, 218, 304, 211, 195,  54, 256, 113, 261, 273,  55,\n",
       "        702, 532, 359,  73, 329]),\n",
       " array([667, 193, 787, 340, 602, 330, 482, 399, 417, 690,  66,  95, 847,\n",
       "        449, 800,  89, 160, 100, 524, 117, 798, 821, 812, 828, 260,  63,\n",
       "        105, 274, 420, 814,  94,  79, 452, 717, 329, 523, 135, 101, 489,\n",
       "        566, 101, 165, 625, 676, 263, 327, 153,  96, 749, 753, 239, 719,\n",
       "        510, 312, 804,  14, 266, 179, 114, 507, 478, 611, 198, 545, 152,\n",
       "         73, 451, 153,  65,  71, 542,  80, 774, 316, 813, 116, 434,  88,\n",
       "        808, 750, 291, 763, 294, 184, 693, 231, 538, 532, 269, 827, 663,\n",
       "        216, 490, 403, 418, 394, 567,  51, 234, 563, 518, 818, 504, 661,\n",
       "        631, 566, 784,  92, 765, 564,   3, 841, 373, 312, 821,  17, 682,\n",
       "        209, 186, 725, 710, 841, 381, 736, 333, 145, 348, 364, 639, 749,\n",
       "        836, 527, 466, 283, 359, 694, 811, 540, 463, 214, 166, 644,  78,\n",
       "        579, 110, 394, 645, 411, 136, 457, 185, 223, 603, 730, 203, 490,\n",
       "        840, 108, 329, 184, 389,  14, 481, 265, 106, 366, 466, 807, 284,\n",
       "        225, 275, 127,  10, 832, 445, 425, 109, 550, 697, 379,  82, 407,\n",
       "        760, 282, 410, 605, 738, 255, 631, 319, 305, 704, 182,  18, 698,\n",
       "        487, 577, 351, 274,  26, 372, 594,  13, 583, 272, 818, 231, 686,\n",
       "        225, 300, 262, 735, 171, 360, 316, 228, 352, 208, 611, 722, 649,\n",
       "         15, 376, 610, 683,  68, 840, 373, 220, 614, 466, 661,  71, 658,\n",
       "          1, 339, 147, 318, 194, 367, 579, 535, 471, 675, 217, 683, 182,\n",
       "        616,  66, 442, 283, 372, 512, 389, 758, 197, 823, 803, 762,  30,\n",
       "        483, 730, 836, 528,   8, 225, 384, 624, 375, 626, 185, 579, 280,\n",
       "         12,  70, 234, 379, 451, 745, 467, 351, 593, 180, 415, 219, 175,\n",
       "        849, 133,  39, 225, 635, 638, 326, 733,  39, 178, 170, 220, 731,\n",
       "        776, 756, 232, 311, 486, 305, 242,  82, 507, 770, 315, 225, 610,\n",
       "        400, 685, 221, 827, 318, 806, 308, 463, 694, 364, 639, 415, 460,\n",
       "        631, 595, 333, 180, 220, 108, 584, 313, 364, 226, 188, 118, 462,\n",
       "        119, 626, 572, 365, 207, 131, 815, 591, 521, 701, 621, 221, 469,\n",
       "         61, 728,  49, 108, 563, 779, 375, 253, 496, 269, 242,   0, 639,\n",
       "        423,  53, 293, 662, 680, 183,  54, 318,  85, 376, 250, 456,  57,\n",
       "        115, 730, 664, 473,  72, 412, 682, 211, 589,  51, 190, 397, 376,\n",
       "         22, 412, 150,  58, 774, 272,  13, 516, 784, 555,  36, 674, 740,\n",
       "        302, 118, 690, 308, 492,  99, 127, 666, 113, 441, 154, 461, 785,\n",
       "        259, 495, 714, 732, 780, 339, 579, 554, 527, 394, 667, 524, 456,\n",
       "        185, 562, 782, 302, 472,  27, 652, 841, 432, 642, 818, 388, 250,\n",
       "        783, 513, 693, 602, 155, 816, 468, 326, 174,  82,  44, 216, 844,\n",
       "         15, 104, 296, 406, 797, 395, 262, 563, 190, 338, 765, 467, 451,\n",
       "          7, 758, 793, 253, 379, 607, 625, 268, 725, 152,  75, 118, 486,\n",
       "        173, 182, 293, 655, 466, 666, 176, 741, 428, 140, 716, 535, 757,\n",
       "        135, 545, 515, 558, 166, 307, 610, 781,  30, 187, 116, 707, 573,\n",
       "        720, 567, 365, 265, 294, 706,  70,  61, 547, 346, 407, 489, 584,\n",
       "        294, 398, 588, 267, 721, 358, 675, 255, 415, 836, 708, 421, 633,\n",
       "        786, 609, 666, 247, 295, 412, 590, 359, 116, 687, 394,  31, 213,\n",
       "        718, 350, 187, 695, 528, 714, 319, 241, 838,  81, 322, 766, 474,\n",
       "        822, 731,  68, 332, 694, 639, 187, 244, 147, 532, 677, 736, 484,\n",
       "        472, 588, 355, 790, 356, 736, 759, 181, 228, 381, 134, 172,  65,\n",
       "        696, 383,  14, 271, 664, 636, 819, 416, 735, 195, 350, 344, 320,\n",
       "        675, 399, 827, 428, 423, 209, 486, 665, 206,  16, 532, 839, 681,\n",
       "        393, 816, 695, 676,  19, 513, 556, 200, 732,  24, 600, 219, 694,\n",
       "        840, 717, 293, 247, 521, 626, 306, 155, 110, 222,  86, 837, 767,\n",
       "        641, 409, 500, 757,  28, 522, 542, 780, 447, 365, 689,  92, 722,\n",
       "        625, 436, 413,  74,  25,   7, 287,  41, 394, 399, 209, 476, 341,\n",
       "        145, 785, 357, 509, 612, 711, 646, 350, 304, 468, 532, 707, 603,\n",
       "         89,  29, 739, 802, 539, 790, 492, 515, 213, 697, 501, 718, 117,\n",
       "        452,  74, 334, 776, 746, 261, 784, 639, 634, 301,  99, 417, 592,\n",
       "        114,  68, 377, 242, 151, 643,   7, 830, 814,  60, 703, 495, 758,\n",
       "        554, 831, 588, 498, 479, 256,   2, 402,   2, 666, 754, 621, 314,\n",
       "        477,  47, 230, 626, 502, 498, 319, 625, 706, 713, 679, 694, 515,\n",
       "        530, 739,  30,  87, 446, 662, 677, 845, 494, 834, 697, 336, 169,\n",
       "        842, 818, 164, 250, 762, 828,  69, 179,  30, 518, 837, 370, 476,\n",
       "        787, 360, 323,  77, 117, 420, 434, 787, 463, 118, 328, 845,  22,\n",
       "        440, 843, 350, 235,   0, 626, 160, 541,  82, 676, 747, 455, 410,\n",
       "        367, 470, 181, 749, 663, 469, 307, 498, 799, 136, 201, 357, 404,\n",
       "         75,   5, 582, 417,  98, 242, 213, 798, 110, 726, 211, 818, 194,\n",
       "        842, 347,  88, 178, 764, 246,  57, 222, 827, 644, 589, 343, 182,\n",
       "        271, 794, 412, 649, 609, 712, 494, 667, 591, 485, 540, 615, 558,\n",
       "        460, 414, 304, 283, 788]),\n",
       " array([497, 620, 730, 775, 841, 573,  13, 108, 145, 704, 560,  45, 383,\n",
       "        260, 187, 108,  69, 508, 612,  84, 375, 477, 386, 345, 385, 362,\n",
       "        802, 355, 728, 712,  58, 834, 110, 374, 302, 592, 790,  46, 581,\n",
       "        547,  75, 423,  70,  71,  92, 533, 435, 446, 299, 473, 645,  41,\n",
       "        144, 206, 200, 547, 184, 692, 105, 772, 824, 294, 670, 586, 201,\n",
       "        483, 497, 646,  31, 770, 392, 780, 245, 595, 277, 691, 482, 332,\n",
       "        117, 824, 775, 116, 397, 114,  83, 425, 547, 560, 818, 598, 378,\n",
       "        136, 427, 642, 193, 673, 616, 775, 670, 293, 597, 764, 248, 810,\n",
       "         94, 214, 760, 741,  10, 668, 598, 318, 733, 694,  58, 819, 572,\n",
       "        604, 497,  13, 649, 503, 596, 201,  67, 764, 738, 372, 326, 138,\n",
       "        716, 319, 261, 670, 441, 519, 582, 504, 540, 543, 286,  18, 235,\n",
       "        760, 169, 456, 559, 154, 307, 813, 299, 606, 457,  10, 131, 205,\n",
       "        849, 317, 716, 106, 555, 749, 490, 369, 439, 175, 111, 174, 803,\n",
       "        292, 370,   2, 813, 631, 214, 692, 587, 361, 846, 640, 845, 684,\n",
       "        767, 812,   0, 542, 697, 320, 803, 339,  83, 472,  92, 732, 563,\n",
       "        628, 689, 238, 406,  72, 704, 524, 592,  98,  49, 588, 449, 231,\n",
       "        292, 130, 332, 433,  81, 599, 557, 237,  44, 628, 848, 588, 396,\n",
       "        453,  86, 820, 632, 712, 802, 354, 619, 849, 309, 467, 672, 633,\n",
       "         67, 595, 669, 303, 180,   3, 827, 725, 771, 627, 835, 101, 260,\n",
       "        111, 236, 793, 508, 401,  51, 343,  41, 103, 803, 527, 380, 841,\n",
       "        115, 195,  96, 560, 527, 817, 337, 302, 354,  81,  31, 542, 667,\n",
       "        176, 367, 781, 552, 485, 343, 373, 524, 397, 783, 444, 687, 122,\n",
       "        794, 428, 390, 236, 526, 395, 799, 493, 809, 706, 495, 686, 517,\n",
       "        572, 109, 153,  23, 398, 231, 128, 557, 779, 208, 813,  64, 687,\n",
       "         24, 358, 843, 146, 342, 114,   1, 185, 676, 804, 506, 702, 365,\n",
       "        326, 491, 783, 506, 110,  96, 543, 826, 142,  97, 398, 284, 677,\n",
       "        166,  84, 786,  45, 693, 825, 693, 503, 417, 619, 765, 238, 693,\n",
       "        609, 326, 373, 682,  82, 652,  58, 645, 235, 404, 539, 807,  25,\n",
       "        403,  34, 203, 576, 204, 459, 427, 695, 751, 779,  10, 342, 638,\n",
       "         59, 163, 787, 475, 721, 194, 271, 686, 774, 684, 283, 772,  62,\n",
       "        729,  91, 508,  49, 527, 495, 767, 667, 124, 636, 270, 702, 293,\n",
       "        272, 640, 578, 391, 380, 514, 708, 682, 475, 298,  91, 775, 614,\n",
       "        729, 133, 287, 103, 528, 810, 456, 692, 671, 132, 209,  26, 368,\n",
       "         55, 453, 382, 666, 648, 567,  57, 154, 723, 539, 640,  28, 575,\n",
       "        738, 444, 292, 827, 112, 471, 237, 652, 743, 283, 696, 424, 121,\n",
       "        181, 311, 574, 288, 668,  10, 654, 260, 805, 405, 413, 340, 275,\n",
       "        597, 761, 383, 184, 428,  13, 457, 292, 784, 543, 413,  85, 543,\n",
       "        340, 501, 175, 507, 180, 521, 795, 328, 276, 793, 734, 727, 235,\n",
       "        774, 249, 125, 683, 685, 662,  67, 483, 728, 841, 596, 289, 259,\n",
       "        324, 152, 576, 633, 258, 744, 612, 267, 607, 829, 560, 429, 679,\n",
       "        244, 611, 733, 547, 292, 276, 266, 213, 329, 605, 369, 435, 568,\n",
       "        567, 711, 571, 425, 601, 321, 732, 285, 387,  92, 111, 552, 487,\n",
       "        236, 135, 737, 723, 216,  30, 331, 212, 678, 323, 474, 610,  57,\n",
       "        356, 353, 232, 169, 125, 444, 820, 624,  84, 752, 742,  50, 266,\n",
       "        404, 374, 183, 742,  21, 601, 722, 796, 806, 507,  20, 332, 421,\n",
       "        675, 819, 831, 751, 128, 701, 690, 761, 177, 760, 294, 739, 418,\n",
       "        603, 722, 349, 290, 410, 324, 824, 447, 460,  68, 569, 588, 646,\n",
       "        519,   1, 835, 794, 559,  20, 295, 379, 100, 138, 362,   5, 533,\n",
       "        710, 815, 221, 434, 166, 475, 310, 260, 375,  11,  56, 234, 367,\n",
       "        126, 356,  79, 794, 720, 795, 738, 114, 387, 158, 353, 195,  49,\n",
       "        719, 448, 609, 469, 674, 298, 212, 279, 145, 752, 174, 302, 236,\n",
       "        220, 649, 302, 443, 131, 559, 616, 144, 588, 752, 230, 814, 412,\n",
       "        712, 619, 765, 641, 676, 214, 181, 642, 443,  69, 126, 647, 761,\n",
       "        497, 260,  64,  36, 563, 197, 657, 771, 568, 605,  94, 157, 825,\n",
       "        579, 295, 766, 832,  36, 264, 831, 592, 541, 743, 259, 650, 453,\n",
       "        841, 370, 257, 396, 224, 206, 525, 456, 583, 702, 440, 846, 833,\n",
       "        217,  94, 792, 834, 306, 662, 244, 604, 585, 596, 358,  97, 724,\n",
       "        330, 138, 429,  95, 664,  66, 510, 290, 705, 813, 462,  34, 302,\n",
       "        816, 493, 796, 717, 525, 176, 308, 116, 272, 410, 264, 158, 803,\n",
       "        313, 681, 805,   4, 240, 305, 613, 568, 403, 229, 705, 232, 214,\n",
       "        567, 431, 286, 710, 803, 811,  27, 689, 343,  68, 394, 728, 173,\n",
       "        807, 559, 466, 805, 270, 230, 519, 425, 556, 341, 180, 557, 204,\n",
       "        131, 322, 673, 100, 503, 254, 461,  21, 458, 595,  42, 270, 622,\n",
       "        246, 838, 564, 779, 435, 318, 725, 601, 235, 432, 312, 337, 434,\n",
       "        683, 548, 597, 396, 188, 554, 110, 327, 336, 329, 648, 369, 419,\n",
       "        431, 102, 584,  86, 484]),\n",
       " array([  2,  60, 458, 456,  62, 243, 499, 382, 281, 835, 712, 580, 239,\n",
       "        759, 757, 180, 323, 287, 154, 769, 229, 342, 296, 762, 598, 653,\n",
       "        379, 454, 418, 294,  36, 735, 724, 517, 581, 213, 818, 165, 231,\n",
       "        145, 299, 236, 679, 698, 297, 828, 702, 155, 365, 509, 345, 640,\n",
       "        422, 516, 217, 392, 543, 788, 323, 288, 454, 183,   4, 363, 529,\n",
       "        329, 498, 589, 351, 444, 519, 144, 445, 496, 420, 494, 511, 505,\n",
       "        584, 124, 835, 520, 257,  39, 433, 408,  84, 709, 468, 118, 206,\n",
       "        267, 802, 504, 758, 114, 314,   3,  48, 385, 691, 234, 362, 281,\n",
       "        510, 837, 823, 500, 276,  61, 205, 459, 662, 840,  99, 279, 258,\n",
       "        617, 353, 290, 409, 612, 722,  79, 726, 689, 782, 214, 252, 599,\n",
       "         11, 370,  46, 644,  44, 565, 343, 491, 310, 568, 330, 341, 601,\n",
       "        678, 270, 239, 717, 172, 242,  11,  38, 104, 781,  60,  24, 527,\n",
       "         77, 791, 477, 183,   3, 364, 579, 555, 335, 318, 774, 704, 167,\n",
       "        130, 793,  56, 849, 662, 596, 321, 584, 417, 762,  94, 117,  54,\n",
       "        333, 797, 796, 737, 260, 378, 196, 500, 262, 354, 339, 786, 606,\n",
       "        322, 264, 163, 514, 459, 752, 680,  17, 575, 755, 364, 199, 100,\n",
       "        759, 627, 587, 504, 300, 496, 664, 487, 565, 814, 407, 110, 483,\n",
       "        442, 785, 659, 390, 814, 725,  27, 500, 577, 795, 688, 446, 685,\n",
       "        734, 372, 132,  49, 105, 792, 413, 229, 289, 293, 344, 231, 232,\n",
       "        360, 800, 764, 241,  44, 552, 442, 444, 253, 148, 343, 693, 400,\n",
       "        738, 224, 716, 814, 380, 218, 459, 365, 278, 454, 375, 292, 672,\n",
       "         30, 811, 254, 464, 747, 399, 672, 774, 214, 651, 454, 230, 838,\n",
       "        105, 118, 446, 108, 612, 586, 246, 214, 390, 455, 690,  45, 806,\n",
       "        597, 684, 416, 770, 800, 201,  82, 168, 749, 448, 182,  95, 338,\n",
       "        117, 689, 417, 503, 614, 648, 410, 349, 202, 674, 552, 127,  31,\n",
       "        288, 714, 408, 490, 649, 837,  68, 117, 699, 616,  62,  90, 532,\n",
       "        602, 325, 599, 832, 727, 545,  84, 336, 839, 350, 111, 689, 447,\n",
       "        568, 106, 756, 517, 631, 562, 691, 639, 734, 623, 771, 464, 639,\n",
       "        458, 629, 703, 551, 472, 523, 636, 341, 445, 360, 562, 718, 696,\n",
       "        807,  93, 311, 113, 552,  58, 691, 202, 322, 116,  88, 166, 139,\n",
       "        496, 268, 839, 840,  18, 327, 603, 843, 376, 288, 275, 404, 552,\n",
       "        449, 815, 759, 766, 651, 142, 261,  94, 474, 547, 117, 187, 382,\n",
       "        495, 261, 183, 283, 217, 190, 704, 232, 184, 756, 513, 822, 228,\n",
       "        408, 629, 328, 418, 227, 789, 583, 178, 634, 848, 602, 467, 685,\n",
       "        829, 160,  49, 631, 399, 630, 801, 725, 777, 137, 169, 516, 181,\n",
       "        366, 469, 133, 153, 645,  63, 577, 706, 233, 657, 809, 582, 212,\n",
       "        491, 432, 180, 208, 337, 394, 780, 109, 294, 474, 254, 201, 222,\n",
       "        831, 343, 671, 345, 290, 768, 392, 285, 250, 452, 190, 723, 692,\n",
       "        763, 441, 363, 509, 657, 400, 259, 144, 210,  89, 336, 762, 557,\n",
       "        806, 740, 826, 113, 590, 757, 385, 732, 210, 435, 570,  29,  75,\n",
       "         64, 621, 753, 427, 155, 511, 669, 354, 196,  40, 714, 707, 317,\n",
       "        198, 298, 845, 611, 286, 100, 724, 238, 621, 768, 142, 450, 732,\n",
       "        806, 274, 632,  35, 282, 648,  21, 439, 209,  81, 552, 418,   0,\n",
       "        131, 291, 629, 659, 753, 637, 299, 101, 166, 614, 699, 693, 469,\n",
       "        208, 751, 746,  50, 342, 164, 687, 387, 617, 781, 321, 514, 216,\n",
       "        212, 636, 187, 636, 766, 386, 588, 316, 735, 350, 358, 321, 150,\n",
       "        179, 710, 296, 660, 838, 780, 475, 258, 153, 556, 420, 178,  47,\n",
       "        751, 476, 340, 307, 377, 810,  46,  69, 197, 506, 347, 658, 350,\n",
       "         81, 240, 397, 512, 466, 493, 726, 385, 695, 789, 586, 161, 499,\n",
       "        724, 458, 785, 628, 625, 201,  54, 505, 201, 336, 646, 811, 526,\n",
       "        336, 644, 707, 442, 103, 822, 155, 357, 316,   7, 277, 708, 301,\n",
       "        207, 796, 506, 345, 689, 831, 251,  78, 744, 425,  13,  48, 619,\n",
       "        679, 720, 289, 342, 803,  95, 595, 494, 141, 195, 712, 655, 741,\n",
       "         34, 232, 789,  96, 758, 484, 577, 435, 569, 533, 618, 352, 789,\n",
       "        410, 636, 606, 702, 560, 393, 515, 585, 818,  14, 178, 362, 579,\n",
       "         67, 338, 848, 133, 305,  41, 252,  58, 802, 149, 155, 433, 645,\n",
       "        461,  24, 632, 817, 551, 414, 462, 720, 803, 820, 637, 197, 822,\n",
       "        621, 479,   6, 239, 250, 138, 460, 309, 269, 757, 144, 663, 479,\n",
       "        772, 365, 634, 405, 287, 424, 784, 314, 460, 849, 136, 646, 226,\n",
       "        196,  70, 204, 550, 610, 325, 178, 170, 794, 484, 235,  95, 735,\n",
       "        530, 566, 374, 463, 314, 234,  62, 253, 322, 426, 575, 107, 746,\n",
       "        237, 702, 826, 271, 690, 554, 101,  98, 828, 609, 120, 592, 220,\n",
       "        236, 585, 286, 631,   5, 611, 230, 815, 400,  98, 363,  74, 756,\n",
       "        628,  63, 419, 706, 512, 296, 185, 372, 145, 836, 836, 627, 780,\n",
       "        756, 515, 549, 217, 420, 131, 448, 757,  88, 549, 219, 246,  42,\n",
       "        767,  86, 290, 828, 644])]"
      ]
     },
     "execution_count": 147,
     "metadata": {},
     "output_type": "execute_result"
    }
   ],
   "source": [
    "bag_model.estimators_samples_"
   ]
  },
  {
   "cell_type": "code",
   "execution_count": 148,
   "id": "2868a5a9-7404-4932-93d3-70a91060e6e1",
   "metadata": {},
   "outputs": [
    {
     "data": {
      "text/plain": [
       "DecisionTreeRegressor(random_state=1611233790)"
      ]
     },
     "execution_count": 148,
     "metadata": {},
     "output_type": "execute_result"
    }
   ],
   "source": [
    "bag_model.estimators_[1]"
   ]
  },
  {
   "cell_type": "code",
   "execution_count": 149,
   "id": "34125d65-25d9-4c7f-b399-e081250ca956",
   "metadata": {},
   "outputs": [],
   "source": [
    "y_pred = bag_model.predict(X_test)"
   ]
  },
  {
   "cell_type": "code",
   "execution_count": 150,
   "id": "f81c7dd5-17cb-498b-9de5-3a6ce01429b4",
   "metadata": {},
   "outputs": [
    {
     "data": {
      "text/plain": [
       "0.5721530869702421"
      ]
     },
     "execution_count": 150,
     "metadata": {},
     "output_type": "execute_result"
    }
   ],
   "source": [
    "np.sqrt(mean_squared_error(y_test, y_pred))"
   ]
  },
  {
   "cell_type": "code",
   "execution_count": 151,
   "id": "956059b3-bc90-46a9-9cf8-dbce43bd9e7d",
   "metadata": {},
   "outputs": [],
   "source": [
    "#bagged tree ile sapma değeri bulundu."
   ]
  },
  {
   "cell_type": "code",
   "execution_count": 152,
   "id": "aa8b9afd-adb9-4b54-9adf-43d1bbcce959",
   "metadata": {},
   "outputs": [],
   "source": [
    "yedi_y_pred = bag_model.estimators_[4].fit(X_train, y_train).predict(X_test)"
   ]
  },
  {
   "cell_type": "code",
   "execution_count": 153,
   "id": "e8140d5a-bdd2-4811-82bc-1b35104ed101",
   "metadata": {},
   "outputs": [
    {
     "data": {
      "text/plain": [
       "0.8027242348298067"
      ]
     },
     "execution_count": 153,
     "metadata": {},
     "output_type": "execute_result"
    }
   ],
   "source": [
    "np.sqrt(mean_squared_error(y_test, yedi_y_pred))"
   ]
  },
  {
   "cell_type": "code",
   "execution_count": 154,
   "id": "da7b0045-217a-460e-982e-b8e6ae04aa1f",
   "metadata": {},
   "outputs": [],
   "source": [
    "#bagged tree sabit parametre ile sapma değeri bulundu."
   ]
  },
  {
   "cell_type": "code",
   "execution_count": 155,
   "id": "ae69f213-9bcc-4e1e-9b29-9527d53e8623",
   "metadata": {},
   "outputs": [
    {
     "data": {
      "text/plain": [
       "BaggingRegressor(bootstrap_features=True)"
      ]
     },
     "execution_count": 155,
     "metadata": {},
     "output_type": "execute_result"
    }
   ],
   "source": [
    "bag_model = BaggingRegressor(bootstrap_features = True)\n",
    "bag_model.fit(X_train, y_train)"
   ]
  },
  {
   "cell_type": "code",
   "execution_count": 156,
   "id": "eb42c723-0ed5-41ee-baea-ed18e338dd3c",
   "metadata": {},
   "outputs": [],
   "source": [
    "bag_params = {\"n_estimators\": range(2,20)}"
   ]
  },
  {
   "cell_type": "code",
   "execution_count": 157,
   "id": "71d8b154-50b4-43bc-909c-e6c22d3ccb1e",
   "metadata": {},
   "outputs": [],
   "source": [
    "bag_cv_model = GridSearchCV(bag_model, bag_params, cv = 10)"
   ]
  },
  {
   "cell_type": "code",
   "execution_count": 158,
   "id": "087863a2-4946-473e-92ed-0c0452e7a6bd",
   "metadata": {},
   "outputs": [
    {
     "data": {
      "text/plain": [
       "GridSearchCV(cv=10, estimator=BaggingRegressor(bootstrap_features=True),\n",
       "             param_grid={'n_estimators': range(2, 20)})"
      ]
     },
     "execution_count": 158,
     "metadata": {},
     "output_type": "execute_result"
    }
   ],
   "source": [
    "bag_cv_model.fit(X_train, y_train)"
   ]
  },
  {
   "cell_type": "code",
   "execution_count": 159,
   "id": "b309d80c-480d-4742-ab70-0209f42c8e8c",
   "metadata": {},
   "outputs": [
    {
     "data": {
      "text/plain": [
       "{'n_estimators': 18}"
      ]
     },
     "execution_count": 159,
     "metadata": {},
     "output_type": "execute_result"
    }
   ],
   "source": [
    "bag_cv_model.best_params_"
   ]
  },
  {
   "cell_type": "code",
   "execution_count": 160,
   "id": "2f8cd46a-476d-492b-87e6-47e25263913c",
   "metadata": {},
   "outputs": [],
   "source": [
    "bag_tuned = BaggingRegressor( n_estimators = 17, random_state = 45)"
   ]
  },
  {
   "cell_type": "code",
   "execution_count": 161,
   "id": "42adc896-c1bb-4070-8012-3948aa15b88c",
   "metadata": {},
   "outputs": [
    {
     "data": {
      "text/plain": [
       "BaggingRegressor(n_estimators=17, random_state=45)"
      ]
     },
     "execution_count": 161,
     "metadata": {},
     "output_type": "execute_result"
    }
   ],
   "source": [
    "bag_tuned.fit(X_train, y_train)"
   ]
  },
  {
   "cell_type": "code",
   "execution_count": 162,
   "id": "4b87ee6e-00d9-47a2-a3e2-c90a79f37cab",
   "metadata": {},
   "outputs": [],
   "source": [
    "y_pred = bag_tuned.predict(X_test)"
   ]
  },
  {
   "cell_type": "code",
   "execution_count": 163,
   "id": "796da610-092c-4966-81c1-7a0e13b9e3c6",
   "metadata": {},
   "outputs": [
    {
     "data": {
      "text/plain": [
       "0.565638900585909"
      ]
     },
     "execution_count": 163,
     "metadata": {},
     "output_type": "execute_result"
    }
   ],
   "source": [
    "np.sqrt(mean_squared_error(y_test, y_pred))\n"
   ]
  },
  {
   "cell_type": "code",
   "execution_count": 164,
   "id": "60f1fc0d-cea4-4d34-9deb-9c655850e980",
   "metadata": {},
   "outputs": [],
   "source": [
    "# bagged tree algoritmasıyla model kurularak doğru parmetre bulundu ve en iyi sapma değeri belirlendi."
   ]
  },
  {
   "cell_type": "code",
   "execution_count": 165,
   "id": "488aadee-e4b8-4dcb-9a8d-5af85e5f4a55",
   "metadata": {},
   "outputs": [],
   "source": [
    "#Random Forests"
   ]
  },
  {
   "cell_type": "code",
   "execution_count": 166,
   "id": "a41defba-d29e-4f55-b94d-cda854e42dcf",
   "metadata": {},
   "outputs": [],
   "source": [
    "X_train, X_test, y_train, y_test = train_test_split(X, \n",
    "                                                    y, \n",
    "                                                    test_size=0.25, \n",
    "                                                    random_state=42)"
   ]
  },
  {
   "cell_type": "code",
   "execution_count": 167,
   "id": "130fe950-8fa5-4d8b-8c86-1f8781009a2f",
   "metadata": {},
   "outputs": [],
   "source": [
    "from sklearn.ensemble import RandomForestRegressor"
   ]
  },
  {
   "cell_type": "code",
   "execution_count": 168,
   "id": "8f676d45-17fe-4354-bfdf-f2d52a07c6cc",
   "metadata": {},
   "outputs": [],
   "source": [
    "rf_model = RandomForestRegressor(random_state = 42)"
   ]
  },
  {
   "cell_type": "code",
   "execution_count": 169,
   "id": "47d8bd4d-cece-4fc3-9138-59fb0b0967c1",
   "metadata": {},
   "outputs": [
    {
     "data": {
      "text/plain": [
       "RandomForestRegressor(random_state=42)"
      ]
     },
     "execution_count": 169,
     "metadata": {},
     "output_type": "execute_result"
    }
   ],
   "source": [
    "rf_model.fit(X_train, y_train)"
   ]
  },
  {
   "cell_type": "code",
   "execution_count": 170,
   "id": "f417ce20-76f9-4600-823d-fb088d20ffab",
   "metadata": {},
   "outputs": [
    {
     "data": {
      "text/plain": [
       "array([6.98, 6.45, 5.25, 5.12, 6.28])"
      ]
     },
     "execution_count": 170,
     "metadata": {},
     "output_type": "execute_result"
    }
   ],
   "source": [
    "rf_model.predict(X_test)[0:5]"
   ]
  },
  {
   "cell_type": "code",
   "execution_count": 171,
   "id": "7c92270f-16ba-4c96-91b3-23d39beb7ea6",
   "metadata": {},
   "outputs": [],
   "source": [
    "y_pred = rf_model.predict(X_test)"
   ]
  },
  {
   "cell_type": "code",
   "execution_count": 172,
   "id": "e28ab0fe-d4d2-4d0a-ba9a-aa5714a147bd",
   "metadata": {},
   "outputs": [
    {
     "data": {
      "text/plain": [
       "0.5427249322747906"
      ]
     },
     "execution_count": 172,
     "metadata": {},
     "output_type": "execute_result"
    }
   ],
   "source": [
    "np.sqrt(mean_squared_error(y_test, y_pred))"
   ]
  },
  {
   "cell_type": "code",
   "execution_count": 173,
   "id": "c86f763c-0dfa-4999-a63a-497b7dda5a67",
   "metadata": {},
   "outputs": [],
   "source": [
    "#Random Forest ile sapma değeri bulundu."
   ]
  },
  {
   "cell_type": "code",
   "execution_count": 174,
   "id": "669a40a8-ede5-4c55-a648-932ea20485f0",
   "metadata": {},
   "outputs": [],
   "source": [
    "rf_params = {'max_depth': list(range(1,10)),\n",
    "            'max_features': [3,5,10,15],\n",
    "            'n_estimators' : [100, 200, 500, 1000, 2000]}"
   ]
  },
  {
   "cell_type": "code",
   "execution_count": 175,
   "id": "23ed1264-4d58-435e-bdb0-e43a6cdb2e25",
   "metadata": {},
   "outputs": [],
   "source": [
    "rf_model = RandomForestRegressor(random_state = 42)"
   ]
  },
  {
   "cell_type": "code",
   "execution_count": 176,
   "id": "c628cb4d-0ad5-47de-8329-2f2b70aba7a9",
   "metadata": {},
   "outputs": [],
   "source": [
    "rf_cv_model = GridSearchCV(rf_model, \n",
    "                           rf_params, \n",
    "                           cv = 10, \n",
    "                            n_jobs = -1)"
   ]
  },
  {
   "cell_type": "code",
   "execution_count": 177,
   "id": "5abd0bbf-485c-4431-87fe-3ef422d4fa18",
   "metadata": {},
   "outputs": [
    {
     "data": {
      "text/plain": [
       "GridSearchCV(cv=10, estimator=RandomForestRegressor(random_state=42), n_jobs=-1,\n",
       "             param_grid={'max_depth': [1, 2, 3, 4, 5, 6, 7, 8, 9],\n",
       "                         'max_features': [3, 5, 10, 15],\n",
       "                         'n_estimators': [100, 200, 500, 1000, 2000]})"
      ]
     },
     "execution_count": 177,
     "metadata": {},
     "output_type": "execute_result"
    }
   ],
   "source": [
    "rf_cv_model.fit(X_train, y_train)"
   ]
  },
  {
   "cell_type": "code",
   "execution_count": 178,
   "id": "220011cd-ee56-4388-b811-5bd170fc8efc",
   "metadata": {},
   "outputs": [
    {
     "data": {
      "text/plain": [
       "{'max_depth': 9, 'max_features': 5, 'n_estimators': 200}"
      ]
     },
     "execution_count": 178,
     "metadata": {},
     "output_type": "execute_result"
    }
   ],
   "source": [
    "rf_cv_model.best_params_"
   ]
  },
  {
   "cell_type": "code",
   "execution_count": 179,
   "id": "a6345a73-2853-43de-a4bc-0cdb2fb35714",
   "metadata": {},
   "outputs": [],
   "source": [
    "rf_tuned = RandomForestRegressor(max_depth  = 9, \n",
    "                                 max_features = 5, \n",
    "                                 n_estimators =200)"
   ]
  },
  {
   "cell_type": "code",
   "execution_count": 180,
   "id": "a55f67a0-e6d6-4a31-964d-9c7e6dfffb47",
   "metadata": {},
   "outputs": [
    {
     "data": {
      "text/plain": [
       "RandomForestRegressor(max_depth=9, max_features=5, n_estimators=200)"
      ]
     },
     "execution_count": 180,
     "metadata": {},
     "output_type": "execute_result"
    }
   ],
   "source": [
    "rf_tuned.fit(X_train, y_train)"
   ]
  },
  {
   "cell_type": "code",
   "execution_count": 181,
   "id": "77aacec6-dcc2-4bc3-a210-98bd94936af3",
   "metadata": {},
   "outputs": [],
   "source": [
    "y_pred = rf_tuned.predict(X_test)"
   ]
  },
  {
   "cell_type": "code",
   "execution_count": 182,
   "id": "92c1f964-e80f-4523-9d12-78078c88c90d",
   "metadata": {},
   "outputs": [
    {
     "data": {
      "text/plain": [
       "0.5404122915466176"
      ]
     },
     "execution_count": 182,
     "metadata": {},
     "output_type": "execute_result"
    }
   ],
   "source": [
    "np.sqrt(mean_squared_error(y_test, y_pred))"
   ]
  },
  {
   "cell_type": "code",
   "execution_count": 183,
   "id": "0d52c076-f7ca-407d-9c2f-1161e43cf685",
   "metadata": {},
   "outputs": [],
   "source": [
    "# Random Forest algoritmasıyla model kurularak doğru parmetre bulundu ve en iyi sapma değeri belirlendi."
   ]
  },
  {
   "cell_type": "code",
   "execution_count": 184,
   "id": "bfa77591-a886-4592-b1c6-0235ecfe3e50",
   "metadata": {},
   "outputs": [],
   "source": [
    "Importance = pd.DataFrame({\"Importance\": rf_tuned.feature_importances_*100},\n",
    "                         index = X_train.columns)"
   ]
  },
  {
   "cell_type": "code",
   "execution_count": 185,
   "id": "f3954b7d-4e1d-433e-8808-78b3820bb610",
   "metadata": {},
   "outputs": [
    {
     "data": {
      "text/plain": [
       "Text(0.5, 0, 'Değişken Önem Düzeyleri')"
      ]
     },
     "execution_count": 185,
     "metadata": {},
     "output_type": "execute_result"
    },
    {
     "data": {
      "image/png": "[encoded data removed]",
      "text/plain": [
       "<Figure size 432x288 with 1 Axes>"
      ]
     },
     "metadata": {
      "needs_background": "light"
     },
     "output_type": "display_data"
    }
   ],
   "source": [
    "Importance.sort_values(by = \"Importance\", \n",
    "                       axis = 0, \n",
    "                       ascending = True).plot(kind =\"barh\", color = \"r\")\n",
    "\n",
    "plt.xlabel(\"Değişken Önem Düzeyleri\")"
   ]
  },
  {
   "cell_type": "code",
   "execution_count": 186,
   "id": "4d390ee6-28c4-4d41-b1b2-f6e8aa9fb645",
   "metadata": {},
   "outputs": [],
   "source": [
    "#Gradient Boosting Machines"
   ]
  },
  {
   "cell_type": "code",
   "execution_count": 187,
   "id": "0e9b64d0-9c11-489b-ba8c-c3796a99ad78",
   "metadata": {},
   "outputs": [],
   "source": [
    "X_train, X_test, y_train, y_test = train_test_split(X, \n",
    "                                                    y, \n",
    "                                                    test_size=0.25, \n",
    "                                                    random_state=42)"
   ]
  },
  {
   "cell_type": "code",
   "execution_count": 188,
   "id": "57898f28-af63-4729-94e0-d55077478462",
   "metadata": {},
   "outputs": [],
   "source": [
    "from sklearn.ensemble import GradientBoostingRegressor"
   ]
  },
  {
   "cell_type": "code",
   "execution_count": 189,
   "id": "a1b34310-c593-4f8f-b030-cb986e876ae1",
   "metadata": {},
   "outputs": [
    {
     "data": {
      "text/plain": [
       "GradientBoostingRegressor()"
      ]
     },
     "execution_count": 189,
     "metadata": {},
     "output_type": "execute_result"
    }
   ],
   "source": [
    "gbm_model = GradientBoostingRegressor()\n",
    "gbm_model.fit(X_train, y_train)"
   ]
  },
  {
   "cell_type": "code",
   "execution_count": 190,
   "id": "95504cac-e2b4-43ee-9fc9-f8b5c8375068",
   "metadata": {},
   "outputs": [
    {
     "data": {
      "text/plain": [
       "0.5729302149723129"
      ]
     },
     "execution_count": 190,
     "metadata": {},
     "output_type": "execute_result"
    }
   ],
   "source": [
    "y_pred = gbm_model.predict(X_test)\n",
    "np.sqrt(mean_squared_error(y_test, y_pred))"
   ]
  },
  {
   "cell_type": "code",
   "execution_count": 191,
   "id": "beda5066-1609-4302-afd9-d7b7ebe9d18f",
   "metadata": {},
   "outputs": [],
   "source": [
    "#Gradient Boosting Machines ile sapma değeri bulundu."
   ]
  },
  {
   "cell_type": "code",
   "execution_count": 192,
   "id": "cfa4f156-43b1-4de9-9ffc-7811c0e55cad",
   "metadata": {},
   "outputs": [],
   "source": [
    "gbm_params = {\n",
    "    'learning_rate': [ 0.1, 0.2],\n",
    "    'max_depth': [3, 5, 8],\n",
    "    'n_estimators': [200, 2000],\n",
    "    'subsample': [1,0.5,0.75],\n",
    "}"
   ]
  },
  {
   "cell_type": "code",
   "execution_count": 193,
   "id": "eeefc3d2-8d4a-4430-ab42-35a02b65f153",
   "metadata": {},
   "outputs": [
    {
     "name": "stdout",
     "output_type": "stream",
     "text": [
      "Fitting 10 folds for each of 36 candidates, totalling 360 fits\n"
     ]
    },
    {
     "data": {
      "text/plain": [
       "GridSearchCV(cv=10, estimator=GradientBoostingRegressor(), n_jobs=-1,\n",
       "             param_grid={'learning_rate': [0.1, 0.2], 'max_depth': [3, 5, 8],\n",
       "                         'n_estimators': [200, 2000],\n",
       "                         'subsample': [1, 0.5, 0.75]},\n",
       "             verbose=2)"
      ]
     },
     "execution_count": 193,
     "metadata": {},
     "output_type": "execute_result"
    }
   ],
   "source": [
    "gbm = GradientBoostingRegressor()\n",
    "gbm_cv_model = GridSearchCV(gbm, gbm_params, cv = 10, n_jobs = -1, verbose = 2)\n",
    "gbm_cv_model.fit(X_train, y_train)"
   ]
  },
  {
   "cell_type": "code",
   "execution_count": 194,
   "id": "2715b609-24db-478c-86f5-a84e72811142",
   "metadata": {},
   "outputs": [
    {
     "data": {
      "text/plain": [
       "{'learning_rate': 0.1, 'max_depth': 8, 'n_estimators': 2000, 'subsample': 0.5}"
      ]
     },
     "execution_count": 194,
     "metadata": {},
     "output_type": "execute_result"
    }
   ],
   "source": [
    "gbm_cv_model.best_params_"
   ]
  },
  {
   "cell_type": "code",
   "execution_count": 195,
   "id": "075716b8-f916-4898-b947-559ee3ddcc0f",
   "metadata": {},
   "outputs": [],
   "source": [
    "gbm_tuned = GradientBoostingRegressor(learning_rate = 0.1,  \n",
    "                                      max_depth = 5, \n",
    "                                      n_estimators = 200, \n",
    "                                      subsample = 0.75)\n",
    "\n",
    "gbm_tuned = gbm_tuned.fit(X_train,y_train)"
   ]
  },
  {
   "cell_type": "code",
   "execution_count": 196,
   "id": "0b27905f-70ce-414d-8b27-e31394ba4a1c",
   "metadata": {},
   "outputs": [
    {
     "data": {
      "text/plain": [
       "0.5666339407402485"
      ]
     },
     "execution_count": 196,
     "metadata": {},
     "output_type": "execute_result"
    }
   ],
   "source": [
    "y_pred = gbm_tuned.predict(X_test)\n",
    "np.sqrt(mean_squared_error(y_test, y_pred))"
   ]
  },
  {
   "cell_type": "code",
   "execution_count": 197,
   "id": "a3a67c09-c14b-4806-93b7-a311f6f8a29d",
   "metadata": {},
   "outputs": [],
   "source": [
    "# Gradient Boosting Machines algoritmasıyla model kurularak doğu parmetre bulundu ve en iyi sapma değeri belirlendi."
   ]
  },
  {
   "cell_type": "code",
   "execution_count": 198,
   "id": "f351c95c-3f8f-41b8-af63-e9653eadc863",
   "metadata": {},
   "outputs": [],
   "source": [
    "Importance = pd.DataFrame({\"Importance\": gbm_tuned.feature_importances_*100},\n",
    "                         index = X_train.columns)"
   ]
  },
  {
   "cell_type": "code",
   "execution_count": 199,
   "id": "5b195a2f-5b24-4910-8258-df6f2d49e965",
   "metadata": {},
   "outputs": [
    {
     "data": {
      "text/plain": [
       "Text(0.5, 0, 'Değişken Önem Düzeyleri')"
      ]
     },
     "execution_count": 199,
     "metadata": {},
     "output_type": "execute_result"
    },
    {
     "data": {
      "image/png": "[encoded data removed]",
      "text/plain": [
       "<Figure size 432x288 with 1 Axes>"
      ]
     },
     "metadata": {
      "needs_background": "light"
     },
     "output_type": "display_data"
    }
   ],
   "source": [
    "Importance.sort_values(by = \"Importance\", \n",
    "                       axis = 0, \n",
    "                       ascending = True).plot(kind =\"barh\", color = \"r\")\n",
    "\n",
    "plt.xlabel(\"Değişken Önem Düzeyleri\")"
   ]
  },
  {
   "cell_type": "code",
   "execution_count": 200,
   "id": "666004f2-30be-4acb-9e16-c4249bf1589a",
   "metadata": {},
   "outputs": [],
   "source": [
    "#XGBoost"
   ]
  },
  {
   "cell_type": "code",
   "execution_count": 201,
   "id": "a5fe6cb9-1ad2-4f3d-87f5-5e72a989c1ec",
   "metadata": {},
   "outputs": [],
   "source": [
    "X_train, X_test, y_train, y_test = train_test_split(X, \n",
    "                                                    y, \n",
    "                                                    test_size=0.25, \n",
    "                                                    random_state=42)"
   ]
  },
  {
   "cell_type": "code",
   "execution_count": 202,
   "id": "50ab563d-29ee-4814-bd20-e2d568277e14",
   "metadata": {},
   "outputs": [
    {
     "name": "stdout",
     "output_type": "stream",
     "text": [
      "Requirement already satisfied: xgboost in c:\\users\\sefao\\anaconda3\\lib\\site-packages (1.6.1)\n",
      "Requirement already satisfied: numpy in c:\\users\\sefao\\anaconda3\\lib\\site-packages (from xgboost) (1.20.3)\n",
      "Requirement already satisfied: scipy in c:\\users\\sefao\\anaconda3\\lib\\site-packages (from xgboost) (1.7.1)\n"
     ]
    }
   ],
   "source": [
    "!pip install xgboost"
   ]
  },
  {
   "cell_type": "code",
   "execution_count": 203,
   "id": "60ffc224-0b4b-4204-8255-1541ba9ff7ee",
   "metadata": {},
   "outputs": [],
   "source": [
    "import xgboost as xgb"
   ]
  },
  {
   "cell_type": "code",
   "execution_count": 204,
   "id": "68a1f90c-81ec-42dd-bc48-796d0abd616f",
   "metadata": {},
   "outputs": [],
   "source": [
    "DM_train = xgb.DMatrix(data = X_train, label = y_train)\n",
    "DM_test = xgb.DMatrix(data = X_test, label = y_test)"
   ]
  },
  {
   "cell_type": "code",
   "execution_count": 205,
   "id": "f1303df9-968a-4677-a48c-d4c211db7ca8",
   "metadata": {},
   "outputs": [],
   "source": [
    "from xgboost import XGBRegressor"
   ]
  },
  {
   "cell_type": "code",
   "execution_count": 206,
   "id": "02a7f114-c1bb-4a86-a685-357bc3c60b86",
   "metadata": {},
   "outputs": [],
   "source": [
    "xgb_model = XGBRegressor().fit(X_train, y_train)"
   ]
  },
  {
   "cell_type": "code",
   "execution_count": 207,
   "id": "603ea974-639c-48ed-aadf-7910331e4be1",
   "metadata": {},
   "outputs": [
    {
     "data": {
      "text/plain": [
       "0.570208878389373"
      ]
     },
     "execution_count": 207,
     "metadata": {},
     "output_type": "execute_result"
    }
   ],
   "source": [
    "y_pred = xgb_model.predict(X_test)\n",
    "np.sqrt(mean_squared_error(y_test, y_pred))"
   ]
  },
  {
   "cell_type": "code",
   "execution_count": 208,
   "id": "d6583309-b759-4337-b02b-e1255908970c",
   "metadata": {},
   "outputs": [],
   "source": [
    "#XGBoost ile sapma değeri bulundu."
   ]
  },
  {
   "cell_type": "code",
   "execution_count": 209,
   "id": "9b1a50ac-2549-48a2-a12a-79a5e08c1c48",
   "metadata": {},
   "outputs": [
    {
     "data": {
      "text/plain": [
       "XGBRegressor(base_score=0.5, booster='gbtree', callbacks=None,\n",
       "             colsample_bylevel=1, colsample_bynode=1, colsample_bytree=1,\n",
       "             early_stopping_rounds=None, enable_categorical=False,\n",
       "             eval_metric=None, gamma=0, gpu_id=-1, grow_policy='depthwise',\n",
       "             importance_type=None, interaction_constraints='',\n",
       "             learning_rate=0.300000012, max_bin=256, max_cat_to_onehot=4,\n",
       "             max_delta_step=0, max_depth=6, max_leaves=0, min_child_weight=1,\n",
       "             missing=nan, monotone_constraints='()', n_estimators=100, n_jobs=0,\n",
       "             num_parallel_tree=1, predictor='auto', random_state=0, reg_alpha=0,\n",
       "             reg_lambda=1, ...)"
      ]
     },
     "execution_count": 209,
     "metadata": {},
     "output_type": "execute_result"
    }
   ],
   "source": [
    "xgb_model"
   ]
  },
  {
   "cell_type": "code",
   "execution_count": 210,
   "id": "f33450c2-46ce-4a85-8e1d-0bca9dac552d",
   "metadata": {},
   "outputs": [],
   "source": [
    "xgb_grid = {\n",
    "     'colsample_bytree': [0.4, 0.5], \n",
    "     'n_estimators':[100,500, 1000],\n",
    "     'max_depth': [2,5,6],\n",
    "     'learning_rate': [0.01,0.5]\n",
    "}\n"
   ]
  },
  {
   "cell_type": "code",
   "execution_count": 211,
   "id": "127730ba-436c-47cb-8c10-513fdcc54b6b",
   "metadata": {},
   "outputs": [
    {
     "name": "stdout",
     "output_type": "stream",
     "text": [
      "Fitting 10 folds for each of 36 candidates, totalling 360 fits\n"
     ]
    },
    {
     "data": {
      "text/plain": [
       "GridSearchCV(cv=10,\n",
       "             estimator=XGBRegressor(base_score=None, booster=None,\n",
       "                                    callbacks=None, colsample_bylevel=None,\n",
       "                                    colsample_bynode=None,\n",
       "                                    colsample_bytree=None,\n",
       "                                    early_stopping_rounds=None,\n",
       "                                    enable_categorical=False, eval_metric=None,\n",
       "                                    gamma=None, gpu_id=None, grow_policy=None,\n",
       "                                    importance_type=None,\n",
       "                                    interaction_constraints=None,\n",
       "                                    learning_rate=None, max_bin=None,\n",
       "                                    max_ca...\n",
       "                                    max_depth=None, max_leaves=None,\n",
       "                                    min_child_weight=None, missing=nan,\n",
       "                                    monotone_constraints=None, n_estimators=100,\n",
       "                                    n_jobs=None, num_parallel_tree=None,\n",
       "                                    predictor=None, random_state=None,\n",
       "                                    reg_alpha=None, reg_lambda=None, ...),\n",
       "             n_jobs=-1,\n",
       "             param_grid={'colsample_bytree': [0.4, 0.5],\n",
       "                         'learning_rate': [0.01, 0.5], 'max_depth': [2, 5, 6],\n",
       "                         'n_estimators': [100, 500, 1000]},\n",
       "             verbose=2)"
      ]
     },
     "execution_count": 211,
     "metadata": {},
     "output_type": "execute_result"
    }
   ],
   "source": [
    "xgb = XGBRegressor()\n",
    "\n",
    "xgb_cv = GridSearchCV(xgb, \n",
    "                      param_grid = xgb_grid, \n",
    "                      cv = 10, \n",
    "                      n_jobs = -1,\n",
    "                      verbose = 2)\n",
    "\n",
    "\n",
    "xgb_cv.fit(X_train, y_train)"
   ]
  },
  {
   "cell_type": "code",
   "execution_count": 212,
   "id": "73109632-9994-4e0d-8fa6-662fa8731e6b",
   "metadata": {},
   "outputs": [
    {
     "data": {
      "text/plain": [
       "{'colsample_bytree': 0.4,\n",
       " 'learning_rate': 0.01,\n",
       " 'max_depth': 6,\n",
       " 'n_estimators': 1000}"
      ]
     },
     "execution_count": 212,
     "metadata": {},
     "output_type": "execute_result"
    }
   ],
   "source": [
    "xgb_cv.best_params_"
   ]
  },
  {
   "cell_type": "code",
   "execution_count": 213,
   "id": "43f7c1a1-83d1-4161-9cfc-864d448dcb9b",
   "metadata": {},
   "outputs": [],
   "source": [
    "xgb_tuned = XGBRegressor(colsample_bytree = 0.4, \n",
    "                         learning_rate = 0.01, \n",
    "                         max_depth = 6, \n",
    "                         n_estimators = 1000) \n",
    "\n",
    "xgb_tuned = xgb_tuned.fit(X_train,y_train)"
   ]
  },
  {
   "cell_type": "code",
   "execution_count": 214,
   "id": "663aa4dc-fc7b-4f93-a350-36fc9377fd78",
   "metadata": {},
   "outputs": [
    {
     "data": {
      "text/plain": [
       "0.5348524522587411"
      ]
     },
     "execution_count": 214,
     "metadata": {},
     "output_type": "execute_result"
    }
   ],
   "source": [
    "y_pred = xgb_tuned.predict(X_test)\n",
    "np.sqrt(mean_squared_error(y_test, y_pred))"
   ]
  },
  {
   "cell_type": "code",
   "execution_count": 215,
   "id": "bcc6135d-8cd6-424d-9f03-9e3f294bd977",
   "metadata": {},
   "outputs": [],
   "source": [
    "# XGBoost algoritmasıyla model kurularak doğu parmetre bulundu ve en iyi sapma değeri belirlendi."
   ]
  },
  {
   "cell_type": "code",
   "execution_count": 216,
   "id": "dbb8b6d5-0f73-4704-92b7-5b0cc31440ba",
   "metadata": {},
   "outputs": [],
   "source": [
    "Importance = pd.DataFrame({\"Importance\": xgb_tuned.feature_importances_*100},\n",
    "                         index = X_train.columns)"
   ]
  },
  {
   "cell_type": "code",
   "execution_count": 217,
   "id": "b81f2273-e3f7-4324-b0b4-a4b1e5fbbc52",
   "metadata": {},
   "outputs": [
    {
     "data": {
      "text/plain": [
       "Text(0.5, 0, 'Değişken Önem Düzeyleri')"
      ]
     },
     "execution_count": 217,
     "metadata": {},
     "output_type": "execute_result"
    },
    {
     "data": {
      "image/png": "[encoded data removed]",
      "text/plain": [
       "<Figure size 432x288 with 1 Axes>"
      ]
     },
     "metadata": {
      "needs_background": "light"
     },
     "output_type": "display_data"
    }
   ],
   "source": [
    "Importance.sort_values(by = \"Importance\", \n",
    "                       axis = 0, \n",
    "                       ascending = True).plot(kind =\"barh\", color = \"r\")\n",
    "\n",
    "plt.xlabel(\"Değişken Önem Düzeyleri\")"
   ]
  },
  {
   "cell_type": "code",
   "execution_count": 218,
   "id": "3d3b45ad-6dc1-46b0-872a-2e2f7accb97d",
   "metadata": {},
   "outputs": [],
   "source": [
    "#CatBoost"
   ]
  },
  {
   "cell_type": "code",
   "execution_count": 219,
   "id": "47d391bd-0769-40b0-aa8e-99c8149d41cd",
   "metadata": {},
   "outputs": [],
   "source": [
    "X_train, X_test, y_train, y_test = train_test_split(X, \n",
    "                                                    y, \n",
    "                                                    test_size=0.25, \n",
    "                                                    random_state=42)"
   ]
  },
  {
   "cell_type": "code",
   "execution_count": 220,
   "id": "7b6aa557-0900-43f4-bbf6-35fe85c404de",
   "metadata": {
    "tags": []
   },
   "outputs": [
    {
     "name": "stdout",
     "output_type": "stream",
     "text": [
      "Requirement already satisfied: catboost in c:\\users\\sefao\\anaconda3\\lib\\site-packages (1.0.6)\n",
      "Requirement already satisfied: matplotlib in c:\\users\\sefao\\anaconda3\\lib\\site-packages (from catboost) (3.4.3)\n",
      "Requirement already satisfied: six in c:\\users\\sefao\\anaconda3\\lib\\site-packages (from catboost) (1.16.0)\n",
      "Requirement already satisfied: scipy in c:\\users\\sefao\\anaconda3\\lib\\site-packages (from catboost) (1.7.1)\n",
      "Requirement already satisfied: graphviz in c:\\users\\sefao\\anaconda3\\lib\\site-packages (from catboost) (0.20)\n",
      "Requirement already satisfied: numpy>=1.16.0 in c:\\users\\sefao\\anaconda3\\lib\\site-packages (from catboost) (1.20.3)\n",
      "Requirement already satisfied: pandas>=0.24.0 in c:\\users\\sefao\\anaconda3\\lib\\site-packages (from catboost) (1.3.4)\n",
      "Requirement already satisfied: plotly in c:\\users\\sefao\\anaconda3\\lib\\site-packages (from catboost) (5.8.0)\n",
      "Requirement already satisfied: pytz>=2017.3 in c:\\users\\sefao\\anaconda3\\lib\\site-packages (from pandas>=0.24.0->catboost) (2021.3)\n",
      "Requirement already satisfied: python-dateutil>=2.7.3 in c:\\users\\sefao\\anaconda3\\lib\\site-packages (from pandas>=0.24.0->catboost) (2.8.2)\n",
      "Requirement already satisfied: pyparsing>=2.2.1 in c:\\users\\sefao\\anaconda3\\lib\\site-packages (from matplotlib->catboost) (3.0.4)\n",
      "Requirement already satisfied: pillow>=6.2.0 in c:\\users\\sefao\\anaconda3\\lib\\site-packages (from matplotlib->catboost) (8.4.0)\n",
      "Requirement already satisfied: cycler>=0.10 in c:\\users\\sefao\\anaconda3\\lib\\site-packages (from matplotlib->catboost) (0.10.0)\n",
      "Requirement already satisfied: kiwisolver>=1.0.1 in c:\\users\\sefao\\anaconda3\\lib\\site-packages (from matplotlib->catboost) (1.3.1)\n",
      "Requirement already satisfied: tenacity>=6.2.0 in c:\\users\\sefao\\anaconda3\\lib\\site-packages (from plotly->catboost) (8.0.1)\n"
     ]
    }
   ],
   "source": [
    "!pip install catboost"
   ]
  },
  {
   "cell_type": "code",
   "execution_count": 221,
   "id": "6338904d-d1df-4bfd-8481-eea00d9970d5",
   "metadata": {},
   "outputs": [],
   "source": [
    "from catboost import CatBoostRegressor"
   ]
  },
  {
   "cell_type": "code",
   "execution_count": 222,
   "id": "51521e5b-b2f9-4d81-af7f-8ee1fb20a0e5",
   "metadata": {
    "collapsed": true,
    "jupyter": {
     "outputs_hidden": true
    },
    "tags": []
   },
   "outputs": [
    {
     "name": "stdout",
     "output_type": "stream",
     "text": [
      "Learning rate set to 0.039905\n",
      "0:\tlearn: 0.7564570\ttotal: 146ms\tremaining: 2m 25s\n",
      "1:\tlearn: 0.7477137\ttotal: 147ms\tremaining: 1m 13s\n",
      "2:\tlearn: 0.7380778\ttotal: 148ms\tremaining: 49.3s\n",
      "3:\tlearn: 0.7294301\ttotal: 150ms\tremaining: 37.3s\n",
      "4:\tlearn: 0.7213596\ttotal: 151ms\tremaining: 30s\n",
      "5:\tlearn: 0.7139018\ttotal: 152ms\tremaining: 25.2s\n",
      "6:\tlearn: 0.7064689\ttotal: 153ms\tremaining: 21.8s\n",
      "7:\tlearn: 0.6989195\ttotal: 155ms\tremaining: 19.2s\n",
      "8:\tlearn: 0.6920737\ttotal: 156ms\tremaining: 17.2s\n",
      "9:\tlearn: 0.6861489\ttotal: 157ms\tremaining: 15.5s\n",
      "10:\tlearn: 0.6803430\ttotal: 158ms\tremaining: 14.2s\n",
      "11:\tlearn: 0.6735932\ttotal: 160ms\tremaining: 13.1s\n",
      "12:\tlearn: 0.6685090\ttotal: 161ms\tremaining: 12.2s\n",
      "13:\tlearn: 0.6629925\ttotal: 162ms\tremaining: 11.4s\n",
      "14:\tlearn: 0.6576584\ttotal: 164ms\tremaining: 10.7s\n",
      "15:\tlearn: 0.6529162\ttotal: 165ms\tremaining: 10.1s\n",
      "16:\tlearn: 0.6485169\ttotal: 166ms\tremaining: 9.6s\n",
      "17:\tlearn: 0.6438058\ttotal: 168ms\tremaining: 9.14s\n",
      "18:\tlearn: 0.6395365\ttotal: 169ms\tremaining: 8.72s\n",
      "19:\tlearn: 0.6352431\ttotal: 170ms\tremaining: 8.34s\n",
      "20:\tlearn: 0.6314873\ttotal: 171ms\tremaining: 7.99s\n",
      "21:\tlearn: 0.6276079\ttotal: 173ms\tremaining: 7.68s\n",
      "22:\tlearn: 0.6244236\ttotal: 174ms\tremaining: 7.39s\n",
      "23:\tlearn: 0.6218004\ttotal: 175ms\tremaining: 7.13s\n",
      "24:\tlearn: 0.6184546\ttotal: 176ms\tremaining: 6.88s\n",
      "25:\tlearn: 0.6144776\ttotal: 178ms\tremaining: 6.66s\n",
      "26:\tlearn: 0.6113957\ttotal: 179ms\tremaining: 6.45s\n",
      "27:\tlearn: 0.6086268\ttotal: 180ms\tremaining: 6.25s\n",
      "28:\tlearn: 0.6056058\ttotal: 181ms\tremaining: 6.07s\n",
      "29:\tlearn: 0.6027488\ttotal: 183ms\tremaining: 5.91s\n",
      "30:\tlearn: 0.6004877\ttotal: 184ms\tremaining: 5.75s\n",
      "31:\tlearn: 0.5974658\ttotal: 185ms\tremaining: 5.6s\n",
      "32:\tlearn: 0.5949200\ttotal: 186ms\tremaining: 5.46s\n",
      "33:\tlearn: 0.5928078\ttotal: 188ms\tremaining: 5.33s\n",
      "34:\tlearn: 0.5903114\ttotal: 189ms\tremaining: 5.21s\n",
      "35:\tlearn: 0.5879214\ttotal: 190ms\tremaining: 5.09s\n",
      "36:\tlearn: 0.5862158\ttotal: 191ms\tremaining: 4.98s\n",
      "37:\tlearn: 0.5845108\ttotal: 193ms\tremaining: 4.87s\n",
      "38:\tlearn: 0.5826617\ttotal: 194ms\tremaining: 4.77s\n",
      "39:\tlearn: 0.5807036\ttotal: 195ms\tremaining: 4.69s\n",
      "40:\tlearn: 0.5788530\ttotal: 197ms\tremaining: 4.6s\n",
      "41:\tlearn: 0.5773103\ttotal: 198ms\tremaining: 4.51s\n",
      "42:\tlearn: 0.5754317\ttotal: 199ms\tremaining: 4.43s\n",
      "43:\tlearn: 0.5734942\ttotal: 200ms\tremaining: 4.35s\n",
      "44:\tlearn: 0.5713625\ttotal: 202ms\tremaining: 4.28s\n",
      "45:\tlearn: 0.5693663\ttotal: 203ms\tremaining: 4.21s\n",
      "46:\tlearn: 0.5671202\ttotal: 204ms\tremaining: 4.14s\n",
      "47:\tlearn: 0.5653848\ttotal: 206ms\tremaining: 4.08s\n",
      "48:\tlearn: 0.5637739\ttotal: 207ms\tremaining: 4.01s\n",
      "49:\tlearn: 0.5620448\ttotal: 208ms\tremaining: 3.95s\n",
      "50:\tlearn: 0.5601839\ttotal: 209ms\tremaining: 3.89s\n",
      "51:\tlearn: 0.5588443\ttotal: 211ms\tremaining: 3.84s\n",
      "52:\tlearn: 0.5572475\ttotal: 212ms\tremaining: 3.79s\n",
      "53:\tlearn: 0.5560004\ttotal: 213ms\tremaining: 3.73s\n",
      "54:\tlearn: 0.5547574\ttotal: 214ms\tremaining: 3.68s\n",
      "55:\tlearn: 0.5536062\ttotal: 216ms\tremaining: 3.63s\n",
      "56:\tlearn: 0.5528551\ttotal: 217ms\tremaining: 3.59s\n",
      "57:\tlearn: 0.5512852\ttotal: 218ms\tremaining: 3.55s\n",
      "58:\tlearn: 0.5496054\ttotal: 219ms\tremaining: 3.5s\n",
      "59:\tlearn: 0.5485412\ttotal: 221ms\tremaining: 3.46s\n",
      "60:\tlearn: 0.5469203\ttotal: 222ms\tremaining: 3.41s\n",
      "61:\tlearn: 0.5454139\ttotal: 223ms\tremaining: 3.37s\n",
      "62:\tlearn: 0.5443104\ttotal: 224ms\tremaining: 3.33s\n",
      "63:\tlearn: 0.5430693\ttotal: 225ms\tremaining: 3.3s\n",
      "64:\tlearn: 0.5421323\ttotal: 227ms\tremaining: 3.26s\n",
      "65:\tlearn: 0.5410281\ttotal: 228ms\tremaining: 3.22s\n",
      "66:\tlearn: 0.5396842\ttotal: 229ms\tremaining: 3.19s\n",
      "67:\tlearn: 0.5387725\ttotal: 230ms\tremaining: 3.15s\n",
      "68:\tlearn: 0.5378104\ttotal: 231ms\tremaining: 3.12s\n",
      "69:\tlearn: 0.5370073\ttotal: 233ms\tremaining: 3.09s\n",
      "70:\tlearn: 0.5357187\ttotal: 234ms\tremaining: 3.06s\n",
      "71:\tlearn: 0.5349402\ttotal: 235ms\tremaining: 3.03s\n",
      "72:\tlearn: 0.5340794\ttotal: 236ms\tremaining: 3s\n",
      "73:\tlearn: 0.5331386\ttotal: 237ms\tremaining: 2.97s\n",
      "74:\tlearn: 0.5319196\ttotal: 238ms\tremaining: 2.94s\n",
      "75:\tlearn: 0.5311708\ttotal: 240ms\tremaining: 2.91s\n",
      "76:\tlearn: 0.5305396\ttotal: 241ms\tremaining: 2.88s\n",
      "77:\tlearn: 0.5295340\ttotal: 242ms\tremaining: 2.86s\n",
      "78:\tlearn: 0.5290803\ttotal: 243ms\tremaining: 2.83s\n",
      "79:\tlearn: 0.5287559\ttotal: 244ms\tremaining: 2.81s\n",
      "80:\tlearn: 0.5281079\ttotal: 245ms\tremaining: 2.78s\n",
      "81:\tlearn: 0.5272897\ttotal: 246ms\tremaining: 2.76s\n",
      "82:\tlearn: 0.5266287\ttotal: 248ms\tremaining: 2.74s\n",
      "83:\tlearn: 0.5256803\ttotal: 249ms\tremaining: 2.71s\n",
      "84:\tlearn: 0.5248874\ttotal: 250ms\tremaining: 2.69s\n",
      "85:\tlearn: 0.5244256\ttotal: 251ms\tremaining: 2.67s\n",
      "86:\tlearn: 0.5233859\ttotal: 252ms\tremaining: 2.65s\n",
      "87:\tlearn: 0.5218957\ttotal: 254ms\tremaining: 2.63s\n",
      "88:\tlearn: 0.5213811\ttotal: 255ms\tremaining: 2.6s\n",
      "89:\tlearn: 0.5209524\ttotal: 256ms\tremaining: 2.58s\n",
      "90:\tlearn: 0.5199849\ttotal: 257ms\tremaining: 2.56s\n",
      "91:\tlearn: 0.5194114\ttotal: 258ms\tremaining: 2.54s\n",
      "92:\tlearn: 0.5189208\ttotal: 259ms\tremaining: 2.52s\n",
      "93:\tlearn: 0.5180507\ttotal: 260ms\tremaining: 2.5s\n",
      "94:\tlearn: 0.5175505\ttotal: 261ms\tremaining: 2.49s\n",
      "95:\tlearn: 0.5163217\ttotal: 262ms\tremaining: 2.47s\n",
      "96:\tlearn: 0.5161712\ttotal: 263ms\tremaining: 2.45s\n",
      "97:\tlearn: 0.5152399\ttotal: 264ms\tremaining: 2.43s\n",
      "98:\tlearn: 0.5147991\ttotal: 265ms\tremaining: 2.42s\n",
      "99:\tlearn: 0.5139796\ttotal: 266ms\tremaining: 2.4s\n",
      "100:\tlearn: 0.5130239\ttotal: 267ms\tremaining: 2.38s\n",
      "101:\tlearn: 0.5118428\ttotal: 269ms\tremaining: 2.37s\n",
      "102:\tlearn: 0.5115671\ttotal: 270ms\tremaining: 2.35s\n",
      "103:\tlearn: 0.5109092\ttotal: 271ms\tremaining: 2.33s\n",
      "104:\tlearn: 0.5101447\ttotal: 272ms\tremaining: 2.32s\n",
      "105:\tlearn: 0.5096481\ttotal: 273ms\tremaining: 2.3s\n",
      "106:\tlearn: 0.5091493\ttotal: 275ms\tremaining: 2.29s\n",
      "107:\tlearn: 0.5082202\ttotal: 276ms\tremaining: 2.28s\n",
      "108:\tlearn: 0.5077332\ttotal: 277ms\tremaining: 2.26s\n",
      "109:\tlearn: 0.5073343\ttotal: 278ms\tremaining: 2.25s\n",
      "110:\tlearn: 0.5066333\ttotal: 279ms\tremaining: 2.23s\n",
      "111:\tlearn: 0.5059178\ttotal: 280ms\tremaining: 2.22s\n",
      "112:\tlearn: 0.5048831\ttotal: 281ms\tremaining: 2.21s\n",
      "113:\tlearn: 0.5039707\ttotal: 282ms\tremaining: 2.19s\n",
      "114:\tlearn: 0.5036840\ttotal: 283ms\tremaining: 2.18s\n",
      "115:\tlearn: 0.5028885\ttotal: 284ms\tremaining: 2.17s\n",
      "116:\tlearn: 0.5023100\ttotal: 285ms\tremaining: 2.15s\n",
      "117:\tlearn: 0.5017684\ttotal: 286ms\tremaining: 2.14s\n",
      "118:\tlearn: 0.5011952\ttotal: 288ms\tremaining: 2.13s\n",
      "119:\tlearn: 0.5005100\ttotal: 289ms\tremaining: 2.12s\n",
      "120:\tlearn: 0.4996684\ttotal: 290ms\tremaining: 2.1s\n",
      "121:\tlearn: 0.4992826\ttotal: 291ms\tremaining: 2.09s\n",
      "122:\tlearn: 0.4987837\ttotal: 292ms\tremaining: 2.08s\n",
      "123:\tlearn: 0.4979386\ttotal: 293ms\tremaining: 2.07s\n",
      "124:\tlearn: 0.4968039\ttotal: 294ms\tremaining: 2.06s\n",
      "125:\tlearn: 0.4957279\ttotal: 295ms\tremaining: 2.04s\n",
      "126:\tlearn: 0.4951097\ttotal: 296ms\tremaining: 2.03s\n",
      "127:\tlearn: 0.4941897\ttotal: 297ms\tremaining: 2.02s\n",
      "128:\tlearn: 0.4936938\ttotal: 298ms\tremaining: 2.01s\n",
      "129:\tlearn: 0.4931501\ttotal: 299ms\tremaining: 2s\n",
      "130:\tlearn: 0.4925988\ttotal: 300ms\tremaining: 1.99s\n",
      "131:\tlearn: 0.4918497\ttotal: 301ms\tremaining: 1.98s\n",
      "132:\tlearn: 0.4915495\ttotal: 302ms\tremaining: 1.97s\n",
      "133:\tlearn: 0.4910976\ttotal: 303ms\tremaining: 1.96s\n",
      "134:\tlearn: 0.4906244\ttotal: 304ms\tremaining: 1.95s\n",
      "135:\tlearn: 0.4901394\ttotal: 305ms\tremaining: 1.94s\n",
      "136:\tlearn: 0.4895419\ttotal: 307ms\tremaining: 1.93s\n",
      "137:\tlearn: 0.4887323\ttotal: 308ms\tremaining: 1.92s\n",
      "138:\tlearn: 0.4884978\ttotal: 309ms\tremaining: 1.91s\n",
      "139:\tlearn: 0.4877972\ttotal: 310ms\tremaining: 1.9s\n",
      "140:\tlearn: 0.4869852\ttotal: 311ms\tremaining: 1.89s\n",
      "141:\tlearn: 0.4864520\ttotal: 312ms\tremaining: 1.88s\n",
      "142:\tlearn: 0.4858802\ttotal: 313ms\tremaining: 1.88s\n",
      "143:\tlearn: 0.4853941\ttotal: 314ms\tremaining: 1.87s\n",
      "144:\tlearn: 0.4846974\ttotal: 315ms\tremaining: 1.86s\n",
      "145:\tlearn: 0.4836934\ttotal: 316ms\tremaining: 1.85s\n",
      "146:\tlearn: 0.4831139\ttotal: 318ms\tremaining: 1.84s\n",
      "147:\tlearn: 0.4824966\ttotal: 319ms\tremaining: 1.83s\n",
      "148:\tlearn: 0.4823191\ttotal: 320ms\tremaining: 1.83s\n",
      "149:\tlearn: 0.4817816\ttotal: 321ms\tremaining: 1.82s\n",
      "150:\tlearn: 0.4810703\ttotal: 322ms\tremaining: 1.81s\n",
      "151:\tlearn: 0.4807379\ttotal: 323ms\tremaining: 1.8s\n",
      "152:\tlearn: 0.4800083\ttotal: 324ms\tremaining: 1.79s\n",
      "153:\tlearn: 0.4794718\ttotal: 325ms\tremaining: 1.79s\n",
      "154:\tlearn: 0.4791281\ttotal: 326ms\tremaining: 1.78s\n",
      "155:\tlearn: 0.4787380\ttotal: 327ms\tremaining: 1.77s\n",
      "156:\tlearn: 0.4784235\ttotal: 329ms\tremaining: 1.76s\n",
      "157:\tlearn: 0.4775613\ttotal: 330ms\tremaining: 1.76s\n",
      "158:\tlearn: 0.4769877\ttotal: 331ms\tremaining: 1.75s\n",
      "159:\tlearn: 0.4765154\ttotal: 332ms\tremaining: 1.74s\n",
      "160:\tlearn: 0.4756589\ttotal: 333ms\tremaining: 1.74s\n",
      "161:\tlearn: 0.4749031\ttotal: 334ms\tremaining: 1.73s\n",
      "162:\tlearn: 0.4744796\ttotal: 336ms\tremaining: 1.72s\n",
      "163:\tlearn: 0.4737144\ttotal: 337ms\tremaining: 1.72s\n",
      "164:\tlearn: 0.4731349\ttotal: 338ms\tremaining: 1.71s\n",
      "165:\tlearn: 0.4721240\ttotal: 339ms\tremaining: 1.71s\n",
      "166:\tlearn: 0.4718748\ttotal: 341ms\tremaining: 1.7s\n",
      "167:\tlearn: 0.4707582\ttotal: 342ms\tremaining: 1.69s\n",
      "168:\tlearn: 0.4701910\ttotal: 343ms\tremaining: 1.69s\n",
      "169:\tlearn: 0.4696172\ttotal: 344ms\tremaining: 1.68s\n",
      "170:\tlearn: 0.4692499\ttotal: 345ms\tremaining: 1.67s\n",
      "171:\tlearn: 0.4691375\ttotal: 347ms\tremaining: 1.67s\n",
      "172:\tlearn: 0.4683457\ttotal: 348ms\tremaining: 1.66s\n",
      "173:\tlearn: 0.4678869\ttotal: 349ms\tremaining: 1.66s\n",
      "174:\tlearn: 0.4674115\ttotal: 350ms\tremaining: 1.65s\n",
      "175:\tlearn: 0.4671832\ttotal: 351ms\tremaining: 1.64s\n",
      "176:\tlearn: 0.4667135\ttotal: 352ms\tremaining: 1.64s\n",
      "177:\tlearn: 0.4662079\ttotal: 353ms\tremaining: 1.63s\n",
      "178:\tlearn: 0.4653678\ttotal: 355ms\tremaining: 1.63s\n",
      "179:\tlearn: 0.4642716\ttotal: 356ms\tremaining: 1.62s\n",
      "180:\tlearn: 0.4640406\ttotal: 357ms\tremaining: 1.61s\n",
      "181:\tlearn: 0.4637702\ttotal: 358ms\tremaining: 1.61s\n",
      "182:\tlearn: 0.4626178\ttotal: 359ms\tremaining: 1.6s\n",
      "183:\tlearn: 0.4623666\ttotal: 361ms\tremaining: 1.6s\n",
      "184:\tlearn: 0.4622600\ttotal: 362ms\tremaining: 1.59s\n",
      "185:\tlearn: 0.4613726\ttotal: 363ms\tremaining: 1.59s\n",
      "186:\tlearn: 0.4609732\ttotal: 364ms\tremaining: 1.58s\n",
      "187:\tlearn: 0.4605202\ttotal: 365ms\tremaining: 1.58s\n",
      "188:\tlearn: 0.4600222\ttotal: 366ms\tremaining: 1.57s\n",
      "189:\tlearn: 0.4591811\ttotal: 368ms\tremaining: 1.57s\n",
      "190:\tlearn: 0.4586037\ttotal: 369ms\tremaining: 1.56s\n",
      "191:\tlearn: 0.4581569\ttotal: 370ms\tremaining: 1.56s\n",
      "192:\tlearn: 0.4575183\ttotal: 371ms\tremaining: 1.55s\n",
      "193:\tlearn: 0.4571941\ttotal: 372ms\tremaining: 1.55s\n",
      "194:\tlearn: 0.4567283\ttotal: 374ms\tremaining: 1.54s\n",
      "195:\tlearn: 0.4560944\ttotal: 375ms\tremaining: 1.54s\n",
      "196:\tlearn: 0.4559671\ttotal: 376ms\tremaining: 1.53s\n",
      "197:\tlearn: 0.4558171\ttotal: 377ms\tremaining: 1.53s\n",
      "198:\tlearn: 0.4551922\ttotal: 379ms\tremaining: 1.52s\n",
      "199:\tlearn: 0.4547332\ttotal: 380ms\tremaining: 1.52s\n",
      "200:\tlearn: 0.4540256\ttotal: 381ms\tremaining: 1.51s\n",
      "201:\tlearn: 0.4532997\ttotal: 382ms\tremaining: 1.51s\n",
      "202:\tlearn: 0.4526419\ttotal: 383ms\tremaining: 1.5s\n",
      "203:\tlearn: 0.4518945\ttotal: 384ms\tremaining: 1.5s\n",
      "204:\tlearn: 0.4516213\ttotal: 385ms\tremaining: 1.49s\n",
      "205:\tlearn: 0.4509698\ttotal: 386ms\tremaining: 1.49s\n",
      "206:\tlearn: 0.4504332\ttotal: 387ms\tremaining: 1.48s\n",
      "207:\tlearn: 0.4492792\ttotal: 389ms\tremaining: 1.48s\n",
      "208:\tlearn: 0.4491478\ttotal: 390ms\tremaining: 1.48s\n",
      "209:\tlearn: 0.4477490\ttotal: 391ms\tremaining: 1.47s\n",
      "210:\tlearn: 0.4475368\ttotal: 392ms\tremaining: 1.47s\n",
      "211:\tlearn: 0.4471587\ttotal: 393ms\tremaining: 1.46s\n",
      "212:\tlearn: 0.4466319\ttotal: 394ms\tremaining: 1.46s\n",
      "213:\tlearn: 0.4462299\ttotal: 396ms\tremaining: 1.45s\n",
      "214:\tlearn: 0.4456624\ttotal: 397ms\tremaining: 1.45s\n",
      "215:\tlearn: 0.4452570\ttotal: 398ms\tremaining: 1.44s\n",
      "216:\tlearn: 0.4451937\ttotal: 399ms\tremaining: 1.44s\n",
      "217:\tlearn: 0.4440170\ttotal: 400ms\tremaining: 1.43s\n",
      "218:\tlearn: 0.4433213\ttotal: 402ms\tremaining: 1.43s\n",
      "219:\tlearn: 0.4426653\ttotal: 403ms\tremaining: 1.43s\n",
      "220:\tlearn: 0.4417960\ttotal: 404ms\tremaining: 1.42s\n",
      "221:\tlearn: 0.4412653\ttotal: 405ms\tremaining: 1.42s\n",
      "222:\tlearn: 0.4409346\ttotal: 406ms\tremaining: 1.42s\n",
      "223:\tlearn: 0.4402969\ttotal: 408ms\tremaining: 1.41s\n",
      "224:\tlearn: 0.4399347\ttotal: 409ms\tremaining: 1.41s\n",
      "225:\tlearn: 0.4392848\ttotal: 410ms\tremaining: 1.4s\n",
      "226:\tlearn: 0.4383017\ttotal: 411ms\tremaining: 1.4s\n",
      "227:\tlearn: 0.4376604\ttotal: 412ms\tremaining: 1.4s\n",
      "228:\tlearn: 0.4370283\ttotal: 413ms\tremaining: 1.39s\n",
      "229:\tlearn: 0.4360944\ttotal: 414ms\tremaining: 1.39s\n",
      "230:\tlearn: 0.4354059\ttotal: 416ms\tremaining: 1.38s\n",
      "231:\tlearn: 0.4351809\ttotal: 417ms\tremaining: 1.38s\n",
      "232:\tlearn: 0.4349112\ttotal: 418ms\tremaining: 1.38s\n",
      "233:\tlearn: 0.4339526\ttotal: 419ms\tremaining: 1.37s\n",
      "234:\tlearn: 0.4337465\ttotal: 420ms\tremaining: 1.37s\n",
      "235:\tlearn: 0.4331022\ttotal: 421ms\tremaining: 1.36s\n",
      "236:\tlearn: 0.4319701\ttotal: 422ms\tremaining: 1.36s\n",
      "237:\tlearn: 0.4307880\ttotal: 423ms\tremaining: 1.35s\n",
      "238:\tlearn: 0.4300987\ttotal: 424ms\tremaining: 1.35s\n",
      "239:\tlearn: 0.4293448\ttotal: 426ms\tremaining: 1.35s\n",
      "240:\tlearn: 0.4291048\ttotal: 427ms\tremaining: 1.34s\n",
      "241:\tlearn: 0.4289029\ttotal: 428ms\tremaining: 1.34s\n",
      "242:\tlearn: 0.4286120\ttotal: 429ms\tremaining: 1.34s\n",
      "243:\tlearn: 0.4281989\ttotal: 430ms\tremaining: 1.33s\n",
      "244:\tlearn: 0.4280934\ttotal: 431ms\tremaining: 1.33s\n",
      "245:\tlearn: 0.4275744\ttotal: 432ms\tremaining: 1.32s\n",
      "246:\tlearn: 0.4272596\ttotal: 434ms\tremaining: 1.32s\n",
      "247:\tlearn: 0.4264724\ttotal: 435ms\tremaining: 1.32s\n",
      "248:\tlearn: 0.4259976\ttotal: 436ms\tremaining: 1.31s\n",
      "249:\tlearn: 0.4253570\ttotal: 437ms\tremaining: 1.31s\n",
      "250:\tlearn: 0.4249872\ttotal: 438ms\tremaining: 1.31s\n",
      "251:\tlearn: 0.4247330\ttotal: 439ms\tremaining: 1.3s\n",
      "252:\tlearn: 0.4243757\ttotal: 440ms\tremaining: 1.3s\n",
      "253:\tlearn: 0.4241578\ttotal: 441ms\tremaining: 1.29s\n",
      "254:\tlearn: 0.4230181\ttotal: 442ms\tremaining: 1.29s\n",
      "255:\tlearn: 0.4222376\ttotal: 444ms\tremaining: 1.29s\n",
      "256:\tlearn: 0.4216625\ttotal: 445ms\tremaining: 1.28s\n",
      "257:\tlearn: 0.4212666\ttotal: 446ms\tremaining: 1.28s\n",
      "258:\tlearn: 0.4207628\ttotal: 447ms\tremaining: 1.28s\n",
      "259:\tlearn: 0.4206139\ttotal: 448ms\tremaining: 1.27s\n",
      "260:\tlearn: 0.4198339\ttotal: 449ms\tremaining: 1.27s\n",
      "261:\tlearn: 0.4187829\ttotal: 451ms\tremaining: 1.27s\n",
      "262:\tlearn: 0.4182446\ttotal: 452ms\tremaining: 1.26s\n",
      "263:\tlearn: 0.4179455\ttotal: 453ms\tremaining: 1.26s\n",
      "264:\tlearn: 0.4178160\ttotal: 454ms\tremaining: 1.26s\n",
      "265:\tlearn: 0.4171311\ttotal: 455ms\tremaining: 1.26s\n",
      "266:\tlearn: 0.4165906\ttotal: 456ms\tremaining: 1.25s\n",
      "267:\tlearn: 0.4157054\ttotal: 458ms\tremaining: 1.25s\n",
      "268:\tlearn: 0.4155735\ttotal: 459ms\tremaining: 1.25s\n",
      "269:\tlearn: 0.4144735\ttotal: 460ms\tremaining: 1.24s\n",
      "270:\tlearn: 0.4138021\ttotal: 461ms\tremaining: 1.24s\n",
      "271:\tlearn: 0.4127762\ttotal: 462ms\tremaining: 1.24s\n",
      "272:\tlearn: 0.4117495\ttotal: 463ms\tremaining: 1.23s\n",
      "273:\tlearn: 0.4113487\ttotal: 464ms\tremaining: 1.23s\n",
      "274:\tlearn: 0.4109579\ttotal: 466ms\tremaining: 1.23s\n",
      "275:\tlearn: 0.4103410\ttotal: 467ms\tremaining: 1.22s\n",
      "276:\tlearn: 0.4100129\ttotal: 468ms\tremaining: 1.22s\n",
      "277:\tlearn: 0.4096428\ttotal: 469ms\tremaining: 1.22s\n",
      "278:\tlearn: 0.4091238\ttotal: 470ms\tremaining: 1.21s\n",
      "279:\tlearn: 0.4087524\ttotal: 471ms\tremaining: 1.21s\n",
      "280:\tlearn: 0.4083284\ttotal: 472ms\tremaining: 1.21s\n",
      "281:\tlearn: 0.4081564\ttotal: 473ms\tremaining: 1.21s\n",
      "282:\tlearn: 0.4078188\ttotal: 474ms\tremaining: 1.2s\n",
      "283:\tlearn: 0.4072059\ttotal: 475ms\tremaining: 1.2s\n",
      "284:\tlearn: 0.4069318\ttotal: 476ms\tremaining: 1.2s\n",
      "285:\tlearn: 0.4064780\ttotal: 477ms\tremaining: 1.19s\n",
      "286:\tlearn: 0.4055994\ttotal: 479ms\tremaining: 1.19s\n",
      "287:\tlearn: 0.4045278\ttotal: 480ms\tremaining: 1.19s\n",
      "288:\tlearn: 0.4038912\ttotal: 481ms\tremaining: 1.18s\n",
      "289:\tlearn: 0.4036061\ttotal: 482ms\tremaining: 1.18s\n",
      "290:\tlearn: 0.4031193\ttotal: 483ms\tremaining: 1.18s\n",
      "291:\tlearn: 0.4025426\ttotal: 484ms\tremaining: 1.17s\n",
      "292:\tlearn: 0.4013514\ttotal: 486ms\tremaining: 1.17s\n",
      "293:\tlearn: 0.4005898\ttotal: 487ms\tremaining: 1.17s\n",
      "294:\tlearn: 0.3999607\ttotal: 488ms\tremaining: 1.17s\n",
      "295:\tlearn: 0.3997203\ttotal: 489ms\tremaining: 1.16s\n",
      "296:\tlearn: 0.3995985\ttotal: 491ms\tremaining: 1.16s\n",
      "297:\tlearn: 0.3991056\ttotal: 492ms\tremaining: 1.16s\n",
      "298:\tlearn: 0.3985320\ttotal: 493ms\tremaining: 1.16s\n",
      "299:\tlearn: 0.3980601\ttotal: 495ms\tremaining: 1.15s\n",
      "300:\tlearn: 0.3978748\ttotal: 496ms\tremaining: 1.15s\n",
      "301:\tlearn: 0.3974366\ttotal: 497ms\tremaining: 1.15s\n",
      "302:\tlearn: 0.3969649\ttotal: 498ms\tremaining: 1.15s\n",
      "303:\tlearn: 0.3966247\ttotal: 500ms\tremaining: 1.14s\n",
      "304:\tlearn: 0.3959516\ttotal: 501ms\tremaining: 1.14s\n",
      "305:\tlearn: 0.3957344\ttotal: 502ms\tremaining: 1.14s\n",
      "306:\tlearn: 0.3945299\ttotal: 503ms\tremaining: 1.14s\n",
      "307:\tlearn: 0.3940122\ttotal: 505ms\tremaining: 1.13s\n",
      "308:\tlearn: 0.3936443\ttotal: 506ms\tremaining: 1.13s\n",
      "309:\tlearn: 0.3932954\ttotal: 508ms\tremaining: 1.13s\n",
      "310:\tlearn: 0.3930860\ttotal: 509ms\tremaining: 1.13s\n",
      "311:\tlearn: 0.3927402\ttotal: 510ms\tremaining: 1.13s\n",
      "312:\tlearn: 0.3924971\ttotal: 512ms\tremaining: 1.12s\n",
      "313:\tlearn: 0.3919513\ttotal: 513ms\tremaining: 1.12s\n",
      "314:\tlearn: 0.3916963\ttotal: 514ms\tremaining: 1.12s\n",
      "315:\tlearn: 0.3915583\ttotal: 516ms\tremaining: 1.12s\n",
      "316:\tlearn: 0.3912874\ttotal: 517ms\tremaining: 1.11s\n",
      "317:\tlearn: 0.3905454\ttotal: 519ms\tremaining: 1.11s\n",
      "318:\tlearn: 0.3896746\ttotal: 520ms\tremaining: 1.11s\n",
      "319:\tlearn: 0.3890269\ttotal: 521ms\tremaining: 1.11s\n",
      "320:\tlearn: 0.3885838\ttotal: 523ms\tremaining: 1.1s\n",
      "321:\tlearn: 0.3879010\ttotal: 524ms\tremaining: 1.1s\n",
      "322:\tlearn: 0.3872081\ttotal: 525ms\tremaining: 1.1s\n",
      "323:\tlearn: 0.3862743\ttotal: 527ms\tremaining: 1.1s\n",
      "324:\tlearn: 0.3854627\ttotal: 528ms\tremaining: 1.1s\n",
      "325:\tlearn: 0.3844307\ttotal: 529ms\tremaining: 1.09s\n",
      "326:\tlearn: 0.3836316\ttotal: 530ms\tremaining: 1.09s\n",
      "327:\tlearn: 0.3835292\ttotal: 531ms\tremaining: 1.09s\n",
      "328:\tlearn: 0.3828465\ttotal: 533ms\tremaining: 1.09s\n",
      "329:\tlearn: 0.3821328\ttotal: 534ms\tremaining: 1.08s\n",
      "330:\tlearn: 0.3817506\ttotal: 535ms\tremaining: 1.08s\n",
      "331:\tlearn: 0.3815843\ttotal: 536ms\tremaining: 1.08s\n",
      "332:\tlearn: 0.3806534\ttotal: 538ms\tremaining: 1.08s\n",
      "333:\tlearn: 0.3795457\ttotal: 539ms\tremaining: 1.07s\n",
      "334:\tlearn: 0.3793624\ttotal: 540ms\tremaining: 1.07s\n",
      "335:\tlearn: 0.3785667\ttotal: 541ms\tremaining: 1.07s\n",
      "336:\tlearn: 0.3781337\ttotal: 542ms\tremaining: 1.07s\n",
      "337:\tlearn: 0.3777766\ttotal: 544ms\tremaining: 1.06s\n",
      "338:\tlearn: 0.3774642\ttotal: 545ms\tremaining: 1.06s\n",
      "339:\tlearn: 0.3772872\ttotal: 546ms\tremaining: 1.06s\n",
      "340:\tlearn: 0.3766275\ttotal: 547ms\tremaining: 1.06s\n",
      "341:\tlearn: 0.3762689\ttotal: 549ms\tremaining: 1.05s\n",
      "342:\tlearn: 0.3754489\ttotal: 550ms\tremaining: 1.05s\n",
      "343:\tlearn: 0.3750258\ttotal: 551ms\tremaining: 1.05s\n",
      "344:\tlearn: 0.3749292\ttotal: 552ms\tremaining: 1.05s\n",
      "345:\tlearn: 0.3740821\ttotal: 553ms\tremaining: 1.04s\n",
      "346:\tlearn: 0.3733613\ttotal: 556ms\tremaining: 1.04s\n",
      "347:\tlearn: 0.3728789\ttotal: 557ms\tremaining: 1.04s\n",
      "348:\tlearn: 0.3719384\ttotal: 558ms\tremaining: 1.04s\n",
      "349:\tlearn: 0.3715415\ttotal: 559ms\tremaining: 1.04s\n",
      "350:\tlearn: 0.3712431\ttotal: 560ms\tremaining: 1.04s\n",
      "351:\tlearn: 0.3706474\ttotal: 562ms\tremaining: 1.03s\n",
      "352:\tlearn: 0.3699868\ttotal: 563ms\tremaining: 1.03s\n",
      "353:\tlearn: 0.3698922\ttotal: 564ms\tremaining: 1.03s\n",
      "354:\tlearn: 0.3695013\ttotal: 565ms\tremaining: 1.02s\n",
      "355:\tlearn: 0.3683985\ttotal: 566ms\tremaining: 1.02s\n",
      "356:\tlearn: 0.3676258\ttotal: 567ms\tremaining: 1.02s\n",
      "357:\tlearn: 0.3669102\ttotal: 568ms\tremaining: 1.02s\n",
      "358:\tlearn: 0.3662866\ttotal: 569ms\tremaining: 1.01s\n",
      "359:\tlearn: 0.3659560\ttotal: 570ms\tremaining: 1.01s\n",
      "360:\tlearn: 0.3654264\ttotal: 572ms\tremaining: 1.01s\n",
      "361:\tlearn: 0.3649170\ttotal: 573ms\tremaining: 1.01s\n",
      "362:\tlearn: 0.3640087\ttotal: 574ms\tremaining: 1.01s\n",
      "363:\tlearn: 0.3634162\ttotal: 575ms\tremaining: 1s\n",
      "364:\tlearn: 0.3625995\ttotal: 576ms\tremaining: 1s\n",
      "365:\tlearn: 0.3622411\ttotal: 577ms\tremaining: 1000ms\n",
      "366:\tlearn: 0.3617978\ttotal: 578ms\tremaining: 998ms\n",
      "367:\tlearn: 0.3612538\ttotal: 579ms\tremaining: 995ms\n",
      "368:\tlearn: 0.3611725\ttotal: 581ms\tremaining: 993ms\n",
      "369:\tlearn: 0.3610237\ttotal: 581ms\tremaining: 990ms\n",
      "370:\tlearn: 0.3609244\ttotal: 582ms\tremaining: 987ms\n",
      "371:\tlearn: 0.3603039\ttotal: 583ms\tremaining: 985ms\n",
      "372:\tlearn: 0.3601317\ttotal: 584ms\tremaining: 982ms\n",
      "373:\tlearn: 0.3600658\ttotal: 585ms\tremaining: 980ms\n",
      "374:\tlearn: 0.3598263\ttotal: 586ms\tremaining: 977ms\n",
      "375:\tlearn: 0.3594940\ttotal: 588ms\tremaining: 975ms\n",
      "376:\tlearn: 0.3591319\ttotal: 589ms\tremaining: 973ms\n",
      "377:\tlearn: 0.3586928\ttotal: 590ms\tremaining: 970ms\n",
      "378:\tlearn: 0.3581547\ttotal: 591ms\tremaining: 968ms\n",
      "379:\tlearn: 0.3580275\ttotal: 592ms\tremaining: 966ms\n",
      "380:\tlearn: 0.3579551\ttotal: 593ms\tremaining: 963ms\n",
      "381:\tlearn: 0.3574632\ttotal: 594ms\tremaining: 961ms\n",
      "382:\tlearn: 0.3571204\ttotal: 595ms\tremaining: 959ms\n",
      "383:\tlearn: 0.3563868\ttotal: 596ms\tremaining: 957ms\n",
      "384:\tlearn: 0.3555504\ttotal: 597ms\tremaining: 954ms\n",
      "385:\tlearn: 0.3549095\ttotal: 599ms\tremaining: 952ms\n",
      "386:\tlearn: 0.3548197\ttotal: 600ms\tremaining: 950ms\n",
      "387:\tlearn: 0.3544959\ttotal: 601ms\tremaining: 948ms\n",
      "388:\tlearn: 0.3536629\ttotal: 602ms\tremaining: 945ms\n",
      "389:\tlearn: 0.3532619\ttotal: 603ms\tremaining: 943ms\n",
      "390:\tlearn: 0.3527390\ttotal: 604ms\tremaining: 941ms\n",
      "391:\tlearn: 0.3524449\ttotal: 605ms\tremaining: 939ms\n",
      "392:\tlearn: 0.3520187\ttotal: 606ms\tremaining: 936ms\n",
      "393:\tlearn: 0.3515863\ttotal: 607ms\tremaining: 934ms\n",
      "394:\tlearn: 0.3510752\ttotal: 609ms\tremaining: 932ms\n",
      "395:\tlearn: 0.3508364\ttotal: 610ms\tremaining: 930ms\n",
      "396:\tlearn: 0.3502889\ttotal: 611ms\tremaining: 928ms\n",
      "397:\tlearn: 0.3495345\ttotal: 612ms\tremaining: 926ms\n",
      "398:\tlearn: 0.3493524\ttotal: 613ms\tremaining: 924ms\n",
      "399:\tlearn: 0.3487106\ttotal: 628ms\tremaining: 942ms\n",
      "400:\tlearn: 0.3483242\ttotal: 629ms\tremaining: 939ms\n",
      "401:\tlearn: 0.3475746\ttotal: 630ms\tremaining: 937ms\n",
      "402:\tlearn: 0.3471795\ttotal: 631ms\tremaining: 935ms\n",
      "403:\tlearn: 0.3464575\ttotal: 632ms\tremaining: 932ms\n",
      "404:\tlearn: 0.3462722\ttotal: 633ms\tremaining: 930ms\n",
      "405:\tlearn: 0.3455674\ttotal: 634ms\tremaining: 928ms\n",
      "406:\tlearn: 0.3455364\ttotal: 635ms\tremaining: 926ms\n",
      "407:\tlearn: 0.3450680\ttotal: 636ms\tremaining: 923ms\n",
      "408:\tlearn: 0.3441839\ttotal: 637ms\tremaining: 921ms\n",
      "409:\tlearn: 0.3437641\ttotal: 638ms\tremaining: 919ms\n",
      "410:\tlearn: 0.3432839\ttotal: 640ms\tremaining: 917ms\n",
      "411:\tlearn: 0.3425603\ttotal: 641ms\tremaining: 914ms\n",
      "412:\tlearn: 0.3424326\ttotal: 642ms\tremaining: 912ms\n",
      "413:\tlearn: 0.3417476\ttotal: 643ms\tremaining: 910ms\n",
      "414:\tlearn: 0.3413217\ttotal: 644ms\tremaining: 908ms\n",
      "415:\tlearn: 0.3411954\ttotal: 645ms\tremaining: 905ms\n",
      "416:\tlearn: 0.3407486\ttotal: 646ms\tremaining: 903ms\n",
      "417:\tlearn: 0.3400719\ttotal: 647ms\tremaining: 901ms\n",
      "418:\tlearn: 0.3399448\ttotal: 648ms\tremaining: 899ms\n",
      "419:\tlearn: 0.3398559\ttotal: 649ms\tremaining: 897ms\n",
      "420:\tlearn: 0.3397727\ttotal: 651ms\tremaining: 895ms\n",
      "421:\tlearn: 0.3393707\ttotal: 652ms\tremaining: 893ms\n",
      "422:\tlearn: 0.3388783\ttotal: 653ms\tremaining: 890ms\n",
      "423:\tlearn: 0.3383119\ttotal: 654ms\tremaining: 888ms\n",
      "424:\tlearn: 0.3380505\ttotal: 655ms\tremaining: 886ms\n",
      "425:\tlearn: 0.3377196\ttotal: 656ms\tremaining: 884ms\n",
      "426:\tlearn: 0.3374228\ttotal: 657ms\tremaining: 882ms\n",
      "427:\tlearn: 0.3369653\ttotal: 658ms\tremaining: 880ms\n",
      "428:\tlearn: 0.3367923\ttotal: 659ms\tremaining: 878ms\n",
      "429:\tlearn: 0.3367146\ttotal: 660ms\tremaining: 876ms\n",
      "430:\tlearn: 0.3362907\ttotal: 662ms\tremaining: 873ms\n",
      "431:\tlearn: 0.3360765\ttotal: 663ms\tremaining: 871ms\n",
      "432:\tlearn: 0.3352559\ttotal: 664ms\tremaining: 869ms\n",
      "433:\tlearn: 0.3352197\ttotal: 665ms\tremaining: 867ms\n",
      "434:\tlearn: 0.3351125\ttotal: 666ms\tremaining: 865ms\n",
      "435:\tlearn: 0.3345785\ttotal: 667ms\tremaining: 863ms\n",
      "436:\tlearn: 0.3339708\ttotal: 668ms\tremaining: 861ms\n",
      "437:\tlearn: 0.3335705\ttotal: 669ms\tremaining: 858ms\n",
      "438:\tlearn: 0.3329641\ttotal: 670ms\tremaining: 856ms\n",
      "439:\tlearn: 0.3324979\ttotal: 671ms\tremaining: 854ms\n",
      "440:\tlearn: 0.3324472\ttotal: 672ms\tremaining: 852ms\n",
      "441:\tlearn: 0.3318927\ttotal: 673ms\tremaining: 850ms\n",
      "442:\tlearn: 0.3314171\ttotal: 674ms\tremaining: 848ms\n",
      "443:\tlearn: 0.3306528\ttotal: 675ms\tremaining: 846ms\n",
      "444:\tlearn: 0.3301983\ttotal: 677ms\tremaining: 844ms\n",
      "445:\tlearn: 0.3296883\ttotal: 678ms\tremaining: 842ms\n",
      "446:\tlearn: 0.3292027\ttotal: 679ms\tremaining: 840ms\n",
      "447:\tlearn: 0.3286899\ttotal: 680ms\tremaining: 838ms\n",
      "448:\tlearn: 0.3283494\ttotal: 682ms\tremaining: 837ms\n",
      "449:\tlearn: 0.3282492\ttotal: 683ms\tremaining: 835ms\n",
      "450:\tlearn: 0.3278277\ttotal: 684ms\tremaining: 833ms\n",
      "451:\tlearn: 0.3273832\ttotal: 685ms\tremaining: 830ms\n",
      "452:\tlearn: 0.3271014\ttotal: 686ms\tremaining: 829ms\n",
      "453:\tlearn: 0.3270338\ttotal: 687ms\tremaining: 827ms\n",
      "454:\tlearn: 0.3269522\ttotal: 688ms\tremaining: 825ms\n",
      "455:\tlearn: 0.3265934\ttotal: 690ms\tremaining: 823ms\n",
      "456:\tlearn: 0.3259386\ttotal: 691ms\tremaining: 821ms\n",
      "457:\tlearn: 0.3258946\ttotal: 692ms\tremaining: 819ms\n",
      "458:\tlearn: 0.3255360\ttotal: 693ms\tremaining: 817ms\n",
      "459:\tlearn: 0.3254231\ttotal: 694ms\tremaining: 815ms\n",
      "460:\tlearn: 0.3249766\ttotal: 695ms\tremaining: 813ms\n",
      "461:\tlearn: 0.3245706\ttotal: 697ms\tremaining: 812ms\n",
      "462:\tlearn: 0.3244913\ttotal: 698ms\tremaining: 810ms\n",
      "463:\tlearn: 0.3243641\ttotal: 699ms\tremaining: 808ms\n",
      "464:\tlearn: 0.3240980\ttotal: 701ms\tremaining: 806ms\n",
      "465:\tlearn: 0.3234805\ttotal: 702ms\tremaining: 804ms\n",
      "466:\tlearn: 0.3232340\ttotal: 703ms\tremaining: 802ms\n",
      "467:\tlearn: 0.3230275\ttotal: 704ms\tremaining: 800ms\n",
      "468:\tlearn: 0.3227809\ttotal: 705ms\tremaining: 799ms\n",
      "469:\tlearn: 0.3226983\ttotal: 707ms\tremaining: 797ms\n",
      "470:\tlearn: 0.3220454\ttotal: 708ms\tremaining: 795ms\n",
      "471:\tlearn: 0.3219652\ttotal: 709ms\tremaining: 793ms\n",
      "472:\tlearn: 0.3217144\ttotal: 710ms\tremaining: 792ms\n",
      "473:\tlearn: 0.3216404\ttotal: 712ms\tremaining: 790ms\n",
      "474:\tlearn: 0.3212308\ttotal: 713ms\tremaining: 788ms\n",
      "475:\tlearn: 0.3208843\ttotal: 714ms\tremaining: 786ms\n",
      "476:\tlearn: 0.3205695\ttotal: 715ms\tremaining: 784ms\n",
      "477:\tlearn: 0.3203672\ttotal: 716ms\tremaining: 782ms\n",
      "478:\tlearn: 0.3196996\ttotal: 717ms\tremaining: 780ms\n",
      "479:\tlearn: 0.3195841\ttotal: 718ms\tremaining: 778ms\n",
      "480:\tlearn: 0.3194398\ttotal: 720ms\tremaining: 777ms\n",
      "481:\tlearn: 0.3189293\ttotal: 721ms\tremaining: 775ms\n",
      "482:\tlearn: 0.3184639\ttotal: 722ms\tremaining: 773ms\n",
      "483:\tlearn: 0.3180266\ttotal: 723ms\tremaining: 771ms\n",
      "484:\tlearn: 0.3173189\ttotal: 725ms\tremaining: 770ms\n",
      "485:\tlearn: 0.3169585\ttotal: 726ms\tremaining: 768ms\n",
      "486:\tlearn: 0.3166070\ttotal: 727ms\tremaining: 766ms\n",
      "487:\tlearn: 0.3161499\ttotal: 729ms\tremaining: 764ms\n",
      "488:\tlearn: 0.3155869\ttotal: 730ms\tremaining: 762ms\n",
      "489:\tlearn: 0.3151511\ttotal: 731ms\tremaining: 760ms\n",
      "490:\tlearn: 0.3144059\ttotal: 732ms\tremaining: 759ms\n",
      "491:\tlearn: 0.3143843\ttotal: 733ms\tremaining: 757ms\n",
      "492:\tlearn: 0.3138530\ttotal: 734ms\tremaining: 755ms\n",
      "493:\tlearn: 0.3136593\ttotal: 735ms\tremaining: 753ms\n",
      "494:\tlearn: 0.3132699\ttotal: 736ms\tremaining: 751ms\n",
      "495:\tlearn: 0.3126594\ttotal: 737ms\tremaining: 749ms\n",
      "496:\tlearn: 0.3120376\ttotal: 739ms\tremaining: 748ms\n",
      "497:\tlearn: 0.3119060\ttotal: 740ms\tremaining: 746ms\n",
      "498:\tlearn: 0.3117090\ttotal: 741ms\tremaining: 744ms\n",
      "499:\tlearn: 0.3115817\ttotal: 742ms\tremaining: 742ms\n",
      "500:\tlearn: 0.3109075\ttotal: 743ms\tremaining: 740ms\n",
      "501:\tlearn: 0.3108451\ttotal: 744ms\tremaining: 738ms\n",
      "502:\tlearn: 0.3103089\ttotal: 745ms\tremaining: 737ms\n",
      "503:\tlearn: 0.3099470\ttotal: 747ms\tremaining: 735ms\n",
      "504:\tlearn: 0.3099175\ttotal: 748ms\tremaining: 733ms\n",
      "505:\tlearn: 0.3091180\ttotal: 749ms\tremaining: 731ms\n",
      "506:\tlearn: 0.3087437\ttotal: 750ms\tremaining: 729ms\n",
      "507:\tlearn: 0.3084120\ttotal: 751ms\tremaining: 727ms\n",
      "508:\tlearn: 0.3080658\ttotal: 752ms\tremaining: 726ms\n",
      "509:\tlearn: 0.3072653\ttotal: 753ms\tremaining: 724ms\n",
      "510:\tlearn: 0.3069809\ttotal: 755ms\tremaining: 722ms\n",
      "511:\tlearn: 0.3067294\ttotal: 756ms\tremaining: 720ms\n",
      "512:\tlearn: 0.3065621\ttotal: 757ms\tremaining: 718ms\n",
      "513:\tlearn: 0.3060972\ttotal: 758ms\tremaining: 717ms\n",
      "514:\tlearn: 0.3057655\ttotal: 759ms\tremaining: 715ms\n",
      "515:\tlearn: 0.3056444\ttotal: 760ms\tremaining: 713ms\n",
      "516:\tlearn: 0.3055481\ttotal: 761ms\tremaining: 711ms\n",
      "517:\tlearn: 0.3049778\ttotal: 762ms\tremaining: 709ms\n",
      "518:\tlearn: 0.3048747\ttotal: 763ms\tremaining: 707ms\n",
      "519:\tlearn: 0.3047799\ttotal: 764ms\tremaining: 706ms\n",
      "520:\tlearn: 0.3041629\ttotal: 765ms\tremaining: 704ms\n",
      "521:\tlearn: 0.3040819\ttotal: 766ms\tremaining: 702ms\n",
      "522:\tlearn: 0.3037352\ttotal: 767ms\tremaining: 700ms\n",
      "523:\tlearn: 0.3033946\ttotal: 769ms\tremaining: 698ms\n",
      "524:\tlearn: 0.3032733\ttotal: 770ms\tremaining: 696ms\n",
      "525:\tlearn: 0.3029288\ttotal: 771ms\tremaining: 695ms\n",
      "526:\tlearn: 0.3024016\ttotal: 772ms\tremaining: 693ms\n",
      "527:\tlearn: 0.3023446\ttotal: 773ms\tremaining: 691ms\n",
      "528:\tlearn: 0.3014407\ttotal: 774ms\tremaining: 689ms\n",
      "529:\tlearn: 0.3010554\ttotal: 775ms\tremaining: 687ms\n",
      "530:\tlearn: 0.3009607\ttotal: 776ms\tremaining: 685ms\n",
      "531:\tlearn: 0.3007079\ttotal: 777ms\tremaining: 684ms\n",
      "532:\tlearn: 0.3000256\ttotal: 778ms\tremaining: 682ms\n",
      "533:\tlearn: 0.2998752\ttotal: 779ms\tremaining: 680ms\n",
      "534:\tlearn: 0.2995573\ttotal: 781ms\tremaining: 678ms\n",
      "535:\tlearn: 0.2991825\ttotal: 782ms\tremaining: 677ms\n",
      "536:\tlearn: 0.2987540\ttotal: 783ms\tremaining: 675ms\n",
      "537:\tlearn: 0.2985047\ttotal: 784ms\tremaining: 673ms\n",
      "538:\tlearn: 0.2979217\ttotal: 785ms\tremaining: 671ms\n",
      "539:\tlearn: 0.2973804\ttotal: 786ms\tremaining: 670ms\n",
      "540:\tlearn: 0.2969303\ttotal: 788ms\tremaining: 668ms\n",
      "541:\tlearn: 0.2969083\ttotal: 789ms\tremaining: 667ms\n",
      "542:\tlearn: 0.2967027\ttotal: 790ms\tremaining: 665ms\n",
      "543:\tlearn: 0.2961753\ttotal: 791ms\tremaining: 663ms\n",
      "544:\tlearn: 0.2958458\ttotal: 792ms\tremaining: 661ms\n",
      "545:\tlearn: 0.2957568\ttotal: 793ms\tremaining: 660ms\n",
      "546:\tlearn: 0.2955814\ttotal: 794ms\tremaining: 658ms\n",
      "547:\tlearn: 0.2951472\ttotal: 796ms\tremaining: 656ms\n",
      "548:\tlearn: 0.2950623\ttotal: 797ms\tremaining: 655ms\n",
      "549:\tlearn: 0.2946397\ttotal: 798ms\tremaining: 653ms\n",
      "550:\tlearn: 0.2943457\ttotal: 800ms\tremaining: 652ms\n",
      "551:\tlearn: 0.2939442\ttotal: 801ms\tremaining: 650ms\n",
      "552:\tlearn: 0.2934281\ttotal: 802ms\tremaining: 648ms\n",
      "553:\tlearn: 0.2929966\ttotal: 803ms\tremaining: 647ms\n",
      "554:\tlearn: 0.2924746\ttotal: 804ms\tremaining: 645ms\n",
      "555:\tlearn: 0.2918719\ttotal: 805ms\tremaining: 643ms\n",
      "556:\tlearn: 0.2914088\ttotal: 807ms\tremaining: 642ms\n",
      "557:\tlearn: 0.2912987\ttotal: 808ms\tremaining: 640ms\n",
      "558:\tlearn: 0.2908954\ttotal: 809ms\tremaining: 638ms\n",
      "559:\tlearn: 0.2902243\ttotal: 810ms\tremaining: 636ms\n",
      "560:\tlearn: 0.2896564\ttotal: 811ms\tremaining: 635ms\n",
      "561:\tlearn: 0.2893973\ttotal: 812ms\tremaining: 633ms\n",
      "562:\tlearn: 0.2892263\ttotal: 813ms\tremaining: 631ms\n",
      "563:\tlearn: 0.2891503\ttotal: 814ms\tremaining: 629ms\n",
      "564:\tlearn: 0.2885745\ttotal: 815ms\tremaining: 628ms\n",
      "565:\tlearn: 0.2883320\ttotal: 816ms\tremaining: 626ms\n",
      "566:\tlearn: 0.2882771\ttotal: 818ms\tremaining: 624ms\n",
      "567:\tlearn: 0.2879574\ttotal: 819ms\tremaining: 623ms\n",
      "568:\tlearn: 0.2876877\ttotal: 820ms\tremaining: 621ms\n",
      "569:\tlearn: 0.2875548\ttotal: 821ms\tremaining: 619ms\n",
      "570:\tlearn: 0.2871774\ttotal: 822ms\tremaining: 618ms\n",
      "571:\tlearn: 0.2865737\ttotal: 823ms\tremaining: 616ms\n",
      "572:\tlearn: 0.2859129\ttotal: 824ms\tremaining: 614ms\n",
      "573:\tlearn: 0.2854826\ttotal: 826ms\tremaining: 613ms\n",
      "574:\tlearn: 0.2853746\ttotal: 827ms\tremaining: 611ms\n",
      "575:\tlearn: 0.2848698\ttotal: 828ms\tremaining: 609ms\n",
      "576:\tlearn: 0.2848106\ttotal: 829ms\tremaining: 608ms\n",
      "577:\tlearn: 0.2844253\ttotal: 830ms\tremaining: 606ms\n",
      "578:\tlearn: 0.2840562\ttotal: 831ms\tremaining: 604ms\n",
      "579:\tlearn: 0.2835966\ttotal: 832ms\tremaining: 603ms\n",
      "580:\tlearn: 0.2832542\ttotal: 833ms\tremaining: 601ms\n",
      "581:\tlearn: 0.2830247\ttotal: 834ms\tremaining: 599ms\n",
      "582:\tlearn: 0.2827203\ttotal: 836ms\tremaining: 598ms\n",
      "583:\tlearn: 0.2825423\ttotal: 837ms\tremaining: 596ms\n",
      "584:\tlearn: 0.2819226\ttotal: 838ms\tremaining: 594ms\n",
      "585:\tlearn: 0.2818733\ttotal: 839ms\tremaining: 593ms\n",
      "586:\tlearn: 0.2817994\ttotal: 840ms\tremaining: 591ms\n",
      "587:\tlearn: 0.2816735\ttotal: 841ms\tremaining: 589ms\n",
      "588:\tlearn: 0.2814741\ttotal: 842ms\tremaining: 588ms\n",
      "589:\tlearn: 0.2813835\ttotal: 843ms\tremaining: 586ms\n",
      "590:\tlearn: 0.2809224\ttotal: 845ms\tremaining: 585ms\n",
      "591:\tlearn: 0.2805429\ttotal: 846ms\tremaining: 583ms\n",
      "592:\tlearn: 0.2799151\ttotal: 848ms\tremaining: 582ms\n",
      "593:\tlearn: 0.2796281\ttotal: 849ms\tremaining: 580ms\n",
      "594:\tlearn: 0.2794006\ttotal: 850ms\tremaining: 579ms\n",
      "595:\tlearn: 0.2788347\ttotal: 851ms\tremaining: 577ms\n",
      "596:\tlearn: 0.2787396\ttotal: 852ms\tremaining: 575ms\n",
      "597:\tlearn: 0.2786649\ttotal: 854ms\tremaining: 574ms\n",
      "598:\tlearn: 0.2786329\ttotal: 855ms\tremaining: 572ms\n",
      "599:\tlearn: 0.2778600\ttotal: 856ms\tremaining: 571ms\n",
      "600:\tlearn: 0.2777367\ttotal: 857ms\tremaining: 569ms\n",
      "601:\tlearn: 0.2774285\ttotal: 858ms\tremaining: 567ms\n",
      "602:\tlearn: 0.2772351\ttotal: 859ms\tremaining: 566ms\n",
      "603:\tlearn: 0.2771906\ttotal: 860ms\tremaining: 564ms\n",
      "604:\tlearn: 0.2766900\ttotal: 861ms\tremaining: 562ms\n",
      "605:\tlearn: 0.2761900\ttotal: 863ms\tremaining: 561ms\n",
      "606:\tlearn: 0.2759217\ttotal: 864ms\tremaining: 559ms\n",
      "607:\tlearn: 0.2755678\ttotal: 865ms\tremaining: 558ms\n",
      "608:\tlearn: 0.2752795\ttotal: 866ms\tremaining: 556ms\n",
      "609:\tlearn: 0.2748739\ttotal: 867ms\tremaining: 554ms\n",
      "610:\tlearn: 0.2746541\ttotal: 868ms\tremaining: 553ms\n",
      "611:\tlearn: 0.2744660\ttotal: 869ms\tremaining: 551ms\n",
      "612:\tlearn: 0.2740879\ttotal: 870ms\tremaining: 550ms\n",
      "613:\tlearn: 0.2737432\ttotal: 872ms\tremaining: 548ms\n",
      "614:\tlearn: 0.2736953\ttotal: 873ms\tremaining: 546ms\n",
      "615:\tlearn: 0.2733509\ttotal: 874ms\tremaining: 545ms\n",
      "616:\tlearn: 0.2726063\ttotal: 875ms\tremaining: 543ms\n",
      "617:\tlearn: 0.2721198\ttotal: 877ms\tremaining: 542ms\n",
      "618:\tlearn: 0.2717766\ttotal: 878ms\tremaining: 540ms\n",
      "619:\tlearn: 0.2713874\ttotal: 879ms\tremaining: 539ms\n",
      "620:\tlearn: 0.2712241\ttotal: 881ms\tremaining: 537ms\n",
      "621:\tlearn: 0.2708702\ttotal: 882ms\tremaining: 536ms\n",
      "622:\tlearn: 0.2704398\ttotal: 883ms\tremaining: 534ms\n",
      "623:\tlearn: 0.2701614\ttotal: 884ms\tremaining: 533ms\n",
      "624:\tlearn: 0.2698632\ttotal: 885ms\tremaining: 531ms\n",
      "625:\tlearn: 0.2697895\ttotal: 886ms\tremaining: 530ms\n",
      "626:\tlearn: 0.2696810\ttotal: 888ms\tremaining: 528ms\n",
      "627:\tlearn: 0.2695294\ttotal: 889ms\tremaining: 527ms\n",
      "628:\tlearn: 0.2694412\ttotal: 890ms\tremaining: 525ms\n",
      "629:\tlearn: 0.2693042\ttotal: 892ms\tremaining: 524ms\n",
      "630:\tlearn: 0.2689577\ttotal: 893ms\tremaining: 522ms\n",
      "631:\tlearn: 0.2687365\ttotal: 894ms\tremaining: 521ms\n",
      "632:\tlearn: 0.2683975\ttotal: 895ms\tremaining: 519ms\n",
      "633:\tlearn: 0.2680074\ttotal: 897ms\tremaining: 518ms\n",
      "634:\tlearn: 0.2676329\ttotal: 898ms\tremaining: 516ms\n",
      "635:\tlearn: 0.2671665\ttotal: 900ms\tremaining: 515ms\n",
      "636:\tlearn: 0.2671217\ttotal: 901ms\tremaining: 513ms\n",
      "637:\tlearn: 0.2668553\ttotal: 903ms\tremaining: 512ms\n",
      "638:\tlearn: 0.2666370\ttotal: 904ms\tremaining: 511ms\n",
      "639:\tlearn: 0.2665091\ttotal: 906ms\tremaining: 509ms\n",
      "640:\tlearn: 0.2661373\ttotal: 907ms\tremaining: 508ms\n",
      "641:\tlearn: 0.2657272\ttotal: 908ms\tremaining: 506ms\n",
      "642:\tlearn: 0.2655417\ttotal: 910ms\tremaining: 505ms\n",
      "643:\tlearn: 0.2652098\ttotal: 911ms\tremaining: 503ms\n",
      "644:\tlearn: 0.2651006\ttotal: 912ms\tremaining: 502ms\n",
      "645:\tlearn: 0.2647986\ttotal: 913ms\tremaining: 500ms\n",
      "646:\tlearn: 0.2646671\ttotal: 914ms\tremaining: 499ms\n",
      "647:\tlearn: 0.2644136\ttotal: 916ms\tremaining: 497ms\n",
      "648:\tlearn: 0.2641443\ttotal: 917ms\tremaining: 496ms\n",
      "649:\tlearn: 0.2637011\ttotal: 918ms\tremaining: 494ms\n",
      "650:\tlearn: 0.2634231\ttotal: 920ms\tremaining: 493ms\n",
      "651:\tlearn: 0.2631479\ttotal: 921ms\tremaining: 492ms\n",
      "652:\tlearn: 0.2628754\ttotal: 922ms\tremaining: 490ms\n",
      "653:\tlearn: 0.2623327\ttotal: 923ms\tremaining: 489ms\n",
      "654:\tlearn: 0.2620910\ttotal: 925ms\tremaining: 487ms\n",
      "655:\tlearn: 0.2618710\ttotal: 926ms\tremaining: 486ms\n",
      "656:\tlearn: 0.2615458\ttotal: 927ms\tremaining: 484ms\n",
      "657:\tlearn: 0.2612417\ttotal: 928ms\tremaining: 483ms\n",
      "658:\tlearn: 0.2608085\ttotal: 930ms\tremaining: 481ms\n",
      "659:\tlearn: 0.2607880\ttotal: 931ms\tremaining: 479ms\n",
      "660:\tlearn: 0.2607088\ttotal: 932ms\tremaining: 478ms\n",
      "661:\tlearn: 0.2602705\ttotal: 933ms\tremaining: 476ms\n",
      "662:\tlearn: 0.2600255\ttotal: 934ms\tremaining: 475ms\n",
      "663:\tlearn: 0.2597442\ttotal: 935ms\tremaining: 473ms\n",
      "664:\tlearn: 0.2596203\ttotal: 937ms\tremaining: 472ms\n",
      "665:\tlearn: 0.2594717\ttotal: 938ms\tremaining: 470ms\n",
      "666:\tlearn: 0.2590287\ttotal: 939ms\tremaining: 469ms\n",
      "667:\tlearn: 0.2587922\ttotal: 940ms\tremaining: 467ms\n",
      "668:\tlearn: 0.2585868\ttotal: 941ms\tremaining: 466ms\n",
      "669:\tlearn: 0.2582554\ttotal: 942ms\tremaining: 464ms\n",
      "670:\tlearn: 0.2580477\ttotal: 943ms\tremaining: 463ms\n",
      "671:\tlearn: 0.2575968\ttotal: 944ms\tremaining: 461ms\n",
      "672:\tlearn: 0.2572947\ttotal: 945ms\tremaining: 459ms\n",
      "673:\tlearn: 0.2568815\ttotal: 947ms\tremaining: 458ms\n",
      "674:\tlearn: 0.2564280\ttotal: 948ms\tremaining: 456ms\n",
      "675:\tlearn: 0.2560601\ttotal: 949ms\tremaining: 455ms\n",
      "676:\tlearn: 0.2557412\ttotal: 950ms\tremaining: 453ms\n",
      "677:\tlearn: 0.2553679\ttotal: 951ms\tremaining: 451ms\n",
      "678:\tlearn: 0.2549652\ttotal: 952ms\tremaining: 450ms\n",
      "679:\tlearn: 0.2546844\ttotal: 953ms\tremaining: 448ms\n",
      "680:\tlearn: 0.2545147\ttotal: 954ms\tremaining: 447ms\n",
      "681:\tlearn: 0.2541548\ttotal: 955ms\tremaining: 445ms\n",
      "682:\tlearn: 0.2540683\ttotal: 956ms\tremaining: 444ms\n",
      "683:\tlearn: 0.2535429\ttotal: 957ms\tremaining: 442ms\n",
      "684:\tlearn: 0.2532882\ttotal: 958ms\tremaining: 441ms\n",
      "685:\tlearn: 0.2529052\ttotal: 959ms\tremaining: 439ms\n",
      "686:\tlearn: 0.2528930\ttotal: 960ms\tremaining: 437ms\n",
      "687:\tlearn: 0.2526781\ttotal: 961ms\tremaining: 436ms\n",
      "688:\tlearn: 0.2525552\ttotal: 962ms\tremaining: 434ms\n",
      "689:\tlearn: 0.2521130\ttotal: 963ms\tremaining: 433ms\n",
      "690:\tlearn: 0.2516675\ttotal: 964ms\tremaining: 431ms\n",
      "691:\tlearn: 0.2511651\ttotal: 966ms\tremaining: 430ms\n",
      "692:\tlearn: 0.2511001\ttotal: 967ms\tremaining: 428ms\n",
      "693:\tlearn: 0.2508003\ttotal: 968ms\tremaining: 427ms\n",
      "694:\tlearn: 0.2506974\ttotal: 969ms\tremaining: 425ms\n",
      "695:\tlearn: 0.2506311\ttotal: 971ms\tremaining: 424ms\n",
      "696:\tlearn: 0.2505477\ttotal: 972ms\tremaining: 422ms\n",
      "697:\tlearn: 0.2503986\ttotal: 973ms\tremaining: 421ms\n",
      "698:\tlearn: 0.2499240\ttotal: 974ms\tremaining: 419ms\n",
      "699:\tlearn: 0.2498225\ttotal: 975ms\tremaining: 418ms\n",
      "700:\tlearn: 0.2494944\ttotal: 976ms\tremaining: 416ms\n",
      "701:\tlearn: 0.2492203\ttotal: 977ms\tremaining: 415ms\n",
      "702:\tlearn: 0.2488234\ttotal: 978ms\tremaining: 413ms\n",
      "703:\tlearn: 0.2486162\ttotal: 979ms\tremaining: 412ms\n",
      "704:\tlearn: 0.2482242\ttotal: 980ms\tremaining: 410ms\n",
      "705:\tlearn: 0.2480748\ttotal: 982ms\tremaining: 409ms\n",
      "706:\tlearn: 0.2479375\ttotal: 983ms\tremaining: 407ms\n",
      "707:\tlearn: 0.2475434\ttotal: 984ms\tremaining: 406ms\n",
      "708:\tlearn: 0.2471920\ttotal: 985ms\tremaining: 404ms\n",
      "709:\tlearn: 0.2467917\ttotal: 986ms\tremaining: 403ms\n",
      "710:\tlearn: 0.2464103\ttotal: 987ms\tremaining: 401ms\n",
      "711:\tlearn: 0.2458501\ttotal: 988ms\tremaining: 400ms\n",
      "712:\tlearn: 0.2457499\ttotal: 989ms\tremaining: 398ms\n",
      "713:\tlearn: 0.2454262\ttotal: 990ms\tremaining: 397ms\n",
      "714:\tlearn: 0.2453648\ttotal: 992ms\tremaining: 395ms\n",
      "715:\tlearn: 0.2451633\ttotal: 993ms\tremaining: 394ms\n",
      "716:\tlearn: 0.2450302\ttotal: 994ms\tremaining: 392ms\n",
      "717:\tlearn: 0.2445648\ttotal: 995ms\tremaining: 391ms\n",
      "718:\tlearn: 0.2442339\ttotal: 996ms\tremaining: 389ms\n",
      "719:\tlearn: 0.2439078\ttotal: 997ms\tremaining: 388ms\n",
      "720:\tlearn: 0.2433995\ttotal: 999ms\tremaining: 386ms\n",
      "721:\tlearn: 0.2433862\ttotal: 1000ms\tremaining: 385ms\n",
      "722:\tlearn: 0.2432962\ttotal: 1s\tremaining: 383ms\n",
      "723:\tlearn: 0.2430060\ttotal: 1s\tremaining: 382ms\n",
      "724:\tlearn: 0.2425932\ttotal: 1s\tremaining: 380ms\n",
      "725:\tlearn: 0.2423348\ttotal: 1s\tremaining: 379ms\n",
      "726:\tlearn: 0.2419308\ttotal: 1s\tremaining: 377ms\n",
      "727:\tlearn: 0.2418362\ttotal: 1.01s\tremaining: 376ms\n",
      "728:\tlearn: 0.2415197\ttotal: 1.01s\tremaining: 374ms\n",
      "729:\tlearn: 0.2411223\ttotal: 1.01s\tremaining: 373ms\n",
      "730:\tlearn: 0.2409478\ttotal: 1.01s\tremaining: 372ms\n",
      "731:\tlearn: 0.2407714\ttotal: 1.01s\tremaining: 370ms\n",
      "732:\tlearn: 0.2406417\ttotal: 1.01s\tremaining: 369ms\n",
      "733:\tlearn: 0.2402533\ttotal: 1.01s\tremaining: 367ms\n",
      "734:\tlearn: 0.2401133\ttotal: 1.01s\tremaining: 366ms\n",
      "735:\tlearn: 0.2398209\ttotal: 1.01s\tremaining: 364ms\n",
      "736:\tlearn: 0.2394540\ttotal: 1.02s\tremaining: 363ms\n",
      "737:\tlearn: 0.2391587\ttotal: 1.02s\tremaining: 361ms\n",
      "738:\tlearn: 0.2387674\ttotal: 1.02s\tremaining: 360ms\n",
      "739:\tlearn: 0.2386750\ttotal: 1.02s\tremaining: 358ms\n",
      "740:\tlearn: 0.2384482\ttotal: 1.02s\tremaining: 357ms\n",
      "741:\tlearn: 0.2382385\ttotal: 1.02s\tremaining: 356ms\n",
      "742:\tlearn: 0.2380046\ttotal: 1.02s\tremaining: 354ms\n",
      "743:\tlearn: 0.2378746\ttotal: 1.02s\tremaining: 353ms\n",
      "744:\tlearn: 0.2377578\ttotal: 1.03s\tremaining: 351ms\n",
      "745:\tlearn: 0.2373402\ttotal: 1.03s\tremaining: 350ms\n",
      "746:\tlearn: 0.2370049\ttotal: 1.03s\tremaining: 348ms\n",
      "747:\tlearn: 0.2366652\ttotal: 1.03s\tremaining: 347ms\n",
      "748:\tlearn: 0.2360879\ttotal: 1.03s\tremaining: 346ms\n",
      "749:\tlearn: 0.2359327\ttotal: 1.03s\tremaining: 344ms\n",
      "750:\tlearn: 0.2355322\ttotal: 1.03s\tremaining: 343ms\n",
      "751:\tlearn: 0.2354087\ttotal: 1.03s\tremaining: 341ms\n",
      "752:\tlearn: 0.2352455\ttotal: 1.04s\tremaining: 340ms\n",
      "753:\tlearn: 0.2352033\ttotal: 1.04s\tremaining: 338ms\n",
      "754:\tlearn: 0.2348509\ttotal: 1.04s\tremaining: 337ms\n",
      "755:\tlearn: 0.2347411\ttotal: 1.04s\tremaining: 336ms\n",
      "756:\tlearn: 0.2344575\ttotal: 1.04s\tremaining: 334ms\n",
      "757:\tlearn: 0.2342080\ttotal: 1.04s\tremaining: 333ms\n",
      "758:\tlearn: 0.2338879\ttotal: 1.04s\tremaining: 331ms\n",
      "759:\tlearn: 0.2337455\ttotal: 1.04s\tremaining: 330ms\n",
      "760:\tlearn: 0.2334452\ttotal: 1.04s\tremaining: 328ms\n",
      "761:\tlearn: 0.2333506\ttotal: 1.05s\tremaining: 327ms\n",
      "762:\tlearn: 0.2332483\ttotal: 1.05s\tremaining: 325ms\n",
      "763:\tlearn: 0.2324733\ttotal: 1.05s\tremaining: 324ms\n",
      "764:\tlearn: 0.2323848\ttotal: 1.05s\tremaining: 323ms\n",
      "765:\tlearn: 0.2322199\ttotal: 1.05s\tremaining: 321ms\n",
      "766:\tlearn: 0.2319511\ttotal: 1.05s\tremaining: 320ms\n",
      "767:\tlearn: 0.2318282\ttotal: 1.05s\tremaining: 318ms\n",
      "768:\tlearn: 0.2314379\ttotal: 1.05s\tremaining: 317ms\n",
      "769:\tlearn: 0.2312369\ttotal: 1.05s\tremaining: 315ms\n",
      "770:\tlearn: 0.2311632\ttotal: 1.06s\tremaining: 314ms\n",
      "771:\tlearn: 0.2310889\ttotal: 1.06s\tremaining: 312ms\n",
      "772:\tlearn: 0.2309433\ttotal: 1.06s\tremaining: 311ms\n",
      "773:\tlearn: 0.2305786\ttotal: 1.06s\tremaining: 310ms\n",
      "774:\tlearn: 0.2304419\ttotal: 1.06s\tremaining: 308ms\n",
      "775:\tlearn: 0.2300387\ttotal: 1.06s\tremaining: 307ms\n",
      "776:\tlearn: 0.2298188\ttotal: 1.06s\tremaining: 305ms\n",
      "777:\tlearn: 0.2295848\ttotal: 1.06s\tremaining: 304ms\n",
      "778:\tlearn: 0.2291867\ttotal: 1.07s\tremaining: 303ms\n",
      "779:\tlearn: 0.2288790\ttotal: 1.07s\tremaining: 301ms\n",
      "780:\tlearn: 0.2286692\ttotal: 1.07s\tremaining: 300ms\n",
      "781:\tlearn: 0.2284628\ttotal: 1.07s\tremaining: 298ms\n",
      "782:\tlearn: 0.2283149\ttotal: 1.07s\tremaining: 297ms\n",
      "783:\tlearn: 0.2281499\ttotal: 1.07s\tremaining: 295ms\n",
      "784:\tlearn: 0.2278956\ttotal: 1.07s\tremaining: 294ms\n",
      "785:\tlearn: 0.2275441\ttotal: 1.07s\tremaining: 293ms\n",
      "786:\tlearn: 0.2274435\ttotal: 1.08s\tremaining: 291ms\n",
      "787:\tlearn: 0.2273211\ttotal: 1.08s\tremaining: 290ms\n",
      "788:\tlearn: 0.2271110\ttotal: 1.08s\tremaining: 289ms\n",
      "789:\tlearn: 0.2268723\ttotal: 1.08s\tremaining: 287ms\n",
      "790:\tlearn: 0.2265461\ttotal: 1.08s\tremaining: 286ms\n",
      "791:\tlearn: 0.2265341\ttotal: 1.08s\tremaining: 284ms\n",
      "792:\tlearn: 0.2264467\ttotal: 1.08s\tremaining: 283ms\n",
      "793:\tlearn: 0.2261630\ttotal: 1.08s\tremaining: 281ms\n",
      "794:\tlearn: 0.2257671\ttotal: 1.09s\tremaining: 280ms\n",
      "795:\tlearn: 0.2257561\ttotal: 1.09s\tremaining: 279ms\n",
      "796:\tlearn: 0.2255977\ttotal: 1.09s\tremaining: 277ms\n",
      "797:\tlearn: 0.2254494\ttotal: 1.09s\tremaining: 276ms\n",
      "798:\tlearn: 0.2252319\ttotal: 1.09s\tremaining: 274ms\n",
      "799:\tlearn: 0.2249196\ttotal: 1.09s\tremaining: 273ms\n",
      "800:\tlearn: 0.2246526\ttotal: 1.09s\tremaining: 271ms\n",
      "801:\tlearn: 0.2242663\ttotal: 1.09s\tremaining: 270ms\n",
      "802:\tlearn: 0.2241137\ttotal: 1.09s\tremaining: 269ms\n",
      "803:\tlearn: 0.2240790\ttotal: 1.1s\tremaining: 267ms\n",
      "804:\tlearn: 0.2240293\ttotal: 1.1s\tremaining: 266ms\n",
      "805:\tlearn: 0.2239021\ttotal: 1.1s\tremaining: 264ms\n",
      "806:\tlearn: 0.2237139\ttotal: 1.1s\tremaining: 263ms\n",
      "807:\tlearn: 0.2236798\ttotal: 1.1s\tremaining: 262ms\n",
      "808:\tlearn: 0.2231772\ttotal: 1.1s\tremaining: 260ms\n",
      "809:\tlearn: 0.2231431\ttotal: 1.1s\tremaining: 259ms\n",
      "810:\tlearn: 0.2230049\ttotal: 1.1s\tremaining: 257ms\n",
      "811:\tlearn: 0.2228624\ttotal: 1.1s\tremaining: 256ms\n",
      "812:\tlearn: 0.2225830\ttotal: 1.11s\tremaining: 254ms\n",
      "813:\tlearn: 0.2223924\ttotal: 1.11s\tremaining: 253ms\n",
      "814:\tlearn: 0.2222485\ttotal: 1.11s\tremaining: 252ms\n",
      "815:\tlearn: 0.2221784\ttotal: 1.11s\tremaining: 250ms\n",
      "816:\tlearn: 0.2220165\ttotal: 1.11s\tremaining: 249ms\n",
      "817:\tlearn: 0.2215532\ttotal: 1.11s\tremaining: 247ms\n",
      "818:\tlearn: 0.2210425\ttotal: 1.11s\tremaining: 246ms\n",
      "819:\tlearn: 0.2207537\ttotal: 1.11s\tremaining: 245ms\n",
      "820:\tlearn: 0.2200278\ttotal: 1.11s\tremaining: 243ms\n",
      "821:\tlearn: 0.2198164\ttotal: 1.12s\tremaining: 242ms\n",
      "822:\tlearn: 0.2196218\ttotal: 1.12s\tremaining: 240ms\n",
      "823:\tlearn: 0.2194009\ttotal: 1.12s\tremaining: 239ms\n",
      "824:\tlearn: 0.2193900\ttotal: 1.12s\tremaining: 238ms\n",
      "825:\tlearn: 0.2192640\ttotal: 1.12s\tremaining: 236ms\n",
      "826:\tlearn: 0.2189775\ttotal: 1.12s\tremaining: 235ms\n",
      "827:\tlearn: 0.2187643\ttotal: 1.12s\tremaining: 233ms\n",
      "828:\tlearn: 0.2185656\ttotal: 1.12s\tremaining: 232ms\n",
      "829:\tlearn: 0.2180778\ttotal: 1.13s\tremaining: 231ms\n",
      "830:\tlearn: 0.2178371\ttotal: 1.13s\tremaining: 229ms\n",
      "831:\tlearn: 0.2175506\ttotal: 1.13s\tremaining: 228ms\n",
      "832:\tlearn: 0.2173161\ttotal: 1.13s\tremaining: 226ms\n",
      "833:\tlearn: 0.2172861\ttotal: 1.13s\tremaining: 225ms\n",
      "834:\tlearn: 0.2170107\ttotal: 1.13s\tremaining: 223ms\n",
      "835:\tlearn: 0.2168230\ttotal: 1.13s\tremaining: 222ms\n",
      "836:\tlearn: 0.2167841\ttotal: 1.13s\tremaining: 221ms\n",
      "837:\tlearn: 0.2165666\ttotal: 1.13s\tremaining: 219ms\n",
      "838:\tlearn: 0.2162341\ttotal: 1.14s\tremaining: 218ms\n",
      "839:\tlearn: 0.2160068\ttotal: 1.14s\tremaining: 216ms\n",
      "840:\tlearn: 0.2159901\ttotal: 1.14s\tremaining: 215ms\n",
      "841:\tlearn: 0.2157141\ttotal: 1.14s\tremaining: 214ms\n",
      "842:\tlearn: 0.2150907\ttotal: 1.14s\tremaining: 212ms\n",
      "843:\tlearn: 0.2150395\ttotal: 1.14s\tremaining: 211ms\n",
      "844:\tlearn: 0.2149231\ttotal: 1.14s\tremaining: 209ms\n",
      "845:\tlearn: 0.2148958\ttotal: 1.14s\tremaining: 208ms\n",
      "846:\tlearn: 0.2147462\ttotal: 1.14s\tremaining: 207ms\n",
      "847:\tlearn: 0.2144691\ttotal: 1.14s\tremaining: 205ms\n",
      "848:\tlearn: 0.2140113\ttotal: 1.15s\tremaining: 204ms\n",
      "849:\tlearn: 0.2136655\ttotal: 1.15s\tremaining: 202ms\n",
      "850:\tlearn: 0.2136307\ttotal: 1.15s\tremaining: 201ms\n",
      "851:\tlearn: 0.2132662\ttotal: 1.15s\tremaining: 200ms\n",
      "852:\tlearn: 0.2131456\ttotal: 1.15s\tremaining: 198ms\n",
      "853:\tlearn: 0.2128003\ttotal: 1.15s\tremaining: 197ms\n",
      "854:\tlearn: 0.2126206\ttotal: 1.15s\tremaining: 195ms\n",
      "855:\tlearn: 0.2124290\ttotal: 1.15s\tremaining: 194ms\n",
      "856:\tlearn: 0.2121257\ttotal: 1.15s\tremaining: 193ms\n",
      "857:\tlearn: 0.2118469\ttotal: 1.16s\tremaining: 191ms\n",
      "858:\tlearn: 0.2116596\ttotal: 1.16s\tremaining: 190ms\n",
      "859:\tlearn: 0.2113605\ttotal: 1.16s\tremaining: 189ms\n",
      "860:\tlearn: 0.2113137\ttotal: 1.16s\tremaining: 187ms\n",
      "861:\tlearn: 0.2112673\ttotal: 1.16s\tremaining: 186ms\n",
      "862:\tlearn: 0.2108621\ttotal: 1.16s\tremaining: 184ms\n",
      "863:\tlearn: 0.2107986\ttotal: 1.16s\tremaining: 183ms\n",
      "864:\tlearn: 0.2107709\ttotal: 1.16s\tremaining: 182ms\n",
      "865:\tlearn: 0.2103908\ttotal: 1.16s\tremaining: 180ms\n",
      "866:\tlearn: 0.2103689\ttotal: 1.17s\tremaining: 179ms\n",
      "867:\tlearn: 0.2100710\ttotal: 1.17s\tremaining: 177ms\n",
      "868:\tlearn: 0.2098930\ttotal: 1.17s\tremaining: 176ms\n",
      "869:\tlearn: 0.2096660\ttotal: 1.17s\tremaining: 175ms\n",
      "870:\tlearn: 0.2093996\ttotal: 1.17s\tremaining: 173ms\n",
      "871:\tlearn: 0.2090128\ttotal: 1.17s\tremaining: 172ms\n",
      "872:\tlearn: 0.2088479\ttotal: 1.17s\tremaining: 171ms\n",
      "873:\tlearn: 0.2088387\ttotal: 1.17s\tremaining: 169ms\n",
      "874:\tlearn: 0.2085767\ttotal: 1.17s\tremaining: 168ms\n",
      "875:\tlearn: 0.2084562\ttotal: 1.18s\tremaining: 166ms\n",
      "876:\tlearn: 0.2081777\ttotal: 1.18s\tremaining: 165ms\n",
      "877:\tlearn: 0.2078471\ttotal: 1.18s\tremaining: 164ms\n",
      "878:\tlearn: 0.2077658\ttotal: 1.18s\tremaining: 162ms\n",
      "879:\tlearn: 0.2075379\ttotal: 1.18s\tremaining: 161ms\n",
      "880:\tlearn: 0.2071309\ttotal: 1.18s\tremaining: 160ms\n",
      "881:\tlearn: 0.2069324\ttotal: 1.18s\tremaining: 158ms\n",
      "882:\tlearn: 0.2066198\ttotal: 1.18s\tremaining: 157ms\n",
      "883:\tlearn: 0.2063540\ttotal: 1.19s\tremaining: 156ms\n",
      "884:\tlearn: 0.2063464\ttotal: 1.19s\tremaining: 154ms\n",
      "885:\tlearn: 0.2061554\ttotal: 1.19s\tremaining: 153ms\n",
      "886:\tlearn: 0.2058972\ttotal: 1.19s\tremaining: 152ms\n",
      "887:\tlearn: 0.2057123\ttotal: 1.19s\tremaining: 150ms\n",
      "888:\tlearn: 0.2055984\ttotal: 1.19s\tremaining: 149ms\n",
      "889:\tlearn: 0.2053910\ttotal: 1.19s\tremaining: 147ms\n",
      "890:\tlearn: 0.2052232\ttotal: 1.19s\tremaining: 146ms\n",
      "891:\tlearn: 0.2051489\ttotal: 1.2s\tremaining: 145ms\n",
      "892:\tlearn: 0.2048597\ttotal: 1.2s\tremaining: 143ms\n",
      "893:\tlearn: 0.2046939\ttotal: 1.2s\tremaining: 142ms\n",
      "894:\tlearn: 0.2043597\ttotal: 1.2s\tremaining: 141ms\n",
      "895:\tlearn: 0.2042939\ttotal: 1.2s\tremaining: 139ms\n",
      "896:\tlearn: 0.2040984\ttotal: 1.2s\tremaining: 138ms\n",
      "897:\tlearn: 0.2040341\ttotal: 1.2s\tremaining: 137ms\n",
      "898:\tlearn: 0.2038472\ttotal: 1.2s\tremaining: 135ms\n",
      "899:\tlearn: 0.2036389\ttotal: 1.2s\tremaining: 134ms\n",
      "900:\tlearn: 0.2035393\ttotal: 1.21s\tremaining: 133ms\n",
      "901:\tlearn: 0.2033088\ttotal: 1.21s\tremaining: 131ms\n",
      "902:\tlearn: 0.2028456\ttotal: 1.21s\tremaining: 130ms\n",
      "903:\tlearn: 0.2027263\ttotal: 1.21s\tremaining: 128ms\n",
      "904:\tlearn: 0.2026736\ttotal: 1.21s\tremaining: 127ms\n",
      "905:\tlearn: 0.2026385\ttotal: 1.21s\tremaining: 126ms\n",
      "906:\tlearn: 0.2025376\ttotal: 1.21s\tremaining: 124ms\n",
      "907:\tlearn: 0.2021450\ttotal: 1.21s\tremaining: 123ms\n",
      "908:\tlearn: 0.2020476\ttotal: 1.22s\tremaining: 122ms\n",
      "909:\tlearn: 0.2019482\ttotal: 1.22s\tremaining: 120ms\n",
      "910:\tlearn: 0.2018056\ttotal: 1.22s\tremaining: 119ms\n",
      "911:\tlearn: 0.2017433\ttotal: 1.22s\tremaining: 118ms\n",
      "912:\tlearn: 0.2016567\ttotal: 1.22s\tremaining: 116ms\n",
      "913:\tlearn: 0.2015020\ttotal: 1.22s\tremaining: 115ms\n",
      "914:\tlearn: 0.2011505\ttotal: 1.22s\tremaining: 114ms\n",
      "915:\tlearn: 0.2009253\ttotal: 1.22s\tremaining: 112ms\n",
      "916:\tlearn: 0.2006329\ttotal: 1.22s\tremaining: 111ms\n",
      "917:\tlearn: 0.2006101\ttotal: 1.23s\tremaining: 110ms\n",
      "918:\tlearn: 0.2004082\ttotal: 1.23s\tremaining: 108ms\n",
      "919:\tlearn: 0.2002431\ttotal: 1.23s\tremaining: 107ms\n",
      "920:\tlearn: 0.2001223\ttotal: 1.23s\tremaining: 105ms\n",
      "921:\tlearn: 0.1997705\ttotal: 1.23s\tremaining: 104ms\n",
      "922:\tlearn: 0.1993896\ttotal: 1.23s\tremaining: 103ms\n",
      "923:\tlearn: 0.1992574\ttotal: 1.23s\tremaining: 101ms\n",
      "924:\tlearn: 0.1990339\ttotal: 1.23s\tremaining: 100ms\n",
      "925:\tlearn: 0.1984836\ttotal: 1.24s\tremaining: 98.7ms\n",
      "926:\tlearn: 0.1983637\ttotal: 1.24s\tremaining: 97.4ms\n",
      "927:\tlearn: 0.1980515\ttotal: 1.24s\tremaining: 96ms\n",
      "928:\tlearn: 0.1980297\ttotal: 1.24s\tremaining: 94.6ms\n",
      "929:\tlearn: 0.1977944\ttotal: 1.24s\tremaining: 93.3ms\n",
      "930:\tlearn: 0.1975051\ttotal: 1.24s\tremaining: 92ms\n",
      "931:\tlearn: 0.1974518\ttotal: 1.24s\tremaining: 90.6ms\n",
      "932:\tlearn: 0.1970626\ttotal: 1.24s\tremaining: 89.3ms\n",
      "933:\tlearn: 0.1967358\ttotal: 1.24s\tremaining: 87.9ms\n",
      "934:\tlearn: 0.1964190\ttotal: 1.25s\tremaining: 86.6ms\n",
      "935:\tlearn: 0.1964028\ttotal: 1.25s\tremaining: 85.2ms\n",
      "936:\tlearn: 0.1960742\ttotal: 1.25s\tremaining: 83.9ms\n",
      "937:\tlearn: 0.1960047\ttotal: 1.25s\tremaining: 82.6ms\n",
      "938:\tlearn: 0.1959927\ttotal: 1.25s\tremaining: 81.2ms\n",
      "939:\tlearn: 0.1958585\ttotal: 1.25s\tremaining: 79.9ms\n",
      "940:\tlearn: 0.1954278\ttotal: 1.26s\tremaining: 79.3ms\n",
      "941:\tlearn: 0.1952615\ttotal: 1.26s\tremaining: 77.9ms\n",
      "942:\tlearn: 0.1950513\ttotal: 1.27s\tremaining: 76.6ms\n",
      "943:\tlearn: 0.1947273\ttotal: 1.27s\tremaining: 75.3ms\n",
      "944:\tlearn: 0.1944736\ttotal: 1.27s\tremaining: 73.9ms\n",
      "945:\tlearn: 0.1944585\ttotal: 1.27s\tremaining: 72.6ms\n",
      "946:\tlearn: 0.1944475\ttotal: 1.27s\tremaining: 71.2ms\n",
      "947:\tlearn: 0.1942250\ttotal: 1.27s\tremaining: 69.8ms\n",
      "948:\tlearn: 0.1940312\ttotal: 1.27s\tremaining: 68.5ms\n",
      "949:\tlearn: 0.1937327\ttotal: 1.27s\tremaining: 67.1ms\n",
      "950:\tlearn: 0.1934235\ttotal: 1.28s\tremaining: 65.8ms\n",
      "951:\tlearn: 0.1931610\ttotal: 1.28s\tremaining: 64.4ms\n",
      "952:\tlearn: 0.1930073\ttotal: 1.28s\tremaining: 63.1ms\n",
      "953:\tlearn: 0.1928527\ttotal: 1.28s\tremaining: 61.7ms\n",
      "954:\tlearn: 0.1928261\ttotal: 1.28s\tremaining: 60.4ms\n",
      "955:\tlearn: 0.1925192\ttotal: 1.28s\tremaining: 59ms\n",
      "956:\tlearn: 0.1922810\ttotal: 1.28s\tremaining: 57.7ms\n",
      "957:\tlearn: 0.1921417\ttotal: 1.28s\tremaining: 56.3ms\n",
      "958:\tlearn: 0.1918671\ttotal: 1.28s\tremaining: 55ms\n",
      "959:\tlearn: 0.1916054\ttotal: 1.29s\tremaining: 53.6ms\n",
      "960:\tlearn: 0.1915936\ttotal: 1.29s\tremaining: 52.3ms\n",
      "961:\tlearn: 0.1913348\ttotal: 1.29s\tremaining: 50.9ms\n",
      "962:\tlearn: 0.1912668\ttotal: 1.29s\tremaining: 49.6ms\n",
      "963:\tlearn: 0.1912228\ttotal: 1.29s\tremaining: 48.2ms\n",
      "964:\tlearn: 0.1912025\ttotal: 1.29s\tremaining: 46.9ms\n",
      "965:\tlearn: 0.1908622\ttotal: 1.29s\tremaining: 45.5ms\n",
      "966:\tlearn: 0.1908515\ttotal: 1.29s\tremaining: 44.2ms\n",
      "967:\tlearn: 0.1908442\ttotal: 1.29s\tremaining: 42.8ms\n",
      "968:\tlearn: 0.1907469\ttotal: 1.3s\tremaining: 41.5ms\n",
      "969:\tlearn: 0.1904802\ttotal: 1.3s\tremaining: 40.1ms\n",
      "970:\tlearn: 0.1904507\ttotal: 1.3s\tremaining: 38.8ms\n",
      "971:\tlearn: 0.1901638\ttotal: 1.3s\tremaining: 37.5ms\n",
      "972:\tlearn: 0.1898249\ttotal: 1.3s\tremaining: 36.1ms\n",
      "973:\tlearn: 0.1895728\ttotal: 1.3s\tremaining: 34.8ms\n",
      "974:\tlearn: 0.1893455\ttotal: 1.3s\tremaining: 33.4ms\n",
      "975:\tlearn: 0.1892579\ttotal: 1.3s\tremaining: 32.1ms\n",
      "976:\tlearn: 0.1888721\ttotal: 1.31s\tremaining: 30.7ms\n",
      "977:\tlearn: 0.1887613\ttotal: 1.31s\tremaining: 29.4ms\n",
      "978:\tlearn: 0.1884280\ttotal: 1.31s\tremaining: 28.1ms\n",
      "979:\tlearn: 0.1883184\ttotal: 1.31s\tremaining: 26.7ms\n",
      "980:\tlearn: 0.1883044\ttotal: 1.31s\tremaining: 25.4ms\n",
      "981:\tlearn: 0.1881250\ttotal: 1.31s\tremaining: 24ms\n",
      "982:\tlearn: 0.1880319\ttotal: 1.31s\tremaining: 22.7ms\n",
      "983:\tlearn: 0.1877877\ttotal: 1.31s\tremaining: 21.4ms\n",
      "984:\tlearn: 0.1875167\ttotal: 1.31s\tremaining: 20ms\n",
      "985:\tlearn: 0.1873458\ttotal: 1.31s\tremaining: 18.7ms\n",
      "986:\tlearn: 0.1870976\ttotal: 1.32s\tremaining: 17.3ms\n",
      "987:\tlearn: 0.1869510\ttotal: 1.32s\tremaining: 16ms\n",
      "988:\tlearn: 0.1869335\ttotal: 1.32s\tremaining: 14.7ms\n",
      "989:\tlearn: 0.1868883\ttotal: 1.32s\tremaining: 13.3ms\n",
      "990:\tlearn: 0.1868383\ttotal: 1.32s\tremaining: 12ms\n",
      "991:\tlearn: 0.1866352\ttotal: 1.32s\tremaining: 10.7ms\n",
      "992:\tlearn: 0.1863601\ttotal: 1.32s\tremaining: 9.33ms\n",
      "993:\tlearn: 0.1863488\ttotal: 1.32s\tremaining: 7.99ms\n",
      "994:\tlearn: 0.1861167\ttotal: 1.32s\tremaining: 6.66ms\n",
      "995:\tlearn: 0.1858339\ttotal: 1.33s\tremaining: 5.33ms\n",
      "996:\tlearn: 0.1858018\ttotal: 1.33s\tremaining: 3.99ms\n",
      "997:\tlearn: 0.1856167\ttotal: 1.33s\tremaining: 2.66ms\n",
      "998:\tlearn: 0.1854035\ttotal: 1.33s\tremaining: 1.33ms\n",
      "999:\tlearn: 0.1850434\ttotal: 1.33s\tremaining: 0us\n"
     ]
    }
   ],
   "source": [
    "catb = CatBoostRegressor()\n",
    "catb_model = catb.fit(X_train, y_train)"
   ]
  },
  {
   "cell_type": "code",
   "execution_count": 223,
   "id": "a8bcdf30-ffbe-45e5-b5f0-cdad263592f6",
   "metadata": {},
   "outputs": [
    {
     "data": {
      "text/plain": [
       "0.5450217466041071"
      ]
     },
     "execution_count": 223,
     "metadata": {},
     "output_type": "execute_result"
    }
   ],
   "source": [
    "y_pred = catb_model.predict(X_test)\n",
    "np.sqrt(mean_squared_error(y_test, y_pred))"
   ]
  },
  {
   "cell_type": "code",
   "execution_count": 224,
   "id": "6e8d62b6-628b-474b-8060-dfc35813ed71",
   "metadata": {},
   "outputs": [],
   "source": [
    "#CatBoostile sapma değeri bulundu."
   ]
  },
  {
   "cell_type": "code",
   "execution_count": 225,
   "id": "69fc8707-eac9-45fe-9948-b85379dfa559",
   "metadata": {},
   "outputs": [],
   "source": [
    "catb_grid = {\n",
    "    'iterations': [200,500,1000,2000],\n",
    "    'learning_rate': [0.01, 0.03, 0.1],\n",
    "    'depth': [3,4,5,6] }"
   ]
  },
  {
   "cell_type": "code",
   "execution_count": 226,
   "id": "cbc94192-6bda-46f0-a86e-718bf04a3196",
   "metadata": {},
   "outputs": [],
   "source": [
    "catb = CatBoostRegressor()\n",
    "catb_cv_model = GridSearchCV(catb, catb_grid, cv=5, n_jobs = -1, verbose = 2)"
   ]
  },
  {
   "cell_type": "code",
   "execution_count": 227,
   "id": "c6ba72c1-85ac-42d8-9055-487879053b2f",
   "metadata": {
    "collapsed": true,
    "jupyter": {
     "outputs_hidden": true
    },
    "tags": []
   },
   "outputs": [
    {
     "name": "stdout",
     "output_type": "stream",
     "text": [
      "Fitting 5 folds for each of 48 candidates, totalling 240 fits\n",
      "0:\tlearn: 0.7587611\ttotal: 1.92ms\tremaining: 1.92s\n",
      "1:\tlearn: 0.7524480\ttotal: 5.16ms\tremaining: 2.57s\n",
      "2:\tlearn: 0.7450241\ttotal: 6.73ms\tremaining: 2.24s\n",
      "3:\tlearn: 0.7383022\ttotal: 8.32ms\tremaining: 2.07s\n",
      "4:\tlearn: 0.7319329\ttotal: 9.68ms\tremaining: 1.93s\n",
      "5:\tlearn: 0.7259419\ttotal: 11.4ms\tremaining: 1.89s\n",
      "6:\tlearn: 0.7199685\ttotal: 13.5ms\tremaining: 1.91s\n",
      "7:\tlearn: 0.7138122\ttotal: 14.9ms\tremaining: 1.85s\n",
      "8:\tlearn: 0.7083650\ttotal: 16.7ms\tremaining: 1.84s\n",
      "9:\tlearn: 0.7036014\ttotal: 18.6ms\tremaining: 1.84s\n",
      "10:\tlearn: 0.6982181\ttotal: 20.3ms\tremaining: 1.82s\n",
      "11:\tlearn: 0.6937073\ttotal: 22.4ms\tremaining: 1.84s\n",
      "12:\tlearn: 0.6891551\ttotal: 24ms\tremaining: 1.82s\n",
      "13:\tlearn: 0.6843277\ttotal: 25.6ms\tremaining: 1.8s\n",
      "14:\tlearn: 0.6795768\ttotal: 27.1ms\tremaining: 1.78s\n",
      "15:\tlearn: 0.6753310\ttotal: 28.7ms\tremaining: 1.76s\n",
      "16:\tlearn: 0.6715382\ttotal: 30ms\tremaining: 1.74s\n",
      "17:\tlearn: 0.6671675\ttotal: 31.6ms\tremaining: 1.72s\n",
      "18:\tlearn: 0.6628280\ttotal: 33.9ms\tremaining: 1.75s\n",
      "19:\tlearn: 0.6592246\ttotal: 35.3ms\tremaining: 1.73s\n",
      "20:\tlearn: 0.6555805\ttotal: 36.8ms\tremaining: 1.72s\n",
      "21:\tlearn: 0.6517718\ttotal: 38.2ms\tremaining: 1.7s\n",
      "22:\tlearn: 0.6485649\ttotal: 40.1ms\tremaining: 1.7s\n",
      "23:\tlearn: 0.6460714\ttotal: 41.7ms\tremaining: 1.7s\n",
      "24:\tlearn: 0.6426103\ttotal: 43.2ms\tremaining: 1.69s\n",
      "25:\tlearn: 0.6389561\ttotal: 45ms\tremaining: 1.69s\n",
      "26:\tlearn: 0.6359576\ttotal: 46.7ms\tremaining: 1.68s\n",
      "27:\tlearn: 0.6332514\ttotal: 48.2ms\tremaining: 1.67s\n",
      "28:\tlearn: 0.6300058\ttotal: 49.7ms\tremaining: 1.67s\n",
      "29:\tlearn: 0.6273840\ttotal: 51.7ms\tremaining: 1.67s\n",
      "30:\tlearn: 0.6250630\ttotal: 55ms\tremaining: 1.72s\n",
      "31:\tlearn: 0.6223047\ttotal: 56.8ms\tremaining: 1.72s\n",
      "32:\tlearn: 0.6197233\ttotal: 58.4ms\tremaining: 1.71s\n",
      "33:\tlearn: 0.6174378\ttotal: 60ms\tremaining: 1.7s\n",
      "34:\tlearn: 0.6146452\ttotal: 61.3ms\tremaining: 1.69s\n",
      "35:\tlearn: 0.6121376\ttotal: 62.9ms\tremaining: 1.68s\n",
      "36:\tlearn: 0.6106537\ttotal: 64.9ms\tremaining: 1.69s\n",
      "37:\tlearn: 0.6082752\ttotal: 66.6ms\tremaining: 1.69s\n",
      "38:\tlearn: 0.6065260\ttotal: 68.3ms\tremaining: 1.68s\n",
      "39:\tlearn: 0.6043991\ttotal: 69.9ms\tremaining: 1.68s\n",
      "40:\tlearn: 0.6025184\ttotal: 71.9ms\tremaining: 1.68s\n",
      "41:\tlearn: 0.6004633\ttotal: 73.2ms\tremaining: 1.67s\n",
      "42:\tlearn: 0.5985406\ttotal: 74.9ms\tremaining: 1.67s\n",
      "43:\tlearn: 0.5964887\ttotal: 76.4ms\tremaining: 1.66s\n",
      "44:\tlearn: 0.5946218\ttotal: 78.5ms\tremaining: 1.67s\n",
      "45:\tlearn: 0.5923706\ttotal: 80.4ms\tremaining: 1.67s\n",
      "46:\tlearn: 0.5904026\ttotal: 82.2ms\tremaining: 1.67s\n",
      "47:\tlearn: 0.5886965\ttotal: 84.2ms\tremaining: 1.67s\n",
      "48:\tlearn: 0.5869307\ttotal: 85.7ms\tremaining: 1.66s\n",
      "49:\tlearn: 0.5851473\ttotal: 87.1ms\tremaining: 1.66s\n",
      "50:\tlearn: 0.5830730\ttotal: 88.8ms\tremaining: 1.65s\n",
      "51:\tlearn: 0.5814984\ttotal: 90.2ms\tremaining: 1.64s\n",
      "52:\tlearn: 0.5797653\ttotal: 92.8ms\tremaining: 1.66s\n",
      "53:\tlearn: 0.5782047\ttotal: 94.6ms\tremaining: 1.66s\n",
      "54:\tlearn: 0.5768704\ttotal: 96.2ms\tremaining: 1.65s\n",
      "55:\tlearn: 0.5755891\ttotal: 97.6ms\tremaining: 1.65s\n",
      "56:\tlearn: 0.5743169\ttotal: 99.1ms\tremaining: 1.64s\n",
      "57:\tlearn: 0.5727578\ttotal: 101ms\tremaining: 1.64s\n",
      "58:\tlearn: 0.5711287\ttotal: 102ms\tremaining: 1.63s\n",
      "59:\tlearn: 0.5700895\ttotal: 104ms\tremaining: 1.62s\n",
      "60:\tlearn: 0.5684481\ttotal: 105ms\tremaining: 1.62s\n",
      "61:\tlearn: 0.5669309\ttotal: 107ms\tremaining: 1.62s\n",
      "62:\tlearn: 0.5658449\ttotal: 109ms\tremaining: 1.62s\n",
      "63:\tlearn: 0.5645251\ttotal: 111ms\tremaining: 1.62s\n",
      "64:\tlearn: 0.5631393\ttotal: 112ms\tremaining: 1.62s\n",
      "65:\tlearn: 0.5619311\ttotal: 114ms\tremaining: 1.61s\n",
      "66:\tlearn: 0.5607798\ttotal: 115ms\tremaining: 1.61s\n",
      "67:\tlearn: 0.5597113\ttotal: 117ms\tremaining: 1.61s\n",
      "68:\tlearn: 0.5586999\ttotal: 118ms\tremaining: 1.6s\n",
      "69:\tlearn: 0.5573940\ttotal: 120ms\tremaining: 1.6s\n",
      "70:\tlearn: 0.5560483\ttotal: 122ms\tremaining: 1.6s\n",
      "71:\tlearn: 0.5549713\ttotal: 124ms\tremaining: 1.6s\n",
      "72:\tlearn: 0.5539323\ttotal: 126ms\tremaining: 1.6s\n",
      "73:\tlearn: 0.5523658\ttotal: 127ms\tremaining: 1.59s\n",
      "74:\tlearn: 0.5512305\ttotal: 129ms\tremaining: 1.58s\n",
      "75:\tlearn: 0.5504449\ttotal: 130ms\tremaining: 1.58s\n",
      "76:\tlearn: 0.5493732\ttotal: 131ms\tremaining: 1.57s\n",
      "77:\tlearn: 0.5488492\ttotal: 133ms\tremaining: 1.57s\n",
      "78:\tlearn: 0.5479087\ttotal: 135ms\tremaining: 1.57s\n",
      "79:\tlearn: 0.5474002\ttotal: 136ms\tremaining: 1.57s\n",
      "80:\tlearn: 0.5465569\ttotal: 138ms\tremaining: 1.56s\n",
      "81:\tlearn: 0.5456933\ttotal: 140ms\tremaining: 1.56s\n",
      "82:\tlearn: 0.5449933\ttotal: 141ms\tremaining: 1.56s\n",
      "83:\tlearn: 0.5442601\ttotal: 143ms\tremaining: 1.55s\n",
      "84:\tlearn: 0.5428054\ttotal: 144ms\tremaining: 1.55s\n",
      "85:\tlearn: 0.5420599\ttotal: 145ms\tremaining: 1.54s\n",
      "86:\tlearn: 0.5411793\ttotal: 147ms\tremaining: 1.54s\n",
      "87:\tlearn: 0.5401634\ttotal: 149ms\tremaining: 1.54s\n",
      "88:\tlearn: 0.5396358\ttotal: 151ms\tremaining: 1.54s\n",
      "89:\tlearn: 0.5391477\ttotal: 152ms\tremaining: 1.54s\n",
      "90:\tlearn: 0.5383380\ttotal: 154ms\tremaining: 1.54s\n",
      "91:\tlearn: 0.5375989\ttotal: 156ms\tremaining: 1.54s\n",
      "92:\tlearn: 0.5366038\ttotal: 157ms\tremaining: 1.53s\n",
      "93:\tlearn: 0.5357597\ttotal: 159ms\tremaining: 1.53s\n",
      "94:\tlearn: 0.5352219\ttotal: 160ms\tremaining: 1.53s\n",
      "95:\tlearn: 0.5340014\ttotal: 162ms\tremaining: 1.52s\n",
      "96:\tlearn: 0.5333699\ttotal: 163ms\tremaining: 1.52s\n",
      "97:\tlearn: 0.5329715\ttotal: 165ms\tremaining: 1.51s\n",
      "98:\tlearn: 0.5320971\ttotal: 167ms\tremaining: 1.52s\n",
      "99:\tlearn: 0.5314484\ttotal: 169ms\tremaining: 1.52s\n",
      "100:\tlearn: 0.5307576\ttotal: 170ms\tremaining: 1.52s\n",
      "101:\tlearn: 0.5303906\ttotal: 172ms\tremaining: 1.51s\n",
      "102:\tlearn: 0.5297521\ttotal: 174ms\tremaining: 1.51s\n",
      "103:\tlearn: 0.5291481\ttotal: 176ms\tremaining: 1.51s\n",
      "104:\tlearn: 0.5286547\ttotal: 178ms\tremaining: 1.52s\n",
      "105:\tlearn: 0.5281324\ttotal: 181ms\tremaining: 1.52s\n",
      "106:\tlearn: 0.5274155\ttotal: 183ms\tremaining: 1.53s\n",
      "107:\tlearn: 0.5265112\ttotal: 185ms\tremaining: 1.53s\n",
      "108:\tlearn: 0.5261693\ttotal: 187ms\tremaining: 1.53s\n",
      "109:\tlearn: 0.5256409\ttotal: 189ms\tremaining: 1.52s\n",
      "110:\tlearn: 0.5253203\ttotal: 191ms\tremaining: 1.53s\n",
      "111:\tlearn: 0.5248663\ttotal: 193ms\tremaining: 1.53s\n",
      "112:\tlearn: 0.5242746\ttotal: 194ms\tremaining: 1.53s\n",
      "113:\tlearn: 0.5234787\ttotal: 196ms\tremaining: 1.52s\n",
      "114:\tlearn: 0.5229420\ttotal: 198ms\tremaining: 1.52s\n",
      "115:\tlearn: 0.5219566\ttotal: 199ms\tremaining: 1.52s\n",
      "116:\tlearn: 0.5216176\ttotal: 200ms\tremaining: 1.51s\n",
      "117:\tlearn: 0.5210808\ttotal: 202ms\tremaining: 1.51s\n",
      "118:\tlearn: 0.5200093\ttotal: 204ms\tremaining: 1.51s\n",
      "119:\tlearn: 0.5193866\ttotal: 206ms\tremaining: 1.51s\n",
      "120:\tlearn: 0.5189601\ttotal: 208ms\tremaining: 1.51s\n",
      "121:\tlearn: 0.5183777\ttotal: 210ms\tremaining: 1.51s\n",
      "122:\tlearn: 0.5179676\ttotal: 213ms\tremaining: 1.52s\n",
      "123:\tlearn: 0.5172073\ttotal: 215ms\tremaining: 1.52s\n",
      "124:\tlearn: 0.5161412\ttotal: 217ms\tremaining: 1.52s\n",
      "125:\tlearn: 0.5155392\ttotal: 221ms\tremaining: 1.53s\n",
      "126:\tlearn: 0.5150088\ttotal: 223ms\tremaining: 1.53s\n",
      "127:\tlearn: 0.5144914\ttotal: 225ms\tremaining: 1.53s\n",
      "128:\tlearn: 0.5140096\ttotal: 227ms\tremaining: 1.53s\n",
      "129:\tlearn: 0.5135629\ttotal: 228ms\tremaining: 1.53s\n",
      "130:\tlearn: 0.5129074\ttotal: 230ms\tremaining: 1.52s\n",
      "131:\tlearn: 0.5125572\ttotal: 232ms\tremaining: 1.52s\n",
      "132:\tlearn: 0.5119321\ttotal: 233ms\tremaining: 1.52s\n",
      "133:\tlearn: 0.5115581\ttotal: 235ms\tremaining: 1.52s\n",
      "134:\tlearn: 0.5109560\ttotal: 237ms\tremaining: 1.52s\n",
      "135:\tlearn: 0.5105059\ttotal: 239ms\tremaining: 1.51s\n",
      "136:\tlearn: 0.5097534\ttotal: 240ms\tremaining: 1.51s\n",
      "137:\tlearn: 0.5092368\ttotal: 242ms\tremaining: 1.51s\n",
      "138:\tlearn: 0.5084121\ttotal: 243ms\tremaining: 1.51s\n",
      "139:\tlearn: 0.5079811\ttotal: 245ms\tremaining: 1.5s\n",
      "140:\tlearn: 0.5074115\ttotal: 246ms\tremaining: 1.5s\n",
      "141:\tlearn: 0.5068445\ttotal: 247ms\tremaining: 1.5s\n",
      "142:\tlearn: 0.5062169\ttotal: 249ms\tremaining: 1.49s\n",
      "143:\tlearn: 0.5058099\ttotal: 251ms\tremaining: 1.49s\n",
      "144:\tlearn: 0.5052782\ttotal: 253ms\tremaining: 1.49s\n",
      "145:\tlearn: 0.5047295\ttotal: 254ms\tremaining: 1.49s\n",
      "146:\tlearn: 0.5042177\ttotal: 256ms\tremaining: 1.49s\n",
      "147:\tlearn: 0.5039169\ttotal: 258ms\tremaining: 1.49s\n",
      "148:\tlearn: 0.5034043\ttotal: 260ms\tremaining: 1.49s\n",
      "149:\tlearn: 0.5026613\ttotal: 262ms\tremaining: 1.48s\n",
      "150:\tlearn: 0.5019325\ttotal: 263ms\tremaining: 1.48s\n",
      "151:\tlearn: 0.5016881\ttotal: 265ms\tremaining: 1.48s\n",
      "152:\tlearn: 0.5010417\ttotal: 267ms\tremaining: 1.48s\n",
      "153:\tlearn: 0.5008426\ttotal: 268ms\tremaining: 1.47s\n",
      "154:\tlearn: 0.5002543\ttotal: 270ms\tremaining: 1.47s\n",
      "155:\tlearn: 0.4997073\ttotal: 271ms\tremaining: 1.47s\n",
      "156:\tlearn: 0.4991037\ttotal: 273ms\tremaining: 1.47s\n",
      "157:\tlearn: 0.4986806\ttotal: 275ms\tremaining: 1.47s\n",
      "158:\tlearn: 0.4983574\ttotal: 277ms\tremaining: 1.46s\n",
      "159:\tlearn: 0.4981293\ttotal: 279ms\tremaining: 1.46s\n",
      "160:\tlearn: 0.4978511\ttotal: 280ms\tremaining: 1.46s\n",
      "161:\tlearn: 0.4975463\ttotal: 282ms\tremaining: 1.46s\n",
      "162:\tlearn: 0.4971426\ttotal: 284ms\tremaining: 1.46s\n",
      "163:\tlearn: 0.4966071\ttotal: 285ms\tremaining: 1.45s\n",
      "164:\tlearn: 0.4958881\ttotal: 287ms\tremaining: 1.45s\n",
      "165:\tlearn: 0.4953544\ttotal: 288ms\tremaining: 1.45s\n",
      "166:\tlearn: 0.4948948\ttotal: 290ms\tremaining: 1.44s\n",
      "167:\tlearn: 0.4946150\ttotal: 291ms\tremaining: 1.44s\n",
      "168:\tlearn: 0.4937091\ttotal: 292ms\tremaining: 1.44s\n",
      "169:\tlearn: 0.4932861\ttotal: 294ms\tremaining: 1.44s\n",
      "170:\tlearn: 0.4927419\ttotal: 296ms\tremaining: 1.43s\n",
      "171:\tlearn: 0.4922518\ttotal: 297ms\tremaining: 1.43s\n",
      "172:\tlearn: 0.4919098\ttotal: 299ms\tremaining: 1.43s\n",
      "173:\tlearn: 0.4913212\ttotal: 300ms\tremaining: 1.42s\n",
      "174:\tlearn: 0.4906604\ttotal: 302ms\tremaining: 1.42s\n",
      "175:\tlearn: 0.4902291\ttotal: 303ms\tremaining: 1.42s\n",
      "176:\tlearn: 0.4899648\ttotal: 305ms\tremaining: 1.42s\n",
      "177:\tlearn: 0.4896128\ttotal: 306ms\tremaining: 1.41s\n",
      "178:\tlearn: 0.4890577\ttotal: 308ms\tremaining: 1.41s\n",
      "179:\tlearn: 0.4888382\ttotal: 309ms\tremaining: 1.41s\n",
      "180:\tlearn: 0.4881012\ttotal: 311ms\tremaining: 1.41s\n",
      "181:\tlearn: 0.4877454\ttotal: 312ms\tremaining: 1.4s\n",
      "182:\tlearn: 0.4875234\ttotal: 314ms\tremaining: 1.4s\n",
      "183:\tlearn: 0.4869667\ttotal: 315ms\tremaining: 1.4s\n",
      "184:\tlearn: 0.4862401\ttotal: 317ms\tremaining: 1.4s\n",
      "185:\tlearn: 0.4857108\ttotal: 319ms\tremaining: 1.4s\n",
      "186:\tlearn: 0.4853260\ttotal: 321ms\tremaining: 1.4s\n",
      "187:\tlearn: 0.4849608\ttotal: 322ms\tremaining: 1.39s\n",
      "188:\tlearn: 0.4841992\ttotal: 324ms\tremaining: 1.39s\n",
      "189:\tlearn: 0.4838080\ttotal: 326ms\tremaining: 1.39s\n",
      "190:\tlearn: 0.4834987\ttotal: 328ms\tremaining: 1.39s\n",
      "191:\tlearn: 0.4831071\ttotal: 329ms\tremaining: 1.39s\n",
      "192:\tlearn: 0.4826584\ttotal: 331ms\tremaining: 1.39s\n",
      "193:\tlearn: 0.4820907\ttotal: 333ms\tremaining: 1.38s\n",
      "194:\tlearn: 0.4818652\ttotal: 334ms\tremaining: 1.38s\n",
      "195:\tlearn: 0.4813812\ttotal: 336ms\tremaining: 1.38s\n",
      "196:\tlearn: 0.4811103\ttotal: 338ms\tremaining: 1.38s\n",
      "197:\tlearn: 0.4807884\ttotal: 339ms\tremaining: 1.37s\n",
      "198:\tlearn: 0.4803962\ttotal: 341ms\tremaining: 1.37s\n",
      "199:\tlearn: 0.4800680\ttotal: 343ms\tremaining: 1.37s\n",
      "200:\tlearn: 0.4795216\ttotal: 344ms\tremaining: 1.37s\n",
      "201:\tlearn: 0.4790012\ttotal: 346ms\tremaining: 1.37s\n",
      "202:\tlearn: 0.4789161\ttotal: 348ms\tremaining: 1.37s\n",
      "203:\tlearn: 0.4784986\ttotal: 350ms\tremaining: 1.36s\n",
      "204:\tlearn: 0.4777945\ttotal: 352ms\tremaining: 1.36s\n",
      "205:\tlearn: 0.4776828\ttotal: 354ms\tremaining: 1.36s\n",
      "206:\tlearn: 0.4772448\ttotal: 356ms\tremaining: 1.36s\n",
      "207:\tlearn: 0.4768740\ttotal: 358ms\tremaining: 1.36s\n",
      "208:\tlearn: 0.4766300\ttotal: 360ms\tremaining: 1.36s\n",
      "209:\tlearn: 0.4762344\ttotal: 361ms\tremaining: 1.36s\n",
      "210:\tlearn: 0.4757231\ttotal: 363ms\tremaining: 1.36s\n",
      "211:\tlearn: 0.4751007\ttotal: 365ms\tremaining: 1.35s\n",
      "212:\tlearn: 0.4746162\ttotal: 366ms\tremaining: 1.35s\n",
      "213:\tlearn: 0.4742767\ttotal: 368ms\tremaining: 1.35s\n",
      "214:\tlearn: 0.4739741\ttotal: 370ms\tremaining: 1.35s\n",
      "215:\tlearn: 0.4736032\ttotal: 371ms\tremaining: 1.35s\n",
      "216:\tlearn: 0.4733887\ttotal: 373ms\tremaining: 1.34s\n",
      "217:\tlearn: 0.4732428\ttotal: 374ms\tremaining: 1.34s\n",
      "218:\tlearn: 0.4729712\ttotal: 376ms\tremaining: 1.34s\n",
      "219:\tlearn: 0.4724484\ttotal: 378ms\tremaining: 1.34s\n",
      "220:\tlearn: 0.4720417\ttotal: 380ms\tremaining: 1.34s\n",
      "221:\tlearn: 0.4717627\ttotal: 382ms\tremaining: 1.34s\n",
      "222:\tlearn: 0.4711278\ttotal: 385ms\tremaining: 1.34s\n",
      "223:\tlearn: 0.4705495\ttotal: 387ms\tremaining: 1.34s\n",
      "224:\tlearn: 0.4702378\ttotal: 389ms\tremaining: 1.34s\n",
      "225:\tlearn: 0.4699247\ttotal: 390ms\tremaining: 1.34s\n",
      "226:\tlearn: 0.4694280\ttotal: 392ms\tremaining: 1.33s\n",
      "227:\tlearn: 0.4690802\ttotal: 393ms\tremaining: 1.33s\n",
      "228:\tlearn: 0.4687736\ttotal: 394ms\tremaining: 1.33s\n",
      "229:\tlearn: 0.4684660\ttotal: 396ms\tremaining: 1.32s\n",
      "230:\tlearn: 0.4679673\ttotal: 398ms\tremaining: 1.32s\n",
      "231:\tlearn: 0.4672022\ttotal: 399ms\tremaining: 1.32s\n",
      "232:\tlearn: 0.4670655\ttotal: 401ms\tremaining: 1.32s\n",
      "233:\tlearn: 0.4668008\ttotal: 402ms\tremaining: 1.32s\n",
      "234:\tlearn: 0.4662815\ttotal: 404ms\tremaining: 1.31s\n",
      "235:\tlearn: 0.4655059\ttotal: 405ms\tremaining: 1.31s\n",
      "236:\tlearn: 0.4650182\ttotal: 407ms\tremaining: 1.31s\n",
      "237:\tlearn: 0.4646381\ttotal: 409ms\tremaining: 1.31s\n",
      "238:\tlearn: 0.4644308\ttotal: 410ms\tremaining: 1.3s\n",
      "239:\tlearn: 0.4642583\ttotal: 412ms\tremaining: 1.3s\n",
      "240:\tlearn: 0.4637575\ttotal: 414ms\tremaining: 1.3s\n",
      "241:\tlearn: 0.4635611\ttotal: 415ms\tremaining: 1.3s\n",
      "242:\tlearn: 0.4630022\ttotal: 417ms\tremaining: 1.3s\n",
      "243:\tlearn: 0.4626300\ttotal: 419ms\tremaining: 1.3s\n",
      "244:\tlearn: 0.4623676\ttotal: 420ms\tremaining: 1.29s\n",
      "245:\tlearn: 0.4619477\ttotal: 422ms\tremaining: 1.29s\n",
      "246:\tlearn: 0.4618091\ttotal: 423ms\tremaining: 1.29s\n",
      "247:\tlearn: 0.4615953\ttotal: 425ms\tremaining: 1.29s\n",
      "248:\tlearn: 0.4611913\ttotal: 426ms\tremaining: 1.28s\n",
      "249:\tlearn: 0.4607404\ttotal: 428ms\tremaining: 1.28s\n",
      "250:\tlearn: 0.4604535\ttotal: 429ms\tremaining: 1.28s\n",
      "251:\tlearn: 0.4602902\ttotal: 431ms\tremaining: 1.28s\n",
      "252:\tlearn: 0.4596043\ttotal: 432ms\tremaining: 1.27s\n",
      "253:\tlearn: 0.4591300\ttotal: 434ms\tremaining: 1.27s\n",
      "254:\tlearn: 0.4586213\ttotal: 435ms\tremaining: 1.27s\n",
      "255:\tlearn: 0.4582520\ttotal: 437ms\tremaining: 1.27s\n",
      "256:\tlearn: 0.4580220\ttotal: 438ms\tremaining: 1.27s\n",
      "257:\tlearn: 0.4577089\ttotal: 440ms\tremaining: 1.26s\n",
      "258:\tlearn: 0.4575072\ttotal: 442ms\tremaining: 1.26s\n",
      "259:\tlearn: 0.4571387\ttotal: 444ms\tremaining: 1.26s\n",
      "260:\tlearn: 0.4569795\ttotal: 445ms\tremaining: 1.26s\n",
      "261:\tlearn: 0.4567687\ttotal: 447ms\tremaining: 1.26s\n",
      "262:\tlearn: 0.4563349\ttotal: 448ms\tremaining: 1.26s\n",
      "263:\tlearn: 0.4557232\ttotal: 450ms\tremaining: 1.25s\n",
      "264:\tlearn: 0.4547868\ttotal: 452ms\tremaining: 1.25s\n",
      "265:\tlearn: 0.4539744\ttotal: 453ms\tremaining: 1.25s\n",
      "266:\tlearn: 0.4537526\ttotal: 455ms\tremaining: 1.25s\n",
      "267:\tlearn: 0.4534285\ttotal: 456ms\tremaining: 1.25s\n",
      "268:\tlearn: 0.4530582\ttotal: 458ms\tremaining: 1.24s\n",
      "269:\tlearn: 0.4527829\ttotal: 459ms\tremaining: 1.24s\n",
      "270:\tlearn: 0.4525662\ttotal: 461ms\tremaining: 1.24s\n",
      "271:\tlearn: 0.4518142\ttotal: 462ms\tremaining: 1.24s\n",
      "272:\tlearn: 0.4517419\ttotal: 464ms\tremaining: 1.24s\n",
      "273:\tlearn: 0.4507118\ttotal: 465ms\tremaining: 1.23s\n",
      "274:\tlearn: 0.4505283\ttotal: 467ms\tremaining: 1.23s\n",
      "275:\tlearn: 0.4493166\ttotal: 468ms\tremaining: 1.23s\n",
      "276:\tlearn: 0.4491583\ttotal: 469ms\tremaining: 1.23s\n",
      "277:\tlearn: 0.4483743\ttotal: 471ms\tremaining: 1.22s\n",
      "278:\tlearn: 0.4482788\ttotal: 473ms\tremaining: 1.22s\n",
      "279:\tlearn: 0.4477973\ttotal: 474ms\tremaining: 1.22s\n",
      "280:\tlearn: 0.4474424\ttotal: 476ms\tremaining: 1.22s\n",
      "281:\tlearn: 0.4471284\ttotal: 477ms\tremaining: 1.22s\n",
      "282:\tlearn: 0.4466242\ttotal: 479ms\tremaining: 1.21s\n",
      "283:\tlearn: 0.4465216\ttotal: 481ms\tremaining: 1.21s\n",
      "284:\tlearn: 0.4463444\ttotal: 482ms\tremaining: 1.21s\n",
      "285:\tlearn: 0.4462090\ttotal: 483ms\tremaining: 1.21s\n",
      "286:\tlearn: 0.4460859\ttotal: 485ms\tremaining: 1.2s\n",
      "287:\tlearn: 0.4459514\ttotal: 486ms\tremaining: 1.2s\n",
      "288:\tlearn: 0.4456757\ttotal: 487ms\tremaining: 1.2s\n",
      "289:\tlearn: 0.4453572\ttotal: 489ms\tremaining: 1.2s\n",
      "290:\tlearn: 0.4443314\ttotal: 490ms\tremaining: 1.19s\n",
      "291:\tlearn: 0.4435258\ttotal: 492ms\tremaining: 1.19s\n",
      "292:\tlearn: 0.4432790\ttotal: 493ms\tremaining: 1.19s\n",
      "293:\tlearn: 0.4431560\ttotal: 495ms\tremaining: 1.19s\n",
      "294:\tlearn: 0.4430398\ttotal: 497ms\tremaining: 1.19s\n",
      "295:\tlearn: 0.4425015\ttotal: 499ms\tremaining: 1.19s\n",
      "296:\tlearn: 0.4420450\ttotal: 501ms\tremaining: 1.19s\n",
      "297:\tlearn: 0.4413093\ttotal: 503ms\tremaining: 1.18s\n",
      "298:\tlearn: 0.4410273\ttotal: 504ms\tremaining: 1.18s\n",
      "299:\tlearn: 0.4404293\ttotal: 506ms\tremaining: 1.18s\n",
      "300:\tlearn: 0.4400164\ttotal: 508ms\tremaining: 1.18s\n",
      "301:\tlearn: 0.4395082\ttotal: 509ms\tremaining: 1.18s\n",
      "302:\tlearn: 0.4393893\ttotal: 510ms\tremaining: 1.17s\n",
      "303:\tlearn: 0.4386943\ttotal: 512ms\tremaining: 1.17s\n",
      "304:\tlearn: 0.4385796\ttotal: 514ms\tremaining: 1.17s\n",
      "305:\tlearn: 0.4382070\ttotal: 515ms\tremaining: 1.17s\n",
      "306:\tlearn: 0.4374408\ttotal: 517ms\tremaining: 1.17s\n",
      "307:\tlearn: 0.4370098\ttotal: 519ms\tremaining: 1.17s\n",
      "308:\tlearn: 0.4362518\ttotal: 520ms\tremaining: 1.16s\n",
      "309:\tlearn: 0.4361243\ttotal: 521ms\tremaining: 1.16s\n",
      "310:\tlearn: 0.4356811\ttotal: 523ms\tremaining: 1.16s\n",
      "311:\tlearn: 0.4348131\ttotal: 525ms\tremaining: 1.16s\n",
      "312:\tlearn: 0.4345740\ttotal: 526ms\tremaining: 1.16s\n",
      "313:\tlearn: 0.4341252\ttotal: 528ms\tremaining: 1.15s\n",
      "314:\tlearn: 0.4335705\ttotal: 530ms\tremaining: 1.15s\n",
      "315:\tlearn: 0.4334389\ttotal: 532ms\tremaining: 1.15s\n",
      "316:\tlearn: 0.4326887\ttotal: 534ms\tremaining: 1.15s\n",
      "317:\tlearn: 0.4319348\ttotal: 536ms\tremaining: 1.15s\n",
      "318:\tlearn: 0.4315001\ttotal: 537ms\tremaining: 1.15s\n",
      "319:\tlearn: 0.4311089\ttotal: 539ms\tremaining: 1.15s\n",
      "320:\tlearn: 0.4307782\ttotal: 541ms\tremaining: 1.14s\n",
      "321:\tlearn: 0.4304403\ttotal: 543ms\tremaining: 1.14s\n",
      "322:\tlearn: 0.4302036\ttotal: 545ms\tremaining: 1.14s\n",
      "323:\tlearn: 0.4296113\ttotal: 546ms\tremaining: 1.14s\n",
      "324:\tlearn: 0.4293679\ttotal: 548ms\tremaining: 1.14s\n",
      "325:\tlearn: 0.4292065\ttotal: 549ms\tremaining: 1.14s\n",
      "326:\tlearn: 0.4284641\ttotal: 551ms\tremaining: 1.13s\n",
      "327:\tlearn: 0.4274086\ttotal: 553ms\tremaining: 1.13s\n",
      "328:\tlearn: 0.4270352\ttotal: 555ms\tremaining: 1.13s\n",
      "329:\tlearn: 0.4263646\ttotal: 556ms\tremaining: 1.13s\n",
      "330:\tlearn: 0.4255993\ttotal: 558ms\tremaining: 1.13s\n",
      "331:\tlearn: 0.4254976\ttotal: 560ms\tremaining: 1.13s\n",
      "332:\tlearn: 0.4248918\ttotal: 562ms\tremaining: 1.13s\n",
      "333:\tlearn: 0.4245337\ttotal: 564ms\tremaining: 1.12s\n",
      "334:\tlearn: 0.4240034\ttotal: 565ms\tremaining: 1.12s\n",
      "335:\tlearn: 0.4232629\ttotal: 567ms\tremaining: 1.12s\n",
      "336:\tlearn: 0.4227787\ttotal: 568ms\tremaining: 1.12s\n",
      "337:\tlearn: 0.4222507\ttotal: 570ms\tremaining: 1.12s\n",
      "338:\tlearn: 0.4217679\ttotal: 571ms\tremaining: 1.11s\n",
      "339:\tlearn: 0.4210594\ttotal: 573ms\tremaining: 1.11s\n",
      "340:\tlearn: 0.4206431\ttotal: 575ms\tremaining: 1.11s\n",
      "341:\tlearn: 0.4200390\ttotal: 576ms\tremaining: 1.11s\n",
      "342:\tlearn: 0.4197387\ttotal: 577ms\tremaining: 1.1s\n",
      "343:\tlearn: 0.4194076\ttotal: 579ms\tremaining: 1.1s\n",
      "344:\tlearn: 0.4192818\ttotal: 580ms\tremaining: 1.1s\n",
      "345:\tlearn: 0.4186041\ttotal: 582ms\tremaining: 1.1s\n",
      "346:\tlearn: 0.4180223\ttotal: 583ms\tremaining: 1.1s\n",
      "347:\tlearn: 0.4174403\ttotal: 585ms\tremaining: 1.09s\n",
      "348:\tlearn: 0.4168132\ttotal: 587ms\tremaining: 1.09s\n",
      "349:\tlearn: 0.4163982\ttotal: 588ms\tremaining: 1.09s\n",
      "350:\tlearn: 0.4158739\ttotal: 590ms\tremaining: 1.09s\n",
      "351:\tlearn: 0.4152078\ttotal: 591ms\tremaining: 1.09s\n",
      "352:\tlearn: 0.4146250\ttotal: 593ms\tremaining: 1.09s\n",
      "353:\tlearn: 0.4142304\ttotal: 595ms\tremaining: 1.08s\n",
      "354:\tlearn: 0.4139607\ttotal: 597ms\tremaining: 1.08s\n",
      "355:\tlearn: 0.4135398\ttotal: 598ms\tremaining: 1.08s\n",
      "356:\tlearn: 0.4129253\ttotal: 600ms\tremaining: 1.08s\n",
      "357:\tlearn: 0.4125859\ttotal: 602ms\tremaining: 1.08s\n",
      "358:\tlearn: 0.4120380\ttotal: 603ms\tremaining: 1.08s\n",
      "359:\tlearn: 0.4115673\ttotal: 605ms\tremaining: 1.07s\n",
      "360:\tlearn: 0.4112529\ttotal: 606ms\tremaining: 1.07s\n",
      "361:\tlearn: 0.4109960\ttotal: 607ms\tremaining: 1.07s\n",
      "362:\tlearn: 0.4108896\ttotal: 609ms\tremaining: 1.07s\n",
      "363:\tlearn: 0.4102871\ttotal: 610ms\tremaining: 1.06s\n",
      "364:\tlearn: 0.4094685\ttotal: 611ms\tremaining: 1.06s\n",
      "365:\tlearn: 0.4090085\ttotal: 613ms\tremaining: 1.06s\n",
      "366:\tlearn: 0.4085843\ttotal: 614ms\tremaining: 1.06s\n",
      "367:\tlearn: 0.4081664\ttotal: 615ms\tremaining: 1.06s\n",
      "368:\tlearn: 0.4074203\ttotal: 617ms\tremaining: 1.05s\n",
      "369:\tlearn: 0.4073279\ttotal: 619ms\tremaining: 1.05s\n",
      "370:\tlearn: 0.4071308\ttotal: 620ms\tremaining: 1.05s\n",
      "371:\tlearn: 0.4067064\ttotal: 621ms\tremaining: 1.05s\n",
      "372:\tlearn: 0.4066268\ttotal: 623ms\tremaining: 1.05s\n",
      "373:\tlearn: 0.4059086\ttotal: 624ms\tremaining: 1.04s\n",
      "374:\tlearn: 0.4053676\ttotal: 625ms\tremaining: 1.04s\n",
      "375:\tlearn: 0.4052778\ttotal: 627ms\tremaining: 1.04s\n",
      "376:\tlearn: 0.4046852\ttotal: 628ms\tremaining: 1.04s\n",
      "377:\tlearn: 0.4041706\ttotal: 629ms\tremaining: 1.03s\n",
      "378:\tlearn: 0.4035844\ttotal: 631ms\tremaining: 1.03s\n",
      "379:\tlearn: 0.4035034\ttotal: 632ms\tremaining: 1.03s\n",
      "380:\tlearn: 0.4033112\ttotal: 634ms\tremaining: 1.03s\n",
      "381:\tlearn: 0.4025055\ttotal: 635ms\tremaining: 1.03s\n",
      "382:\tlearn: 0.4022916\ttotal: 637ms\tremaining: 1.02s\n",
      "383:\tlearn: 0.4018587\ttotal: 638ms\tremaining: 1.02s\n",
      "384:\tlearn: 0.4016426\ttotal: 640ms\tremaining: 1.02s\n",
      "385:\tlearn: 0.4011180\ttotal: 641ms\tremaining: 1.02s\n",
      "386:\tlearn: 0.4007214\ttotal: 642ms\tremaining: 1.02s\n",
      "387:\tlearn: 0.4002929\ttotal: 644ms\tremaining: 1.01s\n",
      "388:\tlearn: 0.3999364\ttotal: 645ms\tremaining: 1.01s\n",
      "389:\tlearn: 0.3990708\ttotal: 647ms\tremaining: 1.01s\n",
      "390:\tlearn: 0.3983343\ttotal: 649ms\tremaining: 1.01s\n",
      "391:\tlearn: 0.3982271\ttotal: 650ms\tremaining: 1.01s\n",
      "392:\tlearn: 0.3978009\ttotal: 680ms\tremaining: 1.05s\n",
      "393:\tlearn: 0.3973548\ttotal: 682ms\tremaining: 1.05s\n",
      "394:\tlearn: 0.3971796\ttotal: 683ms\tremaining: 1.05s\n",
      "395:\tlearn: 0.3965375\ttotal: 685ms\tremaining: 1.04s\n",
      "396:\tlearn: 0.3960339\ttotal: 686ms\tremaining: 1.04s\n",
      "397:\tlearn: 0.3956675\ttotal: 687ms\tremaining: 1.04s\n",
      "398:\tlearn: 0.3955395\ttotal: 688ms\tremaining: 1.04s\n",
      "399:\tlearn: 0.3949747\ttotal: 689ms\tremaining: 1.03s\n",
      "400:\tlearn: 0.3945030\ttotal: 691ms\tremaining: 1.03s\n",
      "401:\tlearn: 0.3938230\ttotal: 692ms\tremaining: 1.03s\n",
      "402:\tlearn: 0.3932063\ttotal: 693ms\tremaining: 1.03s\n",
      "403:\tlearn: 0.3925774\ttotal: 695ms\tremaining: 1.02s\n",
      "404:\tlearn: 0.3923213\ttotal: 696ms\tremaining: 1.02s\n",
      "405:\tlearn: 0.3920367\ttotal: 697ms\tremaining: 1.02s\n",
      "406:\tlearn: 0.3915118\ttotal: 698ms\tremaining: 1.02s\n",
      "407:\tlearn: 0.3911610\ttotal: 699ms\tremaining: 1.01s\n",
      "408:\tlearn: 0.3905494\ttotal: 700ms\tremaining: 1.01s\n",
      "409:\tlearn: 0.3899354\ttotal: 701ms\tremaining: 1.01s\n",
      "410:\tlearn: 0.3896078\ttotal: 702ms\tremaining: 1.01s\n",
      "411:\tlearn: 0.3889304\ttotal: 704ms\tremaining: 1s\n",
      "412:\tlearn: 0.3886422\ttotal: 705ms\tremaining: 1s\n",
      "413:\tlearn: 0.3880359\ttotal: 706ms\tremaining: 999ms\n",
      "414:\tlearn: 0.3876111\ttotal: 707ms\tremaining: 997ms\n",
      "415:\tlearn: 0.3871641\ttotal: 708ms\tremaining: 994ms\n",
      "416:\tlearn: 0.3869058\ttotal: 710ms\tremaining: 992ms\n",
      "417:\tlearn: 0.3863499\ttotal: 711ms\tremaining: 990ms\n",
      "418:\tlearn: 0.3859070\ttotal: 724ms\tremaining: 1s\n",
      "419:\tlearn: 0.3854827\ttotal: 725ms\tremaining: 1s\n",
      "420:\tlearn: 0.3846976\ttotal: 726ms\tremaining: 999ms\n",
      "421:\tlearn: 0.3841777\ttotal: 728ms\tremaining: 997ms\n",
      "422:\tlearn: 0.3839196\ttotal: 729ms\tremaining: 995ms\n",
      "423:\tlearn: 0.3837310\ttotal: 730ms\tremaining: 992ms\n",
      "424:\tlearn: 0.3834894\ttotal: 732ms\tremaining: 990ms\n",
      "425:\tlearn: 0.3834359\ttotal: 733ms\tremaining: 987ms\n",
      "426:\tlearn: 0.3828621\ttotal: 734ms\tremaining: 985ms\n",
      "427:\tlearn: 0.3825236\ttotal: 735ms\tremaining: 982ms\n",
      "428:\tlearn: 0.3821016\ttotal: 736ms\tremaining: 980ms\n",
      "429:\tlearn: 0.3816778\ttotal: 737ms\tremaining: 977ms\n",
      "430:\tlearn: 0.3816131\ttotal: 739ms\tremaining: 975ms\n",
      "431:\tlearn: 0.3811727\ttotal: 740ms\tremaining: 973ms\n",
      "432:\tlearn: 0.3803652\ttotal: 741ms\tremaining: 970ms\n",
      "433:\tlearn: 0.3801460\ttotal: 742ms\tremaining: 968ms\n",
      "434:\tlearn: 0.3798598\ttotal: 743ms\tremaining: 965ms\n",
      "435:\tlearn: 0.3794064\ttotal: 744ms\tremaining: 963ms\n",
      "436:\tlearn: 0.3790848\ttotal: 746ms\tremaining: 961ms\n",
      "437:\tlearn: 0.3786514\ttotal: 747ms\tremaining: 958ms\n",
      "438:\tlearn: 0.3785321\ttotal: 748ms\tremaining: 955ms\n",
      "439:\tlearn: 0.3781266\ttotal: 749ms\tremaining: 953ms\n",
      "440:\tlearn: 0.3780628\ttotal: 750ms\tremaining: 950ms\n",
      "441:\tlearn: 0.3775038\ttotal: 751ms\tremaining: 948ms\n",
      "442:\tlearn: 0.3772085\ttotal: 752ms\tremaining: 946ms\n",
      "443:\tlearn: 0.3770299\ttotal: 753ms\tremaining: 943ms\n",
      "444:\tlearn: 0.3765692\ttotal: 754ms\tremaining: 941ms\n",
      "445:\tlearn: 0.3762956\ttotal: 755ms\tremaining: 938ms\n",
      "446:\tlearn: 0.3762380\ttotal: 757ms\tremaining: 936ms\n",
      "447:\tlearn: 0.3758692\ttotal: 758ms\tremaining: 934ms\n",
      "448:\tlearn: 0.3755434\ttotal: 759ms\tremaining: 931ms\n",
      "449:\tlearn: 0.3747795\ttotal: 760ms\tremaining: 929ms\n",
      "450:\tlearn: 0.3743098\ttotal: 761ms\tremaining: 926ms\n",
      "451:\tlearn: 0.3735457\ttotal: 762ms\tremaining: 924ms\n",
      "452:\tlearn: 0.3730492\ttotal: 764ms\tremaining: 922ms\n",
      "453:\tlearn: 0.3729489\ttotal: 765ms\tremaining: 920ms\n",
      "454:\tlearn: 0.3727180\ttotal: 766ms\tremaining: 917ms\n",
      "455:\tlearn: 0.3722560\ttotal: 767ms\tremaining: 915ms\n",
      "456:\tlearn: 0.3722208\ttotal: 768ms\tremaining: 913ms\n",
      "457:\tlearn: 0.3718262\ttotal: 769ms\tremaining: 910ms\n",
      "458:\tlearn: 0.3714193\ttotal: 771ms\tremaining: 908ms\n",
      "459:\tlearn: 0.3706823\ttotal: 772ms\tremaining: 906ms\n",
      "460:\tlearn: 0.3701229\ttotal: 773ms\tremaining: 903ms\n",
      "461:\tlearn: 0.3698385\ttotal: 774ms\tremaining: 901ms\n",
      "462:\tlearn: 0.3694369\ttotal: 775ms\tremaining: 899ms\n",
      "463:\tlearn: 0.3693071\ttotal: 776ms\tremaining: 896ms\n",
      "464:\tlearn: 0.3690403\ttotal: 777ms\tremaining: 894ms\n",
      "465:\tlearn: 0.3686843\ttotal: 778ms\tremaining: 892ms\n",
      "466:\tlearn: 0.3681110\ttotal: 779ms\tremaining: 889ms\n",
      "467:\tlearn: 0.3677542\ttotal: 780ms\tremaining: 887ms\n",
      "468:\tlearn: 0.3674825\ttotal: 781ms\tremaining: 885ms\n",
      "469:\tlearn: 0.3673704\ttotal: 783ms\tremaining: 882ms\n",
      "470:\tlearn: 0.3669644\ttotal: 784ms\tremaining: 880ms\n",
      "471:\tlearn: 0.3668895\ttotal: 785ms\tremaining: 878ms\n",
      "472:\tlearn: 0.3664264\ttotal: 786ms\tremaining: 876ms\n",
      "473:\tlearn: 0.3661996\ttotal: 787ms\tremaining: 874ms\n",
      "474:\tlearn: 0.3655793\ttotal: 789ms\tremaining: 872ms\n",
      "475:\tlearn: 0.3651123\ttotal: 790ms\tremaining: 869ms\n",
      "476:\tlearn: 0.3647920\ttotal: 791ms\tremaining: 867ms\n",
      "477:\tlearn: 0.3643975\ttotal: 792ms\tremaining: 865ms\n",
      "478:\tlearn: 0.3637005\ttotal: 793ms\tremaining: 863ms\n",
      "479:\tlearn: 0.3635080\ttotal: 794ms\tremaining: 861ms\n",
      "480:\tlearn: 0.3633681\ttotal: 796ms\tremaining: 858ms\n",
      "481:\tlearn: 0.3632385\ttotal: 797ms\tremaining: 856ms\n",
      "482:\tlearn: 0.3630618\ttotal: 798ms\tremaining: 854ms\n",
      "483:\tlearn: 0.3627563\ttotal: 799ms\tremaining: 852ms\n",
      "484:\tlearn: 0.3623609\ttotal: 800ms\tremaining: 850ms\n",
      "485:\tlearn: 0.3620696\ttotal: 801ms\tremaining: 848ms\n",
      "486:\tlearn: 0.3617265\ttotal: 803ms\tremaining: 845ms\n",
      "487:\tlearn: 0.3612970\ttotal: 804ms\tremaining: 843ms\n",
      "488:\tlearn: 0.3609539\ttotal: 805ms\tremaining: 841ms\n",
      "489:\tlearn: 0.3605657\ttotal: 806ms\tremaining: 839ms\n",
      "490:\tlearn: 0.3600865\ttotal: 807ms\tremaining: 837ms\n",
      "491:\tlearn: 0.3596900\ttotal: 808ms\tremaining: 834ms\n",
      "492:\tlearn: 0.3594406\ttotal: 809ms\tremaining: 832ms\n",
      "493:\tlearn: 0.3591234\ttotal: 811ms\tremaining: 830ms\n",
      "494:\tlearn: 0.3587335\ttotal: 812ms\tremaining: 828ms\n",
      "495:\tlearn: 0.3581360\ttotal: 813ms\tremaining: 826ms\n",
      "496:\tlearn: 0.3576036\ttotal: 814ms\tremaining: 824ms\n",
      "497:\tlearn: 0.3571222\ttotal: 815ms\tremaining: 822ms\n",
      "498:\tlearn: 0.3566176\ttotal: 816ms\tremaining: 820ms\n",
      "499:\tlearn: 0.3563237\ttotal: 817ms\tremaining: 817ms\n",
      "500:\tlearn: 0.3557623\ttotal: 818ms\tremaining: 815ms\n",
      "501:\tlearn: 0.3554802\ttotal: 820ms\tremaining: 813ms\n",
      "502:\tlearn: 0.3551736\ttotal: 821ms\tremaining: 811ms\n",
      "503:\tlearn: 0.3546576\ttotal: 822ms\tremaining: 809ms\n",
      "504:\tlearn: 0.3542201\ttotal: 823ms\tremaining: 807ms\n",
      "505:\tlearn: 0.3537802\ttotal: 824ms\tremaining: 805ms\n",
      "506:\tlearn: 0.3536291\ttotal: 825ms\tremaining: 803ms\n",
      "507:\tlearn: 0.3533092\ttotal: 827ms\tremaining: 801ms\n",
      "508:\tlearn: 0.3529799\ttotal: 828ms\tremaining: 799ms\n",
      "509:\tlearn: 0.3526824\ttotal: 829ms\tremaining: 797ms\n",
      "510:\tlearn: 0.3523158\ttotal: 831ms\tremaining: 795ms\n",
      "511:\tlearn: 0.3519800\ttotal: 832ms\tremaining: 793ms\n",
      "512:\tlearn: 0.3516797\ttotal: 833ms\tremaining: 791ms\n",
      "513:\tlearn: 0.3514226\ttotal: 834ms\tremaining: 789ms\n",
      "514:\tlearn: 0.3511593\ttotal: 835ms\tremaining: 787ms\n",
      "515:\tlearn: 0.3509734\ttotal: 837ms\tremaining: 785ms\n",
      "516:\tlearn: 0.3507087\ttotal: 838ms\tremaining: 783ms\n",
      "517:\tlearn: 0.3502355\ttotal: 839ms\tremaining: 781ms\n",
      "518:\tlearn: 0.3501210\ttotal: 840ms\tremaining: 779ms\n",
      "519:\tlearn: 0.3498227\ttotal: 841ms\tremaining: 776ms\n",
      "520:\tlearn: 0.3494149\ttotal: 842ms\tremaining: 774ms\n",
      "521:\tlearn: 0.3489929\ttotal: 843ms\tremaining: 772ms\n",
      "522:\tlearn: 0.3487668\ttotal: 845ms\tremaining: 770ms\n",
      "523:\tlearn: 0.3486471\ttotal: 846ms\tremaining: 769ms\n",
      "524:\tlearn: 0.3483763\ttotal: 847ms\tremaining: 767ms\n",
      "525:\tlearn: 0.3479560\ttotal: 849ms\tremaining: 765ms\n",
      "526:\tlearn: 0.3477767\ttotal: 850ms\tremaining: 763ms\n",
      "527:\tlearn: 0.3476864\ttotal: 851ms\tremaining: 761ms\n",
      "528:\tlearn: 0.3474143\ttotal: 852ms\tremaining: 759ms\n",
      "529:\tlearn: 0.3473132\ttotal: 853ms\tremaining: 757ms\n",
      "530:\tlearn: 0.3466770\ttotal: 854ms\tremaining: 755ms\n",
      "531:\tlearn: 0.3465805\ttotal: 856ms\tremaining: 753ms\n",
      "532:\tlearn: 0.3463065\ttotal: 857ms\tremaining: 751ms\n",
      "533:\tlearn: 0.3462366\ttotal: 858ms\tremaining: 749ms\n",
      "534:\tlearn: 0.3461914\ttotal: 859ms\tremaining: 747ms\n",
      "535:\tlearn: 0.3457222\ttotal: 861ms\tremaining: 745ms\n",
      "536:\tlearn: 0.3455334\ttotal: 862ms\tremaining: 743ms\n",
      "537:\tlearn: 0.3454422\ttotal: 863ms\tremaining: 741ms\n",
      "538:\tlearn: 0.3451964\ttotal: 864ms\tremaining: 739ms\n",
      "539:\tlearn: 0.3448028\ttotal: 865ms\tremaining: 737ms\n",
      "540:\tlearn: 0.3443681\ttotal: 867ms\tremaining: 735ms\n",
      "541:\tlearn: 0.3443449\ttotal: 868ms\tremaining: 733ms\n",
      "542:\tlearn: 0.3436582\ttotal: 869ms\tremaining: 731ms\n",
      "543:\tlearn: 0.3431805\ttotal: 870ms\tremaining: 729ms\n",
      "544:\tlearn: 0.3428494\ttotal: 871ms\tremaining: 728ms\n",
      "545:\tlearn: 0.3426635\ttotal: 873ms\tremaining: 726ms\n",
      "546:\tlearn: 0.3424816\ttotal: 874ms\tremaining: 724ms\n",
      "547:\tlearn: 0.3419220\ttotal: 875ms\tremaining: 722ms\n",
      "548:\tlearn: 0.3417101\ttotal: 877ms\tremaining: 720ms\n",
      "549:\tlearn: 0.3416543\ttotal: 878ms\tremaining: 718ms\n",
      "550:\tlearn: 0.3411241\ttotal: 879ms\tremaining: 716ms\n",
      "551:\tlearn: 0.3407616\ttotal: 880ms\tremaining: 714ms\n",
      "552:\tlearn: 0.3406838\ttotal: 882ms\tremaining: 713ms\n",
      "553:\tlearn: 0.3403703\ttotal: 883ms\tremaining: 711ms\n",
      "554:\tlearn: 0.3402379\ttotal: 884ms\tremaining: 709ms\n",
      "555:\tlearn: 0.3395757\ttotal: 885ms\tremaining: 707ms\n",
      "556:\tlearn: 0.3395170\ttotal: 886ms\tremaining: 705ms\n",
      "557:\tlearn: 0.3392434\ttotal: 888ms\tremaining: 703ms\n",
      "558:\tlearn: 0.3387791\ttotal: 889ms\tremaining: 701ms\n",
      "559:\tlearn: 0.3382281\ttotal: 891ms\tremaining: 700ms\n",
      "560:\tlearn: 0.3379215\ttotal: 892ms\tremaining: 698ms\n",
      "561:\tlearn: 0.3375380\ttotal: 893ms\tremaining: 696ms\n",
      "562:\tlearn: 0.3374361\ttotal: 895ms\tremaining: 694ms\n",
      "563:\tlearn: 0.3373794\ttotal: 896ms\tremaining: 692ms\n",
      "564:\tlearn: 0.3369691\ttotal: 897ms\tremaining: 691ms\n",
      "565:\tlearn: 0.3366578\ttotal: 899ms\tremaining: 689ms\n",
      "566:\tlearn: 0.3365371\ttotal: 900ms\tremaining: 687ms\n",
      "567:\tlearn: 0.3362457\ttotal: 901ms\tremaining: 685ms\n",
      "568:\tlearn: 0.3358320\ttotal: 902ms\tremaining: 683ms\n",
      "569:\tlearn: 0.3353611\ttotal: 903ms\tremaining: 681ms\n",
      "570:\tlearn: 0.3349957\ttotal: 904ms\tremaining: 680ms\n",
      "571:\tlearn: 0.3346620\ttotal: 906ms\tremaining: 678ms\n",
      "572:\tlearn: 0.3343281\ttotal: 908ms\tremaining: 676ms\n",
      "573:\tlearn: 0.3340756\ttotal: 909ms\tremaining: 675ms\n",
      "574:\tlearn: 0.3336265\ttotal: 910ms\tremaining: 673ms\n",
      "575:\tlearn: 0.3336057\ttotal: 911ms\tremaining: 671ms\n",
      "576:\tlearn: 0.3331416\ttotal: 913ms\tremaining: 669ms\n",
      "577:\tlearn: 0.3328734\ttotal: 914ms\tremaining: 667ms\n",
      "578:\tlearn: 0.3326140\ttotal: 915ms\tremaining: 665ms\n",
      "579:\tlearn: 0.3323992\ttotal: 916ms\tremaining: 663ms\n",
      "580:\tlearn: 0.3320433\ttotal: 917ms\tremaining: 662ms\n",
      "581:\tlearn: 0.3317277\ttotal: 919ms\tremaining: 660ms\n",
      "582:\tlearn: 0.3316476\ttotal: 920ms\tremaining: 658ms\n",
      "583:\tlearn: 0.3310279\ttotal: 921ms\tremaining: 656ms\n",
      "584:\tlearn: 0.3307080\ttotal: 923ms\tremaining: 655ms\n",
      "585:\tlearn: 0.3306641\ttotal: 924ms\tremaining: 653ms\n",
      "586:\tlearn: 0.3305886\ttotal: 925ms\tremaining: 651ms\n",
      "587:\tlearn: 0.3303995\ttotal: 926ms\tremaining: 649ms\n",
      "588:\tlearn: 0.3301597\ttotal: 927ms\tremaining: 647ms\n",
      "589:\tlearn: 0.3297739\ttotal: 928ms\tremaining: 645ms\n",
      "590:\tlearn: 0.3292275\ttotal: 930ms\tremaining: 643ms\n",
      "591:\tlearn: 0.3289009\ttotal: 931ms\tremaining: 642ms\n",
      "592:\tlearn: 0.3284634\ttotal: 932ms\tremaining: 640ms\n",
      "593:\tlearn: 0.3281922\ttotal: 933ms\tremaining: 638ms\n",
      "594:\tlearn: 0.3280996\ttotal: 935ms\tremaining: 636ms\n",
      "595:\tlearn: 0.3277375\ttotal: 936ms\tremaining: 635ms\n",
      "596:\tlearn: 0.3276232\ttotal: 937ms\tremaining: 633ms\n",
      "597:\tlearn: 0.3270966\ttotal: 939ms\tremaining: 631ms\n",
      "598:\tlearn: 0.3269237\ttotal: 940ms\tremaining: 629ms\n",
      "599:\tlearn: 0.3266635\ttotal: 941ms\tremaining: 627ms\n",
      "600:\tlearn: 0.3261692\ttotal: 942ms\tremaining: 625ms\n",
      "601:\tlearn: 0.3256742\ttotal: 943ms\tremaining: 623ms\n",
      "602:\tlearn: 0.3252495\ttotal: 944ms\tremaining: 622ms\n",
      "603:\tlearn: 0.3248134\ttotal: 945ms\tremaining: 620ms\n",
      "604:\tlearn: 0.3245172\ttotal: 947ms\tremaining: 618ms\n",
      "605:\tlearn: 0.3244193\ttotal: 948ms\tremaining: 617ms\n",
      "606:\tlearn: 0.3243713\ttotal: 949ms\tremaining: 615ms\n",
      "607:\tlearn: 0.3239208\ttotal: 951ms\tremaining: 613ms\n",
      "608:\tlearn: 0.3234184\ttotal: 952ms\tremaining: 611ms\n",
      "609:\tlearn: 0.3231014\ttotal: 953ms\tremaining: 609ms\n",
      "610:\tlearn: 0.3229522\ttotal: 954ms\tremaining: 607ms\n",
      "611:\tlearn: 0.3226665\ttotal: 955ms\tremaining: 606ms\n",
      "612:\tlearn: 0.3222077\ttotal: 956ms\tremaining: 604ms\n",
      "613:\tlearn: 0.3217077\ttotal: 958ms\tremaining: 602ms\n",
      "614:\tlearn: 0.3213302\ttotal: 959ms\tremaining: 600ms\n",
      "615:\tlearn: 0.3212370\ttotal: 960ms\tremaining: 598ms\n",
      "616:\tlearn: 0.3208332\ttotal: 961ms\tremaining: 596ms\n",
      "617:\tlearn: 0.3205090\ttotal: 962ms\tremaining: 595ms\n",
      "618:\tlearn: 0.3202795\ttotal: 963ms\tremaining: 593ms\n",
      "619:\tlearn: 0.3197605\ttotal: 964ms\tremaining: 591ms\n",
      "620:\tlearn: 0.3194839\ttotal: 966ms\tremaining: 589ms\n",
      "621:\tlearn: 0.3192216\ttotal: 967ms\tremaining: 588ms\n",
      "622:\tlearn: 0.3188362\ttotal: 968ms\tremaining: 586ms\n",
      "623:\tlearn: 0.3185064\ttotal: 969ms\tremaining: 584ms\n",
      "624:\tlearn: 0.3181714\ttotal: 970ms\tremaining: 582ms\n",
      "625:\tlearn: 0.3178520\ttotal: 971ms\tremaining: 580ms\n",
      "626:\tlearn: 0.3177141\ttotal: 973ms\tremaining: 579ms\n",
      "627:\tlearn: 0.3175036\ttotal: 974ms\tremaining: 577ms\n",
      "628:\tlearn: 0.3172999\ttotal: 975ms\tremaining: 575ms\n",
      "629:\tlearn: 0.3172417\ttotal: 976ms\tremaining: 573ms\n",
      "630:\tlearn: 0.3169122\ttotal: 977ms\tremaining: 571ms\n",
      "631:\tlearn: 0.3168303\ttotal: 978ms\tremaining: 570ms\n",
      "632:\tlearn: 0.3167832\ttotal: 980ms\tremaining: 568ms\n",
      "633:\tlearn: 0.3164618\ttotal: 981ms\tremaining: 566ms\n",
      "634:\tlearn: 0.3160193\ttotal: 982ms\tremaining: 564ms\n",
      "635:\tlearn: 0.3159986\ttotal: 983ms\tremaining: 563ms\n",
      "636:\tlearn: 0.3156884\ttotal: 984ms\tremaining: 561ms\n",
      "637:\tlearn: 0.3152646\ttotal: 986ms\tremaining: 559ms\n",
      "638:\tlearn: 0.3151292\ttotal: 987ms\tremaining: 557ms\n",
      "639:\tlearn: 0.3151088\ttotal: 988ms\tremaining: 556ms\n",
      "640:\tlearn: 0.3147386\ttotal: 989ms\tremaining: 554ms\n",
      "641:\tlearn: 0.3143114\ttotal: 990ms\tremaining: 552ms\n",
      "642:\tlearn: 0.3142907\ttotal: 991ms\tremaining: 550ms\n",
      "643:\tlearn: 0.3142729\ttotal: 993ms\tremaining: 549ms\n",
      "644:\tlearn: 0.3142598\ttotal: 994ms\tremaining: 547ms\n",
      "645:\tlearn: 0.3139813\ttotal: 996ms\tremaining: 546ms\n",
      "646:\tlearn: 0.3136661\ttotal: 997ms\tremaining: 544ms\n",
      "647:\tlearn: 0.3136532\ttotal: 998ms\tremaining: 542ms\n",
      "648:\tlearn: 0.3134820\ttotal: 999ms\tremaining: 540ms\n",
      "649:\tlearn: 0.3130869\ttotal: 1s\tremaining: 539ms\n",
      "650:\tlearn: 0.3127262\ttotal: 1s\tremaining: 537ms\n",
      "651:\tlearn: 0.3124447\ttotal: 1s\tremaining: 535ms\n",
      "652:\tlearn: 0.3121885\ttotal: 1s\tremaining: 533ms\n",
      "653:\tlearn: 0.3117156\ttotal: 1s\tremaining: 532ms\n",
      "654:\tlearn: 0.3112924\ttotal: 1s\tremaining: 530ms\n",
      "655:\tlearn: 0.3111614\ttotal: 1.01s\tremaining: 528ms\n",
      "656:\tlearn: 0.3107648\ttotal: 1.01s\tremaining: 526ms\n",
      "657:\tlearn: 0.3104610\ttotal: 1.01s\tremaining: 525ms\n",
      "658:\tlearn: 0.3102112\ttotal: 1.01s\tremaining: 523ms\n",
      "659:\tlearn: 0.3101656\ttotal: 1.01s\tremaining: 521ms\n",
      "660:\tlearn: 0.3097207\ttotal: 1.01s\tremaining: 520ms\n",
      "661:\tlearn: 0.3094940\ttotal: 1.01s\tremaining: 518ms\n",
      "662:\tlearn: 0.3093829\ttotal: 1.02s\tremaining: 517ms\n",
      "663:\tlearn: 0.3090654\ttotal: 1.02s\tremaining: 515ms\n",
      "664:\tlearn: 0.3087792\ttotal: 1.02s\tremaining: 513ms\n",
      "665:\tlearn: 0.3084782\ttotal: 1.02s\tremaining: 512ms\n",
      "666:\tlearn: 0.3083554\ttotal: 1.02s\tremaining: 510ms\n",
      "667:\tlearn: 0.3080353\ttotal: 1.02s\tremaining: 508ms\n",
      "668:\tlearn: 0.3078477\ttotal: 1.02s\tremaining: 507ms\n",
      "669:\tlearn: 0.3075445\ttotal: 1.02s\tremaining: 505ms\n",
      "670:\tlearn: 0.3072265\ttotal: 1.03s\tremaining: 503ms\n",
      "671:\tlearn: 0.3068648\ttotal: 1.03s\tremaining: 502ms\n",
      "672:\tlearn: 0.3065500\ttotal: 1.03s\tremaining: 500ms\n",
      "673:\tlearn: 0.3060429\ttotal: 1.03s\tremaining: 498ms\n",
      "674:\tlearn: 0.3058203\ttotal: 1.03s\tremaining: 497ms\n",
      "675:\tlearn: 0.3057204\ttotal: 1.03s\tremaining: 495ms\n",
      "676:\tlearn: 0.3053130\ttotal: 1.03s\tremaining: 493ms\n",
      "677:\tlearn: 0.3050717\ttotal: 1.03s\tremaining: 492ms\n",
      "678:\tlearn: 0.3049263\ttotal: 1.04s\tremaining: 490ms\n",
      "679:\tlearn: 0.3048898\ttotal: 1.04s\tremaining: 488ms\n",
      "680:\tlearn: 0.3046106\ttotal: 1.04s\tremaining: 487ms\n",
      "681:\tlearn: 0.3045313\ttotal: 1.04s\tremaining: 485ms\n",
      "682:\tlearn: 0.3042079\ttotal: 1.04s\tremaining: 484ms\n",
      "683:\tlearn: 0.3038608\ttotal: 1.04s\tremaining: 482ms\n",
      "684:\tlearn: 0.3034313\ttotal: 1.04s\tremaining: 480ms\n",
      "685:\tlearn: 0.3031082\ttotal: 1.04s\tremaining: 478ms\n",
      "686:\tlearn: 0.3030262\ttotal: 1.05s\tremaining: 477ms\n",
      "687:\tlearn: 0.3026767\ttotal: 1.05s\tremaining: 475ms\n",
      "688:\tlearn: 0.3023931\ttotal: 1.05s\tremaining: 473ms\n",
      "689:\tlearn: 0.3022973\ttotal: 1.05s\tremaining: 472ms\n",
      "690:\tlearn: 0.3021523\ttotal: 1.05s\tremaining: 470ms\n",
      "691:\tlearn: 0.3020459\ttotal: 1.05s\tremaining: 468ms\n",
      "692:\tlearn: 0.3019544\ttotal: 1.05s\tremaining: 467ms\n",
      "693:\tlearn: 0.3016100\ttotal: 1.05s\tremaining: 465ms\n",
      "694:\tlearn: 0.3013332\ttotal: 1.06s\tremaining: 463ms\n",
      "695:\tlearn: 0.3012072\ttotal: 1.06s\tremaining: 462ms\n",
      "696:\tlearn: 0.3009127\ttotal: 1.06s\tremaining: 460ms\n",
      "697:\tlearn: 0.3008085\ttotal: 1.06s\tremaining: 459ms\n",
      "698:\tlearn: 0.3005216\ttotal: 1.06s\tremaining: 457ms\n",
      "699:\tlearn: 0.3004278\ttotal: 1.06s\tremaining: 455ms\n",
      "700:\tlearn: 0.2998850\ttotal: 1.06s\tremaining: 454ms\n",
      "701:\tlearn: 0.2997930\ttotal: 1.06s\tremaining: 452ms\n",
      "702:\tlearn: 0.2996807\ttotal: 1.07s\tremaining: 450ms\n",
      "703:\tlearn: 0.2995100\ttotal: 1.07s\tremaining: 449ms\n",
      "704:\tlearn: 0.2993924\ttotal: 1.07s\tremaining: 447ms\n",
      "705:\tlearn: 0.2991130\ttotal: 1.07s\tremaining: 446ms\n",
      "706:\tlearn: 0.2988123\ttotal: 1.07s\tremaining: 444ms\n",
      "707:\tlearn: 0.2985813\ttotal: 1.07s\tremaining: 443ms\n",
      "708:\tlearn: 0.2983111\ttotal: 1.07s\tremaining: 441ms\n",
      "709:\tlearn: 0.2978563\ttotal: 1.08s\tremaining: 440ms\n",
      "710:\tlearn: 0.2975440\ttotal: 1.08s\tremaining: 438ms\n",
      "711:\tlearn: 0.2974690\ttotal: 1.08s\tremaining: 436ms\n",
      "712:\tlearn: 0.2974078\ttotal: 1.08s\tremaining: 435ms\n",
      "713:\tlearn: 0.2971174\ttotal: 1.08s\tremaining: 433ms\n",
      "714:\tlearn: 0.2970640\ttotal: 1.08s\tremaining: 431ms\n",
      "715:\tlearn: 0.2967963\ttotal: 1.08s\tremaining: 430ms\n",
      "716:\tlearn: 0.2964389\ttotal: 1.08s\tremaining: 428ms\n",
      "717:\tlearn: 0.2962961\ttotal: 1.08s\tremaining: 426ms\n",
      "718:\tlearn: 0.2961671\ttotal: 1.09s\tremaining: 425ms\n",
      "719:\tlearn: 0.2961042\ttotal: 1.09s\tremaining: 423ms\n",
      "720:\tlearn: 0.2959052\ttotal: 1.09s\tremaining: 422ms\n",
      "721:\tlearn: 0.2957298\ttotal: 1.09s\tremaining: 420ms\n",
      "722:\tlearn: 0.2955194\ttotal: 1.09s\tremaining: 418ms\n",
      "723:\tlearn: 0.2954483\ttotal: 1.09s\tremaining: 417ms\n",
      "724:\tlearn: 0.2952603\ttotal: 1.09s\tremaining: 415ms\n",
      "725:\tlearn: 0.2949288\ttotal: 1.09s\tremaining: 413ms\n",
      "726:\tlearn: 0.2945479\ttotal: 1.1s\tremaining: 412ms\n",
      "727:\tlearn: 0.2944863\ttotal: 1.1s\tremaining: 410ms\n",
      "728:\tlearn: 0.2944515\ttotal: 1.1s\tremaining: 409ms\n",
      "729:\tlearn: 0.2938865\ttotal: 1.1s\tremaining: 407ms\n",
      "730:\tlearn: 0.2933991\ttotal: 1.1s\tremaining: 405ms\n",
      "731:\tlearn: 0.2931101\ttotal: 1.1s\tremaining: 404ms\n",
      "732:\tlearn: 0.2927816\ttotal: 1.1s\tremaining: 402ms\n",
      "733:\tlearn: 0.2927279\ttotal: 1.1s\tremaining: 400ms\n",
      "734:\tlearn: 0.2926889\ttotal: 1.11s\tremaining: 399ms\n",
      "735:\tlearn: 0.2924111\ttotal: 1.11s\tremaining: 397ms\n",
      "736:\tlearn: 0.2919853\ttotal: 1.11s\tremaining: 396ms\n",
      "737:\tlearn: 0.2917842\ttotal: 1.11s\tremaining: 394ms\n",
      "738:\tlearn: 0.2917515\ttotal: 1.11s\tremaining: 392ms\n",
      "739:\tlearn: 0.2916594\ttotal: 1.11s\tremaining: 391ms\n",
      "740:\tlearn: 0.2915621\ttotal: 1.11s\tremaining: 389ms\n",
      "741:\tlearn: 0.2914439\ttotal: 1.11s\tremaining: 387ms\n",
      "742:\tlearn: 0.2913171\ttotal: 1.11s\tremaining: 386ms\n",
      "743:\tlearn: 0.2912603\ttotal: 1.12s\tremaining: 384ms\n",
      "744:\tlearn: 0.2911273\ttotal: 1.12s\tremaining: 383ms\n",
      "745:\tlearn: 0.2909496\ttotal: 1.12s\tremaining: 381ms\n",
      "746:\tlearn: 0.2906702\ttotal: 1.12s\tremaining: 379ms\n",
      "747:\tlearn: 0.2903251\ttotal: 1.12s\tremaining: 378ms\n",
      "748:\tlearn: 0.2899889\ttotal: 1.12s\tremaining: 376ms\n",
      "749:\tlearn: 0.2896463\ttotal: 1.12s\tremaining: 374ms\n",
      "750:\tlearn: 0.2896212\ttotal: 1.12s\tremaining: 373ms\n",
      "751:\tlearn: 0.2894644\ttotal: 1.13s\tremaining: 371ms\n",
      "752:\tlearn: 0.2894236\ttotal: 1.13s\tremaining: 370ms\n",
      "753:\tlearn: 0.2890064\ttotal: 1.13s\tremaining: 368ms\n",
      "754:\tlearn: 0.2884435\ttotal: 1.13s\tremaining: 366ms\n",
      "755:\tlearn: 0.2883835\ttotal: 1.13s\tremaining: 365ms\n",
      "756:\tlearn: 0.2881654\ttotal: 1.13s\tremaining: 363ms\n",
      "757:\tlearn: 0.2880175\ttotal: 1.13s\tremaining: 362ms\n",
      "758:\tlearn: 0.2878959\ttotal: 1.13s\tremaining: 360ms\n",
      "759:\tlearn: 0.2877856\ttotal: 1.14s\tremaining: 358ms\n",
      "760:\tlearn: 0.2876524\ttotal: 1.14s\tremaining: 357ms\n",
      "761:\tlearn: 0.2872980\ttotal: 1.14s\tremaining: 355ms\n",
      "762:\tlearn: 0.2869154\ttotal: 1.14s\tremaining: 354ms\n",
      "763:\tlearn: 0.2868229\ttotal: 1.14s\tremaining: 352ms\n",
      "764:\tlearn: 0.2867326\ttotal: 1.14s\tremaining: 350ms\n",
      "765:\tlearn: 0.2866835\ttotal: 1.14s\tremaining: 349ms\n",
      "766:\tlearn: 0.2866026\ttotal: 1.14s\tremaining: 347ms\n",
      "767:\tlearn: 0.2865481\ttotal: 1.14s\tremaining: 346ms\n",
      "768:\tlearn: 0.2864450\ttotal: 1.15s\tremaining: 344ms\n",
      "769:\tlearn: 0.2861788\ttotal: 1.15s\tremaining: 343ms\n",
      "770:\tlearn: 0.2860608\ttotal: 1.15s\tremaining: 341ms\n",
      "771:\tlearn: 0.2857857\ttotal: 1.15s\tremaining: 339ms\n",
      "772:\tlearn: 0.2855332\ttotal: 1.15s\tremaining: 338ms\n",
      "773:\tlearn: 0.2853519\ttotal: 1.15s\tremaining: 336ms\n",
      "774:\tlearn: 0.2853172\ttotal: 1.15s\tremaining: 335ms\n",
      "775:\tlearn: 0.2849598\ttotal: 1.15s\tremaining: 333ms\n",
      "776:\tlearn: 0.2846119\ttotal: 1.16s\tremaining: 332ms\n",
      "777:\tlearn: 0.2844609\ttotal: 1.16s\tremaining: 330ms\n",
      "778:\tlearn: 0.2842208\ttotal: 1.16s\tremaining: 328ms\n",
      "779:\tlearn: 0.2838266\ttotal: 1.16s\tremaining: 327ms\n",
      "780:\tlearn: 0.2836651\ttotal: 1.16s\tremaining: 325ms\n",
      "781:\tlearn: 0.2835168\ttotal: 1.16s\tremaining: 324ms\n",
      "782:\tlearn: 0.2833817\ttotal: 1.16s\tremaining: 322ms\n",
      "783:\tlearn: 0.2833315\ttotal: 1.16s\tremaining: 321ms\n",
      "784:\tlearn: 0.2831169\ttotal: 1.17s\tremaining: 319ms\n",
      "785:\tlearn: 0.2827573\ttotal: 1.17s\tremaining: 318ms\n",
      "786:\tlearn: 0.2827241\ttotal: 1.17s\tremaining: 316ms\n",
      "787:\tlearn: 0.2826977\ttotal: 1.17s\tremaining: 314ms\n",
      "788:\tlearn: 0.2824745\ttotal: 1.17s\tremaining: 313ms\n",
      "789:\tlearn: 0.2822040\ttotal: 1.17s\tremaining: 311ms\n",
      "790:\tlearn: 0.2819672\ttotal: 1.17s\tremaining: 310ms\n",
      "791:\tlearn: 0.2816704\ttotal: 1.17s\tremaining: 308ms\n",
      "792:\tlearn: 0.2812901\ttotal: 1.18s\tremaining: 307ms\n",
      "793:\tlearn: 0.2812464\ttotal: 1.18s\tremaining: 305ms\n",
      "794:\tlearn: 0.2809479\ttotal: 1.18s\tremaining: 304ms\n",
      "795:\tlearn: 0.2808928\ttotal: 1.18s\tremaining: 302ms\n",
      "796:\tlearn: 0.2805838\ttotal: 1.18s\tremaining: 301ms\n",
      "797:\tlearn: 0.2801493\ttotal: 1.18s\tremaining: 299ms\n",
      "798:\tlearn: 0.2800266\ttotal: 1.18s\tremaining: 297ms\n",
      "799:\tlearn: 0.2797582\ttotal: 1.18s\tremaining: 296ms\n",
      "800:\tlearn: 0.2796840\ttotal: 1.19s\tremaining: 294ms\n",
      "801:\tlearn: 0.2795013\ttotal: 1.19s\tremaining: 293ms\n",
      "802:\tlearn: 0.2793537\ttotal: 1.19s\tremaining: 291ms\n",
      "803:\tlearn: 0.2791181\ttotal: 1.19s\tremaining: 290ms\n",
      "804:\tlearn: 0.2789444\ttotal: 1.19s\tremaining: 288ms\n",
      "805:\tlearn: 0.2789239\ttotal: 1.19s\tremaining: 287ms\n",
      "806:\tlearn: 0.2787757\ttotal: 1.19s\tremaining: 285ms\n",
      "807:\tlearn: 0.2782178\ttotal: 1.19s\tremaining: 284ms\n",
      "808:\tlearn: 0.2779514\ttotal: 1.2s\tremaining: 282ms\n",
      "809:\tlearn: 0.2779298\ttotal: 1.2s\tremaining: 281ms\n",
      "810:\tlearn: 0.2777578\ttotal: 1.2s\tremaining: 279ms\n",
      "811:\tlearn: 0.2777145\ttotal: 1.2s\tremaining: 277ms\n",
      "812:\tlearn: 0.2774686\ttotal: 1.2s\tremaining: 276ms\n",
      "813:\tlearn: 0.2772960\ttotal: 1.2s\tremaining: 274ms\n",
      "814:\tlearn: 0.2771593\ttotal: 1.2s\tremaining: 273ms\n",
      "815:\tlearn: 0.2770892\ttotal: 1.2s\tremaining: 271ms\n",
      "816:\tlearn: 0.2770346\ttotal: 1.2s\tremaining: 270ms\n",
      "817:\tlearn: 0.2769480\ttotal: 1.21s\tremaining: 268ms\n",
      "818:\tlearn: 0.2769362\ttotal: 1.21s\tremaining: 267ms\n",
      "819:\tlearn: 0.2768751\ttotal: 1.21s\tremaining: 265ms\n",
      "820:\tlearn: 0.2766064\ttotal: 1.21s\tremaining: 264ms\n",
      "821:\tlearn: 0.2765604\ttotal: 1.21s\tremaining: 262ms\n",
      "822:\tlearn: 0.2762502\ttotal: 1.21s\tremaining: 261ms\n",
      "823:\tlearn: 0.2760288\ttotal: 1.21s\tremaining: 259ms\n",
      "824:\tlearn: 0.2758955\ttotal: 1.21s\tremaining: 258ms\n",
      "825:\tlearn: 0.2757815\ttotal: 1.22s\tremaining: 256ms\n",
      "826:\tlearn: 0.2756289\ttotal: 1.22s\tremaining: 255ms\n",
      "827:\tlearn: 0.2754075\ttotal: 1.22s\tremaining: 253ms\n",
      "828:\tlearn: 0.2753743\ttotal: 1.22s\tremaining: 252ms\n",
      "829:\tlearn: 0.2752005\ttotal: 1.22s\tremaining: 250ms\n",
      "830:\tlearn: 0.2751324\ttotal: 1.22s\tremaining: 249ms\n",
      "831:\tlearn: 0.2747706\ttotal: 1.22s\tremaining: 247ms\n",
      "832:\tlearn: 0.2745575\ttotal: 1.22s\tremaining: 246ms\n",
      "833:\tlearn: 0.2743241\ttotal: 1.23s\tremaining: 244ms\n",
      "834:\tlearn: 0.2742321\ttotal: 1.23s\tremaining: 243ms\n",
      "835:\tlearn: 0.2742161\ttotal: 1.23s\tremaining: 241ms\n",
      "836:\tlearn: 0.2738313\ttotal: 1.23s\tremaining: 239ms\n",
      "837:\tlearn: 0.2734284\ttotal: 1.23s\tremaining: 238ms\n",
      "838:\tlearn: 0.2734158\ttotal: 1.23s\tremaining: 236ms\n",
      "839:\tlearn: 0.2732793\ttotal: 1.23s\tremaining: 235ms\n",
      "840:\tlearn: 0.2732370\ttotal: 1.23s\tremaining: 233ms\n",
      "841:\tlearn: 0.2729867\ttotal: 1.24s\tremaining: 232ms\n",
      "842:\tlearn: 0.2727196\ttotal: 1.24s\tremaining: 230ms\n",
      "843:\tlearn: 0.2726773\ttotal: 1.24s\tremaining: 229ms\n",
      "844:\tlearn: 0.2724428\ttotal: 1.24s\tremaining: 227ms\n",
      "845:\tlearn: 0.2723083\ttotal: 1.24s\tremaining: 226ms\n",
      "846:\tlearn: 0.2722506\ttotal: 1.24s\tremaining: 224ms\n",
      "847:\tlearn: 0.2719300\ttotal: 1.24s\tremaining: 223ms\n",
      "848:\tlearn: 0.2717841\ttotal: 1.24s\tremaining: 221ms\n",
      "849:\tlearn: 0.2716554\ttotal: 1.25s\tremaining: 220ms\n",
      "850:\tlearn: 0.2713894\ttotal: 1.25s\tremaining: 218ms\n",
      "851:\tlearn: 0.2711135\ttotal: 1.25s\tremaining: 217ms\n",
      "852:\tlearn: 0.2709606\ttotal: 1.25s\tremaining: 216ms\n",
      "853:\tlearn: 0.2706563\ttotal: 1.25s\tremaining: 214ms\n",
      "854:\tlearn: 0.2703314\ttotal: 1.25s\tremaining: 213ms\n",
      "855:\tlearn: 0.2699203\ttotal: 1.25s\tremaining: 211ms\n",
      "856:\tlearn: 0.2698638\ttotal: 1.26s\tremaining: 210ms\n",
      "857:\tlearn: 0.2697766\ttotal: 1.26s\tremaining: 208ms\n",
      "858:\tlearn: 0.2696100\ttotal: 1.26s\tremaining: 207ms\n",
      "859:\tlearn: 0.2694143\ttotal: 1.26s\tremaining: 205ms\n",
      "860:\tlearn: 0.2690929\ttotal: 1.26s\tremaining: 204ms\n",
      "861:\tlearn: 0.2689167\ttotal: 1.26s\tremaining: 202ms\n",
      "862:\tlearn: 0.2687465\ttotal: 1.26s\tremaining: 201ms\n",
      "863:\tlearn: 0.2686673\ttotal: 1.26s\tremaining: 199ms\n",
      "864:\tlearn: 0.2685927\ttotal: 1.27s\tremaining: 198ms\n",
      "865:\tlearn: 0.2684890\ttotal: 1.27s\tremaining: 196ms\n",
      "866:\tlearn: 0.2684783\ttotal: 1.27s\tremaining: 195ms\n",
      "867:\tlearn: 0.2681654\ttotal: 1.27s\tremaining: 193ms\n",
      "868:\tlearn: 0.2681381\ttotal: 1.27s\tremaining: 192ms\n",
      "869:\tlearn: 0.2680225\ttotal: 1.27s\tremaining: 190ms\n",
      "870:\tlearn: 0.2676530\ttotal: 1.27s\tremaining: 189ms\n",
      "871:\tlearn: 0.2675963\ttotal: 1.27s\tremaining: 187ms\n",
      "872:\tlearn: 0.2673356\ttotal: 1.28s\tremaining: 186ms\n",
      "873:\tlearn: 0.2672976\ttotal: 1.28s\tremaining: 184ms\n",
      "874:\tlearn: 0.2672873\ttotal: 1.28s\tremaining: 183ms\n",
      "875:\tlearn: 0.2670407\ttotal: 1.28s\tremaining: 181ms\n",
      "876:\tlearn: 0.2668553\ttotal: 1.28s\tremaining: 180ms\n",
      "877:\tlearn: 0.2665791\ttotal: 1.28s\tremaining: 178ms\n",
      "878:\tlearn: 0.2663040\ttotal: 1.28s\tremaining: 177ms\n",
      "879:\tlearn: 0.2662908\ttotal: 1.28s\tremaining: 175ms\n",
      "880:\tlearn: 0.2658130\ttotal: 1.28s\tremaining: 174ms\n",
      "881:\tlearn: 0.2655332\ttotal: 1.29s\tremaining: 172ms\n",
      "882:\tlearn: 0.2653053\ttotal: 1.29s\tremaining: 171ms\n",
      "883:\tlearn: 0.2652959\ttotal: 1.29s\tremaining: 169ms\n",
      "884:\tlearn: 0.2650595\ttotal: 1.29s\tremaining: 168ms\n",
      "885:\tlearn: 0.2648475\ttotal: 1.29s\tremaining: 166ms\n",
      "886:\tlearn: 0.2646962\ttotal: 1.29s\tremaining: 165ms\n",
      "887:\tlearn: 0.2644618\ttotal: 1.29s\tremaining: 163ms\n",
      "888:\tlearn: 0.2642682\ttotal: 1.29s\tremaining: 162ms\n",
      "889:\tlearn: 0.2640782\ttotal: 1.3s\tremaining: 160ms\n",
      "890:\tlearn: 0.2640693\ttotal: 1.3s\tremaining: 159ms\n",
      "891:\tlearn: 0.2638464\ttotal: 1.3s\tremaining: 157ms\n",
      "892:\tlearn: 0.2635893\ttotal: 1.3s\tremaining: 156ms\n",
      "893:\tlearn: 0.2633765\ttotal: 1.3s\tremaining: 154ms\n",
      "894:\tlearn: 0.2632120\ttotal: 1.3s\tremaining: 153ms\n",
      "895:\tlearn: 0.2627298\ttotal: 1.3s\tremaining: 151ms\n",
      "896:\tlearn: 0.2623563\ttotal: 1.3s\tremaining: 150ms\n",
      "897:\tlearn: 0.2621228\ttotal: 1.31s\tremaining: 148ms\n",
      "898:\tlearn: 0.2618787\ttotal: 1.31s\tremaining: 147ms\n",
      "899:\tlearn: 0.2615772\ttotal: 1.31s\tremaining: 145ms\n",
      "900:\tlearn: 0.2612168\ttotal: 1.31s\tremaining: 144ms\n",
      "901:\tlearn: 0.2609222\ttotal: 1.31s\tremaining: 142ms\n",
      "902:\tlearn: 0.2609043\ttotal: 1.31s\tremaining: 141ms\n",
      "903:\tlearn: 0.2608098\ttotal: 1.31s\tremaining: 139ms\n",
      "904:\tlearn: 0.2605318\ttotal: 1.31s\tremaining: 138ms\n",
      "905:\tlearn: 0.2602586\ttotal: 1.31s\tremaining: 137ms\n",
      "906:\tlearn: 0.2599730\ttotal: 1.32s\tremaining: 135ms\n",
      "907:\tlearn: 0.2596776\ttotal: 1.32s\tremaining: 134ms\n",
      "908:\tlearn: 0.2594827\ttotal: 1.32s\tremaining: 132ms\n",
      "909:\tlearn: 0.2591932\ttotal: 1.32s\tremaining: 131ms\n",
      "910:\tlearn: 0.2591065\ttotal: 1.32s\tremaining: 129ms\n",
      "911:\tlearn: 0.2590012\ttotal: 1.32s\tremaining: 128ms\n",
      "912:\tlearn: 0.2587002\ttotal: 1.32s\tremaining: 126ms\n",
      "913:\tlearn: 0.2584980\ttotal: 1.32s\tremaining: 125ms\n",
      "914:\tlearn: 0.2583416\ttotal: 1.33s\tremaining: 123ms\n",
      "915:\tlearn: 0.2583083\ttotal: 1.33s\tremaining: 122ms\n",
      "916:\tlearn: 0.2582531\ttotal: 1.33s\tremaining: 120ms\n",
      "917:\tlearn: 0.2582268\ttotal: 1.33s\tremaining: 119ms\n",
      "918:\tlearn: 0.2579208\ttotal: 1.33s\tremaining: 117ms\n",
      "919:\tlearn: 0.2575809\ttotal: 1.33s\tremaining: 116ms\n",
      "920:\tlearn: 0.2572124\ttotal: 1.33s\tremaining: 114ms\n",
      "921:\tlearn: 0.2569467\ttotal: 1.33s\tremaining: 113ms\n",
      "922:\tlearn: 0.2568261\ttotal: 1.33s\tremaining: 111ms\n",
      "923:\tlearn: 0.2566532\ttotal: 1.34s\tremaining: 110ms\n",
      "924:\tlearn: 0.2564668\ttotal: 1.34s\tremaining: 109ms\n",
      "925:\tlearn: 0.2560569\ttotal: 1.34s\tremaining: 107ms\n",
      "926:\tlearn: 0.2557477\ttotal: 1.34s\tremaining: 106ms\n",
      "927:\tlearn: 0.2557320\ttotal: 1.34s\tremaining: 104ms\n",
      "928:\tlearn: 0.2556660\ttotal: 1.34s\tremaining: 103ms\n",
      "929:\tlearn: 0.2552721\ttotal: 1.34s\tremaining: 101ms\n",
      "930:\tlearn: 0.2550157\ttotal: 1.34s\tremaining: 99.7ms\n",
      "931:\tlearn: 0.2548205\ttotal: 1.35s\tremaining: 98.2ms\n",
      "932:\tlearn: 0.2546071\ttotal: 1.35s\tremaining: 96.8ms\n",
      "933:\tlearn: 0.2541808\ttotal: 1.35s\tremaining: 95.3ms\n",
      "934:\tlearn: 0.2540034\ttotal: 1.35s\tremaining: 93.9ms\n",
      "935:\tlearn: 0.2538017\ttotal: 1.35s\tremaining: 92.4ms\n",
      "936:\tlearn: 0.2535522\ttotal: 1.35s\tremaining: 91ms\n",
      "937:\tlearn: 0.2533399\ttotal: 1.35s\tremaining: 89.5ms\n",
      "938:\tlearn: 0.2532300\ttotal: 1.36s\tremaining: 88.1ms\n",
      "939:\tlearn: 0.2529064\ttotal: 1.36s\tremaining: 86.7ms\n",
      "940:\tlearn: 0.2528868\ttotal: 1.36s\tremaining: 85.2ms\n",
      "941:\tlearn: 0.2527667\ttotal: 1.36s\tremaining: 83.8ms\n",
      "942:\tlearn: 0.2526732\ttotal: 1.36s\tremaining: 82.3ms\n",
      "943:\tlearn: 0.2526264\ttotal: 1.36s\tremaining: 80.9ms\n",
      "944:\tlearn: 0.2524941\ttotal: 1.36s\tremaining: 79.4ms\n",
      "945:\tlearn: 0.2520607\ttotal: 1.36s\tremaining: 78ms\n",
      "946:\tlearn: 0.2520534\ttotal: 1.37s\tremaining: 76.5ms\n",
      "947:\tlearn: 0.2518952\ttotal: 1.37s\tremaining: 75.1ms\n",
      "948:\tlearn: 0.2517094\ttotal: 1.37s\tremaining: 73.6ms\n",
      "949:\tlearn: 0.2515635\ttotal: 1.37s\tremaining: 72.2ms\n",
      "950:\tlearn: 0.2513762\ttotal: 1.37s\tremaining: 70.8ms\n",
      "951:\tlearn: 0.2513187\ttotal: 1.37s\tremaining: 69.3ms\n",
      "952:\tlearn: 0.2511532\ttotal: 1.38s\tremaining: 67.9ms\n",
      "953:\tlearn: 0.2508474\ttotal: 1.38s\tremaining: 66.4ms\n",
      "954:\tlearn: 0.2505835\ttotal: 1.38s\tremaining: 65ms\n",
      "955:\tlearn: 0.2505047\ttotal: 1.38s\tremaining: 63.5ms\n",
      "956:\tlearn: 0.2501373\ttotal: 1.38s\tremaining: 62ms\n",
      "957:\tlearn: 0.2497510\ttotal: 1.38s\tremaining: 60.6ms\n",
      "958:\tlearn: 0.2495603\ttotal: 1.38s\tremaining: 59.1ms\n",
      "959:\tlearn: 0.2493471\ttotal: 1.38s\tremaining: 57.7ms\n",
      "960:\tlearn: 0.2492531\ttotal: 1.39s\tremaining: 56.3ms\n",
      "961:\tlearn: 0.2491238\ttotal: 1.39s\tremaining: 54.8ms\n",
      "962:\tlearn: 0.2488609\ttotal: 1.39s\tremaining: 53.4ms\n",
      "963:\tlearn: 0.2485382\ttotal: 1.39s\tremaining: 51.9ms\n",
      "964:\tlearn: 0.2483250\ttotal: 1.39s\tremaining: 50.5ms\n",
      "965:\tlearn: 0.2480720\ttotal: 1.39s\tremaining: 49ms\n",
      "966:\tlearn: 0.2479915\ttotal: 1.39s\tremaining: 47.6ms\n",
      "967:\tlearn: 0.2475932\ttotal: 1.4s\tremaining: 46.1ms\n",
      "968:\tlearn: 0.2473677\ttotal: 1.4s\tremaining: 44.7ms\n",
      "969:\tlearn: 0.2472327\ttotal: 1.4s\tremaining: 43.3ms\n",
      "970:\tlearn: 0.2470241\ttotal: 1.4s\tremaining: 41.8ms\n",
      "971:\tlearn: 0.2468385\ttotal: 1.4s\tremaining: 40.4ms\n",
      "972:\tlearn: 0.2465379\ttotal: 1.4s\tremaining: 38.9ms\n",
      "973:\tlearn: 0.2463244\ttotal: 1.4s\tremaining: 37.5ms\n",
      "974:\tlearn: 0.2460857\ttotal: 1.41s\tremaining: 36ms\n",
      "975:\tlearn: 0.2458214\ttotal: 1.41s\tremaining: 34.6ms\n",
      "976:\tlearn: 0.2454670\ttotal: 1.41s\tremaining: 33.1ms\n",
      "977:\tlearn: 0.2453555\ttotal: 1.41s\tremaining: 31.7ms\n",
      "978:\tlearn: 0.2453023\ttotal: 1.41s\tremaining: 30.3ms\n",
      "979:\tlearn: 0.2452211\ttotal: 1.41s\tremaining: 28.8ms\n",
      "980:\tlearn: 0.2449987\ttotal: 1.41s\tremaining: 27.4ms\n",
      "981:\tlearn: 0.2448994\ttotal: 1.41s\tremaining: 25.9ms\n",
      "982:\tlearn: 0.2447013\ttotal: 1.42s\tremaining: 24.5ms\n",
      "983:\tlearn: 0.2443270\ttotal: 1.42s\tremaining: 23ms\n",
      "984:\tlearn: 0.2443072\ttotal: 1.42s\tremaining: 21.6ms\n",
      "985:\tlearn: 0.2442640\ttotal: 1.42s\tremaining: 20.2ms\n",
      "986:\tlearn: 0.2440500\ttotal: 1.42s\tremaining: 18.7ms\n",
      "987:\tlearn: 0.2436913\ttotal: 1.42s\tremaining: 17.3ms\n",
      "988:\tlearn: 0.2435921\ttotal: 1.42s\tremaining: 15.8ms\n",
      "989:\tlearn: 0.2434485\ttotal: 1.43s\tremaining: 14.4ms\n",
      "990:\tlearn: 0.2431670\ttotal: 1.43s\tremaining: 13ms\n",
      "991:\tlearn: 0.2428849\ttotal: 1.43s\tremaining: 11.5ms\n",
      "992:\tlearn: 0.2426073\ttotal: 1.43s\tremaining: 10.1ms\n",
      "993:\tlearn: 0.2423197\ttotal: 1.43s\tremaining: 8.64ms\n",
      "994:\tlearn: 0.2423111\ttotal: 1.43s\tremaining: 7.2ms\n",
      "995:\tlearn: 0.2422150\ttotal: 1.43s\tremaining: 5.76ms\n",
      "996:\tlearn: 0.2422059\ttotal: 1.44s\tremaining: 4.32ms\n",
      "997:\tlearn: 0.2419798\ttotal: 1.44s\tremaining: 2.88ms\n",
      "998:\tlearn: 0.2418018\ttotal: 1.44s\tremaining: 1.44ms\n",
      "999:\tlearn: 0.2417393\ttotal: 1.44s\tremaining: 0us\n"
     ]
    },
    {
     "data": {
      "text/plain": [
       "GridSearchCV(cv=5,\n",
       "             estimator=<catboost.core.CatBoostRegressor object at 0x0000020500BA6BE0>,\n",
       "             n_jobs=-1,\n",
       "             param_grid={'depth': [3, 4, 5, 6],\n",
       "                         'iterations': [200, 500, 1000, 2000],\n",
       "                         'learning_rate': [0.01, 0.03, 0.1]},\n",
       "             verbose=2)"
      ]
     },
     "execution_count": 227,
     "metadata": {},
     "output_type": "execute_result"
    }
   ],
   "source": [
    "catb_cv_model.fit(X_train, y_train)"
   ]
  },
  {
   "cell_type": "code",
   "execution_count": 228,
   "id": "ac3561ee-e87a-418f-8532-11a2cbdca580",
   "metadata": {},
   "outputs": [
    {
     "data": {
      "text/plain": [
       "{'depth': 6, 'iterations': 1000, 'learning_rate': 0.03}"
      ]
     },
     "execution_count": 228,
     "metadata": {},
     "output_type": "execute_result"
    }
   ],
   "source": [
    "catb_cv_model.best_params_"
   ]
  },
  {
   "cell_type": "code",
   "execution_count": 229,
   "id": "36eeb4d3-ba07-4d0e-90a4-6399e9e8fa67",
   "metadata": {
    "collapsed": true,
    "jupyter": {
     "outputs_hidden": true
    },
    "tags": []
   },
   "outputs": [
    {
     "name": "stdout",
     "output_type": "stream",
     "text": [
      "0:\tlearn: 0.7587611\ttotal: 2.03ms\tremaining: 2.03s\n",
      "1:\tlearn: 0.7524480\ttotal: 3.5ms\tremaining: 1.75s\n",
      "2:\tlearn: 0.7450241\ttotal: 5ms\tremaining: 1.66s\n",
      "3:\tlearn: 0.7383022\ttotal: 6.56ms\tremaining: 1.63s\n",
      "4:\tlearn: 0.7319329\ttotal: 7.84ms\tremaining: 1.56s\n",
      "5:\tlearn: 0.7259419\ttotal: 9.1ms\tremaining: 1.51s\n",
      "6:\tlearn: 0.7199685\ttotal: 10.4ms\tremaining: 1.48s\n",
      "7:\tlearn: 0.7138122\ttotal: 11.8ms\tremaining: 1.46s\n",
      "8:\tlearn: 0.7083650\ttotal: 13.2ms\tremaining: 1.45s\n",
      "9:\tlearn: 0.7036014\ttotal: 14.3ms\tremaining: 1.42s\n",
      "10:\tlearn: 0.6982181\ttotal: 15.6ms\tremaining: 1.4s\n",
      "11:\tlearn: 0.6937073\ttotal: 16.9ms\tremaining: 1.39s\n",
      "12:\tlearn: 0.6891551\ttotal: 18.5ms\tremaining: 1.4s\n",
      "13:\tlearn: 0.6843277\ttotal: 20.2ms\tremaining: 1.42s\n",
      "14:\tlearn: 0.6795768\ttotal: 21.6ms\tremaining: 1.42s\n",
      "15:\tlearn: 0.6753310\ttotal: 23.2ms\tremaining: 1.43s\n",
      "16:\tlearn: 0.6715382\ttotal: 25.3ms\tremaining: 1.46s\n",
      "17:\tlearn: 0.6671675\ttotal: 26.9ms\tremaining: 1.47s\n",
      "18:\tlearn: 0.6628280\ttotal: 29.2ms\tremaining: 1.51s\n",
      "19:\tlearn: 0.6592246\ttotal: 30.9ms\tremaining: 1.52s\n",
      "20:\tlearn: 0.6555805\ttotal: 32.8ms\tremaining: 1.53s\n",
      "21:\tlearn: 0.6517718\ttotal: 34.8ms\tremaining: 1.55s\n",
      "22:\tlearn: 0.6485649\ttotal: 37.6ms\tremaining: 1.6s\n",
      "23:\tlearn: 0.6460714\ttotal: 39.3ms\tremaining: 1.6s\n",
      "24:\tlearn: 0.6426103\ttotal: 41.2ms\tremaining: 1.6s\n",
      "25:\tlearn: 0.6389561\ttotal: 42.7ms\tremaining: 1.6s\n",
      "26:\tlearn: 0.6359576\ttotal: 44.4ms\tremaining: 1.6s\n",
      "27:\tlearn: 0.6332514\ttotal: 46.6ms\tremaining: 1.62s\n",
      "28:\tlearn: 0.6300058\ttotal: 49ms\tremaining: 1.64s\n",
      "29:\tlearn: 0.6273840\ttotal: 51ms\tremaining: 1.65s\n",
      "30:\tlearn: 0.6250630\ttotal: 53ms\tremaining: 1.66s\n",
      "31:\tlearn: 0.6223047\ttotal: 55.8ms\tremaining: 1.69s\n",
      "32:\tlearn: 0.6197233\ttotal: 58ms\tremaining: 1.7s\n",
      "33:\tlearn: 0.6174378\ttotal: 59.8ms\tremaining: 1.7s\n",
      "34:\tlearn: 0.6146452\ttotal: 61.9ms\tremaining: 1.71s\n",
      "35:\tlearn: 0.6121376\ttotal: 65.2ms\tremaining: 1.75s\n",
      "36:\tlearn: 0.6106537\ttotal: 67.5ms\tremaining: 1.76s\n",
      "37:\tlearn: 0.6082752\ttotal: 69.8ms\tremaining: 1.77s\n",
      "38:\tlearn: 0.6065260\ttotal: 71.6ms\tremaining: 1.76s\n",
      "39:\tlearn: 0.6043991\ttotal: 74.7ms\tremaining: 1.79s\n",
      "40:\tlearn: 0.6025184\ttotal: 79.7ms\tremaining: 1.86s\n",
      "41:\tlearn: 0.6004633\ttotal: 83.2ms\tremaining: 1.9s\n",
      "42:\tlearn: 0.5985406\ttotal: 86.4ms\tremaining: 1.92s\n",
      "43:\tlearn: 0.5964887\ttotal: 89.5ms\tremaining: 1.95s\n",
      "44:\tlearn: 0.5946218\ttotal: 93.1ms\tremaining: 1.98s\n",
      "45:\tlearn: 0.5923706\ttotal: 96.5ms\tremaining: 2s\n",
      "46:\tlearn: 0.5904026\ttotal: 98.7ms\tremaining: 2s\n",
      "47:\tlearn: 0.5886965\ttotal: 102ms\tremaining: 2.02s\n",
      "48:\tlearn: 0.5869307\ttotal: 104ms\tremaining: 2.03s\n",
      "49:\tlearn: 0.5851473\ttotal: 107ms\tremaining: 2.04s\n",
      "50:\tlearn: 0.5830730\ttotal: 110ms\tremaining: 2.04s\n",
      "51:\tlearn: 0.5814984\ttotal: 112ms\tremaining: 2.04s\n",
      "52:\tlearn: 0.5797653\ttotal: 114ms\tremaining: 2.04s\n",
      "53:\tlearn: 0.5782047\ttotal: 117ms\tremaining: 2.04s\n",
      "54:\tlearn: 0.5768704\ttotal: 119ms\tremaining: 2.04s\n",
      "55:\tlearn: 0.5755891\ttotal: 121ms\tremaining: 2.04s\n",
      "56:\tlearn: 0.5743169\ttotal: 124ms\tremaining: 2.04s\n",
      "57:\tlearn: 0.5727578\ttotal: 127ms\tremaining: 2.06s\n",
      "58:\tlearn: 0.5711287\ttotal: 130ms\tremaining: 2.08s\n",
      "59:\tlearn: 0.5700895\ttotal: 133ms\tremaining: 2.08s\n",
      "60:\tlearn: 0.5684481\ttotal: 135ms\tremaining: 2.08s\n",
      "61:\tlearn: 0.5669309\ttotal: 138ms\tremaining: 2.09s\n",
      "62:\tlearn: 0.5658449\ttotal: 142ms\tremaining: 2.11s\n",
      "63:\tlearn: 0.5645251\ttotal: 145ms\tremaining: 2.13s\n",
      "64:\tlearn: 0.5631393\ttotal: 149ms\tremaining: 2.14s\n",
      "65:\tlearn: 0.5619311\ttotal: 152ms\tremaining: 2.16s\n",
      "66:\tlearn: 0.5607798\ttotal: 156ms\tremaining: 2.17s\n",
      "67:\tlearn: 0.5597113\ttotal: 161ms\tremaining: 2.2s\n",
      "68:\tlearn: 0.5586999\ttotal: 165ms\tremaining: 2.23s\n",
      "69:\tlearn: 0.5573940\ttotal: 168ms\tremaining: 2.24s\n",
      "70:\tlearn: 0.5560483\ttotal: 171ms\tremaining: 2.24s\n",
      "71:\tlearn: 0.5549713\ttotal: 174ms\tremaining: 2.24s\n",
      "72:\tlearn: 0.5539323\ttotal: 178ms\tremaining: 2.25s\n",
      "73:\tlearn: 0.5523658\ttotal: 181ms\tremaining: 2.26s\n",
      "74:\tlearn: 0.5512305\ttotal: 183ms\tremaining: 2.26s\n",
      "75:\tlearn: 0.5504449\ttotal: 188ms\tremaining: 2.28s\n",
      "76:\tlearn: 0.5493732\ttotal: 191ms\tremaining: 2.29s\n",
      "77:\tlearn: 0.5488492\ttotal: 194ms\tremaining: 2.29s\n",
      "78:\tlearn: 0.5479087\ttotal: 196ms\tremaining: 2.29s\n",
      "79:\tlearn: 0.5474002\ttotal: 199ms\tremaining: 2.29s\n",
      "80:\tlearn: 0.5465569\ttotal: 202ms\tremaining: 2.29s\n",
      "81:\tlearn: 0.5456933\ttotal: 205ms\tremaining: 2.29s\n",
      "82:\tlearn: 0.5449933\ttotal: 208ms\tremaining: 2.3s\n",
      "83:\tlearn: 0.5442601\ttotal: 211ms\tremaining: 2.3s\n",
      "84:\tlearn: 0.5428054\ttotal: 214ms\tremaining: 2.3s\n",
      "85:\tlearn: 0.5420599\ttotal: 220ms\tremaining: 2.33s\n",
      "86:\tlearn: 0.5411793\ttotal: 222ms\tremaining: 2.33s\n",
      "87:\tlearn: 0.5401634\ttotal: 226ms\tremaining: 2.34s\n",
      "88:\tlearn: 0.5396358\ttotal: 230ms\tremaining: 2.35s\n",
      "89:\tlearn: 0.5391477\ttotal: 232ms\tremaining: 2.35s\n",
      "90:\tlearn: 0.5383380\ttotal: 236ms\tremaining: 2.35s\n",
      "91:\tlearn: 0.5375989\ttotal: 238ms\tremaining: 2.35s\n",
      "92:\tlearn: 0.5366038\ttotal: 241ms\tremaining: 2.35s\n",
      "93:\tlearn: 0.5357597\ttotal: 243ms\tremaining: 2.35s\n",
      "94:\tlearn: 0.5352219\ttotal: 246ms\tremaining: 2.34s\n",
      "95:\tlearn: 0.5340014\ttotal: 248ms\tremaining: 2.34s\n",
      "96:\tlearn: 0.5333699\ttotal: 251ms\tremaining: 2.34s\n",
      "97:\tlearn: 0.5329715\ttotal: 253ms\tremaining: 2.33s\n",
      "98:\tlearn: 0.5320971\ttotal: 255ms\tremaining: 2.32s\n",
      "99:\tlearn: 0.5314484\ttotal: 258ms\tremaining: 2.32s\n",
      "100:\tlearn: 0.5307576\ttotal: 262ms\tremaining: 2.33s\n",
      "101:\tlearn: 0.5303906\ttotal: 264ms\tremaining: 2.33s\n",
      "102:\tlearn: 0.5297521\ttotal: 267ms\tremaining: 2.33s\n",
      "103:\tlearn: 0.5291481\ttotal: 270ms\tremaining: 2.32s\n",
      "104:\tlearn: 0.5286547\ttotal: 272ms\tremaining: 2.32s\n",
      "105:\tlearn: 0.5281324\ttotal: 275ms\tremaining: 2.32s\n",
      "106:\tlearn: 0.5274155\ttotal: 278ms\tremaining: 2.32s\n",
      "107:\tlearn: 0.5265112\ttotal: 280ms\tremaining: 2.31s\n",
      "108:\tlearn: 0.5261693\ttotal: 282ms\tremaining: 2.3s\n",
      "109:\tlearn: 0.5256409\ttotal: 284ms\tremaining: 2.3s\n",
      "110:\tlearn: 0.5253203\ttotal: 286ms\tremaining: 2.29s\n",
      "111:\tlearn: 0.5248663\ttotal: 289ms\tremaining: 2.29s\n",
      "112:\tlearn: 0.5242746\ttotal: 292ms\tremaining: 2.29s\n",
      "113:\tlearn: 0.5234787\ttotal: 294ms\tremaining: 2.28s\n",
      "114:\tlearn: 0.5229420\ttotal: 295ms\tremaining: 2.27s\n",
      "115:\tlearn: 0.5219566\ttotal: 297ms\tremaining: 2.26s\n",
      "116:\tlearn: 0.5216176\ttotal: 299ms\tremaining: 2.26s\n",
      "117:\tlearn: 0.5210808\ttotal: 301ms\tremaining: 2.25s\n",
      "118:\tlearn: 0.5200093\ttotal: 302ms\tremaining: 2.24s\n",
      "119:\tlearn: 0.5193866\ttotal: 304ms\tremaining: 2.23s\n",
      "120:\tlearn: 0.5189601\ttotal: 306ms\tremaining: 2.22s\n",
      "121:\tlearn: 0.5183777\ttotal: 307ms\tremaining: 2.21s\n",
      "122:\tlearn: 0.5179676\ttotal: 309ms\tremaining: 2.2s\n",
      "123:\tlearn: 0.5172073\ttotal: 310ms\tremaining: 2.19s\n",
      "124:\tlearn: 0.5161412\ttotal: 311ms\tremaining: 2.18s\n",
      "125:\tlearn: 0.5155392\ttotal: 313ms\tremaining: 2.17s\n",
      "126:\tlearn: 0.5150088\ttotal: 314ms\tremaining: 2.16s\n",
      "127:\tlearn: 0.5144914\ttotal: 315ms\tremaining: 2.15s\n",
      "128:\tlearn: 0.5140096\ttotal: 316ms\tremaining: 2.14s\n",
      "129:\tlearn: 0.5135629\ttotal: 318ms\tremaining: 2.13s\n",
      "130:\tlearn: 0.5129074\ttotal: 320ms\tremaining: 2.12s\n",
      "131:\tlearn: 0.5125572\ttotal: 321ms\tremaining: 2.11s\n",
      "132:\tlearn: 0.5119321\ttotal: 322ms\tremaining: 2.1s\n",
      "133:\tlearn: 0.5115581\ttotal: 324ms\tremaining: 2.09s\n",
      "134:\tlearn: 0.5109560\ttotal: 325ms\tremaining: 2.08s\n",
      "135:\tlearn: 0.5105059\ttotal: 326ms\tremaining: 2.07s\n",
      "136:\tlearn: 0.5097534\ttotal: 328ms\tremaining: 2.06s\n",
      "137:\tlearn: 0.5092368\ttotal: 329ms\tremaining: 2.06s\n",
      "138:\tlearn: 0.5084121\ttotal: 331ms\tremaining: 2.05s\n",
      "139:\tlearn: 0.5079811\ttotal: 332ms\tremaining: 2.04s\n",
      "140:\tlearn: 0.5074115\ttotal: 334ms\tremaining: 2.03s\n",
      "141:\tlearn: 0.5068445\ttotal: 335ms\tremaining: 2.02s\n",
      "142:\tlearn: 0.5062169\ttotal: 336ms\tremaining: 2.02s\n",
      "143:\tlearn: 0.5058099\ttotal: 338ms\tremaining: 2.01s\n",
      "144:\tlearn: 0.5052782\ttotal: 339ms\tremaining: 2s\n",
      "145:\tlearn: 0.5047295\ttotal: 341ms\tremaining: 1.99s\n",
      "146:\tlearn: 0.5042177\ttotal: 342ms\tremaining: 1.99s\n",
      "147:\tlearn: 0.5039169\ttotal: 344ms\tremaining: 1.98s\n",
      "148:\tlearn: 0.5034043\ttotal: 345ms\tremaining: 1.97s\n",
      "149:\tlearn: 0.5026613\ttotal: 347ms\tremaining: 1.96s\n",
      "150:\tlearn: 0.5019325\ttotal: 349ms\tremaining: 1.96s\n",
      "151:\tlearn: 0.5016881\ttotal: 350ms\tremaining: 1.95s\n",
      "152:\tlearn: 0.5010417\ttotal: 352ms\tremaining: 1.95s\n",
      "153:\tlearn: 0.5008426\ttotal: 353ms\tremaining: 1.94s\n",
      "154:\tlearn: 0.5002543\ttotal: 354ms\tremaining: 1.93s\n",
      "155:\tlearn: 0.4997073\ttotal: 356ms\tremaining: 1.92s\n",
      "156:\tlearn: 0.4991037\ttotal: 357ms\tremaining: 1.92s\n",
      "157:\tlearn: 0.4986806\ttotal: 359ms\tremaining: 1.91s\n",
      "158:\tlearn: 0.4983574\ttotal: 360ms\tremaining: 1.9s\n",
      "159:\tlearn: 0.4981293\ttotal: 361ms\tremaining: 1.9s\n",
      "160:\tlearn: 0.4978511\ttotal: 364ms\tremaining: 1.9s\n",
      "161:\tlearn: 0.4975463\ttotal: 366ms\tremaining: 1.89s\n",
      "162:\tlearn: 0.4971426\ttotal: 368ms\tremaining: 1.89s\n",
      "163:\tlearn: 0.4966071\ttotal: 369ms\tremaining: 1.88s\n",
      "164:\tlearn: 0.4958881\ttotal: 370ms\tremaining: 1.87s\n",
      "165:\tlearn: 0.4953544\ttotal: 372ms\tremaining: 1.87s\n",
      "166:\tlearn: 0.4948948\ttotal: 373ms\tremaining: 1.86s\n",
      "167:\tlearn: 0.4946150\ttotal: 374ms\tremaining: 1.85s\n",
      "168:\tlearn: 0.4937091\ttotal: 375ms\tremaining: 1.84s\n",
      "169:\tlearn: 0.4932861\ttotal: 377ms\tremaining: 1.84s\n",
      "170:\tlearn: 0.4927419\ttotal: 378ms\tremaining: 1.83s\n",
      "171:\tlearn: 0.4922518\ttotal: 380ms\tremaining: 1.83s\n",
      "172:\tlearn: 0.4919098\ttotal: 381ms\tremaining: 1.82s\n",
      "173:\tlearn: 0.4913212\ttotal: 383ms\tremaining: 1.82s\n",
      "174:\tlearn: 0.4906604\ttotal: 384ms\tremaining: 1.81s\n",
      "175:\tlearn: 0.4902291\ttotal: 385ms\tremaining: 1.8s\n",
      "176:\tlearn: 0.4899648\ttotal: 387ms\tremaining: 1.8s\n",
      "177:\tlearn: 0.4896128\ttotal: 388ms\tremaining: 1.79s\n",
      "178:\tlearn: 0.4890577\ttotal: 390ms\tremaining: 1.79s\n",
      "179:\tlearn: 0.4888382\ttotal: 391ms\tremaining: 1.78s\n",
      "180:\tlearn: 0.4881012\ttotal: 392ms\tremaining: 1.77s\n",
      "181:\tlearn: 0.4877454\ttotal: 394ms\tremaining: 1.77s\n",
      "182:\tlearn: 0.4875234\ttotal: 396ms\tremaining: 1.77s\n",
      "183:\tlearn: 0.4869667\ttotal: 397ms\tremaining: 1.76s\n",
      "184:\tlearn: 0.4862401\ttotal: 398ms\tremaining: 1.75s\n",
      "185:\tlearn: 0.4857108\ttotal: 400ms\tremaining: 1.75s\n",
      "186:\tlearn: 0.4853260\ttotal: 401ms\tremaining: 1.74s\n",
      "187:\tlearn: 0.4849608\ttotal: 402ms\tremaining: 1.74s\n",
      "188:\tlearn: 0.4841992\ttotal: 403ms\tremaining: 1.73s\n",
      "189:\tlearn: 0.4838080\ttotal: 404ms\tremaining: 1.72s\n",
      "190:\tlearn: 0.4834987\ttotal: 406ms\tremaining: 1.72s\n",
      "191:\tlearn: 0.4831071\ttotal: 407ms\tremaining: 1.71s\n",
      "192:\tlearn: 0.4826584\ttotal: 408ms\tremaining: 1.71s\n",
      "193:\tlearn: 0.4820907\ttotal: 410ms\tremaining: 1.7s\n",
      "194:\tlearn: 0.4818652\ttotal: 411ms\tremaining: 1.7s\n",
      "195:\tlearn: 0.4813812\ttotal: 412ms\tremaining: 1.69s\n",
      "196:\tlearn: 0.4811103\ttotal: 413ms\tremaining: 1.69s\n",
      "197:\tlearn: 0.4807884\ttotal: 415ms\tremaining: 1.68s\n",
      "198:\tlearn: 0.4803962\ttotal: 416ms\tremaining: 1.67s\n",
      "199:\tlearn: 0.4800680\ttotal: 417ms\tremaining: 1.67s\n",
      "200:\tlearn: 0.4795216\ttotal: 419ms\tremaining: 1.67s\n",
      "201:\tlearn: 0.4790012\ttotal: 420ms\tremaining: 1.66s\n",
      "202:\tlearn: 0.4789161\ttotal: 422ms\tremaining: 1.66s\n",
      "203:\tlearn: 0.4784986\ttotal: 423ms\tremaining: 1.65s\n",
      "204:\tlearn: 0.4777945\ttotal: 425ms\tremaining: 1.65s\n",
      "205:\tlearn: 0.4776828\ttotal: 427ms\tremaining: 1.65s\n",
      "206:\tlearn: 0.4772448\ttotal: 430ms\tremaining: 1.65s\n",
      "207:\tlearn: 0.4768740\ttotal: 432ms\tremaining: 1.64s\n",
      "208:\tlearn: 0.4766300\ttotal: 434ms\tremaining: 1.64s\n",
      "209:\tlearn: 0.4762344\ttotal: 435ms\tremaining: 1.64s\n",
      "210:\tlearn: 0.4757231\ttotal: 437ms\tremaining: 1.63s\n",
      "211:\tlearn: 0.4751007\ttotal: 439ms\tremaining: 1.63s\n",
      "212:\tlearn: 0.4746162\ttotal: 440ms\tremaining: 1.63s\n",
      "213:\tlearn: 0.4742767\ttotal: 441ms\tremaining: 1.62s\n",
      "214:\tlearn: 0.4739741\ttotal: 443ms\tremaining: 1.61s\n",
      "215:\tlearn: 0.4736032\ttotal: 444ms\tremaining: 1.61s\n",
      "216:\tlearn: 0.4733887\ttotal: 445ms\tremaining: 1.6s\n",
      "217:\tlearn: 0.4732428\ttotal: 446ms\tremaining: 1.6s\n",
      "218:\tlearn: 0.4729712\ttotal: 447ms\tremaining: 1.59s\n",
      "219:\tlearn: 0.4724484\ttotal: 449ms\tremaining: 1.59s\n",
      "220:\tlearn: 0.4720417\ttotal: 451ms\tremaining: 1.59s\n",
      "221:\tlearn: 0.4717627\ttotal: 452ms\tremaining: 1.58s\n",
      "222:\tlearn: 0.4711278\ttotal: 454ms\tremaining: 1.58s\n",
      "223:\tlearn: 0.4705495\ttotal: 456ms\tremaining: 1.58s\n",
      "224:\tlearn: 0.4702378\ttotal: 457ms\tremaining: 1.57s\n",
      "225:\tlearn: 0.4699247\ttotal: 459ms\tremaining: 1.57s\n",
      "226:\tlearn: 0.4694280\ttotal: 460ms\tremaining: 1.57s\n",
      "227:\tlearn: 0.4690802\ttotal: 462ms\tremaining: 1.56s\n",
      "228:\tlearn: 0.4687736\ttotal: 463ms\tremaining: 1.56s\n",
      "229:\tlearn: 0.4684660\ttotal: 464ms\tremaining: 1.55s\n",
      "230:\tlearn: 0.4679673\ttotal: 466ms\tremaining: 1.55s\n",
      "231:\tlearn: 0.4672022\ttotal: 467ms\tremaining: 1.55s\n",
      "232:\tlearn: 0.4670655\ttotal: 469ms\tremaining: 1.54s\n",
      "233:\tlearn: 0.4668008\ttotal: 471ms\tremaining: 1.54s\n",
      "234:\tlearn: 0.4662815\ttotal: 472ms\tremaining: 1.54s\n",
      "235:\tlearn: 0.4655059\ttotal: 474ms\tremaining: 1.53s\n",
      "236:\tlearn: 0.4650182\ttotal: 475ms\tremaining: 1.53s\n",
      "237:\tlearn: 0.4646381\ttotal: 476ms\tremaining: 1.52s\n",
      "238:\tlearn: 0.4644308\ttotal: 478ms\tremaining: 1.52s\n",
      "239:\tlearn: 0.4642583\ttotal: 480ms\tremaining: 1.52s\n",
      "240:\tlearn: 0.4637575\ttotal: 483ms\tremaining: 1.52s\n",
      "241:\tlearn: 0.4635611\ttotal: 485ms\tremaining: 1.52s\n",
      "242:\tlearn: 0.4630022\ttotal: 486ms\tremaining: 1.51s\n",
      "243:\tlearn: 0.4626300\ttotal: 488ms\tremaining: 1.51s\n",
      "244:\tlearn: 0.4623676\ttotal: 489ms\tremaining: 1.51s\n",
      "245:\tlearn: 0.4619477\ttotal: 490ms\tremaining: 1.5s\n",
      "246:\tlearn: 0.4618091\ttotal: 492ms\tremaining: 1.5s\n",
      "247:\tlearn: 0.4615953\ttotal: 493ms\tremaining: 1.49s\n",
      "248:\tlearn: 0.4611913\ttotal: 494ms\tremaining: 1.49s\n",
      "249:\tlearn: 0.4607404\ttotal: 495ms\tremaining: 1.49s\n",
      "250:\tlearn: 0.4604535\ttotal: 497ms\tremaining: 1.48s\n",
      "251:\tlearn: 0.4602902\ttotal: 500ms\tremaining: 1.48s\n",
      "252:\tlearn: 0.4596043\ttotal: 502ms\tremaining: 1.48s\n",
      "253:\tlearn: 0.4591300\ttotal: 503ms\tremaining: 1.48s\n",
      "254:\tlearn: 0.4586213\ttotal: 505ms\tremaining: 1.47s\n",
      "255:\tlearn: 0.4582520\ttotal: 506ms\tremaining: 1.47s\n",
      "256:\tlearn: 0.4580220\ttotal: 510ms\tremaining: 1.47s\n",
      "257:\tlearn: 0.4577089\ttotal: 511ms\tremaining: 1.47s\n",
      "258:\tlearn: 0.4575072\ttotal: 513ms\tremaining: 1.47s\n",
      "259:\tlearn: 0.4571387\ttotal: 514ms\tremaining: 1.46s\n",
      "260:\tlearn: 0.4569795\ttotal: 516ms\tremaining: 1.46s\n",
      "261:\tlearn: 0.4567687\ttotal: 517ms\tremaining: 1.46s\n",
      "262:\tlearn: 0.4563349\ttotal: 519ms\tremaining: 1.45s\n",
      "263:\tlearn: 0.4557232\ttotal: 520ms\tremaining: 1.45s\n",
      "264:\tlearn: 0.4547868\ttotal: 521ms\tremaining: 1.45s\n",
      "265:\tlearn: 0.4539744\ttotal: 523ms\tremaining: 1.44s\n",
      "266:\tlearn: 0.4537526\ttotal: 525ms\tremaining: 1.44s\n",
      "267:\tlearn: 0.4534285\ttotal: 526ms\tremaining: 1.44s\n",
      "268:\tlearn: 0.4530582\ttotal: 527ms\tremaining: 1.43s\n",
      "269:\tlearn: 0.4527829\ttotal: 529ms\tremaining: 1.43s\n",
      "270:\tlearn: 0.4525662\ttotal: 530ms\tremaining: 1.43s\n",
      "271:\tlearn: 0.4518142\ttotal: 532ms\tremaining: 1.42s\n",
      "272:\tlearn: 0.4517419\ttotal: 534ms\tremaining: 1.42s\n",
      "273:\tlearn: 0.4507118\ttotal: 535ms\tremaining: 1.42s\n",
      "274:\tlearn: 0.4505283\ttotal: 537ms\tremaining: 1.41s\n",
      "275:\tlearn: 0.4493166\ttotal: 539ms\tremaining: 1.41s\n",
      "276:\tlearn: 0.4491583\ttotal: 541ms\tremaining: 1.41s\n",
      "277:\tlearn: 0.4483743\ttotal: 543ms\tremaining: 1.41s\n",
      "278:\tlearn: 0.4482788\ttotal: 545ms\tremaining: 1.41s\n",
      "279:\tlearn: 0.4477973\ttotal: 547ms\tremaining: 1.41s\n",
      "280:\tlearn: 0.4474424\ttotal: 548ms\tremaining: 1.4s\n",
      "281:\tlearn: 0.4471284\ttotal: 550ms\tremaining: 1.4s\n",
      "282:\tlearn: 0.4466242\ttotal: 552ms\tremaining: 1.4s\n",
      "283:\tlearn: 0.4465216\ttotal: 553ms\tremaining: 1.39s\n",
      "284:\tlearn: 0.4463444\ttotal: 555ms\tremaining: 1.39s\n",
      "285:\tlearn: 0.4462090\ttotal: 557ms\tremaining: 1.39s\n",
      "286:\tlearn: 0.4460859\ttotal: 559ms\tremaining: 1.39s\n",
      "287:\tlearn: 0.4459514\ttotal: 561ms\tremaining: 1.39s\n",
      "288:\tlearn: 0.4456757\ttotal: 562ms\tremaining: 1.38s\n",
      "289:\tlearn: 0.4453572\ttotal: 563ms\tremaining: 1.38s\n",
      "290:\tlearn: 0.4443314\ttotal: 565ms\tremaining: 1.38s\n",
      "291:\tlearn: 0.4435258\ttotal: 567ms\tremaining: 1.38s\n",
      "292:\tlearn: 0.4432790\ttotal: 569ms\tremaining: 1.37s\n",
      "293:\tlearn: 0.4431560\ttotal: 571ms\tremaining: 1.37s\n",
      "294:\tlearn: 0.4430398\ttotal: 572ms\tremaining: 1.37s\n",
      "295:\tlearn: 0.4425015\ttotal: 573ms\tremaining: 1.36s\n",
      "296:\tlearn: 0.4420450\ttotal: 575ms\tremaining: 1.36s\n",
      "297:\tlearn: 0.4413093\ttotal: 576ms\tremaining: 1.36s\n",
      "298:\tlearn: 0.4410273\ttotal: 578ms\tremaining: 1.35s\n",
      "299:\tlearn: 0.4404293\ttotal: 579ms\tremaining: 1.35s\n",
      "300:\tlearn: 0.4400164\ttotal: 580ms\tremaining: 1.35s\n",
      "301:\tlearn: 0.4395082\ttotal: 582ms\tremaining: 1.34s\n",
      "302:\tlearn: 0.4393893\ttotal: 583ms\tremaining: 1.34s\n",
      "303:\tlearn: 0.4386943\ttotal: 584ms\tremaining: 1.34s\n",
      "304:\tlearn: 0.4385796\ttotal: 587ms\tremaining: 1.34s\n",
      "305:\tlearn: 0.4382070\ttotal: 588ms\tremaining: 1.33s\n",
      "306:\tlearn: 0.4374408\ttotal: 590ms\tremaining: 1.33s\n",
      "307:\tlearn: 0.4370098\ttotal: 591ms\tremaining: 1.33s\n",
      "308:\tlearn: 0.4362518\ttotal: 592ms\tremaining: 1.32s\n",
      "309:\tlearn: 0.4361243\ttotal: 594ms\tremaining: 1.32s\n",
      "310:\tlearn: 0.4356811\ttotal: 595ms\tremaining: 1.32s\n",
      "311:\tlearn: 0.4348131\ttotal: 596ms\tremaining: 1.31s\n",
      "312:\tlearn: 0.4345740\ttotal: 598ms\tremaining: 1.31s\n",
      "313:\tlearn: 0.4341252\ttotal: 599ms\tremaining: 1.31s\n",
      "314:\tlearn: 0.4335705\ttotal: 602ms\tremaining: 1.31s\n",
      "315:\tlearn: 0.4334389\ttotal: 603ms\tremaining: 1.3s\n",
      "316:\tlearn: 0.4326887\ttotal: 604ms\tremaining: 1.3s\n",
      "317:\tlearn: 0.4319348\ttotal: 605ms\tremaining: 1.3s\n",
      "318:\tlearn: 0.4315001\ttotal: 607ms\tremaining: 1.29s\n",
      "319:\tlearn: 0.4311089\ttotal: 608ms\tremaining: 1.29s\n",
      "320:\tlearn: 0.4307782\ttotal: 609ms\tremaining: 1.29s\n",
      "321:\tlearn: 0.4304403\ttotal: 610ms\tremaining: 1.28s\n",
      "322:\tlearn: 0.4302036\ttotal: 612ms\tremaining: 1.28s\n",
      "323:\tlearn: 0.4296113\ttotal: 613ms\tremaining: 1.28s\n",
      "324:\tlearn: 0.4293679\ttotal: 614ms\tremaining: 1.27s\n",
      "325:\tlearn: 0.4292065\ttotal: 615ms\tremaining: 1.27s\n",
      "326:\tlearn: 0.4284641\ttotal: 616ms\tremaining: 1.27s\n",
      "327:\tlearn: 0.4274086\ttotal: 617ms\tremaining: 1.26s\n",
      "328:\tlearn: 0.4270352\ttotal: 619ms\tremaining: 1.26s\n",
      "329:\tlearn: 0.4263646\ttotal: 620ms\tremaining: 1.26s\n",
      "330:\tlearn: 0.4255993\ttotal: 621ms\tremaining: 1.25s\n",
      "331:\tlearn: 0.4254976\ttotal: 622ms\tremaining: 1.25s\n",
      "332:\tlearn: 0.4248918\ttotal: 624ms\tremaining: 1.25s\n",
      "333:\tlearn: 0.4245337\ttotal: 625ms\tremaining: 1.25s\n",
      "334:\tlearn: 0.4240034\ttotal: 626ms\tremaining: 1.24s\n",
      "335:\tlearn: 0.4232629\ttotal: 628ms\tremaining: 1.24s\n",
      "336:\tlearn: 0.4227787\ttotal: 629ms\tremaining: 1.24s\n",
      "337:\tlearn: 0.4222507\ttotal: 630ms\tremaining: 1.23s\n",
      "338:\tlearn: 0.4217679\ttotal: 632ms\tremaining: 1.23s\n",
      "339:\tlearn: 0.4210594\ttotal: 633ms\tremaining: 1.23s\n",
      "340:\tlearn: 0.4206431\ttotal: 634ms\tremaining: 1.23s\n",
      "341:\tlearn: 0.4200390\ttotal: 636ms\tremaining: 1.22s\n",
      "342:\tlearn: 0.4197387\ttotal: 637ms\tremaining: 1.22s\n",
      "343:\tlearn: 0.4194076\ttotal: 638ms\tremaining: 1.22s\n",
      "344:\tlearn: 0.4192818\ttotal: 639ms\tremaining: 1.21s\n",
      "345:\tlearn: 0.4186041\ttotal: 640ms\tremaining: 1.21s\n",
      "346:\tlearn: 0.4180223\ttotal: 641ms\tremaining: 1.21s\n",
      "347:\tlearn: 0.4174403\ttotal: 643ms\tremaining: 1.2s\n",
      "348:\tlearn: 0.4168132\ttotal: 644ms\tremaining: 1.2s\n",
      "349:\tlearn: 0.4163982\ttotal: 645ms\tremaining: 1.2s\n",
      "350:\tlearn: 0.4158739\ttotal: 647ms\tremaining: 1.2s\n",
      "351:\tlearn: 0.4152078\ttotal: 648ms\tremaining: 1.19s\n",
      "352:\tlearn: 0.4146250\ttotal: 649ms\tremaining: 1.19s\n",
      "353:\tlearn: 0.4142304\ttotal: 650ms\tremaining: 1.19s\n",
      "354:\tlearn: 0.4139607\ttotal: 652ms\tremaining: 1.18s\n",
      "355:\tlearn: 0.4135398\ttotal: 654ms\tremaining: 1.18s\n",
      "356:\tlearn: 0.4129253\ttotal: 655ms\tremaining: 1.18s\n",
      "357:\tlearn: 0.4125859\ttotal: 657ms\tremaining: 1.18s\n",
      "358:\tlearn: 0.4120380\ttotal: 658ms\tremaining: 1.17s\n",
      "359:\tlearn: 0.4115673\ttotal: 660ms\tremaining: 1.17s\n",
      "360:\tlearn: 0.4112529\ttotal: 661ms\tremaining: 1.17s\n",
      "361:\tlearn: 0.4109960\ttotal: 662ms\tremaining: 1.17s\n",
      "362:\tlearn: 0.4108896\ttotal: 664ms\tremaining: 1.16s\n",
      "363:\tlearn: 0.4102871\ttotal: 665ms\tremaining: 1.16s\n",
      "364:\tlearn: 0.4094685\ttotal: 666ms\tremaining: 1.16s\n",
      "365:\tlearn: 0.4090085\ttotal: 667ms\tremaining: 1.16s\n",
      "366:\tlearn: 0.4085843\ttotal: 669ms\tremaining: 1.15s\n",
      "367:\tlearn: 0.4081664\ttotal: 670ms\tremaining: 1.15s\n",
      "368:\tlearn: 0.4074203\ttotal: 671ms\tremaining: 1.15s\n",
      "369:\tlearn: 0.4073279\ttotal: 672ms\tremaining: 1.14s\n",
      "370:\tlearn: 0.4071308\ttotal: 675ms\tremaining: 1.14s\n",
      "371:\tlearn: 0.4067064\ttotal: 676ms\tremaining: 1.14s\n",
      "372:\tlearn: 0.4066268\ttotal: 677ms\tremaining: 1.14s\n",
      "373:\tlearn: 0.4059086\ttotal: 678ms\tremaining: 1.14s\n",
      "374:\tlearn: 0.4053676\ttotal: 680ms\tremaining: 1.13s\n",
      "375:\tlearn: 0.4052778\ttotal: 681ms\tremaining: 1.13s\n",
      "376:\tlearn: 0.4046852\ttotal: 682ms\tremaining: 1.13s\n",
      "377:\tlearn: 0.4041706\ttotal: 684ms\tremaining: 1.12s\n",
      "378:\tlearn: 0.4035844\ttotal: 685ms\tremaining: 1.12s\n",
      "379:\tlearn: 0.4035034\ttotal: 686ms\tremaining: 1.12s\n",
      "380:\tlearn: 0.4033112\ttotal: 688ms\tremaining: 1.12s\n",
      "381:\tlearn: 0.4025055\ttotal: 690ms\tremaining: 1.12s\n",
      "382:\tlearn: 0.4022916\ttotal: 692ms\tremaining: 1.11s\n",
      "383:\tlearn: 0.4018587\ttotal: 693ms\tremaining: 1.11s\n",
      "384:\tlearn: 0.4016426\ttotal: 695ms\tremaining: 1.11s\n",
      "385:\tlearn: 0.4011180\ttotal: 696ms\tremaining: 1.11s\n",
      "386:\tlearn: 0.4007214\ttotal: 697ms\tremaining: 1.1s\n",
      "387:\tlearn: 0.4002929\ttotal: 699ms\tremaining: 1.1s\n",
      "388:\tlearn: 0.3999364\ttotal: 700ms\tremaining: 1.1s\n",
      "389:\tlearn: 0.3990708\ttotal: 701ms\tremaining: 1.1s\n",
      "390:\tlearn: 0.3983343\ttotal: 703ms\tremaining: 1.09s\n",
      "391:\tlearn: 0.3982271\ttotal: 705ms\tremaining: 1.09s\n",
      "392:\tlearn: 0.3978009\ttotal: 707ms\tremaining: 1.09s\n",
      "393:\tlearn: 0.3973548\ttotal: 708ms\tremaining: 1.09s\n",
      "394:\tlearn: 0.3971796\ttotal: 709ms\tremaining: 1.09s\n",
      "395:\tlearn: 0.3965375\ttotal: 711ms\tremaining: 1.08s\n",
      "396:\tlearn: 0.3960339\ttotal: 712ms\tremaining: 1.08s\n",
      "397:\tlearn: 0.3956675\ttotal: 714ms\tremaining: 1.08s\n",
      "398:\tlearn: 0.3955395\ttotal: 715ms\tremaining: 1.08s\n",
      "399:\tlearn: 0.3949747\ttotal: 716ms\tremaining: 1.07s\n",
      "400:\tlearn: 0.3945030\ttotal: 719ms\tremaining: 1.07s\n",
      "401:\tlearn: 0.3938230\ttotal: 721ms\tremaining: 1.07s\n",
      "402:\tlearn: 0.3932063\ttotal: 722ms\tremaining: 1.07s\n",
      "403:\tlearn: 0.3925774\ttotal: 723ms\tremaining: 1.07s\n",
      "404:\tlearn: 0.3923213\ttotal: 724ms\tremaining: 1.06s\n",
      "405:\tlearn: 0.3920367\ttotal: 726ms\tremaining: 1.06s\n",
      "406:\tlearn: 0.3915118\ttotal: 727ms\tremaining: 1.06s\n",
      "407:\tlearn: 0.3911610\ttotal: 728ms\tremaining: 1.06s\n",
      "408:\tlearn: 0.3905494\ttotal: 729ms\tremaining: 1.05s\n",
      "409:\tlearn: 0.3899354\ttotal: 731ms\tremaining: 1.05s\n",
      "410:\tlearn: 0.3896078\ttotal: 732ms\tremaining: 1.05s\n",
      "411:\tlearn: 0.3889304\ttotal: 735ms\tremaining: 1.05s\n",
      "412:\tlearn: 0.3886422\ttotal: 736ms\tremaining: 1.05s\n",
      "413:\tlearn: 0.3880359\ttotal: 738ms\tremaining: 1.04s\n",
      "414:\tlearn: 0.3876111\ttotal: 739ms\tremaining: 1.04s\n",
      "415:\tlearn: 0.3871641\ttotal: 740ms\tremaining: 1.04s\n",
      "416:\tlearn: 0.3869058\ttotal: 741ms\tremaining: 1.04s\n",
      "417:\tlearn: 0.3863499\ttotal: 743ms\tremaining: 1.03s\n",
      "418:\tlearn: 0.3859070\ttotal: 745ms\tremaining: 1.03s\n",
      "419:\tlearn: 0.3854827\ttotal: 746ms\tremaining: 1.03s\n",
      "420:\tlearn: 0.3846976\ttotal: 749ms\tremaining: 1.03s\n",
      "421:\tlearn: 0.3841777\ttotal: 751ms\tremaining: 1.03s\n",
      "422:\tlearn: 0.3839196\ttotal: 752ms\tremaining: 1.02s\n",
      "423:\tlearn: 0.3837310\ttotal: 753ms\tremaining: 1.02s\n",
      "424:\tlearn: 0.3834894\ttotal: 755ms\tremaining: 1.02s\n",
      "425:\tlearn: 0.3834359\ttotal: 756ms\tremaining: 1.02s\n",
      "426:\tlearn: 0.3828621\ttotal: 757ms\tremaining: 1.02s\n",
      "427:\tlearn: 0.3825236\ttotal: 758ms\tremaining: 1.01s\n",
      "428:\tlearn: 0.3821016\ttotal: 760ms\tremaining: 1.01s\n",
      "429:\tlearn: 0.3816778\ttotal: 762ms\tremaining: 1.01s\n",
      "430:\tlearn: 0.3816131\ttotal: 764ms\tremaining: 1.01s\n",
      "431:\tlearn: 0.3811727\ttotal: 765ms\tremaining: 1.01s\n",
      "432:\tlearn: 0.3803652\ttotal: 767ms\tremaining: 1s\n",
      "433:\tlearn: 0.3801460\ttotal: 768ms\tremaining: 1s\n",
      "434:\tlearn: 0.3798598\ttotal: 769ms\tremaining: 999ms\n",
      "435:\tlearn: 0.3794064\ttotal: 770ms\tremaining: 997ms\n",
      "436:\tlearn: 0.3790848\ttotal: 772ms\tremaining: 994ms\n",
      "437:\tlearn: 0.3786514\ttotal: 773ms\tremaining: 992ms\n",
      "438:\tlearn: 0.3785321\ttotal: 774ms\tremaining: 990ms\n",
      "439:\tlearn: 0.3781266\ttotal: 776ms\tremaining: 988ms\n",
      "440:\tlearn: 0.3780628\ttotal: 778ms\tremaining: 987ms\n",
      "441:\tlearn: 0.3775038\ttotal: 780ms\tremaining: 985ms\n",
      "442:\tlearn: 0.3772085\ttotal: 781ms\tremaining: 982ms\n",
      "443:\tlearn: 0.3770299\ttotal: 783ms\tremaining: 980ms\n",
      "444:\tlearn: 0.3765692\ttotal: 784ms\tremaining: 978ms\n",
      "445:\tlearn: 0.3762956\ttotal: 786ms\tremaining: 976ms\n",
      "446:\tlearn: 0.3762380\ttotal: 787ms\tremaining: 973ms\n",
      "447:\tlearn: 0.3758692\ttotal: 788ms\tremaining: 971ms\n",
      "448:\tlearn: 0.3755434\ttotal: 789ms\tremaining: 968ms\n",
      "449:\tlearn: 0.3747795\ttotal: 791ms\tremaining: 966ms\n",
      "450:\tlearn: 0.3743098\ttotal: 793ms\tremaining: 966ms\n",
      "451:\tlearn: 0.3735457\ttotal: 795ms\tremaining: 963ms\n",
      "452:\tlearn: 0.3730492\ttotal: 796ms\tremaining: 961ms\n",
      "453:\tlearn: 0.3729489\ttotal: 797ms\tremaining: 959ms\n",
      "454:\tlearn: 0.3727180\ttotal: 798ms\tremaining: 956ms\n",
      "455:\tlearn: 0.3722560\ttotal: 800ms\tremaining: 954ms\n",
      "456:\tlearn: 0.3722208\ttotal: 801ms\tremaining: 952ms\n",
      "457:\tlearn: 0.3718262\ttotal: 802ms\tremaining: 950ms\n",
      "458:\tlearn: 0.3714193\ttotal: 804ms\tremaining: 947ms\n",
      "459:\tlearn: 0.3706823\ttotal: 805ms\tremaining: 945ms\n",
      "460:\tlearn: 0.3701229\ttotal: 807ms\tremaining: 944ms\n",
      "461:\tlearn: 0.3698385\ttotal: 809ms\tremaining: 942ms\n",
      "462:\tlearn: 0.3694369\ttotal: 810ms\tremaining: 940ms\n",
      "463:\tlearn: 0.3693071\ttotal: 812ms\tremaining: 938ms\n",
      "464:\tlearn: 0.3690403\ttotal: 813ms\tremaining: 935ms\n",
      "465:\tlearn: 0.3686843\ttotal: 814ms\tremaining: 933ms\n",
      "466:\tlearn: 0.3681110\ttotal: 815ms\tremaining: 931ms\n",
      "467:\tlearn: 0.3677542\ttotal: 817ms\tremaining: 928ms\n",
      "468:\tlearn: 0.3674825\ttotal: 818ms\tremaining: 926ms\n",
      "469:\tlearn: 0.3673704\ttotal: 820ms\tremaining: 924ms\n",
      "470:\tlearn: 0.3669644\ttotal: 822ms\tremaining: 923ms\n",
      "471:\tlearn: 0.3668895\ttotal: 824ms\tremaining: 922ms\n",
      "472:\tlearn: 0.3664264\ttotal: 825ms\tremaining: 919ms\n",
      "473:\tlearn: 0.3661996\ttotal: 826ms\tremaining: 917ms\n",
      "474:\tlearn: 0.3655793\ttotal: 828ms\tremaining: 915ms\n",
      "475:\tlearn: 0.3651123\ttotal: 829ms\tremaining: 912ms\n",
      "476:\tlearn: 0.3647920\ttotal: 830ms\tremaining: 910ms\n",
      "477:\tlearn: 0.3643975\ttotal: 832ms\tremaining: 908ms\n",
      "478:\tlearn: 0.3637005\ttotal: 833ms\tremaining: 906ms\n",
      "479:\tlearn: 0.3635080\ttotal: 834ms\tremaining: 904ms\n",
      "480:\tlearn: 0.3633681\ttotal: 836ms\tremaining: 902ms\n",
      "481:\tlearn: 0.3632385\ttotal: 839ms\tremaining: 901ms\n",
      "482:\tlearn: 0.3630618\ttotal: 840ms\tremaining: 899ms\n",
      "483:\tlearn: 0.3627563\ttotal: 841ms\tremaining: 897ms\n",
      "484:\tlearn: 0.3623609\ttotal: 843ms\tremaining: 895ms\n",
      "485:\tlearn: 0.3620696\ttotal: 844ms\tremaining: 893ms\n",
      "486:\tlearn: 0.3617265\ttotal: 845ms\tremaining: 891ms\n",
      "487:\tlearn: 0.3612970\ttotal: 847ms\tremaining: 888ms\n",
      "488:\tlearn: 0.3609539\ttotal: 848ms\tremaining: 886ms\n",
      "489:\tlearn: 0.3605657\ttotal: 849ms\tremaining: 884ms\n",
      "490:\tlearn: 0.3600865\ttotal: 851ms\tremaining: 883ms\n",
      "491:\tlearn: 0.3596900\ttotal: 853ms\tremaining: 881ms\n",
      "492:\tlearn: 0.3594406\ttotal: 854ms\tremaining: 879ms\n",
      "493:\tlearn: 0.3591234\ttotal: 856ms\tremaining: 876ms\n",
      "494:\tlearn: 0.3587335\ttotal: 857ms\tremaining: 874ms\n",
      "495:\tlearn: 0.3581360\ttotal: 858ms\tremaining: 872ms\n",
      "496:\tlearn: 0.3576036\ttotal: 859ms\tremaining: 870ms\n",
      "497:\tlearn: 0.3571222\ttotal: 861ms\tremaining: 868ms\n",
      "498:\tlearn: 0.3566176\ttotal: 862ms\tremaining: 866ms\n",
      "499:\tlearn: 0.3563237\ttotal: 864ms\tremaining: 864ms\n",
      "500:\tlearn: 0.3557623\ttotal: 866ms\tremaining: 863ms\n",
      "501:\tlearn: 0.3554802\ttotal: 868ms\tremaining: 861ms\n",
      "502:\tlearn: 0.3551736\ttotal: 869ms\tremaining: 859ms\n",
      "503:\tlearn: 0.3546576\ttotal: 871ms\tremaining: 857ms\n",
      "504:\tlearn: 0.3542201\ttotal: 872ms\tremaining: 855ms\n",
      "505:\tlearn: 0.3537802\ttotal: 874ms\tremaining: 853ms\n",
      "506:\tlearn: 0.3536291\ttotal: 875ms\tremaining: 851ms\n",
      "507:\tlearn: 0.3533092\ttotal: 876ms\tremaining: 849ms\n",
      "508:\tlearn: 0.3529799\ttotal: 878ms\tremaining: 847ms\n",
      "509:\tlearn: 0.3526824\ttotal: 879ms\tremaining: 845ms\n",
      "510:\tlearn: 0.3523158\ttotal: 882ms\tremaining: 844ms\n",
      "511:\tlearn: 0.3519800\ttotal: 883ms\tremaining: 842ms\n",
      "512:\tlearn: 0.3516797\ttotal: 885ms\tremaining: 840ms\n",
      "513:\tlearn: 0.3514226\ttotal: 886ms\tremaining: 838ms\n",
      "514:\tlearn: 0.3511593\ttotal: 887ms\tremaining: 836ms\n",
      "515:\tlearn: 0.3509734\ttotal: 889ms\tremaining: 834ms\n",
      "516:\tlearn: 0.3507087\ttotal: 890ms\tremaining: 832ms\n",
      "517:\tlearn: 0.3502355\ttotal: 892ms\tremaining: 830ms\n",
      "518:\tlearn: 0.3501210\ttotal: 893ms\tremaining: 828ms\n",
      "519:\tlearn: 0.3498227\ttotal: 896ms\tremaining: 827ms\n",
      "520:\tlearn: 0.3494149\ttotal: 897ms\tremaining: 825ms\n",
      "521:\tlearn: 0.3489929\ttotal: 898ms\tremaining: 822ms\n",
      "522:\tlearn: 0.3487668\ttotal: 899ms\tremaining: 820ms\n",
      "523:\tlearn: 0.3486471\ttotal: 901ms\tremaining: 818ms\n",
      "524:\tlearn: 0.3483763\ttotal: 902ms\tremaining: 816ms\n",
      "525:\tlearn: 0.3479560\ttotal: 903ms\tremaining: 814ms\n",
      "526:\tlearn: 0.3477767\ttotal: 904ms\tremaining: 812ms\n",
      "527:\tlearn: 0.3476864\ttotal: 906ms\tremaining: 810ms\n",
      "528:\tlearn: 0.3474143\ttotal: 907ms\tremaining: 807ms\n",
      "529:\tlearn: 0.3473132\ttotal: 908ms\tremaining: 805ms\n",
      "530:\tlearn: 0.3466770\ttotal: 911ms\tremaining: 804ms\n",
      "531:\tlearn: 0.3465805\ttotal: 912ms\tremaining: 802ms\n",
      "532:\tlearn: 0.3463065\ttotal: 913ms\tremaining: 800ms\n",
      "533:\tlearn: 0.3462366\ttotal: 914ms\tremaining: 798ms\n",
      "534:\tlearn: 0.3461914\ttotal: 916ms\tremaining: 796ms\n",
      "535:\tlearn: 0.3457222\ttotal: 917ms\tremaining: 793ms\n",
      "536:\tlearn: 0.3455334\ttotal: 918ms\tremaining: 792ms\n",
      "537:\tlearn: 0.3454422\ttotal: 920ms\tremaining: 790ms\n",
      "538:\tlearn: 0.3451964\ttotal: 921ms\tremaining: 788ms\n",
      "539:\tlearn: 0.3448028\ttotal: 922ms\tremaining: 786ms\n",
      "540:\tlearn: 0.3443681\ttotal: 924ms\tremaining: 784ms\n",
      "541:\tlearn: 0.3443449\ttotal: 925ms\tremaining: 782ms\n",
      "542:\tlearn: 0.3436582\ttotal: 927ms\tremaining: 780ms\n",
      "543:\tlearn: 0.3431805\ttotal: 928ms\tremaining: 778ms\n",
      "544:\tlearn: 0.3428494\ttotal: 929ms\tremaining: 776ms\n",
      "545:\tlearn: 0.3426635\ttotal: 930ms\tremaining: 774ms\n",
      "546:\tlearn: 0.3424816\ttotal: 931ms\tremaining: 771ms\n",
      "547:\tlearn: 0.3419220\ttotal: 933ms\tremaining: 769ms\n",
      "548:\tlearn: 0.3417101\ttotal: 934ms\tremaining: 767ms\n",
      "549:\tlearn: 0.3416543\ttotal: 935ms\tremaining: 765ms\n",
      "550:\tlearn: 0.3411241\ttotal: 937ms\tremaining: 763ms\n",
      "551:\tlearn: 0.3407616\ttotal: 939ms\tremaining: 762ms\n",
      "552:\tlearn: 0.3406838\ttotal: 940ms\tremaining: 760ms\n",
      "553:\tlearn: 0.3403703\ttotal: 941ms\tremaining: 758ms\n",
      "554:\tlearn: 0.3402379\ttotal: 942ms\tremaining: 756ms\n",
      "555:\tlearn: 0.3395757\ttotal: 943ms\tremaining: 753ms\n",
      "556:\tlearn: 0.3395170\ttotal: 944ms\tremaining: 751ms\n",
      "557:\tlearn: 0.3392434\ttotal: 946ms\tremaining: 749ms\n",
      "558:\tlearn: 0.3387791\ttotal: 947ms\tremaining: 747ms\n",
      "559:\tlearn: 0.3382281\ttotal: 948ms\tremaining: 745ms\n",
      "560:\tlearn: 0.3379215\ttotal: 949ms\tremaining: 743ms\n",
      "561:\tlearn: 0.3375380\ttotal: 950ms\tremaining: 741ms\n",
      "562:\tlearn: 0.3374361\ttotal: 952ms\tremaining: 739ms\n",
      "563:\tlearn: 0.3373794\ttotal: 953ms\tremaining: 737ms\n",
      "564:\tlearn: 0.3369691\ttotal: 955ms\tremaining: 735ms\n",
      "565:\tlearn: 0.3366578\ttotal: 956ms\tremaining: 733ms\n",
      "566:\tlearn: 0.3365371\ttotal: 957ms\tremaining: 731ms\n",
      "567:\tlearn: 0.3362457\ttotal: 958ms\tremaining: 729ms\n",
      "568:\tlearn: 0.3358320\ttotal: 959ms\tremaining: 727ms\n",
      "569:\tlearn: 0.3353611\ttotal: 961ms\tremaining: 725ms\n",
      "570:\tlearn: 0.3349957\ttotal: 962ms\tremaining: 723ms\n",
      "571:\tlearn: 0.3346620\ttotal: 963ms\tremaining: 721ms\n",
      "572:\tlearn: 0.3343281\ttotal: 964ms\tremaining: 719ms\n",
      "573:\tlearn: 0.3340756\ttotal: 966ms\tremaining: 717ms\n",
      "574:\tlearn: 0.3336265\ttotal: 967ms\tremaining: 715ms\n",
      "575:\tlearn: 0.3336057\ttotal: 968ms\tremaining: 713ms\n",
      "576:\tlearn: 0.3331416\ttotal: 969ms\tremaining: 710ms\n",
      "577:\tlearn: 0.3328734\ttotal: 970ms\tremaining: 708ms\n",
      "578:\tlearn: 0.3326140\ttotal: 971ms\tremaining: 706ms\n",
      "579:\tlearn: 0.3323992\ttotal: 973ms\tremaining: 704ms\n",
      "580:\tlearn: 0.3320433\ttotal: 974ms\tremaining: 702ms\n",
      "581:\tlearn: 0.3317277\ttotal: 975ms\tremaining: 700ms\n",
      "582:\tlearn: 0.3316476\ttotal: 976ms\tremaining: 698ms\n",
      "583:\tlearn: 0.3310279\ttotal: 978ms\tremaining: 697ms\n",
      "584:\tlearn: 0.3307080\ttotal: 979ms\tremaining: 695ms\n",
      "585:\tlearn: 0.3306641\ttotal: 980ms\tremaining: 693ms\n",
      "586:\tlearn: 0.3305886\ttotal: 982ms\tremaining: 691ms\n",
      "587:\tlearn: 0.3303995\ttotal: 983ms\tremaining: 689ms\n",
      "588:\tlearn: 0.3301597\ttotal: 984ms\tremaining: 687ms\n",
      "589:\tlearn: 0.3297739\ttotal: 985ms\tremaining: 685ms\n",
      "590:\tlearn: 0.3292275\ttotal: 987ms\tremaining: 683ms\n",
      "591:\tlearn: 0.3289009\ttotal: 988ms\tremaining: 681ms\n",
      "592:\tlearn: 0.3284634\ttotal: 989ms\tremaining: 679ms\n",
      "593:\tlearn: 0.3281922\ttotal: 990ms\tremaining: 677ms\n",
      "594:\tlearn: 0.3280996\ttotal: 992ms\tremaining: 675ms\n",
      "595:\tlearn: 0.3277375\ttotal: 993ms\tremaining: 673ms\n",
      "596:\tlearn: 0.3276232\ttotal: 994ms\tremaining: 671ms\n",
      "597:\tlearn: 0.3270966\ttotal: 995ms\tremaining: 669ms\n",
      "598:\tlearn: 0.3269237\ttotal: 996ms\tremaining: 667ms\n",
      "599:\tlearn: 0.3266635\ttotal: 998ms\tremaining: 665ms\n",
      "600:\tlearn: 0.3261692\ttotal: 999ms\tremaining: 663ms\n",
      "601:\tlearn: 0.3256742\ttotal: 1s\tremaining: 661ms\n",
      "602:\tlearn: 0.3252495\ttotal: 1s\tremaining: 659ms\n",
      "603:\tlearn: 0.3248134\ttotal: 1s\tremaining: 658ms\n",
      "604:\tlearn: 0.3245172\ttotal: 1.01s\tremaining: 663ms\n",
      "605:\tlearn: 0.3244193\ttotal: 1.02s\tremaining: 662ms\n",
      "606:\tlearn: 0.3243713\ttotal: 1.02s\tremaining: 660ms\n",
      "607:\tlearn: 0.3239208\ttotal: 1.02s\tremaining: 659ms\n",
      "608:\tlearn: 0.3234184\ttotal: 1.02s\tremaining: 657ms\n",
      "609:\tlearn: 0.3231014\ttotal: 1.03s\tremaining: 658ms\n",
      "610:\tlearn: 0.3229522\ttotal: 1.03s\tremaining: 657ms\n",
      "611:\tlearn: 0.3226665\ttotal: 1.03s\tremaining: 655ms\n",
      "612:\tlearn: 0.3222077\ttotal: 1.03s\tremaining: 654ms\n",
      "613:\tlearn: 0.3217077\ttotal: 1.04s\tremaining: 653ms\n",
      "614:\tlearn: 0.3213302\ttotal: 1.04s\tremaining: 651ms\n",
      "615:\tlearn: 0.3212370\ttotal: 1.04s\tremaining: 650ms\n",
      "616:\tlearn: 0.3208332\ttotal: 1.04s\tremaining: 648ms\n",
      "617:\tlearn: 0.3205090\ttotal: 1.05s\tremaining: 647ms\n",
      "618:\tlearn: 0.3202795\ttotal: 1.05s\tremaining: 645ms\n",
      "619:\tlearn: 0.3197605\ttotal: 1.05s\tremaining: 644ms\n",
      "620:\tlearn: 0.3194839\ttotal: 1.05s\tremaining: 642ms\n",
      "621:\tlearn: 0.3192216\ttotal: 1.05s\tremaining: 640ms\n",
      "622:\tlearn: 0.3188362\ttotal: 1.05s\tremaining: 638ms\n",
      "623:\tlearn: 0.3185064\ttotal: 1.06s\tremaining: 638ms\n",
      "624:\tlearn: 0.3181714\ttotal: 1.06s\tremaining: 637ms\n",
      "625:\tlearn: 0.3178520\ttotal: 1.06s\tremaining: 635ms\n",
      "626:\tlearn: 0.3177141\ttotal: 1.06s\tremaining: 633ms\n",
      "627:\tlearn: 0.3175036\ttotal: 1.06s\tremaining: 631ms\n",
      "628:\tlearn: 0.3172999\ttotal: 1.07s\tremaining: 629ms\n",
      "629:\tlearn: 0.3172417\ttotal: 1.07s\tremaining: 627ms\n",
      "630:\tlearn: 0.3169122\ttotal: 1.07s\tremaining: 626ms\n",
      "631:\tlearn: 0.3168303\ttotal: 1.07s\tremaining: 624ms\n",
      "632:\tlearn: 0.3167832\ttotal: 1.07s\tremaining: 622ms\n",
      "633:\tlearn: 0.3164618\ttotal: 1.07s\tremaining: 620ms\n",
      "634:\tlearn: 0.3160193\ttotal: 1.07s\tremaining: 618ms\n",
      "635:\tlearn: 0.3159986\ttotal: 1.08s\tremaining: 616ms\n",
      "636:\tlearn: 0.3156884\ttotal: 1.08s\tremaining: 614ms\n",
      "637:\tlearn: 0.3152646\ttotal: 1.08s\tremaining: 612ms\n",
      "638:\tlearn: 0.3151292\ttotal: 1.08s\tremaining: 610ms\n",
      "639:\tlearn: 0.3151088\ttotal: 1.08s\tremaining: 608ms\n",
      "640:\tlearn: 0.3147386\ttotal: 1.08s\tremaining: 606ms\n",
      "641:\tlearn: 0.3143114\ttotal: 1.08s\tremaining: 604ms\n",
      "642:\tlearn: 0.3142907\ttotal: 1.08s\tremaining: 602ms\n",
      "643:\tlearn: 0.3142729\ttotal: 1.09s\tremaining: 600ms\n",
      "644:\tlearn: 0.3142598\ttotal: 1.09s\tremaining: 599ms\n",
      "645:\tlearn: 0.3139813\ttotal: 1.09s\tremaining: 597ms\n",
      "646:\tlearn: 0.3136661\ttotal: 1.09s\tremaining: 595ms\n",
      "647:\tlearn: 0.3136532\ttotal: 1.09s\tremaining: 593ms\n",
      "648:\tlearn: 0.3134820\ttotal: 1.09s\tremaining: 591ms\n",
      "649:\tlearn: 0.3130869\ttotal: 1.09s\tremaining: 589ms\n",
      "650:\tlearn: 0.3127262\ttotal: 1.09s\tremaining: 587ms\n",
      "651:\tlearn: 0.3124447\ttotal: 1.09s\tremaining: 585ms\n",
      "652:\tlearn: 0.3121885\ttotal: 1.1s\tremaining: 583ms\n",
      "653:\tlearn: 0.3117156\ttotal: 1.1s\tremaining: 581ms\n",
      "654:\tlearn: 0.3112924\ttotal: 1.1s\tremaining: 579ms\n",
      "655:\tlearn: 0.3111614\ttotal: 1.1s\tremaining: 577ms\n",
      "656:\tlearn: 0.3107648\ttotal: 1.1s\tremaining: 576ms\n",
      "657:\tlearn: 0.3104610\ttotal: 1.1s\tremaining: 574ms\n",
      "658:\tlearn: 0.3102112\ttotal: 1.1s\tremaining: 572ms\n",
      "659:\tlearn: 0.3101656\ttotal: 1.11s\tremaining: 570ms\n",
      "660:\tlearn: 0.3097207\ttotal: 1.11s\tremaining: 568ms\n",
      "661:\tlearn: 0.3094940\ttotal: 1.11s\tremaining: 566ms\n",
      "662:\tlearn: 0.3093829\ttotal: 1.11s\tremaining: 564ms\n",
      "663:\tlearn: 0.3090654\ttotal: 1.11s\tremaining: 562ms\n",
      "664:\tlearn: 0.3087792\ttotal: 1.11s\tremaining: 560ms\n",
      "665:\tlearn: 0.3084782\ttotal: 1.11s\tremaining: 558ms\n",
      "666:\tlearn: 0.3083554\ttotal: 1.11s\tremaining: 557ms\n",
      "667:\tlearn: 0.3080353\ttotal: 1.11s\tremaining: 555ms\n",
      "668:\tlearn: 0.3078477\ttotal: 1.12s\tremaining: 553ms\n",
      "669:\tlearn: 0.3075445\ttotal: 1.12s\tremaining: 551ms\n",
      "670:\tlearn: 0.3072265\ttotal: 1.12s\tremaining: 549ms\n",
      "671:\tlearn: 0.3068648\ttotal: 1.12s\tremaining: 548ms\n",
      "672:\tlearn: 0.3065500\ttotal: 1.12s\tremaining: 546ms\n",
      "673:\tlearn: 0.3060429\ttotal: 1.13s\tremaining: 545ms\n",
      "674:\tlearn: 0.3058203\ttotal: 1.13s\tremaining: 543ms\n",
      "675:\tlearn: 0.3057204\ttotal: 1.13s\tremaining: 541ms\n",
      "676:\tlearn: 0.3053130\ttotal: 1.13s\tremaining: 540ms\n",
      "677:\tlearn: 0.3050717\ttotal: 1.13s\tremaining: 539ms\n",
      "678:\tlearn: 0.3049263\ttotal: 1.14s\tremaining: 537ms\n",
      "679:\tlearn: 0.3048898\ttotal: 1.14s\tremaining: 535ms\n",
      "680:\tlearn: 0.3046106\ttotal: 1.14s\tremaining: 534ms\n",
      "681:\tlearn: 0.3045313\ttotal: 1.14s\tremaining: 532ms\n",
      "682:\tlearn: 0.3042079\ttotal: 1.14s\tremaining: 530ms\n",
      "683:\tlearn: 0.3038608\ttotal: 1.15s\tremaining: 529ms\n",
      "684:\tlearn: 0.3034313\ttotal: 1.15s\tremaining: 528ms\n",
      "685:\tlearn: 0.3031082\ttotal: 1.15s\tremaining: 526ms\n",
      "686:\tlearn: 0.3030262\ttotal: 1.15s\tremaining: 524ms\n",
      "687:\tlearn: 0.3026767\ttotal: 1.15s\tremaining: 522ms\n",
      "688:\tlearn: 0.3023931\ttotal: 1.15s\tremaining: 520ms\n",
      "689:\tlearn: 0.3022973\ttotal: 1.15s\tremaining: 518ms\n",
      "690:\tlearn: 0.3021523\ttotal: 1.16s\tremaining: 517ms\n",
      "691:\tlearn: 0.3020459\ttotal: 1.16s\tremaining: 515ms\n",
      "692:\tlearn: 0.3019544\ttotal: 1.16s\tremaining: 514ms\n",
      "693:\tlearn: 0.3016100\ttotal: 1.16s\tremaining: 512ms\n",
      "694:\tlearn: 0.3013332\ttotal: 1.16s\tremaining: 510ms\n",
      "695:\tlearn: 0.3012072\ttotal: 1.16s\tremaining: 509ms\n",
      "696:\tlearn: 0.3009127\ttotal: 1.17s\tremaining: 507ms\n",
      "697:\tlearn: 0.3008085\ttotal: 1.17s\tremaining: 505ms\n",
      "698:\tlearn: 0.3005216\ttotal: 1.17s\tremaining: 503ms\n",
      "699:\tlearn: 0.3004278\ttotal: 1.17s\tremaining: 501ms\n",
      "700:\tlearn: 0.2998850\ttotal: 1.17s\tremaining: 499ms\n",
      "701:\tlearn: 0.2997930\ttotal: 1.17s\tremaining: 498ms\n",
      "702:\tlearn: 0.2996807\ttotal: 1.17s\tremaining: 496ms\n",
      "703:\tlearn: 0.2995100\ttotal: 1.17s\tremaining: 494ms\n",
      "704:\tlearn: 0.2993924\ttotal: 1.18s\tremaining: 492ms\n",
      "705:\tlearn: 0.2991130\ttotal: 1.18s\tremaining: 490ms\n",
      "706:\tlearn: 0.2988123\ttotal: 1.18s\tremaining: 488ms\n",
      "707:\tlearn: 0.2985813\ttotal: 1.18s\tremaining: 487ms\n",
      "708:\tlearn: 0.2983111\ttotal: 1.18s\tremaining: 485ms\n",
      "709:\tlearn: 0.2978563\ttotal: 1.18s\tremaining: 483ms\n",
      "710:\tlearn: 0.2975440\ttotal: 1.18s\tremaining: 481ms\n",
      "711:\tlearn: 0.2974690\ttotal: 1.18s\tremaining: 479ms\n",
      "712:\tlearn: 0.2974078\ttotal: 1.19s\tremaining: 478ms\n",
      "713:\tlearn: 0.2971174\ttotal: 1.19s\tremaining: 476ms\n",
      "714:\tlearn: 0.2970640\ttotal: 1.19s\tremaining: 474ms\n",
      "715:\tlearn: 0.2967963\ttotal: 1.19s\tremaining: 472ms\n",
      "716:\tlearn: 0.2964389\ttotal: 1.19s\tremaining: 470ms\n",
      "717:\tlearn: 0.2962961\ttotal: 1.19s\tremaining: 468ms\n",
      "718:\tlearn: 0.2961671\ttotal: 1.19s\tremaining: 467ms\n",
      "719:\tlearn: 0.2961042\ttotal: 1.2s\tremaining: 465ms\n",
      "720:\tlearn: 0.2959052\ttotal: 1.2s\tremaining: 463ms\n",
      "721:\tlearn: 0.2957298\ttotal: 1.2s\tremaining: 461ms\n",
      "722:\tlearn: 0.2955194\ttotal: 1.2s\tremaining: 459ms\n",
      "723:\tlearn: 0.2954483\ttotal: 1.2s\tremaining: 458ms\n",
      "724:\tlearn: 0.2952603\ttotal: 1.2s\tremaining: 456ms\n",
      "725:\tlearn: 0.2949288\ttotal: 1.2s\tremaining: 454ms\n",
      "726:\tlearn: 0.2945479\ttotal: 1.2s\tremaining: 452ms\n",
      "727:\tlearn: 0.2944863\ttotal: 1.2s\tremaining: 450ms\n",
      "728:\tlearn: 0.2944515\ttotal: 1.21s\tremaining: 448ms\n",
      "729:\tlearn: 0.2938865\ttotal: 1.21s\tremaining: 447ms\n",
      "730:\tlearn: 0.2933991\ttotal: 1.21s\tremaining: 445ms\n",
      "731:\tlearn: 0.2931101\ttotal: 1.21s\tremaining: 443ms\n",
      "732:\tlearn: 0.2927816\ttotal: 1.21s\tremaining: 441ms\n",
      "733:\tlearn: 0.2927279\ttotal: 1.21s\tremaining: 439ms\n",
      "734:\tlearn: 0.2926889\ttotal: 1.21s\tremaining: 438ms\n",
      "735:\tlearn: 0.2924111\ttotal: 1.22s\tremaining: 436ms\n",
      "736:\tlearn: 0.2919853\ttotal: 1.22s\tremaining: 434ms\n",
      "737:\tlearn: 0.2917842\ttotal: 1.22s\tremaining: 432ms\n",
      "738:\tlearn: 0.2917515\ttotal: 1.22s\tremaining: 431ms\n",
      "739:\tlearn: 0.2916594\ttotal: 1.22s\tremaining: 429ms\n",
      "740:\tlearn: 0.2915621\ttotal: 1.22s\tremaining: 427ms\n",
      "741:\tlearn: 0.2914439\ttotal: 1.22s\tremaining: 425ms\n",
      "742:\tlearn: 0.2913171\ttotal: 1.23s\tremaining: 424ms\n",
      "743:\tlearn: 0.2912603\ttotal: 1.23s\tremaining: 422ms\n",
      "744:\tlearn: 0.2911273\ttotal: 1.23s\tremaining: 420ms\n",
      "745:\tlearn: 0.2909496\ttotal: 1.23s\tremaining: 419ms\n",
      "746:\tlearn: 0.2906702\ttotal: 1.23s\tremaining: 417ms\n",
      "747:\tlearn: 0.2903251\ttotal: 1.23s\tremaining: 415ms\n",
      "748:\tlearn: 0.2899889\ttotal: 1.23s\tremaining: 413ms\n",
      "749:\tlearn: 0.2896463\ttotal: 1.24s\tremaining: 412ms\n",
      "750:\tlearn: 0.2896212\ttotal: 1.24s\tremaining: 410ms\n",
      "751:\tlearn: 0.2894644\ttotal: 1.24s\tremaining: 408ms\n",
      "752:\tlearn: 0.2894236\ttotal: 1.24s\tremaining: 406ms\n",
      "753:\tlearn: 0.2890064\ttotal: 1.24s\tremaining: 405ms\n",
      "754:\tlearn: 0.2884435\ttotal: 1.24s\tremaining: 403ms\n",
      "755:\tlearn: 0.2883835\ttotal: 1.24s\tremaining: 401ms\n",
      "756:\tlearn: 0.2881654\ttotal: 1.24s\tremaining: 400ms\n",
      "757:\tlearn: 0.2880175\ttotal: 1.25s\tremaining: 398ms\n",
      "758:\tlearn: 0.2878959\ttotal: 1.25s\tremaining: 396ms\n",
      "759:\tlearn: 0.2877856\ttotal: 1.25s\tremaining: 394ms\n",
      "760:\tlearn: 0.2876524\ttotal: 1.25s\tremaining: 392ms\n",
      "761:\tlearn: 0.2872980\ttotal: 1.25s\tremaining: 391ms\n",
      "762:\tlearn: 0.2869154\ttotal: 1.25s\tremaining: 389ms\n",
      "763:\tlearn: 0.2868229\ttotal: 1.25s\tremaining: 387ms\n",
      "764:\tlearn: 0.2867326\ttotal: 1.25s\tremaining: 385ms\n",
      "765:\tlearn: 0.2866835\ttotal: 1.25s\tremaining: 384ms\n",
      "766:\tlearn: 0.2866026\ttotal: 1.26s\tremaining: 382ms\n",
      "767:\tlearn: 0.2865481\ttotal: 1.26s\tremaining: 380ms\n",
      "768:\tlearn: 0.2864450\ttotal: 1.26s\tremaining: 378ms\n",
      "769:\tlearn: 0.2861788\ttotal: 1.26s\tremaining: 377ms\n",
      "770:\tlearn: 0.2860608\ttotal: 1.26s\tremaining: 375ms\n",
      "771:\tlearn: 0.2857857\ttotal: 1.26s\tremaining: 373ms\n",
      "772:\tlearn: 0.2855332\ttotal: 1.26s\tremaining: 371ms\n",
      "773:\tlearn: 0.2853519\ttotal: 1.27s\tremaining: 370ms\n",
      "774:\tlearn: 0.2853172\ttotal: 1.27s\tremaining: 368ms\n",
      "775:\tlearn: 0.2849598\ttotal: 1.27s\tremaining: 366ms\n",
      "776:\tlearn: 0.2846119\ttotal: 1.27s\tremaining: 364ms\n",
      "777:\tlearn: 0.2844609\ttotal: 1.27s\tremaining: 363ms\n",
      "778:\tlearn: 0.2842208\ttotal: 1.27s\tremaining: 361ms\n",
      "779:\tlearn: 0.2838266\ttotal: 1.27s\tremaining: 359ms\n",
      "780:\tlearn: 0.2836651\ttotal: 1.27s\tremaining: 358ms\n",
      "781:\tlearn: 0.2835168\ttotal: 1.28s\tremaining: 356ms\n",
      "782:\tlearn: 0.2833817\ttotal: 1.28s\tremaining: 354ms\n",
      "783:\tlearn: 0.2833315\ttotal: 1.28s\tremaining: 353ms\n",
      "784:\tlearn: 0.2831169\ttotal: 1.28s\tremaining: 351ms\n",
      "785:\tlearn: 0.2827573\ttotal: 1.28s\tremaining: 349ms\n",
      "786:\tlearn: 0.2827241\ttotal: 1.28s\tremaining: 347ms\n",
      "787:\tlearn: 0.2826977\ttotal: 1.28s\tremaining: 346ms\n",
      "788:\tlearn: 0.2824745\ttotal: 1.29s\tremaining: 344ms\n",
      "789:\tlearn: 0.2822040\ttotal: 1.29s\tremaining: 342ms\n",
      "790:\tlearn: 0.2819672\ttotal: 1.29s\tremaining: 340ms\n",
      "791:\tlearn: 0.2816704\ttotal: 1.29s\tremaining: 339ms\n",
      "792:\tlearn: 0.2812901\ttotal: 1.29s\tremaining: 337ms\n",
      "793:\tlearn: 0.2812464\ttotal: 1.29s\tremaining: 335ms\n",
      "794:\tlearn: 0.2809479\ttotal: 1.29s\tremaining: 334ms\n",
      "795:\tlearn: 0.2808928\ttotal: 1.29s\tremaining: 332ms\n",
      "796:\tlearn: 0.2805838\ttotal: 1.3s\tremaining: 330ms\n",
      "797:\tlearn: 0.2801493\ttotal: 1.3s\tremaining: 328ms\n",
      "798:\tlearn: 0.2800266\ttotal: 1.3s\tremaining: 327ms\n",
      "799:\tlearn: 0.2797582\ttotal: 1.3s\tremaining: 325ms\n",
      "800:\tlearn: 0.2796840\ttotal: 1.3s\tremaining: 323ms\n",
      "801:\tlearn: 0.2795013\ttotal: 1.3s\tremaining: 322ms\n",
      "802:\tlearn: 0.2793537\ttotal: 1.31s\tremaining: 320ms\n",
      "803:\tlearn: 0.2791181\ttotal: 1.31s\tremaining: 319ms\n",
      "804:\tlearn: 0.2789444\ttotal: 1.31s\tremaining: 317ms\n",
      "805:\tlearn: 0.2789239\ttotal: 1.31s\tremaining: 315ms\n",
      "806:\tlearn: 0.2787757\ttotal: 1.31s\tremaining: 314ms\n",
      "807:\tlearn: 0.2782178\ttotal: 1.31s\tremaining: 312ms\n",
      "808:\tlearn: 0.2779514\ttotal: 1.31s\tremaining: 310ms\n",
      "809:\tlearn: 0.2779298\ttotal: 1.31s\tremaining: 309ms\n",
      "810:\tlearn: 0.2777578\ttotal: 1.32s\tremaining: 307ms\n",
      "811:\tlearn: 0.2777145\ttotal: 1.32s\tremaining: 305ms\n",
      "812:\tlearn: 0.2774686\ttotal: 1.32s\tremaining: 304ms\n",
      "813:\tlearn: 0.2772960\ttotal: 1.32s\tremaining: 302ms\n",
      "814:\tlearn: 0.2771593\ttotal: 1.32s\tremaining: 300ms\n",
      "815:\tlearn: 0.2770892\ttotal: 1.32s\tremaining: 299ms\n",
      "816:\tlearn: 0.2770346\ttotal: 1.32s\tremaining: 297ms\n",
      "817:\tlearn: 0.2769480\ttotal: 1.33s\tremaining: 295ms\n",
      "818:\tlearn: 0.2769362\ttotal: 1.33s\tremaining: 294ms\n",
      "819:\tlearn: 0.2768751\ttotal: 1.33s\tremaining: 292ms\n",
      "820:\tlearn: 0.2766064\ttotal: 1.33s\tremaining: 290ms\n",
      "821:\tlearn: 0.2765604\ttotal: 1.33s\tremaining: 289ms\n",
      "822:\tlearn: 0.2762502\ttotal: 1.33s\tremaining: 287ms\n",
      "823:\tlearn: 0.2760288\ttotal: 1.33s\tremaining: 285ms\n",
      "824:\tlearn: 0.2758955\ttotal: 1.34s\tremaining: 283ms\n",
      "825:\tlearn: 0.2757815\ttotal: 1.34s\tremaining: 282ms\n",
      "826:\tlearn: 0.2756289\ttotal: 1.34s\tremaining: 280ms\n",
      "827:\tlearn: 0.2754075\ttotal: 1.34s\tremaining: 278ms\n",
      "828:\tlearn: 0.2753743\ttotal: 1.34s\tremaining: 277ms\n",
      "829:\tlearn: 0.2752005\ttotal: 1.34s\tremaining: 275ms\n",
      "830:\tlearn: 0.2751324\ttotal: 1.34s\tremaining: 273ms\n",
      "831:\tlearn: 0.2747706\ttotal: 1.34s\tremaining: 272ms\n",
      "832:\tlearn: 0.2745575\ttotal: 1.35s\tremaining: 270ms\n",
      "833:\tlearn: 0.2743241\ttotal: 1.35s\tremaining: 268ms\n",
      "834:\tlearn: 0.2742321\ttotal: 1.35s\tremaining: 267ms\n",
      "835:\tlearn: 0.2742161\ttotal: 1.35s\tremaining: 265ms\n",
      "836:\tlearn: 0.2738313\ttotal: 1.35s\tremaining: 263ms\n",
      "837:\tlearn: 0.2734284\ttotal: 1.35s\tremaining: 262ms\n",
      "838:\tlearn: 0.2734158\ttotal: 1.35s\tremaining: 260ms\n",
      "839:\tlearn: 0.2732793\ttotal: 1.35s\tremaining: 258ms\n",
      "840:\tlearn: 0.2732370\ttotal: 1.36s\tremaining: 257ms\n",
      "841:\tlearn: 0.2729867\ttotal: 1.36s\tremaining: 255ms\n",
      "842:\tlearn: 0.2727196\ttotal: 1.36s\tremaining: 253ms\n",
      "843:\tlearn: 0.2726773\ttotal: 1.36s\tremaining: 252ms\n",
      "844:\tlearn: 0.2724428\ttotal: 1.36s\tremaining: 250ms\n",
      "845:\tlearn: 0.2723083\ttotal: 1.36s\tremaining: 248ms\n",
      "846:\tlearn: 0.2722506\ttotal: 1.36s\tremaining: 247ms\n",
      "847:\tlearn: 0.2719300\ttotal: 1.36s\tremaining: 245ms\n",
      "848:\tlearn: 0.2717841\ttotal: 1.37s\tremaining: 243ms\n",
      "849:\tlearn: 0.2716554\ttotal: 1.37s\tremaining: 241ms\n",
      "850:\tlearn: 0.2713894\ttotal: 1.37s\tremaining: 240ms\n",
      "851:\tlearn: 0.2711135\ttotal: 1.37s\tremaining: 238ms\n",
      "852:\tlearn: 0.2709606\ttotal: 1.37s\tremaining: 237ms\n",
      "853:\tlearn: 0.2706563\ttotal: 1.37s\tremaining: 235ms\n",
      "854:\tlearn: 0.2703314\ttotal: 1.38s\tremaining: 233ms\n",
      "855:\tlearn: 0.2699203\ttotal: 1.38s\tremaining: 232ms\n",
      "856:\tlearn: 0.2698638\ttotal: 1.38s\tremaining: 230ms\n",
      "857:\tlearn: 0.2697766\ttotal: 1.38s\tremaining: 228ms\n",
      "858:\tlearn: 0.2696100\ttotal: 1.38s\tremaining: 227ms\n",
      "859:\tlearn: 0.2694143\ttotal: 1.38s\tremaining: 225ms\n",
      "860:\tlearn: 0.2690929\ttotal: 1.38s\tremaining: 223ms\n",
      "861:\tlearn: 0.2689167\ttotal: 1.38s\tremaining: 222ms\n",
      "862:\tlearn: 0.2687465\ttotal: 1.39s\tremaining: 220ms\n",
      "863:\tlearn: 0.2686673\ttotal: 1.39s\tremaining: 218ms\n",
      "864:\tlearn: 0.2685927\ttotal: 1.39s\tremaining: 217ms\n",
      "865:\tlearn: 0.2684890\ttotal: 1.39s\tremaining: 215ms\n",
      "866:\tlearn: 0.2684783\ttotal: 1.39s\tremaining: 213ms\n",
      "867:\tlearn: 0.2681654\ttotal: 1.39s\tremaining: 212ms\n",
      "868:\tlearn: 0.2681381\ttotal: 1.4s\tremaining: 210ms\n",
      "869:\tlearn: 0.2680225\ttotal: 1.4s\tremaining: 209ms\n",
      "870:\tlearn: 0.2676530\ttotal: 1.4s\tremaining: 207ms\n",
      "871:\tlearn: 0.2675963\ttotal: 1.4s\tremaining: 205ms\n",
      "872:\tlearn: 0.2673356\ttotal: 1.4s\tremaining: 204ms\n",
      "873:\tlearn: 0.2672976\ttotal: 1.4s\tremaining: 202ms\n",
      "874:\tlearn: 0.2672873\ttotal: 1.4s\tremaining: 201ms\n",
      "875:\tlearn: 0.2670407\ttotal: 1.41s\tremaining: 199ms\n",
      "876:\tlearn: 0.2668553\ttotal: 1.41s\tremaining: 197ms\n",
      "877:\tlearn: 0.2665791\ttotal: 1.41s\tremaining: 196ms\n",
      "878:\tlearn: 0.2663040\ttotal: 1.41s\tremaining: 194ms\n",
      "879:\tlearn: 0.2662908\ttotal: 1.41s\tremaining: 192ms\n",
      "880:\tlearn: 0.2658130\ttotal: 1.41s\tremaining: 191ms\n",
      "881:\tlearn: 0.2655332\ttotal: 1.41s\tremaining: 189ms\n",
      "882:\tlearn: 0.2653053\ttotal: 1.41s\tremaining: 187ms\n",
      "883:\tlearn: 0.2652959\ttotal: 1.42s\tremaining: 186ms\n",
      "884:\tlearn: 0.2650595\ttotal: 1.42s\tremaining: 184ms\n",
      "885:\tlearn: 0.2648475\ttotal: 1.42s\tremaining: 183ms\n",
      "886:\tlearn: 0.2646962\ttotal: 1.42s\tremaining: 181ms\n",
      "887:\tlearn: 0.2644618\ttotal: 1.42s\tremaining: 179ms\n",
      "888:\tlearn: 0.2642682\ttotal: 1.42s\tremaining: 178ms\n",
      "889:\tlearn: 0.2640782\ttotal: 1.42s\tremaining: 176ms\n",
      "890:\tlearn: 0.2640693\ttotal: 1.43s\tremaining: 174ms\n",
      "891:\tlearn: 0.2638464\ttotal: 1.43s\tremaining: 173ms\n",
      "892:\tlearn: 0.2635893\ttotal: 1.43s\tremaining: 171ms\n",
      "893:\tlearn: 0.2633765\ttotal: 1.43s\tremaining: 170ms\n",
      "894:\tlearn: 0.2632120\ttotal: 1.43s\tremaining: 168ms\n",
      "895:\tlearn: 0.2627298\ttotal: 1.43s\tremaining: 167ms\n",
      "896:\tlearn: 0.2623563\ttotal: 1.44s\tremaining: 165ms\n",
      "897:\tlearn: 0.2621228\ttotal: 1.44s\tremaining: 163ms\n",
      "898:\tlearn: 0.2618787\ttotal: 1.44s\tremaining: 162ms\n",
      "899:\tlearn: 0.2615772\ttotal: 1.44s\tremaining: 160ms\n",
      "900:\tlearn: 0.2612168\ttotal: 1.44s\tremaining: 158ms\n",
      "901:\tlearn: 0.2609222\ttotal: 1.44s\tremaining: 157ms\n",
      "902:\tlearn: 0.2609043\ttotal: 1.44s\tremaining: 155ms\n",
      "903:\tlearn: 0.2608098\ttotal: 1.45s\tremaining: 154ms\n",
      "904:\tlearn: 0.2605318\ttotal: 1.45s\tremaining: 152ms\n",
      "905:\tlearn: 0.2602586\ttotal: 1.45s\tremaining: 150ms\n",
      "906:\tlearn: 0.2599730\ttotal: 1.45s\tremaining: 149ms\n",
      "907:\tlearn: 0.2596776\ttotal: 1.45s\tremaining: 147ms\n",
      "908:\tlearn: 0.2594827\ttotal: 1.45s\tremaining: 145ms\n",
      "909:\tlearn: 0.2591932\ttotal: 1.45s\tremaining: 144ms\n",
      "910:\tlearn: 0.2591065\ttotal: 1.45s\tremaining: 142ms\n",
      "911:\tlearn: 0.2590012\ttotal: 1.46s\tremaining: 141ms\n",
      "912:\tlearn: 0.2587002\ttotal: 1.46s\tremaining: 139ms\n",
      "913:\tlearn: 0.2584980\ttotal: 1.46s\tremaining: 137ms\n",
      "914:\tlearn: 0.2583416\ttotal: 1.46s\tremaining: 136ms\n",
      "915:\tlearn: 0.2583083\ttotal: 1.46s\tremaining: 134ms\n",
      "916:\tlearn: 0.2582531\ttotal: 1.46s\tremaining: 132ms\n",
      "917:\tlearn: 0.2582268\ttotal: 1.46s\tremaining: 131ms\n",
      "918:\tlearn: 0.2579208\ttotal: 1.46s\tremaining: 129ms\n",
      "919:\tlearn: 0.2575809\ttotal: 1.47s\tremaining: 127ms\n",
      "920:\tlearn: 0.2572124\ttotal: 1.47s\tremaining: 126ms\n",
      "921:\tlearn: 0.2569467\ttotal: 1.47s\tremaining: 124ms\n",
      "922:\tlearn: 0.2568261\ttotal: 1.47s\tremaining: 123ms\n",
      "923:\tlearn: 0.2566532\ttotal: 1.47s\tremaining: 121ms\n",
      "924:\tlearn: 0.2564668\ttotal: 1.47s\tremaining: 119ms\n",
      "925:\tlearn: 0.2560569\ttotal: 1.47s\tremaining: 118ms\n",
      "926:\tlearn: 0.2557477\ttotal: 1.47s\tremaining: 116ms\n",
      "927:\tlearn: 0.2557320\ttotal: 1.47s\tremaining: 114ms\n",
      "928:\tlearn: 0.2556660\ttotal: 1.48s\tremaining: 113ms\n",
      "929:\tlearn: 0.2552721\ttotal: 1.48s\tremaining: 111ms\n",
      "930:\tlearn: 0.2550157\ttotal: 1.48s\tremaining: 110ms\n",
      "931:\tlearn: 0.2548205\ttotal: 1.48s\tremaining: 108ms\n",
      "932:\tlearn: 0.2546071\ttotal: 1.48s\tremaining: 106ms\n",
      "933:\tlearn: 0.2541808\ttotal: 1.48s\tremaining: 105ms\n",
      "934:\tlearn: 0.2540034\ttotal: 1.48s\tremaining: 103ms\n",
      "935:\tlearn: 0.2538017\ttotal: 1.48s\tremaining: 102ms\n",
      "936:\tlearn: 0.2535522\ttotal: 1.49s\tremaining: 99.9ms\n",
      "937:\tlearn: 0.2533399\ttotal: 1.49s\tremaining: 98.3ms\n",
      "938:\tlearn: 0.2532300\ttotal: 1.49s\tremaining: 96.8ms\n",
      "939:\tlearn: 0.2529064\ttotal: 1.49s\tremaining: 95.2ms\n",
      "940:\tlearn: 0.2528868\ttotal: 1.49s\tremaining: 93.6ms\n",
      "941:\tlearn: 0.2527667\ttotal: 1.49s\tremaining: 91.9ms\n",
      "942:\tlearn: 0.2526732\ttotal: 1.49s\tremaining: 90.3ms\n",
      "943:\tlearn: 0.2526264\ttotal: 1.5s\tremaining: 88.7ms\n",
      "944:\tlearn: 0.2524941\ttotal: 1.5s\tremaining: 87.1ms\n",
      "945:\tlearn: 0.2520607\ttotal: 1.5s\tremaining: 85.5ms\n",
      "946:\tlearn: 0.2520534\ttotal: 1.5s\tremaining: 83.9ms\n",
      "947:\tlearn: 0.2518952\ttotal: 1.5s\tremaining: 82.3ms\n",
      "948:\tlearn: 0.2517094\ttotal: 1.5s\tremaining: 80.7ms\n",
      "949:\tlearn: 0.2515635\ttotal: 1.5s\tremaining: 79.1ms\n",
      "950:\tlearn: 0.2513762\ttotal: 1.5s\tremaining: 77.5ms\n",
      "951:\tlearn: 0.2513187\ttotal: 1.51s\tremaining: 76ms\n",
      "952:\tlearn: 0.2511532\ttotal: 1.51s\tremaining: 74.4ms\n",
      "953:\tlearn: 0.2508474\ttotal: 1.51s\tremaining: 72.8ms\n",
      "954:\tlearn: 0.2505835\ttotal: 1.51s\tremaining: 71.2ms\n",
      "955:\tlearn: 0.2505047\ttotal: 1.51s\tremaining: 69.6ms\n",
      "956:\tlearn: 0.2501373\ttotal: 1.51s\tremaining: 68ms\n",
      "957:\tlearn: 0.2497510\ttotal: 1.51s\tremaining: 66.4ms\n",
      "958:\tlearn: 0.2495603\ttotal: 1.52s\tremaining: 64.8ms\n",
      "959:\tlearn: 0.2493471\ttotal: 1.52s\tremaining: 63.2ms\n",
      "960:\tlearn: 0.2492531\ttotal: 1.52s\tremaining: 61.6ms\n",
      "961:\tlearn: 0.2491238\ttotal: 1.52s\tremaining: 60ms\n",
      "962:\tlearn: 0.2488609\ttotal: 1.52s\tremaining: 58.5ms\n",
      "963:\tlearn: 0.2485382\ttotal: 1.52s\tremaining: 56.9ms\n",
      "964:\tlearn: 0.2483250\ttotal: 1.52s\tremaining: 55.3ms\n",
      "965:\tlearn: 0.2480720\ttotal: 1.52s\tremaining: 53.7ms\n",
      "966:\tlearn: 0.2479915\ttotal: 1.53s\tremaining: 52.1ms\n",
      "967:\tlearn: 0.2475932\ttotal: 1.53s\tremaining: 50.5ms\n",
      "968:\tlearn: 0.2473677\ttotal: 1.53s\tremaining: 48.9ms\n",
      "969:\tlearn: 0.2472327\ttotal: 1.53s\tremaining: 47.3ms\n",
      "970:\tlearn: 0.2470241\ttotal: 1.53s\tremaining: 45.7ms\n",
      "971:\tlearn: 0.2468385\ttotal: 1.53s\tremaining: 44.1ms\n",
      "972:\tlearn: 0.2465379\ttotal: 1.53s\tremaining: 42.5ms\n",
      "973:\tlearn: 0.2463244\ttotal: 1.53s\tremaining: 41ms\n",
      "974:\tlearn: 0.2460857\ttotal: 1.53s\tremaining: 39.4ms\n",
      "975:\tlearn: 0.2458214\ttotal: 1.54s\tremaining: 37.8ms\n",
      "976:\tlearn: 0.2454670\ttotal: 1.54s\tremaining: 36.2ms\n",
      "977:\tlearn: 0.2453555\ttotal: 1.54s\tremaining: 34.6ms\n",
      "978:\tlearn: 0.2453023\ttotal: 1.54s\tremaining: 33.1ms\n",
      "979:\tlearn: 0.2452211\ttotal: 1.54s\tremaining: 31.5ms\n",
      "980:\tlearn: 0.2449987\ttotal: 1.54s\tremaining: 29.9ms\n",
      "981:\tlearn: 0.2448994\ttotal: 1.54s\tremaining: 28.3ms\n",
      "982:\tlearn: 0.2447013\ttotal: 1.55s\tremaining: 26.7ms\n",
      "983:\tlearn: 0.2443270\ttotal: 1.55s\tremaining: 25.2ms\n",
      "984:\tlearn: 0.2443072\ttotal: 1.55s\tremaining: 23.6ms\n",
      "985:\tlearn: 0.2442640\ttotal: 1.55s\tremaining: 22ms\n",
      "986:\tlearn: 0.2440500\ttotal: 1.55s\tremaining: 20.4ms\n",
      "987:\tlearn: 0.2436913\ttotal: 1.55s\tremaining: 18.8ms\n",
      "988:\tlearn: 0.2435921\ttotal: 1.55s\tremaining: 17.3ms\n",
      "989:\tlearn: 0.2434485\ttotal: 1.55s\tremaining: 15.7ms\n",
      "990:\tlearn: 0.2431670\ttotal: 1.55s\tremaining: 14.1ms\n",
      "991:\tlearn: 0.2428849\ttotal: 1.56s\tremaining: 12.6ms\n",
      "992:\tlearn: 0.2426073\ttotal: 1.56s\tremaining: 11ms\n",
      "993:\tlearn: 0.2423197\ttotal: 1.56s\tremaining: 9.41ms\n",
      "994:\tlearn: 0.2423111\ttotal: 1.56s\tremaining: 7.84ms\n",
      "995:\tlearn: 0.2422150\ttotal: 1.56s\tremaining: 6.27ms\n",
      "996:\tlearn: 0.2422059\ttotal: 1.56s\tremaining: 4.7ms\n",
      "997:\tlearn: 0.2419798\ttotal: 1.56s\tremaining: 3.13ms\n",
      "998:\tlearn: 0.2418018\ttotal: 1.57s\tremaining: 1.57ms\n",
      "999:\tlearn: 0.2417393\ttotal: 1.57s\tremaining: 0us\n"
     ]
    }
   ],
   "source": [
    "catb_tuned = CatBoostRegressor(iterations = 1000, \n",
    "                               learning_rate = 0.03, \n",
    "                               depth = 6)\n",
    "\n",
    "catb_tuned = catb_tuned.fit(X_train,y_train)"
   ]
  },
  {
   "cell_type": "code",
   "execution_count": 230,
   "id": "aac96b61-b5e6-4dd6-bc3b-70c85f7c5967",
   "metadata": {},
   "outputs": [
    {
     "data": {
      "text/plain": [
       "0.547235069416251"
      ]
     },
     "execution_count": 230,
     "metadata": {},
     "output_type": "execute_result"
    }
   ],
   "source": [
    "y_pred = catb_tuned.predict(X_test)\n",
    "np.sqrt(mean_squared_error(y_test, y_pred))"
   ]
  },
  {
   "cell_type": "code",
   "execution_count": 231,
   "id": "4c89d1e2-f4a3-4a4a-b765-d8b3c0ad7745",
   "metadata": {},
   "outputs": [],
   "source": [
    "#CatBoost algoritmasıyla model kurularak doğu parmetre bulundu ve en iyi sapma değeri belirlendi."
   ]
  },
  {
   "cell_type": "code",
   "execution_count": 232,
   "id": "64f63174-fe43-42ba-9b53-b6dc9cefbdda",
   "metadata": {},
   "outputs": [],
   "source": [
    "Importance = pd.DataFrame({\"Importance\": catb_tuned.feature_importances_*100},\n",
    "                         index = X_train.columns)"
   ]
  },
  {
   "cell_type": "code",
   "execution_count": 233,
   "id": "92a7778f-21c1-464d-b4bb-5a823b0af010",
   "metadata": {},
   "outputs": [
    {
     "data": {
      "text/plain": [
       "Text(0.5, 0, 'Değişken Önem Düzeyleri')"
      ]
     },
     "execution_count": 233,
     "metadata": {},
     "output_type": "execute_result"
    },
    {
     "data": {
      "image/png": "[encoded data removed]",
      "text/plain": [
       "<Figure size 432x288 with 1 Axes>"
      ]
     },
     "metadata": {
      "needs_background": "light"
     },
     "output_type": "display_data"
    }
   ],
   "source": [
    "Importance.sort_values(by = \"Importance\", \n",
    "                       axis = 0, \n",
    "                       ascending = True).plot(kind =\"barh\", color = \"r\")\n",
    "\n",
    "plt.xlabel(\"Değişken Önem Düzeyleri\")"
   ]
  },
  {
   "cell_type": "code",
   "execution_count": 234,
   "id": "223babe0-9528-4676-aca2-687ad4c7ef7f",
   "metadata": {},
   "outputs": [
    {
     "name": "stdout",
     "output_type": "stream",
     "text": [
      "----------------------------\n",
      "KNeighborsRegressor:\n",
      "0.6694351394197087\n",
      "----------------------------\n",
      "DecisionTreeRegressor:\n",
      "0.6243867331378606\n",
      "----------------------------\n",
      "RandomForestRegressor:\n",
      "0.5404122915466176\n",
      "----------------------------\n",
      "GradientBoostingRegressor:\n",
      "0.5666339407402485\n",
      "----------------------------\n",
      "CatBoostRegressor:\n",
      "0.547235069416251\n",
      "----------------------------\n",
      "XGBRegressor:\n",
      "0.5348524522587411\n"
     ]
    }
   ],
   "source": [
    "modeller = [\n",
    "    \n",
    "    knn_tuned,\n",
    "    cart_tuned,\n",
    "    rf_tuned,\n",
    "    gbm_tuned,\n",
    "    catb_tuned,\n",
    "    xgb_tuned\n",
    "    \n",
    "]\n",
    "\n",
    "\n",
    "for model in modeller:\n",
    "    isimler = model.__class__.__name__\n",
    "    y_pred = model.predict(X_test)\n",
    "    dogruluk = np.sqrt(mean_squared_error(y_test, y_pred))\n",
    "    print(\"-\"*28)\n",
    "    print(isimler + \":\" )\n",
    "    print(dogruluk)"
   ]
  },
  {
   "cell_type": "code",
   "execution_count": 235,
   "id": "b0acaf68-70a2-4b9a-8b1d-fce912f638fd",
   "metadata": {},
   "outputs": [
    {
     "data": {
      "image/png": "[encoded data removed]",
      "text/plain": [
       "<Figure size 1800x720 with 1 Axes>"
      ]
     },
     "metadata": {},
     "output_type": "display_data"
    }
   ],
   "source": [
    "sonuc = []\n",
    "\n",
    "sonuclar = pd.DataFrame(columns= [\"Modeller\",\"Accuracy\"])\n",
    "\n",
    "for model in modeller:\n",
    "    isimler = model.__class__.__name__\n",
    "    y_pred = model.predict(X_test)\n",
    "    dogruluk = np.sqrt(mean_squared_error(y_test, y_pred))\n",
    "    sonuc = pd.DataFrame([[isimler, dogruluk]], columns= [\"Modeller\",\"Accuracy\"])\n",
    "    sonuclar = sonuclar.append(sonuc)\n",
    "\n",
    "sns.set(rc={'figure.figsize':(25,10)})    \n",
    "plot=sns.barplot(x= 'Modeller', y = 'Accuracy', data=sonuclar, color=\"r\")\n",
    "\n",
    "for p in plot.patches:\n",
    "    plot.annotate(format(p.get_height(), '.1f'), \n",
    "                   (p.get_x() + p.get_width()/2, p.get_height()), \n",
    "                   ha = 'center', va = 'center', \n",
    "                   xytext = (0, 8), \n",
    "                   textcoords = 'offset points')\n",
    "plt.ylabel('Accuracy %')\n",
    "plt.title('Modellerin Doğruluk Oranları'); "
   ]
  },
  {
   "cell_type": "code",
   "execution_count": 236,
   "id": "ea95b148-42be-4dd4-a4bf-d4422f99cb0b",
   "metadata": {},
   "outputs": [],
   "source": [
    "#kulladığım tuned edilmiş modellerin çıktılarını ortak bir şekilde inceledim"
   ]
  },
  {
   "cell_type": "code",
   "execution_count": null,
   "id": "af7db383-fd40-4599-a3ea-934c665b45a2",
   "metadata": {},
   "outputs": [],
   "source": []
  }
 ],
 "metadata": {
  "kernelspec": {
   "display_name": "Python 3 (ipykernel)",
   "language": "python",
   "name": "python3"
  },
  "language_info": {
   "codemirror_mode": {
    "name": "ipython",
    "version": 3
   },
   "file_extension": ".py",
   "mimetype": "text/x-python",
   "name": "python",
   "nbconvert_exporter": "python",
   "pygments_lexer": "ipython3",
   "version": "3.9.7"
  }
 },
 "nbformat": 4,
 "nbformat_minor": 5
}
